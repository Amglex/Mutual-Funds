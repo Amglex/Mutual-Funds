{
 "cells": [
  {
   "cell_type": "markdown",
   "metadata": {},
   "source": [
    "# Project Overview"
   ]
  },
  {
   "cell_type": "markdown",
   "metadata": {},
   "source": [
    "## Description "
   ]
  },
  {
   "cell_type": "markdown",
   "metadata": {},
   "source": [
    "I. **Sample**\n",
    "\n",
    "- Actively managed US equity funds from 2010 - 2018\n",
    "- Yearly clustering with around 2,000 unique funds and around 6,000 relevant securities per year \n",
    "- Clustering based on large sparse matrix indicating how much percent of a portfolio is invested in a certain stock\n",
    "- Sparse matrix normailzed using L2 norm for even vector length\n",
    "\n",
    "II. **Classification**\n",
    "\n",
    "- Using knn to train on the whole sample but one fund\n",
    "- Predict the class of the one out-of-sample fund \n",
    "- Train again but on the updated sample\n",
    "- Repeat until all funds are predicted once\n",
    "\n",
    "\n",
    "III. **Evaluation of clusters**\n",
    "\n",
    "- Using K-Means, Spectral Clustering and Self-Organizing-Maps with K-Means\n",
    "\n",
    "\n",
    "- **I. Cluster metrics**\n",
    "- Silhouette score (larger better)\n",
    "- Davies-Bouldin Index (smaller better)\n",
    "\n",
    "\n",
    "- **II. Following one year monthly returns**\n",
    "- Simulation of risk and return for an equally weighted portfolio of all clusters\n",
    "- Median tracking error volatility between a fund and the average return of its assigned cluster\n",
    "\n",
    "Note: Scores are avereged out over several years weighted by the number of funds per year\n",
    "\n",
    "III. **Results**\n",
    "\n",
    "- **Classification:**\n",
    "\n",
    "- Existing Lipper classes can not easily be improved using an iterative k-nn approach.\n",
    "- Main Problem is the unbalanced nature of the lipper classes\n",
    "\n",
    "- **Clustering:**\n",
    "\n",
    "- Clusters seem to be formed quit in line with the lipper Dimensions of Style and Marketcap\n",
    "- SOM with k-means seems to perform best\n",
    "- Results of SOM with k-means could be in line or better than actual Lipper clusters with **far fewer information and without explicit rules**\n",
    "\n",
    "- **NEXT:** Similar to active share we could test whether funds that deviate with their holdings from their cluster center outperform those funds near the cluster center"
   ]
  },
  {
   "cell_type": "markdown",
   "metadata": {},
   "source": [
    "## Data"
   ]
  },
  {
   "cell_type": "markdown",
   "metadata": {},
   "source": [
    "### Summary Table - Averages for Lipper classes"
   ]
  },
  {
   "cell_type": "code",
   "execution_count": null,
   "metadata": {},
   "outputs": [],
   "source": [
    "temp"
   ]
  },
  {
   "cell_type": "markdown",
   "metadata": {},
   "source": [
    "### Summary Table - Average return over the years"
   ]
  },
  {
   "cell_type": "code",
   "execution_count": null,
   "metadata": {},
   "outputs": [],
   "source": [
    "temp"
   ]
  },
  {
   "cell_type": "markdown",
   "metadata": {},
   "source": [
    "## Classification"
   ]
  },
  {
   "cell_type": "code",
   "execution_count": null,
   "metadata": {},
   "outputs": [],
   "source": []
  },
  {
   "cell_type": "code",
   "execution_count": null,
   "metadata": {},
   "outputs": [],
   "source": [
    "weighted_average_score(results).query(''' distance_param == 2 and n_neighbors == 25 and weights == 'distance'  ''' ).sort_values(0.5)"
   ]
  },
  {
   "cell_type": "markdown",
   "metadata": {},
   "source": [
    "## Clustering"
   ]
  },
  {
   "cell_type": "code",
   "execution_count": null,
   "metadata": {},
   "outputs": [],
   "source": [
    "result"
   ]
  },
  {
   "cell_type": "markdown",
   "metadata": {},
   "source": [
    "#### Overview of SOM with k-means and 9 clusters "
   ]
  },
  {
   "cell_type": "code",
   "execution_count": null,
   "metadata": {},
   "outputs": [],
   "source": [
    "sns.set_style(\"whitegrid\")\n",
    "sns.set_style(\"ticks\", {\"xtick.major.size\": 14, \"ytick.major.size\": 14})\n",
    "\n",
    "plot_cluster_wrapper(row_info_f)"
   ]
  },
  {
   "cell_type": "markdown",
   "metadata": {},
   "source": [
    "### Overview of SOM"
   ]
  },
  {
   "cell_type": "code",
   "execution_count": null,
   "metadata": {},
   "outputs": [],
   "source": []
  },
  {
   "cell_type": "code",
   "execution_count": null,
   "metadata": {},
   "outputs": [],
   "source": []
  },
  {
   "cell_type": "code",
   "execution_count": null,
   "metadata": {},
   "outputs": [],
   "source": []
  },
  {
   "cell_type": "code",
   "execution_count": null,
   "metadata": {},
   "outputs": [],
   "source": []
  }
 ],
 "metadata": {
  "hide_input": true,
  "kernelspec": {
   "display_name": "MT",
   "language": "python",
   "name": "mt"
  },
  "language_info": {
   "codemirror_mode": {
    "name": "ipython",
    "version": 3
   },
   "file_extension": ".py",
   "mimetype": "text/x-python",
   "name": "python",
   "nbconvert_exporter": "python",
   "pygments_lexer": "ipython3",
   "version": "3.7.4"
  },
  "toc": {
   "base_numbering": 1,
   "nav_menu": {},
   "number_sections": true,
   "sideBar": true,
   "skip_h1_title": true,
   "title_cell": "Table of Contents",
   "title_sidebar": "Contents",
   "toc_cell": false,
   "toc_position": {
    "height": "calc(100% - 180px)",
    "left": "10px",
    "top": "150px",
    "width": "167.43206787109375px"
   },
   "toc_section_display": true,
   "toc_window_display": false
  }
 },
 "nbformat": 4,
 "nbformat_minor": 2
}
