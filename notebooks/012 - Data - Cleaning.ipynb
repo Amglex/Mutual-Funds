{
 "cells": [
  {
   "cell_type": "markdown",
   "metadata": {},
   "source": [
    "# Clean Data"
   ]
  },
  {
   "cell_type": "markdown",
   "metadata": {},
   "source": [
    "### Description:\n",
    "\n",
    "Filter the three main data sources (Fund Info, Returns and Holdings)\n",
    "based on some parameters and save the result.\n",
    "\n",
    "Approach:\n",
    "1. Match fund summary to each portfolio/date pair\n",
    "2. Filter fund/date pairs based on those infos\n",
    "3. Filter returns based on final sample of holdings\n",
    "4. Save different versions of the files with different timeframes\n",
    "\n",
    "Parameters: \n",
    "- Lipper_class\n",
    "- Flags"
   ]
  },
  {
   "cell_type": "markdown",
   "metadata": {},
   "source": [
    "## Setup\n",
    "### All options for filtering the data"
   ]
  },
  {
   "cell_type": "code",
   "execution_count": 37,
   "metadata": {},
   "outputs": [],
   "source": [
    "%matplotlib inline\n",
    "\n",
    "import os\n",
    "import sys\n",
    "\n",
    "import feather\n",
    "import pandasql as ps\n",
    "import numpy as np\n",
    "import pandas as pd\n",
    "from scipy import sparse\n",
    "import datetime\n",
    "\n",
    "import matplotlib.pyplot as plt"
   ]
  },
  {
   "cell_type": "code",
   "execution_count": 38,
   "metadata": {},
   "outputs": [],
   "source": [
    "options = {\n",
    "    'sub_sample_start_date'      : datetime.date.fromisoformat('2015-01-01'),\n",
    "    'sub_sample_end_date'        : datetime.date.fromisoformat('2018-01-01'),\n",
    "    'min_per_com'                : 80,\n",
    "    'min_tna_latest'             : 10,\n",
    "    'min_observations_per_stock' : 50,\n",
    "    'selected_obj_codes'         : ('EIEI', 'G', \n",
    "                                    'LCCE', 'LCGE', 'LCVE',   # Large-cap\n",
    "                                    'MCCE', 'MCGE', 'MCVE',   # Mid-cap\n",
    "                                    'MLCE', 'MLGE', 'MLVE',   # Multi-cap\n",
    "                                    'SCCE', 'SCGE', 'SCVE')   # Small-cap\n",
    "}\n",
    "\n",
    "\n"
   ]
  },
  {
   "cell_type": "markdown",
   "metadata": {},
   "source": [
    "### Load the data files"
   ]
  },
  {
   "cell_type": "code",
   "execution_count": 39,
   "metadata": {},
   "outputs": [],
   "source": [
    "# Holdings data\n",
    "\n",
    "npz_path = '../data/interim/sparse_matrix.npz'      # Preprocessed holdings data (see notebook 011)\n",
    "holdings = sparse.load_npz(npz_path)\n",
    "\n",
    "path = '../data/interim/row_info.feather'\n",
    "row_info = feather.read_dataframe(path)\n",
    "\n",
    "path = '../data/interim/col_info.feather'\n",
    "col_info = feather.read_dataframe(path)\n",
    "\n",
    "# Fund summary data\n",
    "\n",
    "path = '../data/raw/total_summary.feather'\n",
    "fund_info = feather.read_dataframe(path)     # Downloaded from wrds\n",
    "\n",
    "path = '../data/raw/fund_summay.feather'\n",
    "fund_summary = feather.read_dataframe(path)     # Downloaded from wrds\n",
    "\n",
    "path = '../data/raw/portno_map.feather'\n",
    "portno_map = feather.read_dataframe(path)\n",
    "\n",
    "path = '../data/raw/fund_style.feather'\n",
    "fund_style = feather.read_dataframe(path)\n",
    "\n",
    "# Returns data\n",
    "path = '../data/raw/monthly_returns.feather'\n",
    "returns = feather.read_dataframe(path)   # Downloaded from wrds"
   ]
  },
  {
   "cell_type": "markdown",
   "metadata": {},
   "source": [
    "## Fix all data types"
   ]
  },
  {
   "cell_type": "markdown",
   "metadata": {},
   "source": [
    "#### Fund info"
   ]
  },
  {
   "cell_type": "code",
   "execution_count": 40,
   "metadata": {},
   "outputs": [
    {
     "data": {
      "text/plain": [
       "crsp_fundno        float64\n",
       "crsp_portno        float64\n",
       "fund_name           object\n",
       "first_offer_dt      object\n",
       "index_fund_flag     object\n",
       "et_flag             object\n",
       "begdt               object\n",
       "enddt               object\n",
       "lipper_class        object\n",
       "avrcs              float64\n",
       "dtype: object"
      ]
     },
     "execution_count": 40,
     "metadata": {},
     "output_type": "execute_result"
    }
   ],
   "source": [
    "fund_info.dtypes"
   ]
  },
  {
   "cell_type": "code",
   "execution_count": 41,
   "metadata": {},
   "outputs": [],
   "source": [
    "fund_info.drop(columns= ['lipper_class','avrcs'],inplace=True)"
   ]
  },
  {
   "cell_type": "code",
   "execution_count": 42,
   "metadata": {},
   "outputs": [],
   "source": [
    "fund_info.dropna(subset = ['crsp_portno','crsp_fundno'], inplace=True)\n",
    "fund_info[['crsp_fundno','crsp_portno']] = pd.DataFrame(fund_info[['crsp_fundno','crsp_portno']],dtype=np.int64)\n",
    "\n",
    "columns = ['first_offer_dt','begdt','enddt']\n",
    "fund_info[columns] = fund_info[columns].apply(pd.to_datetime)"
   ]
  },
  {
   "cell_type": "code",
   "execution_count": 43,
   "metadata": {},
   "outputs": [],
   "source": [
    "fund_info.loc[fund_info['et_flag'].isna(),'et_flag'] = 'MF'\n",
    "fund_info.loc[fund_info['index_fund_flag'].isna(),'index_fund_flag'] = 'MF'"
   ]
  },
  {
   "cell_type": "code",
   "execution_count": 44,
   "metadata": {},
   "outputs": [],
   "source": [
    "columns = ['et_flag','index_fund_flag']\n",
    "fund_info[columns] = fund_info[columns].astype('category')\n",
    "\n",
    "#fund_info[fund_info['style'] == 'EIEI'] = 'LCVE'\n",
    "#fund_info[fund_info['style'] == 'G'] = 'LCGE'"
   ]
  },
  {
   "cell_type": "code",
   "execution_count": 45,
   "metadata": {},
   "outputs": [],
   "source": [
    "et_mapper = {'F':'ETF', 'N':'ETN', 'MF':'MF'}\n",
    "fund_info['et_flag'] = fund_info['et_flag'].cat.rename_categories(et_mapper)\n",
    "\n",
    "index_flag_mapper = {'B':'Index-based', 'D':'Pure Index', 'E':'Index enhanced', 'MF':'MF'}\n",
    "fund_info['index_fund_flag'] = fund_info['index_fund_flag'].map(index_flag_mapper)"
   ]
  },
  {
   "cell_type": "markdown",
   "metadata": {},
   "source": [
    "#### Fund summary"
   ]
  },
  {
   "cell_type": "code",
   "execution_count": 46,
   "metadata": {},
   "outputs": [],
   "source": [
    "fund_summary[['crsp_fundno']] = pd.DataFrame(fund_summary[['crsp_fundno']],dtype=np.int64)\n",
    "columns = ['nav_latest','tna_latest','per_com']\n",
    "fund_summary[columns] = pd.DataFrame(fund_summary[columns],dtype=np.float64)\n",
    "\n",
    "columns = ['caldt','nav_latest_dt','tna_latest_dt']\n",
    "fund_summary[columns] = fund_summary[columns].apply(pd.to_datetime)"
   ]
  },
  {
   "cell_type": "markdown",
   "metadata": {},
   "source": [
    "#### Fund style"
   ]
  },
  {
   "cell_type": "code",
   "execution_count": 47,
   "metadata": {},
   "outputs": [],
   "source": [
    "fund_style['crsp_fundno'] = fund_style['crsp_fundno'].astype('int64')\n",
    "\n",
    "columns = ['begdt','enddt']\n",
    "fund_style[columns] = fund_style[columns].apply(pd.to_datetime)\n",
    "\n",
    "fund_style['cap_class'] = fund_style['lipper_class'].astype(str).str[0]\n",
    "fund_style['style_class'] = fund_style['lipper_class'].astype(str).str[2]\n",
    "fund_style.loc[\n",
    "    ~fund_style['lipper_class'].isin(options.get('selected_obj_codes')),\n",
    "    ['cap_class','style_class']] = np.NaN\n",
    "\n",
    "columns = ['lipper_class','lipper_obj_cd','cap_class','style_class']\n",
    "fund_style[columns] = fund_style[columns].astype('category')"
   ]
  },
  {
   "cell_type": "markdown",
   "metadata": {},
   "source": [
    "#### Return"
   ]
  },
  {
   "cell_type": "code",
   "execution_count": 48,
   "metadata": {},
   "outputs": [],
   "source": [
    "returns['caldt'] =  pd.to_datetime(returns['caldt'])"
   ]
  },
  {
   "cell_type": "markdown",
   "metadata": {},
   "source": [
    "#### Portnomap"
   ]
  },
  {
   "cell_type": "code",
   "execution_count": 49,
   "metadata": {},
   "outputs": [],
   "source": [
    "columns = ['crsp_fundno','crsp_portno']\n",
    "portno_map[columns] = pd.DataFrame(portno_map[columns],dtype=np.int64)\n",
    "\n",
    "columns = ['begdt','enddt']\n",
    "portno_map[columns] = portno_map[columns].apply(pd.to_datetime)"
   ]
  },
  {
   "cell_type": "markdown",
   "metadata": {},
   "source": [
    "### Filter based on fund summary"
   ]
  },
  {
   "cell_type": "code",
   "execution_count": 73,
   "metadata": {},
   "outputs": [
    {
     "data": {
      "text/html": [
       "<div>\n",
       "<style scoped>\n",
       "    .dataframe tbody tr th:only-of-type {\n",
       "        vertical-align: middle;\n",
       "    }\n",
       "\n",
       "    .dataframe tbody tr th {\n",
       "        vertical-align: top;\n",
       "    }\n",
       "\n",
       "    .dataframe thead th {\n",
       "        text-align: right;\n",
       "    }\n",
       "</style>\n",
       "<table border=\"1\" class=\"dataframe\">\n",
       "  <thead>\n",
       "    <tr style=\"text-align: right;\">\n",
       "      <th></th>\n",
       "      <th>crsp_fundno</th>\n",
       "      <th>caldt</th>\n",
       "      <th>summary_period</th>\n",
       "      <th>nav_latest</th>\n",
       "      <th>nav_latest_dt</th>\n",
       "      <th>tna_latest</th>\n",
       "      <th>tna_latest_dt</th>\n",
       "      <th>per_com</th>\n",
       "    </tr>\n",
       "  </thead>\n",
       "  <tbody>\n",
       "    <tr>\n",
       "      <th>1325789</th>\n",
       "      <td>41762</td>\n",
       "      <td>2010-09-30</td>\n",
       "      <td>Q</td>\n",
       "      <td>14.44</td>\n",
       "      <td>2010-09-30</td>\n",
       "      <td>0.2</td>\n",
       "      <td>2010-09-30</td>\n",
       "      <td>52.58</td>\n",
       "    </tr>\n",
       "  </tbody>\n",
       "</table>\n",
       "</div>"
      ],
      "text/plain": [
       "         crsp_fundno      caldt summary_period  nav_latest nav_latest_dt  \\\n",
       "1325789        41762 2010-09-30              Q       14.44    2010-09-30   \n",
       "\n",
       "         tna_latest tna_latest_dt  per_com  \n",
       "1325789         0.2    2010-09-30    52.58  "
      ]
     },
     "execution_count": 73,
     "metadata": {},
     "output_type": "execute_result"
    }
   ],
   "source": [
    "fund_summary.sample()"
   ]
  },
  {
   "cell_type": "code",
   "execution_count": 122,
   "metadata": {},
   "outputs": [],
   "source": [
    "sqlcode = '''\n",
    "    SELECT fund_summary.caldt, fund_summary.crsp_fundno, fund_summary.tna_latest, fund_summary.per_com,\n",
    "    portno_map.begdt, portno_map.enddt, portno_map.crsp_portno, portno_map.crsp_fundno\n",
    "    FROM fund_summary\n",
    "    INNER JOIN portno_map \n",
    "    ON fund_summary.crsp_fundno = portno_map.crsp_fundno\n",
    "    AND caldt BETWEEN portno_map.begdt AND portno_map.enddt;\n",
    "'''\n",
    "\n",
    "fund_summary_merged = ps.sqldf(sqlcode,locals())\n",
    "\n",
    "columns = ['caldt','begdt','enddt']\n",
    "fund_summary_merged[columns] = fund_summary_merged[columns].apply(pd.to_datetime)\n",
    "\n",
    "fund_summary_merged = (fund_summary_merged\n",
    "                           .groupby(['caldt','crsp_portno'])\n",
    "                           .agg({'per_com': ['mean'],\n",
    "                                 'tna_latest': ['sum']}))\n",
    "\n",
    "fund_summary_merged.columns = fund_summary_merged.columns.droplevel(1)\n",
    "\n",
    "fund_summary_merged = fund_summary_merged.query(\n",
    "                            'per_com > {} and tna_latest > {}'.format(options.get('min_per_com'),\n",
    "                                                                      options.get('min_tna_latest')))"
   ]
  },
  {
   "cell_type": "markdown",
   "metadata": {},
   "source": [
    "### Filter based on fund info"
   ]
  },
  {
   "cell_type": "code",
   "execution_count": 16,
   "metadata": {},
   "outputs": [],
   "source": [
    "fund_info = fund_info.query('''index_fund_flag == 'MF' and et_flag == 'MF' ''')"
   ]
  },
  {
   "cell_type": "markdown",
   "metadata": {},
   "source": [
    "### Filter based on fund style"
   ]
  },
  {
   "cell_type": "code",
   "execution_count": 127,
   "metadata": {},
   "outputs": [],
   "source": [
    "fund_style = fund_style[fund_style['lipper_class'].isin(options.get('selected_obj_codes'))]"
   ]
  },
  {
   "cell_type": "markdown",
   "metadata": {},
   "source": [
    "### Filter based on holdings"
   ]
  },
  {
   "cell_type": "code",
   "execution_count": 18,
   "metadata": {},
   "outputs": [],
   "source": [
    "# TODO"
   ]
  },
  {
   "cell_type": "markdown",
   "metadata": {},
   "source": [
    "## Merge"
   ]
  },
  {
   "cell_type": "markdown",
   "metadata": {},
   "source": [
    "### Merge Fund style and fund hdr"
   ]
  },
  {
   "cell_type": "code",
   "execution_count": 131,
   "metadata": {},
   "outputs": [
    {
     "data": {
      "text/html": [
       "<div>\n",
       "<style scoped>\n",
       "    .dataframe tbody tr th:only-of-type {\n",
       "        vertical-align: middle;\n",
       "    }\n",
       "\n",
       "    .dataframe tbody tr th {\n",
       "        vertical-align: top;\n",
       "    }\n",
       "\n",
       "    .dataframe thead th {\n",
       "        text-align: right;\n",
       "    }\n",
       "</style>\n",
       "<table border=\"1\" class=\"dataframe\">\n",
       "  <thead>\n",
       "    <tr style=\"text-align: right;\">\n",
       "      <th></th>\n",
       "      <th>crsp_fundno</th>\n",
       "      <th>crsp_portno</th>\n",
       "      <th>fund_name</th>\n",
       "      <th>first_offer_dt</th>\n",
       "      <th>index_fund_flag</th>\n",
       "      <th>et_flag</th>\n",
       "      <th>begdt</th>\n",
       "      <th>enddt</th>\n",
       "    </tr>\n",
       "  </thead>\n",
       "  <tbody>\n",
       "    <tr>\n",
       "      <th>134046</th>\n",
       "      <td>48084</td>\n",
       "      <td>1029231</td>\n",
       "      <td>American Funds Insurance Series: International...</td>\n",
       "      <td>2008-11-18</td>\n",
       "      <td>MF</td>\n",
       "      <td>MF</td>\n",
       "      <td>2016-10-14</td>\n",
       "      <td>2019-03-31</td>\n",
       "    </tr>\n",
       "  </tbody>\n",
       "</table>\n",
       "</div>"
      ],
      "text/plain": [
       "        crsp_fundno  crsp_portno  \\\n",
       "134046        48084      1029231   \n",
       "\n",
       "                                                fund_name first_offer_dt  \\\n",
       "134046  American Funds Insurance Series: International...     2008-11-18   \n",
       "\n",
       "       index_fund_flag et_flag      begdt      enddt  \n",
       "134046              MF      MF 2016-10-14 2019-03-31  "
      ]
     },
     "execution_count": 131,
     "metadata": {},
     "output_type": "execute_result"
    }
   ],
   "source": [
    "fund_info.sample()"
   ]
  },
  {
   "cell_type": "code",
   "execution_count": null,
   "metadata": {},
   "outputs": [],
   "source": [
    "sqlcode = '''\n",
    "    SELECT fund_summary.caldt, fund_summary.crsp_fundno, fund_summary.tna_latest, fund_summary.per_com,\n",
    "    portno_map.begdt, portno_map.enddt, portno_map.crsp_portno, portno_map.crsp_fundno\n",
    "    FROM fund_summary\n",
    "    INNER JOIN portno_map \n",
    "    ON fund_summary.crsp_fundno = portno_map.crsp_fundno\n",
    "    AND caldt BETWEEN portno_map.begdt AND portno_map.enddt;\n",
    "'''\n",
    "\n",
    "fund_summary_merged = ps.sqldf(sqlcode,locals())"
   ]
  },
  {
   "cell_type": "code",
   "execution_count": null,
   "metadata": {},
   "outputs": [],
   "source": []
  },
  {
   "cell_type": "code",
   "execution_count": null,
   "metadata": {},
   "outputs": [],
   "source": []
  },
  {
   "cell_type": "code",
   "execution_count": null,
   "metadata": {},
   "outputs": [],
   "source": []
  },
  {
   "cell_type": "code",
   "execution_count": 19,
   "metadata": {},
   "outputs": [
    {
     "data": {
      "text/html": [
       "<div>\n",
       "<style scoped>\n",
       "    .dataframe tbody tr th:only-of-type {\n",
       "        vertical-align: middle;\n",
       "    }\n",
       "\n",
       "    .dataframe tbody tr th {\n",
       "        vertical-align: top;\n",
       "    }\n",
       "\n",
       "    .dataframe thead th {\n",
       "        text-align: right;\n",
       "    }\n",
       "</style>\n",
       "<table border=\"1\" class=\"dataframe\">\n",
       "  <thead>\n",
       "    <tr style=\"text-align: right;\">\n",
       "      <th></th>\n",
       "      <th>crsp_fundno</th>\n",
       "      <th>crsp_portno</th>\n",
       "      <th>begdt</th>\n",
       "      <th>enddt</th>\n",
       "    </tr>\n",
       "  </thead>\n",
       "  <tbody>\n",
       "    <tr>\n",
       "      <th>75199</th>\n",
       "      <td>94566</td>\n",
       "      <td>1050877</td>\n",
       "      <td>2018-12-01</td>\n",
       "      <td>2018-12-31</td>\n",
       "    </tr>\n",
       "  </tbody>\n",
       "</table>\n",
       "</div>"
      ],
      "text/plain": [
       "       crsp_fundno  crsp_portno      begdt      enddt\n",
       "75199        94566      1050877 2018-12-01 2018-12-31"
      ]
     },
     "execution_count": 19,
     "metadata": {},
     "output_type": "execute_result"
    }
   ],
   "source": [
    "portno_map.sample()"
   ]
  },
  {
   "cell_type": "code",
   "execution_count": 20,
   "metadata": {},
   "outputs": [
    {
     "data": {
      "text/html": [
       "<div>\n",
       "<style scoped>\n",
       "    .dataframe tbody tr th:only-of-type {\n",
       "        vertical-align: middle;\n",
       "    }\n",
       "\n",
       "    .dataframe tbody tr th {\n",
       "        vertical-align: top;\n",
       "    }\n",
       "\n",
       "    .dataframe thead th {\n",
       "        text-align: right;\n",
       "    }\n",
       "</style>\n",
       "<table border=\"1\" class=\"dataframe\">\n",
       "  <thead>\n",
       "    <tr style=\"text-align: right;\">\n",
       "      <th></th>\n",
       "      <th>crsp_portno</th>\n",
       "      <th>report_dt</th>\n",
       "      <th>port_id</th>\n",
       "    </tr>\n",
       "  </thead>\n",
       "  <tbody>\n",
       "    <tr>\n",
       "      <th>44562</th>\n",
       "      <td>1001537</td>\n",
       "      <td>2006-06-30</td>\n",
       "      <td>1001537016982</td>\n",
       "    </tr>\n",
       "  </tbody>\n",
       "</table>\n",
       "</div>"
      ],
      "text/plain": [
       "       crsp_portno  report_dt        port_id\n",
       "44562      1001537 2006-06-30  1001537016982"
      ]
     },
     "execution_count": 20,
     "metadata": {},
     "output_type": "execute_result"
    }
   ],
   "source": [
    "row_info.sample()"
   ]
  },
  {
   "cell_type": "code",
   "execution_count": 132,
   "metadata": {},
   "outputs": [],
   "source": [
    "sqlcode = '''\n",
    "select row_info.crsp_portno, row_info.report_dt, \n",
    "portno_map.begdt, portno_map.enddt, portno_map.crsp_portno, portno_map.crsp_fundno\n",
    "from row_info \n",
    "inner join portno_map \n",
    "on row_info.crsp_portno = portno_map.crsp_portno\n",
    "and row_info.report_dt between portno_map.begdt and portno_map.enddt;\n",
    "'''\n",
    "\n",
    "row_info_merged = ps.sqldf(sqlcode,locals())"
   ]
  },
  {
   "cell_type": "code",
   "execution_count": 133,
   "metadata": {},
   "outputs": [],
   "source": [
    "columns = ['report_dt','begdt','enddt']\n",
    "row_info_merged[columns] = row_info_merged[columns].apply(pd.to_datetime)"
   ]
  },
  {
   "cell_type": "code",
   "execution_count": 134,
   "metadata": {},
   "outputs": [
    {
     "data": {
      "text/html": [
       "<div>\n",
       "<style scoped>\n",
       "    .dataframe tbody tr th:only-of-type {\n",
       "        vertical-align: middle;\n",
       "    }\n",
       "\n",
       "    .dataframe tbody tr th {\n",
       "        vertical-align: top;\n",
       "    }\n",
       "\n",
       "    .dataframe thead th {\n",
       "        text-align: right;\n",
       "    }\n",
       "</style>\n",
       "<table border=\"1\" class=\"dataframe\">\n",
       "  <thead>\n",
       "    <tr style=\"text-align: right;\">\n",
       "      <th></th>\n",
       "      <th>crsp_portno</th>\n",
       "      <th>report_dt</th>\n",
       "      <th>begdt</th>\n",
       "      <th>enddt</th>\n",
       "      <th>crsp_portno</th>\n",
       "      <th>crsp_fundno</th>\n",
       "    </tr>\n",
       "  </thead>\n",
       "  <tbody>\n",
       "    <tr>\n",
       "      <th>1817655</th>\n",
       "      <td>1029847</td>\n",
       "      <td>2011-12-31</td>\n",
       "      <td>2010-06-30</td>\n",
       "      <td>2018-12-31</td>\n",
       "      <td>1029847</td>\n",
       "      <td>47593</td>\n",
       "    </tr>\n",
       "    <tr>\n",
       "      <th>1924142</th>\n",
       "      <td>1031156</td>\n",
       "      <td>2013-06-30</td>\n",
       "      <td>2011-06-01</td>\n",
       "      <td>2018-12-31</td>\n",
       "      <td>1031156</td>\n",
       "      <td>52696</td>\n",
       "    </tr>\n",
       "    <tr>\n",
       "      <th>1013836</th>\n",
       "      <td>1024358</td>\n",
       "      <td>2013-08-31</td>\n",
       "      <td>2010-06-30</td>\n",
       "      <td>2018-12-31</td>\n",
       "      <td>1024358</td>\n",
       "      <td>17318</td>\n",
       "    </tr>\n",
       "    <tr>\n",
       "      <th>1769317</th>\n",
       "      <td>1029400</td>\n",
       "      <td>2011-08-31</td>\n",
       "      <td>2010-06-30</td>\n",
       "      <td>2018-12-31</td>\n",
       "      <td>1029400</td>\n",
       "      <td>46590</td>\n",
       "    </tr>\n",
       "    <tr>\n",
       "      <th>866783</th>\n",
       "      <td>1023358</td>\n",
       "      <td>2016-02-29</td>\n",
       "      <td>2010-06-30</td>\n",
       "      <td>2018-12-31</td>\n",
       "      <td>1023358</td>\n",
       "      <td>3990</td>\n",
       "    </tr>\n",
       "    <tr>\n",
       "      <th>955156</th>\n",
       "      <td>1023967</td>\n",
       "      <td>2011-08-31</td>\n",
       "      <td>2010-06-30</td>\n",
       "      <td>2018-12-31</td>\n",
       "      <td>1023967</td>\n",
       "      <td>13406</td>\n",
       "    </tr>\n",
       "    <tr>\n",
       "      <th>1291158</th>\n",
       "      <td>1026068</td>\n",
       "      <td>2013-03-31</td>\n",
       "      <td>2010-06-30</td>\n",
       "      <td>2018-12-31</td>\n",
       "      <td>1026068</td>\n",
       "      <td>3946</td>\n",
       "    </tr>\n",
       "    <tr>\n",
       "      <th>1116370</th>\n",
       "      <td>1024890</td>\n",
       "      <td>2015-10-31</td>\n",
       "      <td>2010-06-30</td>\n",
       "      <td>2018-12-31</td>\n",
       "      <td>1024890</td>\n",
       "      <td>40465</td>\n",
       "    </tr>\n",
       "    <tr>\n",
       "      <th>2039983</th>\n",
       "      <td>1032813</td>\n",
       "      <td>2015-06-30</td>\n",
       "      <td>2013-04-01</td>\n",
       "      <td>2018-12-31</td>\n",
       "      <td>1032813</td>\n",
       "      <td>57932</td>\n",
       "    </tr>\n",
       "    <tr>\n",
       "      <th>1753495</th>\n",
       "      <td>1029251</td>\n",
       "      <td>2014-11-30</td>\n",
       "      <td>2010-06-30</td>\n",
       "      <td>2018-12-31</td>\n",
       "      <td>1029251</td>\n",
       "      <td>43094</td>\n",
       "    </tr>\n",
       "    <tr>\n",
       "      <th>2053800</th>\n",
       "      <td>1033076</td>\n",
       "      <td>2016-06-30</td>\n",
       "      <td>2013-08-01</td>\n",
       "      <td>2018-12-31</td>\n",
       "      <td>1033076</td>\n",
       "      <td>58861</td>\n",
       "    </tr>\n",
       "    <tr>\n",
       "      <th>1463439</th>\n",
       "      <td>1027047</td>\n",
       "      <td>2012-03-31</td>\n",
       "      <td>2010-06-30</td>\n",
       "      <td>2018-12-31</td>\n",
       "      <td>1027047</td>\n",
       "      <td>26880</td>\n",
       "    </tr>\n",
       "    <tr>\n",
       "      <th>891846</th>\n",
       "      <td>1023551</td>\n",
       "      <td>2017-01-31</td>\n",
       "      <td>2010-06-30</td>\n",
       "      <td>2018-12-31</td>\n",
       "      <td>1023551</td>\n",
       "      <td>40093</td>\n",
       "    </tr>\n",
       "    <tr>\n",
       "      <th>976023</th>\n",
       "      <td>1024094</td>\n",
       "      <td>2016-09-30</td>\n",
       "      <td>2010-06-30</td>\n",
       "      <td>2018-12-31</td>\n",
       "      <td>1024094</td>\n",
       "      <td>48127</td>\n",
       "    </tr>\n",
       "    <tr>\n",
       "      <th>851585</th>\n",
       "      <td>1023290</td>\n",
       "      <td>2018-04-30</td>\n",
       "      <td>2010-06-30</td>\n",
       "      <td>2018-12-31</td>\n",
       "      <td>1023290</td>\n",
       "      <td>8397</td>\n",
       "    </tr>\n",
       "    <tr>\n",
       "      <th>323525</th>\n",
       "      <td>1009509</td>\n",
       "      <td>2009-03-31</td>\n",
       "      <td>2008-04-01</td>\n",
       "      <td>2010-05-31</td>\n",
       "      <td>1009509</td>\n",
       "      <td>3080</td>\n",
       "    </tr>\n",
       "    <tr>\n",
       "      <th>1581838</th>\n",
       "      <td>1027858</td>\n",
       "      <td>2016-04-30</td>\n",
       "      <td>2010-06-30</td>\n",
       "      <td>2018-12-31</td>\n",
       "      <td>1027858</td>\n",
       "      <td>3096</td>\n",
       "    </tr>\n",
       "    <tr>\n",
       "      <th>1298377</th>\n",
       "      <td>1026084</td>\n",
       "      <td>2015-04-30</td>\n",
       "      <td>2010-06-30</td>\n",
       "      <td>2018-12-31</td>\n",
       "      <td>1026084</td>\n",
       "      <td>25274</td>\n",
       "    </tr>\n",
       "    <tr>\n",
       "      <th>1844890</th>\n",
       "      <td>1030124</td>\n",
       "      <td>2012-11-30</td>\n",
       "      <td>2012-09-01</td>\n",
       "      <td>2018-12-31</td>\n",
       "      <td>1030124</td>\n",
       "      <td>55998</td>\n",
       "    </tr>\n",
       "    <tr>\n",
       "      <th>314953</th>\n",
       "      <td>1005845</td>\n",
       "      <td>2008-03-31</td>\n",
       "      <td>2003-08-29</td>\n",
       "      <td>2010-05-31</td>\n",
       "      <td>1005845</td>\n",
       "      <td>19415</td>\n",
       "    </tr>\n",
       "    <tr>\n",
       "      <th>1109962</th>\n",
       "      <td>1024857</td>\n",
       "      <td>2015-10-31</td>\n",
       "      <td>2010-06-30</td>\n",
       "      <td>2018-12-31</td>\n",
       "      <td>1024857</td>\n",
       "      <td>13925</td>\n",
       "    </tr>\n",
       "    <tr>\n",
       "      <th>1640800</th>\n",
       "      <td>1028288</td>\n",
       "      <td>2011-05-31</td>\n",
       "      <td>2010-06-30</td>\n",
       "      <td>2018-12-31</td>\n",
       "      <td>1028288</td>\n",
       "      <td>39710</td>\n",
       "    </tr>\n",
       "    <tr>\n",
       "      <th>1819997</th>\n",
       "      <td>1029866</td>\n",
       "      <td>2014-11-30</td>\n",
       "      <td>2012-08-01</td>\n",
       "      <td>2018-12-31</td>\n",
       "      <td>1029866</td>\n",
       "      <td>55901</td>\n",
       "    </tr>\n",
       "    <tr>\n",
       "      <th>766712</th>\n",
       "      <td>1022848</td>\n",
       "      <td>2013-05-31</td>\n",
       "      <td>2010-06-30</td>\n",
       "      <td>2018-12-31</td>\n",
       "      <td>1022848</td>\n",
       "      <td>7029</td>\n",
       "    </tr>\n",
       "    <tr>\n",
       "      <th>849939</th>\n",
       "      <td>1023279</td>\n",
       "      <td>2015-07-31</td>\n",
       "      <td>2010-06-30</td>\n",
       "      <td>2018-12-31</td>\n",
       "      <td>1023279</td>\n",
       "      <td>19660</td>\n",
       "    </tr>\n",
       "    <tr>\n",
       "      <th>1952280</th>\n",
       "      <td>1031549</td>\n",
       "      <td>2011-12-31</td>\n",
       "      <td>2011-11-01</td>\n",
       "      <td>2018-12-31</td>\n",
       "      <td>1031549</td>\n",
       "      <td>53612</td>\n",
       "    </tr>\n",
       "    <tr>\n",
       "      <th>2086626</th>\n",
       "      <td>1033812</td>\n",
       "      <td>2018-02-28</td>\n",
       "      <td>2014-05-01</td>\n",
       "      <td>2018-12-31</td>\n",
       "      <td>1033812</td>\n",
       "      <td>60968</td>\n",
       "    </tr>\n",
       "    <tr>\n",
       "      <th>422713</th>\n",
       "      <td>1020960</td>\n",
       "      <td>2016-03-31</td>\n",
       "      <td>2010-06-30</td>\n",
       "      <td>2018-12-31</td>\n",
       "      <td>1020960</td>\n",
       "      <td>14620</td>\n",
       "    </tr>\n",
       "    <tr>\n",
       "      <th>1117418</th>\n",
       "      <td>1024899</td>\n",
       "      <td>2010-12-31</td>\n",
       "      <td>2010-06-30</td>\n",
       "      <td>2018-12-31</td>\n",
       "      <td>1024899</td>\n",
       "      <td>20156</td>\n",
       "    </tr>\n",
       "    <tr>\n",
       "      <th>726536</th>\n",
       "      <td>1022647</td>\n",
       "      <td>2014-10-31</td>\n",
       "      <td>2010-06-30</td>\n",
       "      <td>2018-12-31</td>\n",
       "      <td>1022647</td>\n",
       "      <td>19375</td>\n",
       "    </tr>\n",
       "    <tr>\n",
       "      <th>561839</th>\n",
       "      <td>1021809</td>\n",
       "      <td>2012-10-31</td>\n",
       "      <td>2010-06-30</td>\n",
       "      <td>2018-12-31</td>\n",
       "      <td>1021809</td>\n",
       "      <td>46400</td>\n",
       "    </tr>\n",
       "    <tr>\n",
       "      <th>980506</th>\n",
       "      <td>1024127</td>\n",
       "      <td>2013-06-30</td>\n",
       "      <td>2010-06-30</td>\n",
       "      <td>2018-12-31</td>\n",
       "      <td>1024127</td>\n",
       "      <td>15850</td>\n",
       "    </tr>\n",
       "    <tr>\n",
       "      <th>2012339</th>\n",
       "      <td>1032405</td>\n",
       "      <td>2014-06-30</td>\n",
       "      <td>2012-10-01</td>\n",
       "      <td>2018-12-31</td>\n",
       "      <td>1032405</td>\n",
       "      <td>56303</td>\n",
       "    </tr>\n",
       "    <tr>\n",
       "      <th>1093629</th>\n",
       "      <td>1024756</td>\n",
       "      <td>2017-11-30</td>\n",
       "      <td>2010-06-30</td>\n",
       "      <td>2018-12-31</td>\n",
       "      <td>1024756</td>\n",
       "      <td>38835</td>\n",
       "    </tr>\n",
       "    <tr>\n",
       "      <th>343901</th>\n",
       "      <td>1009940</td>\n",
       "      <td>2009-09-29</td>\n",
       "      <td>2008-04-01</td>\n",
       "      <td>2010-05-31</td>\n",
       "      <td>1009940</td>\n",
       "      <td>16600</td>\n",
       "    </tr>\n",
       "    <tr>\n",
       "      <th>157952</th>\n",
       "      <td>1001862</td>\n",
       "      <td>2008-10-31</td>\n",
       "      <td>2003-10-31</td>\n",
       "      <td>2010-05-31</td>\n",
       "      <td>1001862</td>\n",
       "      <td>21893</td>\n",
       "    </tr>\n",
       "    <tr>\n",
       "      <th>870426</th>\n",
       "      <td>1023371</td>\n",
       "      <td>2013-11-30</td>\n",
       "      <td>2010-06-30</td>\n",
       "      <td>2018-12-31</td>\n",
       "      <td>1023371</td>\n",
       "      <td>27217</td>\n",
       "    </tr>\n",
       "    <tr>\n",
       "      <th>745391</th>\n",
       "      <td>1022733</td>\n",
       "      <td>2014-04-30</td>\n",
       "      <td>2010-06-30</td>\n",
       "      <td>2018-12-31</td>\n",
       "      <td>1022733</td>\n",
       "      <td>8529</td>\n",
       "    </tr>\n",
       "    <tr>\n",
       "      <th>1023427</th>\n",
       "      <td>1024427</td>\n",
       "      <td>2012-03-31</td>\n",
       "      <td>2010-06-30</td>\n",
       "      <td>2018-12-31</td>\n",
       "      <td>1024427</td>\n",
       "      <td>40235</td>\n",
       "    </tr>\n",
       "    <tr>\n",
       "      <th>869613</th>\n",
       "      <td>1023370</td>\n",
       "      <td>2011-12-31</td>\n",
       "      <td>2010-06-30</td>\n",
       "      <td>2018-12-31</td>\n",
       "      <td>1023370</td>\n",
       "      <td>19325</td>\n",
       "    </tr>\n",
       "    <tr>\n",
       "      <th>1298775</th>\n",
       "      <td>1026085</td>\n",
       "      <td>2010-11-30</td>\n",
       "      <td>2010-06-30</td>\n",
       "      <td>2018-12-31</td>\n",
       "      <td>1026085</td>\n",
       "      <td>25166</td>\n",
       "    </tr>\n",
       "    <tr>\n",
       "      <th>822876</th>\n",
       "      <td>1023116</td>\n",
       "      <td>2011-12-31</td>\n",
       "      <td>2010-06-30</td>\n",
       "      <td>2018-12-31</td>\n",
       "      <td>1023116</td>\n",
       "      <td>8406</td>\n",
       "    </tr>\n",
       "    <tr>\n",
       "      <th>324731</th>\n",
       "      <td>1009525</td>\n",
       "      <td>2013-06-30</td>\n",
       "      <td>2010-06-30</td>\n",
       "      <td>2014-12-31</td>\n",
       "      <td>1009525</td>\n",
       "      <td>49795</td>\n",
       "    </tr>\n",
       "    <tr>\n",
       "      <th>606541</th>\n",
       "      <td>1022048</td>\n",
       "      <td>2015-03-31</td>\n",
       "      <td>2010-06-30</td>\n",
       "      <td>2018-12-31</td>\n",
       "      <td>1022048</td>\n",
       "      <td>12896</td>\n",
       "    </tr>\n",
       "    <tr>\n",
       "      <th>7003</th>\n",
       "      <td>1000046</td>\n",
       "      <td>2007-06-30</td>\n",
       "      <td>2003-07-31</td>\n",
       "      <td>2010-05-31</td>\n",
       "      <td>1000046</td>\n",
       "      <td>12505</td>\n",
       "    </tr>\n",
       "    <tr>\n",
       "      <th>655466</th>\n",
       "      <td>1022242</td>\n",
       "      <td>2016-12-31</td>\n",
       "      <td>2010-06-30</td>\n",
       "      <td>2018-12-31</td>\n",
       "      <td>1022242</td>\n",
       "      <td>23034</td>\n",
       "    </tr>\n",
       "    <tr>\n",
       "      <th>1993275</th>\n",
       "      <td>1032127</td>\n",
       "      <td>2015-09-30</td>\n",
       "      <td>2012-06-01</td>\n",
       "      <td>2018-12-31</td>\n",
       "      <td>1032127</td>\n",
       "      <td>55561</td>\n",
       "    </tr>\n",
       "    <tr>\n",
       "      <th>1305804</th>\n",
       "      <td>1026133</td>\n",
       "      <td>2016-01-31</td>\n",
       "      <td>2013-07-01</td>\n",
       "      <td>2018-12-31</td>\n",
       "      <td>1026133</td>\n",
       "      <td>58717</td>\n",
       "    </tr>\n",
       "    <tr>\n",
       "      <th>1224877</th>\n",
       "      <td>1025576</td>\n",
       "      <td>2015-06-30</td>\n",
       "      <td>2010-06-30</td>\n",
       "      <td>2018-12-31</td>\n",
       "      <td>1025576</td>\n",
       "      <td>23436</td>\n",
       "    </tr>\n",
       "    <tr>\n",
       "      <th>1993615</th>\n",
       "      <td>1032130</td>\n",
       "      <td>2015-12-31</td>\n",
       "      <td>2012-06-01</td>\n",
       "      <td>2018-12-31</td>\n",
       "      <td>1032130</td>\n",
       "      <td>55583</td>\n",
       "    </tr>\n",
       "  </tbody>\n",
       "</table>\n",
       "</div>"
      ],
      "text/plain": [
       "         crsp_portno  report_dt      begdt      enddt  crsp_portno  \\\n",
       "1817655      1029847 2011-12-31 2010-06-30 2018-12-31      1029847   \n",
       "1924142      1031156 2013-06-30 2011-06-01 2018-12-31      1031156   \n",
       "1013836      1024358 2013-08-31 2010-06-30 2018-12-31      1024358   \n",
       "1769317      1029400 2011-08-31 2010-06-30 2018-12-31      1029400   \n",
       "866783       1023358 2016-02-29 2010-06-30 2018-12-31      1023358   \n",
       "955156       1023967 2011-08-31 2010-06-30 2018-12-31      1023967   \n",
       "1291158      1026068 2013-03-31 2010-06-30 2018-12-31      1026068   \n",
       "1116370      1024890 2015-10-31 2010-06-30 2018-12-31      1024890   \n",
       "2039983      1032813 2015-06-30 2013-04-01 2018-12-31      1032813   \n",
       "1753495      1029251 2014-11-30 2010-06-30 2018-12-31      1029251   \n",
       "2053800      1033076 2016-06-30 2013-08-01 2018-12-31      1033076   \n",
       "1463439      1027047 2012-03-31 2010-06-30 2018-12-31      1027047   \n",
       "891846       1023551 2017-01-31 2010-06-30 2018-12-31      1023551   \n",
       "976023       1024094 2016-09-30 2010-06-30 2018-12-31      1024094   \n",
       "851585       1023290 2018-04-30 2010-06-30 2018-12-31      1023290   \n",
       "323525       1009509 2009-03-31 2008-04-01 2010-05-31      1009509   \n",
       "1581838      1027858 2016-04-30 2010-06-30 2018-12-31      1027858   \n",
       "1298377      1026084 2015-04-30 2010-06-30 2018-12-31      1026084   \n",
       "1844890      1030124 2012-11-30 2012-09-01 2018-12-31      1030124   \n",
       "314953       1005845 2008-03-31 2003-08-29 2010-05-31      1005845   \n",
       "1109962      1024857 2015-10-31 2010-06-30 2018-12-31      1024857   \n",
       "1640800      1028288 2011-05-31 2010-06-30 2018-12-31      1028288   \n",
       "1819997      1029866 2014-11-30 2012-08-01 2018-12-31      1029866   \n",
       "766712       1022848 2013-05-31 2010-06-30 2018-12-31      1022848   \n",
       "849939       1023279 2015-07-31 2010-06-30 2018-12-31      1023279   \n",
       "1952280      1031549 2011-12-31 2011-11-01 2018-12-31      1031549   \n",
       "2086626      1033812 2018-02-28 2014-05-01 2018-12-31      1033812   \n",
       "422713       1020960 2016-03-31 2010-06-30 2018-12-31      1020960   \n",
       "1117418      1024899 2010-12-31 2010-06-30 2018-12-31      1024899   \n",
       "726536       1022647 2014-10-31 2010-06-30 2018-12-31      1022647   \n",
       "561839       1021809 2012-10-31 2010-06-30 2018-12-31      1021809   \n",
       "980506       1024127 2013-06-30 2010-06-30 2018-12-31      1024127   \n",
       "2012339      1032405 2014-06-30 2012-10-01 2018-12-31      1032405   \n",
       "1093629      1024756 2017-11-30 2010-06-30 2018-12-31      1024756   \n",
       "343901       1009940 2009-09-29 2008-04-01 2010-05-31      1009940   \n",
       "157952       1001862 2008-10-31 2003-10-31 2010-05-31      1001862   \n",
       "870426       1023371 2013-11-30 2010-06-30 2018-12-31      1023371   \n",
       "745391       1022733 2014-04-30 2010-06-30 2018-12-31      1022733   \n",
       "1023427      1024427 2012-03-31 2010-06-30 2018-12-31      1024427   \n",
       "869613       1023370 2011-12-31 2010-06-30 2018-12-31      1023370   \n",
       "1298775      1026085 2010-11-30 2010-06-30 2018-12-31      1026085   \n",
       "822876       1023116 2011-12-31 2010-06-30 2018-12-31      1023116   \n",
       "324731       1009525 2013-06-30 2010-06-30 2014-12-31      1009525   \n",
       "606541       1022048 2015-03-31 2010-06-30 2018-12-31      1022048   \n",
       "7003         1000046 2007-06-30 2003-07-31 2010-05-31      1000046   \n",
       "655466       1022242 2016-12-31 2010-06-30 2018-12-31      1022242   \n",
       "1993275      1032127 2015-09-30 2012-06-01 2018-12-31      1032127   \n",
       "1305804      1026133 2016-01-31 2013-07-01 2018-12-31      1026133   \n",
       "1224877      1025576 2015-06-30 2010-06-30 2018-12-31      1025576   \n",
       "1993615      1032130 2015-12-31 2012-06-01 2018-12-31      1032130   \n",
       "\n",
       "         crsp_fundno  \n",
       "1817655        47593  \n",
       "1924142        52696  \n",
       "1013836        17318  \n",
       "1769317        46590  \n",
       "866783          3990  \n",
       "955156         13406  \n",
       "1291158         3946  \n",
       "1116370        40465  \n",
       "2039983        57932  \n",
       "1753495        43094  \n",
       "2053800        58861  \n",
       "1463439        26880  \n",
       "891846         40093  \n",
       "976023         48127  \n",
       "851585          8397  \n",
       "323525          3080  \n",
       "1581838         3096  \n",
       "1298377        25274  \n",
       "1844890        55998  \n",
       "314953         19415  \n",
       "1109962        13925  \n",
       "1640800        39710  \n",
       "1819997        55901  \n",
       "766712          7029  \n",
       "849939         19660  \n",
       "1952280        53612  \n",
       "2086626        60968  \n",
       "422713         14620  \n",
       "1117418        20156  \n",
       "726536         19375  \n",
       "561839         46400  \n",
       "980506         15850  \n",
       "2012339        56303  \n",
       "1093629        38835  \n",
       "343901         16600  \n",
       "157952         21893  \n",
       "870426         27217  \n",
       "745391          8529  \n",
       "1023427        40235  \n",
       "869613         19325  \n",
       "1298775        25166  \n",
       "822876          8406  \n",
       "324731         49795  \n",
       "606541         12896  \n",
       "7003           12505  \n",
       "655466         23034  \n",
       "1993275        55561  \n",
       "1305804        58717  \n",
       "1224877        23436  \n",
       "1993615        55583  "
      ]
     },
     "execution_count": 134,
     "metadata": {},
     "output_type": "execute_result"
    }
   ],
   "source": [
    "row_info_merged.sample(50)"
   ]
  },
  {
   "cell_type": "code",
   "execution_count": null,
   "metadata": {},
   "outputs": [],
   "source": []
  },
  {
   "cell_type": "code",
   "execution_count": null,
   "metadata": {},
   "outputs": [],
   "source": []
  },
  {
   "cell_type": "markdown",
   "metadata": {},
   "source": [
    "# Save holdings_summary"
   ]
  },
  {
   "cell_type": "code",
   "execution_count": null,
   "metadata": {},
   "outputs": [],
   "source": [
    "path = '../data/interim/holdings_summary_total.feather'\n",
    "feather.write_dataframe(holdings_summary,path)"
   ]
  },
  {
   "cell_type": "code",
   "execution_count": null,
   "metadata": {},
   "outputs": [],
   "source": [
    "path = '../data/interim/holdings_summary_total.feather'\n",
    "holdings_summary = feather.read_dataframe(path)"
   ]
  },
  {
   "cell_type": "markdown",
   "metadata": {},
   "source": [
    "### Add fund_no to holdings_summary"
   ]
  },
  {
   "cell_type": "markdown",
   "metadata": {},
   "source": [
    "#### Fundo is not an integer for now but not that important -> TODO"
   ]
  },
  {
   "cell_type": "code",
   "execution_count": null,
   "metadata": {},
   "outputs": [],
   "source": [
    "portno_map_unique = portno_map.drop_duplicates(subset='crsp_portno')"
   ]
  },
  {
   "cell_type": "markdown",
   "metadata": {},
   "source": [
    "#### Maybe must be modified since all but one associated fund_nos per portfolio are deleted "
   ]
  },
  {
   "cell_type": "code",
   "execution_count": null,
   "metadata": {},
   "outputs": [],
   "source": [
    "holdings_summary = holdings_summary.merge(portno_map_unique[['crsp_portno','crsp_fundno']],how='left', left_on = 'port_no', right_on='crsp_portno')"
   ]
  },
  {
   "cell_type": "code",
   "execution_count": null,
   "metadata": {},
   "outputs": [],
   "source": [
    "holdings_summary.shape"
   ]
  },
  {
   "cell_type": "code",
   "execution_count": null,
   "metadata": {},
   "outputs": [],
   "source": [
    "mask = holdings_summary['crsp_fundno'].notna()\n",
    "holdings_summary['crsp_fundno'] = holdings_summary.loc[mask,'crsp_fundno'].astype(int)"
   ]
  },
  {
   "cell_type": "code",
   "execution_count": null,
   "metadata": {},
   "outputs": [],
   "source": [
    "holdings_summary.head(1)"
   ]
  },
  {
   "cell_type": "code",
   "execution_count": null,
   "metadata": {},
   "outputs": [],
   "source": [
    "holdings_summary = holdings_summary.rename(columns={'crsp_fundno':'fund_no'}, index=str)"
   ]
  },
  {
   "cell_type": "markdown",
   "metadata": {},
   "source": [
    "# Take sample according to parameter"
   ]
  },
  {
   "cell_type": "markdown",
   "metadata": {},
   "source": [
    "### Filter returns"
   ]
  },
  {
   "cell_type": "code",
   "execution_count": null,
   "metadata": {},
   "outputs": [],
   "source": [
    "# Convert to date format and filter based on date\n",
    "returns['date'] =  pd.to_datetime(returns['caldt'], format='%Y-%m-%d')"
   ]
  },
  {
   "cell_type": "code",
   "execution_count": null,
   "metadata": {},
   "outputs": [],
   "source": [
    "unique_portno = holdings_summary[['fund_no']].drop_duplicates()"
   ]
  },
  {
   "cell_type": "code",
   "execution_count": null,
   "metadata": {},
   "outputs": [],
   "source": [
    "mask = returns['crsp_fundno'].isin(unique_portno['fund_no'])"
   ]
  },
  {
   "cell_type": "code",
   "execution_count": null,
   "metadata": {},
   "outputs": [],
   "source": [
    "returns_s = returns[mask]"
   ]
  },
  {
   "cell_type": "code",
   "execution_count": null,
   "metadata": {},
   "outputs": [],
   "source": [
    "print('Shape of returns before filtering',\n",
    "     returns.shape)\n",
    "\n",
    "print('Shape of returns after filtering ',\n",
    "     returns_s.shape)"
   ]
  },
  {
   "cell_type": "markdown",
   "metadata": {},
   "source": [
    "# Filter holdings"
   ]
  },
  {
   "cell_type": "markdown",
   "metadata": {},
   "source": [
    "### Mask to filter out only those in the sample according to holdings_summary"
   ]
  },
  {
   "cell_type": "code",
   "execution_count": null,
   "metadata": {},
   "outputs": [],
   "source": [
    "mask = (holdings_summary['sample'] == 'Y') \n",
    "np.sum(mask)"
   ]
  },
  {
   "cell_type": "code",
   "execution_count": null,
   "metadata": {},
   "outputs": [],
   "source": [
    "holdings_s = holdings[mask.values]\n",
    "holdings_s"
   ]
  },
  {
   "cell_type": "code",
   "execution_count": null,
   "metadata": {},
   "outputs": [],
   "source": [
    "holdings_summary_s = holdings_summary[mask]"
   ]
  },
  {
   "cell_type": "markdown",
   "metadata": {},
   "source": [
    "### Filter holdings summary"
   ]
  },
  {
   "cell_type": "markdown",
   "metadata": {},
   "source": [
    "### Take only last n number of obs per fund (Not needed at the moment)"
   ]
  },
  {
   "cell_type": "markdown",
   "metadata": {},
   "source": [
    "To avoid overweight of funds with many observations"
   ]
  },
  {
   "cell_type": "markdown",
   "metadata": {},
   "source": [
    "last_n = 5"
   ]
  },
  {
   "cell_type": "markdown",
   "metadata": {},
   "source": [
    "holdings_summary_s = holdings_summary_s.reset_index()\n",
    "index = pd.DataFrame(np.arange(holdings_summary_s.shape[0]))\n",
    "index = index.groupby(holdings_summary_s['port_no']).tail(last_n)\n",
    "index = index.values.T.flatten()"
   ]
  },
  {
   "cell_type": "markdown",
   "metadata": {},
   "source": [
    "holdings_summary_s = holdings_summary_s.reset_index().loc[index,:]\n",
    "holdings_s = holdings_s[index]"
   ]
  },
  {
   "cell_type": "markdown",
   "metadata": {},
   "source": [
    "print('Observations left after taking only the last {} observations per fund:'.format(last_n))\n",
    "holdings_s.shape"
   ]
  },
  {
   "cell_type": "markdown",
   "metadata": {},
   "source": [
    "### Delet columns (stocks) with little to no information\n",
    "Delet all colums / stocks which occur no more than 'min_observations_per_stock' times"
   ]
  },
  {
   "cell_type": "code",
   "execution_count": null,
   "metadata": {},
   "outputs": [],
   "source": [
    "min_observations_per_stock = 50"
   ]
  },
  {
   "cell_type": "code",
   "execution_count": null,
   "metadata": {},
   "outputs": [],
   "source": [
    "holdings_b = sparse.csr_matrix(holdings_s, copy=True)\n",
    "holdings_b.data = np.ones(len(holdings_s.data))\n",
    "\n",
    "col_sums = pd.DataFrame(holdings_b.sum(0)).values.flatten()"
   ]
  },
  {
   "cell_type": "code",
   "execution_count": null,
   "metadata": {},
   "outputs": [],
   "source": [
    "print('Total number of securities:               {:>10,d}'.format(len(col_sums)))\n",
    "print('Total number of securities with >1:       {:>10,d}'.format(sum(col_sums > 1)))\n",
    "print('Total number of securities with >10:      {:>10,d}'.format(sum(col_sums > 10)))\n",
    "print('Total number of securities with >50:      {:>10,d}'.format(sum(col_sums > 50)))"
   ]
  },
  {
   "cell_type": "code",
   "execution_count": null,
   "metadata": {},
   "outputs": [],
   "source": [
    "# generate mask to delet some stocks\n",
    "mask = col_sums > min_observations_per_stock"
   ]
  },
  {
   "cell_type": "code",
   "execution_count": null,
   "metadata": {
    "scrolled": true
   },
   "outputs": [],
   "source": [
    "holdings_s = holdings_s.tocsc()\n",
    "holdings_s = holdings_s[:,mask]\n",
    "holdings_s = holdings_s.tocsr()\n",
    "holdings_s"
   ]
  },
  {
   "cell_type": "code",
   "execution_count": null,
   "metadata": {
    "scrolled": true
   },
   "outputs": [],
   "source": [
    "holdings_b = holdings_b.tocsc()\n",
    "holdings_b = holdings_b[:,mask]\n",
    "holdings_b = holdings_b.tocsr()\n",
    "holdings_b"
   ]
  },
  {
   "cell_type": "code",
   "execution_count": null,
   "metadata": {},
   "outputs": [],
   "source": [
    "stock_map = stock_map[mask.T]"
   ]
  },
  {
   "cell_type": "markdown",
   "metadata": {},
   "source": [
    "### Save final cleaned and filtered data"
   ]
  },
  {
   "cell_type": "markdown",
   "metadata": {},
   "source": [
    "#### Sparse matrix"
   ]
  },
  {
   "cell_type": "code",
   "execution_count": null,
   "metadata": {},
   "outputs": [],
   "source": [
    "path = '../data/processed/holdings_s'\n",
    "sparse.save_npz(path, holdings_s)"
   ]
  },
  {
   "cell_type": "code",
   "execution_count": null,
   "metadata": {},
   "outputs": [],
   "source": [
    "path = '../data/processed/holdings_b'\n",
    "sparse.save_npz(path, holdings_b)"
   ]
  },
  {
   "cell_type": "markdown",
   "metadata": {},
   "source": [
    "#### Sparse info"
   ]
  },
  {
   "cell_type": "code",
   "execution_count": null,
   "metadata": {},
   "outputs": [],
   "source": [
    "holdings_summary = holdings_summary.drop(columns=['index_fund_flag','et_flag','mutual_fund','sample','crsp_portno'])"
   ]
  },
  {
   "cell_type": "code",
   "execution_count": null,
   "metadata": {},
   "outputs": [],
   "source": [
    "holdings_summary_s['report_dt'] = pd.to_datetime(holdings_summary_s['report_dt'], format='%Y-%m-%d').dt.date"
   ]
  },
  {
   "cell_type": "code",
   "execution_count": null,
   "metadata": {},
   "outputs": [],
   "source": [
    "path = '../data/processed/holdings_summary_s.feather'\n",
    "feather.write_dataframe(holdings_summary_s,path)"
   ]
  },
  {
   "cell_type": "markdown",
   "metadata": {},
   "source": [
    "#### Returns"
   ]
  },
  {
   "cell_type": "code",
   "execution_count": null,
   "metadata": {},
   "outputs": [],
   "source": [
    "# Convert to date format and filter based on date\n",
    "begin_date = datetime.date.fromisoformat('2003-01-01')\n",
    "returns['caldt'] =  pd.to_datetime(returns['caldt'], format='%Y-%m-%d').dt.date\n",
    "returns_s = returns[returns['caldt'] > begin_date]"
   ]
  },
  {
   "cell_type": "code",
   "execution_count": null,
   "metadata": {},
   "outputs": [],
   "source": [
    "path = '../data/processed/returns_s.feather'\n",
    "feather.write_dataframe(returns_s,path)"
   ]
  },
  {
   "cell_type": "markdown",
   "metadata": {},
   "source": [
    "#### Stock Map"
   ]
  },
  {
   "cell_type": "code",
   "execution_count": null,
   "metadata": {},
   "outputs": [],
   "source": [
    "path = '../data/processed/stock_map.feather'\n",
    "feather.write_dataframe(stock_map,path)"
   ]
  },
  {
   "cell_type": "markdown",
   "metadata": {},
   "source": [
    "## Take smaller sub_sub sample (Everything before specified year)\n",
    "Makes processing faster"
   ]
  },
  {
   "cell_type": "code",
   "execution_count": null,
   "metadata": {},
   "outputs": [],
   "source": [
    "start_date = datetime.date.fromisoformat('2015-01-01')\n",
    "end_date = datetime.date.fromisoformat('2018-01-01')"
   ]
  },
  {
   "cell_type": "markdown",
   "metadata": {},
   "source": [
    "#### Holdings & holdings_summary"
   ]
  },
  {
   "cell_type": "code",
   "execution_count": null,
   "metadata": {},
   "outputs": [],
   "source": [
    "mask = (holdings_summary_s['report_dt'] > start_date) & (holdings_summary_s['report_dt'] < end_date)"
   ]
  },
  {
   "cell_type": "code",
   "execution_count": null,
   "metadata": {},
   "outputs": [],
   "source": [
    "holdings_s_s = holdings_s[mask.values]\n",
    "holdings_b_b = holdings_b[mask.values]"
   ]
  },
  {
   "cell_type": "code",
   "execution_count": null,
   "metadata": {},
   "outputs": [],
   "source": [
    "holdings_summary_s_s = holdings_summary_s[mask]"
   ]
  },
  {
   "cell_type": "markdown",
   "metadata": {},
   "source": [
    "#### Test"
   ]
  },
  {
   "cell_type": "code",
   "execution_count": null,
   "metadata": {},
   "outputs": [],
   "source": [
    "holdings_s_s.shape"
   ]
  },
  {
   "cell_type": "code",
   "execution_count": null,
   "metadata": {},
   "outputs": [],
   "source": [
    "holdings_summary_s_s.shape"
   ]
  },
  {
   "cell_type": "markdown",
   "metadata": {},
   "source": [
    "#### Returns"
   ]
  },
  {
   "cell_type": "code",
   "execution_count": null,
   "metadata": {},
   "outputs": [],
   "source": [
    "mask = (returns_s['caldt'] > start_date) & (returns_s['caldt'] < end_date)\n",
    "returns_s_s = returns_s[mask]"
   ]
  },
  {
   "cell_type": "markdown",
   "metadata": {},
   "source": [
    "### Save final cleaned and filtered data"
   ]
  },
  {
   "cell_type": "markdown",
   "metadata": {},
   "source": [
    "#### Sparse matrix"
   ]
  },
  {
   "cell_type": "code",
   "execution_count": null,
   "metadata": {},
   "outputs": [],
   "source": [
    "path = '../data/processed/holdings_s_s'\n",
    "sparse.save_npz(path, holdings_s_s)\n",
    "\n",
    "path = '../data/processed/holdings_b_b'\n",
    "sparse.save_npz(path, holdings_b_b)"
   ]
  },
  {
   "cell_type": "markdown",
   "metadata": {},
   "source": [
    "#### Sparse info"
   ]
  },
  {
   "cell_type": "code",
   "execution_count": null,
   "metadata": {},
   "outputs": [],
   "source": [
    "path = '../data/processed/holdings_summary_s_s.feather'\n",
    "feather.write_dataframe(holdings_summary_s_s,path)"
   ]
  },
  {
   "cell_type": "markdown",
   "metadata": {},
   "source": [
    "#### Returns"
   ]
  },
  {
   "cell_type": "code",
   "execution_count": null,
   "metadata": {},
   "outputs": [],
   "source": [
    "path = '../data/processed/returns_s_s.feather'\n",
    "feather.write_dataframe(returns_s_s,path)"
   ]
  }
 ],
 "metadata": {
  "kernelspec": {
   "display_name": "MT",
   "language": "python",
   "name": "mt"
  },
  "language_info": {
   "codemirror_mode": {
    "name": "ipython",
    "version": 3
   },
   "file_extension": ".py",
   "mimetype": "text/x-python",
   "name": "python",
   "nbconvert_exporter": "python",
   "pygments_lexer": "ipython3",
   "version": "3.7.4"
  }
 },
 "nbformat": 4,
 "nbformat_minor": 2
}
