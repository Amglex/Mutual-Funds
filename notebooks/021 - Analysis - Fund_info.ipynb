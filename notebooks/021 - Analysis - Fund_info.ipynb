{
 "cells": [
  {
   "cell_type": "markdown",
   "metadata": {
    "toc": true
   },
   "source": [
    "<h1>Table of Contents<span class=\"tocSkip\"></span></h1>\n",
    "<div class=\"toc\"><ul class=\"toc-item\"><li><span><a href=\"#Analysis-of-selected-funds\" data-toc-modified-id=\"Analysis-of-selected-funds-1\"><span class=\"toc-item-num\">1&nbsp;&nbsp;</span>Analysis of selected funds</a></span><ul class=\"toc-item\"><li><span><a href=\"#Number-of-unique-port_nos-and-fund_nos\" data-toc-modified-id=\"Number-of-unique-port_nos-and-fund_nos-1.1\"><span class=\"toc-item-num\">1.1&nbsp;&nbsp;</span>Number of unique port_nos and fund_nos</a></span></li><li><span><a href=\"#Number-of-unique-funds-per-year\" data-toc-modified-id=\"Number-of-unique-funds-per-year-1.2\"><span class=\"toc-item-num\">1.2&nbsp;&nbsp;</span>Number of unique funds per year</a></span></li><li><span><a href=\"#Distribution-by-number-of-observations-per-fund\" data-toc-modified-id=\"Distribution-by-number-of-observations-per-fund-1.3\"><span class=\"toc-item-num\">1.3&nbsp;&nbsp;</span>Distribution by number of observations per fund</a></span></li><li><span><a href=\"#Take-only-the-end-of-the-year-observation-per-fund\" data-toc-modified-id=\"Take-only-the-end-of-the-year-observation-per-fund-1.4\"><span class=\"toc-item-num\">1.4&nbsp;&nbsp;</span>Take only the end of the year observation per fund</a></span></li><li><span><a href=\"#Distribution-by-lipper_class\" data-toc-modified-id=\"Distribution-by-lipper_class-1.5\"><span class=\"toc-item-num\">1.5&nbsp;&nbsp;</span>Distribution by lipper_class</a></span></li><li><span><a href=\"#How-often-do-lipper_classes-change?\" data-toc-modified-id=\"How-often-do-lipper_classes-change?-1.6\"><span class=\"toc-item-num\">1.6&nbsp;&nbsp;</span>How often do lipper_classes change?</a></span></li></ul></li></ul></div>"
   ]
  },
  {
   "cell_type": "markdown",
   "metadata": {},
   "source": [
    "# Analysis of selected funds"
   ]
  },
  {
   "cell_type": "markdown",
   "metadata": {},
   "source": [
    "Main insights:\n",
    "    - ~3700 unique funds over the complete timeframe\n",
    "    - Strong break in 2010 (few observations before)\n",
    "    - ~2500 unique funds per year\n",
    "    - ~6% of funds change their lipper class over the complete timeframe\n",
    "\n"
   ]
  },
  {
   "cell_type": "code",
   "execution_count": null,
   "metadata": {
    "pycharm": {
     "is_executing": false
    }
   },
   "outputs": [],
   "source": [
    "import feather\n",
    "\n",
    "import pandas as pd\n",
    "\n",
    "import matplotlib.pyplot as plt\n",
    "import seaborn as sns"
   ]
  },
  {
   "cell_type": "code",
   "execution_count": null,
   "metadata": {
    "pycharm": {
     "is_executing": false
    }
   },
   "outputs": [],
   "source": [
    "# Convert to date format\n",
    "year = 2016"
   ]
  },
  {
   "cell_type": "code",
   "execution_count": null,
   "metadata": {
    "pycharm": {
     "is_executing": false
    }
   },
   "outputs": [],
   "source": [
    "path = '../data/processed/row_info.feather'\n",
    "info_df = feather.read_dataframe(path)"
   ]
  },
  {
   "cell_type": "code",
   "execution_count": null,
   "metadata": {
    "pycharm": {
     "is_executing": false
    }
   },
   "outputs": [],
   "source": [
    "#info_df = info_df.query('year == @year')"
   ]
  },
  {
   "cell_type": "code",
   "execution_count": null,
   "metadata": {},
   "outputs": [],
   "source": [
    "info_df.sample()"
   ]
  },
  {
   "cell_type": "markdown",
   "metadata": {},
   "source": [
    "## Number of unique port_nos and fund_nos"
   ]
  },
  {
   "cell_type": "code",
   "execution_count": null,
   "metadata": {},
   "outputs": [],
   "source": [
    "info_df['report_dt'].describe()"
   ]
  },
  {
   "cell_type": "code",
   "execution_count": null,
   "metadata": {},
   "outputs": [],
   "source": [
    "print(info_df['crsp_portno'].nunique())\n",
    "print(info_df['crsp_fundno'].nunique())"
   ]
  },
  {
   "cell_type": "markdown",
   "metadata": {},
   "source": [
    "## Number of unique funds per year"
   ]
  },
  {
   "cell_type": "markdown",
   "metadata": {},
   "source": [
    "#### Something seems odd\n",
    "Break in 2009 not clear"
   ]
  },
  {
   "cell_type": "code",
   "execution_count": null,
   "metadata": {},
   "outputs": [],
   "source": [
    "# Analysis of selected funds\n",
    "sns.set()\n",
    "## Distribution by date(info_df[\"report_dt\"]\n",
    "(info_df[\"crsp_portno\"]\n",
    "    .groupby([\n",
    "         info_df[\"report_dt\"].dt.year,\n",
    "         info_df[\"report_dt\"].dt.month\n",
    "     ])\n",
    "     .nunique()\n",
    "     .plot(kind=\"bar\",\n",
    "           color = 'b',\n",
    "           figsize=(10,5)))"
   ]
  },
  {
   "cell_type": "markdown",
   "metadata": {},
   "source": [
    "## Distribution by number of observations per fund "
   ]
  },
  {
   "cell_type": "code",
   "execution_count": null,
   "metadata": {},
   "outputs": [],
   "source": [
    "(info_df[\"crsp_portno\"]\n",
    "     .groupby([\n",
    "         info_df[\"crsp_portno\"],\n",
    "     ])\n",
    "     .count()\n",
    "     .plot(kind=\"hist\",\n",
    "           bins = 10,\n",
    "           color = 'b',\n",
    "           figsize=(10,5)))"
   ]
  },
  {
   "cell_type": "markdown",
   "metadata": {},
   "source": [
    "## Take only the end of the year observation per fund"
   ]
  },
  {
   "cell_type": "code",
   "execution_count": null,
   "metadata": {},
   "outputs": [],
   "source": [
    "index = (info_df\n",
    "     .assign(year = info_df[\"report_dt\"].dt.year)\n",
    "     .groupby(['crsp_portno','year'])\n",
    "     [['crsp_portno','report_dt']]\n",
    "     .tail(1)\n",
    "     .index)"
   ]
  },
  {
   "cell_type": "code",
   "execution_count": null,
   "metadata": {},
   "outputs": [],
   "source": [
    "info_df = info_df.loc[index]"
   ]
  },
  {
   "cell_type": "markdown",
   "metadata": {},
   "source": [
    "## Distribution by lipper_class"
   ]
  },
  {
   "cell_type": "code",
   "execution_count": null,
   "metadata": {},
   "outputs": [],
   "source": [
    "(info_df['crsp_portno']\n",
    "     .groupby([\n",
    "         info_df[\"lipper_class\"],\n",
    "     ])\n",
    "     .count()\n",
    "#     .sort_values()\n",
    "     .plot(kind=\"barh\",\n",
    "           color = 'b',\n",
    "           figsize=(20,5)))"
   ]
  },
  {
   "cell_type": "code",
   "execution_count": null,
   "metadata": {},
   "outputs": [],
   "source": [
    "(info_df['crsp_portno']\n",
    "     .groupby([\n",
    "         info_df['cap_class'],\n",
    "     ])\n",
    "     .count()\n",
    "     .plot(kind='barh',\n",
    "           color = 'b',\n",
    "           figsize=(10,5)))"
   ]
  },
  {
   "cell_type": "code",
   "execution_count": null,
   "metadata": {},
   "outputs": [],
   "source": [
    "(info_df['crsp_portno']\n",
    "     .groupby([\n",
    "         info_df['style_class'],\n",
    "     ])\n",
    "     .count()\n",
    "     .plot(kind='barh',\n",
    "           color = 'b',\n",
    "           figsize=(10,5)))"
   ]
  },
  {
   "cell_type": "markdown",
   "metadata": {},
   "source": [
    "## How often do lipper_classes change?\n"
   ]
  },
  {
   "cell_type": "code",
   "execution_count": null,
   "metadata": {},
   "outputs": [],
   "source": [
    "obj_per_portno = info_df[['crsp_portno','lipper_class']]\n",
    "ax = (obj_per_portno['lipper_class']\n",
    "    .groupby([\n",
    "        obj_per_portno[\"crsp_portno\"]\n",
    "    ])\n",
    "    .nunique()\n",
    "    .value_counts()\n",
    "    .sort_values()\n",
    "    .plot(kind='barh',\n",
    "          color = 'b',\n",
    "          figsize=(18,5),\n",
    "          title='Number of unique objective codes per crsp_portno')\n",
    ")"
   ]
  },
  {
   "cell_type": "code",
   "execution_count": null,
   "metadata": {},
   "outputs": [],
   "source": [
    "lagged_class = info_df[['crsp_portno','report_dt','lipper_class']]\n",
    "\n",
    "lagged_class = lagged_class.assign(lag_lipper_class = lagged_class.lipper_class.shift())\n",
    "lagged_class = lagged_class.dropna()\n",
    "\n",
    "mask = lagged_class.groupby(by = 'crsp_portno').head(1).index\n",
    "lagged_class = lagged_class[~lagged_class.index.isin(mask)]\n",
    "\n",
    "round(pd.crosstab(lagged_class.lipper_class, lagged_class.lag_lipper_class, normalize = 'all') * 100,2)"
   ]
  },
  {
   "cell_type": "code",
   "execution_count": null,
   "metadata": {},
   "outputs": [],
   "source": [
    "lagged_class = info_df[['crsp_portno','report_dt','style_class']]\n",
    "\n",
    "lagged_class = lagged_class.assign(lag_style_class = lagged_class.style_class.shift())\n",
    "lagged_class = lagged_class.dropna()\n",
    "\n",
    "mask = lagged_class.groupby(by = 'crsp_portno').head(1).index\n",
    "lagged_class = lagged_class[~lagged_class.index.isin(mask)]\n",
    "\n",
    "pd.crosstab(lagged_class.style_class, lagged_class.lag_style_class)"
   ]
  },
  {
   "cell_type": "code",
   "execution_count": null,
   "metadata": {},
   "outputs": [],
   "source": [
    "lagged_class = info_df[['crsp_portno','report_dt','cap_class']]\n",
    "\n",
    "lagged_class = lagged_class.assign(lag_cap_class = lagged_class.cap_class.shift())\n",
    "lagged_class = lagged_class.dropna()\n",
    "\n",
    "mask = lagged_class.groupby(by = 'crsp_portno').head(1).index\n",
    "lagged_class = lagged_class[~lagged_class.index.isin(mask)]\n",
    "\n",
    "round(pd.crosstab(lagged_class.cap_class, lagged_class.lag_cap_class, margins = True, normalize= 'all') *100,2)"
   ]
  },
  {
   "cell_type": "code",
   "execution_count": null,
   "metadata": {},
   "outputs": [],
   "source": [
    "pd.crosstab(lagged_class.cap_class, lagged_class.lag_cap_class, margins = True)"
   ]
  },
  {
   "cell_type": "markdown",
   "metadata": {},
   "source": [
    "### Fund names"
   ]
  }
 ],
 "metadata": {
  "hide_input": false,
  "kernelspec": {
   "display_name": "MT",
   "language": "python",
   "name": "mt"
  },
  "language_info": {
   "codemirror_mode": {
    "name": "ipython",
    "version": 3
   },
   "file_extension": ".py",
   "mimetype": "text/x-python",
   "name": "python",
   "nbconvert_exporter": "python",
   "pygments_lexer": "ipython3",
   "version": "3.7.4"
  },
  "pycharm": {
   "stem_cell": {
    "cell_type": "raw",
    "metadata": {
     "collapsed": false
    },
    "source": []
   }
  },
  "toc": {
   "base_numbering": 1,
   "nav_menu": {},
   "number_sections": true,
   "sideBar": true,
   "skip_h1_title": false,
   "title_cell": "Table of Contents",
   "title_sidebar": "Contents",
   "toc_cell": true,
   "toc_position": {},
   "toc_section_display": true,
   "toc_window_display": false
  }
 },
 "nbformat": 4,
 "nbformat_minor": 2
}
