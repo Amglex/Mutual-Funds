{
 "cells": [
  {
   "cell_type": "markdown",
   "metadata": {
    "toc": true
   },
   "source": [
    "<h1>Table of Contents<span class=\"tocSkip\"></span></h1>\n",
    "<div class=\"toc\"><ul class=\"toc-item\"><li><span><a href=\"#Analysis-of-holdings\" data-toc-modified-id=\"Analysis-of-holdings-1\"><span class=\"toc-item-num\">1&nbsp;&nbsp;</span>Analysis of holdings</a></span><ul class=\"toc-item\"><li><span><a href=\"#Other-functions\" data-toc-modified-id=\"Other-functions-1.1\"><span class=\"toc-item-num\">1.1&nbsp;&nbsp;</span>Other functions</a></span></li><li><span><a href=\"#Other-functions\" data-toc-modified-id=\"Other-functions-1.2\"><span class=\"toc-item-num\">1.2&nbsp;&nbsp;</span>Other functions</a></span></li><li><span><a href=\"#Most-common-stocks\" data-toc-modified-id=\"Most-common-stocks-1.3\"><span class=\"toc-item-num\">1.3&nbsp;&nbsp;</span>Most common stocks</a></span></li><li><span><a href=\"#Distribution-of-cusip-and-crsp_company_key\" data-toc-modified-id=\"Distribution-of-cusip-and-crsp_company_key-1.4\"><span class=\"toc-item-num\">1.4&nbsp;&nbsp;</span>Distribution of cusip and crsp_company_key</a></span></li></ul></li></ul></div>"
   ]
  },
  {
   "cell_type": "markdown",
   "metadata": {},
   "source": [
    "Findings:\n",
    "\n",
    "Nearly all 'ord' stocks don't have perno or permco\n",
    "\n",
    "Some stocks appear twice (at least based on name)"
   ]
  },
  {
   "cell_type": "markdown",
   "metadata": {},
   "source": [
    "# Analysis of holdings"
   ]
  },
  {
   "cell_type": "markdown",
   "metadata": {},
   "source": [
    "Description:\n",
    "\n"
   ]
  },
  {
   "cell_type": "markdown",
   "metadata": {},
   "source": [
    "## Other functions"
   ]
  },
  {
   "cell_type": "code",
   "execution_count": null,
   "metadata": {},
   "outputs": [],
   "source": [
    "import feather\n",
    "import numpy as np\n",
    "import pandas as pd\n",
    "import pickle\n",
    "\n",
    "from scipy import sparse\n",
    "\n",
    "from sklearn.preprocessing import normalize, minmax_scale\n",
    "\n",
    "import matplotlib.pyplot as plt"
   ]
  },
  {
   "cell_type": "code",
   "execution_count": null,
   "metadata": {},
   "outputs": [],
   "source": [
    "path = '../data/processed/full.pickle'\n",
    "pickle_off = open(path,\"rb\")\n",
    "dict_all_years = pickle.load(pickle_off)\n",
    "dict_year = dict_all_years[2018]"
   ]
  },
  {
   "cell_type": "markdown",
   "metadata": {},
   "source": [
    "## Other functions"
   ]
  },
  {
   "cell_type": "code",
   "execution_count": null,
   "metadata": {},
   "outputs": [],
   "source": [
    "year = 2010\n",
    "\n",
    "row_info_f = dict_all_years[year]['row_info_f']\n",
    "col_info_f = dict_all_years[year]['col_info_f']\n",
    "returns_f = dict_all_years[year]['returns_f']\n",
    "holdings_ft = dict_all_years[year]['holdings_ft']\n",
    "holdings_b = dict_all_years[year]['holdings_b']\n",
    "begin_date = dict_all_years[year]['begin_date']\n",
    "end_date = dict_all_years[year]['end_date']\n",
    "\n",
    "col_info_f = col_info_f.reset_index(drop=True)\n",
    "col_info_f = col_info_f.assign(col = col_info_f.index)\n",
    "\n",
    "row_info_f = row_info_f.reset_index(drop=True)\n",
    "row_info_f = row_info_f.assign(row = row_info_f.index)                               "
   ]
  },
  {
   "cell_type": "markdown",
   "metadata": {},
   "source": [
    "## Most common stocks"
   ]
  },
  {
   "cell_type": "code",
   "execution_count": null,
   "metadata": {},
   "outputs": [],
   "source": [
    "print(row_info_f.shape)\n",
    "print(col_info_f.shape)\n",
    "print(holdings_b.shape)"
   ]
  },
  {
   "cell_type": "code",
   "execution_count": null,
   "metadata": {},
   "outputs": [],
   "source": [
    "row_info_f.head()"
   ]
  },
  {
   "cell_type": "code",
   "execution_count": null,
   "metadata": {},
   "outputs": [],
   "source": [
    "col_info_f.head()"
   ]
  },
  {
   "cell_type": "code",
   "execution_count": null,
   "metadata": {},
   "outputs": [],
   "source": [
    "def most_common_stocks():\n",
    "    # Change if you want to sum percentages instead of boolean values\n",
    "    holdings_coo = holdings_b.tocoo()\n",
    "\n",
    "    df_sparse = pd.DataFrame({'row' : holdings_coo.row,\n",
    "                              'col' : holdings_coo.col,\n",
    "                              'data' : holdings_coo.data})\n",
    "\n",
    "    df_sparse = df_sparse.merge(row_info_f[['year','row','lipper_class']],how='left',on='row')\n",
    "\n",
    "    no_unique_funds = row_info_f.shape[0]\n",
    "\n",
    "    sum_col = (df_sparse\n",
    "               .groupby(by = ['col'])\n",
    "               .sum()\n",
    "               .sort_values('data',ascending = False)\n",
    "               .join(col_info_f[['security_name','col','cusip','permno','permco']],how='left')\n",
    "               .assign(percent = lambda x:  x.data / no_unique_funds * 100)\n",
    "               .drop(columns=['row','year','col'])\n",
    "               .reset_index(drop=True)\n",
    "               .head(100))\n",
    "\n",
    "    print(\n",
    "        'Most held stocks: ','\\n\\n'\n",
    "        'Number of funds:    {}'.format(no_unique_funds),'\\n'\n",
    "    )\n",
    "\n",
    "    return sum_col"
   ]
  },
  {
   "cell_type": "code",
   "execution_count": null,
   "metadata": {},
   "outputs": [],
   "source": [
    "most_common_stocks().head()"
   ]
  },
  {
   "cell_type": "code",
   "execution_count": null,
   "metadata": {},
   "outputs": [],
   "source": [
    "def most_common_stocks(holdings_b, row_info_f, col_info_f, year,lipper_class):\n",
    "    \"This prints a passed string into this function\"\n",
    "    # Enter date for which most common holdings are calculated\n",
    "    year = year\n",
    "    lipper_class = lipper_class\n",
    "\n",
    "    # Change if you want tu sum percentages instead of boolean values\n",
    "    holdings_coo = holdings_b.tocoo()\n",
    "\n",
    "    df_sparse = pd.DataFrame({'row' : holdings_coo.row,\n",
    "                              'col' : holdings_coo.col,\n",
    "                              'data' : holdings_coo.data})\n",
    "\n",
    "    df_sparse = df_sparse.merge(row_info_f[['year','row','lipper_class']],how='left',on='row')\n",
    "\n",
    "    my_filter = '''year == @year and lipper_class == @lipper_class '''\n",
    "    no_unique_funds = row_info_f.query(my_filter).shape[0]\n",
    "\n",
    "    sum_col = (df_sparse\n",
    "               .query(my_filter)\n",
    "               .groupby(by = ['col'])\n",
    "               .sum()\n",
    "               .sort_values('data',ascending = False)\n",
    "               .join(col_info_f[['security_name','col']],how='left')\n",
    "               .assign(percent = lambda x:  x.data / no_unique_funds * 100)\n",
    "               .drop(columns=['row','year','col'])\n",
    "               .reset_index(drop=True)\n",
    "               .head(3))\n",
    "    \n",
    "    sum_col['Lipper class'] = lipper_class\n",
    "    sum_col = sum_col.iloc[:,[3,1,0,2]]\n",
    "    sum_col.columns = ['Lipper class','Security name','Nr. of funds with holding','Percentage of funds']\n",
    "\n",
    "    # print(\n",
    "    #     'Most held stocks: ','\\n\\n'\n",
    "    #     'Lipper class:       {}'.format(lipper_class),'\\n'\n",
    "    #     'Number of funds:    {}'.format(no_unique_funds),'\\n'\n",
    "    #     'Year:               {}'.format(year))\n",
    "\n",
    "    return sum_col"
   ]
  },
  {
   "cell_type": "code",
   "execution_count": null,
   "metadata": {},
   "outputs": [],
   "source": [
    "options = {\n",
    "    'selected_obj_codes'         : ('EIEI',\n",
    "                                    'LCVE', 'LCCE', 'LCGE',\n",
    "                                    'MLVE', 'MLCE', 'MLGE',\n",
    "                                    'MCVE', 'MCCE', 'MCGE',\n",
    "                                    'SCVE', 'SCCE', 'SCGE')}\n",
    "results = []\n",
    "\n",
    "\n",
    "for i, code in enumerate(options.get('selected_obj_codes')):\n",
    "    year = 2014\n",
    "\n",
    "    row_info_f = dict_all_years[year]['row_info_f']\n",
    "    col_info_f = dict_all_years[year]['col_info_f']\n",
    "    holdings_b = dict_all_years[year]['holdings_b']\n",
    "\n",
    "    col_info_f = col_info_f.reset_index(drop=True)\n",
    "    col_info_f = col_info_f.assign(col = col_info_f.index)\n",
    "\n",
    "    row_info_f = row_info_f.reset_index(drop=True)\n",
    "    row_info_f = row_info_f.assign(row = row_info_f.index)  \n",
    "    \n",
    "    \n",
    "    results.append(most_common_stocks(holdings_b, row_info_f, col_info_f, year=year, lipper_class=code))"
   ]
  },
  {
   "cell_type": "code",
   "execution_count": null,
   "metadata": {},
   "outputs": [],
   "source": [
    "results_df = pd.concat(results)\n",
    "results_df_14 = results_df.iloc[:,[0,1,3]]"
   ]
  },
  {
   "cell_type": "code",
   "execution_count": null,
   "metadata": {},
   "outputs": [],
   "source": [
    "results_df_comb = pd.concat([results_df_10,results_df_14.iloc[:,[1,2]],results_df_18.iloc[:,[1,2]]],1)\n",
    "results_df_comb"
   ]
  },
  {
   "cell_type": "code",
   "execution_count": null,
   "metadata": {},
   "outputs": [],
   "source": [
    "print(round(results_df_comb,2).to_latex(index = False,\n",
    "                    index_names = False,\n",
    "                    bold_rows = False))"
   ]
  },
  {
   "cell_type": "code",
   "execution_count": null,
   "metadata": {},
   "outputs": [],
   "source": [
    "holdings_summary = pd.DataFrame(holdings_ft.sum(0).T)\n",
    "holdings_summary.columns = ['total']\n",
    "holdings_summary.shape"
   ]
  },
  {
   "cell_type": "markdown",
   "metadata": {},
   "source": [
    "## Distribution of cusip and crsp_company_key"
   ]
  },
  {
   "cell_type": "code",
   "execution_count": null,
   "metadata": {},
   "outputs": [],
   "source": [
    "col_info.sample()"
   ]
  },
  {
   "cell_type": "code",
   "execution_count": null,
   "metadata": {},
   "outputs": [],
   "source": [
    "print('Percentage of identifiers missing:')\n",
    "np.sum(col_info[['crsp_company_key','cusip','permno','permco']].isna()) / col_info.shape[0] * 100"
   ]
  },
  {
   "cell_type": "code",
   "execution_count": null,
   "metadata": {},
   "outputs": [],
   "source": [
    "print('Percentage of stocks with same cusip appearing twice:')\n",
    "col_info.drop_duplicates(subset='cusip').shape[0] / col_info.shape[0] * 100"
   ]
  },
  {
   "cell_type": "code",
   "execution_count": null,
   "metadata": {},
   "outputs": [],
   "source": [
    "print('Percentage of stocks with same SHORT cusip appearing twice:')\n",
    "col_info['short_cusip'] = col_info['cusip'].astype(str).str[:6]\n",
    "col_info.drop_duplicates(subset='short_cusip').shape[0] / col_info.shape[0] * 100"
   ]
  },
  {
   "cell_type": "code",
   "execution_count": null,
   "metadata": {},
   "outputs": [],
   "source": [
    "col_info"
   ]
  },
  {
   "cell_type": "code",
   "execution_count": null,
   "metadata": {},
   "outputs": [],
   "source": [
    "t = 12_000\n",
    "col_info.sort_values('security_name').iloc[t:t+100,:]"
   ]
  },
  {
   "cell_type": "code",
   "execution_count": null,
   "metadata": {},
   "outputs": [],
   "source": [
    "col_info[col_info['security_name'].str.contains('ALLERGAN')]"
   ]
  },
  {
   "cell_type": "code",
   "execution_count": null,
   "metadata": {},
   "outputs": [],
   "source": [
    "col_info['security_name']"
   ]
  },
  {
   "cell_type": "code",
   "execution_count": null,
   "metadata": {},
   "outputs": [],
   "source": [
    "col_info['security_name'].drop_duplicates()"
   ]
  },
  {
   "cell_type": "code",
   "execution_count": null,
   "metadata": {},
   "outputs": [],
   "source": []
  },
  {
   "cell_type": "code",
   "execution_count": null,
   "metadata": {},
   "outputs": [],
   "source": [
    "col_info_f.shape"
   ]
  },
  {
   "cell_type": "code",
   "execution_count": null,
   "metadata": {},
   "outputs": [],
   "source": [
    "print(np.sum(col_info_f['permco'].isna()))\n",
    "col_info_f[col_info_f['permco'].isna()]"
   ]
  },
  {
   "cell_type": "code",
   "execution_count": null,
   "metadata": {},
   "outputs": [],
   "source": [
    "np.sum(col_info_f['crsp_company_key'].isna())"
   ]
  },
  {
   "cell_type": "code",
   "execution_count": null,
   "metadata": {},
   "outputs": [],
   "source": [
    "col_info_f['permco'] = col_info_f['permco'].astype(float)\n",
    "col_info_f['permno'] = col_info_f['permno'].astype(float)\n",
    "ccm_link['gvkey'] = ccm_link['gvkey'].astype(float)"
   ]
  },
  {
   "cell_type": "code",
   "execution_count": null,
   "metadata": {},
   "outputs": [],
   "source": [
    "ccm_link.head()"
   ]
  },
  {
   "cell_type": "code",
   "execution_count": null,
   "metadata": {},
   "outputs": [],
   "source": [
    "ccm_link['gvkey'] = ccm_link['gvkey'].astype(float)"
   ]
  },
  {
   "cell_type": "code",
   "execution_count": null,
   "metadata": {},
   "outputs": [],
   "source": [
    "ccm_link_f = ccm_link.dropna(subset = ['lpermno'])"
   ]
  },
  {
   "cell_type": "code",
   "execution_count": null,
   "metadata": {},
   "outputs": [],
   "source": [
    "col_info_fm = col_info_f.merge(ccm_link_f[['gvkey','lpermno']], how = 'left', left_on = ['permno'], right_on = ['lpermno'])"
   ]
  },
  {
   "cell_type": "code",
   "execution_count": null,
   "metadata": {},
   "outputs": [],
   "source": [
    "ccm_link_f[ccm_link_f['gvkey'] == 5047.0]"
   ]
  },
  {
   "cell_type": "code",
   "execution_count": null,
   "metadata": {},
   "outputs": [],
   "source": [
    "col_info_fm"
   ]
  },
  {
   "cell_type": "code",
   "execution_count": null,
   "metadata": {},
   "outputs": [],
   "source": [
    "col_info_fm.drop_duplicates().shape"
   ]
  },
  {
   "cell_type": "code",
   "execution_count": null,
   "metadata": {},
   "outputs": [],
   "source": []
  }
 ],
 "metadata": {
  "hide_input": false,
  "kernelspec": {
   "display_name": "Python 3",
   "language": "python",
   "name": "python3"
  },
  "language_info": {
   "codemirror_mode": {
    "name": "ipython",
    "version": 3
   },
   "file_extension": ".py",
   "mimetype": "text/x-python",
   "name": "python",
   "nbconvert_exporter": "python",
   "pygments_lexer": "ipython3",
   "version": "3.7.4"
  },
  "toc": {
   "base_numbering": 1,
   "nav_menu": {},
   "number_sections": true,
   "sideBar": true,
   "skip_h1_title": false,
   "title_cell": "Table of Contents",
   "title_sidebar": "Contents",
   "toc_cell": true,
   "toc_position": {},
   "toc_section_display": true,
   "toc_window_display": true
  }
 },
 "nbformat": 4,
 "nbformat_minor": 2
}
