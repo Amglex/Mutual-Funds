{
 "cells": [
  {
   "cell_type": "markdown",
   "metadata": {},
   "source": [
    "# FF factors"
   ]
  },
  {
   "cell_type": "code",
   "execution_count": null,
   "metadata": {},
   "outputs": [],
   "source": [
    "# inspired by Jonas Gartenmeier"
   ]
  },
  {
   "cell_type": "code",
   "execution_count": null,
   "metadata": {},
   "outputs": [],
   "source": [
    "import pandas as pd\n",
    "import numpy as np\n",
    "from zipfile import ZipFile\n",
    "import urllib\n",
    "import io\n",
    "import feather"
   ]
  },
  {
   "cell_type": "markdown",
   "metadata": {},
   "source": [
    "Download three factors"
   ]
  },
  {
   "cell_type": "code",
   "execution_count": null,
   "metadata": {},
   "outputs": [],
   "source": [
    "#%% Download of Fama-French Dataset for Risk Factors (MKT-RF, SMB, HML)\n",
    "          #https://github.com/nakulnayyar/FF3Factor/blob/master/FamaFrench3Factor.ipynb\n",
    "          \n",
    "url = urllib.request.urlopen(\"http://mba.tuck.dartmouth.edu/pages/faculty/ken.french/ftp/F-F_Research_Data_Factors_CSV.zip\")\n",
    "\n",
    "#Download Zipfile and create pandas DataFrame\n",
    "zipfile = ZipFile(io.BytesIO(url.read()))\n",
    "FF_3F = pd.read_csv(zipfile.open('F-F_Research_Data_Factors.CSV'), \n",
    "                     header = 0, names = ['Date','MKT-RF','SMB','HML','RF'], \n",
    "                     skiprows=9)\n",
    "\n",
    "FF_3F = FF_3F.loc[:1111]\n",
    "\n",
    "FF_3F.loc[:,'Date'] = pd.to_datetime(FF_3F['Date'], format = '%Y%m')\n",
    "\n",
    "print(FF_3F.head())\n",
    "print(FF_3F.dtypes)\n",
    "print(FF_3F.tail())"
   ]
  },
  {
   "cell_type": "code",
   "execution_count": null,
   "metadata": {},
   "outputs": [],
   "source": [
    "#%% Download of Fama-French Dataset for Risk Factors (MOM)\n",
    "          #https://github.com/nakulnayyar/FF3Factor/blob/master/FamaFrench3Factor.ipynb\n",
    "          \n",
    "url = urllib.request.urlopen('https://mba.tuck.dartmouth.edu/pages/faculty/ken.french/ftp/F-F_Momentum_Factor_CSV.zip')\n",
    "\n",
    "#Download Zipfile and create pandas DataFrame\n",
    "zipfile = ZipFile(io.BytesIO(url.read()))\n",
    "FF_MOM = pd.read_csv(zipfile.open('F-F_Momentum_Factor.CSV'), \n",
    "                     header = 0, names = ['Date','MOM'], \n",
    "                     skiprows=13)\n",
    "\n",
    "#Drop last row of data - String\n",
    "FF_MOM = FF_MOM[:1112]\n",
    "FF_MOM['Date'] = pd.to_datetime(FF_MOM['Date'], format = '%Y%m')\n",
    "\n",
    "print(FF_MOM.head())\n",
    "print(FF_MOM.dtypes)\n",
    "print(FF_MOM.tail())"
   ]
  },
  {
   "cell_type": "code",
   "execution_count": null,
   "metadata": {},
   "outputs": [],
   "source": [
    "#%% Joining the two CSV files\n",
    "\n",
    "FF_all = FF_3F.merge(FF_MOM, how='left', on = 'Date')"
   ]
  },
  {
   "cell_type": "code",
   "execution_count": null,
   "metadata": {},
   "outputs": [],
   "source": [
    "FF_all = FF_all[['Date', 'MKT-RF', 'SMB', 'HML', 'MOM', 'RF']]\n",
    "\n",
    "#Convert into float\n",
    "FF_all['MKT-RF'] = FF_all['MKT-RF'].astype('float')\n",
    "FF_all['SMB'] = FF_all['SMB'].astype('float')\n",
    "FF_all['HML'] = FF_all['HML'].astype('float')\n",
    "FF_all['MOM'] = FF_all['MOM'].astype('float')\n",
    "FF_all['RF'] = FF_all['RF'].astype('float')\n",
    "\n",
    "print(FF_all.head())\n",
    "print(FF_all.dtypes)\n",
    "print(FF_all.tail())\n"
   ]
  },
  {
   "cell_type": "code",
   "execution_count": null,
   "metadata": {},
   "outputs": [],
   "source": [
    "path = '../data/processed/ff_factors.feather'\n",
    "feather.write_dataframe(FF_all,path)"
   ]
  }
 ],
 "metadata": {
  "hide_input": false,
  "kernelspec": {
   "display_name": "MT",
   "language": "python",
   "name": "mt"
  },
  "language_info": {
   "codemirror_mode": {
    "name": "ipython",
    "version": 3
   },
   "file_extension": ".py",
   "mimetype": "text/x-python",
   "name": "python",
   "nbconvert_exporter": "python",
   "pygments_lexer": "ipython3",
   "version": "3.7.4"
  },
  "toc": {
   "base_numbering": 1,
   "nav_menu": {},
   "number_sections": true,
   "sideBar": true,
   "skip_h1_title": true,
   "title_cell": "Table of Contents",
   "title_sidebar": "Contents",
   "toc_cell": false,
   "toc_position": {},
   "toc_section_display": true,
   "toc_window_display": true
  }
 },
 "nbformat": 4,
 "nbformat_minor": 2
}
