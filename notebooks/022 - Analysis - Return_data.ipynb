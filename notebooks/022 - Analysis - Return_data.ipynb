{
 "cells": [
  {
   "cell_type": "markdown",
   "metadata": {
    "toc": true
   },
   "source": [
    "<h1>Table of Contents<span class=\"tocSkip\"></span></h1>\n",
    "<div class=\"toc\"><ul class=\"toc-item\"><li><span><a href=\"#Analysis-of-monthly-return-data\" data-toc-modified-id=\"Analysis-of-monthly-return-data-1\"><span class=\"toc-item-num\">1&nbsp;&nbsp;</span>Analysis of monthly return data</a></span><ul class=\"toc-item\"><li><span><a href=\"#Distribution-by-date\" data-toc-modified-id=\"Distribution-by-date-1.1\"><span class=\"toc-item-num\">1.1&nbsp;&nbsp;</span>Distribution by date</a></span></li><li><span><a href=\"#Observations-per-Fund\" data-toc-modified-id=\"Observations-per-Fund-1.2\"><span class=\"toc-item-num\">1.2&nbsp;&nbsp;</span>Observations per Fund</a></span></li><li><span><a href=\"#Aggregate-return\" data-toc-modified-id=\"Aggregate-return-1.3\"><span class=\"toc-item-num\">1.3&nbsp;&nbsp;</span>Aggregate return</a></span></li><li><span><a href=\"#Objective-codes\" data-toc-modified-id=\"Objective-codes-1.4\"><span class=\"toc-item-num\">1.4&nbsp;&nbsp;</span>Objective codes</a></span></li></ul></li></ul></div>"
   ]
  },
  {
   "cell_type": "markdown",
   "metadata": {},
   "source": [
    "# Analysis of monthly return data"
   ]
  },
  {
   "cell_type": "markdown",
   "metadata": {},
   "source": [
    "Description:\n"
   ]
  },
  {
   "cell_type": "code",
   "execution_count": null,
   "metadata": {},
   "outputs": [],
   "source": [
    "import feather\n",
    "import numpy as np\n",
    "import pandas as pd\n",
    "import matplotlib.pyplot as plt\n"
   ]
  },
  {
   "cell_type": "code",
   "execution_count": null,
   "metadata": {},
   "outputs": [],
   "source": [
    "path = '../data/processed/returns_ff.feather'\n",
    "returns_a = feather.read_dataframe(path)"
   ]
  },
  {
   "cell_type": "code",
   "execution_count": null,
   "metadata": {},
   "outputs": [],
   "source": [
    "path = '../data/processed/row_info.feather'\n",
    "summary = feather.read_dataframe(path)"
   ]
  },
  {
   "cell_type": "code",
   "execution_count": null,
   "metadata": {},
   "outputs": [],
   "source": [
    "returns = returns_a.iloc[:,:]\n",
    "returns.shape"
   ]
  },
  {
   "cell_type": "code",
   "execution_count": null,
   "metadata": {},
   "outputs": [],
   "source": [
    "summary"
   ]
  },
  {
   "cell_type": "markdown",
   "metadata": {},
   "source": [
    "## Distribution by date"
   ]
  },
  {
   "cell_type": "code",
   "execution_count": null,
   "metadata": {},
   "outputs": [],
   "source": [
    "# Analysis of selected funds\n",
    "\n",
    "## Distribution by date(returns['report_dt']\n",
    "(returns['crsp_fundno']\n",
    "    .groupby([\n",
    "         returns['caldt'].dt.year,\n",
    "#         returns['caldt'].dt.month\n",
    "     ])\n",
    "     .count()\n",
    "     .plot(kind='bar',\n",
    "           color = 'b',\n",
    "          figsize=(20,10)))"
   ]
  },
  {
   "cell_type": "markdown",
   "metadata": {},
   "source": [
    "## Observations per Fund"
   ]
  },
  {
   "cell_type": "code",
   "execution_count": null,
   "metadata": {},
   "outputs": [],
   "source": [
    "# Analysis of selected funds\n",
    "\n",
    "## Distribution by date(returns['report_dt']\n",
    "a = (returns['crsp_fundno']\n",
    "    .groupby([\n",
    "         returns['crsp_fundno']\n",
    "     ])\n",
    "    .count()\n",
    ")\n",
    "a = a.groupby(a).count().cumsum().T"
   ]
  },
  {
   "cell_type": "code",
   "execution_count": null,
   "metadata": {},
   "outputs": [],
   "source": [
    "a.plot(kind='line',\n",
    "       color = 'b',\n",
    "       figsize=(10,5))"
   ]
  },
  {
   "cell_type": "markdown",
   "metadata": {},
   "source": [
    "## Aggregate return"
   ]
  },
  {
   "cell_type": "code",
   "execution_count": null,
   "metadata": {},
   "outputs": [],
   "source": [
    "return_class = returns.groupby(['lipper_class','caldt']).mean()[['mret','mret_adj']]\n",
    "return_class = return_class.reset_index()\n",
    "return_class.loc[return_class.caldt == '2010-01-29',['mret','mret_adj']] = 0\n",
    "\n",
    "return_class[['mret','mret_adj']] = return_class[['mret','mret_adj']] + 1"
   ]
  },
  {
   "cell_type": "code",
   "execution_count": null,
   "metadata": {},
   "outputs": [],
   "source": [
    "return_class.query('''caldt >= '2010-01-01' ''', inplace=True)\n",
    "return_class = return_class.set_index(['lipper_class','caldt']).groupby(level=[0]).cumprod()"
   ]
  },
  {
   "cell_type": "code",
   "execution_count": null,
   "metadata": {},
   "outputs": [],
   "source": [
    "return_class = return_class.reset_index()"
   ]
  },
  {
   "cell_type": "code",
   "execution_count": null,
   "metadata": {},
   "outputs": [],
   "source": [
    "return_class['mret'].plot(kind='line',\n",
    "                          hue =  return_class['lipper_class'],\n",
    "                          color = 'b',\n",
    "                              figsize=(16,10))"
   ]
  },
  {
   "cell_type": "markdown",
   "metadata": {},
   "source": [
    "Different from zero?"
   ]
  },
  {
   "cell_type": "code",
   "execution_count": null,
   "metadata": {},
   "outputs": [],
   "source": [
    "return_class.loc[:,['mean']].boxplot()"
   ]
  },
  {
   "cell_type": "markdown",
   "metadata": {},
   "source": [
    "## Objective codes"
   ]
  },
  {
   "cell_type": "code",
   "execution_count": null,
   "metadata": {},
   "outputs": [],
   "source": [
    "return_class.sample()"
   ]
  },
  {
   "cell_type": "code",
   "execution_count": null,
   "metadata": {},
   "outputs": [],
   "source": [
    "returns_grouped = (return_class['cumulative']\n",
    "    .groupby(\n",
    "        level=[0]))"
   ]
  },
  {
   "cell_type": "code",
   "execution_count": null,
   "metadata": {},
   "outputs": [],
   "source": [
    "returns_grouped = returns_grouped.describe()"
   ]
  },
  {
   "cell_type": "code",
   "execution_count": null,
   "metadata": {},
   "outputs": [],
   "source": [
    "returns_grouped['mean'].sort_values().plot(\n",
    "            kind='bar',\n",
    "            color = 'b',\n",
    "            figsize=(5,5))"
   ]
  },
  {
   "cell_type": "code",
   "execution_count": null,
   "metadata": {},
   "outputs": [],
   "source": []
  },
  {
   "cell_type": "code",
   "execution_count": null,
   "metadata": {},
   "outputs": [],
   "source": []
  }
 ],
 "metadata": {
  "hide_input": false,
  "kernelspec": {
   "display_name": "Python 3",
   "language": "python",
   "name": "python3"
  },
  "language_info": {
   "codemirror_mode": {
    "name": "ipython",
    "version": 3
   },
   "file_extension": ".py",
   "mimetype": "text/x-python",
   "name": "python",
   "nbconvert_exporter": "python",
   "pygments_lexer": "ipython3",
   "version": "3.7.4"
  },
  "toc": {
   "base_numbering": 1,
   "nav_menu": {},
   "number_sections": true,
   "sideBar": true,
   "skip_h1_title": false,
   "title_cell": "Table of Contents",
   "title_sidebar": "Contents",
   "toc_cell": true,
   "toc_position": {},
   "toc_section_display": true,
   "toc_window_display": false
  }
 },
 "nbformat": 4,
 "nbformat_minor": 2
}
