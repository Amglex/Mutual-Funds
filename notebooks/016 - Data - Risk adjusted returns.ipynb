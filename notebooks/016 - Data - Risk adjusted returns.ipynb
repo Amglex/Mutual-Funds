{
 "cells": [
  {
   "cell_type": "markdown",
   "metadata": {},
   "source": [
    "# Analysis of monthly return data"
   ]
  },
  {
   "cell_type": "markdown",
   "metadata": {},
   "source": [
    "Description:\n"
   ]
  },
  {
   "cell_type": "markdown",
   "metadata": {},
   "source": [
    "## Data loading"
   ]
  },
  {
   "cell_type": "code",
   "execution_count": null,
   "metadata": {},
   "outputs": [],
   "source": [
    "import feather\n",
    "import numpy as np\n",
    "import pandas as pd\n",
    "\n",
    "import datetime as dt\n",
    "from sklearn.linear_model import LinearRegression\n",
    "\n",
    "import matplotlib.pyplot as plt"
   ]
  },
  {
   "cell_type": "code",
   "execution_count": null,
   "metadata": {},
   "outputs": [],
   "source": [
    "path = '../data/processed/returns.feather'\n",
    "returns = feather.read_dataframe(path)\n",
    "returns.query(''' caldt > '2007-01-01' ''', inplace=True)"
   ]
  },
  {
   "cell_type": "code",
   "execution_count": null,
   "metadata": {},
   "outputs": [],
   "source": [
    "path = '../data/processed/row_info.feather'\n",
    "row_info = feather.read_dataframe(path)"
   ]
  },
  {
   "cell_type": "code",
   "execution_count": null,
   "metadata": {},
   "outputs": [],
   "source": [
    "path = '../data/processed/ff_factors.feather'\n",
    "ff_all = feather.read_dataframe(path)"
   ]
  },
  {
   "cell_type": "markdown",
   "metadata": {},
   "source": [
    "## Merge data"
   ]
  },
  {
   "cell_type": "code",
   "execution_count": null,
   "metadata": {},
   "outputs": [],
   "source": [
    "offset = pd.offsets.MonthBegin()\n",
    "returns.loc[:,'Date'] = returns.caldt.apply(offset.rollforward)\n",
    "\n",
    "# for checks\n",
    "returns.loc[:,'diff'] = returns.caldt - returns.Date\n",
    "\n",
    "returns_m = returns.merge(ff_all, how = 'left')"
   ]
  },
  {
   "cell_type": "code",
   "execution_count": null,
   "metadata": {},
   "outputs": [],
   "source": [
    "factors = ['MKT-RF','SMB','HML','MOM','RF']\n",
    "returns_m[factors] = returns_m[factors] / 100\n",
    "# Check if diff is small \n",
    "# Results from crsp being end of month and ff first day of month"
   ]
  },
  {
   "cell_type": "code",
   "execution_count": null,
   "metadata": {},
   "outputs": [],
   "source": [
    "returns_m.describe()"
   ]
  },
  {
   "cell_type": "markdown",
   "metadata": {},
   "source": [
    "## Rolling regression"
   ]
  },
  {
   "cell_type": "code",
   "execution_count": null,
   "metadata": {},
   "outputs": [],
   "source": [
    "def regress(group_1):\n",
    "        \n",
    "    ''' Regress using all but the last row to fit and the last row to predict on  '''\n",
    "    \n",
    "    # Make copy first, if we modify an input of a function, otherwise we will always get the warning \n",
    "    result = group_1.copy()\n",
    "    \n",
    "    # Set up linear regession\n",
    "    reg = LinearRegression()\n",
    "\n",
    "    # Get number of total rows in this group\n",
    "    n_rows = group_1.shape[0]\n",
    "\n",
    "    # Divide the data into train and test sample (test is only the last observation)\n",
    "    # Note python indexing does not include upper boundry\n",
    "    data_train = group_1.iloc[:(n_rows - 1)]\n",
    "\n",
    "    data_test  = group_1.iloc[[n_rows - 1], :] \n",
    "\n",
    "    reg.fit(data_train[['MKT-RF', 'SMB', 'HML', 'MOM']], data_train['mret'])\n",
    "\n",
    "    # Since we use iloc we have to use 9 instead of prediction: \n",
    "    # Not good style since it is prone for future bugs.\n",
    "    prediction = reg.predict(data_test.loc[:, ['MKT-RF', 'SMB', 'HML', 'MOM']])\n",
    "\n",
    "    return(prediction)\n",
    "\n",
    "# Function\n",
    "def rolling_regress(data, window):\n",
    "    \n",
    "    group_1 = data.copy()\n",
    "    predictions = group_1['prediction'].copy()\n",
    "    \n",
    "    n_rows = group_1.shape[0]\n",
    "    \n",
    "    for i in np.arange(window + 1, n_rows + 1):\n",
    "    \n",
    "        group_1_temp = group_1.copy()\n",
    "        group_1_temp = group_1_temp.iloc[:i].tail(window+1)\n",
    "        predictions.iloc[i-1] = regress(group_1_temp)\n",
    "    \n",
    "    group_1['prediction'] = predictions\n",
    "    \n",
    "    return(group_1)\n",
    "\n",
    "def rolling_grouped_regress(data, window):\n",
    "    # Has to optimized (parallized)\n",
    "    \n",
    "    \n",
    "    # To store result_dfs\n",
    "    results_list = []\n",
    "\n",
    "    # For counter / percentage complete\n",
    "    n_uniqued_groups = data['crsp_fundno'].nunique()\n",
    "    count = 1\n",
    "\n",
    "    # Groupby and loop over groups\n",
    "    grouper = data.groupby('crsp_fundno')\n",
    "    for i, group in grouper:\n",
    "        \n",
    "        # Rolling regress for group\n",
    "        result_temp = rolling_regress(group, window)\n",
    "\n",
    "        # Save result    \n",
    "        results_list.append(result_temp)\n",
    "\n",
    "        # Print percentage complete (Kann man auch löschen oder mit \"if verbose == True: \" als option hinzufügen)\n",
    "        if count % 200 = 0:\n",
    "            perc = count / n_uniqued_groups * 100\n",
    "            print('Percentage complete: {:>5.2f}%'.format(perc))\n",
    "        count += 1\n",
    "        \n",
    "\n",
    "    return_df = pd.concat(results_list)\n",
    "    return(return_df)"
   ]
  },
  {
   "cell_type": "code",
   "execution_count": null,
   "metadata": {},
   "outputs": [],
   "source": [
    "start_time = dt.datetime.now()\n",
    "\n",
    "returns_m.loc[:,'prediction'] = np.nan\n",
    "returns_mf = rolling_grouped_regress(returns_m, 24)\n",
    "\n",
    "end_time = dt.datetime.now()\n",
    "print(end_time - start_time)"
   ]
  },
  {
   "cell_type": "code",
   "execution_count": null,
   "metadata": {},
   "outputs": [],
   "source": [
    "returns_mf.loc[:,'mret_adj'] = returns_mf.loc[:,'mret'] - returns_mf.loc[:,'prediction']\n",
    "\n",
    "returns_mf.groupby('lipper_class').agg('mean') * 100"
   ]
  },
  {
   "cell_type": "code",
   "execution_count": null,
   "metadata": {},
   "outputs": [],
   "source": [
    "returns_mf = returns_mf[['crsp_fundno', 'caldt', 'mret', 'lipper_class', 'style_class',\n",
    "                       'cap_class', 'mret_adj']]"
   ]
  },
  {
   "cell_type": "code",
   "execution_count": null,
   "metadata": {},
   "outputs": [],
   "source": [
    "path = '../data/processed/returns_ff.feather'\n",
    "feather.write_dataframe(returns_mf,path)"
   ]
  },
  {
   "cell_type": "markdown",
   "metadata": {
    "toc": true
   },
   "source": [
    "<h1>Table of Contents<span class=\"tocSkip\"></span></h1>\n",
    "<div class=\"toc\"><ul class=\"toc-item\"><li><span><a href=\"#Data-loading\" data-toc-modified-id=\"Data-loading-1\"><span class=\"toc-item-num\">1&nbsp;&nbsp;</span>Data loading</a></span></li><li><span><a href=\"#Merge-data\" data-toc-modified-id=\"Merge-data-2\"><span class=\"toc-item-num\">2&nbsp;&nbsp;</span>Merge data</a></span></li><li><span><a href=\"#Rolling-regression\" data-toc-modified-id=\"Rolling-regression-3\"><span class=\"toc-item-num\">3&nbsp;&nbsp;</span>Rolling regression</a></span></li></ul></div>"
   ]
  }
 ],
 "metadata": {
  "hide_input": false,
  "kernelspec": {
   "display_name": "Python 3",
   "language": "python",
   "name": "python3"
  },
  "language_info": {
   "codemirror_mode": {
    "name": "ipython",
    "version": 3
   },
   "file_extension": ".py",
   "mimetype": "text/x-python",
   "name": "python",
   "nbconvert_exporter": "python",
   "pygments_lexer": "ipython3",
   "version": "3.7.4"
  },
  "toc": {
   "base_numbering": 1,
   "nav_menu": {},
   "number_sections": true,
   "sideBar": true,
   "skip_h1_title": true,
   "title_cell": "Table of Contents",
   "title_sidebar": "Contents",
   "toc_cell": true,
   "toc_position": {},
   "toc_section_display": true,
   "toc_window_display": true
  }
 },
 "nbformat": 4,
 "nbformat_minor": 2
}
