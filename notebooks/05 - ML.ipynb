{
 "cells": [
  {
   "cell_type": "code",
   "execution_count": 1,
   "metadata": {},
   "outputs": [],
   "source": [
    "import feather\n",
    "import numpy as np\n",
    "import pandas as pd\n",
    "import seaborn as sns\n",
    "import matplotlib.pyplot as plt\n",
    "\n",
    "from scipy import sparse"
   ]
  },
  {
   "cell_type": "code",
   "execution_count": 2,
   "metadata": {},
   "outputs": [],
   "source": [
    "from sklearn.linear_model import PassiveAggressiveClassifier, SGDClassifier\n",
    "from sklearn.linear_model import LogisticRegression, LogisticRegressionCV\n",
    "\n",
    "from sklearn.naive_bayes import ComplementNB, MultinomialNB\n",
    "\n",
    "from sklearn.cluster import KMeans\n",
    "\n",
    "from sklearn.ensemble import RandomForestClassifier\n",
    "\n",
    "from sklearn.preprocessing import StandardScaler, Normalizer, QuantileTransformer\n",
    "\n",
    "from sklearn.model_selection import train_test_split, cross_val_score, GridSearchCV, GroupKFold\n",
    "\n",
    "from sklearn.metrics import cohen_kappa_score, make_scorer, confusion_matrix, classification_report, SCORERS\n",
    "\n",
    "from sklearn.utils import shuffle\n",
    "\n",
    "from sklearn.decomposition import TruncatedSVD\n",
    "\n",
    "from scipy.stats import describe"
   ]
  },
  {
   "cell_type": "code",
   "execution_count": 3,
   "metadata": {},
   "outputs": [],
   "source": [
    "from sklearn.metrics import make_scorer\n",
    "from sklearn.metrics import accuracy_score"
   ]
  },
  {
   "cell_type": "markdown",
   "metadata": {},
   "source": [
    "## Load Sparse matrix"
   ]
  },
  {
   "cell_type": "code",
   "execution_count": 4,
   "metadata": {},
   "outputs": [
    {
     "name": "stdout",
     "output_type": "stream",
     "text": [
      "Rows training: \n",
      "33,976 rows info\n",
      "33,976 rows data\n",
      "\n",
      "Rows testing: \n",
      "15,993 rows info\n",
      "15,993 rows data\n",
      "\n",
      "Total rows: 49,969\n"
     ]
    }
   ],
   "source": [
    "path = '../data/final/info_train.feather'\n",
    "info_train = feather.read_dataframe(path)\n",
    "\n",
    "path = '../data/final/info_test.feather'\n",
    "info_test = feather.read_dataframe(path)\n",
    "\n",
    "path = '../data/final/sparse_matrix_train.npz'\n",
    "sparse_matrix_train = sparse.load_npz(path)\n",
    "\n",
    "path = '../data/final/sparse_matrix_test.npz'\n",
    "sparse_matrix_test = sparse.load_npz(path)\n",
    "\n",
    "X_train = sparse_matrix_train\n",
    "X_test = sparse_matrix_test\n",
    "\n",
    "y_train = list(info_train['s_crsp_obj_cd'])\n",
    "y_test = list(info_test['s_crsp_obj_cd'])\n",
    "\n",
    "data_train = np.array(X_train.sum(1)).flatten()\n",
    "data_test = np.array(X_test.sum(1)).flatten()\n",
    "\n",
    "TOL = 300\n",
    "\n",
    "index_train = np.abs(data_train) < TOL\n",
    "index_test = np.abs(data_test) < TOL\n",
    "\n",
    "X_train = X_train[index_train.T]\n",
    "X_test = X_test[index_test.T]\n",
    "\n",
    "y_train = list(d for d, s in zip(y_train, index_train) if s)\n",
    "y_test = list(d for d, s in zip(y_test, index_test) if s)\n",
    "\n",
    "info_train = info_train[index_train.T]\n",
    "info_test = info_test[index_test.T]\n",
    "\n",
    "X_total = sparse.vstack((X_train,X_test))\n",
    "y_total = y_train + y_test\n",
    "\n",
    "groups = info_train.groupby(['port_no']).ngroup()\n",
    "\n",
    "print('Rows training: \\n{:,} rows info\\n{:,} rows data'.format(len(y_train),X_train.shape[0]))\n",
    "print('')\n",
    "print('Rows testing: \\n{:,} rows info\\n{:,} rows data'.format(len(y_test),X_test.shape[0]))\n",
    "print('')\n",
    "print('Total rows: {:,}'.format(X_train.shape[0] + X_test.shape[0]))"
   ]
  },
  {
   "cell_type": "markdown",
   "metadata": {},
   "source": [
    "## Scale data"
   ]
  },
  {
   "cell_type": "code",
   "execution_count": 637,
   "metadata": {},
   "outputs": [],
   "source": [
    "scaler = StandardScaler(with_mean=False)\n",
    "\n",
    "# Fit on training set only.\n",
    "scaler.fit(X_train)\n",
    "\n",
    "# Apply transform to both the training set and the test set.\n",
    "X_train = scaler.transform(X_train)\n",
    "X_test = scaler.transform(X_test)"
   ]
  },
  {
   "cell_type": "markdown",
   "metadata": {},
   "source": [
    "# Models"
   ]
  },
  {
   "cell_type": "markdown",
   "metadata": {},
   "source": [
    "## kMeans"
   ]
  },
  {
   "cell_type": "code",
   "execution_count": 19,
   "metadata": {},
   "outputs": [
    {
     "name": "stdout",
     "output_type": "stream",
     "text": [
      "Start kMeans...\n",
      "CPU times: user 1min 22s, sys: 3.57 s, total: 1min 25s\n",
      "Wall time: 1min 12s\n"
     ]
    }
   ],
   "source": [
    "%%time\n",
    "print('Start kMeans...')\n",
    "kmeans = KMeans(n_clusters=5,\n",
    "                n_jobs=-1,\n",
    "                random_state=0).fit(X_test)"
   ]
  },
  {
   "cell_type": "code",
   "execution_count": 18,
   "metadata": {},
   "outputs": [
    {
     "ename": "TypeError",
     "evalue": "score() missing 1 required positional argument: 'X'",
     "output_type": "error",
     "traceback": [
      "\u001b[0;31m---------------------------------------------------------------------------\u001b[0m",
      "\u001b[0;31mTypeError\u001b[0m                                 Traceback (most recent call last)",
      "\u001b[0;32m<ipython-input-18-3589ba256c01>\u001b[0m in \u001b[0;36m<module>\u001b[0;34m\u001b[0m\n\u001b[0;32m----> 1\u001b[0;31m \u001b[0mkmeans\u001b[0m\u001b[0;34m.\u001b[0m\u001b[0mscore\u001b[0m\u001b[0;34m(\u001b[0m\u001b[0;34m)\u001b[0m\u001b[0;34m\u001b[0m\u001b[0;34m\u001b[0m\u001b[0m\n\u001b[0m",
      "\u001b[0;31mTypeError\u001b[0m: score() missing 1 required positional argument: 'X'"
     ]
    }
   ],
   "source": [
    "kmeans.score()"
   ]
  },
  {
   "cell_type": "code",
   "execution_count": 8,
   "metadata": {},
   "outputs": [
    {
     "ename": "NameError",
     "evalue": "name 'PAC' is not defined",
     "output_type": "error",
     "traceback": [
      "\u001b[0;31m---------------------------------------------------------------------------\u001b[0m",
      "\u001b[0;31mNameError\u001b[0m                                 Traceback (most recent call last)",
      "\u001b[0;32m<ipython-input-8-9eb772a1d14a>\u001b[0m in \u001b[0;36m<module>\u001b[0;34m\u001b[0m\n\u001b[0;32m----> 1\u001b[0;31m \u001b[0mPAC_pred\u001b[0m \u001b[0;34m=\u001b[0m \u001b[0mPAC\u001b[0m\u001b[0;34m.\u001b[0m\u001b[0mpredict\u001b[0m\u001b[0;34m(\u001b[0m\u001b[0mX_test\u001b[0m\u001b[0;34m)\u001b[0m\u001b[0;34m\u001b[0m\u001b[0;34m\u001b[0m\u001b[0m\n\u001b[0m\u001b[1;32m      2\u001b[0m \u001b[0mprint\u001b[0m\u001b[0;34m(\u001b[0m\u001b[0;34m'PAC kappa score'\u001b[0m\u001b[0;34m,\u001b[0m\u001b[0mcohen_kappa_score\u001b[0m\u001b[0;34m(\u001b[0m\u001b[0mPAC_pred\u001b[0m\u001b[0;34m,\u001b[0m \u001b[0my_test\u001b[0m\u001b[0;34m)\u001b[0m\u001b[0;34m)\u001b[0m\u001b[0;34m\u001b[0m\u001b[0;34m\u001b[0m\u001b[0m\n\u001b[1;32m      3\u001b[0m \u001b[0mprint\u001b[0m\u001b[0;34m(\u001b[0m\u001b[0;34m'PAC score'\u001b[0m\u001b[0;34m,\u001b[0m\u001b[0mPAC\u001b[0m\u001b[0;34m.\u001b[0m\u001b[0mscore\u001b[0m\u001b[0;34m(\u001b[0m\u001b[0mX_test\u001b[0m\u001b[0;34m,\u001b[0m \u001b[0my_test\u001b[0m\u001b[0;34m)\u001b[0m\u001b[0;34m)\u001b[0m\u001b[0;34m\u001b[0m\u001b[0;34m\u001b[0m\u001b[0m\n",
      "\u001b[0;31mNameError\u001b[0m: name 'PAC' is not defined"
     ]
    }
   ],
   "source": [
    "PAC_pred = PAC.predict(X_test)\n",
    "print('PAC kappa score',cohen_kappa_score(PAC_pred, y_test))\n",
    "print('PAC score',PAC.score(X_test, y_test))"
   ]
  },
  {
   "cell_type": "markdown",
   "metadata": {},
   "source": [
    "## PassiveAggressiveClassifier"
   ]
  },
  {
   "cell_type": "code",
   "execution_count": 357,
   "metadata": {},
   "outputs": [
    {
     "name": "stdout",
     "output_type": "stream",
     "text": [
      "Start PassiveAggressiveClassifier...\n",
      "CPU times: user 19.6 s, sys: 261 ms, total: 19.9 s\n",
      "Wall time: 4.24 s\n"
     ]
    }
   ],
   "source": [
    "%%time\n",
    "print('Start PassiveAggressiveClassifier...')\n",
    "PAC = PassiveAggressiveClassifier(C = 1e-7,\n",
    "                                  tol = 1e-5,\n",
    "                                  n_iter_no_change=100,\n",
    "                                  n_jobs = -1,\n",
    "                                  early_stopping = True\n",
    "                                  ).fit(X_train, y_train)"
   ]
  },
  {
   "cell_type": "code",
   "execution_count": 358,
   "metadata": {},
   "outputs": [
    {
     "name": "stdout",
     "output_type": "stream",
     "text": [
      "PAC kappa score 0.6427706953883168\n",
      "PAC score 0.7864690802225974\n"
     ]
    }
   ],
   "source": [
    "PAC_pred = PAC.predict(X_test)\n",
    "print('PAC kappa score',cohen_kappa_score(PAC_pred, y_test))\n",
    "print('PAC score',PAC.score(X_test, y_test))"
   ]
  },
  {
   "cell_type": "markdown",
   "metadata": {},
   "source": [
    "## Logistic regression"
   ]
  },
  {
   "cell_type": "code",
   "execution_count": 265,
   "metadata": {},
   "outputs": [
    {
     "name": "stdout",
     "output_type": "stream",
     "text": [
      "Start logistic regression...\n"
     ]
    },
    {
     "name": "stderr",
     "output_type": "stream",
     "text": [
      "/usr/local/lib/python3.7/site-packages/sklearn/linear_model/sag.py:334: ConvergenceWarning: The max_iter was reached which means the coef_ did not converge\n",
      "  \"the coef_ did not converge\", ConvergenceWarning)\n"
     ]
    },
    {
     "name": "stdout",
     "output_type": "stream",
     "text": [
      "CPU times: user 2min 1s, sys: 1min 41s, total: 3min 43s\n",
      "Wall time: 1min 7s\n"
     ]
    }
   ],
   "source": [
    "%%time\n",
    "print('Start logistic regression...')\n",
    "LR_1 = LogisticRegression(solver = 'saga',\n",
    "                        multi_class = 'multinomial',\n",
    "                        penalty = 'l2',\n",
    "                        n_jobs = -1\n",
    "                        ).fit(X_train, y_train)"
   ]
  },
  {
   "cell_type": "code",
   "execution_count": 261,
   "metadata": {},
   "outputs": [
    {
     "name": "stdout",
     "output_type": "stream",
     "text": [
      "LR kappa score 0.6067931586609285\n",
      "LR score 0.7687738385543675\n"
     ]
    }
   ],
   "source": [
    "LR_pred = LR_1.predict(X_test)\n",
    "print('LR kappa score',cohen_kappa_score(LR_pred, y_test))\n",
    "print('LR score',LR_1.score(X_test, y_test))"
   ]
  },
  {
   "cell_type": "markdown",
   "metadata": {},
   "source": [
    "## Random Forest"
   ]
  },
  {
   "cell_type": "code",
   "execution_count": 477,
   "metadata": {},
   "outputs": [
    {
     "name": "stdout",
     "output_type": "stream",
     "text": [
      "Start Random Forest...\n"
     ]
    },
    {
     "name": "stderr",
     "output_type": "stream",
     "text": [
      "[Parallel(n_jobs=-1)]: Using backend ThreadingBackend with 8 concurrent workers.\n",
      "[Parallel(n_jobs=-1)]: Done  34 tasks      | elapsed:    0.4s\n",
      "[Parallel(n_jobs=-1)]: Done 184 tasks      | elapsed:    2.2s\n",
      "[Parallel(n_jobs=-1)]: Done 434 tasks      | elapsed:    5.0s\n",
      "[Parallel(n_jobs=-1)]: Done 784 tasks      | elapsed:    9.0s\n"
     ]
    },
    {
     "name": "stdout",
     "output_type": "stream",
     "text": [
      "CPU times: user 30.7 s, sys: 6.69 s, total: 37.3 s\n",
      "Wall time: 12.1 s\n"
     ]
    },
    {
     "name": "stderr",
     "output_type": "stream",
     "text": [
      "[Parallel(n_jobs=-1)]: Done 1000 out of 1000 | elapsed:   11.6s finished\n"
     ]
    }
   ],
   "source": [
    "%%time\n",
    "print('Start Random Forest...')\n",
    "le = preprocessing.LabelEncoder()\n",
    "le.fit(y_train)\n",
    "\n",
    "y_train_rf = le.fit_transform(y_train)\n",
    "y_test_rf = le.transform(y_test)\n",
    "\n",
    "RF = RandomForestClassifier(n_estimators=1000, \n",
    "                            min_samples_leaf=100,\n",
    "                            random_state=0,\n",
    "                            max_features = \"auto\",\n",
    "                            verbose = 1,\n",
    "                            n_jobs = -1\n",
    "                           ).fit(X_train, y_train_rf)"
   ]
  },
  {
   "cell_type": "code",
   "execution_count": 478,
   "metadata": {},
   "outputs": [
    {
     "name": "stderr",
     "output_type": "stream",
     "text": [
      "[Parallel(n_jobs=8)]: Using backend ThreadingBackend with 8 concurrent workers.\n",
      "[Parallel(n_jobs=8)]: Done  34 tasks      | elapsed:    0.1s\n",
      "[Parallel(n_jobs=8)]: Done 184 tasks      | elapsed:    0.6s\n",
      "[Parallel(n_jobs=8)]: Done 434 tasks      | elapsed:    1.3s\n",
      "[Parallel(n_jobs=8)]: Done 784 tasks      | elapsed:    2.2s\n",
      "[Parallel(n_jobs=8)]: Done 1000 out of 1000 | elapsed:    2.9s finished\n",
      "[Parallel(n_jobs=8)]: Using backend ThreadingBackend with 8 concurrent workers.\n"
     ]
    },
    {
     "name": "stdout",
     "output_type": "stream",
     "text": [
      "RF kappa score 0.15971443747508995\n"
     ]
    },
    {
     "name": "stderr",
     "output_type": "stream",
     "text": [
      "[Parallel(n_jobs=8)]: Done  34 tasks      | elapsed:    0.1s\n",
      "[Parallel(n_jobs=8)]: Done 184 tasks      | elapsed:    0.6s\n",
      "[Parallel(n_jobs=8)]: Done 434 tasks      | elapsed:    1.3s\n",
      "[Parallel(n_jobs=8)]: Done 784 tasks      | elapsed:    2.3s\n"
     ]
    },
    {
     "name": "stdout",
     "output_type": "stream",
     "text": [
      "RF score 0.5535546801725755\n"
     ]
    },
    {
     "name": "stderr",
     "output_type": "stream",
     "text": [
      "[Parallel(n_jobs=8)]: Done 1000 out of 1000 | elapsed:    2.9s finished\n"
     ]
    }
   ],
   "source": [
    "RF_pred = RF.predict(X_test)\n",
    "print('RF kappa score',cohen_kappa_score(RF_pred, y_test_rf))\n",
    "print('RF score',RF.score(X_test, y_test_rf))"
   ]
  },
  {
   "cell_type": "markdown",
   "metadata": {},
   "source": [
    "## SGD"
   ]
  },
  {
   "cell_type": "code",
   "execution_count": 681,
   "metadata": {},
   "outputs": [
    {
     "name": "stdout",
     "output_type": "stream",
     "text": [
      "Start SGDClassifier...\n"
     ]
    },
    {
     "name": "stderr",
     "output_type": "stream",
     "text": [
      "/usr/local/lib/python3.7/site-packages/sklearn/linear_model/stochastic_gradient.py:183: FutureWarning: max_iter and tol parameters have been added in SGDClassifier in 0.19. If max_iter is set but tol is left unset, the default value for tol in 0.19 and 0.20 will be None (which is equivalent to -infinity, so it has no effect) but will change in 0.21 to 1e-3. Specify tol to silence this warning.\n",
      "  FutureWarning)\n"
     ]
    },
    {
     "name": "stdout",
     "output_type": "stream",
     "text": [
      "CPU times: user 6min 17s, sys: 1.56 s, total: 6min 18s\n",
      "Wall time: 1min 18s\n"
     ]
    }
   ],
   "source": [
    "%%time\n",
    "\n",
    "\n",
    "# data has to be scaled!!!!\n",
    "\n",
    "print('Start SGDClassifier...')\n",
    "\n",
    "SGD = SGDClassifier(loss='log', \n",
    "                    penalty='l1', \n",
    "                    alpha=0.0001, \n",
    "                    l1_ratio=0.15,  \n",
    "                    max_iter=1000, \n",
    "                    tol=None, \n",
    "                    verbose=0, \n",
    "                    n_jobs=-1, \n",
    "                    random_state=1, \n",
    "                    learning_rate='optimal', \n",
    "                    eta0=0.0, \n",
    "                    validation_fraction=0.1, \n",
    "                    n_iter_no_change=5, \n",
    "                    class_weight=None, \n",
    "                    warm_start=False, \n",
    "                    average=False, \n",
    "                    n_iter=None).fit(X_train, y_train_rf)"
   ]
  },
  {
   "cell_type": "code",
   "execution_count": 682,
   "metadata": {},
   "outputs": [
    {
     "name": "stdout",
     "output_type": "stream",
     "text": [
      "SGD kappa score 0.5409621188127545\n",
      "SGD score 0.7134996560995436\n"
     ]
    }
   ],
   "source": [
    "SGD_pred = SGD.predict(X_test)\n",
    "print('SGD kappa score',cohen_kappa_score(SGD_pred, y_test_rf))\n",
    "print('SGD score',SGD.score(X_test, y_test_rf))"
   ]
  },
  {
   "cell_type": "code",
   "execution_count": 683,
   "metadata": {},
   "outputs": [
    {
     "ename": "NameError",
     "evalue": "name 'LR' is not defined",
     "output_type": "error",
     "traceback": [
      "\u001b[0;31m---------------------------------------------------------------------------\u001b[0m",
      "\u001b[0;31mNameError\u001b[0m                                 Traceback (most recent call last)",
      "\u001b[0;32m<timed exec>\u001b[0m in \u001b[0;36m<module>\u001b[0;34m\u001b[0m\n",
      "\u001b[0;31mNameError\u001b[0m: name 'LR' is not defined"
     ]
    }
   ],
   "source": [
    "%%time\n",
    "PAC_pred = PAC.predict(X_test)\n",
    "LR_pred = LR.predict(X_test)\n",
    "RF_pred = RF.predict(X_test)\n",
    "\n",
    "print('PAC kappa score',cohen_kappa_score(PAC_pred, y_test))\n",
    "print('LR kappa score',cohen_kappa_score(LR_pred, y_test))\n",
    "print('RF kappa score',cohen_kappa_score(RF_pred, y_test_rf))\n",
    "print('')\n",
    "print('PAC score',PAC.score(X_test, y_test))\n",
    "print('LR score',LR.score(X_test, y_test))\n",
    "print('RF score',RF.score(X_test, y_test_rf))\n",
    "print('')"
   ]
  },
  {
   "cell_type": "markdown",
   "metadata": {},
   "source": [
    "# Analyse models"
   ]
  },
  {
   "cell_type": "code",
   "execution_count": 674,
   "metadata": {},
   "outputs": [],
   "source": [
    "model = clf"
   ]
  },
  {
   "cell_type": "code",
   "execution_count": 643,
   "metadata": {
    "collapsed": true
   },
   "outputs": [
    {
     "ename": "NotFittedError",
     "evalue": "This GridSearchCV instance was initialized with refit=False. predict is available only after refitting on the best parameters. You can refit an estimator manually using the ``best_params_`` attribute",
     "output_type": "error",
     "traceback": [
      "\u001b[0;31m---------------------------------------------------------------------------\u001b[0m",
      "\u001b[0;31mNotFittedError\u001b[0m                            Traceback (most recent call last)",
      "\u001b[0;32m<ipython-input-643-472fa2d42378>\u001b[0m in \u001b[0;36m<module>\u001b[0;34m\u001b[0m\n\u001b[0;32m----> 1\u001b[0;31m \u001b[0minfo_test\u001b[0m\u001b[0;34m[\u001b[0m\u001b[0;34m'new'\u001b[0m\u001b[0;34m]\u001b[0m \u001b[0;34m=\u001b[0m \u001b[0mmodel\u001b[0m\u001b[0;34m.\u001b[0m\u001b[0mpredict\u001b[0m\u001b[0;34m(\u001b[0m\u001b[0mX_test\u001b[0m\u001b[0;34m)\u001b[0m\u001b[0;34m\u001b[0m\u001b[0;34m\u001b[0m\u001b[0m\n\u001b[0m",
      "\u001b[0;32m/usr/local/lib/python3.7/site-packages/sklearn/utils/metaestimators.py\u001b[0m in \u001b[0;36m<lambda>\u001b[0;34m(*args, **kwargs)\u001b[0m\n\u001b[1;32m    116\u001b[0m \u001b[0;34m\u001b[0m\u001b[0m\n\u001b[1;32m    117\u001b[0m         \u001b[0;31m# lambda, but not partial, allows help() to work with update_wrapper\u001b[0m\u001b[0;34m\u001b[0m\u001b[0;34m\u001b[0m\u001b[0;34m\u001b[0m\u001b[0m\n\u001b[0;32m--> 118\u001b[0;31m         \u001b[0mout\u001b[0m \u001b[0;34m=\u001b[0m \u001b[0;32mlambda\u001b[0m \u001b[0;34m*\u001b[0m\u001b[0margs\u001b[0m\u001b[0;34m,\u001b[0m \u001b[0;34m**\u001b[0m\u001b[0mkwargs\u001b[0m\u001b[0;34m:\u001b[0m \u001b[0mself\u001b[0m\u001b[0;34m.\u001b[0m\u001b[0mfn\u001b[0m\u001b[0;34m(\u001b[0m\u001b[0mobj\u001b[0m\u001b[0;34m,\u001b[0m \u001b[0;34m*\u001b[0m\u001b[0margs\u001b[0m\u001b[0;34m,\u001b[0m \u001b[0;34m**\u001b[0m\u001b[0mkwargs\u001b[0m\u001b[0;34m)\u001b[0m\u001b[0;34m\u001b[0m\u001b[0;34m\u001b[0m\u001b[0m\n\u001b[0m\u001b[1;32m    119\u001b[0m         \u001b[0;31m# update the docstring of the returned function\u001b[0m\u001b[0;34m\u001b[0m\u001b[0;34m\u001b[0m\u001b[0;34m\u001b[0m\u001b[0m\n\u001b[1;32m    120\u001b[0m         \u001b[0mupdate_wrapper\u001b[0m\u001b[0;34m(\u001b[0m\u001b[0mout\u001b[0m\u001b[0;34m,\u001b[0m \u001b[0mself\u001b[0m\u001b[0;34m.\u001b[0m\u001b[0mfn\u001b[0m\u001b[0;34m)\u001b[0m\u001b[0;34m\u001b[0m\u001b[0;34m\u001b[0m\u001b[0m\n",
      "\u001b[0;32m/usr/local/lib/python3.7/site-packages/sklearn/model_selection/_search.py\u001b[0m in \u001b[0;36mpredict\u001b[0;34m(self, X)\u001b[0m\n\u001b[1;32m    488\u001b[0m \u001b[0;34m\u001b[0m\u001b[0m\n\u001b[1;32m    489\u001b[0m         \"\"\"\n\u001b[0;32m--> 490\u001b[0;31m         \u001b[0mself\u001b[0m\u001b[0;34m.\u001b[0m\u001b[0m_check_is_fitted\u001b[0m\u001b[0;34m(\u001b[0m\u001b[0;34m'predict'\u001b[0m\u001b[0;34m)\u001b[0m\u001b[0;34m\u001b[0m\u001b[0;34m\u001b[0m\u001b[0m\n\u001b[0m\u001b[1;32m    491\u001b[0m         \u001b[0;32mreturn\u001b[0m \u001b[0mself\u001b[0m\u001b[0;34m.\u001b[0m\u001b[0mbest_estimator_\u001b[0m\u001b[0;34m.\u001b[0m\u001b[0mpredict\u001b[0m\u001b[0;34m(\u001b[0m\u001b[0mX\u001b[0m\u001b[0;34m)\u001b[0m\u001b[0;34m\u001b[0m\u001b[0;34m\u001b[0m\u001b[0m\n\u001b[1;32m    492\u001b[0m \u001b[0;34m\u001b[0m\u001b[0m\n",
      "\u001b[0;32m/usr/local/lib/python3.7/site-packages/sklearn/model_selection/_search.py\u001b[0m in \u001b[0;36m_check_is_fitted\u001b[0;34m(self, method_name)\u001b[0m\n\u001b[1;32m    470\u001b[0m                                  \u001b[0;34m'manually using the ``best_params_`` '\u001b[0m\u001b[0;34m\u001b[0m\u001b[0;34m\u001b[0m\u001b[0m\n\u001b[1;32m    471\u001b[0m                                  \u001b[0;34m'attribute'\u001b[0m\u001b[0;34m\u001b[0m\u001b[0;34m\u001b[0m\u001b[0m\n\u001b[0;32m--> 472\u001b[0;31m                                  % (type(self).__name__, method_name))\n\u001b[0m\u001b[1;32m    473\u001b[0m         \u001b[0;32melse\u001b[0m\u001b[0;34m:\u001b[0m\u001b[0;34m\u001b[0m\u001b[0;34m\u001b[0m\u001b[0m\n\u001b[1;32m    474\u001b[0m             \u001b[0mcheck_is_fitted\u001b[0m\u001b[0;34m(\u001b[0m\u001b[0mself\u001b[0m\u001b[0;34m,\u001b[0m \u001b[0;34m'best_estimator_'\u001b[0m\u001b[0;34m)\u001b[0m\u001b[0;34m\u001b[0m\u001b[0;34m\u001b[0m\u001b[0m\n",
      "\u001b[0;31mNotFittedError\u001b[0m: This GridSearchCV instance was initialized with refit=False. predict is available only after refitting on the best parameters. You can refit an estimator manually using the ``best_params_`` attribute"
     ]
    }
   ],
   "source": [
    "info_test['new'] = model.predict(X_test)"
   ]
  },
  {
   "cell_type": "code",
   "execution_count": 182,
   "metadata": {
    "collapsed": true
   },
   "outputs": [
    {
     "data": {
      "text/html": [
       "<div>\n",
       "<style scoped>\n",
       "    .dataframe tbody tr th:only-of-type {\n",
       "        vertical-align: middle;\n",
       "    }\n",
       "\n",
       "    .dataframe tbody tr th {\n",
       "        vertical-align: top;\n",
       "    }\n",
       "\n",
       "    .dataframe thead th {\n",
       "        text-align: right;\n",
       "    }\n",
       "</style>\n",
       "<table border=\"1\" class=\"dataframe\">\n",
       "  <thead>\n",
       "    <tr style=\"text-align: right;\">\n",
       "      <th></th>\n",
       "      <th>port_ID</th>\n",
       "      <th>port_no</th>\n",
       "      <th>report_dt</th>\n",
       "      <th>index_fund_flag</th>\n",
       "      <th>et_flag</th>\n",
       "      <th>crsp_obj_cd</th>\n",
       "      <th>mutual_fund</th>\n",
       "      <th>s_crsp_obj_cd</th>\n",
       "      <th>new</th>\n",
       "    </tr>\n",
       "  </thead>\n",
       "  <tbody>\n",
       "    <tr>\n",
       "      <th>0</th>\n",
       "      <td>1028245-2010-06-30</td>\n",
       "      <td>1028245.0</td>\n",
       "      <td>2010-06-30</td>\n",
       "      <td>N</td>\n",
       "      <td>N</td>\n",
       "      <td>EDYG</td>\n",
       "      <td>Y</td>\n",
       "      <td>EDYG</td>\n",
       "      <td>EDYG</td>\n",
       "    </tr>\n",
       "    <tr>\n",
       "      <th>1</th>\n",
       "      <td>1028245-2010-07-31</td>\n",
       "      <td>1028245.0</td>\n",
       "      <td>2010-07-31</td>\n",
       "      <td>N</td>\n",
       "      <td>N</td>\n",
       "      <td>EDYG</td>\n",
       "      <td>Y</td>\n",
       "      <td>EDYG</td>\n",
       "      <td>EDYG</td>\n",
       "    </tr>\n",
       "    <tr>\n",
       "      <th>2</th>\n",
       "      <td>1028245-2010-08-31</td>\n",
       "      <td>1028245.0</td>\n",
       "      <td>2010-08-31</td>\n",
       "      <td>N</td>\n",
       "      <td>N</td>\n",
       "      <td>EDYG</td>\n",
       "      <td>Y</td>\n",
       "      <td>EDYG</td>\n",
       "      <td>EDYG</td>\n",
       "    </tr>\n",
       "    <tr>\n",
       "      <th>3</th>\n",
       "      <td>1028245-2010-09-30</td>\n",
       "      <td>1028245.0</td>\n",
       "      <td>2010-09-30</td>\n",
       "      <td>N</td>\n",
       "      <td>N</td>\n",
       "      <td>EDYG</td>\n",
       "      <td>Y</td>\n",
       "      <td>EDYG</td>\n",
       "      <td>EDYG</td>\n",
       "    </tr>\n",
       "    <tr>\n",
       "      <th>4</th>\n",
       "      <td>1028245-2011-02-28</td>\n",
       "      <td>1028245.0</td>\n",
       "      <td>2011-02-28</td>\n",
       "      <td>N</td>\n",
       "      <td>N</td>\n",
       "      <td>EDYG</td>\n",
       "      <td>Y</td>\n",
       "      <td>EDYG</td>\n",
       "      <td>EDYG</td>\n",
       "    </tr>\n",
       "    <tr>\n",
       "      <th>5</th>\n",
       "      <td>1028245-2011-03-31</td>\n",
       "      <td>1028245.0</td>\n",
       "      <td>2011-03-31</td>\n",
       "      <td>N</td>\n",
       "      <td>N</td>\n",
       "      <td>EDYG</td>\n",
       "      <td>Y</td>\n",
       "      <td>EDYG</td>\n",
       "      <td>EDYG</td>\n",
       "    </tr>\n",
       "    <tr>\n",
       "      <th>6</th>\n",
       "      <td>1028245-2011-04-30</td>\n",
       "      <td>1028245.0</td>\n",
       "      <td>2011-04-30</td>\n",
       "      <td>N</td>\n",
       "      <td>N</td>\n",
       "      <td>EDYG</td>\n",
       "      <td>Y</td>\n",
       "      <td>EDYG</td>\n",
       "      <td>EDYG</td>\n",
       "    </tr>\n",
       "    <tr>\n",
       "      <th>7</th>\n",
       "      <td>1028245-2011-05-31</td>\n",
       "      <td>1028245.0</td>\n",
       "      <td>2011-05-31</td>\n",
       "      <td>N</td>\n",
       "      <td>N</td>\n",
       "      <td>EDYG</td>\n",
       "      <td>Y</td>\n",
       "      <td>EDYG</td>\n",
       "      <td>EDYG</td>\n",
       "    </tr>\n",
       "    <tr>\n",
       "      <th>8</th>\n",
       "      <td>1028245-2011-06-30</td>\n",
       "      <td>1028245.0</td>\n",
       "      <td>2011-06-30</td>\n",
       "      <td>N</td>\n",
       "      <td>N</td>\n",
       "      <td>EDYG</td>\n",
       "      <td>Y</td>\n",
       "      <td>EDYG</td>\n",
       "      <td>EDYG</td>\n",
       "    </tr>\n",
       "    <tr>\n",
       "      <th>9</th>\n",
       "      <td>1028245-2011-08-31</td>\n",
       "      <td>1028245.0</td>\n",
       "      <td>2011-08-31</td>\n",
       "      <td>N</td>\n",
       "      <td>N</td>\n",
       "      <td>EDYG</td>\n",
       "      <td>Y</td>\n",
       "      <td>EDYG</td>\n",
       "      <td>EDYG</td>\n",
       "    </tr>\n",
       "  </tbody>\n",
       "</table>\n",
       "</div>"
      ],
      "text/plain": [
       "              port_ID    port_no  report_dt index_fund_flag et_flag  \\\n",
       "0  1028245-2010-06-30  1028245.0 2010-06-30               N       N   \n",
       "1  1028245-2010-07-31  1028245.0 2010-07-31               N       N   \n",
       "2  1028245-2010-08-31  1028245.0 2010-08-31               N       N   \n",
       "3  1028245-2010-09-30  1028245.0 2010-09-30               N       N   \n",
       "4  1028245-2011-02-28  1028245.0 2011-02-28               N       N   \n",
       "5  1028245-2011-03-31  1028245.0 2011-03-31               N       N   \n",
       "6  1028245-2011-04-30  1028245.0 2011-04-30               N       N   \n",
       "7  1028245-2011-05-31  1028245.0 2011-05-31               N       N   \n",
       "8  1028245-2011-06-30  1028245.0 2011-06-30               N       N   \n",
       "9  1028245-2011-08-31  1028245.0 2011-08-31               N       N   \n",
       "\n",
       "  crsp_obj_cd mutual_fund s_crsp_obj_cd   new  \n",
       "0        EDYG           Y          EDYG  EDYG  \n",
       "1        EDYG           Y          EDYG  EDYG  \n",
       "2        EDYG           Y          EDYG  EDYG  \n",
       "3        EDYG           Y          EDYG  EDYG  \n",
       "4        EDYG           Y          EDYG  EDYG  \n",
       "5        EDYG           Y          EDYG  EDYG  \n",
       "6        EDYG           Y          EDYG  EDYG  \n",
       "7        EDYG           Y          EDYG  EDYG  \n",
       "8        EDYG           Y          EDYG  EDYG  \n",
       "9        EDYG           Y          EDYG  EDYG  "
      ]
     },
     "execution_count": 182,
     "metadata": {},
     "output_type": "execute_result"
    }
   ],
   "source": [
    "info_test.head(10)"
   ]
  },
  {
   "cell_type": "code",
   "execution_count": 228,
   "metadata": {},
   "outputs": [
    {
     "ename": "AttributeError",
     "evalue": "'PassiveAggressiveClassifier' object has no attribute 'predict_proba'",
     "output_type": "error",
     "traceback": [
      "\u001b[0;31m---------------------------------------------------------------------------\u001b[0m",
      "\u001b[0;31mAttributeError\u001b[0m                            Traceback (most recent call last)",
      "\u001b[0;32m<ipython-input-228-37331269e633>\u001b[0m in \u001b[0;36m<module>\u001b[0;34m\u001b[0m\n\u001b[0;32m----> 1\u001b[0;31m \u001b[0mprob_pos\u001b[0m \u001b[0;34m=\u001b[0m \u001b[0mmodel\u001b[0m\u001b[0;34m.\u001b[0m\u001b[0mpredict_proba\u001b[0m\u001b[0;34m(\u001b[0m\u001b[0mX_test\u001b[0m\u001b[0;34m)\u001b[0m\u001b[0;34m\u001b[0m\u001b[0;34m\u001b[0m\u001b[0m\n\u001b[0m",
      "\u001b[0;31mAttributeError\u001b[0m: 'PassiveAggressiveClassifier' object has no attribute 'predict_proba'"
     ]
    }
   ],
   "source": [
    "prob_pos = model.predict_proba(X_test)"
   ]
  },
  {
   "cell_type": "code",
   "execution_count": 675,
   "metadata": {},
   "outputs": [
    {
     "ename": "ValueError",
     "evalue": "X has 2382968 features per sample; expecting 100",
     "output_type": "error",
     "traceback": [
      "\u001b[0;31m---------------------------------------------------------------------------\u001b[0m",
      "\u001b[0;31mValueError\u001b[0m                                Traceback (most recent call last)",
      "\u001b[0;32m<ipython-input-675-611ec6913172>\u001b[0m in \u001b[0;36m<module>\u001b[0;34m\u001b[0m\n\u001b[0;32m----> 1\u001b[0;31m \u001b[0mpred_label\u001b[0m \u001b[0;34m=\u001b[0m \u001b[0mmodel\u001b[0m\u001b[0;34m.\u001b[0m\u001b[0mpredict\u001b[0m\u001b[0;34m(\u001b[0m\u001b[0mX_test\u001b[0m\u001b[0;34m)\u001b[0m\u001b[0;34m\u001b[0m\u001b[0;34m\u001b[0m\u001b[0m\n\u001b[0m",
      "\u001b[0;32m/usr/local/lib/python3.7/site-packages/sklearn/utils/metaestimators.py\u001b[0m in \u001b[0;36m<lambda>\u001b[0;34m(*args, **kwargs)\u001b[0m\n\u001b[1;32m    116\u001b[0m \u001b[0;34m\u001b[0m\u001b[0m\n\u001b[1;32m    117\u001b[0m         \u001b[0;31m# lambda, but not partial, allows help() to work with update_wrapper\u001b[0m\u001b[0;34m\u001b[0m\u001b[0;34m\u001b[0m\u001b[0;34m\u001b[0m\u001b[0m\n\u001b[0;32m--> 118\u001b[0;31m         \u001b[0mout\u001b[0m \u001b[0;34m=\u001b[0m \u001b[0;32mlambda\u001b[0m \u001b[0;34m*\u001b[0m\u001b[0margs\u001b[0m\u001b[0;34m,\u001b[0m \u001b[0;34m**\u001b[0m\u001b[0mkwargs\u001b[0m\u001b[0;34m:\u001b[0m \u001b[0mself\u001b[0m\u001b[0;34m.\u001b[0m\u001b[0mfn\u001b[0m\u001b[0;34m(\u001b[0m\u001b[0mobj\u001b[0m\u001b[0;34m,\u001b[0m \u001b[0;34m*\u001b[0m\u001b[0margs\u001b[0m\u001b[0;34m,\u001b[0m \u001b[0;34m**\u001b[0m\u001b[0mkwargs\u001b[0m\u001b[0;34m)\u001b[0m\u001b[0;34m\u001b[0m\u001b[0;34m\u001b[0m\u001b[0m\n\u001b[0m\u001b[1;32m    119\u001b[0m         \u001b[0;31m# update the docstring of the returned function\u001b[0m\u001b[0;34m\u001b[0m\u001b[0;34m\u001b[0m\u001b[0;34m\u001b[0m\u001b[0m\n\u001b[1;32m    120\u001b[0m         \u001b[0mupdate_wrapper\u001b[0m\u001b[0;34m(\u001b[0m\u001b[0mout\u001b[0m\u001b[0;34m,\u001b[0m \u001b[0mself\u001b[0m\u001b[0;34m.\u001b[0m\u001b[0mfn\u001b[0m\u001b[0;34m)\u001b[0m\u001b[0;34m\u001b[0m\u001b[0;34m\u001b[0m\u001b[0m\n",
      "\u001b[0;32m/usr/local/lib/python3.7/site-packages/sklearn/model_selection/_search.py\u001b[0m in \u001b[0;36mpredict\u001b[0;34m(self, X)\u001b[0m\n\u001b[1;32m    489\u001b[0m         \"\"\"\n\u001b[1;32m    490\u001b[0m         \u001b[0mself\u001b[0m\u001b[0;34m.\u001b[0m\u001b[0m_check_is_fitted\u001b[0m\u001b[0;34m(\u001b[0m\u001b[0;34m'predict'\u001b[0m\u001b[0;34m)\u001b[0m\u001b[0;34m\u001b[0m\u001b[0;34m\u001b[0m\u001b[0m\n\u001b[0;32m--> 491\u001b[0;31m         \u001b[0;32mreturn\u001b[0m \u001b[0mself\u001b[0m\u001b[0;34m.\u001b[0m\u001b[0mbest_estimator_\u001b[0m\u001b[0;34m.\u001b[0m\u001b[0mpredict\u001b[0m\u001b[0;34m(\u001b[0m\u001b[0mX\u001b[0m\u001b[0;34m)\u001b[0m\u001b[0;34m\u001b[0m\u001b[0;34m\u001b[0m\u001b[0m\n\u001b[0m\u001b[1;32m    492\u001b[0m \u001b[0;34m\u001b[0m\u001b[0m\n\u001b[1;32m    493\u001b[0m     \u001b[0;34m@\u001b[0m\u001b[0mif_delegate_has_method\u001b[0m\u001b[0;34m(\u001b[0m\u001b[0mdelegate\u001b[0m\u001b[0;34m=\u001b[0m\u001b[0;34m(\u001b[0m\u001b[0;34m'best_estimator_'\u001b[0m\u001b[0;34m,\u001b[0m \u001b[0;34m'estimator'\u001b[0m\u001b[0;34m)\u001b[0m\u001b[0;34m)\u001b[0m\u001b[0;34m\u001b[0m\u001b[0;34m\u001b[0m\u001b[0m\n",
      "\u001b[0;32m/usr/local/lib/python3.7/site-packages/sklearn/linear_model/base.py\u001b[0m in \u001b[0;36mpredict\u001b[0;34m(self, X)\u001b[0m\n\u001b[1;32m    279\u001b[0m             \u001b[0mPredicted\u001b[0m \u001b[0;32mclass\u001b[0m \u001b[0mlabel\u001b[0m \u001b[0mper\u001b[0m \u001b[0msample\u001b[0m\u001b[0;34m.\u001b[0m\u001b[0;34m\u001b[0m\u001b[0;34m\u001b[0m\u001b[0m\n\u001b[1;32m    280\u001b[0m         \"\"\"\n\u001b[0;32m--> 281\u001b[0;31m         \u001b[0mscores\u001b[0m \u001b[0;34m=\u001b[0m \u001b[0mself\u001b[0m\u001b[0;34m.\u001b[0m\u001b[0mdecision_function\u001b[0m\u001b[0;34m(\u001b[0m\u001b[0mX\u001b[0m\u001b[0;34m)\u001b[0m\u001b[0;34m\u001b[0m\u001b[0;34m\u001b[0m\u001b[0m\n\u001b[0m\u001b[1;32m    282\u001b[0m         \u001b[0;32mif\u001b[0m \u001b[0mlen\u001b[0m\u001b[0;34m(\u001b[0m\u001b[0mscores\u001b[0m\u001b[0;34m.\u001b[0m\u001b[0mshape\u001b[0m\u001b[0;34m)\u001b[0m \u001b[0;34m==\u001b[0m \u001b[0;36m1\u001b[0m\u001b[0;34m:\u001b[0m\u001b[0;34m\u001b[0m\u001b[0;34m\u001b[0m\u001b[0m\n\u001b[1;32m    283\u001b[0m             \u001b[0mindices\u001b[0m \u001b[0;34m=\u001b[0m \u001b[0;34m(\u001b[0m\u001b[0mscores\u001b[0m \u001b[0;34m>\u001b[0m \u001b[0;36m0\u001b[0m\u001b[0;34m)\u001b[0m\u001b[0;34m.\u001b[0m\u001b[0mastype\u001b[0m\u001b[0;34m(\u001b[0m\u001b[0mnp\u001b[0m\u001b[0;34m.\u001b[0m\u001b[0mint\u001b[0m\u001b[0;34m)\u001b[0m\u001b[0;34m\u001b[0m\u001b[0;34m\u001b[0m\u001b[0m\n",
      "\u001b[0;32m/usr/local/lib/python3.7/site-packages/sklearn/linear_model/base.py\u001b[0m in \u001b[0;36mdecision_function\u001b[0;34m(self, X)\u001b[0m\n\u001b[1;32m    260\u001b[0m         \u001b[0;32mif\u001b[0m \u001b[0mX\u001b[0m\u001b[0;34m.\u001b[0m\u001b[0mshape\u001b[0m\u001b[0;34m[\u001b[0m\u001b[0;36m1\u001b[0m\u001b[0;34m]\u001b[0m \u001b[0;34m!=\u001b[0m \u001b[0mn_features\u001b[0m\u001b[0;34m:\u001b[0m\u001b[0;34m\u001b[0m\u001b[0;34m\u001b[0m\u001b[0m\n\u001b[1;32m    261\u001b[0m             raise ValueError(\"X has %d features per sample; expecting %d\"\n\u001b[0;32m--> 262\u001b[0;31m                              % (X.shape[1], n_features))\n\u001b[0m\u001b[1;32m    263\u001b[0m \u001b[0;34m\u001b[0m\u001b[0m\n\u001b[1;32m    264\u001b[0m         scores = safe_sparse_dot(X, self.coef_.T,\n",
      "\u001b[0;31mValueError\u001b[0m: X has 2382968 features per sample; expecting 100"
     ]
    }
   ],
   "source": [
    "pred_label = model.predict(X_test)"
   ]
  },
  {
   "cell_type": "code",
   "execution_count": 676,
   "metadata": {},
   "outputs": [
    {
     "name": "stdout",
     "output_type": "stream",
     "text": [
      "['EDYB' 'EDYG' 'EDYH' 'EDYI' 'EDYS']\n"
     ]
    }
   ],
   "source": [
    "print(model.classes_)"
   ]
  },
  {
   "cell_type": "code",
   "execution_count": 677,
   "metadata": {},
   "outputs": [
    {
     "name": "stdout",
     "output_type": "stream",
     "text": [
      "[[7141  545   28    9    0]\n",
      " [ 339 5665   68    3    0]\n",
      " [  34  266 1105   10    0]\n",
      " [   7  404    1  368    0]\n",
      " [   0    0    0    0    0]]\n"
     ]
    }
   ],
   "source": [
    "cm = confusion_matrix(y_test, pred_label, labels=model.classes_)\n",
    "print(cm)"
   ]
  },
  {
   "cell_type": "code",
   "execution_count": 678,
   "metadata": {},
   "outputs": [
    {
     "name": "stdout",
     "output_type": "stream",
     "text": [
      "[[0.92 0.07 0.   0.   0.  ]\n",
      " [0.06 0.93 0.01 0.   0.  ]\n",
      " [0.02 0.19 0.78 0.01 0.  ]\n",
      " [0.01 0.52 0.   0.47 0.  ]\n",
      " [ nan  nan  nan  nan  nan]]\n"
     ]
    },
    {
     "name": "stderr",
     "output_type": "stream",
     "text": [
      "/usr/local/lib/python3.7/site-packages/ipykernel_launcher.py:2: RuntimeWarning: invalid value encountered in true_divide\n",
      "  \n"
     ]
    }
   ],
   "source": [
    "#np.set_printoptions(formatter={'float': '{: 0.2f}'.format})\n",
    "print(np.round(cm.astype('float') / cm.sum(axis=1)[:, np.newaxis],2))"
   ]
  },
  {
   "cell_type": "code",
   "execution_count": 679,
   "metadata": {},
   "outputs": [
    {
     "name": "stdout",
     "output_type": "stream",
     "text": [
      "              precision    recall  f1-score   support\n",
      "\n",
      "        EDYB       0.95      0.92      0.94      7723\n",
      "        EDYG       0.82      0.93      0.87      6075\n",
      "        EDYH       0.92      0.78      0.84      1415\n",
      "        EDYI       0.94      0.47      0.63       780\n",
      "\n",
      "   micro avg       0.89      0.89      0.89     15993\n",
      "   macro avg       0.91      0.78      0.82     15993\n",
      "weighted avg       0.90      0.89      0.89     15993\n",
      "\n"
     ]
    }
   ],
   "source": [
    "print(classification_report(y_test, pred_label))"
   ]
  },
  {
   "cell_type": "markdown",
   "metadata": {},
   "source": [
    "# CV Grid search"
   ]
  },
  {
   "cell_type": "markdown",
   "metadata": {},
   "source": [
    "# ToDo: CV not stratified"
   ]
  },
  {
   "cell_type": "markdown",
   "metadata": {},
   "source": [
    "### Model"
   ]
  },
  {
   "cell_type": "code",
   "execution_count": 662,
   "metadata": {},
   "outputs": [],
   "source": [
    "model_grid_cv = LogisticRegression(random_state=1)\n",
    "\n",
    "model_grid_cv = PassiveAggressiveClassifier(random_state=1)"
   ]
  },
  {
   "cell_type": "code",
   "execution_count": 668,
   "metadata": {},
   "outputs": [],
   "source": [
    "group_kfold = GroupKFold(n_splits=5)\n",
    "cv = group_kfold.split(X_train, y_train, groups)\n",
    "\n",
    "tuned_parameters_PAC = {'C': [1e-6], 'tol':[1e-5],'n_iter_no_change':[20]}\n",
    "\n",
    "tuned_parameters_LR = {'solver': ['saga'],\n",
    "                       'multi_class':['multinomial'],\n",
    "                       'penalty':['l2']}\n",
    "\n",
    "scoring = 'f1_micro'\n",
    "\n",
    "clf = GridSearchCV(model_grid_cv, \n",
    "                   tuned_parameters_PAC, \n",
    "                   cv = group_kfold.split(X_train, y_train, groups), \n",
    "                   n_jobs=-1, \n",
    "                   verbose=10, \n",
    "                   refit = True,\n",
    "                   scoring=scoring, \n",
    "                   return_train_score=True)"
   ]
  },
  {
   "cell_type": "code",
   "execution_count": 669,
   "metadata": {},
   "outputs": [
    {
     "name": "stdout",
     "output_type": "stream",
     "text": [
      "Fitting 5 folds for each of 1 candidates, totalling 5 fits\n"
     ]
    },
    {
     "name": "stderr",
     "output_type": "stream",
     "text": [
      "[Parallel(n_jobs=-1)]: Using backend LokyBackend with 8 concurrent workers.\n",
      "[Parallel(n_jobs=-1)]: Done   2 out of   5 | elapsed:   44.2s remaining:  1.1min\n",
      "[Parallel(n_jobs=-1)]: Done   3 out of   5 | elapsed:   45.4s remaining:   30.2s\n",
      "[Parallel(n_jobs=-1)]: Done   5 out of   5 | elapsed:   46.4s remaining:    0.0s\n",
      "[Parallel(n_jobs=-1)]: Done   5 out of   5 | elapsed:   46.4s finished\n"
     ]
    },
    {
     "name": "stdout",
     "output_type": "stream",
     "text": [
      "CPU times: user 43.8 s, sys: 238 ms, total: 44 s\n",
      "Wall time: 1min 29s\n"
     ]
    },
    {
     "name": "stderr",
     "output_type": "stream",
     "text": [
      "/usr/local/lib/python3.7/site-packages/sklearn/linear_model/stochastic_gradient.py:603: ConvergenceWarning: Maximum number of iteration reached before convergence. Consider increasing max_iter to improve the fit.\n",
      "  ConvergenceWarning)\n"
     ]
    },
    {
     "data": {
      "text/plain": [
       "GridSearchCV(cv=<generator object _BaseKFold.split at 0x1937d40c0>,\n",
       "       error_score='raise-deprecating',\n",
       "       estimator=PassiveAggressiveClassifier(C=1.0, average=False, class_weight=None,\n",
       "              early_stopping=False, fit_intercept=True, loss='hinge',\n",
       "              max_iter=None, n_iter=None, n_iter_no_change=5, n_jobs=None,\n",
       "              random_state=1, shuffle=True, tol=None,\n",
       "              validation_fraction=0.1, verbose=0, warm_start=False),\n",
       "       fit_params=None, iid='warn', n_jobs=-1,\n",
       "       param_grid={'C': [1e-06], 'tol': [1e-05], 'n_iter_no_change': [20]},\n",
       "       pre_dispatch='2*n_jobs', refit=True, return_train_score=True,\n",
       "       scoring='f1_micro', verbose=10)"
      ]
     },
     "execution_count": 669,
     "metadata": {},
     "output_type": "execute_result"
    }
   ],
   "source": [
    "%%time\n",
    "clf.fit(X_train_svd, y_train)"
   ]
  },
  {
   "cell_type": "code",
   "execution_count": 670,
   "metadata": {},
   "outputs": [
    {
     "name": "stdout",
     "output_type": "stream",
     "text": [
      "0.675 (+/-0.029) for {'C': 1e-06, 'n_iter_no_change': 20, 'tol': 1e-05}\n"
     ]
    }
   ],
   "source": [
    "results = clf.cv_results_\n",
    "test_score_mean = results['mean_test_score']\n",
    "train_score_mean = results['mean_train_score']\n",
    "test_std_mean = results['std_test_score']\n",
    "train_std_mean = results['std_train_score']\n",
    "\n",
    "for mean, std, params in zip(test_score_mean, test_std_mean, clf.cv_results_['params']):\n",
    "    print(\"%0.3f (+/-%0.03f) for %r\"\n",
    "          % (mean, std * 2, params))"
   ]
  },
  {
   "cell_type": "code",
   "execution_count": 672,
   "metadata": {},
   "outputs": [
    {
     "name": "stdout",
     "output_type": "stream",
     "text": [
      "0.728 (+/-0.006) for {'C': 1e-06, 'n_iter_no_change': 20, 'tol': 1e-05}\n"
     ]
    }
   ],
   "source": [
    "for mean, std, params in zip(train_score_mean, train_std_mean, clf.cv_results_['params']):\n",
    "    print(\"%0.3f (+/-%0.03f) for %r\"\n",
    "          % (mean, std * 2, params))"
   ]
  },
  {
   "cell_type": "code",
   "execution_count": 673,
   "metadata": {},
   "outputs": [
    {
     "data": {
      "image/png": "[encoded data removed]",
      "text/plain": [
       "<Figure size 936x936 with 1 Axes>"
      ]
     },
     "metadata": {
      "needs_background": "light"
     },
     "output_type": "display_data"
    }
   ],
   "source": [
    "X_axis = np.array(results['param_C'].data, dtype=float)\n",
    "\n",
    "plt.figure(figsize=(13, 13))\n",
    "plt.title(\"GridSearchCV evaluating using multiple scorers simultaneously\",\n",
    "          fontsize=16)\n",
    "\n",
    "plt.xlabel(\"C\")\n",
    "plt.ylabel(\"Score\")\n",
    "\n",
    "ax = plt.gca()\n",
    "ax.plot(X_axis, test_score_mean)\n",
    "ax.plot(X_axis, train_score_mean)\n",
    "\n",
    "# ax.set_xlim(0, 402)\n",
    "# ax.set_ylim(0.73, 1)\n",
    "# plt.legend(loc=\"best\")\n",
    "plt.grid(False)\n",
    "plt.show()"
   ]
  },
  {
   "cell_type": "markdown",
   "metadata": {},
   "source": [
    "## TruncatedSVD\n"
   ]
  },
  {
   "cell_type": "code",
   "execution_count": 648,
   "metadata": {
    "scrolled": true
   },
   "outputs": [
    {
     "name": "stdout",
     "output_type": "stream",
     "text": [
      "CPU times: user 10min 48s, sys: 1min 36s, total: 12min 24s\n",
      "Wall time: 5min 32s\n"
     ]
    }
   ],
   "source": [
    "%%time\n",
    "svd = TruncatedSVD(n_components=200, n_iter=7, random_state=42)\n",
    "svd.fit(X_train)  "
   ]
  },
  {
   "cell_type": "code",
   "execution_count": 649,
   "metadata": {},
   "outputs": [
    {
     "name": "stdout",
     "output_type": "stream",
     "text": [
      "[0.05732203 0.0490014  0.04685699 0.04448169 0.03386874 0.03088257\n",
      " 0.02926858 0.02341689 0.0205486  0.01520279 0.01534676 0.01385962\n",
      " 0.01369498 0.01352908 0.01257042 0.01032802 0.00854272 0.00562977\n",
      " 0.00820486 0.00778515 0.00754215 0.00749358 0.00737984 0.00717312\n",
      " 0.00717636 0.00696069 0.00673315 0.00668851 0.00673532 0.0060985\n",
      " 0.00570812 0.00552525 0.00502403 0.00474178 0.00475578 0.00475045\n",
      " 0.00467259 0.00461688 0.00461933 0.00449155 0.0044872  0.00447206\n",
      " 0.00430706 0.00429661 0.00423373 0.00423688 0.004191   0.0039954\n",
      " 0.00383804 0.0037967  0.00378657 0.00368497 0.00368034 0.00367714\n",
      " 0.00351813 0.00347585 0.00338247 0.00328443 0.00327946 0.00327299\n",
      " 0.00320901 0.00319275 0.00318978 0.00317044 0.00309208 0.00307371\n",
      " 0.00305232 0.00290927 0.00287883 0.00287015 0.00277535 0.00273268\n",
      " 0.00254437 0.00247634 0.00244279 0.00237847 0.00236887 0.00224856\n",
      " 0.00222021 0.0022139  0.00212974 0.00205375 0.00202687 0.00198772\n",
      " 0.00186165 0.00181484 0.00177105 0.00173004 0.00167659 0.00167325\n",
      " 0.00167187 0.00164661 0.00159403 0.00157076 0.00156763 0.00153666\n",
      " 0.00153576 0.00152163 0.00148225 0.00147124 0.00144613 0.00142437\n",
      " 0.00141564 0.00140042 0.00139025 0.00137191 0.00136885 0.00134352\n",
      " 0.00134261 0.00133113 0.00132475 0.00132714 0.00132357 0.00131916\n",
      " 0.00131069 0.00130475 0.00129049 0.00128546 0.00126702 0.00125197\n",
      " 0.00124178 0.00123545 0.00122786 0.00122663 0.00119219 0.00114187\n",
      " 0.00113261 0.00112164 0.00109509 0.00109628 0.00109503 0.00109156\n",
      " 0.00108026 0.00107463 0.0010708  0.00106907 0.00105805 0.00105195\n",
      " 0.00105053 0.00104865 0.0010345  0.00102506 0.0010172  0.00101376\n",
      " 0.00100161 0.00099225 0.00097843 0.0009698  0.00094433 0.0008944\n",
      " 0.00089494 0.00089228 0.00088961 0.00088268 0.00087645 0.00087639\n",
      " 0.00086852 0.00085683 0.00084813 0.00085361 0.00084964 0.00083159\n",
      " 0.00083099 0.00082316 0.00081453 0.00080834 0.0008057  0.00080335\n",
      " 0.0007965  0.00078784 0.0007731  0.00076112 0.00075995 0.00074861\n",
      " 0.00074452 0.00073342 0.00071763 0.00071592 0.00071277 0.00069968\n",
      " 0.00068583 0.00067777 0.00067383 0.00067228 0.00066999 0.00062439\n",
      " 0.00060555 0.00061267 0.00060916 0.0005955  0.00059082 0.00058803\n",
      " 0.00058027 0.00057641 0.00057262 0.00056744 0.00055859 0.00055143\n",
      " 0.00054271 0.0005422 ]\n",
      "\n",
      "Total variance explained: 84.096%\n"
     ]
    }
   ],
   "source": [
    "print(svd.explained_variance_ratio_)  \n",
    "print()\n",
    "print('Total variance explained: {:.3f}%'.format(svd.explained_variance_ratio_.sum()*100))"
   ]
  },
  {
   "cell_type": "code",
   "execution_count": 629,
   "metadata": {},
   "outputs": [],
   "source": [
    "X_train_svd = svd.transform(X_train)\n",
    "X_test_svd = svd.transform(X_test)"
   ]
  },
  {
   "cell_type": "code",
   "execution_count": 385,
   "metadata": {},
   "outputs": [
    {
     "data": {
      "text/plain": [
       "[<matplotlib.lines.Line2D at 0x1329c4208>]"
      ]
     },
     "execution_count": 385,
     "metadata": {},
     "output_type": "execute_result"
    },
    {
     "data": {
      "image/png": "[encoded data removed]",
      "text/plain": [
       "<Figure size 432x288 with 1 Axes>"
      ]
     },
     "metadata": {
      "needs_background": "light"
     },
     "output_type": "display_data"
    }
   ],
   "source": [
    "plt.plot(X_train_svd[:,8],'o')"
   ]
  },
  {
   "cell_type": "code",
   "execution_count": 650,
   "metadata": {},
   "outputs": [],
   "source": [
    "df = pd.DataFrame(X_train_svd)\n",
    "df['class'] = y_train"
   ]
  },
  {
   "cell_type": "code",
   "execution_count": 651,
   "metadata": {},
   "outputs": [],
   "source": [
    "groups = df.groupby('class')"
   ]
  },
  {
   "cell_type": "code",
   "execution_count": 659,
   "metadata": {},
   "outputs": [
    {
     "data": {
      "image/png": "[encoded data removed]",
      "text/plain": [
       "<Figure size 432x288 with 1 Axes>"
      ]
     },
     "metadata": {
      "needs_background": "light"
     },
     "output_type": "display_data"
    }
   ],
   "source": [
    "fig, ax = plt.subplots()\n",
    "\n",
    "for name, group in groups:\n",
    "    ax.plot(group.iloc[:,0], group.iloc[:,1], marker='o', linestyle='', ms=10, label=name, alpha=0.5)\n",
    "    plt.xlim(-0.0001, 0.001)\n",
    "    plt.ylim(-0.0001, 0.001)\n",
    "    ax.legend(numpoints=1)"
   ]
  },
  {
   "cell_type": "markdown",
   "metadata": {},
   "source": [
    "# Visual analysis of sample data"
   ]
  },
  {
   "cell_type": "code",
   "execution_count": 458,
   "metadata": {},
   "outputs": [],
   "source": [
    "data = X_total.sum(1)"
   ]
  },
  {
   "cell_type": "code",
   "execution_count": 466,
   "metadata": {},
   "outputs": [],
   "source": [
    "index = np.abs(data) < 3000\n",
    "y = data[index].T"
   ]
  },
  {
   "cell_type": "code",
   "execution_count": 467,
   "metadata": {},
   "outputs": [
    {
     "data": {
      "text/plain": [
       "matrix([[0]])"
      ]
     },
     "execution_count": 467,
     "metadata": {},
     "output_type": "execute_result"
    }
   ],
   "source": [
    "sum(index == False)"
   ]
  },
  {
   "cell_type": "code",
   "execution_count": 468,
   "metadata": {
    "scrolled": true
   },
   "outputs": [
    {
     "data": {
      "text/plain": [
       "[<matplotlib.lines.Line2D at 0x191fff6d8>]"
      ]
     },
     "execution_count": 468,
     "metadata": {},
     "output_type": "execute_result"
    },
    {
     "data": {
      "image/png": "[encoded data removed]",
      "text/plain": [
       "<Figure size 432x288 with 1 Axes>"
      ]
     },
     "metadata": {
      "needs_background": "light"
     },
     "output_type": "display_data"
    }
   ],
   "source": [
    "plt.plot(y)"
   ]
  },
  {
   "cell_type": "code",
   "execution_count": 680,
   "metadata": {
    "scrolled": false
   },
   "outputs": [
    {
     "data": {
      "text/plain": [
       "[<matplotlib.lines.Line2D at 0x1555dc978>]"
      ]
     },
     "execution_count": 680,
     "metadata": {},
     "output_type": "execute_result"
    },
    {
     "data": {
      "image/png": "[encoded data removed]",
      "text/plain": [
       "<Figure size 432x288 with 1 Axes>"
      ]
     },
     "metadata": {
      "needs_background": "light"
     },
     "output_type": "display_data"
    }
   ],
   "source": [
    "plt.plot(svd.explained_variance_ratio_)"
   ]
  },
  {
   "cell_type": "code",
   "execution_count": null,
   "metadata": {},
   "outputs": [],
   "source": []
  }
 ],
 "metadata": {
  "kernelspec": {
   "display_name": "Python 3",
   "language": "python",
   "name": "python3"
  },
  "language_info": {
   "codemirror_mode": {
    "name": "ipython",
    "version": 3
   },
   "file_extension": ".py",
   "mimetype": "text/x-python",
   "name": "python",
   "nbconvert_exporter": "python",
   "pygments_lexer": "ipython3",
   "version": "3.7.2"
  }
 },
 "nbformat": 4,
 "nbformat_minor": 2
}
