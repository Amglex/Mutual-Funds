{
 "cells": [
  {
   "cell_type": "markdown",
   "metadata": {},
   "source": [
    "# Clustering"
   ]
  },
  {
   "cell_type": "markdown",
   "metadata": {},
   "source": [
    "### Description"
   ]
  },
  {
   "cell_type": "markdown",
   "metadata": {},
   "source": [
    "- Cluster funds using k-means"
   ]
  },
  {
   "cell_type": "code",
   "execution_count": 159,
   "metadata": {},
   "outputs": [],
   "source": [
    "import feather\n",
    "import numpy as np\n",
    "import datetime\n",
    "import pandas as pd\n",
    "from scipy import sparse\n",
    "\n",
    "import seaborn as sns\n",
    "import matplotlib.pyplot as plt\n",
    "import matplotlib.cm as cm\n",
    "from pandas.plotting import register_matplotlib_converters\n",
    "register_matplotlib_converters()\n",
    "\n",
    "from sklearn.metrics import silhouette_samples, silhouette_score\n",
    "from sklearn.cluster import KMeans, SpectralClustering\n",
    "\n",
    "from sklearn.preprocessing import Normalizer, MaxAbsScaler\n",
    "from sklearn.decomposition import TruncatedSVD"
   ]
  },
  {
   "cell_type": "markdown",
   "metadata": {},
   "source": [
    "# Setup"
   ]
  },
  {
   "cell_type": "code",
   "execution_count": 373,
   "metadata": {},
   "outputs": [],
   "source": [
    "# Convert to date format\n",
    "begin_date = '2018-01-01' \n",
    "end_date = '2019-01-01'"
   ]
  },
  {
   "cell_type": "markdown",
   "metadata": {},
   "source": [
    "## Load Data"
   ]
  },
  {
   "cell_type": "code",
   "execution_count": 374,
   "metadata": {},
   "outputs": [
    {
     "name": "stdout",
     "output_type": "stream",
     "text": [
      "Shape of row_info information\n",
      "(2020, 8)\n",
      "Shape of holding information\n",
      "(2020, 56820)\n"
     ]
    }
   ],
   "source": [
    "### Returns\n",
    "path = '../data/processed/returns.feather'\n",
    "returns = feather.read_dataframe(path)\n",
    "\n",
    "returns = returns.query('caldt >= @begin_date and caldt <= @end_date')\n",
    "\n",
    "### row_info\n",
    "path = '../data/processed/row_info.feather'\n",
    "row_info = feather.read_dataframe(path)\n",
    "\n",
    "row_info = row_info.query('report_dt >= @begin_date and report_dt <= @end_date')\n",
    "\n",
    "row_info.reset_index(inplace=True,drop=True)\n",
    "row_info['row'] = row_info.index\n",
    "\n",
    "### col_info\n",
    "path = '../data/processed/col_info.feather'\n",
    "col_info = feather.read_dataframe(path)\n",
    "\n",
    "### Holdings\n",
    "path = '../data/processed/holdings.npz'\n",
    "holdings = sparse.load_npz(path)\n",
    "\n",
    "holdings = holdings[row_info.row.values]\n",
    "\n",
    "print('Shape of row_info information')\n",
    "print(row_info.shape)\n",
    "print('Shape of holding information')\n",
    "print(holdings.shape)"
   ]
  },
  {
   "cell_type": "code",
   "execution_count": 375,
   "metadata": {},
   "outputs": [
    {
     "data": {
      "text/plain": [
       "count                    2020\n",
       "unique                      1\n",
       "top       2018-12-31 00:00:00\n",
       "freq                     2020\n",
       "first     2018-12-31 00:00:00\n",
       "last      2018-12-31 00:00:00\n",
       "Name: report_dt, dtype: object"
      ]
     },
     "execution_count": 375,
     "metadata": {},
     "output_type": "execute_result"
    }
   ],
   "source": [
    "row_info.report_dt.describe()"
   ]
  },
  {
   "cell_type": "markdown",
   "metadata": {},
   "source": [
    "## Checking the data"
   ]
  },
  {
   "cell_type": "code",
   "execution_count": 376,
   "metadata": {},
   "outputs": [],
   "source": [
    "mask_columns = pd.Series(np.squeeze(np.array(holdings.sum(0))) > 10)"
   ]
  },
  {
   "cell_type": "code",
   "execution_count": 377,
   "metadata": {},
   "outputs": [],
   "source": [
    "holdings = holdings[:,mask_columns.values]\n",
    "col_info = col_info.loc[mask_columns.values,:]\n",
    "\n",
    "col_info.reset_index(drop = True,inplace=True)"
   ]
  },
  {
   "cell_type": "code",
   "execution_count": 378,
   "metadata": {},
   "outputs": [
    {
     "name": "stdout",
     "output_type": "stream",
     "text": [
      "(2020, 3190) (2020, 8) (3190, 5)\n"
     ]
    }
   ],
   "source": [
    "print(\n",
    "    holdings.shape,\n",
    "    row_info.shape,\n",
    "    col_info.shape)"
   ]
  },
  {
   "cell_type": "code",
   "execution_count": 379,
   "metadata": {},
   "outputs": [
    {
     "data": {
      "text/plain": [
       "<matplotlib.axes._subplots.AxesSubplot at 0x12f32c150>"
      ]
     },
     "execution_count": 379,
     "metadata": {},
     "output_type": "execute_result"
    },
    {
     "data": {
      "image/png": "[encoded data removed]",
      "text/plain": [
       "<Figure size 432x288 with 1 Axes>"
      ]
     },
     "metadata": {
      "needs_background": "light"
     },
     "output_type": "display_data"
    }
   ],
   "source": [
    "# Sum per stock\n",
    "pd.DataFrame(holdings.sum(0)).T.plot()"
   ]
  },
  {
   "cell_type": "code",
   "execution_count": 380,
   "metadata": {},
   "outputs": [
    {
     "data": {
      "text/html": [
       "<div>\n",
       "<style scoped>\n",
       "    .dataframe tbody tr th:only-of-type {\n",
       "        vertical-align: middle;\n",
       "    }\n",
       "\n",
       "    .dataframe tbody tr th {\n",
       "        vertical-align: top;\n",
       "    }\n",
       "\n",
       "    .dataframe thead th {\n",
       "        text-align: right;\n",
       "    }\n",
       "</style>\n",
       "<table border=\"1\" class=\"dataframe\">\n",
       "  <thead>\n",
       "    <tr style=\"text-align: right;\">\n",
       "      <th></th>\n",
       "      <th>security_name</th>\n",
       "      <th>cusip</th>\n",
       "      <th>crsp_company_key</th>\n",
       "      <th>col_old</th>\n",
       "      <th>col</th>\n",
       "      <th>sum</th>\n",
       "    </tr>\n",
       "  </thead>\n",
       "  <tbody>\n",
       "    <tr>\n",
       "      <th>387</th>\n",
       "      <td>MICROSOFT CORP</td>\n",
       "      <td>59491810</td>\n",
       "      <td>3006728</td>\n",
       "      <td>591</td>\n",
       "      <td>564</td>\n",
       "      <td>1548.946399</td>\n",
       "    </tr>\n",
       "    <tr>\n",
       "      <th>455</th>\n",
       "      <td>GENERAL ELECTRIC CO</td>\n",
       "      <td>36960410</td>\n",
       "      <td>3004314</td>\n",
       "      <td>662</td>\n",
       "      <td>635</td>\n",
       "      <td>1321.133990</td>\n",
       "    </tr>\n",
       "    <tr>\n",
       "      <th>340</th>\n",
       "      <td>CITIGROUP INC</td>\n",
       "      <td>17296710</td>\n",
       "      <td>3002257</td>\n",
       "      <td>542</td>\n",
       "      <td>515</td>\n",
       "      <td>1256.047592</td>\n",
       "    </tr>\n",
       "    <tr>\n",
       "      <th>388</th>\n",
       "      <td>PFIZER INC</td>\n",
       "      <td>71708110</td>\n",
       "      <td>3008120</td>\n",
       "      <td>592</td>\n",
       "      <td>565</td>\n",
       "      <td>1225.247587</td>\n",
       "    </tr>\n",
       "    <tr>\n",
       "      <th>523</th>\n",
       "      <td>EXXON MOBIL CORP</td>\n",
       "      <td>30231G10</td>\n",
       "      <td>3003728</td>\n",
       "      <td>739</td>\n",
       "      <td>710</td>\n",
       "      <td>1195.337256</td>\n",
       "    </tr>\n",
       "    <tr>\n",
       "      <th>371</th>\n",
       "      <td>CISCO SYSTEMS INC</td>\n",
       "      <td>17275R10</td>\n",
       "      <td>3002250</td>\n",
       "      <td>574</td>\n",
       "      <td>547</td>\n",
       "      <td>1135.485505</td>\n",
       "    </tr>\n",
       "    <tr>\n",
       "      <th>688</th>\n",
       "      <td>JOHNSON &amp; JOHNSON</td>\n",
       "      <td>47816010</td>\n",
       "      <td>3005747</td>\n",
       "      <td>926</td>\n",
       "      <td>893</td>\n",
       "      <td>990.976759</td>\n",
       "    </tr>\n",
       "    <tr>\n",
       "      <th>415</th>\n",
       "      <td>INTEL CORP</td>\n",
       "      <td>45814010</td>\n",
       "      <td>3005322</td>\n",
       "      <td>621</td>\n",
       "      <td>594</td>\n",
       "      <td>960.901433</td>\n",
       "    </tr>\n",
       "    <tr>\n",
       "      <th>552</th>\n",
       "      <td>BANK OF AMERICA CORP</td>\n",
       "      <td>06050510</td>\n",
       "      <td>3001168</td>\n",
       "      <td>771</td>\n",
       "      <td>742</td>\n",
       "      <td>917.795021</td>\n",
       "    </tr>\n",
       "    <tr>\n",
       "      <th>518</th>\n",
       "      <td>WAL MART STORES INC</td>\n",
       "      <td>93114210</td>\n",
       "      <td>3011176</td>\n",
       "      <td>734</td>\n",
       "      <td>705</td>\n",
       "      <td>880.850257</td>\n",
       "    </tr>\n",
       "  </tbody>\n",
       "</table>\n",
       "</div>"
      ],
      "text/plain": [
       "            security_name     cusip  crsp_company_key  col_old  col  \\\n",
       "387        MICROSOFT CORP  59491810           3006728      591  564   \n",
       "455   GENERAL ELECTRIC CO  36960410           3004314      662  635   \n",
       "340         CITIGROUP INC  17296710           3002257      542  515   \n",
       "388            PFIZER INC  71708110           3008120      592  565   \n",
       "523      EXXON MOBIL CORP  30231G10           3003728      739  710   \n",
       "371     CISCO SYSTEMS INC  17275R10           3002250      574  547   \n",
       "688     JOHNSON & JOHNSON  47816010           3005747      926  893   \n",
       "415            INTEL CORP  45814010           3005322      621  594   \n",
       "552  BANK OF AMERICA CORP  06050510           3001168      771  742   \n",
       "518   WAL MART STORES INC  93114210           3011176      734  705   \n",
       "\n",
       "             sum  \n",
       "387  1548.946399  \n",
       "455  1321.133990  \n",
       "340  1256.047592  \n",
       "388  1225.247587  \n",
       "523  1195.337256  \n",
       "371  1135.485505  \n",
       "688   990.976759  \n",
       "415   960.901433  \n",
       "552   917.795021  \n",
       "518   880.850257  "
      ]
     },
     "execution_count": 380,
     "metadata": {},
     "output_type": "execute_result"
    }
   ],
   "source": [
    "col_info['sum'] = holdings.sum(0).T\n",
    "col_info.sort_values(by = 'sum',ascending=False).head(10)"
   ]
  },
  {
   "cell_type": "code",
   "execution_count": 382,
   "metadata": {},
   "outputs": [
    {
     "name": "stdout",
     "output_type": "stream",
     "text": [
      "Security:\n",
      "NEUROCRINE BIOSCIENCES INC\n",
      "\n",
      "Sum of holdings:                  50.27\n",
      "Number of companies holding:      75.00\n",
      "Average position:                  0.67\n"
     ]
    }
   ],
   "source": [
    "i = 100\n",
    "my_sum = holdings[:,i].toarray().T.flatten()\n",
    "\n",
    "print('Security:')\n",
    "print(col_info.loc[i,:].security_name)\n",
    "print()\n",
    "print('Sum of holdings:             {:10.2f}'.format(np.sum(my_sum)))\n",
    "print('Number of companies holding: {:10.2f}'.format(np.sum(my_sum != 0)))\n",
    "print('Average position:            {:10.2f}'.format(np.sum(my_sum) / np.sum(my_sum != 0)))"
   ]
  },
  {
   "cell_type": "code",
   "execution_count": 383,
   "metadata": {},
   "outputs": [],
   "source": [
    "colsums = pd.DataFrame(holdings.sum(0)).T"
   ]
  },
  {
   "cell_type": "code",
   "execution_count": 384,
   "metadata": {},
   "outputs": [
    {
     "data": {
      "text/plain": [
       "0    387\n",
       "dtype: int64"
      ]
     },
     "execution_count": 384,
     "metadata": {},
     "output_type": "execute_result"
    }
   ],
   "source": [
    "colsums.idxmax()"
   ]
  },
  {
   "cell_type": "code",
   "execution_count": 385,
   "metadata": {},
   "outputs": [
    {
     "data": {
      "text/plain": [
       "security_name       NVIDIA CORP\n",
       "cusip                  67066G10\n",
       "crsp_company_key        3007492\n",
       "col_old                     669\n",
       "col                         642\n",
       "sum                     81.4922\n",
       "Name: 462, dtype: object"
      ]
     },
     "execution_count": 385,
     "metadata": {},
     "output_type": "execute_result"
    }
   ],
   "source": [
    "col_info.loc[462]"
   ]
  },
  {
   "cell_type": "code",
   "execution_count": 386,
   "metadata": {
    "scrolled": true
   },
   "outputs": [
    {
     "data": {
      "text/plain": [
       "<matplotlib.axes._subplots.AxesSubplot at 0x12e9d0ad0>"
      ]
     },
     "execution_count": 386,
     "metadata": {},
     "output_type": "execute_result"
    },
    {
     "data": {
      "image/png": "[encoded data removed]",
      "text/plain": [
       "<Figure size 432x288 with 1 Axes>"
      ]
     },
     "metadata": {
      "needs_background": "light"
     },
     "output_type": "display_data"
    }
   ],
   "source": [
    "# Sum per fund\n",
    "pd.DataFrame(holdings.sum(1)).plot()"
   ]
  },
  {
   "cell_type": "code",
   "execution_count": 389,
   "metadata": {
    "scrolled": false
   },
   "outputs": [
    {
     "name": "stdout",
     "output_type": "stream",
     "text": [
      "95.86673557758331\n",
      "Goldman Sachs Trust: Goldman Sachs Large Cap Value Fund; Service Shares\n"
     ]
    },
    {
     "data": {
      "image/png": "[encoded data removed]",
      "text/plain": [
       "<Figure size 432x288 with 1 Axes>"
      ]
     },
     "metadata": {
      "needs_background": "light"
     },
     "output_type": "display_data"
    },
    {
     "data": {
      "text/html": [
       "<div>\n",
       "<style scoped>\n",
       "    .dataframe tbody tr th:only-of-type {\n",
       "        vertical-align: middle;\n",
       "    }\n",
       "\n",
       "    .dataframe tbody tr th {\n",
       "        vertical-align: top;\n",
       "    }\n",
       "\n",
       "    .dataframe thead th {\n",
       "        text-align: right;\n",
       "    }\n",
       "</style>\n",
       "<table border=\"1\" class=\"dataframe\">\n",
       "  <thead>\n",
       "    <tr style=\"text-align: right;\">\n",
       "      <th></th>\n",
       "      <th>security_name</th>\n",
       "      <th>cusip</th>\n",
       "      <th>crsp_company_key</th>\n",
       "      <th>col_old</th>\n",
       "      <th>col</th>\n",
       "      <th>sum</th>\n",
       "    </tr>\n",
       "  </thead>\n",
       "  <tbody>\n",
       "    <tr>\n",
       "      <th>387</th>\n",
       "      <td>MICROSOFT CORP</td>\n",
       "      <td>59491810</td>\n",
       "      <td>3006728</td>\n",
       "      <td>591</td>\n",
       "      <td>564</td>\n",
       "      <td>1548.946399</td>\n",
       "    </tr>\n",
       "    <tr>\n",
       "      <th>455</th>\n",
       "      <td>GENERAL ELECTRIC CO</td>\n",
       "      <td>36960410</td>\n",
       "      <td>3004314</td>\n",
       "      <td>662</td>\n",
       "      <td>635</td>\n",
       "      <td>1321.133990</td>\n",
       "    </tr>\n",
       "    <tr>\n",
       "      <th>388</th>\n",
       "      <td>PFIZER INC</td>\n",
       "      <td>71708110</td>\n",
       "      <td>3008120</td>\n",
       "      <td>592</td>\n",
       "      <td>565</td>\n",
       "      <td>1225.247587</td>\n",
       "    </tr>\n",
       "    <tr>\n",
       "      <th>371</th>\n",
       "      <td>CISCO SYSTEMS INC</td>\n",
       "      <td>17275R10</td>\n",
       "      <td>3002250</td>\n",
       "      <td>574</td>\n",
       "      <td>547</td>\n",
       "      <td>1135.485505</td>\n",
       "    </tr>\n",
       "    <tr>\n",
       "      <th>415</th>\n",
       "      <td>INTEL CORP</td>\n",
       "      <td>45814010</td>\n",
       "      <td>3005322</td>\n",
       "      <td>621</td>\n",
       "      <td>594</td>\n",
       "      <td>960.901433</td>\n",
       "    </tr>\n",
       "  </tbody>\n",
       "</table>\n",
       "</div>"
      ],
      "text/plain": [
       "           security_name     cusip  crsp_company_key  col_old  col  \\\n",
       "387       MICROSOFT CORP  59491810           3006728      591  564   \n",
       "455  GENERAL ELECTRIC CO  36960410           3004314      662  635   \n",
       "388           PFIZER INC  71708110           3008120      592  565   \n",
       "371    CISCO SYSTEMS INC  17275R10           3002250      574  547   \n",
       "415           INTEL CORP  45814010           3005322      621  594   \n",
       "\n",
       "             sum  \n",
       "387  1548.946399  \n",
       "455  1321.133990  \n",
       "388  1225.247587  \n",
       "371  1135.485505  \n",
       "415   960.901433  "
      ]
     },
     "execution_count": 389,
     "metadata": {},
     "output_type": "execute_result"
    }
   ],
   "source": [
    "i = 70\n",
    "print(np.sum(holdings[i,:].toarray().T))\n",
    "print(row_info.fund_name[i])\n",
    "plt.plot(holdings[i,:].toarray().T)\n",
    "plt.show()\n",
    "mask = (holdings[i,:].toarray().T > 0)\n",
    "col_info.loc[mask.flatten()].sort_values(by='sum',ascending = False).head()"
   ]
  },
  {
   "cell_type": "markdown",
   "metadata": {},
   "source": [
    "## Clustering"
   ]
  },
  {
   "cell_type": "code",
   "execution_count": 44,
   "metadata": {},
   "outputs": [
    {
     "name": "stderr",
     "output_type": "stream",
     "text": [
      "/Users/alexandersteeb/.virtualenvs/MT/lib/python3.7/site-packages/sklearn/manifold/spectral_embedding_.py:235: UserWarning: Graph is not fully connected, spectral embedding may not work as expected.\n",
      "  warnings.warn(\"Graph is not fully connected, spectral embedding\"\n"
     ]
    }
   ],
   "source": [
    "clustering = SpectralClustering(n_clusters=4,\n",
    "                                assign_labels='discretize',\n",
    "                                eigen_solver='amg',\n",
    "                                n_jobs= -1,\n",
    "                                random_state=0).fit(holdings)"
   ]
  },
  {
   "cell_type": "code",
   "execution_count": 45,
   "metadata": {},
   "outputs": [
    {
     "data": {
      "text/plain": [
       "array([0, 0, 0, ..., 0, 3, 1])"
      ]
     },
     "execution_count": 45,
     "metadata": {},
     "output_type": "execute_result"
    }
   ],
   "source": [
    "clustering.labels_"
   ]
  },
  {
   "cell_type": "code",
   "execution_count": 568,
   "metadata": {},
   "outputs": [
    {
     "name": "stdout",
     "output_type": "stream",
     "text": [
      "Start kMeans...\n"
     ]
    }
   ],
   "source": [
    "print('Start kMeans...')\n",
    "kmeans = KMeans(n_clusters = 4,\n",
    "                verbose = True,\n",
    "                n_init = 5, # Number of runs\n",
    "                n_jobs= -1,\n",
    "                random_state=123).fit(holdings)"
   ]
  },
  {
   "cell_type": "code",
   "execution_count": 47,
   "metadata": {},
   "outputs": [],
   "source": [
    "labels = pd.DataFrame(clustering.labels_)"
   ]
  },
  {
   "cell_type": "code",
   "execution_count": 46,
   "metadata": {},
   "outputs": [
    {
     "ename": "NameError",
     "evalue": "name 'kmeans' is not defined",
     "output_type": "error",
     "traceback": [
      "\u001b[0;31m---------------------------------------------------------------------------\u001b[0m",
      "\u001b[0;31mNameError\u001b[0m                                 Traceback (most recent call last)",
      "\u001b[0;32m<ipython-input-46-e38cc15c1ced>\u001b[0m in \u001b[0;36m<module>\u001b[0;34m\u001b[0m\n\u001b[1;32m      1\u001b[0m \u001b[0mlabels\u001b[0m \u001b[0;34m=\u001b[0m \u001b[0mpd\u001b[0m\u001b[0;34m.\u001b[0m\u001b[0mDataFrame\u001b[0m\u001b[0;34m(\u001b[0m\u001b[0mclustering\u001b[0m\u001b[0;34m.\u001b[0m\u001b[0mlabels_\u001b[0m\u001b[0;34m)\u001b[0m\u001b[0;34m\u001b[0m\u001b[0;34m\u001b[0m\u001b[0m\n\u001b[0;32m----> 2\u001b[0;31m \u001b[0mlabels\u001b[0m \u001b[0;34m=\u001b[0m \u001b[0mpd\u001b[0m\u001b[0;34m.\u001b[0m\u001b[0mDataFrame\u001b[0m\u001b[0;34m(\u001b[0m\u001b[0mkmeans\u001b[0m\u001b[0;34m.\u001b[0m\u001b[0mlabels_\u001b[0m\u001b[0;34m)\u001b[0m\u001b[0;34m\u001b[0m\u001b[0;34m\u001b[0m\u001b[0m\n\u001b[0m",
      "\u001b[0;31mNameError\u001b[0m: name 'kmeans' is not defined"
     ]
    }
   ],
   "source": [
    "labels = pd.DataFrame(kmeans.labels_)"
   ]
  },
  {
   "cell_type": "code",
   "execution_count": 48,
   "metadata": {},
   "outputs": [],
   "source": [
    "summary['cluster'] = labels.values"
   ]
  },
  {
   "cell_type": "code",
   "execution_count": 49,
   "metadata": {
    "collapsed": true
   },
   "outputs": [
    {
     "data": {
      "text/plain": [
       "array([['American Beacon Funds: American Beacon Large Cap Value Fund; Institutional Class Shares'],\n",
       "       ['BNY Mellon Funds Trust: BNY Mellon Large Cap Market Opportunities Fund; Investor Shares'],\n",
       "       ['BNY Mellon Funds Trust: BNY Mellon Tax-Sensitve Large Cap Multi-Strategy Fund; Investor Shares'],\n",
       "       ['JPMorgan Trust I: JPMorgan Intrepid Value Fund; Class A Shares'],\n",
       "       ['Touchstone Strategic Trust: Touchstone Small Cap Growth Fund; Class Y Shares'],\n",
       "       ['Frank Funds: Frank Value Fund; Investor Class Shares'],\n",
       "       ['Nuveen Investment Trust: Nuveen NWQ Small/Mid-Cap Value Fund; Class I Shares'],\n",
       "       ['Calvert Social Investment Fund: Calvert Equity Fund; Class A Shares'],\n",
       "       ['Parnassus Funds: Parnassus Fund; Investor Class Shares'],\n",
       "       ['Alger Portfolios: Alger SmallCap Growth Portfolio; Class I-2 Shares'],\n",
       "       ['Federated Equity Income Fund, Inc; Class A Shares'],\n",
       "       ['Wasatch Funds Trust: Wasatch Small Cap Growth Fund; Investor Class Shares'],\n",
       "       ['Wasatch Funds Trust: Wasatch Core Growth Fund; Investor Class Shares'],\n",
       "       ['Ariel Investment Trust: Ariel Fund; Investor Class Shares'],\n",
       "       ['Hartford Mutual Funds II, Inc: Hartford Schroders US Small Cap Opportunities Fund; Class I Shares'],\n",
       "       ['Ariel Investment Trust: Ariel Appreciation Fund; Investor Class Shares'],\n",
       "       ['PGIM Jennison Small Company Fund; Class A Shares'],\n",
       "       ['Williamsburg Investment Trust: Government Street Equity Fund'],\n",
       "       ['Parnassus Income Funds: Parnassus Core Equity Fund; Investor Shares'],\n",
       "       ['Advanced Series Trust: AST Neuberger Berman/LSV Mid-Cap Value Portfolio'],\n",
       "       ['SunAmerica Series Trust: SA WellsCap Fundamental Growth Portfolio; Class 1 Shares'],\n",
       "       ['Goldman Sachs Trust: Goldman Sachs Equity Income Fund; Institutional Class Shares'],\n",
       "       ['Sit Mutual Funds, Inc: Sit Small Cap Growth Fund'],\n",
       "       ['Rainier Investment Management Mutual Funds: Rainier Small/Mid Cap Equity Fund; Original Shares'],\n",
       "       ['Voyageur Mutual Funds III: Delaware Select Growth Fund; Class A Shares'],\n",
       "       ['Managed Portfolio Series: Olstein All Cap Value Fund; Class C Shares'],\n",
       "       ['Professionally Managed Portfolios: Osterweis Fund'],\n",
       "       ['Allianz Funds Multi-Strategy Trust: AllianzGI Micro Cap Fund; Institutional Class Shares'],\n",
       "       ['Dreyfus Premier Investment Funds, Inc: Dreyfus Large Cap Growth Fund; Class A Shares'],\n",
       "       ['Wells Fargo Funds Trust: Wells Fargo Disciplined Small Cap Fund; Administrator Class Shares'],\n",
       "       ['Dreyfus Premier Investment Funds, Inc: Dreyfus Large Cap Equity Fund; Class A Shares'],\n",
       "       ['HSBC Funds: HSBC Opportunity Fund; Class I Shares'],\n",
       "       ['Payden & Rygel Investment Group: Payden Equity Income Fund; Investor Class Shares'],\n",
       "       ['Litman Gregory Funds Trust: Litman Gregory Masters Equity Fund; Institutional Class Shares'],\n",
       "       ['AMG Funds: AMG GW&K Small Cap Core Fund; Class N Shares'],\n",
       "       ['Royce Capital Fund: Royce Small-Cap Portfolio; Investment Class Shares'],\n",
       "       ['Ivy Variable Insurance Portfolios: Ivy VIP Micro Cap Growth; Class II Shares'],\n",
       "       ['Wasatch Funds Trust: Wasatch Small Cap Value Fund; Investor Class Shares'],\n",
       "       ['BlackRock Funds: BlackRock High Equity Income Fund; Investor A Shares'],\n",
       "       ['Dreyfus Investment Portfolios: MidCap Stock Portfolio; Initial Shares'],\n",
       "       ['State Street Institutional Funds: State Street Institutional Small-Cap Equity Fund; Investment Class Shares'],\n",
       "       ['Prudential Investment Portfolios, Inc 10: PGIM QMA Mid-Cap Value Fund; Class Z Shares'],\n",
       "       ['Virtus Asset Trust: Virtus Silvant Small-Cap Growth Stock Fund; Class C Shares'],\n",
       "       ['Wells Fargo Funds Trust: Wells Fargo Special Mid Cap Value Fund; Institutional Class Shares'],\n",
       "       ['EQ Advisors Trust: 1290 VT Equity Income Portfolio; Class IB Shares'],\n",
       "       ['American Century Mutual Funds, Inc: Capital Value Fund; Investor Class Shares'],\n",
       "       ['RBB Fund, Inc: Schneider Small Cap Value Fund'],\n",
       "       ['Seasons Series Trust: SA Multi-Managed Large Cap Value Portfolio; Class 1 Shares'],\n",
       "       ['JP Morgan Mutual Fund Investment Trust: JPMorgan Growth Advantage Fund; Class C Shares'],\n",
       "       ['Marsico Investment Fund: Marsico 21st Century Fund'],\n",
       "       ['Meeder Funds: Meeder Dynamic Allocation Fund; Retail Class Shares'],\n",
       "       ['Meeder Funds: Meeder Aggressive Allocation Fund; Retail Class Shares'],\n",
       "       ['William Blair Funds: Large Cap Growth Fund; Class N Shares'],\n",
       "       ['MassMutual Select Funds: MassMutual Select Large Cap Value Fund; Class R5 Shares'],\n",
       "       ['MassMutual Select Funds: MassMutual Select Equity Opportunities Fund; Class R3 Shares'],\n",
       "       ['Vanguard Malvern Funds: Vanguard US Value Fund; Investor Shares'],\n",
       "       ['State Street Variable Insurance Series Funds, Inc: State Street Small-Cap Equity VIS Fund; Class 1 Shares'],\n",
       "       ['BNY Mellon Funds Trust: BNY Mellon Income Stock Fund; Class M Shares'],\n",
       "       ['T Rowe Price Tax-Efficient Funds, Inc: T Rowe Price Tax-Efficient Equity Fund'],\n",
       "       ['Baird Funds, Inc: Baird MidCap Fund; Institutional Class Shares'],\n",
       "       ['Advanced Series Trust: AST Wedge Capital Mid-Cap Value Portfolio'],\n",
       "       ['Prudential Investment Portfolios 3: PGIM QMA Large-Cap Value Fund; Class A Shares'],\n",
       "       ['Principal Funds, Inc: MidCap Growth Fund III; Class R-3 Shares'],\n",
       "       ['Fidelity Devonshire Trust: Fidelity Mid Cap Value Fund; Mid Cap Value Shares'],\n",
       "       ['Advantage Funds, Inc: Dreyfus Structured Midcap Fund; Class I Shares'],\n",
       "       [\"Advisors' Inner Circle Fund II: Hancock Horizon Burkenroad Small Cap Fund; Class D Shares\"],\n",
       "       ['Eaton Vance Mutual Funds Trust: Eaton Vance Tax-Managed Multi-Cap Growth Fund; Class C Shares'],\n",
       "       ['Buffalo Funds: Buffalo Mid Cap Fund'],\n",
       "       ['Royce Fund: Royce Small-Cap Value Fund; Investment Class Shares'],\n",
       "       ['Harbor Funds: Harbor Mid Cap Value Fund; Administrative Class Shares'],\n",
       "       ['Deutsche Investment Trust: Deutsche Mid Cap Growth Fund; Class A Shares'],\n",
       "       ['Eaton Vance Special Investment Trust: Eaton Vance Growth Fund; Class I Shares'],\n",
       "       ['JPMorgan Trust I: JPMorgan Intrepid Growth Fund; Class A Shares'],\n",
       "       ['JPMorgan Trust I: JPMorgan Intrepid America Fund; Class A Shares'],\n",
       "       ['Wells Fargo Funds Trust: Wells Fargo Capital Growth Fund; Institutional Class Shares'],\n",
       "       ['American Beacon Funds: American Beacon Bridgeway Large Cap Growth Fund; Institutional Class Shares'],\n",
       "       ['Principal Funds, Inc: MidCap Value Fund I; Institutional Class Shares'],\n",
       "       ['Columbia Funds Variable Series Trust II: CTIVP - Victory Sycamore Established Value Fund; Class 3 Shares'],\n",
       "       ['Cullen Funds Trust: Cullen High Dividend Equity Fund; Retail Class Shares'],\n",
       "       ['PRIMECAP Odyssey Funds: PRIMECAP Odyssey Growth Fund'],\n",
       "       ['PRIMECAP Odyssey Funds: PRIMECAP Odyssey Aggressive Growth Fund'],\n",
       "       ['Oak Associates Funds: Rock Oak Core Growth Fund'],\n",
       "       ['Wells Fargo Funds Trust: Wells Fargo Endeavor Select Fund; Administrator Class Shares'],\n",
       "       ['Brighthouse Funds Trust I: Wells Capital Management Mid Cap Value Portfolio; Class B Shares'],\n",
       "       ['Hartford Mutual Funds II, Inc: Hartford Schroders US Small/Mid Cap Opportunities Fund; Class A Shares'],\n",
       "       ['Bread & Butter Fund Inc'],\n",
       "       ['Rainier Investment Management Mutual Funds: Rainier Mid Cap Equity Fund; Institutional Shares'],\n",
       "       ['Artisan Partners Funds, Inc: Artisan Value Fund; Investor Shares'],\n",
       "       ['Advanced Series Trust: AST Wellington Management Hedged Equity Portfolio'],\n",
       "       ['Trust for Professional Managers: Snow Capital Long/Short Opportunity Fund; Class A Shares'],\n",
       "       ['AMG Funds IV: AMG GW&K US Small Cap Growth Fund; Class I Shares'],\n",
       "       ['Small Cap Value Fund, Inc'],\n",
       "       ['TIAA-CREF Funds: Quant Large-Cap Value Fund; Institutional Class Shares'],\n",
       "       ['Allianz Funds Multi-Strategy Trust: AllianzGI Ultra Micro Cap Fund; Institutional Class Shares'],\n",
       "       [\"Advisors' Inner Circle Fund II: Frost Growth Equity Fund; Institutional Class Shares\"],\n",
       "       ['Carillon Series Trust: Carillon Eagle Smaller Company Fund; Class A Shares'],\n",
       "       ['Ivy Funds: Ivy Micro Cap Growth Fund; Class A Shares'],\n",
       "       ['Legg Mason Partners Equity Trust: ClearBridge Mid Cap Growth Fund; Class A Shares'],\n",
       "       ['Eaton Vance Growth Trust: Eaton Vance Focused Growth Opportunities Fund; Class A Shares'],\n",
       "       [\"Advisors' Inner Circle Fund II: Westfield Capital Large Cap Growth Fund; Institutional Class Shares\"],\n",
       "       ['Copeland Trust: Copeland Risk Managed Dividend Growth Fund; Class A Shares'],\n",
       "       ['MML Series Investment Fund: MML Focused Equity Fund; Class II Shares'],\n",
       "       ['Hussman Investment Trust: Hussman Strategic Value Fund'],\n",
       "       ['Baird Funds, Inc: Baird SmallCap Value Fund; Institutional Class Shares'],\n",
       "       ['Professionally Managed Portfolios: Osterweis Institutional Equity Fund; Investor Class Shares'],\n",
       "       ['Eaton Vance Growth Trust: Eaton Vance Atlanta Capital Focused Growth Fund; Class A Shares'],\n",
       "       ['Managed Portfolio Series: Securian AM Real Asset Income Fund; Institutional Class Shares'],\n",
       "       ['Ultimus Managers Trust: Lyrical US Value Equity Fund; Institutional Class Shares'],\n",
       "       ['Trust for Professional Managers: Snow Capital Focused Value Fund; Class A Shares'],\n",
       "       ['Meridian Fund, Inc: Meridian Small Cap Growth Fund; Legacy Class Shares'],\n",
       "       ['Advisors Series Trust: Pzena Mid Cap Value Fund; Institutional Class Shares'],\n",
       "       ['BMO Funds, Inc: BMO Aggressive Allocation Fund; Class I Shares'],\n",
       "       ['Pacific Funds Series Trust: Pacific Funds Small/Mid-Cap; Class S Shares'],\n",
       "       [\"Advisors' Inner Circle Fund III: Catholic Investor Large Cap Value Fund; Class I Shares\"],\n",
       "       ['Sit Mutual Funds, Inc: Sit Small Cap Dividend Growth Fund; Class S Shares'],\n",
       "       ['Meeder Funds: Meeder Moderate Allocation Fund; Retail Class Shares'],\n",
       "       ['Principal Funds, Inc: EDGE MidCap Fund; Institutional Class Shares'],\n",
       "       ['Principal Funds, Inc: SystematEx Large Value Fund; Class R-6 Shares'],\n",
       "       ['Baird Funds, Inc: Baird Small/Mid Cap Value Fund; Investor Class Shares'],\n",
       "       ['Cullen Funds Trust: Cullen Enhanced Equity Income Fund; Class C Shares'],\n",
       "       ['T Rowe Price Quantitative Management Funds, Inc: T Rowe Price QM US Value Equity Fund'],\n",
       "       ['ALPS Series Trust: Clarkston Fund; Institutional Class Shares'],\n",
       "       ['Guardian Variable Products Trust: Guardian Mid Cap Relative Value VIP Fund'],\n",
       "       ['ALPS Series Trust: Clarkston Select Fund; Institutional Class Shares'],\n",
       "       ['Prudential Investment Portfolios 2: PGIM Jennison Small-Cap Core Equity Fund; Class R6 Shares'],\n",
       "       ['Fidelity Devonshire Trust: Fidelity Mid Cap Value K6 Fund']],\n",
       "      dtype=object)"
      ]
     },
     "execution_count": 49,
     "metadata": {},
     "output_type": "execute_result"
    }
   ],
   "source": [
    "summary.loc[summary.cluster == 2,['fund_name']].values"
   ]
  },
  {
   "cell_type": "code",
   "execution_count": 54,
   "metadata": {},
   "outputs": [
    {
     "data": {
      "text/html": [
       "<div>\n",
       "<style scoped>\n",
       "    .dataframe tbody tr th:only-of-type {\n",
       "        vertical-align: middle;\n",
       "    }\n",
       "\n",
       "    .dataframe tbody tr th {\n",
       "        vertical-align: top;\n",
       "    }\n",
       "\n",
       "    .dataframe thead th {\n",
       "        text-align: right;\n",
       "    }\n",
       "</style>\n",
       "<table border=\"1\" class=\"dataframe\">\n",
       "  <thead>\n",
       "    <tr style=\"text-align: right;\">\n",
       "      <th>cluster</th>\n",
       "      <th>0</th>\n",
       "      <th>1</th>\n",
       "      <th>2</th>\n",
       "      <th>3</th>\n",
       "      <th>All</th>\n",
       "    </tr>\n",
       "    <tr>\n",
       "      <th>cap_class</th>\n",
       "      <th></th>\n",
       "      <th></th>\n",
       "      <th></th>\n",
       "      <th></th>\n",
       "      <th></th>\n",
       "    </tr>\n",
       "  </thead>\n",
       "  <tbody>\n",
       "    <tr>\n",
       "      <th>E</th>\n",
       "      <td>6.79</td>\n",
       "      <td>7.94</td>\n",
       "      <td>7.14</td>\n",
       "      <td>7.94</td>\n",
       "      <td>7.37</td>\n",
       "    </tr>\n",
       "    <tr>\n",
       "      <th>L</th>\n",
       "      <td>39.54</td>\n",
       "      <td>25.56</td>\n",
       "      <td>21.43</td>\n",
       "      <td>24.51</td>\n",
       "      <td>31.36</td>\n",
       "    </tr>\n",
       "    <tr>\n",
       "      <th>M</th>\n",
       "      <td>30.01</td>\n",
       "      <td>39.45</td>\n",
       "      <td>47.62</td>\n",
       "      <td>42.15</td>\n",
       "      <td>36.44</td>\n",
       "    </tr>\n",
       "    <tr>\n",
       "      <th>S</th>\n",
       "      <td>23.66</td>\n",
       "      <td>27.05</td>\n",
       "      <td>23.81</td>\n",
       "      <td>25.40</td>\n",
       "      <td>24.84</td>\n",
       "    </tr>\n",
       "  </tbody>\n",
       "</table>\n",
       "</div>"
      ],
      "text/plain": [
       "cluster        0      1      2      3    All\n",
       "cap_class                                   \n",
       "E           6.79   7.94   7.14   7.94   7.37\n",
       "L          39.54  25.56  21.43  24.51  31.36\n",
       "M          30.01  39.45  47.62  42.15  36.44\n",
       "S          23.66  27.05  23.81  25.40  24.84"
      ]
     },
     "execution_count": 54,
     "metadata": {},
     "output_type": "execute_result"
    }
   ],
   "source": [
    "round(pd.crosstab(summary['cap_class'],summary['cluster'], margins = True, normalize = 'columns') * 100, 2)"
   ]
  },
  {
   "cell_type": "code",
   "execution_count": 55,
   "metadata": {
    "collapsed": true
   },
   "outputs": [
    {
     "data": {
      "text/html": [
       "<div>\n",
       "<style scoped>\n",
       "    .dataframe tbody tr th:only-of-type {\n",
       "        vertical-align: middle;\n",
       "    }\n",
       "\n",
       "    .dataframe tbody tr th {\n",
       "        vertical-align: top;\n",
       "    }\n",
       "\n",
       "    .dataframe thead th {\n",
       "        text-align: right;\n",
       "    }\n",
       "</style>\n",
       "<table border=\"1\" class=\"dataframe\">\n",
       "  <thead>\n",
       "    <tr style=\"text-align: right;\">\n",
       "      <th>cluster</th>\n",
       "      <th>0</th>\n",
       "      <th>1</th>\n",
       "      <th>2</th>\n",
       "      <th>3</th>\n",
       "      <th>All</th>\n",
       "    </tr>\n",
       "    <tr>\n",
       "      <th>style_class</th>\n",
       "      <th></th>\n",
       "      <th></th>\n",
       "      <th></th>\n",
       "      <th></th>\n",
       "      <th></th>\n",
       "    </tr>\n",
       "  </thead>\n",
       "  <tbody>\n",
       "    <tr>\n",
       "      <th>C</th>\n",
       "      <td>37.79</td>\n",
       "      <td>40.45</td>\n",
       "      <td>31.75</td>\n",
       "      <td>43.56</td>\n",
       "      <td>39.57</td>\n",
       "    </tr>\n",
       "    <tr>\n",
       "      <th>E</th>\n",
       "      <td>6.79</td>\n",
       "      <td>7.94</td>\n",
       "      <td>7.14</td>\n",
       "      <td>7.94</td>\n",
       "      <td>7.37</td>\n",
       "    </tr>\n",
       "    <tr>\n",
       "      <th>G</th>\n",
       "      <td>35.27</td>\n",
       "      <td>34.00</td>\n",
       "      <td>34.92</td>\n",
       "      <td>31.39</td>\n",
       "      <td>33.90</td>\n",
       "    </tr>\n",
       "    <tr>\n",
       "      <th>V</th>\n",
       "      <td>20.15</td>\n",
       "      <td>17.62</td>\n",
       "      <td>26.19</td>\n",
       "      <td>17.11</td>\n",
       "      <td>19.16</td>\n",
       "    </tr>\n",
       "  </tbody>\n",
       "</table>\n",
       "</div>"
      ],
      "text/plain": [
       "cluster          0      1      2      3    All\n",
       "style_class                                   \n",
       "C            37.79  40.45  31.75  43.56  39.57\n",
       "E             6.79   7.94   7.14   7.94   7.37\n",
       "G            35.27  34.00  34.92  31.39  33.90\n",
       "V            20.15  17.62  26.19  17.11  19.16"
      ]
     },
     "execution_count": 55,
     "metadata": {},
     "output_type": "execute_result"
    }
   ],
   "source": [
    "round(pd.crosstab(summary['style_class'],summary['cluster'], margins = True, normalize = 'columns') * 100, 2)"
   ]
  },
  {
   "cell_type": "markdown",
   "metadata": {},
   "source": [
    "## Chart the returns of the formed clustes"
   ]
  },
  {
   "cell_type": "code",
   "execution_count": 558,
   "metadata": {},
   "outputs": [
    {
     "data": {
      "text/html": [
       "<div>\n",
       "<style scoped>\n",
       "    .dataframe tbody tr th:only-of-type {\n",
       "        vertical-align: middle;\n",
       "    }\n",
       "\n",
       "    .dataframe tbody tr th {\n",
       "        vertical-align: top;\n",
       "    }\n",
       "\n",
       "    .dataframe thead th {\n",
       "        text-align: right;\n",
       "    }\n",
       "</style>\n",
       "<table border=\"1\" class=\"dataframe\">\n",
       "  <thead>\n",
       "    <tr style=\"text-align: right;\">\n",
       "      <th></th>\n",
       "      <th>level_0</th>\n",
       "      <th>index</th>\n",
       "      <th>port_no</th>\n",
       "      <th>report_dt</th>\n",
       "      <th>fund_name</th>\n",
       "      <th>avrcs</th>\n",
       "      <th>lipper_class</th>\n",
       "      <th>False</th>\n",
       "      <th>cap_class</th>\n",
       "      <th>style_class</th>\n",
       "      <th>fund_no</th>\n",
       "      <th>cluster</th>\n",
       "    </tr>\n",
       "  </thead>\n",
       "  <tbody>\n",
       "    <tr>\n",
       "      <th>1639</th>\n",
       "      <td>1639</td>\n",
       "      <td>122578</td>\n",
       "      <td>1027281</td>\n",
       "      <td>2017-12-31</td>\n",
       "      <td>VALIC Company I: Large Capital Growth Fund</td>\n",
       "      <td>95.415532</td>\n",
       "      <td>LCGE</td>\n",
       "      <td>LCGE</td>\n",
       "      <td>L</td>\n",
       "      <td>G</td>\n",
       "      <td>30882</td>\n",
       "      <td>0</td>\n",
       "    </tr>\n",
       "  </tbody>\n",
       "</table>\n",
       "</div>"
      ],
      "text/plain": [
       "      level_0   index  port_no   report_dt  \\\n",
       "1639     1639  122578  1027281  2017-12-31   \n",
       "\n",
       "                                       fund_name      avrcs lipper_class  \\\n",
       "1639  VALIC Company I: Large Capital Growth Fund  95.415532         LCGE   \n",
       "\n",
       "     False cap_class style_class  fund_no  cluster  \n",
       "1639  LCGE         L           G    30882        0  "
      ]
     },
     "execution_count": 558,
     "metadata": {},
     "output_type": "execute_result"
    }
   ],
   "source": [
    "summary.sample()"
   ]
  },
  {
   "cell_type": "markdown",
   "metadata": {},
   "source": [
    "#### Merge new clusters into returns"
   ]
  },
  {
   "cell_type": "code",
   "execution_count": 559,
   "metadata": {},
   "outputs": [
    {
     "data": {
      "text/html": [
       "<div>\n",
       "<style scoped>\n",
       "    .dataframe tbody tr th:only-of-type {\n",
       "        vertical-align: middle;\n",
       "    }\n",
       "\n",
       "    .dataframe tbody tr th {\n",
       "        vertical-align: top;\n",
       "    }\n",
       "\n",
       "    .dataframe thead th {\n",
       "        text-align: right;\n",
       "    }\n",
       "</style>\n",
       "<table border=\"1\" class=\"dataframe\">\n",
       "  <thead>\n",
       "    <tr style=\"text-align: right;\">\n",
       "      <th></th>\n",
       "      <th>caldt</th>\n",
       "      <th>fund_no</th>\n",
       "      <th>port_no</th>\n",
       "      <th>mret</th>\n",
       "      <th>lipper_class</th>\n",
       "      <th>cluster</th>\n",
       "    </tr>\n",
       "  </thead>\n",
       "  <tbody>\n",
       "    <tr>\n",
       "      <th>18149</th>\n",
       "      <td>2017-12-29</td>\n",
       "      <td>6752.0</td>\n",
       "      <td>1026924.0</td>\n",
       "      <td>0.005298</td>\n",
       "      <td>SCGE</td>\n",
       "      <td>3.0</td>\n",
       "    </tr>\n",
       "  </tbody>\n",
       "</table>\n",
       "</div>"
      ],
      "text/plain": [
       "            caldt  fund_no    port_no      mret lipper_class  cluster\n",
       "18149  2017-12-29   6752.0  1026924.0  0.005298         SCGE      3.0"
      ]
     },
     "execution_count": 559,
     "metadata": {},
     "output_type": "execute_result"
    }
   ],
   "source": [
    "returns_merged = returns.merge(summary, how='left', left_on='crsp_fundno',right_on='fund_no')\n",
    "returns_merged = returns_merged.dropna(axis = 0, how = 'any')\n",
    "returns_merged = returns_merged[['caldt','fund_no','port_no','mret','lipper_class','cluster']]\n",
    "returns_merged.sample()"
   ]
  },
  {
   "cell_type": "markdown",
   "metadata": {},
   "source": [
    "#### Calc mean return per Obj_cd"
   ]
  },
  {
   "cell_type": "code",
   "execution_count": 560,
   "metadata": {},
   "outputs": [
    {
     "data": {
      "text/plain": [
       "array([3., 0., 2., 1.])"
      ]
     },
     "execution_count": 560,
     "metadata": {},
     "output_type": "execute_result"
    }
   ],
   "source": [
    "cluster_codes = returns_merged[['cluster']].drop_duplicates()\n",
    "cluster_codes = cluster_codes['cluster'].values\n",
    "cluster_codes"
   ]
  },
  {
   "cell_type": "code",
   "execution_count": 561,
   "metadata": {},
   "outputs": [],
   "source": [
    "# Analysis of selected funds\n",
    "returns_clus = returns_merged.groupby(['cluster','caldt'])['mret'].agg(['mean','count','std'])\n",
    "returns_clus['cumret'] = returns_clus.groupby('cluster')[['mean']].apply(cumreturn)"
   ]
  },
  {
   "cell_type": "markdown",
   "metadata": {},
   "source": [
    "#### Pivot to make multiple columns, one for each obj_cd"
   ]
  },
  {
   "cell_type": "code",
   "execution_count": 562,
   "metadata": {},
   "outputs": [],
   "source": [
    "returns_clus = returns_clus.pivot_table(\n",
    "        values='cumret', \n",
    "        index=['caldt'], \n",
    "        columns='cluster')"
   ]
  },
  {
   "cell_type": "markdown",
   "metadata": {},
   "source": [
    "returns_clus.plot(\n",
    "              kind='line',\n",
    "              use_index=True,\n",
    "              figsize=(16,8),\n",
    "              title='Mean cumreturn per Group',\n",
    "              legend='best')"
   ]
  },
  {
   "cell_type": "markdown",
   "metadata": {},
   "source": [
    "## Analysing clusters"
   ]
  },
  {
   "cell_type": "code",
   "execution_count": 567,
   "metadata": {},
   "outputs": [
    {
     "ename": "AttributeError",
     "evalue": "'SpectralClustering' object has no attribute 'cluster_centers_'",
     "output_type": "error",
     "traceback": [
      "\u001b[0;31m---------------------------------------------------------------------------\u001b[0m",
      "\u001b[0;31mAttributeError\u001b[0m                            Traceback (most recent call last)",
      "\u001b[0;32m<ipython-input-567-66e3ee86f58b>\u001b[0m in \u001b[0;36m<module>\u001b[0;34m\u001b[0m\n\u001b[0;32m----> 1\u001b[0;31m \u001b[0mplt\u001b[0m\u001b[0;34m.\u001b[0m\u001b[0mplot\u001b[0m\u001b[0;34m(\u001b[0m\u001b[0mclustering\u001b[0m\u001b[0;34m.\u001b[0m\u001b[0mcluster_centers_\u001b[0m\u001b[0;34m[\u001b[0m\u001b[0;36m0\u001b[0m\u001b[0;34m,\u001b[0m\u001b[0;34m:\u001b[0m\u001b[0;34m]\u001b[0m\u001b[0;34m)\u001b[0m\u001b[0;34m\u001b[0m\u001b[0;34m\u001b[0m\u001b[0m\n\u001b[0m",
      "\u001b[0;31mAttributeError\u001b[0m: 'SpectralClustering' object has no attribute 'cluster_centers_'"
     ]
    }
   ],
   "source": [
    "plt.plot(clustering.cluster_centers_[0,:])"
   ]
  },
  {
   "cell_type": "code",
   "execution_count": 248,
   "metadata": {
    "scrolled": true
   },
   "outputs": [
    {
     "data": {
      "text/plain": [
       "[<matplotlib.lines.Line2D at 0x151083048>]"
      ]
     },
     "execution_count": 248,
     "metadata": {},
     "output_type": "execute_result"
    },
    {
     "data": {
      "image/png": "[encoded data removed]",
      "text/plain": [
       "<Figure size 432x288 with 1 Axes>"
      ]
     },
     "metadata": {
      "needs_background": "light"
     },
     "output_type": "display_data"
    }
   ],
   "source": [
    "plt.plot(kmeans.cluster_centers_[1,:])"
   ]
  },
  {
   "cell_type": "code",
   "execution_count": 249,
   "metadata": {},
   "outputs": [
    {
     "data": {
      "text/plain": [
       "[<matplotlib.lines.Line2D at 0x151094898>]"
      ]
     },
     "execution_count": 249,
     "metadata": {},
     "output_type": "execute_result"
    },
    {
     "data": {
      "image/png": "[encoded data removed]",
      "text/plain": [
       "<Figure size 432x288 with 1 Axes>"
      ]
     },
     "metadata": {
      "needs_background": "light"
     },
     "output_type": "display_data"
    }
   ],
   "source": [
    "plt.plot(kmeans.cluster_centers_[2,:])"
   ]
  },
  {
   "cell_type": "markdown",
   "metadata": {},
   "source": [
    "## PCA"
   ]
  },
  {
   "cell_type": "code",
   "execution_count": null,
   "metadata": {},
   "outputs": [],
   "source": [
    "pca = PCA(n_components=10)\n",
    "pca.fit(holdings.toarray())  \n",
    "\n",
    "print(pca.explained_variance_ratio_)  \n",
    "\n",
    "print(pca.singular_values_)  "
   ]
  },
  {
   "cell_type": "code",
   "execution_count": null,
   "metadata": {},
   "outputs": [],
   "source": [
    "df = pd.DataFrame(pca.components_).T\n",
    "df = pd.DataFrame({\n",
    "    'pca_1' : df.iloc[:,0],\n",
    "    'pca_2' : df.iloc[:,1],\n",
    "    'labels' : labels.iloc[:,0]\n",
    "})"
   ]
  },
  {
   "cell_type": "code",
   "execution_count": null,
   "metadata": {},
   "outputs": [],
   "source": [
    "df.plot.scatter(x='pca_1',\n",
    "                y='pca_2',\n",
    "                c='labels',\n",
    "                colormap='viridis')"
   ]
  },
  {
   "cell_type": "markdown",
   "metadata": {},
   "source": [
    "# Visualize"
   ]
  },
  {
   "cell_type": "code",
   "execution_count": null,
   "metadata": {},
   "outputs": [],
   "source": [
    "MiniBatchKMeans?"
   ]
  },
  {
   "cell_type": "code",
   "execution_count": 250,
   "metadata": {
    "scrolled": false
   },
   "outputs": [
    {
     "name": "stdout",
     "output_type": "stream",
     "text": [
      "For n_clusters = 2 The average silhouette_score is : 0.6655655253020518\n",
      "For n_clusters = 3 The average silhouette_score is : -0.11048678935719358\n",
      "For n_clusters = 4 The average silhouette_score is : -0.11397895334543343\n",
      "For n_clusters = 5 The average silhouette_score is : -0.1770654711818058\n"
     ]
    },
    {
     "data": {
      "image/png": "[encoded data removed]",
      "text/plain": [
       "<Figure size 1296x504 with 1 Axes>"
      ]
     },
     "metadata": {
      "needs_background": "light"
     },
     "output_type": "display_data"
    },
    {
     "data": {
      "image/png": "[encoded data removed]",
      "text/plain": [
       "<Figure size 1296x504 with 1 Axes>"
      ]
     },
     "metadata": {
      "needs_background": "light"
     },
     "output_type": "display_data"
    },
    {
     "data": {
      "image/png": "[encoded data removed]",
      "text/plain": [
       "<Figure size 1296x504 with 1 Axes>"
      ]
     },
     "metadata": {
      "needs_background": "light"
     },
     "output_type": "display_data"
    },
    {
     "data": {
      "image/png": "[encoded data removed]",
      "text/plain": [
       "<Figure size 1296x504 with 1 Axes>"
      ]
     },
     "metadata": {
      "needs_background": "light"
     },
     "output_type": "display_data"
    }
   ],
   "source": [
    "### Based on example code from sklearn ###\n",
    "\n",
    "X = holdings\n",
    "n_clusters = [2,3,4,5]\n",
    "\n",
    "clusters = []\n",
    "results = []\n",
    "\n",
    "for n_clusters in n_clusters:\n",
    "    clusterer = MiniBatchKMeans(\n",
    "                    n_clusters=n_clusters,\n",
    "                    verbose = False,\n",
    "                    n_init = 1000)\n",
    "    \n",
    "    \n",
    "    cluster_fit = clusterer.fit(holdings)\n",
    "    clusters.append(n_clusters)\n",
    "    results.append(cluster_fit.inertia_)    \n",
    "    \n",
    "    cluster_labels = cluster_fit.labels_\n",
    "    \n",
    "    # Create a subplot with 1 row and 2 columns\n",
    "    fig, ax1 = plt.subplots()\n",
    "    fig.set_size_inches(18, 7)\n",
    "\n",
    "    # The 1st subplot is the silhouette plot\n",
    "    # The silhouette coefficient can range from -1, 1 but in this example all\n",
    "    # lie within [-0.1, 1]\n",
    "    ax1.set_xlim([-1, 1])\n",
    "    # The (n_clusters+1)*10 is for inserting blank space between silhouette\n",
    "    # plots of individual clusters, to demarcate them clearly.\n",
    "    ax1.set_ylim([0, X.shape[0] + (n_clusters + 1) * 10])\n",
    "    \n",
    "    # The silhouette_score gives the average value for all the samples.\n",
    "    # This gives a perspective into the density and separation of the formed\n",
    "    # clusters\n",
    "    silhouette_avg = silhouette_score(X, cluster_labels)\n",
    "    print(\"For n_clusters =\", n_clusters,\n",
    "          \"The average silhouette_score is :\", silhouette_avg)\n",
    "\n",
    "    # Compute the silhouette scores for each sample\n",
    "\n",
    "    # TODO can pool.map be implemented here?\n",
    "    sample_silhouette_values = silhouette_samples(X, cluster_labels)\n",
    "\n",
    "    y_lower = 10\n",
    "    for i in range(n_clusters):\n",
    "        # Aggregate the silhouette scores for samples belonging to\n",
    "        # cluster i, and sort them\n",
    "        ith_cluster_silhouette_values = \\\n",
    "            sample_silhouette_values[cluster_labels == i]\n",
    "\n",
    "        ith_cluster_silhouette_values.sort()\n",
    "\n",
    "        size_cluster_i = ith_cluster_silhouette_values.shape[0]\n",
    "        y_upper = y_lower + size_cluster_i\n",
    "\n",
    "        color = cm.nipy_spectral(float(i) / n_clusters)\n",
    "        ax1.fill_betweenx(np.arange(y_lower, y_upper),\n",
    "                          0, ith_cluster_silhouette_values,\n",
    "                          facecolor=color, edgecolor=color, alpha=0.7)\n",
    "\n",
    "        # Label the silhouette plots with their cluster numbers at the middle\n",
    "        ax1.text(-0.05, y_lower + 0.5 * size_cluster_i, str(i))\n",
    "\n",
    "        # Compute the new y_lower for next plot\n",
    "        y_lower = y_upper + 10  # 10 for the 0 samples\n",
    "\n",
    "    ax1.set_title(\"The silhouette plot for the various clusters.\")\n",
    "    ax1.set_xlabel(\"The silhouette coefficient values\")\n",
    "    ax1.set_ylabel(\"Cluster label\")\n",
    "\n",
    "    # The vertical line for average silhouette score of all the values\n",
    "    ax1.axvline(x=silhouette_avg, color=\"red\", linestyle=\"--\")\n",
    "\n",
    "    ax1.set_yticks([])  # Clear the yaxis labels / ticks\n",
    "    ax1.set_xticks([-0.1, 0, 0.2, 0.4, 0.6, 0.8, 1])\n",
    "\n",
    "    plt.suptitle((\"Silhouette analysis for KMeans clustering on sample data \"\n",
    "                  \"with n_clusters = %d\" % n_clusters),\n",
    "                 fontsize=14, fontweight='bold')\n",
    "\n",
    "plt.show()"
   ]
  },
  {
   "cell_type": "code",
   "execution_count": null,
   "metadata": {},
   "outputs": [],
   "source": []
  }
 ],
 "metadata": {
  "kernelspec": {
   "display_name": "Python 3",
   "language": "python",
   "name": "python3"
  },
  "language_info": {
   "codemirror_mode": {
    "name": "ipython",
    "version": 3
   },
   "file_extension": ".py",
   "mimetype": "text/x-python",
   "name": "python",
   "nbconvert_exporter": "python",
   "pygments_lexer": "ipython3",
   "version": "3.7.4"
  }
 },
 "nbformat": 4,
 "nbformat_minor": 2
}
