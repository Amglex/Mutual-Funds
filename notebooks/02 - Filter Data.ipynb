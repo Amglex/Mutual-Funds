{
 "cells": [
  {
   "cell_type": "markdown",
   "metadata": {},
   "source": [
    "## Description"
   ]
  },
  {
   "cell_type": "markdown",
   "metadata": {},
   "source": [
    "Description:\n",
    "\n",
    "Filter the three main data sources (Fund Info, Returns and Holdings)\n",
    "based on some parameters and save the result.\n",
    "\n",
    "Approach:\n",
    "1. Match fund summary to each portfolio/date pair\n",
    "2. Filter fund/date pairs based on those infos\n",
    "3. Filter returns based on final sample of holdings\n",
    "\n",
    "Parameters: \n",
    "- Obj_codes\n",
    "- Percentage\n",
    "- Flags"
   ]
  },
  {
   "cell_type": "code",
   "execution_count": 1,
   "metadata": {},
   "outputs": [],
   "source": [
    "%matplotlib inline\n",
    "\n",
    "import os\n",
    "import sys\n",
    "\n",
    "# add the 'src' directory as one where we can import modules\n",
    "src_dir = os.path.join(os.getcwd(), os.pardir, 'src')\n",
    "sys.path.append(src_dir)\n",
    "from data.basic_functions import * \n",
    "\n",
    "import numpy as np\n",
    "import pandas as pd\n",
    "\n",
    "from scipy import sparse\n",
    "\n",
    "import matplotlib.pyplot as plt\n",
    "\n",
    "import datetime\n",
    "\n",
    "# For multiprocessing\n",
    "import multiprocessing\n",
    "from itertools import product"
   ]
  },
  {
   "cell_type": "markdown",
   "metadata": {},
   "source": [
    "### Load the data files"
   ]
  },
  {
   "cell_type": "code",
   "execution_count": 237,
   "metadata": {},
   "outputs": [
    {
     "data": {
      "text/plain": [
       "(167352, 6)"
      ]
     },
     "execution_count": 237,
     "metadata": {},
     "output_type": "execute_result"
    }
   ],
   "source": [
    "data_path = '../data/raw/'\n",
    "\n",
    "returns = load_data(data_path,'monthly_returns') \n",
    "summary = load_data(data_path,'total_summary_new') # Wo kommt das her ???\n",
    "summary.shape"
   ]
  },
  {
   "cell_type": "code",
   "execution_count": 238,
   "metadata": {},
   "outputs": [
    {
     "data": {
      "text/html": [
       "<div>\n",
       "<style scoped>\n",
       "    .dataframe tbody tr th:only-of-type {\n",
       "        vertical-align: middle;\n",
       "    }\n",
       "\n",
       "    .dataframe tbody tr th {\n",
       "        vertical-align: top;\n",
       "    }\n",
       "\n",
       "    .dataframe thead th {\n",
       "        text-align: right;\n",
       "    }\n",
       "</style>\n",
       "<table border=\"1\" class=\"dataframe\">\n",
       "  <thead>\n",
       "    <tr style=\"text-align: right;\">\n",
       "      <th></th>\n",
       "      <th>crsp_fundno</th>\n",
       "      <th>si_obj_cd</th>\n",
       "      <th>wbrger_obj_cd</th>\n",
       "      <th>policy</th>\n",
       "      <th>lipper_class</th>\n",
       "      <th>avrcs</th>\n",
       "    </tr>\n",
       "  </thead>\n",
       "  <tbody>\n",
       "    <tr>\n",
       "      <th>43375</th>\n",
       "      <td>12900.0</td>\n",
       "      <td>None</td>\n",
       "      <td>None</td>\n",
       "      <td>None</td>\n",
       "      <td>LCCE</td>\n",
       "      <td>93.429846</td>\n",
       "    </tr>\n",
       "  </tbody>\n",
       "</table>\n",
       "</div>"
      ],
      "text/plain": [
       "       crsp_fundno si_obj_cd wbrger_obj_cd policy lipper_class      avrcs\n",
       "43375      12900.0      None          None   None         LCCE  93.429846"
      ]
     },
     "execution_count": 238,
     "metadata": {},
     "output_type": "execute_result"
    }
   ],
   "source": [
    "summary.sample()"
   ]
  },
  {
   "cell_type": "code",
   "execution_count": null,
   "metadata": {},
   "outputs": [],
   "source": [
    "summary[]"
   ]
  },
  {
   "cell_type": "code",
   "execution_count": 3,
   "metadata": {},
   "outputs": [
    {
     "data": {
      "text/plain": [
       "(733743, 2382968)"
      ]
     },
     "execution_count": 3,
     "metadata": {},
     "output_type": "execute_result"
    }
   ],
   "source": [
    "npz_path = '../data/interim/sparse_matrix_t.npz'\n",
    "holdings = sparse.load_npz(npz_path)\n",
    "holdings.shape"
   ]
  },
  {
   "cell_type": "code",
   "execution_count": 4,
   "metadata": {
    "scrolled": true
   },
   "outputs": [
    {
     "data": {
      "text/plain": [
       "(733743, 2)"
      ]
     },
     "execution_count": 4,
     "metadata": {},
     "output_type": "execute_result"
    }
   ],
   "source": [
    "data_path = '../data/interim/'\n",
    "holdings_summary = load_data(data_path,'sparse_info_t')\n",
    "holdings_summary.shape"
   ]
  },
  {
   "cell_type": "code",
   "execution_count": 5,
   "metadata": {
    "scrolled": true
   },
   "outputs": [],
   "source": [
    "path = '../data/raw/portno_map.feather'\n",
    "portno_map = feather.read_dataframe(path)"
   ]
  },
  {
   "cell_type": "markdown",
   "metadata": {},
   "source": [
    "## Filter Summary Table based on WRDS methodology"
   ]
  },
  {
   "cell_type": "code",
   "execution_count": null,
   "metadata": {},
   "outputs": [],
   "source": []
  },
  {
   "cell_type": "markdown",
   "metadata": {},
   "source": [
    "## Drop duplicates in summary data\n",
    "\n",
    "To increase speed of matching obj_codes and other fund info to portfolios"
   ]
  },
  {
   "cell_type": "code",
   "execution_count": 14,
   "metadata": {},
   "outputs": [
    {
     "name": "stdout",
     "output_type": "stream",
     "text": [
      "Shape of summary before cleaning is: 132,023 / 8\n"
     ]
    }
   ],
   "source": [
    "print('Shape of summary before cleaning is: {:,} / {:,}'.format(summary.shape[0],summary.shape[1]))"
   ]
  },
  {
   "cell_type": "code",
   "execution_count": 15,
   "metadata": {},
   "outputs": [],
   "source": [
    "# Delet not nas\n",
    "summary_clean = summary[summary['crsp_portno'].notna()]\n",
    "\n",
    "# Drop duplicates based on all but two columns\n",
    "summary_clean = summary_clean.drop_duplicates(summary_clean.columns.difference(['crsp_fundno','fund_name']))\n",
    "\n",
    "summary_clean.loc[:,'crsp_fundno'] = pd.to_numeric(summary_clean.loc[:,'crsp_fundno'], downcast='integer')\n",
    "summary_clean.loc[:,'crsp_portno'] = pd.to_numeric(summary_clean.loc[:,'crsp_portno'], downcast='integer')"
   ]
  },
  {
   "cell_type": "code",
   "execution_count": 16,
   "metadata": {},
   "outputs": [
    {
     "name": "stdout",
     "output_type": "stream",
     "text": [
      "Shape of summary data after cleaning: 81,176 / 8\n"
     ]
    }
   ],
   "source": [
    "print('Shape of summary data after cleaning: {:,} / {:,}'.format(summary_clean.shape[0],summary_clean.shape[1]))"
   ]
  },
  {
   "cell_type": "markdown",
   "metadata": {},
   "source": [
    "# Match obj code to portfolios\n",
    "\n",
    "TODO: \n",
    "\n",
    "Fund info flags like the index_fund_flag could in theory also be different in the fund_history\n",
    "\n",
    "Therefore a similar approach should also be used for those items\n",
    "\n",
    "In general portno fundno map also beginning and end times"
   ]
  },
  {
   "cell_type": "code",
   "execution_count": 22,
   "metadata": {},
   "outputs": [],
   "source": [
    "def port_ID_to_port_info(fund_info):  \n",
    "            \"\"\"\n",
    "            Used to merge the right obj_code and other fund info \n",
    "            to each holdings_info row and therefore to each row of the sparse holdings matrix\n",
    "            \n",
    "            Input:\n",
    "            - fund_info: Tuple consisting of the port_no (1st element) and the report_dt (2nd)\n",
    "            \n",
    "            Output:\n",
    "            - Tuple of port_no, report_dt, index_fund_flag, et_flag and crsp_obj_cd. \n",
    "                NaN if value is not available\n",
    "            \n",
    "            Attention:\n",
    "            Depends on global variable 'summary' to look up the values\n",
    "            Must be renamed or changed in the function\n",
    "            \"\"\"\n",
    "            port_no = fund_info[0]\n",
    "            report_dt = fund_info[1].date() # Implement in large csv file\n",
    "            mask = summary['crsp_portno'].values == port_no\n",
    "            my_class = summary.loc[mask]\n",
    "\n",
    "            my_class_n = my_class.loc[\n",
    "                (my_class.begdt <= report_dt) & \n",
    "                (my_class.enddt >= report_dt)]\n",
    "            \n",
    "            try:\n",
    "                lipper_class = my_class_n['lipper_class'].values[0]\n",
    "                index_fund_flag = my_class_n['index_fund_flag'].values[0]\n",
    "                et_flag = my_class_n['et_flag'].values[0]\n",
    "\n",
    "            except:\n",
    "                lipper_class = np.nan\n",
    "                index_fund_flag = np.nan\n",
    "                et_flag = np.nan\n",
    "                \n",
    "            return(port_no, report_dt, index_fund_flag, et_flag, lipper_class)        "
   ]
  },
  {
   "cell_type": "markdown",
   "metadata": {},
   "source": [
    "### Multiprocessing"
   ]
  },
  {
   "cell_type": "code",
   "execution_count": 23,
   "metadata": {},
   "outputs": [],
   "source": [
    "a = holdings_summary['port_no']\n",
    "b = holdings_summary['date']\n",
    "\n",
    "fund_info = list(zip(a,b))"
   ]
  },
  {
   "cell_type": "code",
   "execution_count": 24,
   "metadata": {},
   "outputs": [
    {
     "data": {
      "text/plain": [
       "733743"
      ]
     },
     "execution_count": 24,
     "metadata": {},
     "output_type": "execute_result"
    }
   ],
   "source": [
    "len(fund_info)"
   ]
  },
  {
   "cell_type": "code",
   "execution_count": 25,
   "metadata": {},
   "outputs": [
    {
     "name": "stdout",
     "output_type": "stream",
     "text": [
      "CPU times: user 2.56 s, sys: 473 ms, total: 3.03 s\n",
      "Wall time: 5min 19s\n"
     ]
    }
   ],
   "source": [
    "%%time\n",
    "with multiprocessing.Pool(processes=6) as pool:\n",
    "    results = pool.map(port_ID_to_port_info, fund_info)"
   ]
  },
  {
   "cell_type": "code",
   "execution_count": 111,
   "metadata": {},
   "outputs": [],
   "source": [
    "labels = ['port_no','report_dt','index_fund_flag','et_flag','lipper_class']\n",
    "holdings_summary = pd.DataFrame.from_records(results, columns=labels)"
   ]
  },
  {
   "cell_type": "code",
   "execution_count": 112,
   "metadata": {
    "scrolled": true
   },
   "outputs": [
    {
     "name": "stdout",
     "output_type": "stream",
     "text": [
      "Out of the roughly 730k portfolios, for 129k there is no fund header info available\n",
      "(733743, 5)\n"
     ]
    },
    {
     "data": {
      "text/plain": [
       "(129400, 5)"
      ]
     },
     "execution_count": 112,
     "metadata": {},
     "output_type": "execute_result"
    }
   ],
   "source": [
    "print('Out of the roughly 730k portfolios, for 129k there is no fund header info available')\n",
    "print(holdings_summary.shape)\n",
    "holdings_summary[holdings_summary['lipper_class'].isna()].shape # -> For some portfolios there is simly no row in fund_header"
   ]
  },
  {
   "cell_type": "markdown",
   "metadata": {},
   "source": [
    "#### Save result to save time"
   ]
  },
  {
   "cell_type": "code",
   "execution_count": 49,
   "metadata": {},
   "outputs": [],
   "source": [
    "path = '../data/interim/holdings_summary_raw.feather'\n",
    "feather.write_dataframe(holdings_summary,path)"
   ]
  },
  {
   "cell_type": "code",
   "execution_count": 183,
   "metadata": {},
   "outputs": [],
   "source": [
    "path = '../data/interim/holdings_summary_raw.feather'\n",
    "holdings_summary = feather.read_dataframe(path)"
   ]
  },
  {
   "cell_type": "markdown",
   "metadata": {},
   "source": [
    "# Clean holdings_summary data\n",
    "\n",
    "Do not delet rows since they match to the sparse matrix\n",
    "\n",
    "TODO: Replace all falgs with proper categories"
   ]
  },
  {
   "cell_type": "code",
   "execution_count": 184,
   "metadata": {},
   "outputs": [
    {
     "data": {
      "text/plain": [
       "(733743, 6)"
      ]
     },
     "execution_count": 184,
     "metadata": {},
     "output_type": "execute_result"
    }
   ],
   "source": [
    "# Creat new flag var 'mutual_fund' that is Y for Mutual Funds and N for other funds\n",
    "# Based on variable et_flag and index_fund_flag\n",
    "\n",
    "# Make the two flags categories and rename those categories accordingly\n",
    "holdings_summary[['et_flag','index_fund_flag']] = holdings_summary[['et_flag','index_fund_flag']].astype('category')\n",
    "\n",
    "et_mapper = {'F':'ETF', 'N':'ETN', np.nan:'MF'}\n",
    "holdings_summary['et_flag'] = holdings_summary['et_flag'].map(et_mapper)\n",
    "\n",
    "index_flag_mapper = {'B':'Index-based', 'D':'Pure Index', 'E':'Index enhanced', np.nan:'MF'}\n",
    "holdings_summary['index_fund_flag'] = holdings_summary['index_fund_flag'].map(index_flag_mapper)\n",
    "\n",
    "holdings_summary.loc[(holdings_summary['index_fund_flag'] == 'MF') & \n",
    "                     (holdings_summary['et_flag'] == 'MF'),'mutual_fund'] = 'Y'\n",
    "holdings_summary.loc[holdings_summary['mutual_fund'].isna(),'mutual_fund'] = 'N'\n",
    "\n",
    "holdings_summary.shape"
   ]
  },
  {
   "cell_type": "markdown",
   "metadata": {},
   "source": [
    "# Choose which CRSP style codes to use"
   ]
  },
  {
   "cell_type": "code",
   "execution_count": 185,
   "metadata": {},
   "outputs": [],
   "source": [
    "# Creat new flag var 'sample' that is Y for those included and N for those not included\n",
    "# , 'EDCL', 'EDCM', 'EDCS', 'EDCI'\n",
    "# selected_obj_codes = ('EDYG','EDYB' ,'EDYH' ,'EDYS' ,'EDYI')\n",
    "\n",
    "selected_obj_codes = (#'EIEI', 'G', \n",
    "                      'LCCE', 'LCGE', 'LCVE',   # Large-cap\n",
    "                      'MCCE', 'MCGE', 'MCVE',   # Mid-cap\n",
    "#                      'MLCE', 'MLGE', 'MLVE',   # Multi-cap\n",
    "                      'SCCE', 'SCGE', 'SCVE')   # Small-cap"
   ]
  },
  {
   "cell_type": "code",
   "execution_count": 186,
   "metadata": {},
   "outputs": [],
   "source": [
    "# If fund is Mutual Fund and has the right style code -> Sample == 'Y'\n",
    "holdings_summary.loc[(holdings_summary['mutual_fund'] == 'Y') & \n",
    "                     (holdings_summary['lipper_class'].isin(selected_obj_codes)),'sample'] = 'Y'\n",
    "\n",
    "# Other wise sample == 'N'\n",
    "holdings_summary.loc[holdings_summary['sample'].isna(),'sample'] = 'N'\n",
    "\n",
    "# Make the two new variables categorical\n",
    "holdings_summary[['mutual_fund','sample']] = holdings_summary[['mutual_fund','sample']].astype('category')"
   ]
  },
  {
   "cell_type": "code",
   "execution_count": 187,
   "metadata": {},
   "outputs": [],
   "source": [
    "holdings_summary['cap_class'] = holdings_summary['lipper_class'].astype(str).str[0]\n",
    "holdings_summary['style_class'] = holdings_summary['lipper_class'].astype(str).str[2]"
   ]
  },
  {
   "cell_type": "code",
   "execution_count": 188,
   "metadata": {},
   "outputs": [
    {
     "data": {
      "text/html": [
       "<div>\n",
       "<style scoped>\n",
       "    .dataframe tbody tr th:only-of-type {\n",
       "        vertical-align: middle;\n",
       "    }\n",
       "\n",
       "    .dataframe tbody tr th {\n",
       "        vertical-align: top;\n",
       "    }\n",
       "\n",
       "    .dataframe thead th {\n",
       "        text-align: right;\n",
       "    }\n",
       "</style>\n",
       "<table border=\"1\" class=\"dataframe\">\n",
       "  <thead>\n",
       "    <tr style=\"text-align: right;\">\n",
       "      <th></th>\n",
       "      <th>port_no</th>\n",
       "      <th>report_dt</th>\n",
       "      <th>index_fund_flag</th>\n",
       "      <th>et_flag</th>\n",
       "      <th>lipper_class</th>\n",
       "      <th>mutual_fund</th>\n",
       "      <th>sample</th>\n",
       "      <th>cap_class</th>\n",
       "      <th>style_class</th>\n",
       "    </tr>\n",
       "  </thead>\n",
       "  <tbody>\n",
       "    <tr>\n",
       "      <th>619078</th>\n",
       "      <td>1030013</td>\n",
       "      <td>2010-07-31</td>\n",
       "      <td>MF</td>\n",
       "      <td>MF</td>\n",
       "      <td>IMD</td>\n",
       "      <td>Y</td>\n",
       "      <td>N</td>\n",
       "      <td>I</td>\n",
       "      <td>D</td>\n",
       "    </tr>\n",
       "    <tr>\n",
       "      <th>502966</th>\n",
       "      <td>1027564</td>\n",
       "      <td>2011-12-31</td>\n",
       "      <td>MF</td>\n",
       "      <td>MF</td>\n",
       "      <td>IMLC</td>\n",
       "      <td>Y</td>\n",
       "      <td>N</td>\n",
       "      <td>I</td>\n",
       "      <td>L</td>\n",
       "    </tr>\n",
       "    <tr>\n",
       "      <th>674115</th>\n",
       "      <td>1031739</td>\n",
       "      <td>2012-07-31</td>\n",
       "      <td>MF</td>\n",
       "      <td>MF</td>\n",
       "      <td>HY</td>\n",
       "      <td>Y</td>\n",
       "      <td>N</td>\n",
       "      <td>H</td>\n",
       "      <td>NaN</td>\n",
       "    </tr>\n",
       "    <tr>\n",
       "      <th>81647</th>\n",
       "      <td>1003306</td>\n",
       "      <td>2004-04-30</td>\n",
       "      <td>MF</td>\n",
       "      <td>MF</td>\n",
       "      <td>IF</td>\n",
       "      <td>Y</td>\n",
       "      <td>N</td>\n",
       "      <td>I</td>\n",
       "      <td>NaN</td>\n",
       "    </tr>\n",
       "    <tr>\n",
       "      <th>730666</th>\n",
       "      <td>1033931</td>\n",
       "      <td>2016-12-31</td>\n",
       "      <td>Pure Index</td>\n",
       "      <td>ETF</td>\n",
       "      <td>EU</td>\n",
       "      <td>N</td>\n",
       "      <td>N</td>\n",
       "      <td>E</td>\n",
       "      <td>NaN</td>\n",
       "    </tr>\n",
       "    <tr>\n",
       "      <th>450838</th>\n",
       "      <td>1026536</td>\n",
       "      <td>2013-01-31</td>\n",
       "      <td>MF</td>\n",
       "      <td>MF</td>\n",
       "      <td>BBB</td>\n",
       "      <td>Y</td>\n",
       "      <td>N</td>\n",
       "      <td>B</td>\n",
       "      <td>B</td>\n",
       "    </tr>\n",
       "    <tr>\n",
       "      <th>187035</th>\n",
       "      <td>1021516</td>\n",
       "      <td>2014-12-31</td>\n",
       "      <td>Index enhanced</td>\n",
       "      <td>ETF</td>\n",
       "      <td>DL</td>\n",
       "      <td>N</td>\n",
       "      <td>N</td>\n",
       "      <td>D</td>\n",
       "      <td>NaN</td>\n",
       "    </tr>\n",
       "    <tr>\n",
       "      <th>684754</th>\n",
       "      <td>1032041</td>\n",
       "      <td>2012-09-30</td>\n",
       "      <td>MF</td>\n",
       "      <td>MF</td>\n",
       "      <td>SCGE</td>\n",
       "      <td>Y</td>\n",
       "      <td>Y</td>\n",
       "      <td>S</td>\n",
       "      <td>G</td>\n",
       "    </tr>\n",
       "    <tr>\n",
       "      <th>148445</th>\n",
       "      <td>1019557</td>\n",
       "      <td>2010-05-31</td>\n",
       "      <td>MF</td>\n",
       "      <td>MF</td>\n",
       "      <td>None</td>\n",
       "      <td>Y</td>\n",
       "      <td>N</td>\n",
       "      <td>N</td>\n",
       "      <td>n</td>\n",
       "    </tr>\n",
       "    <tr>\n",
       "      <th>401764</th>\n",
       "      <td>1025616</td>\n",
       "      <td>2011-12-31</td>\n",
       "      <td>MF</td>\n",
       "      <td>MF</td>\n",
       "      <td>MCCE</td>\n",
       "      <td>Y</td>\n",
       "      <td>Y</td>\n",
       "      <td>M</td>\n",
       "      <td>C</td>\n",
       "    </tr>\n",
       "  </tbody>\n",
       "</table>\n",
       "</div>"
      ],
      "text/plain": [
       "        port_no   report_dt index_fund_flag et_flag lipper_class mutual_fund  \\\n",
       "619078  1030013  2010-07-31              MF      MF          IMD           Y   \n",
       "502966  1027564  2011-12-31              MF      MF         IMLC           Y   \n",
       "674115  1031739  2012-07-31              MF      MF           HY           Y   \n",
       "81647   1003306  2004-04-30              MF      MF           IF           Y   \n",
       "730666  1033931  2016-12-31      Pure Index     ETF           EU           N   \n",
       "450838  1026536  2013-01-31              MF      MF          BBB           Y   \n",
       "187035  1021516  2014-12-31  Index enhanced     ETF           DL           N   \n",
       "684754  1032041  2012-09-30              MF      MF         SCGE           Y   \n",
       "148445  1019557  2010-05-31              MF      MF         None           Y   \n",
       "401764  1025616  2011-12-31              MF      MF         MCCE           Y   \n",
       "\n",
       "       sample cap_class style_class  \n",
       "619078      N         I           D  \n",
       "502966      N         I           L  \n",
       "674115      N         H         NaN  \n",
       "81647       N         I         NaN  \n",
       "730666      N         E         NaN  \n",
       "450838      N         B           B  \n",
       "187035      N         D         NaN  \n",
       "684754      Y         S           G  \n",
       "148445      N         N           n  \n",
       "401764      Y         M           C  "
      ]
     },
     "execution_count": 188,
     "metadata": {},
     "output_type": "execute_result"
    }
   ],
   "source": [
    "holdings_summary.sample(10)"
   ]
  },
  {
   "cell_type": "markdown",
   "metadata": {},
   "source": [
    "### Results"
   ]
  },
  {
   "cell_type": "code",
   "execution_count": 189,
   "metadata": {},
   "outputs": [
    {
     "name": "stdout",
     "output_type": "stream",
     "text": [
      "How are the two variable on which MF assignemnt is based on distributed:\n"
     ]
    },
    {
     "data": {
      "text/html": [
       "<div>\n",
       "<style scoped>\n",
       "    .dataframe tbody tr th:only-of-type {\n",
       "        vertical-align: middle;\n",
       "    }\n",
       "\n",
       "    .dataframe tbody tr th {\n",
       "        vertical-align: top;\n",
       "    }\n",
       "\n",
       "    .dataframe thead th {\n",
       "        text-align: right;\n",
       "    }\n",
       "</style>\n",
       "<table border=\"1\" class=\"dataframe\">\n",
       "  <thead>\n",
       "    <tr style=\"text-align: right;\">\n",
       "      <th>index_fund_flag</th>\n",
       "      <th>Index enhanced</th>\n",
       "      <th>Index-based</th>\n",
       "      <th>MF</th>\n",
       "      <th>Pure Index</th>\n",
       "    </tr>\n",
       "    <tr>\n",
       "      <th>et_flag</th>\n",
       "      <th></th>\n",
       "      <th></th>\n",
       "      <th></th>\n",
       "      <th></th>\n",
       "    </tr>\n",
       "  </thead>\n",
       "  <tbody>\n",
       "    <tr>\n",
       "      <th>ETF</th>\n",
       "      <td>5772</td>\n",
       "      <td>10516</td>\n",
       "      <td>4065</td>\n",
       "      <td>77234</td>\n",
       "    </tr>\n",
       "    <tr>\n",
       "      <th>MF</th>\n",
       "      <td>5143</td>\n",
       "      <td>10401</td>\n",
       "      <td>599415</td>\n",
       "      <td>21197</td>\n",
       "    </tr>\n",
       "  </tbody>\n",
       "</table>\n",
       "</div>"
      ],
      "text/plain": [
       "index_fund_flag  Index enhanced  Index-based      MF  Pure Index\n",
       "et_flag                                                         \n",
       "ETF                        5772        10516    4065       77234\n",
       "MF                         5143        10401  599415       21197"
      ]
     },
     "execution_count": 189,
     "metadata": {},
     "output_type": "execute_result"
    }
   ],
   "source": [
    "print('How are the two variable on which MF assignemnt is based on distributed:')\n",
    "pd.crosstab(holdings_summary['et_flag'],holdings_summary['index_fund_flag'])"
   ]
  },
  {
   "cell_type": "code",
   "execution_count": 190,
   "metadata": {},
   "outputs": [
    {
     "name": "stdout",
     "output_type": "stream",
     "text": [
      "How many funds are considered in the sample?\n",
      "N    620812\n",
      "Y    112931\n",
      "Name: sample, dtype: int64\n",
      "How are the selected styles distributed?\n"
     ]
    },
    {
     "data": {
      "text/html": [
       "<div>\n",
       "<style scoped>\n",
       "    .dataframe tbody tr th:only-of-type {\n",
       "        vertical-align: middle;\n",
       "    }\n",
       "\n",
       "    .dataframe tbody tr th {\n",
       "        vertical-align: top;\n",
       "    }\n",
       "\n",
       "    .dataframe thead th {\n",
       "        text-align: right;\n",
       "    }\n",
       "</style>\n",
       "<table border=\"1\" class=\"dataframe\">\n",
       "  <thead>\n",
       "    <tr style=\"text-align: right;\">\n",
       "      <th>sample</th>\n",
       "      <th>N</th>\n",
       "      <th>Y</th>\n",
       "    </tr>\n",
       "    <tr>\n",
       "      <th>lipper_class</th>\n",
       "      <th></th>\n",
       "      <th></th>\n",
       "    </tr>\n",
       "  </thead>\n",
       "  <tbody>\n",
       "    <tr>\n",
       "      <th>MCVE</th>\n",
       "      <td>821</td>\n",
       "      <td>4468</td>\n",
       "    </tr>\n",
       "    <tr>\n",
       "      <th>SCVE</th>\n",
       "      <td>1912</td>\n",
       "      <td>6774</td>\n",
       "    </tr>\n",
       "    <tr>\n",
       "      <th>MCCE</th>\n",
       "      <td>3763</td>\n",
       "      <td>7870</td>\n",
       "    </tr>\n",
       "    <tr>\n",
       "      <th>MCGE</th>\n",
       "      <td>1177</td>\n",
       "      <td>10628</td>\n",
       "    </tr>\n",
       "    <tr>\n",
       "      <th>LCVE</th>\n",
       "      <td>1991</td>\n",
       "      <td>11489</td>\n",
       "    </tr>\n",
       "    <tr>\n",
       "      <th>SCGE</th>\n",
       "      <td>1385</td>\n",
       "      <td>13316</td>\n",
       "    </tr>\n",
       "    <tr>\n",
       "      <th>SCCE</th>\n",
       "      <td>5112</td>\n",
       "      <td>15875</td>\n",
       "    </tr>\n",
       "    <tr>\n",
       "      <th>LCGE</th>\n",
       "      <td>2877</td>\n",
       "      <td>19663</td>\n",
       "    </tr>\n",
       "    <tr>\n",
       "      <th>LCCE</th>\n",
       "      <td>4373</td>\n",
       "      <td>22848</td>\n",
       "    </tr>\n",
       "  </tbody>\n",
       "</table>\n",
       "</div>"
      ],
      "text/plain": [
       "sample           N      Y\n",
       "lipper_class             \n",
       "MCVE           821   4468\n",
       "SCVE          1912   6774\n",
       "MCCE          3763   7870\n",
       "MCGE          1177  10628\n",
       "LCVE          1991  11489\n",
       "SCGE          1385  13316\n",
       "SCCE          5112  15875\n",
       "LCGE          2877  19663\n",
       "LCCE          4373  22848"
      ]
     },
     "execution_count": 190,
     "metadata": {},
     "output_type": "execute_result"
    }
   ],
   "source": [
    "print('How many funds are considered in the sample?')\n",
    "print(holdings_summary['sample'].value_counts())\n",
    "\n",
    "print('How are the selected styles distributed?')\n",
    "pd.crosstab(holdings_summary['lipper_class'],holdings_summary['sample']).sort_values('Y')[-len(selected_obj_codes):]"
   ]
  },
  {
   "cell_type": "code",
   "execution_count": 240,
   "metadata": {},
   "outputs": [
    {
     "data": {
      "text/html": [
       "<div>\n",
       "<style scoped>\n",
       "    .dataframe tbody tr th:only-of-type {\n",
       "        vertical-align: middle;\n",
       "    }\n",
       "\n",
       "    .dataframe tbody tr th {\n",
       "        vertical-align: top;\n",
       "    }\n",
       "\n",
       "    .dataframe thead th {\n",
       "        text-align: right;\n",
       "    }\n",
       "</style>\n",
       "<table border=\"1\" class=\"dataframe\">\n",
       "  <thead>\n",
       "    <tr style=\"text-align: right;\">\n",
       "      <th></th>\n",
       "      <th>port_no</th>\n",
       "      <th>report_dt</th>\n",
       "      <th>index_fund_flag</th>\n",
       "      <th>et_flag</th>\n",
       "      <th>lipper_class</th>\n",
       "      <th>mutual_fund</th>\n",
       "      <th>sample</th>\n",
       "      <th>cap_class</th>\n",
       "      <th>style_class</th>\n",
       "      <th>crsp_portno</th>\n",
       "      <th>fund_no</th>\n",
       "    </tr>\n",
       "  </thead>\n",
       "  <tbody>\n",
       "    <tr>\n",
       "      <th>0</th>\n",
       "      <td>1000001</td>\n",
       "      <td>2003-03-31</td>\n",
       "      <td>MF</td>\n",
       "      <td>MF</td>\n",
       "      <td>None</td>\n",
       "      <td>Y</td>\n",
       "      <td>N</td>\n",
       "      <td>N</td>\n",
       "      <td>n</td>\n",
       "      <td>1000001.0</td>\n",
       "      <td>4273.0</td>\n",
       "    </tr>\n",
       "  </tbody>\n",
       "</table>\n",
       "</div>"
      ],
      "text/plain": [
       "   port_no   report_dt index_fund_flag et_flag lipper_class mutual_fund  \\\n",
       "0  1000001  2003-03-31              MF      MF         None           Y   \n",
       "\n",
       "  sample cap_class style_class  crsp_portno  fund_no  \n",
       "0      N         N           n    1000001.0   4273.0  "
      ]
     },
     "execution_count": 240,
     "metadata": {},
     "output_type": "execute_result"
    }
   ],
   "source": [
    "holdings_summary.head(1)"
   ]
  },
  {
   "cell_type": "code",
   "execution_count": 250,
   "metadata": {},
   "outputs": [
    {
     "data": {
      "text/plain": [
       "MF     123609\n",
       "ETF     12733\n",
       "Name: et_flag, dtype: int64"
      ]
     },
     "execution_count": 250,
     "metadata": {},
     "output_type": "execute_result"
    }
   ],
   "source": [
    "test_summary = holdings_summary[holdings_summary['lipper_class'].isin(selected_obj_codes)]\n",
    "test_summary['et_flag'].value_counts()"
   ]
  },
  {
   "cell_type": "markdown",
   "metadata": {},
   "source": [
    "# Save holdings_summary"
   ]
  },
  {
   "cell_type": "code",
   "execution_count": 191,
   "metadata": {},
   "outputs": [],
   "source": [
    "path = '../data/interim/holdings_summary_total.feather'\n",
    "feather.write_dataframe(holdings_summary,path)"
   ]
  },
  {
   "cell_type": "code",
   "execution_count": 192,
   "metadata": {},
   "outputs": [],
   "source": [
    "path = '../data/interim/holdings_summary_total.feather'\n",
    "holdings_summary = feather.read_dataframe(path)"
   ]
  },
  {
   "cell_type": "markdown",
   "metadata": {},
   "source": [
    "### Add fund_no to holdings_summary"
   ]
  },
  {
   "cell_type": "markdown",
   "metadata": {},
   "source": [
    "#### Fundo is not an integer for now but not that important -> TODO"
   ]
  },
  {
   "cell_type": "code",
   "execution_count": 193,
   "metadata": {},
   "outputs": [],
   "source": [
    "portno_map_unique = portno_map.drop_duplicates(subset='crsp_portno')"
   ]
  },
  {
   "cell_type": "markdown",
   "metadata": {},
   "source": [
    "#### Maybe must be modified since all but one associated fund_nos per portfolio are deleted "
   ]
  },
  {
   "cell_type": "code",
   "execution_count": 194,
   "metadata": {},
   "outputs": [],
   "source": [
    "holdings_summary = holdings_summary.merge(portno_map_unique[['crsp_portno','crsp_fundno']],how='left', left_on = 'port_no', right_on='crsp_portno')"
   ]
  },
  {
   "cell_type": "code",
   "execution_count": 195,
   "metadata": {},
   "outputs": [
    {
     "data": {
      "text/plain": [
       "(733743, 11)"
      ]
     },
     "execution_count": 195,
     "metadata": {},
     "output_type": "execute_result"
    }
   ],
   "source": [
    "holdings_summary.shape"
   ]
  },
  {
   "cell_type": "code",
   "execution_count": 196,
   "metadata": {},
   "outputs": [],
   "source": [
    "mask = holdings_summary['crsp_fundno'].notna()\n",
    "holdings_summary['crsp_fundno'] = holdings_summary.loc[mask,'crsp_fundno'].astype(int)"
   ]
  },
  {
   "cell_type": "code",
   "execution_count": 197,
   "metadata": {},
   "outputs": [
    {
     "data": {
      "text/html": [
       "<div>\n",
       "<style scoped>\n",
       "    .dataframe tbody tr th:only-of-type {\n",
       "        vertical-align: middle;\n",
       "    }\n",
       "\n",
       "    .dataframe tbody tr th {\n",
       "        vertical-align: top;\n",
       "    }\n",
       "\n",
       "    .dataframe thead th {\n",
       "        text-align: right;\n",
       "    }\n",
       "</style>\n",
       "<table border=\"1\" class=\"dataframe\">\n",
       "  <thead>\n",
       "    <tr style=\"text-align: right;\">\n",
       "      <th></th>\n",
       "      <th>port_no</th>\n",
       "      <th>report_dt</th>\n",
       "      <th>index_fund_flag</th>\n",
       "      <th>et_flag</th>\n",
       "      <th>lipper_class</th>\n",
       "      <th>mutual_fund</th>\n",
       "      <th>sample</th>\n",
       "      <th>cap_class</th>\n",
       "      <th>style_class</th>\n",
       "      <th>crsp_portno</th>\n",
       "      <th>crsp_fundno</th>\n",
       "    </tr>\n",
       "  </thead>\n",
       "  <tbody>\n",
       "    <tr>\n",
       "      <th>0</th>\n",
       "      <td>1000001</td>\n",
       "      <td>2003-03-31</td>\n",
       "      <td>MF</td>\n",
       "      <td>MF</td>\n",
       "      <td>None</td>\n",
       "      <td>Y</td>\n",
       "      <td>N</td>\n",
       "      <td>N</td>\n",
       "      <td>n</td>\n",
       "      <td>1000001.0</td>\n",
       "      <td>4273.0</td>\n",
       "    </tr>\n",
       "    <tr>\n",
       "      <th>1</th>\n",
       "      <td>1000001</td>\n",
       "      <td>2003-06-30</td>\n",
       "      <td>MF</td>\n",
       "      <td>MF</td>\n",
       "      <td>None</td>\n",
       "      <td>Y</td>\n",
       "      <td>N</td>\n",
       "      <td>N</td>\n",
       "      <td>n</td>\n",
       "      <td>1000001.0</td>\n",
       "      <td>4273.0</td>\n",
       "    </tr>\n",
       "    <tr>\n",
       "      <th>2</th>\n",
       "      <td>1000001</td>\n",
       "      <td>2003-09-30</td>\n",
       "      <td>MF</td>\n",
       "      <td>MF</td>\n",
       "      <td>None</td>\n",
       "      <td>Y</td>\n",
       "      <td>N</td>\n",
       "      <td>N</td>\n",
       "      <td>n</td>\n",
       "      <td>1000001.0</td>\n",
       "      <td>4273.0</td>\n",
       "    </tr>\n",
       "    <tr>\n",
       "      <th>3</th>\n",
       "      <td>1000001</td>\n",
       "      <td>2004-02-29</td>\n",
       "      <td>MF</td>\n",
       "      <td>MF</td>\n",
       "      <td>None</td>\n",
       "      <td>Y</td>\n",
       "      <td>N</td>\n",
       "      <td>N</td>\n",
       "      <td>n</td>\n",
       "      <td>1000001.0</td>\n",
       "      <td>4273.0</td>\n",
       "    </tr>\n",
       "    <tr>\n",
       "      <th>4</th>\n",
       "      <td>1000001</td>\n",
       "      <td>2004-06-30</td>\n",
       "      <td>MF</td>\n",
       "      <td>MF</td>\n",
       "      <td>None</td>\n",
       "      <td>Y</td>\n",
       "      <td>N</td>\n",
       "      <td>N</td>\n",
       "      <td>n</td>\n",
       "      <td>1000001.0</td>\n",
       "      <td>4273.0</td>\n",
       "    </tr>\n",
       "  </tbody>\n",
       "</table>\n",
       "</div>"
      ],
      "text/plain": [
       "   port_no   report_dt index_fund_flag et_flag lipper_class mutual_fund  \\\n",
       "0  1000001  2003-03-31              MF      MF         None           Y   \n",
       "1  1000001  2003-06-30              MF      MF         None           Y   \n",
       "2  1000001  2003-09-30              MF      MF         None           Y   \n",
       "3  1000001  2004-02-29              MF      MF         None           Y   \n",
       "4  1000001  2004-06-30              MF      MF         None           Y   \n",
       "\n",
       "  sample cap_class style_class  crsp_portno  crsp_fundno  \n",
       "0      N         N           n    1000001.0       4273.0  \n",
       "1      N         N           n    1000001.0       4273.0  \n",
       "2      N         N           n    1000001.0       4273.0  \n",
       "3      N         N           n    1000001.0       4273.0  \n",
       "4      N         N           n    1000001.0       4273.0  "
      ]
     },
     "execution_count": 197,
     "metadata": {},
     "output_type": "execute_result"
    }
   ],
   "source": [
    "holdings_summary.head()"
   ]
  },
  {
   "cell_type": "markdown",
   "metadata": {},
   "source": [
    "new_order = [0,8,1,2,3,4,5,6]\n",
    "holdings_summary = holdings_summary[holdings_summary.columns[new_order]]"
   ]
  },
  {
   "cell_type": "code",
   "execution_count": 198,
   "metadata": {},
   "outputs": [],
   "source": [
    "holdings_summary = holdings_summary.rename(columns={'crsp_fundno':'fund_no'}, index=str)"
   ]
  },
  {
   "cell_type": "markdown",
   "metadata": {},
   "source": [
    "# Take sample according to parameter"
   ]
  },
  {
   "cell_type": "markdown",
   "metadata": {},
   "source": [
    "### Filter returns"
   ]
  },
  {
   "cell_type": "code",
   "execution_count": 199,
   "metadata": {},
   "outputs": [],
   "source": [
    "unique_portno = holdings_summary[['fund_no']].drop_duplicates()"
   ]
  },
  {
   "cell_type": "code",
   "execution_count": 200,
   "metadata": {},
   "outputs": [],
   "source": [
    "mask = returns['crsp_fundno'].isin(unique_portno['fund_no'])"
   ]
  },
  {
   "cell_type": "code",
   "execution_count": 201,
   "metadata": {},
   "outputs": [],
   "source": [
    "returns_s = returns[mask]"
   ]
  },
  {
   "cell_type": "code",
   "execution_count": 202,
   "metadata": {},
   "outputs": [
    {
     "name": "stdout",
     "output_type": "stream",
     "text": [
      "Shape of returns before filtering (7273320, 3)\n",
      "Shape of returns after filtering  (2173160, 3)\n"
     ]
    }
   ],
   "source": [
    "print('Shape of returns before filtering',\n",
    "     returns.shape)\n",
    "\n",
    "print('Shape of returns after filtering ',\n",
    "     returns_s.shape)"
   ]
  },
  {
   "cell_type": "markdown",
   "metadata": {},
   "source": [
    "# Filter holdings"
   ]
  },
  {
   "cell_type": "markdown",
   "metadata": {},
   "source": [
    "### Mask to filter out only those in the sample according to holdings_summary"
   ]
  },
  {
   "cell_type": "code",
   "execution_count": 203,
   "metadata": {},
   "outputs": [
    {
     "data": {
      "text/plain": [
       "112931"
      ]
     },
     "execution_count": 203,
     "metadata": {},
     "output_type": "execute_result"
    }
   ],
   "source": [
    "mask = (holdings_summary['sample'] == 'Y') \n",
    "np.sum(mask)"
   ]
  },
  {
   "cell_type": "code",
   "execution_count": 204,
   "metadata": {},
   "outputs": [
    {
     "data": {
      "text/plain": [
       "112931"
      ]
     },
     "execution_count": 204,
     "metadata": {},
     "output_type": "execute_result"
    }
   ],
   "source": [
    "mask = (holdings_summary['sample'] == 'Y') & (holdings_summary['port_no'].notna())\n",
    "np.sum(mask)"
   ]
  },
  {
   "cell_type": "code",
   "execution_count": 205,
   "metadata": {},
   "outputs": [
    {
     "data": {
      "text/plain": [
       "<112931x2382968 sparse matrix of type '<class 'numpy.float64'>'\n",
       "\twith 15217553 stored elements in Compressed Sparse Row format>"
      ]
     },
     "execution_count": 205,
     "metadata": {},
     "output_type": "execute_result"
    }
   ],
   "source": [
    "holdings_s = holdings[mask.values]\n",
    "holdings_s"
   ]
  },
  {
   "cell_type": "markdown",
   "metadata": {},
   "source": [
    "### Filter holdings summary"
   ]
  },
  {
   "cell_type": "code",
   "execution_count": 206,
   "metadata": {},
   "outputs": [],
   "source": [
    "holdings_summary_s = holdings_summary[mask]"
   ]
  },
  {
   "cell_type": "code",
   "execution_count": 207,
   "metadata": {},
   "outputs": [
    {
     "data": {
      "text/plain": [
       "(112931, 2382968)"
      ]
     },
     "execution_count": 207,
     "metadata": {},
     "output_type": "execute_result"
    }
   ],
   "source": [
    "holdings_s.shape"
   ]
  },
  {
   "cell_type": "code",
   "execution_count": 208,
   "metadata": {},
   "outputs": [
    {
     "data": {
      "text/plain": [
       "(112931, 11)"
      ]
     },
     "execution_count": 208,
     "metadata": {},
     "output_type": "execute_result"
    }
   ],
   "source": [
    "holdings_summary_s.shape"
   ]
  },
  {
   "cell_type": "markdown",
   "metadata": {},
   "source": [
    "## Take only last n number of obs per fund"
   ]
  },
  {
   "cell_type": "markdown",
   "metadata": {},
   "source": [
    "To avoid overweight of funds with many observations"
   ]
  },
  {
   "cell_type": "code",
   "execution_count": 209,
   "metadata": {},
   "outputs": [],
   "source": [
    "last_n = 5"
   ]
  },
  {
   "cell_type": "code",
   "execution_count": 210,
   "metadata": {},
   "outputs": [],
   "source": [
    "holdings_summary_s = holdings_summary_s.reset_index()\n",
    "index = pd.DataFrame(np.arange(holdings_summary_s.shape[0]))\n",
    "index = index.groupby(holdings_summary_s['port_no']).tail(last_n)\n",
    "index = index.values.T.flatten()"
   ]
  },
  {
   "cell_type": "code",
   "execution_count": 211,
   "metadata": {},
   "outputs": [],
   "source": [
    "holdings_summary_s = holdings_summary_s.reset_index().loc[index,:]\n",
    "holdings_s = holdings_s[index]"
   ]
  },
  {
   "cell_type": "code",
   "execution_count": 212,
   "metadata": {},
   "outputs": [
    {
     "name": "stdout",
     "output_type": "stream",
     "text": [
      "Observations left after taking only the last 5 observations per fund:\n"
     ]
    },
    {
     "data": {
      "text/plain": [
       "(15391, 2382968)"
      ]
     },
     "execution_count": 212,
     "metadata": {},
     "output_type": "execute_result"
    }
   ],
   "source": [
    "print('Observations left after taking only the last {} observations per fund:'.format(last_n))\n",
    "holdings_s.shape"
   ]
  },
  {
   "cell_type": "markdown",
   "metadata": {},
   "source": [
    "### Delet columns (stocks) with little to no information\n",
    "Delet all colums / stocks which occur no more than 'min_observations_per_stock' times"
   ]
  },
  {
   "cell_type": "code",
   "execution_count": 213,
   "metadata": {},
   "outputs": [],
   "source": [
    "min_observations_per_stock = 10"
   ]
  },
  {
   "cell_type": "code",
   "execution_count": 214,
   "metadata": {},
   "outputs": [],
   "source": [
    "holdings_b = sparse.csr_matrix(holdings_s, copy=True)\n",
    "holdings_b.data = np.ones(len(holdings_s.data))\n",
    "\n",
    "col_sums = pd.DataFrame(holdings_b.sum(0)).values.flatten()"
   ]
  },
  {
   "cell_type": "code",
   "execution_count": 215,
   "metadata": {},
   "outputs": [
    {
     "name": "stdout",
     "output_type": "stream",
     "text": [
      "Total number of securities:            2,382,968\n",
      "Total number of securities with >1:       22,737\n",
      "Total number of securities with >10:       8,995\n"
     ]
    }
   ],
   "source": [
    "print('Total number of securities:           {:>10,d}'.format(len(col_sums)))\n",
    "print('Total number of securities with >1:   {:>10,d}'.format(sum(col_sums > 1)))\n",
    "print('Total number of securities with >10:  {:>10,d}'.format(sum(col_sums > 10)))"
   ]
  },
  {
   "cell_type": "markdown",
   "metadata": {},
   "source": [
    "1.5m of the 2m securities have either zero or one entry "
   ]
  },
  {
   "cell_type": "code",
   "execution_count": 216,
   "metadata": {},
   "outputs": [],
   "source": [
    "# generate mask\n",
    "mask = col_sums > min_observations_per_stock"
   ]
  },
  {
   "cell_type": "code",
   "execution_count": 217,
   "metadata": {
    "scrolled": true
   },
   "outputs": [
    {
     "data": {
      "text/plain": [
       "<15391x8995 sparse matrix of type '<class 'numpy.float64'>'\n",
       "\twith 1850674 stored elements in Compressed Sparse Row format>"
      ]
     },
     "execution_count": 217,
     "metadata": {},
     "output_type": "execute_result"
    }
   ],
   "source": [
    "holdings_s = holdings_s.tocsc()\n",
    "holdings_s = holdings_s[:,mask]\n",
    "holdings_s = holdings_s.tocsr()\n",
    "holdings_s"
   ]
  },
  {
   "cell_type": "code",
   "execution_count": 218,
   "metadata": {
    "scrolled": true
   },
   "outputs": [
    {
     "data": {
      "text/plain": [
       "<15391x8995 sparse matrix of type '<class 'numpy.float64'>'\n",
       "\twith 1850674 stored elements in Compressed Sparse Row format>"
      ]
     },
     "execution_count": 218,
     "metadata": {},
     "output_type": "execute_result"
    }
   ],
   "source": [
    "holdings_b = holdings_b.tocsc()\n",
    "holdings_b = holdings_b[:,mask]\n",
    "holdings_b = holdings_b.tocsr()\n",
    "holdings_b"
   ]
  },
  {
   "cell_type": "markdown",
   "metadata": {},
   "source": [
    "### Save final cleaned and filtered data"
   ]
  },
  {
   "cell_type": "markdown",
   "metadata": {},
   "source": [
    "#### Sparse matrix"
   ]
  },
  {
   "cell_type": "code",
   "execution_count": 219,
   "metadata": {},
   "outputs": [],
   "source": [
    "path = '../data/processed/EDY/holdings_s'\n",
    "sparse.save_npz(path, holdings_s)"
   ]
  },
  {
   "cell_type": "code",
   "execution_count": 220,
   "metadata": {},
   "outputs": [],
   "source": [
    "path = '../data/processed/EDY/holdings_b'\n",
    "sparse.save_npz(path, holdings_b)"
   ]
  },
  {
   "cell_type": "markdown",
   "metadata": {},
   "source": [
    "#### Sparse info"
   ]
  },
  {
   "cell_type": "code",
   "execution_count": 221,
   "metadata": {},
   "outputs": [],
   "source": [
    "path = '../data/processed/EDY/holdings_summary_s.feather'\n",
    "feather.write_dataframe(holdings_summary_s,path)"
   ]
  },
  {
   "cell_type": "markdown",
   "metadata": {},
   "source": [
    "#### Returns"
   ]
  },
  {
   "cell_type": "code",
   "execution_count": 222,
   "metadata": {},
   "outputs": [],
   "source": [
    "path = '../data/processed/EDY/returns_s.feather'\n",
    "feather.write_dataframe(returns_s,path)"
   ]
  },
  {
   "cell_type": "markdown",
   "metadata": {},
   "source": [
    "## Take smaller sub_sub sample (Everything before specified year)\n",
    "Makes processing faster"
   ]
  },
  {
   "cell_type": "code",
   "execution_count": 223,
   "metadata": {},
   "outputs": [],
   "source": [
    "start_date = '2015-01-01'\n",
    "start_date = datetime.datetime.strptime(start_date, '%Y-%M-%d').date()\n",
    "end_date = '2018-01-01'\n",
    "end_date = datetime.datetime.strptime(end_date, '%Y-%M-%d').date()"
   ]
  },
  {
   "cell_type": "markdown",
   "metadata": {},
   "source": [
    "#### Holdings & holdings_summary"
   ]
  },
  {
   "cell_type": "code",
   "execution_count": 224,
   "metadata": {},
   "outputs": [],
   "source": [
    "mask = (holdings_summary_s['report_dt'] > start_date) & (holdings_summary_s['report_dt'] < end_date)"
   ]
  },
  {
   "cell_type": "code",
   "execution_count": 225,
   "metadata": {},
   "outputs": [],
   "source": [
    "holdings_s_s = holdings_s[mask.values]\n",
    "holdings_b_b = holdings_b[mask.values]"
   ]
  },
  {
   "cell_type": "code",
   "execution_count": 226,
   "metadata": {},
   "outputs": [],
   "source": [
    "holdings_summary_s_s = holdings_summary_s[mask]"
   ]
  },
  {
   "cell_type": "markdown",
   "metadata": {},
   "source": [
    "#### Test"
   ]
  },
  {
   "cell_type": "code",
   "execution_count": 227,
   "metadata": {},
   "outputs": [
    {
     "data": {
      "text/plain": [
       "(5057, 8995)"
      ]
     },
     "execution_count": 227,
     "metadata": {},
     "output_type": "execute_result"
    }
   ],
   "source": [
    "holdings_s_s.shape"
   ]
  },
  {
   "cell_type": "code",
   "execution_count": 228,
   "metadata": {},
   "outputs": [
    {
     "data": {
      "text/plain": [
       "(5057, 13)"
      ]
     },
     "execution_count": 228,
     "metadata": {},
     "output_type": "execute_result"
    }
   ],
   "source": [
    "holdings_summary_s_s.shape"
   ]
  },
  {
   "cell_type": "markdown",
   "metadata": {},
   "source": [
    "#### Returns"
   ]
  },
  {
   "cell_type": "code",
   "execution_count": 229,
   "metadata": {},
   "outputs": [],
   "source": [
    "mask = (returns_s['caldt'] > start_date) & (returns_s['caldt'] < end_date)\n",
    "returns_s_s = returns_s[mask]"
   ]
  },
  {
   "cell_type": "markdown",
   "metadata": {},
   "source": [
    "### Save final cleaned and filtered data"
   ]
  },
  {
   "cell_type": "markdown",
   "metadata": {},
   "source": [
    "#### Sparse matrix"
   ]
  },
  {
   "cell_type": "code",
   "execution_count": 230,
   "metadata": {},
   "outputs": [],
   "source": [
    "path = '../data/processed/EDY/holdings_s_s'\n",
    "sparse.save_npz(path, holdings_s_s)\n",
    "\n",
    "path = '../data/processed/EDY/holdings_b_b'\n",
    "sparse.save_npz(path, holdings_b_b)"
   ]
  },
  {
   "cell_type": "markdown",
   "metadata": {},
   "source": [
    "#### Sparse info"
   ]
  },
  {
   "cell_type": "code",
   "execution_count": 231,
   "metadata": {},
   "outputs": [],
   "source": [
    "path = '../data/processed/EDY/holdings_summary_s_s.feather'\n",
    "feather.write_dataframe(holdings_summary_s_s,path)"
   ]
  },
  {
   "cell_type": "markdown",
   "metadata": {},
   "source": [
    "#### Returns"
   ]
  },
  {
   "cell_type": "code",
   "execution_count": 232,
   "metadata": {},
   "outputs": [],
   "source": [
    "path = '../data/processed/EDY/returns_s_s.feather'\n",
    "feather.write_dataframe(returns_s_s,path)"
   ]
  },
  {
   "cell_type": "code",
   "execution_count": null,
   "metadata": {},
   "outputs": [],
   "source": []
  }
 ],
 "metadata": {
  "kernelspec": {
   "display_name": "Python 3",
   "language": "python",
   "name": "python3"
  },
  "language_info": {
   "codemirror_mode": {
    "name": "ipython",
    "version": 3
   },
   "file_extension": ".py",
   "mimetype": "text/x-python",
   "name": "python",
   "nbconvert_exporter": "python",
   "pygments_lexer": "ipython3",
   "version": "3.7.1"
  }
 },
 "nbformat": 4,
 "nbformat_minor": 2
}
