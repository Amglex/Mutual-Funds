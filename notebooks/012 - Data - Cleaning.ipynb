{
 "cells": [
  {
   "cell_type": "markdown",
   "metadata": {},
   "source": [
    "# Clean Data"
   ]
  },
  {
   "cell_type": "markdown",
   "metadata": {},
   "source": [
    "### Description:\n",
    "\n",
    "Filter the three main data sources (Fund Info, Returns and Holdings)\n",
    "based on some parameters and save the result.\n",
    "\n",
    "Approach:\n",
    "1. Match fund summary to each portfolio/date pair\n",
    "2. Filter fund/date pairs based on those infos\n",
    "3. Filter returns based on final sample of holdings\n",
    "4. Save different versions of the files with different timeframes\n",
    "\n",
    "Parameters: \n",
    "- Lipper_class\n",
    "- Flags"
   ]
  },
  {
   "cell_type": "markdown",
   "metadata": {},
   "source": [
    "## Setup\n",
    "### All options for filtering the data"
   ]
  },
  {
   "cell_type": "code",
   "execution_count": 1,
   "metadata": {},
   "outputs": [],
   "source": [
    "%matplotlib inline\n",
    "\n",
    "import os\n",
    "import sys\n",
    "\n",
    "import feather\n",
    "import pandasql as ps\n",
    "import numpy as np\n",
    "import pandas as pd\n",
    "from scipy import sparse\n",
    "import datetime\n",
    "\n",
    "import matplotlib.pyplot as plt"
   ]
  },
  {
   "cell_type": "code",
   "execution_count": 2,
   "metadata": {},
   "outputs": [],
   "source": [
    "options = {\n",
    "    'sub_sample_start_date'      : datetime.date.fromisoformat('2015-01-01'),\n",
    "    'sub_sample_end_date'        : datetime.date.fromisoformat('2018-01-01'),\n",
    "    'min_per_com'                : 80,\n",
    "    'min_tna_latest'             : 10,\n",
    "    'min_obs_per_sec'            : 2,\n",
    "    'min_obs_per_observation'    : 10,\n",
    "    'min_perc_tna'               : 50,\n",
    "    'max_perc_tna'               : 120,\n",
    "    'selected_obj_codes'         : ('EIEI', 'G', \n",
    "                                    'LCCE', 'LCGE', 'LCVE',   # Large-cap\n",
    "                                    'MCCE', 'MCGE', 'MCVE',   # Mid-cap\n",
    "                                    'MLCE', 'MLGE', 'MLVE',   # Multi-cap\n",
    "                                    'SCCE', 'SCGE', 'SCVE')   # Small-cap\n",
    "}\n",
    "\n",
    "\n"
   ]
  },
  {
   "cell_type": "markdown",
   "metadata": {},
   "source": [
    "### Load the data files"
   ]
  },
  {
   "cell_type": "code",
   "execution_count": 3,
   "metadata": {},
   "outputs": [],
   "source": [
    "# Holdings data\n",
    "\n",
    "npz_path = '../data/interim/holdings.npz'      # Preprocessed holdings data (see notebook 011)\n",
    "holdings = sparse.load_npz(npz_path)\n",
    "\n",
    "path = '../data/interim/row_info.feather'\n",
    "row_info = feather.read_dataframe(path)\n",
    "row_info_original = row_info.copy()\n",
    "\n",
    "path = '../data/interim/col_info.feather'\n",
    "col_info = feather.read_dataframe(path)\n",
    "\n",
    "# Fund summary data\n",
    "\n",
    "path = '../data/raw/fund_info.feather'\n",
    "fund_info = feather.read_dataframe(path)     # Downloaded from wrds\n",
    "\n",
    "path = '../data/raw/fund_summay.feather'\n",
    "fund_summary = feather.read_dataframe(path)     # Downloaded from wrds\n",
    "\n",
    "path = '../data/raw/portno_map.feather'\n",
    "portno_map = feather.read_dataframe(path)\n",
    "\n",
    "path = '../data/raw/fund_style.feather'\n",
    "fund_style = feather.read_dataframe(path)\n",
    "\n",
    "# Returns data\n",
    "path = '../data/raw/returns.feather'\n",
    "returns = feather.read_dataframe(path)   # Downloaded from wrds"
   ]
  },
  {
   "cell_type": "markdown",
   "metadata": {},
   "source": [
    "## Fix all data types"
   ]
  },
  {
   "cell_type": "markdown",
   "metadata": {},
   "source": [
    "#### Fund info"
   ]
  },
  {
   "cell_type": "code",
   "execution_count": 4,
   "metadata": {},
   "outputs": [],
   "source": [
    "fund_info.drop(columns= ['lipper_class','avrcs'],inplace=True)\n",
    "\n",
    "fund_info.dropna(subset = ['crsp_portno','crsp_fundno'], inplace=True)\n",
    "fund_info[['crsp_fundno','crsp_portno']] = pd.DataFrame(fund_info[['crsp_fundno','crsp_portno']],dtype=np.int64)\n",
    "\n",
    "columns = ['first_offer_dt','begdt','enddt']\n",
    "fund_info[columns] = fund_info[columns].apply(pd.to_datetime)\n",
    "\n",
    "fund_info.loc[fund_info['et_flag'].isna(),'et_flag'] = 'MF'\n",
    "fund_info.loc[fund_info['index_fund_flag'].isna(),'index_fund_flag'] = 'MF'\n",
    "\n",
    "columns = ['et_flag','index_fund_flag']\n",
    "fund_info[columns] = fund_info[columns].astype('category')\n",
    "\n",
    "#fund_info[fund_info['style'] == 'EIEI'] = 'LCVE'\n",
    "#fund_info[fund_info['style'] == 'G'] = 'LCGE'\n",
    "\n",
    "et_mapper = {'F':'ETF', 'N':'ETN', 'MF':'MF'}\n",
    "fund_info['et_flag'] = fund_info['et_flag'].cat.rename_categories(et_mapper)\n",
    "\n",
    "index_flag_mapper = {'B':'Index-based', 'D':'Pure Index', 'E':'Index enhanced', 'MF':'MF'}\n",
    "fund_info['index_fund_flag'] = fund_info['index_fund_flag'].map(index_flag_mapper)"
   ]
  },
  {
   "cell_type": "markdown",
   "metadata": {},
   "source": [
    "#### Fund summary"
   ]
  },
  {
   "cell_type": "code",
   "execution_count": 5,
   "metadata": {},
   "outputs": [],
   "source": [
    "fund_summary[['crsp_fundno']] = pd.DataFrame(fund_summary[['crsp_fundno']],dtype=np.int64)\n",
    "columns = ['nav_latest','tna_latest','per_com']\n",
    "fund_summary[columns] = pd.DataFrame(fund_summary[columns],dtype=np.float64)\n",
    "\n",
    "columns = ['caldt','nav_latest_dt','tna_latest_dt']\n",
    "fund_summary[columns] = fund_summary[columns].apply(pd.to_datetime)"
   ]
  },
  {
   "cell_type": "markdown",
   "metadata": {},
   "source": [
    "#### Fund style"
   ]
  },
  {
   "cell_type": "code",
   "execution_count": 6,
   "metadata": {},
   "outputs": [],
   "source": [
    "fund_style['crsp_fundno'] = fund_style['crsp_fundno'].astype('int64')\n",
    "\n",
    "columns = ['begdt','enddt']\n",
    "fund_style[columns] = fund_style[columns].apply(pd.to_datetime)\n",
    "\n",
    "fund_style['cap_class'] = fund_style['lipper_class'].astype(str).str[0]\n",
    "fund_style['style_class'] = fund_style['lipper_class'].astype(str).str[2]\n",
    "fund_style.loc[\n",
    "    ~fund_style['lipper_class'].isin(options.get('selected_obj_codes')),\n",
    "    ['cap_class','style_class']] = np.NaN\n",
    "\n",
    "columns = ['lipper_class','lipper_obj_cd','cap_class','style_class']\n",
    "fund_style[columns] = fund_style[columns].astype('category')"
   ]
  },
  {
   "cell_type": "markdown",
   "metadata": {},
   "source": [
    "#### Return"
   ]
  },
  {
   "cell_type": "code",
   "execution_count": 7,
   "metadata": {},
   "outputs": [],
   "source": [
    "returns['crsp_fundno'] = pd.DataFrame(returns['crsp_fundno'],dtype=np.int64)\n",
    "returns['caldt'] =  pd.to_datetime(returns['caldt'])"
   ]
  },
  {
   "cell_type": "markdown",
   "metadata": {},
   "source": [
    "#### Portnomap"
   ]
  },
  {
   "cell_type": "code",
   "execution_count": 8,
   "metadata": {},
   "outputs": [],
   "source": [
    "columns = ['crsp_fundno','crsp_portno']\n",
    "portno_map[columns] = pd.DataFrame(portno_map[columns],dtype=np.int64)\n",
    "\n",
    "columns = ['begdt','enddt']\n",
    "portno_map[columns] = portno_map[columns].apply(pd.to_datetime)"
   ]
  },
  {
   "cell_type": "markdown",
   "metadata": {},
   "source": [
    "### Filter based on fund summary"
   ]
  },
  {
   "cell_type": "code",
   "execution_count": 9,
   "metadata": {},
   "outputs": [],
   "source": [
    "sqlcode = '''\n",
    "    SELECT fund_summary.caldt, fund_summary.crsp_fundno, fund_summary.tna_latest, fund_summary.per_com,\n",
    "    portno_map.begdt, portno_map.enddt, portno_map.crsp_portno, portno_map.crsp_fundno\n",
    "    FROM fund_summary\n",
    "    INNER JOIN portno_map \n",
    "    ON fund_summary.crsp_fundno = portno_map.crsp_fundno\n",
    "    AND caldt BETWEEN portno_map.begdt AND portno_map.enddt;\n",
    "'''\n",
    "\n",
    "fund_summary_merged = ps.sqldf(sqlcode,locals())\n",
    "\n",
    "columns = ['caldt','begdt','enddt']\n",
    "fund_summary_merged[columns] = fund_summary_merged[columns].apply(pd.to_datetime)\n",
    "\n",
    "fund_summary_merged = (fund_summary_merged\n",
    "                           .groupby(['caldt','crsp_portno'])\n",
    "                           .agg({'per_com': ['mean'],\n",
    "                                 'tna_latest': ['sum']}))\n",
    "\n",
    "fund_summary_merged.columns = fund_summary_merged.columns.droplevel(1)\n",
    "\n",
    "fund_summary_merged = fund_summary_merged.query(\n",
    "                            'per_com > {} and tna_latest > {}'.format(options.get('min_per_com'),\n",
    "                                                                      options.get('min_tna_latest')))"
   ]
  },
  {
   "cell_type": "markdown",
   "metadata": {},
   "source": [
    "### Filter based on fund info"
   ]
  },
  {
   "cell_type": "code",
   "execution_count": 10,
   "metadata": {},
   "outputs": [],
   "source": [
    "fund_info = fund_info.query('''index_fund_flag == 'MF' and et_flag == 'MF' ''')"
   ]
  },
  {
   "cell_type": "code",
   "execution_count": 11,
   "metadata": {},
   "outputs": [],
   "source": [
    "fund_info = fund_info.assign(portno_fundno = fund_info['crsp_fundno'] * 10_000_000 + fund_info['crsp_portno'])\n",
    "\n",
    "selected_funds = fund_info[['crsp_portno','portno_fundno']].groupby(['crsp_portno']).first()\n",
    "\n",
    "selected_funds = selected_funds['portno_fundno']\n",
    "\n",
    "fund_info = fund_info.query('portno_fundno in @selected_funds')\n",
    "\n",
    "fund_info = fund_info[['crsp_portno','crsp_fundno','fund_name','begdt','enddt']]"
   ]
  },
  {
   "cell_type": "markdown",
   "metadata": {},
   "source": [
    "### Filter based on fund style"
   ]
  },
  {
   "cell_type": "code",
   "execution_count": 12,
   "metadata": {},
   "outputs": [],
   "source": [
    "fund_style = fund_style[fund_style['lipper_class'].isin(options.get('selected_obj_codes'))]"
   ]
  },
  {
   "cell_type": "markdown",
   "metadata": {},
   "source": [
    "## Merge"
   ]
  },
  {
   "cell_type": "code",
   "execution_count": 13,
   "metadata": {},
   "outputs": [
    {
     "data": {
      "text/plain": [
       "(839196, 3)"
      ]
     },
     "execution_count": 13,
     "metadata": {},
     "output_type": "execute_result"
    }
   ],
   "source": [
    "row_info.shape"
   ]
  },
  {
   "cell_type": "code",
   "execution_count": 14,
   "metadata": {},
   "outputs": [
    {
     "data": {
      "text/plain": [
       "<matplotlib.axes._subplots.AxesSubplot at 0x1b5baa510>"
      ]
     },
     "execution_count": 14,
     "metadata": {},
     "output_type": "execute_result"
    },
    {
     "data": {
      "image/png": "[encoded data removed]",
      "text/plain": [
       "<Figure size 1080x360 with 1 Axes>"
      ]
     },
     "metadata": {
      "needs_background": "light"
     },
     "output_type": "display_data"
    }
   ],
   "source": [
    "(row_info['crsp_portno']\n",
    "    .groupby([\n",
    "         row_info['report_dt'].dt.year,\n",
    "     ])\n",
    "     .nunique()\n",
    "     .plot(kind='bar',\n",
    "           color = 'b',\n",
    "           figsize=(15,5)))"
   ]
  },
  {
   "cell_type": "markdown",
   "metadata": {},
   "source": [
    "### Merge row_info and fund_info\n",
    "Adds correct fundo to each portno/date row"
   ]
  },
  {
   "cell_type": "code",
   "execution_count": 15,
   "metadata": {},
   "outputs": [
    {
     "data": {
      "text/plain": [
       "(839196, 3)"
      ]
     },
     "execution_count": 15,
     "metadata": {},
     "output_type": "execute_result"
    }
   ],
   "source": [
    "row_info.shape"
   ]
  },
  {
   "cell_type": "code",
   "execution_count": 16,
   "metadata": {},
   "outputs": [],
   "source": [
    "sqlcode = '''\n",
    "    select row_info.crsp_portno, row_info.report_dt, \n",
    "    fund_info.crsp_portno, fund_info.crsp_fundno, fund_info.begdt, fund_info.enddt, fund_info.fund_name\n",
    "    from row_info \n",
    "    inner join fund_info \n",
    "    on row_info.crsp_portno = fund_info.crsp_portno\n",
    "    and row_info.report_dt between fund_info.begdt and fund_info.enddt;\n",
    "'''\n",
    "\n",
    "row_info_merged = ps.sqldf(sqlcode,locals())\n",
    "\n",
    "columns = ['report_dt','begdt','enddt']\n",
    "row_info_merged[columns] = row_info_merged[columns].apply(pd.to_datetime)\n",
    "row_info_merged = row_info_merged[['crsp_portno','crsp_fundno','report_dt','begdt','enddt','fund_name']]\n",
    "row_info_merged = row_info_merged.iloc[:,1:]"
   ]
  },
  {
   "cell_type": "code",
   "execution_count": 17,
   "metadata": {},
   "outputs": [
    {
     "data": {
      "text/plain": [
       "(529586, 6)"
      ]
     },
     "execution_count": 17,
     "metadata": {},
     "output_type": "execute_result"
    }
   ],
   "source": [
    "row_info_merged.shape"
   ]
  },
  {
   "cell_type": "code",
   "execution_count": 18,
   "metadata": {},
   "outputs": [
    {
     "data": {
      "text/plain": [
       "<matplotlib.axes._subplots.AxesSubplot at 0x216c10450>"
      ]
     },
     "execution_count": 18,
     "metadata": {},
     "output_type": "execute_result"
    },
    {
     "data": {
      "image/png": "[encoded data removed]",
      "text/plain": [
       "<Figure size 1080x360 with 1 Axes>"
      ]
     },
     "metadata": {
      "needs_background": "light"
     },
     "output_type": "display_data"
    }
   ],
   "source": [
    "(row_info_merged['crsp_portno']\n",
    "    .groupby([\n",
    "         row_info_merged['report_dt'].dt.year,\n",
    "#         row_info_merged['report_dt'].dt.month\n",
    "     ])\n",
    "     .nunique()\n",
    "     .plot(kind='bar',\n",
    "           color = 'b',\n",
    "           figsize=(15,5)))"
   ]
  },
  {
   "cell_type": "markdown",
   "metadata": {},
   "source": [
    "### Merge row_info and fund_style"
   ]
  },
  {
   "cell_type": "code",
   "execution_count": 19,
   "metadata": {},
   "outputs": [],
   "source": [
    "fund_style = fund_style.rename(columns={'begdt':'style_begdt',\n",
    "                                        'enddt':'style_enddt'})"
   ]
  },
  {
   "cell_type": "code",
   "execution_count": 20,
   "metadata": {},
   "outputs": [],
   "source": [
    "sqlcode = '''\n",
    "    SELECT \n",
    "        row_info_merged.crsp_fundno, row_info_merged.crsp_portno, row_info_merged.fund_name,\n",
    "        row_info_merged.report_dt, row_info_merged.begdt, row_info_merged.enddt,\n",
    "        fund_style.crsp_fundno, \n",
    "        fund_style.style_begdt, fund_style.style_enddt, \n",
    "        fund_style.lipper_class, fund_style.cap_class, fund_style.style_class\n",
    "    FROM row_info_merged \n",
    "    INNER JOIN fund_style \n",
    "        ON row_info_merged.crsp_fundno = fund_style.crsp_fundno\n",
    "        AND row_info_merged.report_dt between fund_style.style_begdt AND fund_style.style_enddt;\n",
    "'''\n",
    "\n",
    "row_info_merged = ps.sqldf(sqlcode,locals())"
   ]
  },
  {
   "cell_type": "code",
   "execution_count": 21,
   "metadata": {},
   "outputs": [],
   "source": [
    "columns = ['report_dt','begdt','enddt','style_begdt','style_enddt']\n",
    "row_info_merged[columns] = row_info_merged[columns].apply(pd.to_datetime)"
   ]
  },
  {
   "cell_type": "code",
   "execution_count": 22,
   "metadata": {},
   "outputs": [],
   "source": [
    "row_info_merged = row_info_merged[['crsp_fundno','crsp_portno','fund_name',\n",
    "                                   'report_dt','begdt','enddt','style_begdt','style_enddt',\n",
    "                                  'lipper_class','cap_class','style_class']]\n",
    "row_info_merged = row_info_merged.iloc[:,1:]"
   ]
  },
  {
   "cell_type": "code",
   "execution_count": 23,
   "metadata": {},
   "outputs": [
    {
     "data": {
      "text/plain": [
       "(172579, 11)"
      ]
     },
     "execution_count": 23,
     "metadata": {},
     "output_type": "execute_result"
    }
   ],
   "source": [
    "row_info_merged.shape"
   ]
  },
  {
   "cell_type": "code",
   "execution_count": 24,
   "metadata": {},
   "outputs": [
    {
     "data": {
      "text/plain": [
       "<matplotlib.axes._subplots.AxesSubplot at 0x1da705050>"
      ]
     },
     "execution_count": 24,
     "metadata": {},
     "output_type": "execute_result"
    },
    {
     "data": {
      "image/png": "[encoded data removed]",
      "text/plain": [
       "<Figure size 1080x360 with 1 Axes>"
      ]
     },
     "metadata": {
      "needs_background": "light"
     },
     "output_type": "display_data"
    }
   ],
   "source": [
    "(row_info_merged['crsp_portno']\n",
    "    .groupby([\n",
    "         row_info_merged['report_dt'].dt.year,\n",
    "#         row_info_merged['report_dt'].dt.month\n",
    "     ])\n",
    "     .nunique()\n",
    "     .plot(kind='bar',\n",
    "           color = 'b',\n",
    "           figsize=(15,5)))"
   ]
  },
  {
   "cell_type": "markdown",
   "metadata": {},
   "source": [
    "### Merge row_info and fund_hdr"
   ]
  },
  {
   "cell_type": "code",
   "execution_count": 25,
   "metadata": {},
   "outputs": [],
   "source": [
    "row_info_merged = row_info_merged.merge(\n",
    "    fund_summary[['crsp_fundno','caldt']],\n",
    "    how='inner',\n",
    "    left_on=['crsp_fundno','report_dt'],\n",
    "    right_on=['crsp_fundno','caldt'])"
   ]
  },
  {
   "cell_type": "code",
   "execution_count": 26,
   "metadata": {},
   "outputs": [
    {
     "data": {
      "text/plain": [
       "(54762, 12)"
      ]
     },
     "execution_count": 26,
     "metadata": {},
     "output_type": "execute_result"
    }
   ],
   "source": [
    "row_info_merged.shape"
   ]
  },
  {
   "cell_type": "code",
   "execution_count": 27,
   "metadata": {},
   "outputs": [
    {
     "data": {
      "text/plain": [
       "<matplotlib.axes._subplots.AxesSubplot at 0x1e816ea10>"
      ]
     },
     "execution_count": 27,
     "metadata": {},
     "output_type": "execute_result"
    },
    {
     "data": {
      "image/png": "[encoded data removed]",
      "text/plain": [
       "<Figure size 1080x360 with 1 Axes>"
      ]
     },
     "metadata": {
      "needs_background": "light"
     },
     "output_type": "display_data"
    }
   ],
   "source": [
    "(row_info_merged['crsp_portno']\n",
    "    .groupby([\n",
    "         row_info_merged['report_dt'].dt.year,\n",
    "#         row_info_merged['report_dt'].dt.month\n",
    "     ])\n",
    "     .nunique()\n",
    "     .plot(kind='bar',\n",
    "           color = 'b',\n",
    "           figsize=(15,5)))"
   ]
  },
  {
   "cell_type": "markdown",
   "metadata": {},
   "source": [
    "### Drop all unused columns of row_info"
   ]
  },
  {
   "cell_type": "code",
   "execution_count": 28,
   "metadata": {},
   "outputs": [],
   "source": [
    "row_info = row_info_merged.drop(columns=['caldt','begdt','enddt','style_begdt','style_enddt'])"
   ]
  },
  {
   "cell_type": "markdown",
   "metadata": {},
   "source": [
    "### Merge row_info with holdings"
   ]
  },
  {
   "cell_type": "code",
   "execution_count": 29,
   "metadata": {},
   "outputs": [],
   "source": [
    "row_info_original = row_info_original.assign(row_old = row_info_original.index)\n",
    "col_info = col_info.assign(col_old = col_info.index)\n",
    "\n",
    "row_info = row_info.merge(row_info_original,how='left',on=['crsp_portno','report_dt'])"
   ]
  },
  {
   "cell_type": "code",
   "execution_count": 30,
   "metadata": {},
   "outputs": [],
   "source": [
    "# Filter holdings matrix based on merged and filtered row_info\n",
    "mask = row_info['row_old'].values\n",
    "holdings = holdings[mask]"
   ]
  },
  {
   "cell_type": "code",
   "execution_count": 31,
   "metadata": {},
   "outputs": [],
   "source": [
    "# Drop unused columns and reset index / row column\n",
    "row_info.drop(columns=['port_id','row_old'],inplace=True)\n",
    "row_info.reset_index(drop=True,inplace=True)\n",
    "row_info = row_info.assign(row = row_info.index)"
   ]
  },
  {
   "cell_type": "markdown",
   "metadata": {},
   "source": [
    "### Filter based on holdings"
   ]
  },
  {
   "cell_type": "markdown",
   "metadata": {},
   "source": [
    "#### Delete securities with little to no information"
   ]
  },
  {
   "cell_type": "code",
   "execution_count": 32,
   "metadata": {},
   "outputs": [],
   "source": [
    "# Generate sparse holdings matrix with boolean values instead of more precise percent_tna values\n",
    "holdings_b = sparse.csr_matrix(holdings, copy=True)\n",
    "holdings_b.data = np.ones(len(holdings.data))"
   ]
  },
  {
   "cell_type": "code",
   "execution_count": 33,
   "metadata": {},
   "outputs": [],
   "source": [
    "sum_sec_boolean = pd.DataFrame(holdings_b.sum(0).T).values\n",
    "sum_port_boolean = pd.DataFrame(holdings_b.sum(1)).values\n",
    "\n",
    "sum_sec_perc = pd.DataFrame(holdings.sum(0).T).values\n",
    "sum_port_perc = pd.DataFrame(holdings.sum(1)).values"
   ]
  },
  {
   "cell_type": "code",
   "execution_count": 34,
   "metadata": {},
   "outputs": [
    {
     "name": "stdout",
     "output_type": "stream",
     "text": [
      "Total number of securities:                1,621,421\n",
      "Total number of securities with >1:           56,820\n",
      "Total number of securities with >10:          21,819\n",
      "Total number of securities with >50:           9,203\n",
      "Total number of securities with >100:           6,597\n"
     ]
    }
   ],
   "source": [
    "print('Total number of securities:               {:>10,d}'.format(len(sum_sec_boolean)))\n",
    "print('Total number of securities with >1:       {:>10,d}'.format(np.sum(sum_sec_boolean > 1)))\n",
    "print('Total number of securities with >10:      {:>10,d}'.format(np.sum(sum_sec_boolean > 10)))\n",
    "print('Total number of securities with >50:      {:>10,d}'.format(np.sum(sum_sec_boolean > 50)))\n",
    "print('Total number of securities with >100:     {:>10,d}'.format(np.sum(sum_sec_boolean > 100)))"
   ]
  },
  {
   "cell_type": "code",
   "execution_count": 35,
   "metadata": {},
   "outputs": [],
   "source": [
    "# Each security has to appear at least x times stocks\n",
    "col_mask = (sum_sec_boolean >= options.get('min_obs_per_sec')).flatten()\n",
    "# Each portfolio has to have at least x stocks\n",
    "row_mask_1 = (sum_port_boolean >= options.get('min_obs_per_observation')).flatten()\n",
    "# Each portfolio has to have min x% sum of percent_tna\n",
    "row_mask_2 = (sum_port_perc >= options.get('min_perc_tna')).flatten()\n",
    "# Each portfolio has to have max x% sum of percent_tna\n",
    "row_mask_3 = (sum_port_perc <= options.get('max_perc_tna')).flatten()\n",
    "row_mask = row_mask_1 & row_mask_2 & row_mask_3"
   ]
  },
  {
   "cell_type": "code",
   "execution_count": 36,
   "metadata": {},
   "outputs": [
    {
     "name": "stdout",
     "output_type": "stream",
     "text": [
      "Cols matching criteria according to:\n",
      " No mask  :  1,621,421 \n",
      " Full mask:     56,820 \n",
      "\n",
      "Rows matching criteria according to:\n",
      " No mask  :     54,762 \n",
      " Mask    1:     53,865 \n",
      " Mask    2:     54,515 \n",
      " Mask    3:     54,617 \n",
      " Full mask:     53,554\n"
     ]
    }
   ],
   "source": [
    "# Overview of masks\n",
    "print('Cols matching criteria according to:''\\n',\n",
    "    'No mask  : {:10,d}'.format(len(col_mask)),'\\n',\n",
    "    'Full mask: {:10,d}'.format(np.sum(col_mask)),'\\n')\n",
    "\n",
    "print('Rows matching criteria according to:''\\n',\n",
    "    'No mask  : {:10,d}'.format(len(row_mask_1)),'\\n',\n",
    "    'Mask    1: {:10,d}'.format(np.sum(row_mask_1)),'\\n',\n",
    "    'Mask    2: {:10,d}'.format(np.sum(row_mask_2)),'\\n',\n",
    "    'Mask    3: {:10,d}'.format(np.sum(row_mask_3)),'\\n',\n",
    "    'Full mask: {:10,d}'.format(np.sum(row_mask)))"
   ]
  },
  {
   "cell_type": "code",
   "execution_count": 37,
   "metadata": {},
   "outputs": [],
   "source": [
    "# Apply masks\n",
    "holdings = holdings.tocsc()\n",
    "holdings = holdings[:,col_mask]\n",
    "holdings = holdings.tocsr()\n",
    "holdings = holdings[row_mask,:]\n",
    "\n",
    "holdings_b = holdings_b.tocsc()\n",
    "holdings_b = holdings_b[:,col_mask]\n",
    "holdings_b = holdings_b.tocsr()\n",
    "holdings_b = holdings_b[row_mask,:]\n",
    "\n",
    "col_info = col_info.loc[col_mask,:]\n",
    "row_info = row_info.loc[row_mask,:]\n",
    "\n",
    "# reset indices\n",
    "col_info.reset_index(drop=True,inplace=True)\n",
    "col_info = col_info.assign(col = col_info.index)\n",
    "\n",
    "row_info.reset_index(drop=True,inplace=True)\n",
    "row_info = row_info.assign(row = row_info.index)"
   ]
  },
  {
   "cell_type": "code",
   "execution_count": 38,
   "metadata": {},
   "outputs": [
    {
     "name": "stdout",
     "output_type": "stream",
     "text": [
      "Number of fund/date combinations:              53,554\n",
      "Number of unique securities:                   56,820\n",
      "Number of values in sparse matrix:          6,914,239\n",
      "Same values for boolean holdings matrix:         True\n",
      "\n",
      "Number of rows in row_info df:                 53,554\n",
      "Number of rows in col_inf df:                  56,820\n",
      "\n",
      "Everything matches:                              True\n"
     ]
    }
   ],
   "source": [
    "# Check if all dimensions match\n",
    "print('Number of fund/date combinations:        {:12,d}'.format(holdings.shape[0]))\n",
    "print('Number of unique securities:             {:12,d}'.format(holdings.shape[1]))\n",
    "print('Number of values in sparse matrix:       {:12,d}'.format(holdings.getnnz()))\n",
    "match_test = ((holdings.shape[0] == holdings_b.shape[0]) \n",
    "              & (holdings.shape[1] == holdings_b.shape[1]) \n",
    "              & (holdings.getnnz() == holdings_b.getnnz()))\n",
    "print('Same values for boolean holdings matrix:         {}'.format(match_test))\n",
    "print()\n",
    "print('Number of rows in row_info df:           {:12,d}'.format(row_info.shape[0]))\n",
    "print('Number of rows in col_inf df:            {:12,d}'.format(col_info.shape[0]))\n",
    "print()\n",
    "match_test = (holdings.shape[0] == row_info.shape[0]) & (holdings.shape[1] == col_info.shape[0])\n",
    "print('Everything matches:                              {}'.format(match_test))"
   ]
  },
  {
   "cell_type": "markdown",
   "metadata": {},
   "source": [
    "## Filter holdings accordingly"
   ]
  },
  {
   "cell_type": "code",
   "execution_count": 39,
   "metadata": {},
   "outputs": [],
   "source": [
    "fund_nos = row_info['crsp_fundno'].unique()\n",
    "\n",
    "returns = returns.query('crsp_fundno in @fund_nos')"
   ]
  },
  {
   "cell_type": "markdown",
   "metadata": {},
   "source": [
    "## Check if holdings data still makes sene"
   ]
  },
  {
   "cell_type": "code",
   "execution_count": 40,
   "metadata": {},
   "outputs": [],
   "source": [
    "def most_common_stocks(date,lipper_class):\n",
    "    \"This prints a passed string into this function\"\n",
    "    # Enter date for which most common holdings are calculated\n",
    "    date = pd.to_datetime(date)\n",
    "    lipper_class = lipper_class\n",
    "\n",
    "    # Change if you want tu sum percentages instead of boolean values\n",
    "    holdings_coo = holdings_b.tocoo()\n",
    "\n",
    "    df_sparse = pd.DataFrame({'row' : holdings_coo.row,\n",
    "                              'col' : holdings_coo.col,\n",
    "                              'data' : holdings_coo.data})\n",
    "\n",
    "    df_sparse = df_sparse.merge(row_info[['report_dt','row','lipper_class']],how='left',on='row')\n",
    "\n",
    "    my_filter = '''report_dt == @date and lipper_class == @lipper_class '''\n",
    "\n",
    "    no_unique_funds = row_info.query(my_filter).shape[0]\n",
    "\n",
    "    sum_col = (df_sparse\n",
    "               .query(my_filter)\n",
    "               .groupby(by = ['col'])\n",
    "               .sum()\n",
    "               .sort_values('data',ascending = False)\n",
    "               .join(col_info[['security_name','col']],how='left')\n",
    "               .assign(percent = lambda x:  x.data / no_unique_funds * 100)\n",
    "               .drop(columns=['row','data','col'])\n",
    "               .reset_index(drop=True)\n",
    "               .head(10))\n",
    "\n",
    "    print(\n",
    "        'Most held stocks: ','\\n\\n'\n",
    "        'Lipper class:       {}'.format(lipper_class),'\\n'\n",
    "        'Number of funds:    {}'.format(no_unique_funds),'\\n'\n",
    "        'Date:               {}'.format(date.date()))\n",
    "\n",
    "    return sum_col"
   ]
  },
  {
   "cell_type": "code",
   "execution_count": 41,
   "metadata": {},
   "outputs": [
    {
     "name": "stdout",
     "output_type": "stream",
     "text": [
      "Most held stocks:  \n",
      "\n",
      "Lipper class:       LCCE \n",
      "Number of funds:    265 \n",
      "Date:               2016-06-30\n"
     ]
    },
    {
     "data": {
      "text/html": [
       "<div>\n",
       "<style scoped>\n",
       "    .dataframe tbody tr th:only-of-type {\n",
       "        vertical-align: middle;\n",
       "    }\n",
       "\n",
       "    .dataframe tbody tr th {\n",
       "        vertical-align: top;\n",
       "    }\n",
       "\n",
       "    .dataframe thead th {\n",
       "        text-align: right;\n",
       "    }\n",
       "</style>\n",
       "<table border=\"1\" class=\"dataframe\">\n",
       "  <thead>\n",
       "    <tr style=\"text-align: right;\">\n",
       "      <th></th>\n",
       "      <th>security_name</th>\n",
       "      <th>percent</th>\n",
       "    </tr>\n",
       "  </thead>\n",
       "  <tbody>\n",
       "    <tr>\n",
       "      <th>0</th>\n",
       "      <td>APPLE INC</td>\n",
       "      <td>79.245283</td>\n",
       "    </tr>\n",
       "    <tr>\n",
       "      <th>1</th>\n",
       "      <td>MICROSOFT CORP</td>\n",
       "      <td>77.358491</td>\n",
       "    </tr>\n",
       "    <tr>\n",
       "      <th>2</th>\n",
       "      <td>WELLS FARGO &amp; CO NEW</td>\n",
       "      <td>66.792453</td>\n",
       "    </tr>\n",
       "    <tr>\n",
       "      <th>3</th>\n",
       "      <td>COMCAST CORP NEW</td>\n",
       "      <td>65.660377</td>\n",
       "    </tr>\n",
       "    <tr>\n",
       "      <th>4</th>\n",
       "      <td>JOHNSON &amp; JOHNSON</td>\n",
       "      <td>64.150943</td>\n",
       "    </tr>\n",
       "    <tr>\n",
       "      <th>5</th>\n",
       "      <td>JPMORGAN CHASE &amp; CO</td>\n",
       "      <td>63.773585</td>\n",
       "    </tr>\n",
       "    <tr>\n",
       "      <th>6</th>\n",
       "      <td>ALPHABET INC</td>\n",
       "      <td>61.886792</td>\n",
       "    </tr>\n",
       "    <tr>\n",
       "      <th>7</th>\n",
       "      <td>ALPHABET INC</td>\n",
       "      <td>60.000000</td>\n",
       "    </tr>\n",
       "    <tr>\n",
       "      <th>8</th>\n",
       "      <td>CISCO SYSTEMS INC</td>\n",
       "      <td>58.490566</td>\n",
       "    </tr>\n",
       "    <tr>\n",
       "      <th>9</th>\n",
       "      <td>SCHLUMBERGER NV ORD</td>\n",
       "      <td>56.603774</td>\n",
       "    </tr>\n",
       "  </tbody>\n",
       "</table>\n",
       "</div>"
      ],
      "text/plain": [
       "          security_name    percent\n",
       "0             APPLE INC  79.245283\n",
       "1        MICROSOFT CORP  77.358491\n",
       "2  WELLS FARGO & CO NEW  66.792453\n",
       "3      COMCAST CORP NEW  65.660377\n",
       "4     JOHNSON & JOHNSON  64.150943\n",
       "5   JPMORGAN CHASE & CO  63.773585\n",
       "6          ALPHABET INC  61.886792\n",
       "7          ALPHABET INC  60.000000\n",
       "8     CISCO SYSTEMS INC  58.490566\n",
       "9   SCHLUMBERGER NV ORD  56.603774"
      ]
     },
     "execution_count": 41,
     "metadata": {},
     "output_type": "execute_result"
    }
   ],
   "source": [
    "most_common_stocks(date='2016-06-30',lipper_class='LCCE')"
   ]
  },
  {
   "cell_type": "markdown",
   "metadata": {},
   "source": [
    "# Save everything"
   ]
  },
  {
   "cell_type": "code",
   "execution_count": 42,
   "metadata": {},
   "outputs": [],
   "source": [
    "# Holdings data\n",
    "path = '../data/processed/holdings.npz'\n",
    "sparse.save_npz(path,holdings)\n",
    "\n",
    "path = '../data/processed/row_info.feather'\n",
    "feather.write_dataframe(row_info,path)\n",
    "\n",
    "path = '../data/processed/col_info.feather'\n",
    "feather.write_dataframe(col_info,path)\n",
    "\n",
    "# Returns data\n",
    "path = '../data/processed/returns.feather'\n",
    "feather.write_dataframe(returns,path)   # Downloaded from wrds"
   ]
  },
  {
   "cell_type": "markdown",
   "metadata": {},
   "source": [
    "## Tests"
   ]
  },
  {
   "cell_type": "code",
   "execution_count": 43,
   "metadata": {},
   "outputs": [
    {
     "data": {
      "text/html": [
       "<div>\n",
       "<style scoped>\n",
       "    .dataframe tbody tr th:only-of-type {\n",
       "        vertical-align: middle;\n",
       "    }\n",
       "\n",
       "    .dataframe tbody tr th {\n",
       "        vertical-align: top;\n",
       "    }\n",
       "\n",
       "    .dataframe thead th {\n",
       "        text-align: right;\n",
       "    }\n",
       "</style>\n",
       "<table border=\"1\" class=\"dataframe\">\n",
       "  <thead>\n",
       "    <tr style=\"text-align: right;\">\n",
       "      <th></th>\n",
       "      <th>crsp_fundno</th>\n",
       "      <th>style_begdt</th>\n",
       "      <th>style_enddt</th>\n",
       "      <th>lipper_class</th>\n",
       "      <th>lipper_obj_cd</th>\n",
       "      <th>cap_class</th>\n",
       "      <th>style_class</th>\n",
       "    </tr>\n",
       "  </thead>\n",
       "  <tbody>\n",
       "    <tr>\n",
       "      <th>118894</th>\n",
       "      <td>38200</td>\n",
       "      <td>2008-10-24</td>\n",
       "      <td>2018-01-18</td>\n",
       "      <td>SCCE</td>\n",
       "      <td>CA</td>\n",
       "      <td>S</td>\n",
       "      <td>C</td>\n",
       "    </tr>\n",
       "    <tr>\n",
       "      <th>118895</th>\n",
       "      <td>38200</td>\n",
       "      <td>2018-01-19</td>\n",
       "      <td>2019-06-30</td>\n",
       "      <td>MLCE</td>\n",
       "      <td>G</td>\n",
       "      <td>M</td>\n",
       "      <td>C</td>\n",
       "    </tr>\n",
       "  </tbody>\n",
       "</table>\n",
       "</div>"
      ],
      "text/plain": [
       "        crsp_fundno style_begdt style_enddt lipper_class lipper_obj_cd  \\\n",
       "118894        38200  2008-10-24  2018-01-18         SCCE            CA   \n",
       "118895        38200  2018-01-19  2019-06-30         MLCE             G   \n",
       "\n",
       "       cap_class style_class  \n",
       "118894         S           C  \n",
       "118895         M           C  "
      ]
     },
     "execution_count": 43,
     "metadata": {},
     "output_type": "execute_result"
    }
   ],
   "source": [
    "fund_style.query('crsp_fundno == 38200')"
   ]
  },
  {
   "cell_type": "code",
   "execution_count": 44,
   "metadata": {},
   "outputs": [],
   "source": [
    "def most_common_stocks_fund(year,crsp_fundno):\n",
    "    \"This prints a passed string into this function\"\n",
    "    # Enter date for which most common holdings are calculated\n",
    "    year = year\n",
    "    crsp_fundno = crsp_fundno\n",
    "\n",
    "    holdings_coo = holdings.tocoo()\n",
    "\n",
    "    df_sparse = pd.DataFrame({'row'  : holdings_coo.row,\n",
    "                              'col'  : holdings_coo.col,\n",
    "                              'data' : holdings_coo.data})\n",
    "\n",
    "    df_sparse = df_sparse.merge(row_info[['year','row','crsp_fundno']],how='left',on='row')\n",
    "    row_info_s = row_info.assign(year = row_info['report_dt'].dt.year)\n",
    "    my_filter = '''year == @year and crsp_fundno == @crsp_fundno '''\n",
    "    no_unique_funds = row_info_s.query(my_filter).shape[0]\n",
    "\n",
    "    sum_col = (df_sparse\n",
    "               .query(my_filter)\n",
    "               .groupby(by = ['col'])\n",
    "               .mean()\n",
    "               .sort_values('data',ascending = False)\n",
    "               .join(col_info[['security_name','col']],how='left')\n",
    "               .assign(percent = lambda x:  x.data)\n",
    "               .drop(columns=['row','data','col','year','crsp_fundno'])\n",
    "               .reset_index(drop=True)\n",
    "               .head(10))\n",
    "    \n",
    "    print(\n",
    "        'Average of most held stocks for one fund in one year: ','\\n\\n'\n",
    "        'crsp_fundno:                            {}'.format(crsp_fundno),'\\n'\n",
    "        'Year:                                   {}'.format(year),'\\n'\n",
    "        'Number of observations in that year:    {}'.format(no_unique_funds))\n",
    "\n",
    "    return sum_col"
   ]
  },
  {
   "cell_type": "code",
   "execution_count": 45,
   "metadata": {},
   "outputs": [
    {
     "ename": "KeyError",
     "evalue": "\"['year'] not in index\"",
     "output_type": "error",
     "traceback": [
      "\u001b[0;31m---------------------------------------------------------------------------\u001b[0m",
      "\u001b[0;31mKeyError\u001b[0m                                  Traceback (most recent call last)",
      "\u001b[0;32m<ipython-input-45-57a54afc4f73>\u001b[0m in \u001b[0;36m<module>\u001b[0;34m\u001b[0m\n\u001b[0;32m----> 1\u001b[0;31m \u001b[0mmost_common_stocks_fund\u001b[0m\u001b[0;34m(\u001b[0m\u001b[0myear\u001b[0m\u001b[0;34m=\u001b[0m\u001b[0;36m2017\u001b[0m\u001b[0;34m,\u001b[0m \u001b[0mcrsp_fundno\u001b[0m\u001b[0;34m=\u001b[0m\u001b[0;34m'28284'\u001b[0m\u001b[0;34m)\u001b[0m\u001b[0;34m\u001b[0m\u001b[0;34m\u001b[0m\u001b[0m\n\u001b[0m",
      "\u001b[0;32m<ipython-input-44-c850e0b09e70>\u001b[0m in \u001b[0;36mmost_common_stocks_fund\u001b[0;34m(year, crsp_fundno)\u001b[0m\n\u001b[1;32m     11\u001b[0m                               'data' : holdings_coo.data})\n\u001b[1;32m     12\u001b[0m \u001b[0;34m\u001b[0m\u001b[0m\n\u001b[0;32m---> 13\u001b[0;31m     \u001b[0mdf_sparse\u001b[0m \u001b[0;34m=\u001b[0m \u001b[0mdf_sparse\u001b[0m\u001b[0;34m.\u001b[0m\u001b[0mmerge\u001b[0m\u001b[0;34m(\u001b[0m\u001b[0mrow_info\u001b[0m\u001b[0;34m[\u001b[0m\u001b[0;34m[\u001b[0m\u001b[0;34m'year'\u001b[0m\u001b[0;34m,\u001b[0m\u001b[0;34m'row'\u001b[0m\u001b[0;34m,\u001b[0m\u001b[0;34m'crsp_fundno'\u001b[0m\u001b[0;34m]\u001b[0m\u001b[0;34m]\u001b[0m\u001b[0;34m,\u001b[0m\u001b[0mhow\u001b[0m\u001b[0;34m=\u001b[0m\u001b[0;34m'left'\u001b[0m\u001b[0;34m,\u001b[0m\u001b[0mon\u001b[0m\u001b[0;34m=\u001b[0m\u001b[0;34m'row'\u001b[0m\u001b[0;34m)\u001b[0m\u001b[0;34m\u001b[0m\u001b[0;34m\u001b[0m\u001b[0m\n\u001b[0m\u001b[1;32m     14\u001b[0m     \u001b[0mrow_info_s\u001b[0m \u001b[0;34m=\u001b[0m \u001b[0mrow_info\u001b[0m\u001b[0;34m.\u001b[0m\u001b[0massign\u001b[0m\u001b[0;34m(\u001b[0m\u001b[0myear\u001b[0m \u001b[0;34m=\u001b[0m \u001b[0mrow_info\u001b[0m\u001b[0;34m[\u001b[0m\u001b[0;34m'report_dt'\u001b[0m\u001b[0;34m]\u001b[0m\u001b[0;34m.\u001b[0m\u001b[0mdt\u001b[0m\u001b[0;34m.\u001b[0m\u001b[0myear\u001b[0m\u001b[0;34m)\u001b[0m\u001b[0;34m\u001b[0m\u001b[0;34m\u001b[0m\u001b[0m\n\u001b[1;32m     15\u001b[0m     \u001b[0mmy_filter\u001b[0m \u001b[0;34m=\u001b[0m \u001b[0;34m'''year == @year and crsp_fundno == @crsp_fundno '''\u001b[0m\u001b[0;34m\u001b[0m\u001b[0;34m\u001b[0m\u001b[0m\n",
      "\u001b[0;32m~/.virtualenvs/MT/lib/python3.7/site-packages/pandas/core/frame.py\u001b[0m in \u001b[0;36m__getitem__\u001b[0;34m(self, key)\u001b[0m\n\u001b[1;32m   2979\u001b[0m             \u001b[0;32mif\u001b[0m \u001b[0mis_iterator\u001b[0m\u001b[0;34m(\u001b[0m\u001b[0mkey\u001b[0m\u001b[0;34m)\u001b[0m\u001b[0;34m:\u001b[0m\u001b[0;34m\u001b[0m\u001b[0;34m\u001b[0m\u001b[0m\n\u001b[1;32m   2980\u001b[0m                 \u001b[0mkey\u001b[0m \u001b[0;34m=\u001b[0m \u001b[0mlist\u001b[0m\u001b[0;34m(\u001b[0m\u001b[0mkey\u001b[0m\u001b[0;34m)\u001b[0m\u001b[0;34m\u001b[0m\u001b[0;34m\u001b[0m\u001b[0m\n\u001b[0;32m-> 2981\u001b[0;31m             \u001b[0mindexer\u001b[0m \u001b[0;34m=\u001b[0m \u001b[0mself\u001b[0m\u001b[0;34m.\u001b[0m\u001b[0mloc\u001b[0m\u001b[0;34m.\u001b[0m\u001b[0m_convert_to_indexer\u001b[0m\u001b[0;34m(\u001b[0m\u001b[0mkey\u001b[0m\u001b[0;34m,\u001b[0m \u001b[0maxis\u001b[0m\u001b[0;34m=\u001b[0m\u001b[0;36m1\u001b[0m\u001b[0;34m,\u001b[0m \u001b[0mraise_missing\u001b[0m\u001b[0;34m=\u001b[0m\u001b[0;32mTrue\u001b[0m\u001b[0;34m)\u001b[0m\u001b[0;34m\u001b[0m\u001b[0;34m\u001b[0m\u001b[0m\n\u001b[0m\u001b[1;32m   2982\u001b[0m \u001b[0;34m\u001b[0m\u001b[0m\n\u001b[1;32m   2983\u001b[0m         \u001b[0;31m# take() does not accept boolean indexers\u001b[0m\u001b[0;34m\u001b[0m\u001b[0;34m\u001b[0m\u001b[0;34m\u001b[0m\u001b[0m\n",
      "\u001b[0;32m~/.virtualenvs/MT/lib/python3.7/site-packages/pandas/core/indexing.py\u001b[0m in \u001b[0;36m_convert_to_indexer\u001b[0;34m(self, obj, axis, is_setter, raise_missing)\u001b[0m\n\u001b[1;32m   1269\u001b[0m                 \u001b[0;31m# When setting, missing keys are not allowed, even with .loc:\u001b[0m\u001b[0;34m\u001b[0m\u001b[0;34m\u001b[0m\u001b[0;34m\u001b[0m\u001b[0m\n\u001b[1;32m   1270\u001b[0m                 \u001b[0mkwargs\u001b[0m \u001b[0;34m=\u001b[0m \u001b[0;34m{\u001b[0m\u001b[0;34m\"raise_missing\"\u001b[0m\u001b[0;34m:\u001b[0m \u001b[0;32mTrue\u001b[0m \u001b[0;32mif\u001b[0m \u001b[0mis_setter\u001b[0m \u001b[0;32melse\u001b[0m \u001b[0mraise_missing\u001b[0m\u001b[0;34m}\u001b[0m\u001b[0;34m\u001b[0m\u001b[0;34m\u001b[0m\u001b[0m\n\u001b[0;32m-> 1271\u001b[0;31m                 \u001b[0;32mreturn\u001b[0m \u001b[0mself\u001b[0m\u001b[0;34m.\u001b[0m\u001b[0m_get_listlike_indexer\u001b[0m\u001b[0;34m(\u001b[0m\u001b[0mobj\u001b[0m\u001b[0;34m,\u001b[0m \u001b[0maxis\u001b[0m\u001b[0;34m,\u001b[0m \u001b[0;34m**\u001b[0m\u001b[0mkwargs\u001b[0m\u001b[0;34m)\u001b[0m\u001b[0;34m[\u001b[0m\u001b[0;36m1\u001b[0m\u001b[0;34m]\u001b[0m\u001b[0;34m\u001b[0m\u001b[0;34m\u001b[0m\u001b[0m\n\u001b[0m\u001b[1;32m   1272\u001b[0m         \u001b[0;32melse\u001b[0m\u001b[0;34m:\u001b[0m\u001b[0;34m\u001b[0m\u001b[0;34m\u001b[0m\u001b[0m\n\u001b[1;32m   1273\u001b[0m             \u001b[0;32mtry\u001b[0m\u001b[0;34m:\u001b[0m\u001b[0;34m\u001b[0m\u001b[0;34m\u001b[0m\u001b[0m\n",
      "\u001b[0;32m~/.virtualenvs/MT/lib/python3.7/site-packages/pandas/core/indexing.py\u001b[0m in \u001b[0;36m_get_listlike_indexer\u001b[0;34m(self, key, axis, raise_missing)\u001b[0m\n\u001b[1;32m   1076\u001b[0m \u001b[0;34m\u001b[0m\u001b[0m\n\u001b[1;32m   1077\u001b[0m         self._validate_read_indexer(\n\u001b[0;32m-> 1078\u001b[0;31m             \u001b[0mkeyarr\u001b[0m\u001b[0;34m,\u001b[0m \u001b[0mindexer\u001b[0m\u001b[0;34m,\u001b[0m \u001b[0mo\u001b[0m\u001b[0;34m.\u001b[0m\u001b[0m_get_axis_number\u001b[0m\u001b[0;34m(\u001b[0m\u001b[0maxis\u001b[0m\u001b[0;34m)\u001b[0m\u001b[0;34m,\u001b[0m \u001b[0mraise_missing\u001b[0m\u001b[0;34m=\u001b[0m\u001b[0mraise_missing\u001b[0m\u001b[0;34m\u001b[0m\u001b[0;34m\u001b[0m\u001b[0m\n\u001b[0m\u001b[1;32m   1079\u001b[0m         )\n\u001b[1;32m   1080\u001b[0m         \u001b[0;32mreturn\u001b[0m \u001b[0mkeyarr\u001b[0m\u001b[0;34m,\u001b[0m \u001b[0mindexer\u001b[0m\u001b[0;34m\u001b[0m\u001b[0;34m\u001b[0m\u001b[0m\n",
      "\u001b[0;32m~/.virtualenvs/MT/lib/python3.7/site-packages/pandas/core/indexing.py\u001b[0m in \u001b[0;36m_validate_read_indexer\u001b[0;34m(self, key, indexer, axis, raise_missing)\u001b[0m\n\u001b[1;32m   1169\u001b[0m             \u001b[0;32mif\u001b[0m \u001b[0;32mnot\u001b[0m \u001b[0;34m(\u001b[0m\u001b[0mself\u001b[0m\u001b[0;34m.\u001b[0m\u001b[0mname\u001b[0m \u001b[0;34m==\u001b[0m \u001b[0;34m\"loc\"\u001b[0m \u001b[0;32mand\u001b[0m \u001b[0;32mnot\u001b[0m \u001b[0mraise_missing\u001b[0m\u001b[0;34m)\u001b[0m\u001b[0;34m:\u001b[0m\u001b[0;34m\u001b[0m\u001b[0;34m\u001b[0m\u001b[0m\n\u001b[1;32m   1170\u001b[0m                 \u001b[0mnot_found\u001b[0m \u001b[0;34m=\u001b[0m \u001b[0mlist\u001b[0m\u001b[0;34m(\u001b[0m\u001b[0mset\u001b[0m\u001b[0;34m(\u001b[0m\u001b[0mkey\u001b[0m\u001b[0;34m)\u001b[0m \u001b[0;34m-\u001b[0m \u001b[0mset\u001b[0m\u001b[0;34m(\u001b[0m\u001b[0max\u001b[0m\u001b[0;34m)\u001b[0m\u001b[0;34m)\u001b[0m\u001b[0;34m\u001b[0m\u001b[0;34m\u001b[0m\u001b[0m\n\u001b[0;32m-> 1171\u001b[0;31m                 \u001b[0;32mraise\u001b[0m \u001b[0mKeyError\u001b[0m\u001b[0;34m(\u001b[0m\u001b[0;34m\"{} not in index\"\u001b[0m\u001b[0;34m.\u001b[0m\u001b[0mformat\u001b[0m\u001b[0;34m(\u001b[0m\u001b[0mnot_found\u001b[0m\u001b[0;34m)\u001b[0m\u001b[0;34m)\u001b[0m\u001b[0;34m\u001b[0m\u001b[0;34m\u001b[0m\u001b[0m\n\u001b[0m\u001b[1;32m   1172\u001b[0m \u001b[0;34m\u001b[0m\u001b[0m\n\u001b[1;32m   1173\u001b[0m             \u001b[0;31m# we skip the warning on Categorical/Interval\u001b[0m\u001b[0;34m\u001b[0m\u001b[0;34m\u001b[0m\u001b[0;34m\u001b[0m\u001b[0m\n",
      "\u001b[0;31mKeyError\u001b[0m: \"['year'] not in index\""
     ]
    }
   ],
   "source": [
    "most_common_stocks_fund(year=2017, crsp_fundno='28284')"
   ]
  },
  {
   "cell_type": "code",
   "execution_count": null,
   "metadata": {},
   "outputs": [],
   "source": []
  }
 ],
 "metadata": {
  "kernelspec": {
   "display_name": "MT",
   "language": "python",
   "name": "mt"
  },
  "language_info": {
   "codemirror_mode": {
    "name": "ipython",
    "version": 3
   },
   "file_extension": ".py",
   "mimetype": "text/x-python",
   "name": "python",
   "nbconvert_exporter": "python",
   "pygments_lexer": "ipython3",
   "version": "3.7.4"
  }
 },
 "nbformat": 4,
 "nbformat_minor": 2
}
