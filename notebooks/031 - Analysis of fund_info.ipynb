{
 "cells": [
  {
   "cell_type": "markdown",
   "metadata": {
    "toc": true
   },
   "source": [
    "<h1>Table of Contents<span class=\"tocSkip\"></span></h1>\n",
    "<div class=\"toc\"><ul class=\"toc-item\"><li><span><a href=\"#Analysis-of-selected-funds\" data-toc-modified-id=\"Analysis-of-selected-funds-1\"><span class=\"toc-item-num\">1&nbsp;&nbsp;</span>Analysis of selected funds</a></span><ul class=\"toc-item\"><li><span><a href=\"#Number-of-unique-port_nos-and-fund_nos\" data-toc-modified-id=\"Number-of-unique-port_nos-and-fund_nos-1.1\"><span class=\"toc-item-num\">1.1&nbsp;&nbsp;</span>Number of unique port_nos and fund_nos</a></span></li><li><span><a href=\"#Number-of-unique-funds-per-year\" data-toc-modified-id=\"Number-of-unique-funds-per-year-1.2\"><span class=\"toc-item-num\">1.2&nbsp;&nbsp;</span>Number of unique funds per year</a></span></li><li><span><a href=\"#Distribution-by-number-of-observations-per-fund\" data-toc-modified-id=\"Distribution-by-number-of-observations-per-fund-1.3\"><span class=\"toc-item-num\">1.3&nbsp;&nbsp;</span>Distribution by number of observations per fund</a></span></li><li><span><a href=\"#Take-only-the-end-of-the-year-observation-per-fund\" data-toc-modified-id=\"Take-only-the-end-of-the-year-observation-per-fund-1.4\"><span class=\"toc-item-num\">1.4&nbsp;&nbsp;</span>Take only the end of the year observation per fund</a></span></li><li><span><a href=\"#Distribution-by-lipper_class\" data-toc-modified-id=\"Distribution-by-lipper_class-1.5\"><span class=\"toc-item-num\">1.5&nbsp;&nbsp;</span>Distribution by lipper_class</a></span></li><li><span><a href=\"#How-often-do-lipper_classes-change?\" data-toc-modified-id=\"How-often-do-lipper_classes-change?-1.6\"><span class=\"toc-item-num\">1.6&nbsp;&nbsp;</span>How often do lipper_classes change?</a></span></li></ul></li></ul></div>"
   ]
  },
  {
   "cell_type": "markdown",
   "metadata": {},
   "source": [
    "# Analysis of selected funds"
   ]
  },
  {
   "cell_type": "markdown",
   "metadata": {},
   "source": [
    "Main insights:\n",
    "    - ~3700 unique funds over the complete timeframe\n",
    "    - Strong break in 2010 (few observations before)\n",
    "    - ~2500 unique funds per year\n",
    "    - ~6% of funds change their lipper class over the complete timeframe\n",
    "    "
   ]
  },
  {
   "cell_type": "code",
   "execution_count": 48,
   "metadata": {
    "pycharm": {
     "is_executing": false
    }
   },
   "outputs": [],
   "source": [
    "import feather\n",
    "\n",
    "import pandas as pd\n",
    "\n",
    "import matplotlib.pyplot as plt\n",
    "import seaborn as sns"
   ]
  },
  {
   "cell_type": "code",
   "execution_count": 49,
   "metadata": {
    "pycharm": {
     "is_executing": false
    }
   },
   "outputs": [],
   "source": [
    "# Convert to date format\n",
    "year = 2016"
   ]
  },
  {
   "cell_type": "code",
   "execution_count": 50,
   "metadata": {
    "pycharm": {
     "is_executing": false
    },
    "scrolled": true
   },
   "outputs": [],
   "source": [
    "path = '../data/processed/row_info.feather'\n",
    "info_df = feather.read_dataframe(path)"
   ]
  },
  {
   "cell_type": "code",
   "execution_count": 51,
   "metadata": {
    "pycharm": {
     "is_executing": false
    }
   },
   "outputs": [],
   "source": [
    "#info_df = info_df.query('year == @year')"
   ]
  },
  {
   "cell_type": "code",
   "execution_count": 52,
   "metadata": {},
   "outputs": [
    {
     "data": {
      "text/html": [
       "<div>\n",
       "<style scoped>\n",
       "    .dataframe tbody tr th:only-of-type {\n",
       "        vertical-align: middle;\n",
       "    }\n",
       "\n",
       "    .dataframe tbody tr th {\n",
       "        vertical-align: top;\n",
       "    }\n",
       "\n",
       "    .dataframe thead th {\n",
       "        text-align: right;\n",
       "    }\n",
       "</style>\n",
       "<table border=\"1\" class=\"dataframe\">\n",
       "  <thead>\n",
       "    <tr style=\"text-align: right;\">\n",
       "      <th></th>\n",
       "      <th>crsp_fundno</th>\n",
       "      <th>crsp_portno</th>\n",
       "      <th>fund_name</th>\n",
       "      <th>report_dt</th>\n",
       "      <th>lipper_class</th>\n",
       "      <th>cap_class</th>\n",
       "      <th>style_class</th>\n",
       "      <th>year</th>\n",
       "      <th>row</th>\n",
       "    </tr>\n",
       "  </thead>\n",
       "  <tbody>\n",
       "    <tr>\n",
       "      <th>3522</th>\n",
       "      <td>15132</td>\n",
       "      <td>1022288</td>\n",
       "      <td>Carillon Series Trust: Carillon Eagle Small Ca...</td>\n",
       "      <td>2014-12-31</td>\n",
       "      <td>SCGE</td>\n",
       "      <td>SC</td>\n",
       "      <td>G</td>\n",
       "      <td>2014</td>\n",
       "      <td>3522</td>\n",
       "    </tr>\n",
       "  </tbody>\n",
       "</table>\n",
       "</div>"
      ],
      "text/plain": [
       "      crsp_fundno  crsp_portno  \\\n",
       "3522        15132      1022288   \n",
       "\n",
       "                                              fund_name  report_dt  \\\n",
       "3522  Carillon Series Trust: Carillon Eagle Small Ca... 2014-12-31   \n",
       "\n",
       "     lipper_class cap_class style_class  year   row  \n",
       "3522         SCGE        SC           G  2014  3522  "
      ]
     },
     "execution_count": 52,
     "metadata": {},
     "output_type": "execute_result"
    }
   ],
   "source": [
    "info_df.sample()"
   ]
  },
  {
   "cell_type": "markdown",
   "metadata": {},
   "source": [
    "## Number of unique port_nos and fund_nos"
   ]
  },
  {
   "cell_type": "code",
   "execution_count": 53,
   "metadata": {},
   "outputs": [
    {
     "data": {
      "text/plain": [
       "count                   20624\n",
       "unique                     17\n",
       "top       2010-12-31 00:00:00\n",
       "freq                     2371\n",
       "first     2002-12-31 00:00:00\n",
       "last      2018-12-31 00:00:00\n",
       "Name: report_dt, dtype: object"
      ]
     },
     "execution_count": 53,
     "metadata": {},
     "output_type": "execute_result"
    }
   ],
   "source": [
    "info_df['report_dt'].describe()"
   ]
  },
  {
   "cell_type": "code",
   "execution_count": 54,
   "metadata": {},
   "outputs": [
    {
     "name": "stdout",
     "output_type": "stream",
     "text": [
      "3745\n",
      "3745\n"
     ]
    }
   ],
   "source": [
    "print(info_df['crsp_portno'].nunique())\n",
    "print(info_df['crsp_fundno'].nunique())"
   ]
  },
  {
   "cell_type": "markdown",
   "metadata": {},
   "source": [
    "## Number of unique funds per year"
   ]
  },
  {
   "cell_type": "markdown",
   "metadata": {},
   "source": [
    "#### Something seems odd\n",
    "Break in 2009 not clear"
   ]
  },
  {
   "cell_type": "code",
   "execution_count": 55,
   "metadata": {},
   "outputs": [
    {
     "data": {
      "text/plain": [
       "<matplotlib.axes._subplots.AxesSubplot at 0x12dc7e510>"
      ]
     },
     "execution_count": 55,
     "metadata": {},
     "output_type": "execute_result"
    },
    {
     "data": {
      "image/png": "[encoded data removed]",
      "text/plain": [
       "<Figure size 720x360 with 1 Axes>"
      ]
     },
     "metadata": {},
     "output_type": "display_data"
    }
   ],
   "source": [
    "# Analysis of selected funds\n",
    "sns.set()\n",
    "## Distribution by date(info_df[\"report_dt\"]\n",
    "(info_df[\"crsp_portno\"]\n",
    "    .groupby([\n",
    "         info_df[\"report_dt\"].dt.year,\n",
    "         info_df[\"report_dt\"].dt.month\n",
    "     ])\n",
    "     .nunique()\n",
    "     .plot(kind=\"bar\",\n",
    "           color = 'b',\n",
    "           figsize=(10,5)))"
   ]
  },
  {
   "cell_type": "markdown",
   "metadata": {},
   "source": [
    "## Distribution by number of observations per fund "
   ]
  },
  {
   "cell_type": "code",
   "execution_count": 56,
   "metadata": {},
   "outputs": [
    {
     "data": {
      "text/plain": [
       "<matplotlib.axes._subplots.AxesSubplot at 0x12e1e2850>"
      ]
     },
     "execution_count": 56,
     "metadata": {},
     "output_type": "execute_result"
    },
    {
     "data": {
      "image/png": "[encoded data removed]",
      "text/plain": [
       "<Figure size 720x360 with 1 Axes>"
      ]
     },
     "metadata": {},
     "output_type": "display_data"
    }
   ],
   "source": [
    "(info_df[\"crsp_portno\"]\n",
    "     .groupby([\n",
    "         info_df[\"crsp_portno\"],\n",
    "     ])\n",
    "     .count()\n",
    "     .plot(kind=\"hist\",\n",
    "           bins = 10,\n",
    "           color = 'b',\n",
    "           figsize=(10,5)))"
   ]
  },
  {
   "cell_type": "markdown",
   "metadata": {},
   "source": [
    "## Take only the end of the year observation per fund"
   ]
  },
  {
   "cell_type": "code",
   "execution_count": 57,
   "metadata": {},
   "outputs": [],
   "source": [
    "index = (info_df\n",
    "     .assign(year = info_df[\"report_dt\"].dt.year)\n",
    "     .groupby(['crsp_portno','year'])\n",
    "     [['crsp_portno','report_dt']]\n",
    "     .tail(1)\n",
    "     .index)"
   ]
  },
  {
   "cell_type": "code",
   "execution_count": 58,
   "metadata": {},
   "outputs": [],
   "source": [
    "info_df = info_df.loc[index]"
   ]
  },
  {
   "cell_type": "markdown",
   "metadata": {},
   "source": [
    "## Distribution by lipper_class"
   ]
  },
  {
   "cell_type": "code",
   "execution_count": 59,
   "metadata": {},
   "outputs": [
    {
     "data": {
      "text/plain": [
       "<matplotlib.axes._subplots.AxesSubplot at 0x12e3376d0>"
      ]
     },
     "execution_count": 59,
     "metadata": {},
     "output_type": "execute_result"
    },
    {
     "data": {
      "image/png": "[encoded data removed]",
      "text/plain": [
       "<Figure size 1440x360 with 1 Axes>"
      ]
     },
     "metadata": {},
     "output_type": "display_data"
    }
   ],
   "source": [
    "(info_df['crsp_portno']\n",
    "     .groupby([\n",
    "         info_df[\"lipper_class\"],\n",
    "     ])\n",
    "     .count()\n",
    "#     .sort_values()\n",
    "     .plot(kind=\"barh\",\n",
    "           color = 'b',\n",
    "           figsize=(20,5)))"
   ]
  },
  {
   "cell_type": "code",
   "execution_count": 60,
   "metadata": {},
   "outputs": [
    {
     "data": {
      "text/plain": [
       "<matplotlib.axes._subplots.AxesSubplot at 0x12ddd7d10>"
      ]
     },
     "execution_count": 60,
     "metadata": {},
     "output_type": "execute_result"
    },
    {
     "data": {
      "image/png": "[encoded data removed]",
      "text/plain": [
       "<Figure size 720x360 with 1 Axes>"
      ]
     },
     "metadata": {},
     "output_type": "display_data"
    }
   ],
   "source": [
    "(info_df['crsp_portno']\n",
    "     .groupby([\n",
    "         info_df['cap_class'],\n",
    "     ])\n",
    "     .count()\n",
    "     .plot(kind='barh',\n",
    "           color = 'b',\n",
    "           figsize=(10,5)))"
   ]
  },
  {
   "cell_type": "code",
   "execution_count": 61,
   "metadata": {},
   "outputs": [
    {
     "data": {
      "text/plain": [
       "<matplotlib.axes._subplots.AxesSubplot at 0x12e581550>"
      ]
     },
     "execution_count": 61,
     "metadata": {},
     "output_type": "execute_result"
    },
    {
     "data": {
      "image/png": "[encoded data removed]",
      "text/plain": [
       "<Figure size 720x360 with 1 Axes>"
      ]
     },
     "metadata": {},
     "output_type": "display_data"
    }
   ],
   "source": [
    "(info_df['crsp_portno']\n",
    "     .groupby([\n",
    "         info_df['style_class'],\n",
    "     ])\n",
    "     .count()\n",
    "     .plot(kind='barh',\n",
    "           color = 'b',\n",
    "           figsize=(10,5)))"
   ]
  },
  {
   "cell_type": "markdown",
   "metadata": {},
   "source": [
    "## How often do lipper_classes change?\n"
   ]
  },
  {
   "cell_type": "code",
   "execution_count": 62,
   "metadata": {},
   "outputs": [
    {
     "data": {
      "image/png": "[encoded data removed]",
      "text/plain": [
       "<Figure size 1296x360 with 1 Axes>"
      ]
     },
     "metadata": {},
     "output_type": "display_data"
    }
   ],
   "source": [
    "obj_per_portno = info_df[['crsp_portno','lipper_class']]\n",
    "ax = (obj_per_portno['lipper_class']\n",
    "    .groupby([\n",
    "        obj_per_portno[\"crsp_portno\"]\n",
    "    ])\n",
    "    .nunique()\n",
    "    .value_counts()\n",
    "    .sort_values()\n",
    "    .plot(kind='barh',\n",
    "          color = 'b',\n",
    "          figsize=(18,5),\n",
    "          title='Number of unique objective codes per crsp_portno')\n",
    ")"
   ]
  },
  {
   "cell_type": "code",
   "execution_count": 63,
   "metadata": {},
   "outputs": [
    {
     "data": {
      "text/html": [
       "<div>\n",
       "<style scoped>\n",
       "    .dataframe tbody tr th:only-of-type {\n",
       "        vertical-align: middle;\n",
       "    }\n",
       "\n",
       "    .dataframe tbody tr th {\n",
       "        vertical-align: top;\n",
       "    }\n",
       "\n",
       "    .dataframe thead th {\n",
       "        text-align: right;\n",
       "    }\n",
       "</style>\n",
       "<table border=\"1\" class=\"dataframe\">\n",
       "  <thead>\n",
       "    <tr style=\"text-align: right;\">\n",
       "      <th>lag_lipper_class</th>\n",
       "      <th>EIEI</th>\n",
       "      <th>LCVE</th>\n",
       "      <th>LCCE</th>\n",
       "      <th>LCGE</th>\n",
       "      <th>MLVE</th>\n",
       "      <th>MLCE</th>\n",
       "      <th>MLGE</th>\n",
       "      <th>MCVE</th>\n",
       "      <th>MCCE</th>\n",
       "      <th>MCGE</th>\n",
       "      <th>SCVE</th>\n",
       "      <th>SCCE</th>\n",
       "      <th>SCGE</th>\n",
       "    </tr>\n",
       "    <tr>\n",
       "      <th>lipper_class</th>\n",
       "      <th></th>\n",
       "      <th></th>\n",
       "      <th></th>\n",
       "      <th></th>\n",
       "      <th></th>\n",
       "      <th></th>\n",
       "      <th></th>\n",
       "      <th></th>\n",
       "      <th></th>\n",
       "      <th></th>\n",
       "      <th></th>\n",
       "      <th></th>\n",
       "      <th></th>\n",
       "    </tr>\n",
       "  </thead>\n",
       "  <tbody>\n",
       "    <tr>\n",
       "      <th>EIEI</th>\n",
       "      <td>5.71</td>\n",
       "      <td>0.03</td>\n",
       "      <td>0.02</td>\n",
       "      <td>0.01</td>\n",
       "      <td>0.05</td>\n",
       "      <td>0.00</td>\n",
       "      <td>0.01</td>\n",
       "      <td>0.01</td>\n",
       "      <td>0.01</td>\n",
       "      <td>0.01</td>\n",
       "      <td>0.01</td>\n",
       "      <td>0.00</td>\n",
       "      <td>0.00</td>\n",
       "    </tr>\n",
       "    <tr>\n",
       "      <th>LCVE</th>\n",
       "      <td>0.05</td>\n",
       "      <td>6.39</td>\n",
       "      <td>0.56</td>\n",
       "      <td>0.01</td>\n",
       "      <td>0.20</td>\n",
       "      <td>0.10</td>\n",
       "      <td>0.01</td>\n",
       "      <td>0.00</td>\n",
       "      <td>0.00</td>\n",
       "      <td>0.00</td>\n",
       "      <td>0.00</td>\n",
       "      <td>0.00</td>\n",
       "      <td>0.00</td>\n",
       "    </tr>\n",
       "    <tr>\n",
       "      <th>LCCE</th>\n",
       "      <td>0.02</td>\n",
       "      <td>0.31</td>\n",
       "      <td>12.09</td>\n",
       "      <td>0.29</td>\n",
       "      <td>0.04</td>\n",
       "      <td>0.48</td>\n",
       "      <td>0.09</td>\n",
       "      <td>0.00</td>\n",
       "      <td>0.00</td>\n",
       "      <td>0.00</td>\n",
       "      <td>0.00</td>\n",
       "      <td>0.00</td>\n",
       "      <td>0.00</td>\n",
       "    </tr>\n",
       "    <tr>\n",
       "      <th>LCGE</th>\n",
       "      <td>0.00</td>\n",
       "      <td>0.00</td>\n",
       "      <td>0.24</td>\n",
       "      <td>10.94</td>\n",
       "      <td>0.00</td>\n",
       "      <td>0.06</td>\n",
       "      <td>0.45</td>\n",
       "      <td>0.00</td>\n",
       "      <td>0.01</td>\n",
       "      <td>0.00</td>\n",
       "      <td>0.00</td>\n",
       "      <td>0.00</td>\n",
       "      <td>0.00</td>\n",
       "    </tr>\n",
       "    <tr>\n",
       "      <th>MLVE</th>\n",
       "      <td>0.00</td>\n",
       "      <td>0.41</td>\n",
       "      <td>0.07</td>\n",
       "      <td>0.01</td>\n",
       "      <td>3.63</td>\n",
       "      <td>0.30</td>\n",
       "      <td>0.01</td>\n",
       "      <td>0.10</td>\n",
       "      <td>0.04</td>\n",
       "      <td>0.00</td>\n",
       "      <td>0.00</td>\n",
       "      <td>0.00</td>\n",
       "      <td>0.00</td>\n",
       "    </tr>\n",
       "    <tr>\n",
       "      <th>MLCE</th>\n",
       "      <td>0.01</td>\n",
       "      <td>0.07</td>\n",
       "      <td>0.60</td>\n",
       "      <td>0.11</td>\n",
       "      <td>0.27</td>\n",
       "      <td>9.11</td>\n",
       "      <td>0.33</td>\n",
       "      <td>0.05</td>\n",
       "      <td>0.21</td>\n",
       "      <td>0.04</td>\n",
       "      <td>0.01</td>\n",
       "      <td>0.02</td>\n",
       "      <td>0.00</td>\n",
       "    </tr>\n",
       "    <tr>\n",
       "      <th>MLGE</th>\n",
       "      <td>0.00</td>\n",
       "      <td>0.00</td>\n",
       "      <td>0.02</td>\n",
       "      <td>0.52</td>\n",
       "      <td>0.04</td>\n",
       "      <td>0.38</td>\n",
       "      <td>6.83</td>\n",
       "      <td>0.00</td>\n",
       "      <td>0.02</td>\n",
       "      <td>0.35</td>\n",
       "      <td>0.00</td>\n",
       "      <td>0.00</td>\n",
       "      <td>0.00</td>\n",
       "    </tr>\n",
       "    <tr>\n",
       "      <th>MCVE</th>\n",
       "      <td>0.01</td>\n",
       "      <td>0.00</td>\n",
       "      <td>0.00</td>\n",
       "      <td>0.00</td>\n",
       "      <td>0.09</td>\n",
       "      <td>0.04</td>\n",
       "      <td>0.00</td>\n",
       "      <td>2.18</td>\n",
       "      <td>0.27</td>\n",
       "      <td>0.01</td>\n",
       "      <td>0.07</td>\n",
       "      <td>0.02</td>\n",
       "      <td>0.00</td>\n",
       "    </tr>\n",
       "    <tr>\n",
       "      <th>MCCE</th>\n",
       "      <td>0.00</td>\n",
       "      <td>0.00</td>\n",
       "      <td>0.01</td>\n",
       "      <td>0.00</td>\n",
       "      <td>0.05</td>\n",
       "      <td>0.24</td>\n",
       "      <td>0.04</td>\n",
       "      <td>0.33</td>\n",
       "      <td>4.23</td>\n",
       "      <td>0.17</td>\n",
       "      <td>0.01</td>\n",
       "      <td>0.11</td>\n",
       "      <td>0.01</td>\n",
       "    </tr>\n",
       "    <tr>\n",
       "      <th>MCGE</th>\n",
       "      <td>0.00</td>\n",
       "      <td>0.00</td>\n",
       "      <td>0.00</td>\n",
       "      <td>0.00</td>\n",
       "      <td>0.00</td>\n",
       "      <td>0.01</td>\n",
       "      <td>0.29</td>\n",
       "      <td>0.00</td>\n",
       "      <td>0.22</td>\n",
       "      <td>6.38</td>\n",
       "      <td>0.00</td>\n",
       "      <td>0.01</td>\n",
       "      <td>0.11</td>\n",
       "    </tr>\n",
       "    <tr>\n",
       "      <th>SCVE</th>\n",
       "      <td>0.01</td>\n",
       "      <td>0.00</td>\n",
       "      <td>0.00</td>\n",
       "      <td>0.00</td>\n",
       "      <td>0.00</td>\n",
       "      <td>0.00</td>\n",
       "      <td>0.00</td>\n",
       "      <td>0.06</td>\n",
       "      <td>0.01</td>\n",
       "      <td>0.00</td>\n",
       "      <td>3.80</td>\n",
       "      <td>0.46</td>\n",
       "      <td>0.00</td>\n",
       "    </tr>\n",
       "    <tr>\n",
       "      <th>SCCE</th>\n",
       "      <td>0.01</td>\n",
       "      <td>0.00</td>\n",
       "      <td>0.00</td>\n",
       "      <td>0.00</td>\n",
       "      <td>0.01</td>\n",
       "      <td>0.01</td>\n",
       "      <td>0.01</td>\n",
       "      <td>0.07</td>\n",
       "      <td>0.15</td>\n",
       "      <td>0.04</td>\n",
       "      <td>0.59</td>\n",
       "      <td>9.36</td>\n",
       "      <td>0.27</td>\n",
       "    </tr>\n",
       "    <tr>\n",
       "      <th>SCGE</th>\n",
       "      <td>0.00</td>\n",
       "      <td>0.00</td>\n",
       "      <td>0.00</td>\n",
       "      <td>0.00</td>\n",
       "      <td>0.00</td>\n",
       "      <td>0.01</td>\n",
       "      <td>0.01</td>\n",
       "      <td>0.00</td>\n",
       "      <td>0.00</td>\n",
       "      <td>0.12</td>\n",
       "      <td>0.00</td>\n",
       "      <td>0.28</td>\n",
       "      <td>8.11</td>\n",
       "    </tr>\n",
       "  </tbody>\n",
       "</table>\n",
       "</div>"
      ],
      "text/plain": [
       "lag_lipper_class  EIEI  LCVE   LCCE   LCGE  MLVE  MLCE  MLGE  MCVE  MCCE  \\\n",
       "lipper_class                                                               \n",
       "EIEI              5.71  0.03   0.02   0.01  0.05  0.00  0.01  0.01  0.01   \n",
       "LCVE              0.05  6.39   0.56   0.01  0.20  0.10  0.01  0.00  0.00   \n",
       "LCCE              0.02  0.31  12.09   0.29  0.04  0.48  0.09  0.00  0.00   \n",
       "LCGE              0.00  0.00   0.24  10.94  0.00  0.06  0.45  0.00  0.01   \n",
       "MLVE              0.00  0.41   0.07   0.01  3.63  0.30  0.01  0.10  0.04   \n",
       "MLCE              0.01  0.07   0.60   0.11  0.27  9.11  0.33  0.05  0.21   \n",
       "MLGE              0.00  0.00   0.02   0.52  0.04  0.38  6.83  0.00  0.02   \n",
       "MCVE              0.01  0.00   0.00   0.00  0.09  0.04  0.00  2.18  0.27   \n",
       "MCCE              0.00  0.00   0.01   0.00  0.05  0.24  0.04  0.33  4.23   \n",
       "MCGE              0.00  0.00   0.00   0.00  0.00  0.01  0.29  0.00  0.22   \n",
       "SCVE              0.01  0.00   0.00   0.00  0.00  0.00  0.00  0.06  0.01   \n",
       "SCCE              0.01  0.00   0.00   0.00  0.01  0.01  0.01  0.07  0.15   \n",
       "SCGE              0.00  0.00   0.00   0.00  0.00  0.01  0.01  0.00  0.00   \n",
       "\n",
       "lag_lipper_class  MCGE  SCVE  SCCE  SCGE  \n",
       "lipper_class                              \n",
       "EIEI              0.01  0.01  0.00  0.00  \n",
       "LCVE              0.00  0.00  0.00  0.00  \n",
       "LCCE              0.00  0.00  0.00  0.00  \n",
       "LCGE              0.00  0.00  0.00  0.00  \n",
       "MLVE              0.00  0.00  0.00  0.00  \n",
       "MLCE              0.04  0.01  0.02  0.00  \n",
       "MLGE              0.35  0.00  0.00  0.00  \n",
       "MCVE              0.01  0.07  0.02  0.00  \n",
       "MCCE              0.17  0.01  0.11  0.01  \n",
       "MCGE              6.38  0.00  0.01  0.11  \n",
       "SCVE              0.00  3.80  0.46  0.00  \n",
       "SCCE              0.04  0.59  9.36  0.27  \n",
       "SCGE              0.12  0.00  0.28  8.11  "
      ]
     },
     "execution_count": 63,
     "metadata": {},
     "output_type": "execute_result"
    }
   ],
   "source": [
    "lagged_class = info_df[['crsp_portno','report_dt','lipper_class']]\n",
    "\n",
    "lagged_class = lagged_class.assign(lag_lipper_class = lagged_class.lipper_class.shift())\n",
    "lagged_class = lagged_class.dropna()\n",
    "\n",
    "mask = lagged_class.groupby(by = 'crsp_portno').head(1).index\n",
    "lagged_class = lagged_class[~lagged_class.index.isin(mask)]\n",
    "\n",
    "round(pd.crosstab(lagged_class.lipper_class, lagged_class.lag_lipper_class, normalize = 'all') * 100,2)"
   ]
  },
  {
   "cell_type": "code",
   "execution_count": 64,
   "metadata": {},
   "outputs": [
    {
     "data": {
      "text/html": [
       "<div>\n",
       "<style scoped>\n",
       "    .dataframe tbody tr th:only-of-type {\n",
       "        vertical-align: middle;\n",
       "    }\n",
       "\n",
       "    .dataframe tbody tr th {\n",
       "        vertical-align: top;\n",
       "    }\n",
       "\n",
       "    .dataframe thead th {\n",
       "        text-align: right;\n",
       "    }\n",
       "</style>\n",
       "<table border=\"1\" class=\"dataframe\">\n",
       "  <thead>\n",
       "    <tr style=\"text-align: right;\">\n",
       "      <th>lag_style_class</th>\n",
       "      <th>E</th>\n",
       "      <th>V</th>\n",
       "      <th>C</th>\n",
       "      <th>G</th>\n",
       "    </tr>\n",
       "    <tr>\n",
       "      <th>style_class</th>\n",
       "      <th></th>\n",
       "      <th></th>\n",
       "      <th></th>\n",
       "      <th></th>\n",
       "    </tr>\n",
       "  </thead>\n",
       "  <tbody>\n",
       "    <tr>\n",
       "      <th>E</th>\n",
       "      <td>963</td>\n",
       "      <td>15</td>\n",
       "      <td>5</td>\n",
       "      <td>5</td>\n",
       "    </tr>\n",
       "    <tr>\n",
       "      <th>V</th>\n",
       "      <td>11</td>\n",
       "      <td>2858</td>\n",
       "      <td>316</td>\n",
       "      <td>6</td>\n",
       "    </tr>\n",
       "    <tr>\n",
       "      <th>C</th>\n",
       "      <td>6</td>\n",
       "      <td>305</td>\n",
       "      <td>6182</td>\n",
       "      <td>232</td>\n",
       "    </tr>\n",
       "    <tr>\n",
       "      <th>G</th>\n",
       "      <td>0</td>\n",
       "      <td>6</td>\n",
       "      <td>211</td>\n",
       "      <td>5757</td>\n",
       "    </tr>\n",
       "  </tbody>\n",
       "</table>\n",
       "</div>"
      ],
      "text/plain": [
       "lag_style_class    E     V     C     G\n",
       "style_class                           \n",
       "E                963    15     5     5\n",
       "V                 11  2858   316     6\n",
       "C                  6   305  6182   232\n",
       "G                  0     6   211  5757"
      ]
     },
     "execution_count": 64,
     "metadata": {},
     "output_type": "execute_result"
    }
   ],
   "source": [
    "lagged_class = info_df[['crsp_portno','report_dt','style_class']]\n",
    "\n",
    "lagged_class = lagged_class.assign(lag_style_class = lagged_class.style_class.shift())\n",
    "lagged_class = lagged_class.dropna()\n",
    "\n",
    "mask = lagged_class.groupby(by = 'crsp_portno').head(1).index\n",
    "lagged_class = lagged_class[~lagged_class.index.isin(mask)]\n",
    "\n",
    "pd.crosstab(lagged_class.style_class, lagged_class.lag_style_class)"
   ]
  },
  {
   "cell_type": "code",
   "execution_count": 65,
   "metadata": {},
   "outputs": [
    {
     "data": {
      "text/html": [
       "<div>\n",
       "<style scoped>\n",
       "    .dataframe tbody tr th:only-of-type {\n",
       "        vertical-align: middle;\n",
       "    }\n",
       "\n",
       "    .dataframe tbody tr th {\n",
       "        vertical-align: top;\n",
       "    }\n",
       "\n",
       "    .dataframe thead th {\n",
       "        text-align: right;\n",
       "    }\n",
       "</style>\n",
       "<table border=\"1\" class=\"dataframe\">\n",
       "  <thead>\n",
       "    <tr style=\"text-align: right;\">\n",
       "      <th>lag_cap_class</th>\n",
       "      <th>SC</th>\n",
       "      <th>MC</th>\n",
       "      <th>ML</th>\n",
       "      <th>EI</th>\n",
       "      <th>LC</th>\n",
       "      <th>All</th>\n",
       "    </tr>\n",
       "    <tr>\n",
       "      <th>cap_class</th>\n",
       "      <th></th>\n",
       "      <th></th>\n",
       "      <th></th>\n",
       "      <th></th>\n",
       "      <th></th>\n",
       "      <th></th>\n",
       "    </tr>\n",
       "  </thead>\n",
       "  <tbody>\n",
       "    <tr>\n",
       "      <th>SC</th>\n",
       "      <td>22.88</td>\n",
       "      <td>0.44</td>\n",
       "      <td>0.05</td>\n",
       "      <td>0.01</td>\n",
       "      <td>0.00</td>\n",
       "      <td>23.38</td>\n",
       "    </tr>\n",
       "    <tr>\n",
       "      <th>MC</th>\n",
       "      <td>0.33</td>\n",
       "      <td>13.79</td>\n",
       "      <td>0.76</td>\n",
       "      <td>0.01</td>\n",
       "      <td>0.01</td>\n",
       "      <td>14.89</td>\n",
       "    </tr>\n",
       "    <tr>\n",
       "      <th>ML</th>\n",
       "      <td>0.03</td>\n",
       "      <td>0.81</td>\n",
       "      <td>20.90</td>\n",
       "      <td>0.01</td>\n",
       "      <td>1.80</td>\n",
       "      <td>23.54</td>\n",
       "    </tr>\n",
       "    <tr>\n",
       "      <th>EI</th>\n",
       "      <td>0.01</td>\n",
       "      <td>0.02</td>\n",
       "      <td>0.05</td>\n",
       "      <td>5.71</td>\n",
       "      <td>0.07</td>\n",
       "      <td>5.85</td>\n",
       "    </tr>\n",
       "    <tr>\n",
       "      <th>LC</th>\n",
       "      <td>0.00</td>\n",
       "      <td>0.01</td>\n",
       "      <td>1.42</td>\n",
       "      <td>0.08</td>\n",
       "      <td>30.84</td>\n",
       "      <td>32.34</td>\n",
       "    </tr>\n",
       "    <tr>\n",
       "      <th>All</th>\n",
       "      <td>23.24</td>\n",
       "      <td>15.07</td>\n",
       "      <td>23.18</td>\n",
       "      <td>5.81</td>\n",
       "      <td>32.71</td>\n",
       "      <td>100.00</td>\n",
       "    </tr>\n",
       "  </tbody>\n",
       "</table>\n",
       "</div>"
      ],
      "text/plain": [
       "lag_cap_class     SC     MC     ML    EI     LC     All\n",
       "cap_class                                              \n",
       "SC             22.88   0.44   0.05  0.01   0.00   23.38\n",
       "MC              0.33  13.79   0.76  0.01   0.01   14.89\n",
       "ML              0.03   0.81  20.90  0.01   1.80   23.54\n",
       "EI              0.01   0.02   0.05  5.71   0.07    5.85\n",
       "LC              0.00   0.01   1.42  0.08  30.84   32.34\n",
       "All            23.24  15.07  23.18  5.81  32.71  100.00"
      ]
     },
     "execution_count": 65,
     "metadata": {},
     "output_type": "execute_result"
    }
   ],
   "source": [
    "lagged_class = info_df[['crsp_portno','report_dt','cap_class']]\n",
    "\n",
    "lagged_class = lagged_class.assign(lag_cap_class = lagged_class.cap_class.shift())\n",
    "lagged_class = lagged_class.dropna()\n",
    "\n",
    "mask = lagged_class.groupby(by = 'crsp_portno').head(1).index\n",
    "lagged_class = lagged_class[~lagged_class.index.isin(mask)]\n",
    "\n",
    "round(pd.crosstab(lagged_class.cap_class, lagged_class.lag_cap_class, margins = True, normalize= 'all') *100,2)"
   ]
  },
  {
   "cell_type": "code",
   "execution_count": 66,
   "metadata": {},
   "outputs": [
    {
     "data": {
      "text/html": [
       "<div>\n",
       "<style scoped>\n",
       "    .dataframe tbody tr th:only-of-type {\n",
       "        vertical-align: middle;\n",
       "    }\n",
       "\n",
       "    .dataframe tbody tr th {\n",
       "        vertical-align: top;\n",
       "    }\n",
       "\n",
       "    .dataframe thead th {\n",
       "        text-align: right;\n",
       "    }\n",
       "</style>\n",
       "<table border=\"1\" class=\"dataframe\">\n",
       "  <thead>\n",
       "    <tr style=\"text-align: right;\">\n",
       "      <th>lag_cap_class</th>\n",
       "      <th>SC</th>\n",
       "      <th>MC</th>\n",
       "      <th>ML</th>\n",
       "      <th>EI</th>\n",
       "      <th>LC</th>\n",
       "      <th>All</th>\n",
       "    </tr>\n",
       "    <tr>\n",
       "      <th>cap_class</th>\n",
       "      <th></th>\n",
       "      <th></th>\n",
       "      <th></th>\n",
       "      <th></th>\n",
       "      <th></th>\n",
       "      <th></th>\n",
       "    </tr>\n",
       "  </thead>\n",
       "  <tbody>\n",
       "    <tr>\n",
       "      <th>SC</th>\n",
       "      <td>3861</td>\n",
       "      <td>74</td>\n",
       "      <td>9</td>\n",
       "      <td>2</td>\n",
       "      <td>0</td>\n",
       "      <td>3946</td>\n",
       "    </tr>\n",
       "    <tr>\n",
       "      <th>MC</th>\n",
       "      <td>56</td>\n",
       "      <td>2327</td>\n",
       "      <td>128</td>\n",
       "      <td>1</td>\n",
       "      <td>1</td>\n",
       "      <td>2513</td>\n",
       "    </tr>\n",
       "    <tr>\n",
       "      <th>ML</th>\n",
       "      <td>5</td>\n",
       "      <td>137</td>\n",
       "      <td>3527</td>\n",
       "      <td>1</td>\n",
       "      <td>303</td>\n",
       "      <td>3973</td>\n",
       "    </tr>\n",
       "    <tr>\n",
       "      <th>EI</th>\n",
       "      <td>1</td>\n",
       "      <td>4</td>\n",
       "      <td>9</td>\n",
       "      <td>963</td>\n",
       "      <td>11</td>\n",
       "      <td>988</td>\n",
       "    </tr>\n",
       "    <tr>\n",
       "      <th>LC</th>\n",
       "      <td>0</td>\n",
       "      <td>1</td>\n",
       "      <td>239</td>\n",
       "      <td>13</td>\n",
       "      <td>5205</td>\n",
       "      <td>5458</td>\n",
       "    </tr>\n",
       "    <tr>\n",
       "      <th>All</th>\n",
       "      <td>3923</td>\n",
       "      <td>2543</td>\n",
       "      <td>3912</td>\n",
       "      <td>980</td>\n",
       "      <td>5520</td>\n",
       "      <td>16878</td>\n",
       "    </tr>\n",
       "  </tbody>\n",
       "</table>\n",
       "</div>"
      ],
      "text/plain": [
       "lag_cap_class    SC    MC    ML   EI    LC    All\n",
       "cap_class                                        \n",
       "SC             3861    74     9    2     0   3946\n",
       "MC               56  2327   128    1     1   2513\n",
       "ML                5   137  3527    1   303   3973\n",
       "EI                1     4     9  963    11    988\n",
       "LC                0     1   239   13  5205   5458\n",
       "All            3923  2543  3912  980  5520  16878"
      ]
     },
     "execution_count": 66,
     "metadata": {},
     "output_type": "execute_result"
    }
   ],
   "source": [
    "pd.crosstab(lagged_class.cap_class, lagged_class.lag_cap_class, margins = True)"
   ]
  },
  {
   "cell_type": "markdown",
   "metadata": {},
   "source": [
    "### Fund names"
   ]
  }
 ],
 "metadata": {
  "hide_input": false,
  "kernelspec": {
   "display_name": "MT",
   "language": "python",
   "name": "mt"
  },
  "language_info": {
   "codemirror_mode": {
    "name": "ipython",
    "version": 3
   },
   "file_extension": ".py",
   "mimetype": "text/x-python",
   "name": "python",
   "nbconvert_exporter": "python",
   "pygments_lexer": "ipython3",
   "version": "3.7.4"
  },
  "pycharm": {
   "stem_cell": {
    "cell_type": "raw",
    "metadata": {
     "collapsed": false
    },
    "source": []
   }
  },
  "toc": {
   "base_numbering": 1,
   "nav_menu": {},
   "number_sections": true,
   "sideBar": true,
   "skip_h1_title": false,
   "title_cell": "Table of Contents",
   "title_sidebar": "Contents",
   "toc_cell": true,
   "toc_position": {},
   "toc_section_display": true,
   "toc_window_display": false
  }
 },
 "nbformat": 4,
 "nbformat_minor": 2
}
