{
 "cells": [
  {
   "cell_type": "markdown",
   "metadata": {
    "toc": true
   },
   "source": [
    "<h1>Table of Contents<span class=\"tocSkip\"></span></h1>\n",
    "<div class=\"toc\"><ul class=\"toc-item\"><li><ul class=\"toc-item\"><li><span><a href=\"#Load-Sparse-matrix\" data-toc-modified-id=\"Load-Sparse-matrix-0.1\"><span class=\"toc-item-num\">0.1&nbsp;&nbsp;</span>Load Sparse matrix</a></span></li><li><span><a href=\"#Scale-data\" data-toc-modified-id=\"Scale-data-0.2\"><span class=\"toc-item-num\">0.2&nbsp;&nbsp;</span>Scale data</a></span></li></ul></li><li><span><a href=\"#Models\" data-toc-modified-id=\"Models-1\"><span class=\"toc-item-num\">1&nbsp;&nbsp;</span>Models</a></span><ul class=\"toc-item\"><li><span><a href=\"#kMeans\" data-toc-modified-id=\"kMeans-1.1\"><span class=\"toc-item-num\">1.1&nbsp;&nbsp;</span>kMeans</a></span></li><li><span><a href=\"#PassiveAggressiveClassifier\" data-toc-modified-id=\"PassiveAggressiveClassifier-1.2\"><span class=\"toc-item-num\">1.2&nbsp;&nbsp;</span>PassiveAggressiveClassifier</a></span></li><li><span><a href=\"#Logistic-regression\" data-toc-modified-id=\"Logistic-regression-1.3\"><span class=\"toc-item-num\">1.3&nbsp;&nbsp;</span>Logistic regression</a></span></li><li><span><a href=\"#Random-Forest\" data-toc-modified-id=\"Random-Forest-1.4\"><span class=\"toc-item-num\">1.4&nbsp;&nbsp;</span>Random Forest</a></span></li><li><span><a href=\"#SGD\" data-toc-modified-id=\"SGD-1.5\"><span class=\"toc-item-num\">1.5&nbsp;&nbsp;</span>SGD</a></span></li></ul></li><li><span><a href=\"#Analyse-models\" data-toc-modified-id=\"Analyse-models-2\"><span class=\"toc-item-num\">2&nbsp;&nbsp;</span>Analyse models</a></span></li><li><span><a href=\"#CV-Grid-search\" data-toc-modified-id=\"CV-Grid-search-3\"><span class=\"toc-item-num\">3&nbsp;&nbsp;</span>CV Grid search</a></span></li><li><span><a href=\"#ToDo:-CV-not-stratified\" data-toc-modified-id=\"ToDo:-CV-not-stratified-4\"><span class=\"toc-item-num\">4&nbsp;&nbsp;</span>ToDo: CV not stratified</a></span><ul class=\"toc-item\"><li><span><a href=\"#TruncatedSVD\" data-toc-modified-id=\"TruncatedSVD-4.1\"><span class=\"toc-item-num\">4.1&nbsp;&nbsp;</span>TruncatedSVD</a></span></li></ul></li><li><span><a href=\"#Visual-analysis-of-sample-data\" data-toc-modified-id=\"Visual-analysis-of-sample-data-5\"><span class=\"toc-item-num\">5&nbsp;&nbsp;</span>Visual analysis of sample data</a></span></li></ul></div>"
   ]
  },
  {
   "cell_type": "code",
   "execution_count": null,
   "metadata": {},
   "outputs": [],
   "source": [
    "import feather\n",
    "\n",
    "import numpy as np\n",
    "import pandas as pd\n",
    "import seaborn as sns\n",
    "import matplotlib.pyplot as plt\n",
    "\n",
    "from scipy import sparse"
   ]
  },
  {
   "cell_type": "code",
   "execution_count": null,
   "metadata": {},
   "outputs": [],
   "source": [
    "from sklearn.linear_model import PassiveAggressiveClassifier, SGDClassifier\n",
    "from sklearn.linear_model import LogisticRegression, LogisticRegressionCV\n",
    "\n",
    "from sklearn.naive_bayes import ComplementNB, MultinomialNB\n",
    "\n",
    "from sklearn.cluster import KMeans\n",
    "\n",
    "from sklearn.ensemble import RandomForestClassifier\n",
    "\n",
    "from sklearn.preprocessing import StandardScaler, Normalizer, QuantileTransformer\n",
    "\n",
    "from sklearn.model_selection import train_test_split, cross_val_score, GridSearchCV, GroupKFold\n",
    "\n",
    "from sklearn.metrics import cohen_kappa_score, make_scorer, confusion_matrix, classification_report, SCORERS\n",
    "\n",
    "from sklearn.utils import shuffle\n",
    "\n",
    "from sklearn.decomposition import TruncatedSVD\n",
    "\n",
    "from scipy.stats import describe"
   ]
  },
  {
   "cell_type": "code",
   "execution_count": null,
   "metadata": {},
   "outputs": [],
   "source": [
    "from sklearn.metrics import make_scorer\n",
    "from sklearn.metrics import accuracy_score"
   ]
  },
  {
   "cell_type": "markdown",
   "metadata": {},
   "source": [
    "## Load Sparse matrix"
   ]
  },
  {
   "cell_type": "code",
   "execution_count": null,
   "metadata": {},
   "outputs": [],
   "source": [
    "path = '../data/final/info_train.feather'\n",
    "info_train = feather.read_dataframe(path)\n",
    "\n",
    "path = '../data/final/info_test.feather'\n",
    "info_test = feather.read_dataframe(path)\n",
    "\n",
    "path = '../data/final/sparse_matrix_train.npz'\n",
    "sparse_matrix_train = sparse.load_npz(path)\n",
    "\n",
    "path = '../data/final/sparse_matrix_test.npz'\n",
    "sparse_matrix_test = sparse.load_npz(path)\n",
    "\n",
    "X_train = sparse_matrix_train\n",
    "X_test = sparse_matrix_test\n",
    "\n",
    "y_train = list(info_train['s_crsp_obj_cd'])\n",
    "y_test = list(info_test['s_crsp_obj_cd'])\n",
    "\n",
    "data_train = np.array(X_train.sum(1)).flatten()\n",
    "data_test = np.array(X_test.sum(1)).flatten()\n",
    "\n",
    "TOL = 300\n",
    "\n",
    "index_train = np.abs(data_train) < TOL\n",
    "index_test = np.abs(data_test) < TOL\n",
    "\n",
    "X_train = X_train[index_train.T]\n",
    "X_test = X_test[index_test.T]\n",
    "\n",
    "y_train = list(d for d, s in zip(y_train, index_train) if s)\n",
    "y_test = list(d for d, s in zip(y_test, index_test) if s)\n",
    "\n",
    "info_train = info_train[index_train.T]\n",
    "info_test = info_test[index_test.T]\n",
    "\n",
    "X_total = sparse.vstack((X_train,X_test))\n",
    "y_total = y_train + y_test\n",
    "\n",
    "groups = info_train.groupby(['port_no']).ngroup()\n",
    "\n",
    "print('Rows training: \\n{:,} rows info\\n{:,} rows data'.format(len(y_train),X_train.shape[0]))\n",
    "print('')\n",
    "print('Rows testing: \\n{:,} rows info\\n{:,} rows data'.format(len(y_test),X_test.shape[0]))\n",
    "print('')\n",
    "print('Total rows: {:,}'.format(X_train.shape[0] + X_test.shape[0]))"
   ]
  },
  {
   "cell_type": "markdown",
   "metadata": {},
   "source": [
    "## Scale data"
   ]
  },
  {
   "cell_type": "code",
   "execution_count": null,
   "metadata": {},
   "outputs": [],
   "source": [
    "scaler = StandardScaler(with_mean=False)\n",
    "\n",
    "# Fit on training set only.\n",
    "scaler.fit(X_train)\n",
    "\n",
    "# Apply transform to both the training set and the test set.\n",
    "X_train = scaler.transform(X_train)\n",
    "X_test = scaler.transform(X_test)"
   ]
  },
  {
   "cell_type": "markdown",
   "metadata": {},
   "source": [
    "# Models"
   ]
  },
  {
   "cell_type": "markdown",
   "metadata": {},
   "source": [
    "## kMeans"
   ]
  },
  {
   "cell_type": "code",
   "execution_count": null,
   "metadata": {},
   "outputs": [],
   "source": [
    "%%time\n",
    "print('Start kMeans...')\n",
    "kmeans = KMeans(n_clusters=5,\n",
    "                n_jobs=-1,\n",
    "                random_state=0).fit(X_test)"
   ]
  },
  {
   "cell_type": "code",
   "execution_count": null,
   "metadata": {},
   "outputs": [],
   "source": [
    "kmeans.score()"
   ]
  },
  {
   "cell_type": "code",
   "execution_count": null,
   "metadata": {},
   "outputs": [],
   "source": [
    "PAC_pred = PAC.predict(X_test)\n",
    "print('PAC kappa score',cohen_kappa_score(PAC_pred, y_test))\n",
    "print('PAC score',PAC.score(X_test, y_test))"
   ]
  },
  {
   "cell_type": "markdown",
   "metadata": {},
   "source": [
    "## PassiveAggressiveClassifier"
   ]
  },
  {
   "cell_type": "code",
   "execution_count": null,
   "metadata": {},
   "outputs": [],
   "source": [
    "%%time\n",
    "print('Start PassiveAggressiveClassifier...')\n",
    "PAC = PassiveAggressiveClassifier(C = 1e-7,\n",
    "                                  tol = 1e-5,\n",
    "                                  n_iter_no_change=100,\n",
    "                                  n_jobs = -1,\n",
    "                                  early_stopping = True\n",
    "                                  ).fit(X_train, y_train)"
   ]
  },
  {
   "cell_type": "code",
   "execution_count": null,
   "metadata": {},
   "outputs": [],
   "source": [
    "PAC_pred = PAC.predict(X_test)\n",
    "print('PAC kappa score',cohen_kappa_score(PAC_pred, y_test))\n",
    "print('PAC score',PAC.score(X_test, y_test))"
   ]
  },
  {
   "cell_type": "markdown",
   "metadata": {},
   "source": [
    "## Logistic regression"
   ]
  },
  {
   "cell_type": "code",
   "execution_count": null,
   "metadata": {},
   "outputs": [],
   "source": [
    "%%time\n",
    "print('Start logistic regression...')\n",
    "LR_1 = LogisticRegression(solver = 'saga',\n",
    "                        multi_class = 'multinomial',\n",
    "                        penalty = 'l2',\n",
    "                        n_jobs = -1\n",
    "                        ).fit(X_train, y_train)"
   ]
  },
  {
   "cell_type": "code",
   "execution_count": null,
   "metadata": {},
   "outputs": [],
   "source": [
    "LR_pred = LR_1.predict(X_test)\n",
    "print('LR kappa score',cohen_kappa_score(LR_pred, y_test))\n",
    "print('LR score',LR_1.score(X_test, y_test))"
   ]
  },
  {
   "cell_type": "markdown",
   "metadata": {},
   "source": [
    "## Random Forest"
   ]
  },
  {
   "cell_type": "code",
   "execution_count": null,
   "metadata": {},
   "outputs": [],
   "source": [
    "%%time\n",
    "print('Start Random Forest...')\n",
    "le = preprocessing.LabelEncoder()\n",
    "le.fit(y_train)\n",
    "\n",
    "y_train_rf = le.fit_transform(y_train)\n",
    "y_test_rf = le.transform(y_test)\n",
    "\n",
    "RF = RandomForestClassifier(n_estimators=1000, \n",
    "                            min_samples_leaf=100,\n",
    "                            random_state=0,\n",
    "                            max_features = \"auto\",\n",
    "                            verbose = 1,\n",
    "                            n_jobs = -1\n",
    "                           ).fit(X_train, y_train_rf)"
   ]
  },
  {
   "cell_type": "code",
   "execution_count": null,
   "metadata": {},
   "outputs": [],
   "source": [
    "RF_pred = RF.predict(X_test)\n",
    "print('RF kappa score',cohen_kappa_score(RF_pred, y_test_rf))\n",
    "print('RF score',RF.score(X_test, y_test_rf))"
   ]
  },
  {
   "cell_type": "markdown",
   "metadata": {},
   "source": [
    "## SGD"
   ]
  },
  {
   "cell_type": "code",
   "execution_count": null,
   "metadata": {},
   "outputs": [],
   "source": [
    "%%time\n",
    "\n",
    "\n",
    "# data has to be scaled!!!!\n",
    "\n",
    "print('Start SGDClassifier...')\n",
    "\n",
    "SGD = SGDClassifier(loss='log', \n",
    "                    penalty='l1', \n",
    "                    alpha=0.0001, \n",
    "                    l1_ratio=0.15,  \n",
    "                    max_iter=1000, \n",
    "                    tol=None, \n",
    "                    verbose=0, \n",
    "                    n_jobs=-1, \n",
    "                    random_state=1, \n",
    "                    learning_rate='optimal', \n",
    "                    eta0=0.0, \n",
    "                    validation_fraction=0.1, \n",
    "                    n_iter_no_change=5, \n",
    "                    class_weight=None, \n",
    "                    warm_start=False, \n",
    "                    average=False, \n",
    "                    n_iter=None).fit(X_train, y_train_rf)"
   ]
  },
  {
   "cell_type": "code",
   "execution_count": null,
   "metadata": {},
   "outputs": [],
   "source": [
    "SGD_pred = SGD.predict(X_test)\n",
    "print('SGD kappa score',cohen_kappa_score(SGD_pred, y_test_rf))\n",
    "print('SGD score',SGD.score(X_test, y_test_rf))"
   ]
  },
  {
   "cell_type": "code",
   "execution_count": null,
   "metadata": {},
   "outputs": [],
   "source": [
    "%%time\n",
    "PAC_pred = PAC.predict(X_test)\n",
    "LR_pred = LR.predict(X_test)\n",
    "RF_pred = RF.predict(X_test)\n",
    "\n",
    "print('PAC kappa score',cohen_kappa_score(PAC_pred, y_test))\n",
    "print('LR kappa score',cohen_kappa_score(LR_pred, y_test))\n",
    "print('RF kappa score',cohen_kappa_score(RF_pred, y_test_rf))\n",
    "print('')\n",
    "print('PAC score',PAC.score(X_test, y_test))\n",
    "print('LR score',LR.score(X_test, y_test))\n",
    "print('RF score',RF.score(X_test, y_test_rf))\n",
    "print('')"
   ]
  },
  {
   "cell_type": "markdown",
   "metadata": {},
   "source": [
    "# Analyse models"
   ]
  },
  {
   "cell_type": "code",
   "execution_count": null,
   "metadata": {},
   "outputs": [],
   "source": [
    "model = clf"
   ]
  },
  {
   "cell_type": "code",
   "execution_count": null,
   "metadata": {},
   "outputs": [],
   "source": [
    "info_test['new'] = model.predict(X_test)"
   ]
  },
  {
   "cell_type": "code",
   "execution_count": null,
   "metadata": {},
   "outputs": [],
   "source": [
    "info_test.head(10)"
   ]
  },
  {
   "cell_type": "code",
   "execution_count": null,
   "metadata": {},
   "outputs": [],
   "source": [
    "prob_pos = model.predict_proba(X_test)"
   ]
  },
  {
   "cell_type": "code",
   "execution_count": null,
   "metadata": {},
   "outputs": [],
   "source": [
    "pred_label = model.predict(X_test)"
   ]
  },
  {
   "cell_type": "code",
   "execution_count": null,
   "metadata": {},
   "outputs": [],
   "source": [
    "print(model.classes_)"
   ]
  },
  {
   "cell_type": "code",
   "execution_count": null,
   "metadata": {},
   "outputs": [],
   "source": [
    "cm = confusion_matrix(y_test, pred_label, labels=model.classes_)\n",
    "print(cm)"
   ]
  },
  {
   "cell_type": "code",
   "execution_count": null,
   "metadata": {},
   "outputs": [],
   "source": [
    "#np.set_printoptions(formatter={'float': '{: 0.2f}'.format})\n",
    "print(np.round(cm.astype('float') / cm.sum(axis=1)[:, np.newaxis],2))"
   ]
  },
  {
   "cell_type": "code",
   "execution_count": null,
   "metadata": {},
   "outputs": [],
   "source": [
    "print(classification_report(y_test, pred_label))"
   ]
  },
  {
   "cell_type": "markdown",
   "metadata": {},
   "source": [
    "# CV Grid search"
   ]
  },
  {
   "cell_type": "markdown",
   "metadata": {},
   "source": [
    "# ToDo: CV not stratified"
   ]
  },
  {
   "cell_type": "markdown",
   "metadata": {},
   "source": [
    "### Model"
   ]
  },
  {
   "cell_type": "code",
   "execution_count": null,
   "metadata": {},
   "outputs": [],
   "source": [
    "model_grid_cv = LogisticRegression(random_state=1)\n",
    "\n",
    "model_grid_cv = PassiveAggressiveClassifier(random_state=1)"
   ]
  },
  {
   "cell_type": "code",
   "execution_count": null,
   "metadata": {},
   "outputs": [],
   "source": [
    "group_kfold = GroupKFold(n_splits=5)\n",
    "cv = group_kfold.split(X_train, y_train, groups)\n",
    "\n",
    "tuned_parameters_PAC = {'C': [1e-6], 'tol':[1e-5],'n_iter_no_change':[20]}\n",
    "\n",
    "tuned_parameters_LR = {'solver': ['saga'],\n",
    "                       'multi_class':['multinomial'],\n",
    "                       'penalty':['l2']}\n",
    "\n",
    "scoring = 'f1_micro'\n",
    "\n",
    "clf = GridSearchCV(model_grid_cv, \n",
    "                   tuned_parameters_PAC, \n",
    "                   cv = group_kfold.split(X_train, y_train, groups), \n",
    "                   n_jobs=-1, \n",
    "                   verbose=10, \n",
    "                   refit = True,\n",
    "                   scoring=scoring, \n",
    "                   return_train_score=True)"
   ]
  },
  {
   "cell_type": "code",
   "execution_count": null,
   "metadata": {},
   "outputs": [],
   "source": [
    "%%time\n",
    "clf.fit(X_train_svd, y_train)"
   ]
  },
  {
   "cell_type": "code",
   "execution_count": null,
   "metadata": {},
   "outputs": [],
   "source": [
    "results = clf.cv_results_\n",
    "test_score_mean = results['mean_test_score']\n",
    "train_score_mean = results['mean_train_score']\n",
    "test_std_mean = results['std_test_score']\n",
    "train_std_mean = results['std_train_score']\n",
    "\n",
    "for mean, std, params in zip(test_score_mean, test_std_mean, clf.cv_results_['params']):\n",
    "    print(\"%0.3f (+/-%0.03f) for %r\"\n",
    "          % (mean, std * 2, params))"
   ]
  },
  {
   "cell_type": "code",
   "execution_count": null,
   "metadata": {},
   "outputs": [],
   "source": [
    "for mean, std, params in zip(train_score_mean, train_std_mean, clf.cv_results_['params']):\n",
    "    print(\"%0.3f (+/-%0.03f) for %r\"\n",
    "          % (mean, std * 2, params))"
   ]
  },
  {
   "cell_type": "code",
   "execution_count": null,
   "metadata": {},
   "outputs": [],
   "source": [
    "X_axis = np.array(results['param_C'].data, dtype=float)\n",
    "\n",
    "plt.figure(figsize=(13, 13))\n",
    "plt.title(\"GridSearchCV evaluating using multiple scorers simultaneously\",\n",
    "          fontsize=16)\n",
    "\n",
    "plt.xlabel(\"C\")\n",
    "plt.ylabel(\"Score\")\n",
    "\n",
    "ax = plt.gca()\n",
    "ax.plot(X_axis, test_score_mean)\n",
    "ax.plot(X_axis, train_score_mean)\n",
    "\n",
    "# ax.set_xlim(0, 402)\n",
    "# ax.set_ylim(0.73, 1)\n",
    "# plt.legend(loc=\"best\")\n",
    "plt.grid(False)\n",
    "plt.show()"
   ]
  },
  {
   "cell_type": "markdown",
   "metadata": {},
   "source": [
    "## TruncatedSVD\n"
   ]
  },
  {
   "cell_type": "code",
   "execution_count": null,
   "metadata": {},
   "outputs": [],
   "source": [
    "%%time\n",
    "svd = TruncatedSVD(n_components=200, n_iter=7, random_state=42)\n",
    "svd.fit(X_train)  "
   ]
  },
  {
   "cell_type": "code",
   "execution_count": null,
   "metadata": {},
   "outputs": [],
   "source": [
    "print(svd.explained_variance_ratio_)  \n",
    "print()\n",
    "print('Total variance explained: {:.3f}%'.format(svd.explained_variance_ratio_.sum()*100))"
   ]
  },
  {
   "cell_type": "code",
   "execution_count": null,
   "metadata": {},
   "outputs": [],
   "source": [
    "X_train_svd = svd.transform(X_train)\n",
    "X_test_svd = svd.transform(X_test)"
   ]
  },
  {
   "cell_type": "code",
   "execution_count": null,
   "metadata": {},
   "outputs": [],
   "source": [
    "plt.plot(X_train_svd[:,8],'o')"
   ]
  },
  {
   "cell_type": "code",
   "execution_count": null,
   "metadata": {},
   "outputs": [],
   "source": [
    "df = pd.DataFrame(X_train_svd)\n",
    "df['class'] = y_train"
   ]
  },
  {
   "cell_type": "code",
   "execution_count": null,
   "metadata": {},
   "outputs": [],
   "source": [
    "groups = df.groupby('class')"
   ]
  },
  {
   "cell_type": "code",
   "execution_count": null,
   "metadata": {},
   "outputs": [],
   "source": [
    "fig, ax = plt.subplots()\n",
    "\n",
    "for name, group in groups:\n",
    "    ax.plot(group.iloc[:,0], group.iloc[:,1], marker='o', linestyle='', ms=10, label=name, alpha=0.5)\n",
    "    plt.xlim(-0.0001, 0.001)\n",
    "    plt.ylim(-0.0001, 0.001)\n",
    "    ax.legend(numpoints=1)"
   ]
  },
  {
   "cell_type": "markdown",
   "metadata": {},
   "source": [
    "# Visual analysis of sample data"
   ]
  },
  {
   "cell_type": "code",
   "execution_count": null,
   "metadata": {},
   "outputs": [],
   "source": [
    "data = X_total.sum(1)"
   ]
  },
  {
   "cell_type": "code",
   "execution_count": null,
   "metadata": {},
   "outputs": [],
   "source": [
    "index = np.abs(data) < 3000\n",
    "y = data[index].T"
   ]
  },
  {
   "cell_type": "code",
   "execution_count": null,
   "metadata": {},
   "outputs": [],
   "source": [
    "sum(index == False)"
   ]
  },
  {
   "cell_type": "code",
   "execution_count": null,
   "metadata": {},
   "outputs": [],
   "source": [
    "plt.plot(y)"
   ]
  },
  {
   "cell_type": "code",
   "execution_count": null,
   "metadata": {},
   "outputs": [],
   "source": [
    "plt.plot(svd.explained_variance_ratio_)"
   ]
  },
  {
   "cell_type": "code",
   "execution_count": null,
   "metadata": {},
   "outputs": [],
   "source": []
  }
 ],
 "metadata": {
  "hide_input": false,
  "kernelspec": {
   "display_name": "Python 3",
   "language": "python",
   "name": "python3"
  },
  "language_info": {
   "codemirror_mode": {
    "name": "ipython",
    "version": 3
   },
   "file_extension": ".py",
   "mimetype": "text/x-python",
   "name": "python",
   "nbconvert_exporter": "python",
   "pygments_lexer": "ipython3",
   "version": "3.7.2"
  },
  "toc": {
   "base_numbering": 1,
   "nav_menu": {},
   "number_sections": true,
   "sideBar": true,
   "skip_h1_title": false,
   "title_cell": "Table of Contents",
   "title_sidebar": "Contents",
   "toc_cell": true,
   "toc_position": {},
   "toc_section_display": true,
   "toc_window_display": false
  }
 },
 "nbformat": 4,
 "nbformat_minor": 2
}
