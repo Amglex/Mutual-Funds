{
 "cells": [
  {
   "cell_type": "code",
   "execution_count": 18,
   "metadata": {},
   "outputs": [
    {
     "name": "stdout",
     "output_type": "stream",
     "text": [
      "/usr/local/bin/python\r\n"
     ]
    }
   ],
   "source": [
    "!which python"
   ]
  },
  {
   "cell_type": "markdown",
   "metadata": {},
   "source": [
    "## Packages"
   ]
  },
  {
   "cell_type": "code",
   "execution_count": 8,
   "metadata": {},
   "outputs": [],
   "source": [
    "import feather\n",
    "import numpy as np\n",
    "import pandas as pd\n",
    "import seaborn as sns\n",
    "import matplotlib.pyplot as plt\n",
    "\n",
    "from scipy import sparse"
   ]
  },
  {
   "cell_type": "code",
   "execution_count": 9,
   "metadata": {},
   "outputs": [],
   "source": [
    "from sklearn.cluster import KMeans, MiniBatchKMeans, DBSCAN\n",
    "from sklearn.cluster import AffinityPropagation\n",
    "\n",
    "from sklearn.preprocessing import Normalizer, MaxAbsScaler"
   ]
  },
  {
   "cell_type": "code",
   "execution_count": 10,
   "metadata": {},
   "outputs": [],
   "source": [
    "from sklearn.metrics import silhouette_samples, silhouette_score\n",
    "\n",
    "import matplotlib.pyplot as plt\n",
    "import matplotlib.cm as cm"
   ]
  },
  {
   "cell_type": "markdown",
   "metadata": {},
   "source": [
    "## Load Data"
   ]
  },
  {
   "cell_type": "code",
   "execution_count": 11,
   "metadata": {
    "scrolled": true
   },
   "outputs": [
    {
     "data": {
      "text/plain": [
       "(2173160, 3)"
      ]
     },
     "execution_count": 11,
     "metadata": {},
     "output_type": "execute_result"
    }
   ],
   "source": [
    "path = '../data/processed/EDY/returns_s.feather'\n",
    "returns = feather.read_dataframe(path)\n",
    "returns.shape"
   ]
  },
  {
   "cell_type": "code",
   "execution_count": 12,
   "metadata": {},
   "outputs": [
    {
     "data": {
      "text/plain": [
       "(148063, 8)"
      ]
     },
     "execution_count": 12,
     "metadata": {},
     "output_type": "execute_result"
    }
   ],
   "source": [
    "path = '../data/processed/EDY/holdings_summary_s.feather'\n",
    "summary = feather.read_dataframe(path)\n",
    "summary.shape"
   ]
  },
  {
   "cell_type": "code",
   "execution_count": 13,
   "metadata": {
    "scrolled": true
   },
   "outputs": [],
   "source": [
    "path = '../data/raw/portno_map.feather'\n",
    "portno_map = feather.read_dataframe(path)"
   ]
  },
  {
   "cell_type": "code",
   "execution_count": 14,
   "metadata": {},
   "outputs": [
    {
     "data": {
      "text/plain": [
       "(148063, 2382968)"
      ]
     },
     "execution_count": 14,
     "metadata": {},
     "output_type": "execute_result"
    }
   ],
   "source": [
    "path = '../data/processed/EDY/holdings_s.npz'\n",
    "holdings = sparse.load_npz(path)\n",
    "holdings.shape"
   ]
  },
  {
   "cell_type": "markdown",
   "metadata": {},
   "source": [
    "## Test"
   ]
  },
  {
   "cell_type": "code",
   "execution_count": 25,
   "metadata": {},
   "outputs": [
    {
     "data": {
      "text/plain": [
       "(1000, 2382968)"
      ]
     },
     "execution_count": 25,
     "metadata": {},
     "output_type": "execute_result"
    }
   ],
   "source": [
    "data = holdings[0:1_000]\n",
    "data.shape"
   ]
  },
  {
   "cell_type": "code",
   "execution_count": 26,
   "metadata": {},
   "outputs": [
    {
     "name": "stdout",
     "output_type": "stream",
     "text": [
      "Start kMeans...\n",
      "Initialization complete\n",
      "Iteration  0, inertia 155854.205\n",
      "Iteration  1, inertia 105463.739\n",
      "Iteration  2, inertia 104088.297\n",
      "Iteration  3, inertia 102591.492\n",
      "Iteration  4, inertia 101525.161\n",
      "Iteration  5, inertia 101396.691\n",
      "Iteration  6, inertia 101358.588\n",
      "Iteration  7, inertia 101348.448\n",
      "Iteration  8, inertia 101344.559\n",
      "Iteration  9, inertia 101342.538\n",
      "Iteration 10, inertia 101340.419\n",
      "Converged at iteration 10: center shift 0.000000e+00 within tolerance 5.045321e-09\n",
      "Initialization complete\n",
      "Iteration  0, inertia 138969.139\n",
      "Iteration  1, inertia 108828.894\n",
      "Iteration  2, inertia 108083.391\n",
      "Iteration  3, inertia 106602.562\n",
      "Iteration  4, inertia 104327.012\n",
      "Iteration  5, inertia 103144.268\n",
      "Iteration  6, inertia 102164.193\n",
      "Iteration  7, inertia 101465.047\n",
      "Iteration  8, inertia 100843.060\n",
      "Iteration  9, inertia 100571.353\n",
      "Iteration 10, inertia 100271.812\n",
      "Iteration 11, inertia 100060.194\n",
      "Iteration 12, inertia 99993.325\n",
      "Iteration 13, inertia 99838.313\n",
      "Iteration 14, inertia 99298.656\n",
      "Iteration 15, inertia 98627.614\n",
      "Iteration 16, inertia 98624.435\n",
      "Iteration 17, inertia 98622.188\n",
      "Converged at iteration 17: center shift 0.000000e+00 within tolerance 5.045321e-09\n",
      "Initialization complete\n",
      "Iteration  0, inertia 139691.265\n",
      "Iteration  1, inertia 108000.251\n",
      "Iteration  2, inertia 106411.720\n",
      "Iteration  3, inertia 105674.492\n",
      "Iteration  4, inertia 105440.596\n",
      "Iteration  5, inertia 105373.055\n",
      "Iteration  6, inertia 105352.232\n",
      "Iteration  7, inertia 105347.162\n",
      "Converged at iteration 7: center shift 0.000000e+00 within tolerance 5.045321e-09\n",
      "Initialization complete\n",
      "Iteration  0, inertia 167400.798\n",
      "Iteration  1, inertia 108600.958\n",
      "Iteration  2, inertia 107825.118\n",
      "Iteration  3, inertia 107498.782\n",
      "Iteration  4, inertia 107341.862\n",
      "Iteration  5, inertia 107301.687\n",
      "Iteration  6, inertia 107268.263\n",
      "Iteration  7, inertia 107244.914\n",
      "Iteration  8, inertia 107236.400\n",
      "Iteration  9, inertia 107232.539\n",
      "Iteration 10, inertia 107227.409\n",
      "Iteration 11, inertia 107225.070\n",
      "Iteration 12, inertia 107223.227\n",
      "Iteration 13, inertia 107220.820\n",
      "Iteration 14, inertia 107220.098\n",
      "Converged at iteration 14: center shift 0.000000e+00 within tolerance 5.045321e-09\n",
      "Initialization complete\n",
      "Iteration  0, inertia 169911.363\n",
      "Iteration  1, inertia 110013.610\n",
      "Iteration  2, inertia 108212.858\n",
      "Iteration  3, inertia 107171.084\n",
      "Iteration  4, inertia 105713.281\n",
      "Iteration  5, inertia 104386.869\n",
      "Iteration  6, inertia 103800.776\n",
      "Iteration  7, inertia 103100.967\n",
      "Iteration  8, inertia 102440.069\n",
      "Iteration  9, inertia 102170.855\n",
      "Iteration 10, inertia 102056.753\n",
      "Iteration 11, inertia 102011.069\n",
      "Iteration 12, inertia 101921.987\n",
      "Iteration 13, inertia 101863.958\n",
      "Iteration 14, inertia 101821.988\n",
      "Iteration 15, inertia 101810.356\n",
      "Iteration 16, inertia 101797.458\n",
      "Iteration 17, inertia 101754.979\n",
      "Iteration 18, inertia 101668.420\n",
      "Iteration 19, inertia 101573.940\n",
      "Iteration 20, inertia 101531.339\n",
      "Iteration 21, inertia 101525.528\n",
      "Converged at iteration 21: center shift 0.000000e+00 within tolerance 5.045321e-09\n",
      "Initialization complete\n",
      "Iteration  0, inertia 131528.890\n",
      "Iteration  1, inertia 106667.131\n",
      "Iteration  2, inertia 104781.115\n",
      "Iteration  3, inertia 103614.403\n",
      "Iteration  4, inertia 103463.585\n",
      "Iteration  5, inertia 103326.577\n",
      "Iteration  6, inertia 103294.617\n",
      "Iteration  7, inertia 103293.299\n",
      "Iteration  8, inertia 103292.772\n",
      "Converged at iteration 8: center shift 0.000000e+00 within tolerance 5.045321e-09\n",
      "Initialization complete\n",
      "Iteration  0, inertia 141198.305\n",
      "Iteration  1, inertia 103346.658\n",
      "Iteration  2, inertia 102100.627\n",
      "Iteration  3, inertia 101536.795\n",
      "Iteration  4, inertia 101359.481\n",
      "Iteration  5, inertia 100961.372\n",
      "Iteration  6, inertia 99979.381\n",
      "Iteration  7, inertia 99473.450\n",
      "Iteration  8, inertia 99148.191\n",
      "Iteration  9, inertia 98947.600\n",
      "Iteration 10, inertia 98769.840\n",
      "Iteration 11, inertia 98678.882\n",
      "Iteration 12, inertia 98642.757\n",
      "Iteration 13, inertia 98624.952\n",
      "Iteration 14, inertia 98617.788\n",
      "Iteration 15, inertia 98612.269\n",
      "Iteration 16, inertia 98604.468\n",
      "Iteration 17, inertia 98600.911\n",
      "Iteration 18, inertia 98599.759\n",
      "Iteration 19, inertia 98597.758\n",
      "Iteration 20, inertia 98597.290\n",
      "Converged at iteration 20: center shift 0.000000e+00 within tolerance 5.045321e-09\n",
      "Initialization complete\n",
      "Iteration  0, inertia 134065.856\n",
      "Iteration  1, inertia 104860.465\n",
      "Iteration  2, inertia 104101.282\n",
      "Iteration  3, inertia 103852.308\n",
      "Iteration  4, inertia 103826.476\n",
      "Iteration  5, inertia 103821.223\n",
      "Converged at iteration 5: center shift 0.000000e+00 within tolerance 5.045321e-09\n",
      "Initialization complete\n",
      "Iteration  0, inertia 166628.563\n",
      "Iteration  1, inertia 103854.225\n",
      "Iteration  2, inertia 103117.105\n",
      "Iteration  3, inertia 102999.620\n",
      "Iteration  4, inertia 102991.708\n",
      "Iteration  5, inertia 102988.444\n",
      "Converged at iteration 5: center shift 0.000000e+00 within tolerance 5.045321e-09\n",
      "Initialization complete\n",
      "Iteration  0, inertia 136818.385\n",
      "Iteration  1, inertia 101753.634\n",
      "Iteration  2, inertia 99731.881\n",
      "Iteration  3, inertia 99162.497\n",
      "Iteration  4, inertia 98942.715\n",
      "Iteration  5, inertia 98857.100\n",
      "Iteration  6, inertia 98814.928\n",
      "Iteration  7, inertia 98807.002\n",
      "Converged at iteration 7: center shift 0.000000e+00 within tolerance 5.045321e-09\n",
      "CPU times: user 49.1 s, sys: 7.33 s, total: 56.5 s\n",
      "Wall time: 23.5 s\n"
     ]
    }
   ],
   "source": [
    "%%time\n",
    "print('Start kMeans...')\n",
    "kmeans = KMeans(n_clusters = 4,\n",
    "                verbose = True,\n",
    "                n_init = 10, # Number of runs\n",
    "                n_jobs= -1,\n",
    "                random_state=0).fit(data)"
   ]
  },
  {
   "cell_type": "code",
   "execution_count": null,
   "metadata": {},
   "outputs": [],
   "source": []
  }
 ],
 "metadata": {
  "kernelspec": {
   "display_name": "Python 3",
   "language": "python",
   "name": "python3"
  },
  "language_info": {
   "codemirror_mode": {
    "name": "ipython",
    "version": 3
   },
   "file_extension": ".py",
   "mimetype": "text/x-python",
   "name": "python",
   "nbconvert_exporter": "python",
   "pygments_lexer": "ipython3",
   "version": "3.7.2"
  }
 },
 "nbformat": 4,
 "nbformat_minor": 2
}
