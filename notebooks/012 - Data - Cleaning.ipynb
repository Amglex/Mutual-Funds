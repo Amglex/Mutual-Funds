{
 "cells": [
  {
   "cell_type": "markdown",
   "metadata": {
    "toc": true
   },
   "source": [
    "<h1>Table of Contents<span class=\"tocSkip\"></span></h1>\n",
    "<div class=\"toc\"><ul class=\"toc-item\"><li><span><a href=\"#Clean-Data\" data-toc-modified-id=\"Clean-Data-1\"><span class=\"toc-item-num\">1&nbsp;&nbsp;</span>Clean Data</a></span><ul class=\"toc-item\"><li><span><a href=\"#Setup\" data-toc-modified-id=\"Setup-1.1\"><span class=\"toc-item-num\">1.1&nbsp;&nbsp;</span>Setup</a></span></li><li><span><a href=\"#Fix-all-data-types\" data-toc-modified-id=\"Fix-all-data-types-1.2\"><span class=\"toc-item-num\">1.2&nbsp;&nbsp;</span>Fix all data types</a></span></li><li><span><a href=\"#Merge\" data-toc-modified-id=\"Merge-1.3\"><span class=\"toc-item-num\">1.3&nbsp;&nbsp;</span>Merge</a></span></li><li><span><a href=\"#Filter-based-on-holdings\" data-toc-modified-id=\"Filter-based-on-holdings-1.4\"><span class=\"toc-item-num\">1.4&nbsp;&nbsp;</span>Filter based on holdings</a></span></li><li><span><a href=\"#Filter-returns-accordingly-and-merge-with-style-codes\" data-toc-modified-id=\"Filter-returns-accordingly-and-merge-with-style-codes-1.5\"><span class=\"toc-item-num\">1.5&nbsp;&nbsp;</span>Filter returns accordingly and merge with style codes</a></span></li><li><span><a href=\"#Check-if-holdings-data-still-makes-sene\" data-toc-modified-id=\"Check-if-holdings-data-still-makes-sene-1.6\"><span class=\"toc-item-num\">1.6&nbsp;&nbsp;</span>Check if holdings data still makes sene</a></span></li></ul></li><li><span><a href=\"#Save-everything\" data-toc-modified-id=\"Save-everything-2\"><span class=\"toc-item-num\">2&nbsp;&nbsp;</span>Save everything</a></span></li><li><span><a href=\"#Tests\" data-toc-modified-id=\"Tests-3\"><span class=\"toc-item-num\">3&nbsp;&nbsp;</span>Tests</a></span></li></ul></div>"
   ]
  },
  {
   "cell_type": "markdown",
   "metadata": {},
   "source": [
    "# Clean Data"
   ]
  },
  {
   "cell_type": "markdown",
   "metadata": {},
   "source": [
    "### Description:\n",
    "\n",
    "Filter the three main data sources (Fund Info, Returns and Holdings)\n",
    "based on some parameters and save the result.\n",
    "\n",
    "Approach:\n",
    "1. Match fund summary to each portfolio/date pair\n",
    "2. Filter fund/date pairs based on those infos\n",
    "3. Filter returns based on final sample of holdings\n",
    "4. Save different versions of the files with different timeframes\n",
    "\n",
    "Parameters: \n",
    "- Lipper_class\n",
    "- Flags"
   ]
  },
  {
   "cell_type": "markdown",
   "metadata": {},
   "source": [
    "## Setup\n",
    "### All options for filtering the data"
   ]
  },
  {
   "cell_type": "code",
   "execution_count": 1,
   "metadata": {},
   "outputs": [],
   "source": [
    "%matplotlib inline\n",
    "\n",
    "import os\n",
    "import sys\n",
    "\n",
    "import feather\n",
    "import pandasql as ps\n",
    "import numpy as np\n",
    "import pandas as pd\n",
    "from pandas.api.types import CategoricalDtype\n",
    "\n",
    "from scipy import sparse\n",
    "import datetime\n",
    "\n",
    "import matplotlib.pyplot as plt"
   ]
  },
  {
   "cell_type": "code",
   "execution_count": 63,
   "metadata": {},
   "outputs": [],
   "source": [
    "options = {\n",
    "    'min_per_com'                : 80,\n",
    "    'min_tna_latest'             : 5,\n",
    "    'min_obs_per_sec'            : 2,\n",
    "    'min_obs_per_observation'    : 10,\n",
    "    'min_perc_tna'               : 50,\n",
    "    'max_perc_tna'               : 120,\n",
    "    'selected_obj_codes'         : ('EIEI', 'G',\n",
    "                                    'LCVE', 'LCCE', 'LCGE',\n",
    "                                    'MLVE', 'MLCE', 'MLGE',\n",
    "                                    'MCVE', 'MCCE', 'MCGE',\n",
    "                                    'SCVE', 'SCCE', 'SCGE'),  # Small-cap\n",
    "    'sub_sample_start_date'      : datetime.date.fromisoformat('2015-01-01'),   # Not relevant at the moment\n",
    "    'sub_sample_end_date'        : datetime.date.fromisoformat('2018-01-01')    # Not relevant at the moment\n",
    "}\n",
    "\n",
    "\n"
   ]
  },
  {
   "cell_type": "markdown",
   "metadata": {},
   "source": [
    "### Load the data files"
   ]
  },
  {
   "cell_type": "code",
   "execution_count": 3,
   "metadata": {},
   "outputs": [],
   "source": [
    "# Holdings data\n",
    "\n",
    "npz_path = '../data/interim/holdings.npz'      # Preprocessed holdings data (see notebook 011)\n",
    "holdings = sparse.load_npz(npz_path)\n",
    "\n",
    "path = '../data/interim/row_info.feather'\n",
    "row_info = feather.read_dataframe(path)\n",
    "row_info_original = row_info.copy()\n",
    "\n",
    "path = '../data/interim/col_info.feather'\n",
    "col_info = feather.read_dataframe(path)\n",
    "\n",
    "# Fund summary data\n",
    "\n",
    "path = '../data/raw/fund_info.feather'\n",
    "fund_info = feather.read_dataframe(path)     # Downloaded from wrds\n",
    "\n",
    "path = '../data/raw/fund_summay.feather'\n",
    "fund_summary = feather.read_dataframe(path)     # Downloaded from wrds\n",
    "\n",
    "path = '../data/raw/portno_map.feather'\n",
    "portno_map = feather.read_dataframe(path)\n",
    "\n",
    "path = '../data/raw/fund_style.feather'\n",
    "fund_style = feather.read_dataframe(path)\n",
    "\n",
    "# Returns data\n",
    "path = '../data/raw/returns.feather'\n",
    "returns = feather.read_dataframe(path)   # Downloaded from wrds"
   ]
  },
  {
   "cell_type": "markdown",
   "metadata": {},
   "source": [
    "## Fix all data types"
   ]
  },
  {
   "cell_type": "markdown",
   "metadata": {},
   "source": [
    "#### Fund info"
   ]
  },
  {
   "cell_type": "code",
   "execution_count": 4,
   "metadata": {},
   "outputs": [],
   "source": [
    "fund_info.drop(columns= ['lipper_class','avrcs'],inplace=True)\n",
    "\n",
    "fund_info.dropna(subset = ['crsp_portno','crsp_fundno'], inplace=True)\n",
    "fund_info[['crsp_fundno','crsp_portno']] = pd.DataFrame(fund_info[['crsp_fundno','crsp_portno']],dtype=np.int64)\n",
    "\n",
    "columns = ['first_offer_dt','begdt','enddt']\n",
    "fund_info[columns] = fund_info[columns].apply(pd.to_datetime)\n",
    "\n",
    "fund_info.loc[fund_info['et_flag'].isna(),'et_flag'] = 'MF'\n",
    "fund_info.loc[fund_info['index_fund_flag'].isna(),'index_fund_flag'] = 'MF'\n",
    "\n",
    "columns = ['et_flag','index_fund_flag']\n",
    "fund_info[columns] = fund_info[columns].astype('category')\n",
    "\n",
    "et_mapper = {'F':'ETF', 'N':'ETN', 'MF':'MF'}\n",
    "fund_info['et_flag'] = fund_info['et_flag'].cat.rename_categories(et_mapper)\n",
    "\n",
    "index_flag_mapper = {'B':'Index-based', 'D':'Pure Index', 'E':'Index enhanced', 'MF':'MF'}\n",
    "fund_info['index_fund_flag'] = fund_info['index_fund_flag'].map(index_flag_mapper)"
   ]
  },
  {
   "cell_type": "markdown",
   "metadata": {},
   "source": [
    "#### Fund summary"
   ]
  },
  {
   "cell_type": "code",
   "execution_count": 5,
   "metadata": {},
   "outputs": [],
   "source": [
    "fund_summary[['crsp_fundno']] = pd.DataFrame(fund_summary[['crsp_fundno']],dtype=np.int64)\n",
    "columns = ['nav_latest','tna_latest','per_com']\n",
    "fund_summary[columns] = pd.DataFrame(fund_summary[columns],dtype=np.float64)\n",
    "\n",
    "columns = ['caldt','nav_latest_dt','tna_latest_dt']\n",
    "fund_summary[columns] = fund_summary[columns].apply(pd.to_datetime)"
   ]
  },
  {
   "cell_type": "markdown",
   "metadata": {},
   "source": [
    "#### Fund style"
   ]
  },
  {
   "cell_type": "code",
   "execution_count": 6,
   "metadata": {},
   "outputs": [],
   "source": [
    "fund_style['crsp_fundno'] = fund_style['crsp_fundno'].astype('int64')\n",
    "\n",
    "columns = ['begdt','enddt']\n",
    "fund_style[columns] = fund_style[columns].apply(pd.to_datetime)\n",
    "\n",
    "fund_style['cap_class'] = fund_style['lipper_class'].astype(str).str[0:2]\n",
    "fund_style['style_class'] = fund_style['lipper_class'].astype(str).str[2]\n",
    "fund_style.loc[\n",
    "    ~fund_style['lipper_class'].isin(options.get('selected_obj_codes')),\n",
    "    ['cap_class','style_class']] = np.NaN\n",
    "\n",
    "\n",
    "\n",
    "cat_type_lipper = CategoricalDtype(categories = ['EIEI', 'G',\n",
    "                                                 'LCVE', 'LCCE', 'LCGE',\n",
    "                                                 'MLVE', 'MLCE', 'MLGE',\n",
    "                                                 'MCVE', 'MCCE', 'MCGE',\n",
    "                                                 'SCVE', 'SCCE', 'SCGE'\n",
    "                                                ],ordered=True)\n",
    "\n",
    "cat_type_style = CategoricalDtype(categories = ['E', 'V', 'C', 'G'], ordered=True)\n",
    "cat_type_cap = CategoricalDtype(categories = ['SC', 'MC', 'ML', 'EI', 'LC'], ordered=True)\n",
    "\n",
    "fund_style['lipper_class'] = fund_style['lipper_class'].astype(cat_type_lipper)\n",
    "fund_style['style_class'] = fund_style['style_class'].astype(cat_type_style)\n",
    "fund_style['cap_class'] = fund_style['cap_class'].astype(cat_type_cap)"
   ]
  },
  {
   "cell_type": "markdown",
   "metadata": {},
   "source": [
    "#### Return"
   ]
  },
  {
   "cell_type": "code",
   "execution_count": 7,
   "metadata": {},
   "outputs": [],
   "source": [
    "returns['crsp_fundno'] = pd.DataFrame(returns['crsp_fundno'],dtype=np.int64)\n",
    "returns['caldt'] =  pd.to_datetime(returns['caldt'])"
   ]
  },
  {
   "cell_type": "markdown",
   "metadata": {},
   "source": [
    "#### Portnomap"
   ]
  },
  {
   "cell_type": "code",
   "execution_count": 8,
   "metadata": {},
   "outputs": [],
   "source": [
    "columns = ['crsp_fundno','crsp_portno']\n",
    "portno_map[columns] = pd.DataFrame(portno_map[columns],dtype=np.int64)\n",
    "\n",
    "columns = ['begdt','enddt']\n",
    "portno_map[columns] = portno_map[columns].apply(pd.to_datetime)"
   ]
  },
  {
   "cell_type": "markdown",
   "metadata": {},
   "source": [
    "### Filter based on fund summary"
   ]
  },
  {
   "cell_type": "code",
   "execution_count": 9,
   "metadata": {},
   "outputs": [],
   "source": [
    "sqlcode = '''\n",
    "    SELECT \n",
    "        fund_summary.caldt, fund_summary.crsp_fundno, fund_summary.tna_latest, fund_summary.per_com,\n",
    "        portno_map.begdt, portno_map.enddt, portno_map.crsp_portno, portno_map.crsp_fundno\n",
    "    FROM fund_summary\n",
    "    INNER JOIN portno_map \n",
    "        ON fund_summary.crsp_fundno = portno_map.crsp_fundno\n",
    "        AND caldt BETWEEN portno_map.begdt AND portno_map.enddt;\n",
    "'''\n",
    "\n",
    "fund_summary_merged = ps.sqldf(sqlcode,locals())\n",
    "\n",
    "columns = ['caldt','begdt','enddt']\n",
    "fund_summary_merged[columns] = fund_summary_merged[columns].apply(pd.to_datetime)\n",
    "\n",
    "fund_summary_merged = (fund_summary_merged\n",
    "                           .groupby(['caldt','crsp_portno'])\n",
    "                           .agg({'per_com': ['mean'],\n",
    "                                 'tna_latest': ['sum']}))\n",
    "\n",
    "fund_summary_merged.columns = fund_summary_merged.columns.droplevel(1)\n",
    "\n",
    "fund_summary_merged = fund_summary_merged.query(\n",
    "                            'per_com > {} and tna_latest > {}'.format(options.get('min_per_com'),\n",
    "                                                                      options.get('min_tna_latest')))"
   ]
  },
  {
   "cell_type": "markdown",
   "metadata": {},
   "source": [
    "### Filter based on fund info"
   ]
  },
  {
   "cell_type": "code",
   "execution_count": 10,
   "metadata": {},
   "outputs": [],
   "source": [
    "fund_info = fund_info.query('''index_fund_flag == 'MF' and et_flag == 'MF' ''')\n",
    "\n",
    "fund_info = fund_info.assign(portno_fundno = fund_info['crsp_fundno'] * 10_000_000 + fund_info['crsp_portno'])\n",
    "selected_funds = fund_info[['crsp_portno','portno_fundno']].groupby(['crsp_portno']).first()\n",
    "selected_funds = selected_funds['portno_fundno']\n",
    "fund_info = fund_info.query('portno_fundno in @selected_funds')\n",
    "\n",
    "fund_info = fund_info[['crsp_portno','crsp_fundno','fund_name','begdt','enddt']]"
   ]
  },
  {
   "cell_type": "markdown",
   "metadata": {},
   "source": [
    "### Filter based on fund style"
   ]
  },
  {
   "cell_type": "code",
   "execution_count": 11,
   "metadata": {},
   "outputs": [],
   "source": [
    "fund_style = fund_style[fund_style['lipper_class'].isin(options.get('selected_obj_codes'))]"
   ]
  },
  {
   "cell_type": "code",
   "execution_count": 12,
   "metadata": {},
   "outputs": [
    {
     "data": {
      "text/plain": [
       "crsp_fundno               int64\n",
       "begdt            datetime64[ns]\n",
       "enddt            datetime64[ns]\n",
       "lipper_class           category\n",
       "lipper_obj_cd            object\n",
       "cap_class              category\n",
       "style_class            category\n",
       "dtype: object"
      ]
     },
     "execution_count": 12,
     "metadata": {},
     "output_type": "execute_result"
    }
   ],
   "source": [
    "fund_style.dtypes"
   ]
  },
  {
   "cell_type": "markdown",
   "metadata": {},
   "source": [
    "## Merge"
   ]
  },
  {
   "cell_type": "code",
   "execution_count": 13,
   "metadata": {},
   "outputs": [
    {
     "data": {
      "text/plain": [
       "(839196, 3)"
      ]
     },
     "execution_count": 13,
     "metadata": {},
     "output_type": "execute_result"
    }
   ],
   "source": [
    "row_info.shape"
   ]
  },
  {
   "cell_type": "code",
   "execution_count": 14,
   "metadata": {},
   "outputs": [
    {
     "data": {
      "text/plain": [
       "<matplotlib.axes._subplots.AxesSubplot at 0x1aa38df50>"
      ]
     },
     "execution_count": 14,
     "metadata": {},
     "output_type": "execute_result"
    },
    {
     "data": {
      "image/png": "[encoded data removed]",
      "text/plain": [
       "<Figure size 1080x360 with 1 Axes>"
      ]
     },
     "metadata": {
      "needs_background": "light"
     },
     "output_type": "display_data"
    }
   ],
   "source": [
    "(row_info['crsp_portno']\n",
    "    .groupby([\n",
    "         row_info['report_dt'].dt.year,\n",
    "     ])\n",
    "     .nunique()\n",
    "     .plot(kind='bar',\n",
    "           color = 'b',\n",
    "           figsize=(15,5)))"
   ]
  },
  {
   "cell_type": "markdown",
   "metadata": {},
   "source": [
    "### Merge row_info and fund_info\n",
    "Adds correct fundo to each portno/date row"
   ]
  },
  {
   "cell_type": "code",
   "execution_count": 15,
   "metadata": {},
   "outputs": [
    {
     "data": {
      "text/plain": [
       "(839196, 3)"
      ]
     },
     "execution_count": 15,
     "metadata": {},
     "output_type": "execute_result"
    }
   ],
   "source": [
    "row_info.shape"
   ]
  },
  {
   "cell_type": "code",
   "execution_count": 16,
   "metadata": {},
   "outputs": [],
   "source": [
    "sqlcode = '''\n",
    "    SELECT row_info.crsp_portno, row_info.report_dt, \n",
    "    fund_info.crsp_portno, fund_info.crsp_fundno, fund_info.begdt, fund_info.enddt, fund_info.fund_name\n",
    "    FROM row_info \n",
    "    INNER JOIN fund_info \n",
    "    ON row_info.crsp_portno = fund_info.crsp_portno\n",
    "    AND row_info.report_dt between fund_info.begdt and fund_info.enddt;\n",
    "'''\n",
    "\n",
    "row_info_merged = ps.sqldf(sqlcode,locals())\n",
    "\n",
    "columns = ['report_dt','begdt','enddt']\n",
    "row_info_merged[columns] = row_info_merged[columns].apply(pd.to_datetime)\n",
    "row_info_merged = row_info_merged[['crsp_portno','crsp_fundno','report_dt','begdt','enddt','fund_name']]\n",
    "row_info_merged = row_info_merged.iloc[:,1:]"
   ]
  },
  {
   "cell_type": "code",
   "execution_count": 17,
   "metadata": {},
   "outputs": [
    {
     "data": {
      "text/plain": [
       "(529586, 6)"
      ]
     },
     "execution_count": 17,
     "metadata": {},
     "output_type": "execute_result"
    }
   ],
   "source": [
    "row_info_merged.shape"
   ]
  },
  {
   "cell_type": "code",
   "execution_count": 18,
   "metadata": {},
   "outputs": [
    {
     "data": {
      "text/plain": [
       "<matplotlib.axes._subplots.AxesSubplot at 0x1e72b6c90>"
      ]
     },
     "execution_count": 18,
     "metadata": {},
     "output_type": "execute_result"
    },
    {
     "data": {
      "image/png": "[encoded data removed]",
      "text/plain": [
       "<Figure size 1080x360 with 1 Axes>"
      ]
     },
     "metadata": {
      "needs_background": "light"
     },
     "output_type": "display_data"
    }
   ],
   "source": [
    "(row_info_merged['crsp_portno']\n",
    "    .groupby([\n",
    "         row_info_merged['report_dt'].dt.year,\n",
    "#         row_info_merged['report_dt'].dt.month\n",
    "     ])\n",
    "     .nunique()\n",
    "     .plot(kind='bar',\n",
    "           color = 'b',\n",
    "           figsize=(15,5)))"
   ]
  },
  {
   "cell_type": "markdown",
   "metadata": {},
   "source": [
    "### Merge row_info and fund_style"
   ]
  },
  {
   "cell_type": "code",
   "execution_count": 19,
   "metadata": {},
   "outputs": [],
   "source": [
    "fund_style = fund_style.rename(columns={'begdt':'style_begdt',\n",
    "                                        'enddt':'style_enddt'})"
   ]
  },
  {
   "cell_type": "code",
   "execution_count": 20,
   "metadata": {},
   "outputs": [],
   "source": [
    "sqlcode = '''\n",
    "    SELECT \n",
    "        row_info_merged.crsp_fundno, row_info_merged.crsp_portno, row_info_merged.fund_name,\n",
    "        row_info_merged.report_dt, row_info_merged.begdt, row_info_merged.enddt,\n",
    "        fund_style.crsp_fundno, \n",
    "        fund_style.style_begdt, fund_style.style_enddt, \n",
    "        fund_style.lipper_class, fund_style.cap_class, fund_style.style_class\n",
    "    FROM row_info_merged \n",
    "    INNER JOIN fund_style \n",
    "        ON row_info_merged.crsp_fundno = fund_style.crsp_fundno\n",
    "        AND row_info_merged.report_dt between fund_style.style_begdt AND fund_style.style_enddt;\n",
    "'''\n",
    "\n",
    "row_info_merged = ps.sqldf(sqlcode,locals())"
   ]
  },
  {
   "cell_type": "code",
   "execution_count": 21,
   "metadata": {},
   "outputs": [],
   "source": [
    "columns = ['report_dt','begdt','enddt','style_begdt','style_enddt']\n",
    "row_info_merged[columns] = row_info_merged[columns].apply(pd.to_datetime)"
   ]
  },
  {
   "cell_type": "code",
   "execution_count": 22,
   "metadata": {},
   "outputs": [],
   "source": [
    "row_info_merged = row_info_merged[['crsp_fundno','crsp_portno','fund_name',\n",
    "                                   'report_dt','begdt','enddt','style_begdt','style_enddt',\n",
    "                                  'lipper_class','cap_class','style_class']]\n",
    "row_info_merged = row_info_merged.iloc[:,1:]"
   ]
  },
  {
   "cell_type": "code",
   "execution_count": 23,
   "metadata": {},
   "outputs": [
    {
     "data": {
      "text/plain": [
       "(172579, 11)"
      ]
     },
     "execution_count": 23,
     "metadata": {},
     "output_type": "execute_result"
    }
   ],
   "source": [
    "row_info_merged.shape"
   ]
  },
  {
   "cell_type": "code",
   "execution_count": 24,
   "metadata": {},
   "outputs": [
    {
     "data": {
      "text/plain": [
       "<matplotlib.axes._subplots.AxesSubplot at 0x1ad24dfd0>"
      ]
     },
     "execution_count": 24,
     "metadata": {},
     "output_type": "execute_result"
    },
    {
     "data": {
      "image/png": "[encoded data removed]",
      "text/plain": [
       "<Figure size 1080x360 with 1 Axes>"
      ]
     },
     "metadata": {
      "needs_background": "light"
     },
     "output_type": "display_data"
    }
   ],
   "source": [
    "(row_info_merged['crsp_portno']\n",
    "    .groupby([\n",
    "         row_info_merged['report_dt'].dt.year,\n",
    "#         row_info_merged['report_dt'].dt.month\n",
    "     ])\n",
    "     .nunique()\n",
    "     .plot(kind='bar',\n",
    "           color = 'b',\n",
    "           figsize=(15,5)))"
   ]
  },
  {
   "cell_type": "markdown",
   "metadata": {},
   "source": [
    "### Merge row_info and fund_hdr"
   ]
  },
  {
   "cell_type": "code",
   "execution_count": 25,
   "metadata": {},
   "outputs": [],
   "source": [
    "row_info_merged = row_info_merged.merge(\n",
    "    fund_summary[['crsp_fundno','caldt']],\n",
    "    how='inner',\n",
    "    left_on=['crsp_fundno','report_dt'],\n",
    "    right_on=['crsp_fundno','caldt'])"
   ]
  },
  {
   "cell_type": "code",
   "execution_count": 26,
   "metadata": {},
   "outputs": [
    {
     "data": {
      "text/plain": [
       "(54762, 12)"
      ]
     },
     "execution_count": 26,
     "metadata": {},
     "output_type": "execute_result"
    }
   ],
   "source": [
    "row_info_merged.shape"
   ]
  },
  {
   "cell_type": "code",
   "execution_count": 27,
   "metadata": {},
   "outputs": [
    {
     "data": {
      "text/plain": [
       "<matplotlib.axes._subplots.AxesSubplot at 0x1ba69ae10>"
      ]
     },
     "execution_count": 27,
     "metadata": {},
     "output_type": "execute_result"
    },
    {
     "data": {
      "image/png": "[encoded data removed]",
      "text/plain": [
       "<Figure size 1080x360 with 1 Axes>"
      ]
     },
     "metadata": {
      "needs_background": "light"
     },
     "output_type": "display_data"
    }
   ],
   "source": [
    "(row_info_merged['crsp_portno']\n",
    "    .groupby([\n",
    "         row_info_merged['report_dt'].dt.year,\n",
    "         row_info_merged['report_dt'].dt.month\n",
    "     ])\n",
    "     .nunique()\n",
    "     .plot(kind='bar',\n",
    "           color = 'b',\n",
    "           figsize=(15,5)))"
   ]
  },
  {
   "cell_type": "markdown",
   "metadata": {},
   "source": [
    "### Take only last report_dt per year"
   ]
  },
  {
   "cell_type": "code",
   "execution_count": 28,
   "metadata": {},
   "outputs": [],
   "source": [
    "row_info_merged = row_info_merged.assign(year = lambda x: x.report_dt.dt.year)\n",
    "\n",
    "# Take only observations for the lates report_dt of the year (not always December...)\n",
    "unique_dates = row_info_merged.groupby(['year','report_dt']).count().reset_index('report_dt').groupby('year').tail(1)['report_dt']\n",
    "row_info_merged = row_info_merged.query(''' report_dt in @unique_dates ''')"
   ]
  },
  {
   "cell_type": "code",
   "execution_count": 29,
   "metadata": {},
   "outputs": [
    {
     "data": {
      "text/plain": [
       "<matplotlib.axes._subplots.AxesSubplot at 0x1c4a51850>"
      ]
     },
     "execution_count": 29,
     "metadata": {},
     "output_type": "execute_result"
    },
    {
     "data": {
      "image/png": "[encoded data removed]",
      "text/plain": [
       "<Figure size 1080x360 with 1 Axes>"
      ]
     },
     "metadata": {
      "needs_background": "light"
     },
     "output_type": "display_data"
    }
   ],
   "source": [
    "(row_info_merged['crsp_portno']\n",
    "    .groupby([\n",
    "         row_info_merged['report_dt'].dt.year,\n",
    "         row_info_merged['report_dt'].dt.month\n",
    "     ])\n",
    "     .nunique()\n",
    "     .plot(kind='bar',\n",
    "           color = 'b',\n",
    "           figsize=(15,5)))"
   ]
  },
  {
   "cell_type": "markdown",
   "metadata": {},
   "source": [
    "### Drop all unused columns of row_info"
   ]
  },
  {
   "cell_type": "code",
   "execution_count": 30,
   "metadata": {},
   "outputs": [],
   "source": [
    "row_info = row_info_merged.drop(columns=['caldt','begdt','enddt','style_begdt','style_enddt'])"
   ]
  },
  {
   "cell_type": "markdown",
   "metadata": {},
   "source": [
    "### Merge row_info with holdings"
   ]
  },
  {
   "cell_type": "code",
   "execution_count": 31,
   "metadata": {},
   "outputs": [],
   "source": [
    "row_info_original = row_info_original.assign(row_old = row_info_original.index)\n",
    "col_info = col_info.assign(col_old = col_info.index)\n",
    "\n",
    "row_info = row_info.merge(row_info_original,how='left',on=['crsp_portno','report_dt'])"
   ]
  },
  {
   "cell_type": "code",
   "execution_count": 32,
   "metadata": {},
   "outputs": [],
   "source": [
    "# Filter holdings matrix based on merged and filtered row_info\n",
    "mask = row_info['row_old'].values\n",
    "holdings = holdings[mask]"
   ]
  },
  {
   "cell_type": "code",
   "execution_count": 33,
   "metadata": {},
   "outputs": [],
   "source": [
    "# Drop unused columns and reset index / row column\n",
    "row_info.drop(columns=['port_id','row_old'],inplace=True)\n",
    "row_info.reset_index(drop=True,inplace=True)\n",
    "row_info = row_info.assign(row = row_info.index)"
   ]
  },
  {
   "cell_type": "markdown",
   "metadata": {},
   "source": [
    "## Filter based on holdings"
   ]
  },
  {
   "cell_type": "markdown",
   "metadata": {},
   "source": [
    "#### Delete securities with little to no information"
   ]
  },
  {
   "cell_type": "code",
   "execution_count": 34,
   "metadata": {},
   "outputs": [],
   "source": [
    "# Generate sparse holdings matrix with boolean values instead of more precise percent_tna values\n",
    "holdings_b = sparse.csr_matrix(holdings, copy=True)\n",
    "holdings_b.data = np.ones(len(holdings.data))"
   ]
  },
  {
   "cell_type": "code",
   "execution_count": 35,
   "metadata": {},
   "outputs": [],
   "source": [
    "sum_sec_boolean = pd.DataFrame(holdings_b.sum(0).T).values\n",
    "sum_port_boolean = pd.DataFrame(holdings_b.sum(1)).values\n",
    "\n",
    "sum_sec_perc = pd.DataFrame(holdings.sum(0).T).values\n",
    "sum_port_perc = pd.DataFrame(holdings.sum(1)).values"
   ]
  },
  {
   "cell_type": "code",
   "execution_count": 36,
   "metadata": {},
   "outputs": [
    {
     "name": "stdout",
     "output_type": "stream",
     "text": [
      "Total number of securities:                1,621,421\n",
      "Total number of securities with >1:           37,776\n",
      "Total number of securities with >10:          13,160\n",
      "Total number of securities with >50:           5,770\n",
      "Total number of securities with >100:          4,217\n"
     ]
    }
   ],
   "source": [
    "print('Total number of securities:               {:>10,d}'.format(len(sum_sec_boolean)))\n",
    "print('Total number of securities with >1:       {:>10,d}'.format(np.sum(sum_sec_boolean > 1)))\n",
    "print('Total number of securities with >10:      {:>10,d}'.format(np.sum(sum_sec_boolean > 10)))\n",
    "print('Total number of securities with >50:      {:>10,d}'.format(np.sum(sum_sec_boolean > 50)))\n",
    "print('Total number of securities with >100:     {:>10,d}'.format(np.sum(sum_sec_boolean > 100)))"
   ]
  },
  {
   "cell_type": "code",
   "execution_count": 37,
   "metadata": {},
   "outputs": [],
   "source": [
    "# Each security has to appear at least x times stocks\n",
    "col_mask = (sum_sec_boolean >= options.get('min_obs_per_sec')).flatten()\n",
    "# Each portfolio has to have at least x stocks\n",
    "row_mask_1 = (sum_port_boolean >= options.get('min_obs_per_observation')).flatten()\n",
    "# Each portfolio has to have min x% sum of percent_tna\n",
    "row_mask_2 = (sum_port_perc >= options.get('min_perc_tna')).flatten()\n",
    "# Each portfolio has to have max x% sum of percent_tna\n",
    "row_mask_3 = (sum_port_perc <= options.get('max_perc_tna')).flatten()\n",
    "row_mask = row_mask_1 & row_mask_2 & row_mask_3"
   ]
  },
  {
   "cell_type": "code",
   "execution_count": 38,
   "metadata": {},
   "outputs": [
    {
     "name": "stdout",
     "output_type": "stream",
     "text": [
      "Cols matching criteria according to:\n",
      " No mask  :  1,621,421 \n",
      " Full mask:     37,776 \n",
      "\n",
      "Rows matching criteria according to:\n",
      " No mask  :     21,092 \n",
      " Mask    1:     20,732 \n",
      " Mask    2:     20,996 \n",
      " Mask    3:     21,040 \n",
      " Full mask:     20,624\n"
     ]
    }
   ],
   "source": [
    "# Overview of masks\n",
    "print('Cols matching criteria according to:''\\n',\n",
    "    'No mask  : {:10,d}'.format(len(col_mask)),'\\n',\n",
    "    'Full mask: {:10,d}'.format(np.sum(col_mask)),'\\n')\n",
    "\n",
    "print('Rows matching criteria according to:''\\n',\n",
    "    'No mask  : {:10,d}'.format(len(row_mask_1)),'\\n',\n",
    "    'Mask    1: {:10,d}'.format(np.sum(row_mask_1)),'\\n',\n",
    "    'Mask    2: {:10,d}'.format(np.sum(row_mask_2)),'\\n',\n",
    "    'Mask    3: {:10,d}'.format(np.sum(row_mask_3)),'\\n',\n",
    "    'Full mask: {:10,d}'.format(np.sum(row_mask)))"
   ]
  },
  {
   "cell_type": "code",
   "execution_count": 39,
   "metadata": {},
   "outputs": [],
   "source": [
    "# Apply masks\n",
    "holdings = holdings.tocsc()\n",
    "holdings = holdings[:,col_mask]\n",
    "holdings = holdings.tocsr()\n",
    "holdings = holdings[row_mask,:]\n",
    "\n",
    "holdings_b = holdings_b.tocsc()\n",
    "holdings_b = holdings_b[:,col_mask]\n",
    "holdings_b = holdings_b.tocsr()\n",
    "holdings_b = holdings_b[row_mask,:]\n",
    "\n",
    "col_info = col_info.loc[col_mask,:]\n",
    "row_info = row_info.loc[row_mask,:]\n",
    "\n",
    "# reset indices\n",
    "col_info.reset_index(drop=True,inplace=True)\n",
    "col_info = col_info.assign(col = col_info.index)\n",
    "\n",
    "row_info.reset_index(drop=True,inplace=True)\n",
    "row_info = row_info.assign(row = row_info.index)"
   ]
  },
  {
   "cell_type": "code",
   "execution_count": 40,
   "metadata": {},
   "outputs": [
    {
     "name": "stdout",
     "output_type": "stream",
     "text": [
      "Number of fund/date combinations:              20,624\n",
      "Number of unique securities:                   37,776\n",
      "Number of values in sparse matrix:          2,647,253\n",
      "Same values for boolean holdings matrix:         True\n",
      "\n",
      "Number of rows in row_info df:                 20,624\n",
      "Number of rows in col_inf df:                  37,776\n",
      "\n",
      "Everything matches:                              True\n"
     ]
    }
   ],
   "source": [
    "# Check if all dimensions match\n",
    "print('Number of fund/date combinations:        {:12,d}'.format(holdings.shape[0]))\n",
    "print('Number of unique securities:             {:12,d}'.format(holdings.shape[1]))\n",
    "print('Number of values in sparse matrix:       {:12,d}'.format(holdings.getnnz()))\n",
    "match_test = ((holdings.shape[0] == holdings_b.shape[0]) \n",
    "              & (holdings.shape[1] == holdings_b.shape[1]) \n",
    "              & (holdings.getnnz() == holdings_b.getnnz()))\n",
    "print('Same values for boolean holdings matrix:         {}'.format(match_test))\n",
    "print()\n",
    "print('Number of rows in row_info df:           {:12,d}'.format(row_info.shape[0]))\n",
    "print('Number of rows in col_inf df:            {:12,d}'.format(col_info.shape[0]))\n",
    "print()\n",
    "match_test = (holdings.shape[0] == row_info.shape[0]) & (holdings.shape[1] == col_info.shape[0])\n",
    "print('Everything matches:                              {}'.format(match_test))"
   ]
  },
  {
   "cell_type": "code",
   "execution_count": 53,
   "metadata": {},
   "outputs": [],
   "source": [
    "# reapply categories\n",
    "\n",
    "row_info['lipper_class'] = row_info['lipper_class'].astype(cat_type_lipper)\n",
    "row_info['style_class'] = row_info['style_class'].astype(cat_type_style)\n",
    "row_info['cap_class'] = row_info['cap_class'].astype(cat_type_cap)"
   ]
  },
  {
   "cell_type": "markdown",
   "metadata": {},
   "source": [
    "## Filter returns accordingly and merge with style codes"
   ]
  },
  {
   "cell_type": "code",
   "execution_count": 70,
   "metadata": {},
   "outputs": [],
   "source": [
    "fund_nos = row_info['crsp_fundno'].unique()\n",
    "\n",
    "returns = returns.query('crsp_fundno in @fund_nos')\n",
    "returns = returns.dropna()\n",
    "\n",
    "returns = (returns\n",
    "               .merge(row_info[['report_dt','crsp_fundno','lipper_class','style_class','cap_class']], \n",
    "                      how='left', left_on=['crsp_fundno','caldt'],right_on=['crsp_fundno','report_dt'])\n",
    "               .drop(columns='report_dt'))\n",
    "\n",
    "returns = (returns\n",
    "             .sort_values(['crsp_fundno','caldt'])\n",
    "             .groupby(['crsp_fundno'])\n",
    "             .apply(\n",
    "                 lambda x: x.fillna(method='ffill'))\n",
    "             .groupby(['crsp_fundno'])\n",
    "             .apply(\n",
    "                 lambda x: x.fillna(method='bfill'))\n",
    ")"
   ]
  },
  {
   "cell_type": "markdown",
   "metadata": {},
   "source": [
    "## Check if holdings data still makes sene"
   ]
  },
  {
   "cell_type": "code",
   "execution_count": 59,
   "metadata": {},
   "outputs": [],
   "source": [
    "def most_common_stocks(year,lipper_class):\n",
    "    \"This prints a passed string into this function\"\n",
    "    # Enter date for which most common holdings are calculated\n",
    "    year = year\n",
    "    lipper_class = lipper_class\n",
    "\n",
    "    # Change if you want tu sum percentages instead of boolean values\n",
    "    holdings_coo = holdings_b.tocoo()\n",
    "\n",
    "    df_sparse = pd.DataFrame({'row' : holdings_coo.row,\n",
    "                              'col' : holdings_coo.col,\n",
    "                              'data' : holdings_coo.data})\n",
    "\n",
    "    df_sparse = df_sparse.merge(row_info[['year','row','lipper_class']],how='left',on='row')\n",
    "\n",
    "    my_filter = '''year == @year and lipper_class == @lipper_class '''w\n",
    "    no_unique_funds = row_info.query(my_filter).shape[0]\n",
    "\n",
    "    sum_col = (df_sparse\n",
    "               .query(my_filter)\n",
    "               .groupby(by = ['col'])\n",
    "               .sum()\n",
    "               .sort_values('data',ascending = False)\n",
    "               .join(col_info[['security_name','col']],how='left')\n",
    "               .assign(percent = lambda x:  x.data / no_unique_funds * 100)\n",
    "               .drop(columns=['row','year','col'])\n",
    "               .reset_index(drop=True)\n",
    "               .head(10))\n",
    "\n",
    "    print(\n",
    "        'Most held stocks: ','\\n\\n'\n",
    "        'Lipper class:       {}'.format(lipper_class),'\\n'\n",
    "        'Number of funds:    {}'.format(no_unique_funds),'\\n'\n",
    "        'Year:               {}'.format(year))\n",
    "\n",
    "    return sum_col"
   ]
  },
  {
   "cell_type": "code",
   "execution_count": 60,
   "metadata": {},
   "outputs": [
    {
     "name": "stdout",
     "output_type": "stream",
     "text": [
      "Most held stocks:  \n",
      "\n",
      "Lipper class:       LCCE \n",
      "Number of funds:    269 \n",
      "Year:               2016\n"
     ]
    },
    {
     "data": {
      "text/html": [
       "<div>\n",
       "<style scoped>\n",
       "    .dataframe tbody tr th:only-of-type {\n",
       "        vertical-align: middle;\n",
       "    }\n",
       "\n",
       "    .dataframe tbody tr th {\n",
       "        vertical-align: top;\n",
       "    }\n",
       "\n",
       "    .dataframe thead th {\n",
       "        text-align: right;\n",
       "    }\n",
       "</style>\n",
       "<table border=\"1\" class=\"dataframe\">\n",
       "  <thead>\n",
       "    <tr style=\"text-align: right;\">\n",
       "      <th></th>\n",
       "      <th>data</th>\n",
       "      <th>security_name</th>\n",
       "      <th>percent</th>\n",
       "    </tr>\n",
       "  </thead>\n",
       "  <tbody>\n",
       "    <tr>\n",
       "      <th>0</th>\n",
       "      <td>217.0</td>\n",
       "      <td>APPLE INC</td>\n",
       "      <td>80.669145</td>\n",
       "    </tr>\n",
       "    <tr>\n",
       "      <th>1</th>\n",
       "      <td>206.0</td>\n",
       "      <td>MICROSOFT CORP</td>\n",
       "      <td>76.579926</td>\n",
       "    </tr>\n",
       "    <tr>\n",
       "      <th>2</th>\n",
       "      <td>186.0</td>\n",
       "      <td>COMCAST CORP NEW</td>\n",
       "      <td>69.144981</td>\n",
       "    </tr>\n",
       "    <tr>\n",
       "      <th>3</th>\n",
       "      <td>182.0</td>\n",
       "      <td>JPMORGAN CHASE &amp; CO</td>\n",
       "      <td>67.657993</td>\n",
       "    </tr>\n",
       "    <tr>\n",
       "      <th>4</th>\n",
       "      <td>171.0</td>\n",
       "      <td>JOHNSON &amp; JOHNSON</td>\n",
       "      <td>63.568773</td>\n",
       "    </tr>\n",
       "    <tr>\n",
       "      <th>5</th>\n",
       "      <td>169.0</td>\n",
       "      <td>ALPHABET INC</td>\n",
       "      <td>62.825279</td>\n",
       "    </tr>\n",
       "    <tr>\n",
       "      <th>6</th>\n",
       "      <td>169.0</td>\n",
       "      <td>CISCO SYSTEMS INC</td>\n",
       "      <td>62.825279</td>\n",
       "    </tr>\n",
       "    <tr>\n",
       "      <th>7</th>\n",
       "      <td>169.0</td>\n",
       "      <td>ALPHABET INC</td>\n",
       "      <td>62.825279</td>\n",
       "    </tr>\n",
       "    <tr>\n",
       "      <th>8</th>\n",
       "      <td>168.0</td>\n",
       "      <td>WELLS FARGO &amp; CO NEW</td>\n",
       "      <td>62.453532</td>\n",
       "    </tr>\n",
       "    <tr>\n",
       "      <th>9</th>\n",
       "      <td>153.0</td>\n",
       "      <td>SCHLUMBERGER NV ORD</td>\n",
       "      <td>56.877323</td>\n",
       "    </tr>\n",
       "  </tbody>\n",
       "</table>\n",
       "</div>"
      ],
      "text/plain": [
       "    data         security_name    percent\n",
       "0  217.0             APPLE INC  80.669145\n",
       "1  206.0        MICROSOFT CORP  76.579926\n",
       "2  186.0      COMCAST CORP NEW  69.144981\n",
       "3  182.0   JPMORGAN CHASE & CO  67.657993\n",
       "4  171.0     JOHNSON & JOHNSON  63.568773\n",
       "5  169.0          ALPHABET INC  62.825279\n",
       "6  169.0     CISCO SYSTEMS INC  62.825279\n",
       "7  169.0          ALPHABET INC  62.825279\n",
       "8  168.0  WELLS FARGO & CO NEW  62.453532\n",
       "9  153.0   SCHLUMBERGER NV ORD  56.877323"
      ]
     },
     "execution_count": 60,
     "metadata": {},
     "output_type": "execute_result"
    }
   ],
   "source": [
    "most_common_stocks(year=2016, lipper_class='LCCE')"
   ]
  },
  {
   "cell_type": "markdown",
   "metadata": {},
   "source": [
    "# Save everything"
   ]
  },
  {
   "cell_type": "code",
   "execution_count": 81,
   "metadata": {},
   "outputs": [],
   "source": [
    "# Holdings data\n",
    "path = '../data/processed/holdings.npz'\n",
    "sparse.save_npz(path,holdings)\n",
    "\n",
    "path = '../data/processed/row_info.feather'\n",
    "feather.write_dataframe(row_info,path)\n",
    "\n",
    "path = '../data/processed/col_info.feather'\n",
    "feather.write_dataframe(col_info,path)\n",
    "\n",
    "# Returns data\n",
    "path = '../data/processed/returns.feather'\n",
    "feather.write_dataframe(returns,path)   # Downloaded from wrds"
   ]
  },
  {
   "cell_type": "markdown",
   "metadata": {},
   "source": [
    "# Tests"
   ]
  },
  {
   "cell_type": "code",
   "execution_count": 45,
   "metadata": {},
   "outputs": [
    {
     "data": {
      "text/html": [
       "<div>\n",
       "<style scoped>\n",
       "    .dataframe tbody tr th:only-of-type {\n",
       "        vertical-align: middle;\n",
       "    }\n",
       "\n",
       "    .dataframe tbody tr th {\n",
       "        vertical-align: top;\n",
       "    }\n",
       "\n",
       "    .dataframe thead th {\n",
       "        text-align: right;\n",
       "    }\n",
       "</style>\n",
       "<table border=\"1\" class=\"dataframe\">\n",
       "  <thead>\n",
       "    <tr style=\"text-align: right;\">\n",
       "      <th></th>\n",
       "      <th>crsp_fundno</th>\n",
       "      <th>style_begdt</th>\n",
       "      <th>style_enddt</th>\n",
       "      <th>lipper_class</th>\n",
       "      <th>lipper_obj_cd</th>\n",
       "      <th>cap_class</th>\n",
       "      <th>style_class</th>\n",
       "    </tr>\n",
       "  </thead>\n",
       "  <tbody>\n",
       "    <tr>\n",
       "      <th>118894</th>\n",
       "      <td>38200</td>\n",
       "      <td>2008-10-24</td>\n",
       "      <td>2018-01-18</td>\n",
       "      <td>SCCE</td>\n",
       "      <td>CA</td>\n",
       "      <td>SC</td>\n",
       "      <td>C</td>\n",
       "    </tr>\n",
       "    <tr>\n",
       "      <th>118895</th>\n",
       "      <td>38200</td>\n",
       "      <td>2018-01-19</td>\n",
       "      <td>2019-06-30</td>\n",
       "      <td>MLCE</td>\n",
       "      <td>G</td>\n",
       "      <td>ML</td>\n",
       "      <td>C</td>\n",
       "    </tr>\n",
       "  </tbody>\n",
       "</table>\n",
       "</div>"
      ],
      "text/plain": [
       "        crsp_fundno style_begdt style_enddt lipper_class lipper_obj_cd  \\\n",
       "118894        38200  2008-10-24  2018-01-18         SCCE            CA   \n",
       "118895        38200  2018-01-19  2019-06-30         MLCE             G   \n",
       "\n",
       "       cap_class style_class  \n",
       "118894        SC           C  \n",
       "118895        ML           C  "
      ]
     },
     "execution_count": 45,
     "metadata": {},
     "output_type": "execute_result"
    }
   ],
   "source": [
    "fund_style.query('crsp_fundno == 38200')"
   ]
  },
  {
   "cell_type": "code",
   "execution_count": 46,
   "metadata": {},
   "outputs": [],
   "source": [
    "def most_common_stocks_fund(year,crsp_fundno):\n",
    "    \"This prints a passed string into this function\"\n",
    "    # Enter date for which most common holdings are calculated\n",
    "    year = year\n",
    "    crsp_fundno = crsp_fundno\n",
    "\n",
    "    holdings_coo = holdings.tocoo()\n",
    "\n",
    "    df_sparse = pd.DataFrame({'row'  : holdings_coo.row,\n",
    "                              'col'  : holdings_coo.col,\n",
    "                              'data' : holdings_coo.data})\n",
    "\n",
    "    df_sparse = df_sparse.merge(row_info[['year','row','crsp_fundno']],how='left',on='row')\n",
    "    row_info_s = row_info.assign(year = row_info['report_dt'].dt.year)\n",
    "    my_filter = '''year == @year and crsp_fundno == @crsp_fundno '''\n",
    "    no_unique_funds = row_info_s.query(my_filter).shape[0]\n",
    "\n",
    "    sum_col = (df_sparse\n",
    "               .query(my_filter)\n",
    "               .groupby(by = ['col'])\n",
    "               .mean()\n",
    "               .sort_values('data',ascending = False)\n",
    "               .join(col_info[['security_name','col']],how='left')\n",
    "               .assign(percent = lambda x:  x.data)\n",
    "               .drop(columns=['row','data','col','year','crsp_fundno'])\n",
    "               .reset_index(drop=True)\n",
    "               .head(10))\n",
    "    \n",
    "    print(\n",
    "        'Average of most held stocks for one fund in one year: ','\\n\\n'\n",
    "        'crsp_fundno:                            {}'.format(crsp_fundno),'\\n'\n",
    "        'Year:                                   {}'.format(year),'\\n'\n",
    "        'Number of observations in that year:    {}'.format(no_unique_funds))\n",
    "\n",
    "    return sum_col"
   ]
  },
  {
   "cell_type": "code",
   "execution_count": 47,
   "metadata": {
    "scrolled": true
   },
   "outputs": [
    {
     "name": "stdout",
     "output_type": "stream",
     "text": [
      "Average of most held stocks for one fund in one year:  \n",
      "\n",
      "crsp_fundno:                            28284 \n",
      "Year:                                   2017 \n",
      "Number of observations in that year:    1\n"
     ]
    },
    {
     "data": {
      "text/html": [
       "<div>\n",
       "<style scoped>\n",
       "    .dataframe tbody tr th:only-of-type {\n",
       "        vertical-align: middle;\n",
       "    }\n",
       "\n",
       "    .dataframe tbody tr th {\n",
       "        vertical-align: top;\n",
       "    }\n",
       "\n",
       "    .dataframe thead th {\n",
       "        text-align: right;\n",
       "    }\n",
       "</style>\n",
       "<table border=\"1\" class=\"dataframe\">\n",
       "  <thead>\n",
       "    <tr style=\"text-align: right;\">\n",
       "      <th></th>\n",
       "      <th>security_name</th>\n",
       "      <th>percent</th>\n",
       "    </tr>\n",
       "  </thead>\n",
       "  <tbody>\n",
       "    <tr>\n",
       "      <th>0</th>\n",
       "      <td>GUGGENHEIM STRATEGY FUND III</td>\n",
       "      <td>32.949982</td>\n",
       "    </tr>\n",
       "    <tr>\n",
       "      <th>1</th>\n",
       "      <td>GUGGENHEIM STRATEGY FUND II</td>\n",
       "      <td>29.259995</td>\n",
       "    </tr>\n",
       "    <tr>\n",
       "      <th>2</th>\n",
       "      <td>GUGGENHEIM STRATEGY FUND I</td>\n",
       "      <td>9.629997</td>\n",
       "    </tr>\n",
       "    <tr>\n",
       "      <th>3</th>\n",
       "      <td>GUGGENHEIM LIMITED DURATION FUND;INSTITUTIONAL</td>\n",
       "      <td>7.759998</td>\n",
       "    </tr>\n",
       "    <tr>\n",
       "      <th>4</th>\n",
       "      <td>DREYFUS TREASURY PRIME CASH MANAGEMENT;INST</td>\n",
       "      <td>2.039999</td>\n",
       "    </tr>\n",
       "    <tr>\n",
       "      <th>5</th>\n",
       "      <td>APPLE INC</td>\n",
       "      <td>0.770000</td>\n",
       "    </tr>\n",
       "    <tr>\n",
       "      <th>6</th>\n",
       "      <td>JPMORGAN CHASE &amp; CO</td>\n",
       "      <td>0.470000</td>\n",
       "    </tr>\n",
       "    <tr>\n",
       "      <th>7</th>\n",
       "      <td>PFIZER INC</td>\n",
       "      <td>0.350000</td>\n",
       "    </tr>\n",
       "    <tr>\n",
       "      <th>8</th>\n",
       "      <td>ALPHABET INC</td>\n",
       "      <td>0.340000</td>\n",
       "    </tr>\n",
       "    <tr>\n",
       "      <th>9</th>\n",
       "      <td>CITIGROUP INC ORD</td>\n",
       "      <td>0.340000</td>\n",
       "    </tr>\n",
       "  </tbody>\n",
       "</table>\n",
       "</div>"
      ],
      "text/plain": [
       "                                    security_name    percent\n",
       "0                    GUGGENHEIM STRATEGY FUND III  32.949982\n",
       "1                     GUGGENHEIM STRATEGY FUND II  29.259995\n",
       "2                      GUGGENHEIM STRATEGY FUND I   9.629997\n",
       "3  GUGGENHEIM LIMITED DURATION FUND;INSTITUTIONAL   7.759998\n",
       "4     DREYFUS TREASURY PRIME CASH MANAGEMENT;INST   2.039999\n",
       "5                                       APPLE INC   0.770000\n",
       "6                             JPMORGAN CHASE & CO   0.470000\n",
       "7                                      PFIZER INC   0.350000\n",
       "8                                    ALPHABET INC   0.340000\n",
       "9                               CITIGROUP INC ORD   0.340000"
      ]
     },
     "execution_count": 47,
     "metadata": {},
     "output_type": "execute_result"
    }
   ],
   "source": [
    "most_common_stocks_fund(year=2017, crsp_fundno='28284')"
   ]
  },
  {
   "cell_type": "code",
   "execution_count": 64,
   "metadata": {
    "scrolled": false
   },
   "outputs": [
    {
     "name": "stdout",
     "output_type": "stream",
     "text": [
      "Most held stocks:  \n",
      "\n",
      "Lipper class:       EIEI \n",
      "Number of funds:    143 \n",
      "Year:               2016\n",
      "    data               security_name    percent\n",
      "0  101.0              MICROSOFT CORP  70.629371\n",
      "1   95.0                  PFIZER INC  66.433566\n",
      "2   94.0           JOHNSON & JOHNSON  65.734266\n",
      "3   91.0  VERIZON COMMUNICATIONS INC  63.636364\n",
      "4   90.0         JPMORGAN CHASE & CO  62.937063\n",
      "5   90.0          MERCK & CO INC NEW  62.937063\n",
      "6   87.0            CHEVRON CORP NEW  60.839161\n",
      "7   85.0        WELLS FARGO & CO NEW  59.440559\n",
      "8   83.0                 A T & T INC  58.041958\n",
      "9   81.0            EXXON MOBIL CORP  56.643357\n",
      "Most held stocks:  \n",
      "\n",
      "Lipper class:       G \n",
      "Number of funds:    0 \n",
      "Year:               2016\n",
      "Empty DataFrame\n",
      "Columns: [data, security_name, percent]\n",
      "Index: []\n",
      "Most held stocks:  \n",
      "\n",
      "Lipper class:       LCVE \n",
      "Number of funds:    153 \n",
      "Year:               2016\n",
      "    data               security_name    percent\n",
      "0  129.0         JPMORGAN CHASE & CO  84.313725\n",
      "1  115.0                  PFIZER INC  75.163399\n",
      "2  115.0        WELLS FARGO & CO NEW  75.163399\n",
      "3  114.0           CITIGROUP INC ORD  74.509804\n",
      "4  111.0          MERCK & CO INC NEW  72.549020\n",
      "5  110.0            CHEVRON CORP NEW  71.895425\n",
      "6  102.0           CISCO SYSTEMS INC  66.666667\n",
      "7   98.0  VERIZON COMMUNICATIONS INC  64.052288\n",
      "8   97.0              MICROSOFT CORP  63.398693\n",
      "9   92.0                 METLIFE INC  60.130719\n",
      "Most held stocks:  \n",
      "\n",
      "Lipper class:       LCCE \n",
      "Number of funds:    269 \n",
      "Year:               2016\n",
      "    data         security_name    percent\n",
      "0  217.0             APPLE INC  80.669145\n",
      "1  206.0        MICROSOFT CORP  76.579926\n",
      "2  186.0      COMCAST CORP NEW  69.144981\n",
      "3  182.0   JPMORGAN CHASE & CO  67.657993\n",
      "4  171.0     JOHNSON & JOHNSON  63.568773\n",
      "5  169.0          ALPHABET INC  62.825279\n",
      "6  169.0     CISCO SYSTEMS INC  62.825279\n",
      "7  169.0          ALPHABET INC  62.825279\n",
      "8  168.0  WELLS FARGO & CO NEW  62.453532\n",
      "9  153.0   SCHLUMBERGER NV ORD  56.877323\n",
      "Most held stocks:  \n",
      "\n",
      "Lipper class:       LCGE \n",
      "Number of funds:    238 \n",
      "Year:               2016\n",
      "    data       security_name    percent\n",
      "0  223.0        FACEBOOK INC  93.697479\n",
      "1  212.0            VISA INC  89.075630\n",
      "2  208.0      AMAZON COM INC  87.394958\n",
      "3  198.0           APPLE INC  83.193277\n",
      "4  196.0        ALPHABET INC  82.352941\n",
      "5  178.0        ALPHABET INC  74.789916\n",
      "6  176.0      MICROSOFT CORP  73.949580\n",
      "7  167.0  SALESFORCE COM INC  70.168067\n",
      "8  162.0        CELGENE CORP  68.067227\n",
      "9  158.0      STARBUCKS CORP  66.386555\n",
      "Most held stocks:  \n",
      "\n",
      "Lipper class:       MLVE \n",
      "Number of funds:    95 \n",
      "Year:               2016\n",
      "   data                         security_name    percent\n",
      "0  48.0                   JPMORGAN CHASE & CO  50.526316\n",
      "1  47.0                     CITIGROUP INC ORD  49.473684\n",
      "2  45.0                  WELLS FARGO & CO NEW  47.368421\n",
      "3  44.0                  BANK OF AMERICA CORP  46.315789\n",
      "4  43.0                     JOHNSON & JOHNSON  45.263158\n",
      "5  43.0                     CISCO SYSTEMS INC  45.263158\n",
      "6  42.0                            PFIZER INC  44.210526\n",
      "7  41.0                  EDISON INTERNATIONAL  43.157895\n",
      "8  40.0                    MERCK & CO INC NEW  42.105263\n",
      "9  40.0  PNC FINANCIAL SERVICES GROUP INC ORD  42.105263\n",
      "Most held stocks:  \n",
      "\n",
      "Lipper class:       MLCE \n",
      "Number of funds:    208 \n",
      "Year:               2016\n",
      "    data               security_name    percent\n",
      "0  112.0                   APPLE INC  53.846154\n",
      "1  108.0              MICROSOFT CORP  51.923077\n",
      "2   91.0         JPMORGAN CHASE & CO  43.750000\n",
      "3   88.0           CISCO SYSTEMS INC  42.307692\n",
      "4   88.0           JOHNSON & JOHNSON  42.307692\n",
      "5   87.0                ALPHABET INC  41.826923\n",
      "6   86.0                ALPHABET INC  41.346154\n",
      "7   83.0  VERIZON COMMUNICATIONS INC  39.903846\n",
      "8   82.0             PEPSICO INC ORD  39.423077\n",
      "9   79.0         GILEAD SCIENCES INC  37.980769\n",
      "Most held stocks:  \n",
      "\n",
      "Lipper class:       MLGE \n",
      "Number of funds:    182 \n",
      "Year:               2016\n",
      "    data        security_name    percent\n",
      "0  119.0         FACEBOOK INC  65.384615\n",
      "1  109.0       AMAZON COM INC  59.890110\n",
      "2  102.0         ALPHABET INC  56.043956\n",
      "3   94.0             VISA INC  51.648352\n",
      "4   89.0            APPLE INC  48.901099\n",
      "5   87.0         ALPHABET INC  47.802198\n",
      "6   77.0       MICROSOFT CORP  42.307692\n",
      "7   75.0   SALESFORCE COM INC  41.208791\n",
      "8   74.0       HOME DEPOT INC  40.659341\n",
      "9   73.0  ELECTRONIC ARTS INC  40.109890\n",
      "Most held stocks:  \n",
      "\n",
      "Lipper class:       MCVE \n",
      "Number of funds:    52 \n",
      "Year:               2016\n",
      "   data               security_name    percent\n",
      "0  23.0    WESTERN DIGITAL CORP ORD  44.230769\n",
      "1  22.0         FIFTH THIRD BANCORP  42.307692\n",
      "2  21.0              AMDOCS LTD ORD  40.384615\n",
      "3  21.0            FIRSTENERGY CORP  40.384615\n",
      "4  21.0                COMERICA INC  40.384615\n",
      "5  20.0  ZIMMER BIOMET HOLDINGS INC  38.461538\n",
      "6  20.0                  A E S CORP  38.461538\n",
      "7  19.0                XL GROUP ORD  36.538462\n",
      "8  19.0        ZIONS BANCORPORATION  36.538462\n",
      "9  18.0                   HESS CORP  34.615385\n",
      "Most held stocks:  \n",
      "\n",
      "Lipper class:       MCCE \n",
      "Number of funds:    115 \n",
      "Year:               2016\n",
      "   data                    security_name    percent\n",
      "0  32.0             ZIONS BANCORPORATION  27.826087\n",
      "1  31.0  HARTFORD FINANCIAL SVCS GRP INC  26.956522\n",
      "2  30.0                      HUBBELL INC  26.086957\n",
      "3  29.0                     PVH CORP ORD  25.217391\n",
      "4  28.0      FIRST REPUBLIC BANK S F NEW  24.347826\n",
      "5  28.0      RAYMOND JAMES FINANCIAL INC  24.347826\n",
      "6  28.0                NEWELL BRANDS INC  24.347826\n",
      "7  28.0               INGERSOLL RAND PLC  24.347826\n",
      "8  27.0                      SNAP ON INC  23.478261\n",
      "9  27.0            ARROW ELECTRONICS INC  23.478261\n",
      "Most held stocks:  \n",
      "\n",
      "Lipper class:       MCGE \n",
      "Number of funds:    140 \n",
      "Year:               2016\n",
      "   data                  security_name    percent\n",
      "0  69.0                 SERVICENOW INC  49.285714\n",
      "1  68.0                  MIDDLEBY CORP  48.571429\n",
      "2  64.0    O REILLY AUTOMOTIVE INC NEW  45.714286\n",
      "3  62.0               COSTAR GROUP INC  44.285714\n",
      "4  56.0              ACUITY BRANDS INC  40.000000\n",
      "5  56.0         GUIDEWIRE SOFTWARE INC  40.000000\n",
      "6  55.0  AFFILIATED MANAGERS GROUP INC  39.285714\n",
      "7  55.0                     VANTIV INC  39.285714\n",
      "8  54.0          TRACTOR SUPPLY CO NEW  38.571429\n",
      "9  53.0          BURLINGTON STORES INC  37.857143\n",
      "Most held stocks:  \n",
      "\n",
      "Lipper class:       SCVE \n",
      "Number of funds:    97 \n",
      "Year:               2016\n",
      "   data                 security_name    percent\n",
      "0  39.0  PORTLAND GENERAL ELECTRIC CO  40.206186\n",
      "1  37.0    VISHAY INTERTECHNOLOGY INC  38.144330\n",
      "2  32.0    BROWN SHOE COMPANY INC ORD  32.989691\n",
      "3  32.0                  DANA INC ORD  32.989691\n",
      "4  31.0               EMCOR GROUP INC  31.958763\n",
      "5  31.0     BENCHMARK ELECTRONICS INC  31.958763\n",
      "6  31.0          ACCO BRANDS CORP ORD  31.958763\n",
      "7  30.0          MENTOR GRAPHICS CORP  30.927835\n",
      "8  30.0        WEBSTER FINANCIAL CORP  30.927835\n",
      "9  29.0          SANMINA-SCI CORP ORD  29.896907\n",
      "Most held stocks:  \n",
      "\n",
      "Lipper class:       SCCE \n",
      "Number of funds:    227 \n",
      "Year:               2016\n",
      "   data                     security_name    percent\n",
      "0  70.0         MINERALS TECHNOLOGIES INC  30.837004\n",
      "1  68.0      PORTLAND GENERAL ELECTRIC CO  29.955947\n",
      "2  68.0                   EMCOR GROUP INC  29.955947\n",
      "3  62.0  AMERICAN EAGLE OUTFITTERS INC NE  27.312775\n",
      "4  62.0             M K S INSTRUMENTS INC  27.312775\n",
      "5  61.0                    LITTELFUSE INC  26.872247\n",
      "6  61.0         GREAT WESTERN BANCORP INC  26.872247\n",
      "7  60.0           COOPER TIRE & RUBBER CO  26.431718\n",
      "8  60.0                      CAMBREX CORP  26.431718\n",
      "9  58.0              WABASH NATIONAL CORP  25.550661\n",
      "Most held stocks:  \n",
      "\n",
      "Lipper class:       SCGE \n",
      "Number of funds:    185 \n",
      "Year:               2016\n",
      "   data               security_name    percent\n",
      "0  84.0              PROOFPOINT INC  45.405405\n",
      "1  80.0              FIVE BELOW INC  43.243243\n",
      "2  75.0               ELLIE MAE INC  40.540541\n",
      "3  73.0      MONOLITHIC PWR SYS INC  39.459459\n",
      "4  72.0      TYLER TECHNOLOGIES INC  38.918919\n",
      "5  69.0      GUIDEWIRE SOFTWARE INC  37.297297\n",
      "6  69.0     ULTIMATE SOFTWARE GROUP  37.297297\n",
      "7  68.0     MONRO MUFFLER BRAKE INC  36.756757\n",
      "8  67.0  NEUROCRINE BIOSCIENCES INC  36.216216\n",
      "9  65.0               WAGEWORKS INC  35.135135\n"
     ]
    }
   ],
   "source": [
    "for code in options.get('selected_obj_codes'):\n",
    "    print(most_common_stocks(year=2016, lipper_class=code))"
   ]
  },
  {
   "cell_type": "code",
   "execution_count": null,
   "metadata": {},
   "outputs": [],
   "source": []
  }
 ],
 "metadata": {
  "kernelspec": {
   "display_name": "MT",
   "language": "python",
   "name": "mt"
  },
  "language_info": {
   "codemirror_mode": {
    "name": "ipython",
    "version": 3
   },
   "file_extension": ".py",
   "mimetype": "text/x-python",
   "name": "python",
   "nbconvert_exporter": "python",
   "pygments_lexer": "ipython3",
   "version": "3.7.4"
  },
  "toc": {
   "base_numbering": 1,
   "nav_menu": {},
   "number_sections": true,
   "sideBar": true,
   "skip_h1_title": false,
   "title_cell": "Table of Contents",
   "title_sidebar": "Contents",
   "toc_cell": true,
   "toc_position": {
    "height": "calc(100% - 180px)",
    "left": "10px",
    "top": "150px",
    "width": "165px"
   },
   "toc_section_display": true,
   "toc_window_display": true
  }
 },
 "nbformat": 4,
 "nbformat_minor": 2
}
