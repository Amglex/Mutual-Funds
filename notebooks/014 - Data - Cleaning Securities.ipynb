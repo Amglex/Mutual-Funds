{
 "cells": [
  {
   "cell_type": "markdown",
   "metadata": {
    "toc": true
   },
   "source": [
    "<h1>Table of Contents<span class=\"tocSkip\"></span></h1>\n",
    "<div class=\"toc\"><ul class=\"toc-item\"><li><span><a href=\"#Other-functions\" data-toc-modified-id=\"Other-functions-1\"><span class=\"toc-item-num\">1&nbsp;&nbsp;</span>Other functions</a></span><ul class=\"toc-item\"><li><span><a href=\"#Filter\" data-toc-modified-id=\"Filter-1.1\"><span class=\"toc-item-num\">1.1&nbsp;&nbsp;</span>Filter</a></span></li></ul></li><li><span><a href=\"#macth-number-of-occurences-to-col_info\" data-toc-modified-id=\"macth-number-of-occurences-to-col_info-2\"><span class=\"toc-item-num\">2&nbsp;&nbsp;</span>macth number of occurences to col_info</a></span></li><li><span><a href=\"#Clean\" data-toc-modified-id=\"Clean-3\"><span class=\"toc-item-num\">3&nbsp;&nbsp;</span>Clean</a></span></li><li><span><a href=\"#Replace\" data-toc-modified-id=\"Replace-4\"><span class=\"toc-item-num\">4&nbsp;&nbsp;</span>Replace</a></span></li><li><span><a href=\"#Combining-securities-with-same-cusip-/-permno-/-permco\" data-toc-modified-id=\"Combining-securities-with-same-cusip-/-permno-/-permco-5\"><span class=\"toc-item-num\">5&nbsp;&nbsp;</span>Combining securities with same cusip / permno / permco</a></span></li><li><span><a href=\"#Inspecting-effect-of-cleaning\" data-toc-modified-id=\"Inspecting-effect-of-cleaning-6\"><span class=\"toc-item-num\">6&nbsp;&nbsp;</span>Inspecting effect of cleaning</a></span><ul class=\"toc-item\"><li><span><a href=\"#Overview-of-cleaning-the-security-data-by-name\" data-toc-modified-id=\"Overview-of-cleaning-the-security-data-by-name-6.1\"><span class=\"toc-item-num\">6.1&nbsp;&nbsp;</span>Overview of cleaning the security data by name</a></span></li><li><span><a href=\"#Overview-of-cleaning-by-cusip\" data-toc-modified-id=\"Overview-of-cleaning-by-cusip-6.2\"><span class=\"toc-item-num\">6.2&nbsp;&nbsp;</span>Overview of cleaning by cusip</a></span></li><li><span><a href=\"#Overview-of-cleaning-by-cusip\" data-toc-modified-id=\"Overview-of-cleaning-by-cusip-6.3\"><span class=\"toc-item-num\">6.3&nbsp;&nbsp;</span>Overview of cleaning by cusip</a></span></li></ul></li><li><span><a href=\"#Distribution-of-cusip-and-crsp_company_key\" data-toc-modified-id=\"Distribution-of-cusip-and-crsp_company_key-7\"><span class=\"toc-item-num\">7&nbsp;&nbsp;</span>Distribution of cusip and crsp_company_key</a></span></li></ul></div>"
   ]
  },
  {
   "cell_type": "markdown",
   "metadata": {},
   "source": [
    "Findings:\n",
    "\n",
    "Nearly all 'ord' stocks don't have perno or permco\n",
    "\n",
    "Some stocks appear twice (at least based on name)"
   ]
  },
  {
   "cell_type": "markdown",
   "metadata": {},
   "source": [
    "# Analysis of holdings"
   ]
  },
  {
   "cell_type": "markdown",
   "metadata": {},
   "source": [
    "Description:\n",
    "\n"
   ]
  },
  {
   "cell_type": "code",
   "execution_count": null,
   "metadata": {},
   "outputs": [],
   "source": [
    "import feather\n",
    "import numpy as np\n",
    "import pandas as pd\n",
    "\n",
    "from scipy import sparse\n",
    "\n",
    "from sklearn.preprocessing import normalize, minmax_scale\n",
    "\n",
    "import matplotlib.pyplot as plt"
   ]
  },
  {
   "cell_type": "code",
   "execution_count": null,
   "metadata": {},
   "outputs": [],
   "source": [
    "### Returns\n",
    "path = '../data/processed/returns.feather'\n",
    "returns = feather.read_dataframe(path)\n",
    "returns = returns.rename(columns = {'caldt' : 'report_dt'})\n",
    "returns = returns.assign(year = returns['report_dt'].dt.year)\n",
    "\n",
    "### row_info\n",
    "path = '../data/processed/row_info.feather'\n",
    "row_info = feather.read_dataframe(path)\n",
    "\n",
    "### col_info\n",
    "path = '../data/processed/col_info.feather'\n",
    "col_info = feather.read_dataframe(path)\n",
    "\n",
    "### Holdings\n",
    "path = '../data/processed/holdings.npz'\n",
    "holdings = sparse.load_npz(path)\n",
    "\n",
    "## Linktable\n",
    "path = '../data/raw/ccm_link.feather'\n",
    "ccm_link = feather.read_dataframe(path)"
   ]
  },
  {
   "cell_type": "code",
   "execution_count": null,
   "metadata": {},
   "outputs": [],
   "source": [
    "holdings.shape"
   ]
  },
  {
   "cell_type": "code",
   "execution_count": null,
   "metadata": {},
   "outputs": [],
   "source": [
    "row_info.shape"
   ]
  },
  {
   "cell_type": "code",
   "execution_count": null,
   "metadata": {},
   "outputs": [],
   "source": [
    "col_info.shape"
   ]
  },
  {
   "cell_type": "markdown",
   "metadata": {},
   "source": [
    "## Other functions"
   ]
  },
  {
   "cell_type": "markdown",
   "metadata": {},
   "source": [
    "### Filter"
   ]
  },
  {
   "cell_type": "code",
   "execution_count": null,
   "metadata": {},
   "outputs": [],
   "source": [
    "def filter_data(year, preprocessing, verbose = False):\n",
    "    \n",
    "    year = year\n",
    "        \n",
    "    row_info_f = row_info.copy()\n",
    "    \n",
    "    row_info_f = row_info_f.query('year == @year')\n",
    "\n",
    "    begin_date = row_info_f.iloc[0,:]['report_dt']\n",
    "    end_date = begin_date + pd.DateOffset(years=1) # 1 year offset\n",
    "    row_info_f.reset_index(drop = True, inplace=True)\n",
    "\n",
    "    # Filter returns\n",
    "    crsp_fundno_unique = row_info_f['crsp_fundno'].unique()\n",
    "    returns_f = returns.copy()\n",
    "    query = '''report_dt >= @begin_date and report_dt <= @end_date and crsp_fundno in @crsp_fundno_unique'''\n",
    "    returns_f = returns_f.query(query)\n",
    "\n",
    "    # Change return of month for which holdings apply to 0\n",
    "    returns_f = returns_f.copy()\n",
    "    mask = returns_f['report_dt'] == begin_date\n",
    "    returns_f.loc[mask,'mret'] = 0\n",
    "    \n",
    "    # Drop all funds with first return observation after starting date\n",
    "    drop_fundnos = returns_f.drop_duplicates('crsp_fundno').query('mret != 0')['crsp_fundno']\n",
    "    returns_f.query('crsp_fundno not in @drop_fundnos', inplace=True)\n",
    "    row_info_f.query('crsp_fundno not in @drop_fundnos', inplace=True)\n",
    "    \n",
    "    # Filter holdings accordingly and delet all securities with less than two observations\n",
    "    holdings_f = holdings.copy()\n",
    "    holdings_f = holdings[row_info_f['row']]\n",
    "    \n",
    "    holdings_b = sparse.csr_matrix(holdings_f, copy=True)\n",
    "    holdings_b.data = np.ones(len(holdings_f.data))\n",
    "\n",
    "    sum_sec_boolean = holdings_b.toarray().sum(0)\n",
    "    col_mask = (sum_sec_boolean >= 1).flatten()\n",
    "    \n",
    "    col_info_f = col_info[col_mask]\n",
    "    \n",
    "    # reset rows and columns\n",
    "    row_info_f.reset_index(drop=True,inplace=True)\n",
    "    row_info_f = row_info_f.assign(row = row_info_f.index)\n",
    "\n",
    "    col_info_f.reset_index(drop=True,inplace=True)\n",
    "    col_info_f = col_info_f.assign(col = col_info_f.index)\n",
    "\n",
    "    \n",
    "    holdings_f = holdings_f.tocsc()\n",
    "    holdings_f = holdings_f[:,col_mask]\n",
    "    holdings_f = holdings_f.tocsr()\n",
    "    \n",
    "    holdings_b = holdings_b.tocsc()\n",
    "    holdings_b = holdings_b[:,col_mask]\n",
    "    holdings_b = holdings_b.tocsr()\n",
    "    \n",
    "    ## Preprocessing\n",
    "    if (preprocessing == 'none'): holdings_ft = holdings_f\n",
    "    if (preprocessing == 'l1'):   holdings_ft = normalize(holdings_f, norm = 'l1')\n",
    "    if (preprocessing == 'l2'):   holdings_ft = normalize(holdings_f, norm = 'l2')\n",
    "\n",
    "    \n",
    "    if (verbose):\n",
    "        print('Shape of holdings:          {:6,d} / {:6,d}'.format(holdings_ft.shape[0],holdings_ft.shape[1]))\n",
    "\n",
    "        print('Numer of unique securities:      {:10,d}'.format(col_info_f.shape[0]))\n",
    "        print('Numer of unique funds:           {:10,d}'.format(row_info_f.shape[0]))\n",
    "\n",
    "        print('Begin date:                      {}'.format(begin_date.date()))\n",
    "        print('End date:                        {}'.format(end_date.date()))\n",
    "    \n",
    "    return(row_info_f, col_info_f, returns_f, holdings_ft, holdings_b, begin_date, end_date)"
   ]
  },
  {
   "cell_type": "code",
   "execution_count": null,
   "metadata": {},
   "outputs": [],
   "source": [
    "row_info_f, col_info_f, returns_f, holdings_ft, holdings_b, begin_date, end_date = filter_data(2016,'none',verbose=True)"
   ]
  },
  {
   "cell_type": "code",
   "execution_count": null,
   "metadata": {},
   "outputs": [],
   "source": [
    "col_info = col_info_f"
   ]
  },
  {
   "cell_type": "markdown",
   "metadata": {},
   "source": [
    "## macth number of occurences to col_info"
   ]
  },
  {
   "cell_type": "code",
   "execution_count": null,
   "metadata": {},
   "outputs": [],
   "source": [
    "sec_sums = pd.DataFrame(holdings_b.sum(0).flatten()).T"
   ]
  },
  {
   "cell_type": "code",
   "execution_count": null,
   "metadata": {},
   "outputs": [],
   "source": [
    "col_info['sum'] = sec_sums"
   ]
  },
  {
   "cell_type": "code",
   "execution_count": null,
   "metadata": {},
   "outputs": [],
   "source": [
    "col_info.shape"
   ]
  },
  {
   "cell_type": "code",
   "execution_count": null,
   "metadata": {},
   "outputs": [],
   "source": [
    "t = 2000\n",
    "col_info.sort_values('security_name').iloc[t:t+30,:]"
   ]
  },
  {
   "cell_type": "code",
   "execution_count": null,
   "metadata": {},
   "outputs": [],
   "source": [
    "print(col_info.reset_index().loc[:6079,'sum'].sum())\n",
    "print(col_info.reset_index().loc[6079:,'sum'].sum())"
   ]
  },
  {
   "cell_type": "markdown",
   "metadata": {},
   "source": [
    "## Clean"
   ]
  },
  {
   "cell_type": "code",
   "execution_count": null,
   "metadata": {},
   "outputs": [],
   "source": [
    "# Replacing ' ORD' in name\n",
    "col_info['security_name'] = col_info['security_name'].str.replace(' ORD$','')\n",
    "#col_info['security_name'] = col_info['security_name'].str.replace(' DR$','')\n",
    "\n",
    "#\n",
    "col_info['cusip_short'] = col_info['cusip'].astype(str).str[:7]\n",
    "\n",
    "col_info['cusip_short_f'] = col_info['cusip_short'].astype(str).str.replace('[0-9]$','@')\n",
    "col_info['cusip_short_f'] = col_info['cusip_short_f'].astype(str).str.replace('[A-Z]$','D')\n",
    "col_info['cusip_short_f'] = col_info['cusip_short_f'].astype(str).str.replace('@','E')\n",
    "\n",
    "col_info['type'] = col_info['cusip_short'].astype(str).str[6:7]\n",
    "\n",
    "col_info = col_info[['security_name', 'crsp_company_key',\n",
    "                     'cusip', 'cusip_short', 'cusip_short_f', \n",
    "                     'permno', 'permco', 'ticker', 'sum']]"
   ]
  },
  {
   "cell_type": "code",
   "execution_count": null,
   "metadata": {},
   "outputs": [],
   "source": [
    "col_info[col_info['security_name'].str.contains('DONAL')]"
   ]
  },
  {
   "cell_type": "markdown",
   "metadata": {},
   "source": [
    "## Replace"
   ]
  },
  {
   "cell_type": "code",
   "execution_count": null,
   "metadata": {},
   "outputs": [],
   "source": [
    "col_info = col_info.sort_values(['cusip','permno'])\n",
    "\n",
    "col_info = col_info.reset_index(drop=True)\n",
    "col_info = col_info.assign(col=col_info.index)"
   ]
  },
  {
   "cell_type": "code",
   "execution_count": null,
   "metadata": {},
   "outputs": [],
   "source": [
    "#col_info['col_n'] = col_info[['cusip_short_f','col']].groupby('cusip_short_f').apply(lambda x : x.head(1).repeat(x.shape[0])).values\n",
    "col_info['col_n'] = col_info[['cusip_short_f','col']].groupby('cusip_short_f').agg('first')"
   ]
  },
  {
   "cell_type": "code",
   "execution_count": null,
   "metadata": {},
   "outputs": [],
   "source": []
  },
  {
   "cell_type": "markdown",
   "metadata": {},
   "source": [
    "## Combining securities with same cusip / permno / permco"
   ]
  },
  {
   "cell_type": "code",
   "execution_count": null,
   "metadata": {},
   "outputs": [],
   "source": [
    "col_info = col_info.drop(columns='col_old')"
   ]
  },
  {
   "cell_type": "code",
   "execution_count": null,
   "metadata": {},
   "outputs": [],
   "source": [
    "col_info.groupby('cusip')"
   ]
  },
  {
   "cell_type": "markdown",
   "metadata": {},
   "source": [
    "## Inspecting effect of cleaning"
   ]
  },
  {
   "cell_type": "markdown",
   "metadata": {},
   "source": [
    "### Overview of cleaning the security data by name"
   ]
  },
  {
   "cell_type": "code",
   "execution_count": null,
   "metadata": {},
   "outputs": [],
   "source": [
    "col_names = col_info['security_name']\n",
    "print('Number of securities                           {:<6,d}'.format(col_names.shape[0]))\n",
    "print('Number of unique securities                    {:<6,d}'.format(col_names.unique().shape[0]))"
   ]
  },
  {
   "cell_type": "code",
   "execution_count": null,
   "metadata": {},
   "outputs": [],
   "source": [
    "col_names = col_names.str.replace(' ADR$','')\n",
    "col_names = col_names.str.replace(' DR$','')\n",
    "print('Number of unique securities without ORD        {:<6,d}'.format(col_names.unique().shape[0]))"
   ]
  },
  {
   "cell_type": "code",
   "execution_count": null,
   "metadata": {},
   "outputs": [],
   "source": [
    "a = col_names[col_names.str.contains('Fund', case = False)]\n",
    "print('Number of securities with fund in the name              {:<6,d}'.format(a.shape[0]))"
   ]
  },
  {
   "cell_type": "markdown",
   "metadata": {},
   "source": [
    "### Overview of cleaning by cusip"
   ]
  },
  {
   "cell_type": "code",
   "execution_count": null,
   "metadata": {},
   "outputs": [],
   "source": [
    "col_names = col_info['cusip']\n",
    "print('Number of securities                               {:>10,d}'.format(col_names.shape[0]))\n",
    "print('Number of unique securities by cusip               {:>10,d}'.format(col_names.unique().shape[0]))\n",
    "col_names = col_info['cusip_short']    \n",
    "print('Number of unique securities by short cusip         {:>10,d}'.format(col_names.unique().shape[0]))\n",
    "\n",
    "col_names = col_info['cusip_short_f']\n",
    "print('Number of unique securities by short cusip D/E     {:>10,d}'.format(col_names.unique().shape[0]))"
   ]
  },
  {
   "cell_type": "markdown",
   "metadata": {},
   "source": [
    "### Overview of cleaning by cusip"
   ]
  },
  {
   "cell_type": "code",
   "execution_count": null,
   "metadata": {},
   "outputs": [],
   "source": [
    "col_names = col_info['permno']\n",
    "print('Number of securities                            {:>6,d}'.format(col_names.shape[0]))\n",
    "print('Number of unique securities by permno           {:>6,d}'.format(col_names.unique().shape[0]))"
   ]
  },
  {
   "cell_type": "code",
   "execution_count": null,
   "metadata": {},
   "outputs": [],
   "source": []
  },
  {
   "cell_type": "code",
   "execution_count": null,
   "metadata": {},
   "outputs": [],
   "source": []
  },
  {
   "cell_type": "code",
   "execution_count": null,
   "metadata": {},
   "outputs": [],
   "source": []
  },
  {
   "cell_type": "code",
   "execution_count": null,
   "metadata": {},
   "outputs": [],
   "source": []
  },
  {
   "cell_type": "code",
   "execution_count": null,
   "metadata": {},
   "outputs": [],
   "source": []
  },
  {
   "cell_type": "code",
   "execution_count": null,
   "metadata": {},
   "outputs": [],
   "source": []
  },
  {
   "cell_type": "code",
   "execution_count": null,
   "metadata": {},
   "outputs": [],
   "source": [
    "# Generate sparse holdings matrix with boolean values instead of more precise percent_tna values\n",
    "holdings_b = sparse.csr_matrix(holdings_ft, copy=True)\n",
    "holdings_b.data = np.ones(len(holdings_ft.data))"
   ]
  },
  {
   "cell_type": "code",
   "execution_count": null,
   "metadata": {},
   "outputs": [],
   "source": [
    "def most_common_stocks():\n",
    "    # Change if you want to sum percentages instead of boolean values\n",
    "    holdings_coo = holdings_b.tocoo()\n",
    "\n",
    "    df_sparse = pd.DataFrame({'row' : holdings_coo.row,\n",
    "                              'col' : holdings_coo.col,\n",
    "                              'data' : holdings_coo.data})\n",
    "\n",
    "    df_sparse = df_sparse.merge(row_info_f[['year','row','lipper_class']],how='left',on='row')\n",
    "\n",
    "    no_unique_funds = row_info_f.shape[0]\n",
    "\n",
    "    sum_col = (df_sparse\n",
    "               .groupby(by = ['col'])\n",
    "               .sum()\n",
    "               .sort_values('data',ascending = False)\n",
    "               .join(col_info_f[['security_name','col','crsp_company_key','cusip','permno','permco']],how='left')\n",
    "               .assign(percent = lambda x:  x.data / no_unique_funds * 100)\n",
    "               .drop(columns=['row','year','col'])\n",
    "               .reset_index(drop=True)\n",
    "               .head(100))\n",
    "\n",
    "    print(\n",
    "        'Most held stocks: ','\\n\\n'\n",
    "        'Number of funds:    {}'.format(no_unique_funds),'\\n'\n",
    "    )\n",
    "\n",
    "    return sum_col"
   ]
  },
  {
   "cell_type": "code",
   "execution_count": null,
   "metadata": {},
   "outputs": [],
   "source": [
    "most_common_stocks()"
   ]
  },
  {
   "cell_type": "code",
   "execution_count": null,
   "metadata": {},
   "outputs": [],
   "source": [
    "holdings_summary = pd.DataFrame(holdings_ft.sum(0).T)\n",
    "holdings_summary.columns = ['total']\n",
    "holdings_summary.shape"
   ]
  },
  {
   "cell_type": "markdown",
   "metadata": {},
   "source": [
    "## Distribution of cusip and crsp_company_key"
   ]
  },
  {
   "cell_type": "code",
   "execution_count": null,
   "metadata": {},
   "outputs": [],
   "source": [
    "col_info.sample()"
   ]
  },
  {
   "cell_type": "code",
   "execution_count": null,
   "metadata": {},
   "outputs": [],
   "source": [
    "print('Percentage of identifiers missing:')\n",
    "np.sum(col_info[['crsp_company_key','cusip','permno','permco']].isna()) / col_info.shape[0] * 100"
   ]
  },
  {
   "cell_type": "code",
   "execution_count": null,
   "metadata": {},
   "outputs": [],
   "source": [
    "print('Percentage of stocks with same cusip appearing twice:')\n",
    "col_info.drop_duplicates(subset='cusip').shape[0] / col_info.shape[0] * 100"
   ]
  },
  {
   "cell_type": "code",
   "execution_count": null,
   "metadata": {},
   "outputs": [],
   "source": [
    "print('Percentage of stocks with same SHORT cusip appearing twice:')\n",
    "col_info['short_cusip'] = col_info['cusip'].astype(str).str[:6]\n",
    "col_info.drop_duplicates(subset='short_cusip').shape[0] / col_info.shape[0] * 100"
   ]
  },
  {
   "cell_type": "code",
   "execution_count": null,
   "metadata": {},
   "outputs": [],
   "source": [
    "col_info"
   ]
  },
  {
   "cell_type": "code",
   "execution_count": null,
   "metadata": {},
   "outputs": [],
   "source": [
    "t = 10000\n",
    "col_info.sort_values('security_name').iloc[t:t+100,:]"
   ]
  },
  {
   "cell_type": "code",
   "execution_count": null,
   "metadata": {},
   "outputs": [],
   "source": [
    "col_info[col_info['security_name'].str.contains('ALLERGAN')]"
   ]
  },
  {
   "cell_type": "code",
   "execution_count": null,
   "metadata": {},
   "outputs": [],
   "source": [
    "col_info['security_name']"
   ]
  },
  {
   "cell_type": "code",
   "execution_count": null,
   "metadata": {},
   "outputs": [],
   "source": [
    "col_info['security_name'].drop_duplicates()"
   ]
  },
  {
   "cell_type": "code",
   "execution_count": null,
   "metadata": {},
   "outputs": [],
   "source": []
  },
  {
   "cell_type": "code",
   "execution_count": null,
   "metadata": {},
   "outputs": [],
   "source": [
    "col_info_f.shape"
   ]
  },
  {
   "cell_type": "code",
   "execution_count": null,
   "metadata": {},
   "outputs": [],
   "source": [
    "print(np.sum(col_info_f['permco'].isna()))\n",
    "col_info_f[col_info_f['permco'].isna()]"
   ]
  },
  {
   "cell_type": "code",
   "execution_count": null,
   "metadata": {},
   "outputs": [],
   "source": [
    "np.sum(col_info_f['crsp_company_key'].isna())"
   ]
  },
  {
   "cell_type": "code",
   "execution_count": null,
   "metadata": {},
   "outputs": [],
   "source": [
    "col_info_f['permco'] = col_info_f['permco'].astype(float)\n",
    "col_info_f['permno'] = col_info_f['permno'].astype(float)\n",
    "ccm_link['gvkey'] = ccm_link['gvkey'].astype(float)"
   ]
  },
  {
   "cell_type": "code",
   "execution_count": null,
   "metadata": {},
   "outputs": [],
   "source": [
    "ccm_link.head()"
   ]
  },
  {
   "cell_type": "code",
   "execution_count": null,
   "metadata": {},
   "outputs": [],
   "source": [
    "ccm_link['gvkey'] = ccm_link['gvkey'].astype(float)"
   ]
  },
  {
   "cell_type": "code",
   "execution_count": null,
   "metadata": {},
   "outputs": [],
   "source": [
    "ccm_link_f = ccm_link.dropna(subset = ['lpermno'])"
   ]
  },
  {
   "cell_type": "code",
   "execution_count": null,
   "metadata": {},
   "outputs": [],
   "source": [
    "col_info_fm = col_info_f.merge(ccm_link_f[['gvkey','lpermno']], how = 'left', left_on = ['permno'], right_on = ['lpermno'])"
   ]
  },
  {
   "cell_type": "code",
   "execution_count": null,
   "metadata": {},
   "outputs": [],
   "source": [
    "ccm_link_f[ccm_link_f['gvkey'] == 5047.0]"
   ]
  },
  {
   "cell_type": "code",
   "execution_count": null,
   "metadata": {},
   "outputs": [],
   "source": [
    "col_info_fm"
   ]
  },
  {
   "cell_type": "code",
   "execution_count": null,
   "metadata": {},
   "outputs": [],
   "source": [
    "col_info_fm.drop_duplicates().shape"
   ]
  },
  {
   "cell_type": "code",
   "execution_count": null,
   "metadata": {},
   "outputs": [],
   "source": []
  }
 ],
 "metadata": {
  "hide_input": false,
  "kernelspec": {
   "display_name": "Python 3",
   "language": "python",
   "name": "python3"
  },
  "language_info": {
   "codemirror_mode": {
    "name": "ipython",
    "version": 3
   },
   "file_extension": ".py",
   "mimetype": "text/x-python",
   "name": "python",
   "nbconvert_exporter": "python",
   "pygments_lexer": "ipython3",
   "version": "3.7.4"
  },
  "toc": {
   "base_numbering": 1,
   "nav_menu": {},
   "number_sections": true,
   "sideBar": true,
   "skip_h1_title": true,
   "title_cell": "Table of Contents",
   "title_sidebar": "Contents",
   "toc_cell": true,
   "toc_position": {
    "height": "calc(100% - 180px)",
    "left": "10px",
    "top": "150px",
    "width": "165px"
   },
   "toc_section_display": true,
   "toc_window_display": true
  }
 },
 "nbformat": 4,
 "nbformat_minor": 2
}
