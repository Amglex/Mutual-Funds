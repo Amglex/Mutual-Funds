{
 "cells": [
  {
   "cell_type": "markdown",
   "metadata": {},
   "source": [
    "# Analysis of monthly return data"
   ]
  },
  {
   "cell_type": "markdown",
   "metadata": {},
   "source": [
    "## Description"
   ]
  },
  {
   "cell_type": "markdown",
   "metadata": {},
   "source": [
    "- Calculate mean return per Style"
   ]
  },
  {
   "cell_type": "code",
   "execution_count": 98,
   "metadata": {},
   "outputs": [],
   "source": [
    "import feather\n",
    "import numpy as np\n",
    "import datetime\n",
    "import pandas as pd\n",
    "import seaborn as sns\n",
    "import matplotlib.pyplot as plt\n",
    "\n",
    "from scipy import sparse"
   ]
  },
  {
   "cell_type": "code",
   "execution_count": 2,
   "metadata": {},
   "outputs": [],
   "source": [
    "from sklearn.metrics import silhouette_samples, silhouette_score\n",
    "\n",
    "import matplotlib.pyplot as plt\n",
    "import matplotlib.cm as cm"
   ]
  },
  {
   "cell_type": "code",
   "execution_count": 3,
   "metadata": {},
   "outputs": [],
   "source": [
    "from sklearn.cluster import KMeans, MiniBatchKMeans, DBSCAN\n",
    "from sklearn.cluster import AffinityPropagation\n",
    "\n",
    "from sklearn.preprocessing import Normalizer, MaxAbsScaler"
   ]
  },
  {
   "cell_type": "markdown",
   "metadata": {},
   "source": [
    "# Setup"
   ]
  },
  {
   "cell_type": "code",
   "execution_count": 393,
   "metadata": {},
   "outputs": [],
   "source": [
    "# Convert to date format\n",
    "begin_date = '2018-01-01' \n",
    "end_date = '2019-01-01'"
   ]
  },
  {
   "cell_type": "markdown",
   "metadata": {},
   "source": [
    "## Load Data"
   ]
  },
  {
   "cell_type": "markdown",
   "metadata": {},
   "source": [
    "### Returns"
   ]
  },
  {
   "cell_type": "code",
   "execution_count": 394,
   "metadata": {},
   "outputs": [],
   "source": [
    "path = '../data/processed/EDY/returns_s.feather'\n",
    "returns = feather.read_dataframe(path)\n",
    "returns.shape\n",
    "\n",
    "# Convert to date format and filter based on date\n",
    "returns['date'] =  pd.to_datetime(returns['caldt'], format='%Y-%m-%d')\n",
    "returns = returns[returns['date'] > begin_date]"
   ]
  },
  {
   "cell_type": "markdown",
   "metadata": {},
   "source": [
    "### Summary"
   ]
  },
  {
   "cell_type": "code",
   "execution_count": 395,
   "metadata": {},
   "outputs": [
    {
     "data": {
      "text/plain": [
       "(15391, 13)"
      ]
     },
     "execution_count": 395,
     "metadata": {},
     "output_type": "execute_result"
    }
   ],
   "source": [
    "path = '../data/processed/EDY/holdings_summary_s.feather'\n",
    "summary = feather.read_dataframe(path)\n",
    "summary.shape"
   ]
  },
  {
   "cell_type": "code",
   "execution_count": 396,
   "metadata": {},
   "outputs": [
    {
     "data": {
      "text/plain": [
       "(4244, 14)"
      ]
     },
     "execution_count": 396,
     "metadata": {},
     "output_type": "execute_result"
    }
   ],
   "source": [
    "# Convert to date format and filter based on date with mask that is also used on holdings\n",
    "summary['date'] =  pd.to_datetime(summary['report_dt'], format='%Y-%m-%d')\n",
    "date_mask = summary['date'] > begin_date\n",
    "summary = summary[date_mask]\n",
    "summary.shape"
   ]
  },
  {
   "cell_type": "code",
   "execution_count": 417,
   "metadata": {},
   "outputs": [
    {
     "data": {
      "text/html": [
       "<div>\n",
       "<style scoped>\n",
       "    .dataframe tbody tr th:only-of-type {\n",
       "        vertical-align: middle;\n",
       "    }\n",
       "\n",
       "    .dataframe tbody tr th {\n",
       "        vertical-align: top;\n",
       "    }\n",
       "\n",
       "    .dataframe thead th {\n",
       "        text-align: right;\n",
       "    }\n",
       "</style>\n",
       "<table border=\"1\" class=\"dataframe\">\n",
       "  <thead>\n",
       "    <tr style=\"text-align: right;\">\n",
       "      <th></th>\n",
       "      <th>level_0</th>\n",
       "      <th>index</th>\n",
       "      <th>port_no</th>\n",
       "      <th>report_dt</th>\n",
       "      <th>index_fund_flag</th>\n",
       "      <th>et_flag</th>\n",
       "      <th>lipper_class</th>\n",
       "      <th>mutual_fund</th>\n",
       "      <th>sample</th>\n",
       "      <th>cap_class</th>\n",
       "      <th>style_class</th>\n",
       "      <th>crsp_portno</th>\n",
       "      <th>fund_no</th>\n",
       "      <th>date</th>\n",
       "    </tr>\n",
       "  </thead>\n",
       "  <tbody>\n",
       "    <tr>\n",
       "      <th>10</th>\n",
       "      <td>159</td>\n",
       "      <td>1823</td>\n",
       "      <td>1000052</td>\n",
       "      <td>2018-01-31</td>\n",
       "      <td>MF</td>\n",
       "      <td>MF</td>\n",
       "      <td>LCVE</td>\n",
       "      <td>Y</td>\n",
       "      <td>Y</td>\n",
       "      <td>L</td>\n",
       "      <td>V</td>\n",
       "      <td>1000052.0</td>\n",
       "      <td>31002.0</td>\n",
       "      <td>2018-01-31</td>\n",
       "    </tr>\n",
       "    <tr>\n",
       "      <th>11</th>\n",
       "      <td>160</td>\n",
       "      <td>1824</td>\n",
       "      <td>1000052</td>\n",
       "      <td>2018-02-28</td>\n",
       "      <td>MF</td>\n",
       "      <td>MF</td>\n",
       "      <td>LCVE</td>\n",
       "      <td>Y</td>\n",
       "      <td>Y</td>\n",
       "      <td>L</td>\n",
       "      <td>V</td>\n",
       "      <td>1000052.0</td>\n",
       "      <td>31002.0</td>\n",
       "      <td>2018-02-28</td>\n",
       "    </tr>\n",
       "    <tr>\n",
       "      <th>12</th>\n",
       "      <td>161</td>\n",
       "      <td>1825</td>\n",
       "      <td>1000052</td>\n",
       "      <td>2018-03-31</td>\n",
       "      <td>MF</td>\n",
       "      <td>MF</td>\n",
       "      <td>LCVE</td>\n",
       "      <td>Y</td>\n",
       "      <td>Y</td>\n",
       "      <td>L</td>\n",
       "      <td>V</td>\n",
       "      <td>1000052.0</td>\n",
       "      <td>31002.0</td>\n",
       "      <td>2018-03-31</td>\n",
       "    </tr>\n",
       "    <tr>\n",
       "      <th>13</th>\n",
       "      <td>162</td>\n",
       "      <td>1826</td>\n",
       "      <td>1000052</td>\n",
       "      <td>2018-04-30</td>\n",
       "      <td>MF</td>\n",
       "      <td>MF</td>\n",
       "      <td>LCVE</td>\n",
       "      <td>Y</td>\n",
       "      <td>Y</td>\n",
       "      <td>L</td>\n",
       "      <td>V</td>\n",
       "      <td>1000052.0</td>\n",
       "      <td>31002.0</td>\n",
       "      <td>2018-04-30</td>\n",
       "    </tr>\n",
       "    <tr>\n",
       "      <th>14</th>\n",
       "      <td>163</td>\n",
       "      <td>1827</td>\n",
       "      <td>1000052</td>\n",
       "      <td>2018-05-31</td>\n",
       "      <td>MF</td>\n",
       "      <td>MF</td>\n",
       "      <td>LCVE</td>\n",
       "      <td>Y</td>\n",
       "      <td>Y</td>\n",
       "      <td>L</td>\n",
       "      <td>V</td>\n",
       "      <td>1000052.0</td>\n",
       "      <td>31002.0</td>\n",
       "      <td>2018-05-31</td>\n",
       "    </tr>\n",
       "    <tr>\n",
       "      <th>60</th>\n",
       "      <td>444</td>\n",
       "      <td>3463</td>\n",
       "      <td>1000103</td>\n",
       "      <td>2018-01-31</td>\n",
       "      <td>MF</td>\n",
       "      <td>MF</td>\n",
       "      <td>LCVE</td>\n",
       "      <td>Y</td>\n",
       "      <td>Y</td>\n",
       "      <td>L</td>\n",
       "      <td>V</td>\n",
       "      <td>1000103.0</td>\n",
       "      <td>22018.0</td>\n",
       "      <td>2018-01-31</td>\n",
       "    </tr>\n",
       "    <tr>\n",
       "      <th>61</th>\n",
       "      <td>445</td>\n",
       "      <td>3464</td>\n",
       "      <td>1000103</td>\n",
       "      <td>2018-02-28</td>\n",
       "      <td>MF</td>\n",
       "      <td>MF</td>\n",
       "      <td>LCVE</td>\n",
       "      <td>Y</td>\n",
       "      <td>Y</td>\n",
       "      <td>L</td>\n",
       "      <td>V</td>\n",
       "      <td>1000103.0</td>\n",
       "      <td>22018.0</td>\n",
       "      <td>2018-02-28</td>\n",
       "    </tr>\n",
       "    <tr>\n",
       "      <th>62</th>\n",
       "      <td>446</td>\n",
       "      <td>3465</td>\n",
       "      <td>1000103</td>\n",
       "      <td>2018-03-31</td>\n",
       "      <td>MF</td>\n",
       "      <td>MF</td>\n",
       "      <td>LCVE</td>\n",
       "      <td>Y</td>\n",
       "      <td>Y</td>\n",
       "      <td>L</td>\n",
       "      <td>V</td>\n",
       "      <td>1000103.0</td>\n",
       "      <td>22018.0</td>\n",
       "      <td>2018-03-31</td>\n",
       "    </tr>\n",
       "    <tr>\n",
       "      <th>63</th>\n",
       "      <td>447</td>\n",
       "      <td>3466</td>\n",
       "      <td>1000103</td>\n",
       "      <td>2018-04-30</td>\n",
       "      <td>MF</td>\n",
       "      <td>MF</td>\n",
       "      <td>LCVE</td>\n",
       "      <td>Y</td>\n",
       "      <td>Y</td>\n",
       "      <td>L</td>\n",
       "      <td>V</td>\n",
       "      <td>1000103.0</td>\n",
       "      <td>22018.0</td>\n",
       "      <td>2018-04-30</td>\n",
       "    </tr>\n",
       "    <tr>\n",
       "      <th>64</th>\n",
       "      <td>448</td>\n",
       "      <td>3467</td>\n",
       "      <td>1000103</td>\n",
       "      <td>2018-05-31</td>\n",
       "      <td>MF</td>\n",
       "      <td>MF</td>\n",
       "      <td>LCVE</td>\n",
       "      <td>Y</td>\n",
       "      <td>Y</td>\n",
       "      <td>L</td>\n",
       "      <td>V</td>\n",
       "      <td>1000103.0</td>\n",
       "      <td>22018.0</td>\n",
       "      <td>2018-05-31</td>\n",
       "    </tr>\n",
       "    <tr>\n",
       "      <th>70</th>\n",
       "      <td>575</td>\n",
       "      <td>3794</td>\n",
       "      <td>1000111</td>\n",
       "      <td>2018-01-31</td>\n",
       "      <td>MF</td>\n",
       "      <td>MF</td>\n",
       "      <td>MCVE</td>\n",
       "      <td>Y</td>\n",
       "      <td>Y</td>\n",
       "      <td>M</td>\n",
       "      <td>V</td>\n",
       "      <td>1000111.0</td>\n",
       "      <td>31016.0</td>\n",
       "      <td>2018-01-31</td>\n",
       "    </tr>\n",
       "    <tr>\n",
       "      <th>71</th>\n",
       "      <td>576</td>\n",
       "      <td>3795</td>\n",
       "      <td>1000111</td>\n",
       "      <td>2018-02-28</td>\n",
       "      <td>MF</td>\n",
       "      <td>MF</td>\n",
       "      <td>MCVE</td>\n",
       "      <td>Y</td>\n",
       "      <td>Y</td>\n",
       "      <td>M</td>\n",
       "      <td>V</td>\n",
       "      <td>1000111.0</td>\n",
       "      <td>31016.0</td>\n",
       "      <td>2018-02-28</td>\n",
       "    </tr>\n",
       "    <tr>\n",
       "      <th>72</th>\n",
       "      <td>577</td>\n",
       "      <td>3796</td>\n",
       "      <td>1000111</td>\n",
       "      <td>2018-03-31</td>\n",
       "      <td>MF</td>\n",
       "      <td>MF</td>\n",
       "      <td>MCVE</td>\n",
       "      <td>Y</td>\n",
       "      <td>Y</td>\n",
       "      <td>M</td>\n",
       "      <td>V</td>\n",
       "      <td>1000111.0</td>\n",
       "      <td>31016.0</td>\n",
       "      <td>2018-03-31</td>\n",
       "    </tr>\n",
       "    <tr>\n",
       "      <th>73</th>\n",
       "      <td>578</td>\n",
       "      <td>3797</td>\n",
       "      <td>1000111</td>\n",
       "      <td>2018-04-30</td>\n",
       "      <td>MF</td>\n",
       "      <td>MF</td>\n",
       "      <td>MCVE</td>\n",
       "      <td>Y</td>\n",
       "      <td>Y</td>\n",
       "      <td>M</td>\n",
       "      <td>V</td>\n",
       "      <td>1000111.0</td>\n",
       "      <td>31016.0</td>\n",
       "      <td>2018-04-30</td>\n",
       "    </tr>\n",
       "    <tr>\n",
       "      <th>74</th>\n",
       "      <td>579</td>\n",
       "      <td>3798</td>\n",
       "      <td>1000111</td>\n",
       "      <td>2018-05-31</td>\n",
       "      <td>MF</td>\n",
       "      <td>MF</td>\n",
       "      <td>MCVE</td>\n",
       "      <td>Y</td>\n",
       "      <td>Y</td>\n",
       "      <td>M</td>\n",
       "      <td>V</td>\n",
       "      <td>1000111.0</td>\n",
       "      <td>31016.0</td>\n",
       "      <td>2018-05-31</td>\n",
       "    </tr>\n",
       "    <tr>\n",
       "      <th>271</th>\n",
       "      <td>1616</td>\n",
       "      <td>20185</td>\n",
       "      <td>1000674</td>\n",
       "      <td>2018-03-31</td>\n",
       "      <td>MF</td>\n",
       "      <td>MF</td>\n",
       "      <td>SCVE</td>\n",
       "      <td>Y</td>\n",
       "      <td>Y</td>\n",
       "      <td>S</td>\n",
       "      <td>V</td>\n",
       "      <td>1000674.0</td>\n",
       "      <td>23702.0</td>\n",
       "      <td>2018-03-31</td>\n",
       "    </tr>\n",
       "    <tr>\n",
       "      <th>394</th>\n",
       "      <td>2132</td>\n",
       "      <td>42398</td>\n",
       "      <td>1001453</td>\n",
       "      <td>2018-01-31</td>\n",
       "      <td>MF</td>\n",
       "      <td>MF</td>\n",
       "      <td>LCCE</td>\n",
       "      <td>Y</td>\n",
       "      <td>Y</td>\n",
       "      <td>L</td>\n",
       "      <td>C</td>\n",
       "      <td>1001453.0</td>\n",
       "      <td>27143.0</td>\n",
       "      <td>2018-01-31</td>\n",
       "    </tr>\n",
       "    <tr>\n",
       "      <th>395</th>\n",
       "      <td>2133</td>\n",
       "      <td>42399</td>\n",
       "      <td>1001453</td>\n",
       "      <td>2018-02-28</td>\n",
       "      <td>MF</td>\n",
       "      <td>MF</td>\n",
       "      <td>LCCE</td>\n",
       "      <td>Y</td>\n",
       "      <td>Y</td>\n",
       "      <td>L</td>\n",
       "      <td>C</td>\n",
       "      <td>1001453.0</td>\n",
       "      <td>27143.0</td>\n",
       "      <td>2018-02-28</td>\n",
       "    </tr>\n",
       "    <tr>\n",
       "      <th>396</th>\n",
       "      <td>2134</td>\n",
       "      <td>42400</td>\n",
       "      <td>1001453</td>\n",
       "      <td>2018-03-31</td>\n",
       "      <td>MF</td>\n",
       "      <td>MF</td>\n",
       "      <td>LCCE</td>\n",
       "      <td>Y</td>\n",
       "      <td>Y</td>\n",
       "      <td>L</td>\n",
       "      <td>C</td>\n",
       "      <td>1001453.0</td>\n",
       "      <td>27143.0</td>\n",
       "      <td>2018-03-31</td>\n",
       "    </tr>\n",
       "    <tr>\n",
       "      <th>397</th>\n",
       "      <td>2135</td>\n",
       "      <td>42401</td>\n",
       "      <td>1001453</td>\n",
       "      <td>2018-04-30</td>\n",
       "      <td>MF</td>\n",
       "      <td>MF</td>\n",
       "      <td>LCCE</td>\n",
       "      <td>Y</td>\n",
       "      <td>Y</td>\n",
       "      <td>L</td>\n",
       "      <td>C</td>\n",
       "      <td>1001453.0</td>\n",
       "      <td>27143.0</td>\n",
       "      <td>2018-04-30</td>\n",
       "    </tr>\n",
       "    <tr>\n",
       "      <th>398</th>\n",
       "      <td>2136</td>\n",
       "      <td>42402</td>\n",
       "      <td>1001453</td>\n",
       "      <td>2018-05-31</td>\n",
       "      <td>MF</td>\n",
       "      <td>MF</td>\n",
       "      <td>LCCE</td>\n",
       "      <td>Y</td>\n",
       "      <td>Y</td>\n",
       "      <td>L</td>\n",
       "      <td>C</td>\n",
       "      <td>1001453.0</td>\n",
       "      <td>27143.0</td>\n",
       "      <td>2018-05-31</td>\n",
       "    </tr>\n",
       "    <tr>\n",
       "      <th>453</th>\n",
       "      <td>2503</td>\n",
       "      <td>50084</td>\n",
       "      <td>1001734</td>\n",
       "      <td>2018-01-31</td>\n",
       "      <td>MF</td>\n",
       "      <td>MF</td>\n",
       "      <td>MCCE</td>\n",
       "      <td>Y</td>\n",
       "      <td>Y</td>\n",
       "      <td>M</td>\n",
       "      <td>C</td>\n",
       "      <td>1001734.0</td>\n",
       "      <td>22025.0</td>\n",
       "      <td>2018-01-31</td>\n",
       "    </tr>\n",
       "    <tr>\n",
       "      <th>454</th>\n",
       "      <td>2504</td>\n",
       "      <td>50085</td>\n",
       "      <td>1001734</td>\n",
       "      <td>2018-02-28</td>\n",
       "      <td>MF</td>\n",
       "      <td>MF</td>\n",
       "      <td>MCCE</td>\n",
       "      <td>Y</td>\n",
       "      <td>Y</td>\n",
       "      <td>M</td>\n",
       "      <td>C</td>\n",
       "      <td>1001734.0</td>\n",
       "      <td>22025.0</td>\n",
       "      <td>2018-02-28</td>\n",
       "    </tr>\n",
       "    <tr>\n",
       "      <th>455</th>\n",
       "      <td>2505</td>\n",
       "      <td>50086</td>\n",
       "      <td>1001734</td>\n",
       "      <td>2018-03-31</td>\n",
       "      <td>MF</td>\n",
       "      <td>MF</td>\n",
       "      <td>MCCE</td>\n",
       "      <td>Y</td>\n",
       "      <td>Y</td>\n",
       "      <td>M</td>\n",
       "      <td>C</td>\n",
       "      <td>1001734.0</td>\n",
       "      <td>22025.0</td>\n",
       "      <td>2018-03-31</td>\n",
       "    </tr>\n",
       "    <tr>\n",
       "      <th>456</th>\n",
       "      <td>2506</td>\n",
       "      <td>50087</td>\n",
       "      <td>1001734</td>\n",
       "      <td>2018-04-30</td>\n",
       "      <td>MF</td>\n",
       "      <td>MF</td>\n",
       "      <td>MCCE</td>\n",
       "      <td>Y</td>\n",
       "      <td>Y</td>\n",
       "      <td>M</td>\n",
       "      <td>C</td>\n",
       "      <td>1001734.0</td>\n",
       "      <td>22025.0</td>\n",
       "      <td>2018-04-30</td>\n",
       "    </tr>\n",
       "    <tr>\n",
       "      <th>457</th>\n",
       "      <td>2507</td>\n",
       "      <td>50088</td>\n",
       "      <td>1001734</td>\n",
       "      <td>2018-05-31</td>\n",
       "      <td>MF</td>\n",
       "      <td>MF</td>\n",
       "      <td>MCCE</td>\n",
       "      <td>Y</td>\n",
       "      <td>Y</td>\n",
       "      <td>M</td>\n",
       "      <td>C</td>\n",
       "      <td>1001734.0</td>\n",
       "      <td>22025.0</td>\n",
       "      <td>2018-05-31</td>\n",
       "    </tr>\n",
       "    <tr>\n",
       "      <th>473</th>\n",
       "      <td>2669</td>\n",
       "      <td>51485</td>\n",
       "      <td>1001786</td>\n",
       "      <td>2018-01-31</td>\n",
       "      <td>MF</td>\n",
       "      <td>MF</td>\n",
       "      <td>SCCE</td>\n",
       "      <td>Y</td>\n",
       "      <td>Y</td>\n",
       "      <td>S</td>\n",
       "      <td>C</td>\n",
       "      <td>1001786.0</td>\n",
       "      <td>27153.0</td>\n",
       "      <td>2018-01-31</td>\n",
       "    </tr>\n",
       "    <tr>\n",
       "      <th>474</th>\n",
       "      <td>2670</td>\n",
       "      <td>51486</td>\n",
       "      <td>1001786</td>\n",
       "      <td>2018-02-28</td>\n",
       "      <td>MF</td>\n",
       "      <td>MF</td>\n",
       "      <td>SCCE</td>\n",
       "      <td>Y</td>\n",
       "      <td>Y</td>\n",
       "      <td>S</td>\n",
       "      <td>C</td>\n",
       "      <td>1001786.0</td>\n",
       "      <td>27153.0</td>\n",
       "      <td>2018-02-28</td>\n",
       "    </tr>\n",
       "    <tr>\n",
       "      <th>475</th>\n",
       "      <td>2671</td>\n",
       "      <td>51487</td>\n",
       "      <td>1001786</td>\n",
       "      <td>2018-03-31</td>\n",
       "      <td>MF</td>\n",
       "      <td>MF</td>\n",
       "      <td>SCCE</td>\n",
       "      <td>Y</td>\n",
       "      <td>Y</td>\n",
       "      <td>S</td>\n",
       "      <td>C</td>\n",
       "      <td>1001786.0</td>\n",
       "      <td>27153.0</td>\n",
       "      <td>2018-03-31</td>\n",
       "    </tr>\n",
       "    <tr>\n",
       "      <th>476</th>\n",
       "      <td>2672</td>\n",
       "      <td>51488</td>\n",
       "      <td>1001786</td>\n",
       "      <td>2018-04-30</td>\n",
       "      <td>MF</td>\n",
       "      <td>MF</td>\n",
       "      <td>SCCE</td>\n",
       "      <td>Y</td>\n",
       "      <td>Y</td>\n",
       "      <td>S</td>\n",
       "      <td>C</td>\n",
       "      <td>1001786.0</td>\n",
       "      <td>27153.0</td>\n",
       "      <td>2018-04-30</td>\n",
       "    </tr>\n",
       "    <tr>\n",
       "      <th>...</th>\n",
       "      <td>...</td>\n",
       "      <td>...</td>\n",
       "      <td>...</td>\n",
       "      <td>...</td>\n",
       "      <td>...</td>\n",
       "      <td>...</td>\n",
       "      <td>...</td>\n",
       "      <td>...</td>\n",
       "      <td>...</td>\n",
       "      <td>...</td>\n",
       "      <td>...</td>\n",
       "      <td>...</td>\n",
       "      <td>...</td>\n",
       "      <td>...</td>\n",
       "    </tr>\n",
       "    <tr>\n",
       "      <th>15346</th>\n",
       "      <td>112725</td>\n",
       "      <td>731756</td>\n",
       "      <td>1033984</td>\n",
       "      <td>2018-01-31</td>\n",
       "      <td>MF</td>\n",
       "      <td>MF</td>\n",
       "      <td>SCGE</td>\n",
       "      <td>Y</td>\n",
       "      <td>Y</td>\n",
       "      <td>S</td>\n",
       "      <td>G</td>\n",
       "      <td>1033984.0</td>\n",
       "      <td>61622.0</td>\n",
       "      <td>2018-01-31</td>\n",
       "    </tr>\n",
       "    <tr>\n",
       "      <th>15347</th>\n",
       "      <td>112726</td>\n",
       "      <td>731757</td>\n",
       "      <td>1033984</td>\n",
       "      <td>2018-02-28</td>\n",
       "      <td>MF</td>\n",
       "      <td>MF</td>\n",
       "      <td>SCGE</td>\n",
       "      <td>Y</td>\n",
       "      <td>Y</td>\n",
       "      <td>S</td>\n",
       "      <td>G</td>\n",
       "      <td>1033984.0</td>\n",
       "      <td>61622.0</td>\n",
       "      <td>2018-02-28</td>\n",
       "    </tr>\n",
       "    <tr>\n",
       "      <th>15348</th>\n",
       "      <td>112727</td>\n",
       "      <td>731758</td>\n",
       "      <td>1033984</td>\n",
       "      <td>2018-03-31</td>\n",
       "      <td>MF</td>\n",
       "      <td>MF</td>\n",
       "      <td>SCGE</td>\n",
       "      <td>Y</td>\n",
       "      <td>Y</td>\n",
       "      <td>S</td>\n",
       "      <td>G</td>\n",
       "      <td>1033984.0</td>\n",
       "      <td>61622.0</td>\n",
       "      <td>2018-03-31</td>\n",
       "    </tr>\n",
       "    <tr>\n",
       "      <th>15349</th>\n",
       "      <td>112728</td>\n",
       "      <td>731759</td>\n",
       "      <td>1033984</td>\n",
       "      <td>2018-04-30</td>\n",
       "      <td>MF</td>\n",
       "      <td>MF</td>\n",
       "      <td>SCGE</td>\n",
       "      <td>Y</td>\n",
       "      <td>Y</td>\n",
       "      <td>S</td>\n",
       "      <td>G</td>\n",
       "      <td>1033984.0</td>\n",
       "      <td>61622.0</td>\n",
       "      <td>2018-04-30</td>\n",
       "    </tr>\n",
       "    <tr>\n",
       "      <th>15350</th>\n",
       "      <td>112729</td>\n",
       "      <td>731760</td>\n",
       "      <td>1033984</td>\n",
       "      <td>2018-05-31</td>\n",
       "      <td>MF</td>\n",
       "      <td>MF</td>\n",
       "      <td>SCGE</td>\n",
       "      <td>Y</td>\n",
       "      <td>Y</td>\n",
       "      <td>S</td>\n",
       "      <td>G</td>\n",
       "      <td>1033984.0</td>\n",
       "      <td>61622.0</td>\n",
       "      <td>2018-05-31</td>\n",
       "    </tr>\n",
       "    <tr>\n",
       "      <th>15351</th>\n",
       "      <td>112760</td>\n",
       "      <td>731791</td>\n",
       "      <td>1033985</td>\n",
       "      <td>2018-01-31</td>\n",
       "      <td>MF</td>\n",
       "      <td>MF</td>\n",
       "      <td>SCGE</td>\n",
       "      <td>Y</td>\n",
       "      <td>Y</td>\n",
       "      <td>S</td>\n",
       "      <td>G</td>\n",
       "      <td>1033985.0</td>\n",
       "      <td>61624.0</td>\n",
       "      <td>2018-01-31</td>\n",
       "    </tr>\n",
       "    <tr>\n",
       "      <th>15352</th>\n",
       "      <td>112761</td>\n",
       "      <td>731792</td>\n",
       "      <td>1033985</td>\n",
       "      <td>2018-02-28</td>\n",
       "      <td>MF</td>\n",
       "      <td>MF</td>\n",
       "      <td>SCGE</td>\n",
       "      <td>Y</td>\n",
       "      <td>Y</td>\n",
       "      <td>S</td>\n",
       "      <td>G</td>\n",
       "      <td>1033985.0</td>\n",
       "      <td>61624.0</td>\n",
       "      <td>2018-02-28</td>\n",
       "    </tr>\n",
       "    <tr>\n",
       "      <th>15353</th>\n",
       "      <td>112762</td>\n",
       "      <td>731793</td>\n",
       "      <td>1033985</td>\n",
       "      <td>2018-03-31</td>\n",
       "      <td>MF</td>\n",
       "      <td>MF</td>\n",
       "      <td>SCGE</td>\n",
       "      <td>Y</td>\n",
       "      <td>Y</td>\n",
       "      <td>S</td>\n",
       "      <td>G</td>\n",
       "      <td>1033985.0</td>\n",
       "      <td>61624.0</td>\n",
       "      <td>2018-03-31</td>\n",
       "    </tr>\n",
       "    <tr>\n",
       "      <th>15354</th>\n",
       "      <td>112763</td>\n",
       "      <td>731794</td>\n",
       "      <td>1033985</td>\n",
       "      <td>2018-04-30</td>\n",
       "      <td>MF</td>\n",
       "      <td>MF</td>\n",
       "      <td>SCGE</td>\n",
       "      <td>Y</td>\n",
       "      <td>Y</td>\n",
       "      <td>S</td>\n",
       "      <td>G</td>\n",
       "      <td>1033985.0</td>\n",
       "      <td>61624.0</td>\n",
       "      <td>2018-04-30</td>\n",
       "    </tr>\n",
       "    <tr>\n",
       "      <th>15355</th>\n",
       "      <td>112764</td>\n",
       "      <td>731795</td>\n",
       "      <td>1033985</td>\n",
       "      <td>2018-05-31</td>\n",
       "      <td>MF</td>\n",
       "      <td>MF</td>\n",
       "      <td>SCGE</td>\n",
       "      <td>Y</td>\n",
       "      <td>Y</td>\n",
       "      <td>S</td>\n",
       "      <td>G</td>\n",
       "      <td>1033985.0</td>\n",
       "      <td>61624.0</td>\n",
       "      <td>2018-05-31</td>\n",
       "    </tr>\n",
       "    <tr>\n",
       "      <th>15356</th>\n",
       "      <td>112794</td>\n",
       "      <td>731825</td>\n",
       "      <td>1033986</td>\n",
       "      <td>2018-01-31</td>\n",
       "      <td>MF</td>\n",
       "      <td>MF</td>\n",
       "      <td>SCCE</td>\n",
       "      <td>Y</td>\n",
       "      <td>Y</td>\n",
       "      <td>S</td>\n",
       "      <td>C</td>\n",
       "      <td>1033986.0</td>\n",
       "      <td>61626.0</td>\n",
       "      <td>2018-01-31</td>\n",
       "    </tr>\n",
       "    <tr>\n",
       "      <th>15357</th>\n",
       "      <td>112795</td>\n",
       "      <td>731826</td>\n",
       "      <td>1033986</td>\n",
       "      <td>2018-02-28</td>\n",
       "      <td>MF</td>\n",
       "      <td>MF</td>\n",
       "      <td>SCCE</td>\n",
       "      <td>Y</td>\n",
       "      <td>Y</td>\n",
       "      <td>S</td>\n",
       "      <td>C</td>\n",
       "      <td>1033986.0</td>\n",
       "      <td>61626.0</td>\n",
       "      <td>2018-02-28</td>\n",
       "    </tr>\n",
       "    <tr>\n",
       "      <th>15358</th>\n",
       "      <td>112796</td>\n",
       "      <td>731827</td>\n",
       "      <td>1033986</td>\n",
       "      <td>2018-03-31</td>\n",
       "      <td>MF</td>\n",
       "      <td>MF</td>\n",
       "      <td>SCCE</td>\n",
       "      <td>Y</td>\n",
       "      <td>Y</td>\n",
       "      <td>S</td>\n",
       "      <td>C</td>\n",
       "      <td>1033986.0</td>\n",
       "      <td>61626.0</td>\n",
       "      <td>2018-03-31</td>\n",
       "    </tr>\n",
       "    <tr>\n",
       "      <th>15359</th>\n",
       "      <td>112797</td>\n",
       "      <td>731828</td>\n",
       "      <td>1033986</td>\n",
       "      <td>2018-04-30</td>\n",
       "      <td>MF</td>\n",
       "      <td>MF</td>\n",
       "      <td>SCCE</td>\n",
       "      <td>Y</td>\n",
       "      <td>Y</td>\n",
       "      <td>S</td>\n",
       "      <td>C</td>\n",
       "      <td>1033986.0</td>\n",
       "      <td>61626.0</td>\n",
       "      <td>2018-04-30</td>\n",
       "    </tr>\n",
       "    <tr>\n",
       "      <th>15360</th>\n",
       "      <td>112798</td>\n",
       "      <td>731829</td>\n",
       "      <td>1033986</td>\n",
       "      <td>2018-05-31</td>\n",
       "      <td>MF</td>\n",
       "      <td>MF</td>\n",
       "      <td>SCCE</td>\n",
       "      <td>Y</td>\n",
       "      <td>Y</td>\n",
       "      <td>S</td>\n",
       "      <td>C</td>\n",
       "      <td>1033986.0</td>\n",
       "      <td>61626.0</td>\n",
       "      <td>2018-05-31</td>\n",
       "    </tr>\n",
       "    <tr>\n",
       "      <th>15366</th>\n",
       "      <td>112836</td>\n",
       "      <td>731959</td>\n",
       "      <td>1033994</td>\n",
       "      <td>2018-01-31</td>\n",
       "      <td>MF</td>\n",
       "      <td>MF</td>\n",
       "      <td>LCCE</td>\n",
       "      <td>Y</td>\n",
       "      <td>Y</td>\n",
       "      <td>L</td>\n",
       "      <td>C</td>\n",
       "      <td>1033994.0</td>\n",
       "      <td>61643.0</td>\n",
       "      <td>2018-01-31</td>\n",
       "    </tr>\n",
       "    <tr>\n",
       "      <th>15367</th>\n",
       "      <td>112837</td>\n",
       "      <td>731960</td>\n",
       "      <td>1033994</td>\n",
       "      <td>2018-02-28</td>\n",
       "      <td>MF</td>\n",
       "      <td>MF</td>\n",
       "      <td>LCCE</td>\n",
       "      <td>Y</td>\n",
       "      <td>Y</td>\n",
       "      <td>L</td>\n",
       "      <td>C</td>\n",
       "      <td>1033994.0</td>\n",
       "      <td>61643.0</td>\n",
       "      <td>2018-02-28</td>\n",
       "    </tr>\n",
       "    <tr>\n",
       "      <th>15368</th>\n",
       "      <td>112838</td>\n",
       "      <td>731961</td>\n",
       "      <td>1033994</td>\n",
       "      <td>2018-03-31</td>\n",
       "      <td>MF</td>\n",
       "      <td>MF</td>\n",
       "      <td>LCCE</td>\n",
       "      <td>Y</td>\n",
       "      <td>Y</td>\n",
       "      <td>L</td>\n",
       "      <td>C</td>\n",
       "      <td>1033994.0</td>\n",
       "      <td>61643.0</td>\n",
       "      <td>2018-03-31</td>\n",
       "    </tr>\n",
       "    <tr>\n",
       "      <th>15369</th>\n",
       "      <td>112839</td>\n",
       "      <td>731962</td>\n",
       "      <td>1033994</td>\n",
       "      <td>2018-04-30</td>\n",
       "      <td>MF</td>\n",
       "      <td>MF</td>\n",
       "      <td>LCCE</td>\n",
       "      <td>Y</td>\n",
       "      <td>Y</td>\n",
       "      <td>L</td>\n",
       "      <td>C</td>\n",
       "      <td>1033994.0</td>\n",
       "      <td>61643.0</td>\n",
       "      <td>2018-04-30</td>\n",
       "    </tr>\n",
       "    <tr>\n",
       "      <th>15370</th>\n",
       "      <td>112840</td>\n",
       "      <td>731963</td>\n",
       "      <td>1033994</td>\n",
       "      <td>2018-05-31</td>\n",
       "      <td>MF</td>\n",
       "      <td>MF</td>\n",
       "      <td>LCCE</td>\n",
       "      <td>Y</td>\n",
       "      <td>Y</td>\n",
       "      <td>L</td>\n",
       "      <td>C</td>\n",
       "      <td>1033994.0</td>\n",
       "      <td>61643.0</td>\n",
       "      <td>2018-05-31</td>\n",
       "    </tr>\n",
       "    <tr>\n",
       "      <th>15372</th>\n",
       "      <td>112870</td>\n",
       "      <td>732002</td>\n",
       "      <td>1033996</td>\n",
       "      <td>2018-01-31</td>\n",
       "      <td>MF</td>\n",
       "      <td>MF</td>\n",
       "      <td>MCGE</td>\n",
       "      <td>Y</td>\n",
       "      <td>Y</td>\n",
       "      <td>M</td>\n",
       "      <td>G</td>\n",
       "      <td>1033996.0</td>\n",
       "      <td>61785.0</td>\n",
       "      <td>2018-01-31</td>\n",
       "    </tr>\n",
       "    <tr>\n",
       "      <th>15373</th>\n",
       "      <td>112871</td>\n",
       "      <td>732003</td>\n",
       "      <td>1033996</td>\n",
       "      <td>2018-03-31</td>\n",
       "      <td>MF</td>\n",
       "      <td>MF</td>\n",
       "      <td>MCGE</td>\n",
       "      <td>Y</td>\n",
       "      <td>Y</td>\n",
       "      <td>M</td>\n",
       "      <td>G</td>\n",
       "      <td>1033996.0</td>\n",
       "      <td>61785.0</td>\n",
       "      <td>2018-03-31</td>\n",
       "    </tr>\n",
       "    <tr>\n",
       "      <th>15374</th>\n",
       "      <td>112872</td>\n",
       "      <td>732004</td>\n",
       "      <td>1033996</td>\n",
       "      <td>2018-04-30</td>\n",
       "      <td>MF</td>\n",
       "      <td>MF</td>\n",
       "      <td>MCGE</td>\n",
       "      <td>Y</td>\n",
       "      <td>Y</td>\n",
       "      <td>M</td>\n",
       "      <td>G</td>\n",
       "      <td>1033996.0</td>\n",
       "      <td>61785.0</td>\n",
       "      <td>2018-04-30</td>\n",
       "    </tr>\n",
       "    <tr>\n",
       "      <th>15375</th>\n",
       "      <td>112873</td>\n",
       "      <td>732005</td>\n",
       "      <td>1033996</td>\n",
       "      <td>2018-05-31</td>\n",
       "      <td>MF</td>\n",
       "      <td>MF</td>\n",
       "      <td>MCGE</td>\n",
       "      <td>Y</td>\n",
       "      <td>Y</td>\n",
       "      <td>M</td>\n",
       "      <td>G</td>\n",
       "      <td>1033996.0</td>\n",
       "      <td>61785.0</td>\n",
       "      <td>2018-05-31</td>\n",
       "    </tr>\n",
       "    <tr>\n",
       "      <th>15380</th>\n",
       "      <td>112887</td>\n",
       "      <td>732486</td>\n",
       "      <td>1034016</td>\n",
       "      <td>2018-03-31</td>\n",
       "      <td>MF</td>\n",
       "      <td>MF</td>\n",
       "      <td>SCCE</td>\n",
       "      <td>Y</td>\n",
       "      <td>Y</td>\n",
       "      <td>S</td>\n",
       "      <td>C</td>\n",
       "      <td>1034016.0</td>\n",
       "      <td>61844.0</td>\n",
       "      <td>2018-03-31</td>\n",
       "    </tr>\n",
       "    <tr>\n",
       "      <th>15386</th>\n",
       "      <td>112926</td>\n",
       "      <td>733722</td>\n",
       "      <td>1034060</td>\n",
       "      <td>2018-01-31</td>\n",
       "      <td>MF</td>\n",
       "      <td>MF</td>\n",
       "      <td>LCGE</td>\n",
       "      <td>Y</td>\n",
       "      <td>Y</td>\n",
       "      <td>L</td>\n",
       "      <td>G</td>\n",
       "      <td>1034060.0</td>\n",
       "      <td>62592.0</td>\n",
       "      <td>2018-01-31</td>\n",
       "    </tr>\n",
       "    <tr>\n",
       "      <th>15387</th>\n",
       "      <td>112927</td>\n",
       "      <td>733723</td>\n",
       "      <td>1034060</td>\n",
       "      <td>2018-02-28</td>\n",
       "      <td>MF</td>\n",
       "      <td>MF</td>\n",
       "      <td>LCGE</td>\n",
       "      <td>Y</td>\n",
       "      <td>Y</td>\n",
       "      <td>L</td>\n",
       "      <td>G</td>\n",
       "      <td>1034060.0</td>\n",
       "      <td>62592.0</td>\n",
       "      <td>2018-02-28</td>\n",
       "    </tr>\n",
       "    <tr>\n",
       "      <th>15388</th>\n",
       "      <td>112928</td>\n",
       "      <td>733724</td>\n",
       "      <td>1034060</td>\n",
       "      <td>2018-03-31</td>\n",
       "      <td>MF</td>\n",
       "      <td>MF</td>\n",
       "      <td>LCGE</td>\n",
       "      <td>Y</td>\n",
       "      <td>Y</td>\n",
       "      <td>L</td>\n",
       "      <td>G</td>\n",
       "      <td>1034060.0</td>\n",
       "      <td>62592.0</td>\n",
       "      <td>2018-03-31</td>\n",
       "    </tr>\n",
       "    <tr>\n",
       "      <th>15389</th>\n",
       "      <td>112929</td>\n",
       "      <td>733725</td>\n",
       "      <td>1034060</td>\n",
       "      <td>2018-04-30</td>\n",
       "      <td>MF</td>\n",
       "      <td>MF</td>\n",
       "      <td>LCGE</td>\n",
       "      <td>Y</td>\n",
       "      <td>Y</td>\n",
       "      <td>L</td>\n",
       "      <td>G</td>\n",
       "      <td>1034060.0</td>\n",
       "      <td>62592.0</td>\n",
       "      <td>2018-04-30</td>\n",
       "    </tr>\n",
       "    <tr>\n",
       "      <th>15390</th>\n",
       "      <td>112930</td>\n",
       "      <td>733726</td>\n",
       "      <td>1034060</td>\n",
       "      <td>2018-05-31</td>\n",
       "      <td>MF</td>\n",
       "      <td>MF</td>\n",
       "      <td>LCGE</td>\n",
       "      <td>Y</td>\n",
       "      <td>Y</td>\n",
       "      <td>L</td>\n",
       "      <td>G</td>\n",
       "      <td>1034060.0</td>\n",
       "      <td>62592.0</td>\n",
       "      <td>2018-05-31</td>\n",
       "    </tr>\n",
       "  </tbody>\n",
       "</table>\n",
       "<p>4244 rows × 14 columns</p>\n",
       "</div>"
      ],
      "text/plain": [
       "       level_0   index  port_no   report_dt index_fund_flag et_flag  \\\n",
       "10         159    1823  1000052  2018-01-31              MF      MF   \n",
       "11         160    1824  1000052  2018-02-28              MF      MF   \n",
       "12         161    1825  1000052  2018-03-31              MF      MF   \n",
       "13         162    1826  1000052  2018-04-30              MF      MF   \n",
       "14         163    1827  1000052  2018-05-31              MF      MF   \n",
       "60         444    3463  1000103  2018-01-31              MF      MF   \n",
       "61         445    3464  1000103  2018-02-28              MF      MF   \n",
       "62         446    3465  1000103  2018-03-31              MF      MF   \n",
       "63         447    3466  1000103  2018-04-30              MF      MF   \n",
       "64         448    3467  1000103  2018-05-31              MF      MF   \n",
       "70         575    3794  1000111  2018-01-31              MF      MF   \n",
       "71         576    3795  1000111  2018-02-28              MF      MF   \n",
       "72         577    3796  1000111  2018-03-31              MF      MF   \n",
       "73         578    3797  1000111  2018-04-30              MF      MF   \n",
       "74         579    3798  1000111  2018-05-31              MF      MF   \n",
       "271       1616   20185  1000674  2018-03-31              MF      MF   \n",
       "394       2132   42398  1001453  2018-01-31              MF      MF   \n",
       "395       2133   42399  1001453  2018-02-28              MF      MF   \n",
       "396       2134   42400  1001453  2018-03-31              MF      MF   \n",
       "397       2135   42401  1001453  2018-04-30              MF      MF   \n",
       "398       2136   42402  1001453  2018-05-31              MF      MF   \n",
       "453       2503   50084  1001734  2018-01-31              MF      MF   \n",
       "454       2504   50085  1001734  2018-02-28              MF      MF   \n",
       "455       2505   50086  1001734  2018-03-31              MF      MF   \n",
       "456       2506   50087  1001734  2018-04-30              MF      MF   \n",
       "457       2507   50088  1001734  2018-05-31              MF      MF   \n",
       "473       2669   51485  1001786  2018-01-31              MF      MF   \n",
       "474       2670   51486  1001786  2018-02-28              MF      MF   \n",
       "475       2671   51487  1001786  2018-03-31              MF      MF   \n",
       "476       2672   51488  1001786  2018-04-30              MF      MF   \n",
       "...        ...     ...      ...         ...             ...     ...   \n",
       "15346   112725  731756  1033984  2018-01-31              MF      MF   \n",
       "15347   112726  731757  1033984  2018-02-28              MF      MF   \n",
       "15348   112727  731758  1033984  2018-03-31              MF      MF   \n",
       "15349   112728  731759  1033984  2018-04-30              MF      MF   \n",
       "15350   112729  731760  1033984  2018-05-31              MF      MF   \n",
       "15351   112760  731791  1033985  2018-01-31              MF      MF   \n",
       "15352   112761  731792  1033985  2018-02-28              MF      MF   \n",
       "15353   112762  731793  1033985  2018-03-31              MF      MF   \n",
       "15354   112763  731794  1033985  2018-04-30              MF      MF   \n",
       "15355   112764  731795  1033985  2018-05-31              MF      MF   \n",
       "15356   112794  731825  1033986  2018-01-31              MF      MF   \n",
       "15357   112795  731826  1033986  2018-02-28              MF      MF   \n",
       "15358   112796  731827  1033986  2018-03-31              MF      MF   \n",
       "15359   112797  731828  1033986  2018-04-30              MF      MF   \n",
       "15360   112798  731829  1033986  2018-05-31              MF      MF   \n",
       "15366   112836  731959  1033994  2018-01-31              MF      MF   \n",
       "15367   112837  731960  1033994  2018-02-28              MF      MF   \n",
       "15368   112838  731961  1033994  2018-03-31              MF      MF   \n",
       "15369   112839  731962  1033994  2018-04-30              MF      MF   \n",
       "15370   112840  731963  1033994  2018-05-31              MF      MF   \n",
       "15372   112870  732002  1033996  2018-01-31              MF      MF   \n",
       "15373   112871  732003  1033996  2018-03-31              MF      MF   \n",
       "15374   112872  732004  1033996  2018-04-30              MF      MF   \n",
       "15375   112873  732005  1033996  2018-05-31              MF      MF   \n",
       "15380   112887  732486  1034016  2018-03-31              MF      MF   \n",
       "15386   112926  733722  1034060  2018-01-31              MF      MF   \n",
       "15387   112927  733723  1034060  2018-02-28              MF      MF   \n",
       "15388   112928  733724  1034060  2018-03-31              MF      MF   \n",
       "15389   112929  733725  1034060  2018-04-30              MF      MF   \n",
       "15390   112930  733726  1034060  2018-05-31              MF      MF   \n",
       "\n",
       "      lipper_class mutual_fund sample cap_class style_class  crsp_portno  \\\n",
       "10            LCVE           Y      Y         L           V    1000052.0   \n",
       "11            LCVE           Y      Y         L           V    1000052.0   \n",
       "12            LCVE           Y      Y         L           V    1000052.0   \n",
       "13            LCVE           Y      Y         L           V    1000052.0   \n",
       "14            LCVE           Y      Y         L           V    1000052.0   \n",
       "60            LCVE           Y      Y         L           V    1000103.0   \n",
       "61            LCVE           Y      Y         L           V    1000103.0   \n",
       "62            LCVE           Y      Y         L           V    1000103.0   \n",
       "63            LCVE           Y      Y         L           V    1000103.0   \n",
       "64            LCVE           Y      Y         L           V    1000103.0   \n",
       "70            MCVE           Y      Y         M           V    1000111.0   \n",
       "71            MCVE           Y      Y         M           V    1000111.0   \n",
       "72            MCVE           Y      Y         M           V    1000111.0   \n",
       "73            MCVE           Y      Y         M           V    1000111.0   \n",
       "74            MCVE           Y      Y         M           V    1000111.0   \n",
       "271           SCVE           Y      Y         S           V    1000674.0   \n",
       "394           LCCE           Y      Y         L           C    1001453.0   \n",
       "395           LCCE           Y      Y         L           C    1001453.0   \n",
       "396           LCCE           Y      Y         L           C    1001453.0   \n",
       "397           LCCE           Y      Y         L           C    1001453.0   \n",
       "398           LCCE           Y      Y         L           C    1001453.0   \n",
       "453           MCCE           Y      Y         M           C    1001734.0   \n",
       "454           MCCE           Y      Y         M           C    1001734.0   \n",
       "455           MCCE           Y      Y         M           C    1001734.0   \n",
       "456           MCCE           Y      Y         M           C    1001734.0   \n",
       "457           MCCE           Y      Y         M           C    1001734.0   \n",
       "473           SCCE           Y      Y         S           C    1001786.0   \n",
       "474           SCCE           Y      Y         S           C    1001786.0   \n",
       "475           SCCE           Y      Y         S           C    1001786.0   \n",
       "476           SCCE           Y      Y         S           C    1001786.0   \n",
       "...            ...         ...    ...       ...         ...          ...   \n",
       "15346         SCGE           Y      Y         S           G    1033984.0   \n",
       "15347         SCGE           Y      Y         S           G    1033984.0   \n",
       "15348         SCGE           Y      Y         S           G    1033984.0   \n",
       "15349         SCGE           Y      Y         S           G    1033984.0   \n",
       "15350         SCGE           Y      Y         S           G    1033984.0   \n",
       "15351         SCGE           Y      Y         S           G    1033985.0   \n",
       "15352         SCGE           Y      Y         S           G    1033985.0   \n",
       "15353         SCGE           Y      Y         S           G    1033985.0   \n",
       "15354         SCGE           Y      Y         S           G    1033985.0   \n",
       "15355         SCGE           Y      Y         S           G    1033985.0   \n",
       "15356         SCCE           Y      Y         S           C    1033986.0   \n",
       "15357         SCCE           Y      Y         S           C    1033986.0   \n",
       "15358         SCCE           Y      Y         S           C    1033986.0   \n",
       "15359         SCCE           Y      Y         S           C    1033986.0   \n",
       "15360         SCCE           Y      Y         S           C    1033986.0   \n",
       "15366         LCCE           Y      Y         L           C    1033994.0   \n",
       "15367         LCCE           Y      Y         L           C    1033994.0   \n",
       "15368         LCCE           Y      Y         L           C    1033994.0   \n",
       "15369         LCCE           Y      Y         L           C    1033994.0   \n",
       "15370         LCCE           Y      Y         L           C    1033994.0   \n",
       "15372         MCGE           Y      Y         M           G    1033996.0   \n",
       "15373         MCGE           Y      Y         M           G    1033996.0   \n",
       "15374         MCGE           Y      Y         M           G    1033996.0   \n",
       "15375         MCGE           Y      Y         M           G    1033996.0   \n",
       "15380         SCCE           Y      Y         S           C    1034016.0   \n",
       "15386         LCGE           Y      Y         L           G    1034060.0   \n",
       "15387         LCGE           Y      Y         L           G    1034060.0   \n",
       "15388         LCGE           Y      Y         L           G    1034060.0   \n",
       "15389         LCGE           Y      Y         L           G    1034060.0   \n",
       "15390         LCGE           Y      Y         L           G    1034060.0   \n",
       "\n",
       "       fund_no       date  \n",
       "10     31002.0 2018-01-31  \n",
       "11     31002.0 2018-02-28  \n",
       "12     31002.0 2018-03-31  \n",
       "13     31002.0 2018-04-30  \n",
       "14     31002.0 2018-05-31  \n",
       "60     22018.0 2018-01-31  \n",
       "61     22018.0 2018-02-28  \n",
       "62     22018.0 2018-03-31  \n",
       "63     22018.0 2018-04-30  \n",
       "64     22018.0 2018-05-31  \n",
       "70     31016.0 2018-01-31  \n",
       "71     31016.0 2018-02-28  \n",
       "72     31016.0 2018-03-31  \n",
       "73     31016.0 2018-04-30  \n",
       "74     31016.0 2018-05-31  \n",
       "271    23702.0 2018-03-31  \n",
       "394    27143.0 2018-01-31  \n",
       "395    27143.0 2018-02-28  \n",
       "396    27143.0 2018-03-31  \n",
       "397    27143.0 2018-04-30  \n",
       "398    27143.0 2018-05-31  \n",
       "453    22025.0 2018-01-31  \n",
       "454    22025.0 2018-02-28  \n",
       "455    22025.0 2018-03-31  \n",
       "456    22025.0 2018-04-30  \n",
       "457    22025.0 2018-05-31  \n",
       "473    27153.0 2018-01-31  \n",
       "474    27153.0 2018-02-28  \n",
       "475    27153.0 2018-03-31  \n",
       "476    27153.0 2018-04-30  \n",
       "...        ...        ...  \n",
       "15346  61622.0 2018-01-31  \n",
       "15347  61622.0 2018-02-28  \n",
       "15348  61622.0 2018-03-31  \n",
       "15349  61622.0 2018-04-30  \n",
       "15350  61622.0 2018-05-31  \n",
       "15351  61624.0 2018-01-31  \n",
       "15352  61624.0 2018-02-28  \n",
       "15353  61624.0 2018-03-31  \n",
       "15354  61624.0 2018-04-30  \n",
       "15355  61624.0 2018-05-31  \n",
       "15356  61626.0 2018-01-31  \n",
       "15357  61626.0 2018-02-28  \n",
       "15358  61626.0 2018-03-31  \n",
       "15359  61626.0 2018-04-30  \n",
       "15360  61626.0 2018-05-31  \n",
       "15366  61643.0 2018-01-31  \n",
       "15367  61643.0 2018-02-28  \n",
       "15368  61643.0 2018-03-31  \n",
       "15369  61643.0 2018-04-30  \n",
       "15370  61643.0 2018-05-31  \n",
       "15372  61785.0 2018-01-31  \n",
       "15373  61785.0 2018-03-31  \n",
       "15374  61785.0 2018-04-30  \n",
       "15375  61785.0 2018-05-31  \n",
       "15380  61844.0 2018-03-31  \n",
       "15386  62592.0 2018-01-31  \n",
       "15387  62592.0 2018-02-28  \n",
       "15388  62592.0 2018-03-31  \n",
       "15389  62592.0 2018-04-30  \n",
       "15390  62592.0 2018-05-31  \n",
       "\n",
       "[4244 rows x 14 columns]"
      ]
     },
     "execution_count": 417,
     "metadata": {},
     "output_type": "execute_result"
    }
   ],
   "source": [
    "summary"
   ]
  },
  {
   "cell_type": "markdown",
   "metadata": {},
   "source": [
    "### Holdings"
   ]
  },
  {
   "cell_type": "code",
   "execution_count": 397,
   "metadata": {},
   "outputs": [
    {
     "data": {
      "text/plain": [
       "(15391, 8995)"
      ]
     },
     "execution_count": 397,
     "metadata": {},
     "output_type": "execute_result"
    }
   ],
   "source": [
    "path = '../data/processed/EDY/holdings_s.npz'\n",
    "holdings = sparse.load_npz(path)\n",
    "holdings.shape"
   ]
  },
  {
   "cell_type": "code",
   "execution_count": 398,
   "metadata": {},
   "outputs": [],
   "source": [
    "holdings = holdings[date_mask.values]"
   ]
  },
  {
   "cell_type": "code",
   "execution_count": 399,
   "metadata": {},
   "outputs": [
    {
     "name": "stdout",
     "output_type": "stream",
     "text": [
      "Shape of summary information\n",
      "(4244, 14)\n",
      "Shape of holding information\n",
      "(4244, 8995)\n"
     ]
    }
   ],
   "source": [
    "print('Shape of summary information')\n",
    "print(summary.shape)\n",
    "print('Shape of holding information')\n",
    "print(holdings.shape)"
   ]
  },
  {
   "cell_type": "markdown",
   "metadata": {},
   "source": [
    "### portno_map"
   ]
  },
  {
   "cell_type": "code",
   "execution_count": 400,
   "metadata": {
    "scrolled": true
   },
   "outputs": [],
   "source": [
    "path = '../data/raw/portno_map.feather'\n",
    "portno_map = feather.read_dataframe(path)"
   ]
  },
  {
   "cell_type": "code",
   "execution_count": 401,
   "metadata": {},
   "outputs": [
    {
     "data": {
      "text/plain": [
       "<matplotlib.axes._subplots.AxesSubplot at 0x14dd30320>"
      ]
     },
     "execution_count": 401,
     "metadata": {},
     "output_type": "execute_result"
    },
    {
     "data": {
      "image/png": "[encoded data removed]",
      "text/plain": [
       "<Figure size 432x288 with 1 Axes>"
      ]
     },
     "metadata": {},
     "output_type": "display_data"
    }
   ],
   "source": [
    "summary['report_dt'].value_counts().plot()"
   ]
  },
  {
   "cell_type": "markdown",
   "metadata": {},
   "source": [
    "## Merge Crsp_Obj_Cd onto returns data"
   ]
  },
  {
   "cell_type": "markdown",
   "metadata": {},
   "source": [
    "### Merge does not take dates into account -> TODO"
   ]
  },
  {
   "cell_type": "code",
   "execution_count": 402,
   "metadata": {},
   "outputs": [
    {
     "data": {
      "text/plain": [
       "(136092, 18)"
      ]
     },
     "execution_count": 402,
     "metadata": {},
     "output_type": "execute_result"
    }
   ],
   "source": [
    "returns_merged = returns.merge(summary, how='left', left_on='crsp_fundno',right_on='fund_no')\n",
    "returns_merged.shape"
   ]
  },
  {
   "cell_type": "code",
   "execution_count": 403,
   "metadata": {},
   "outputs": [
    {
     "data": {
      "text/plain": [
       "(48251, 18)"
      ]
     },
     "execution_count": 403,
     "metadata": {},
     "output_type": "execute_result"
    }
   ],
   "source": [
    "returns_merged = returns_merged.dropna(axis = 0, how = 'any')\n",
    "returns_merged.shape"
   ]
  },
  {
   "cell_type": "code",
   "execution_count": 404,
   "metadata": {},
   "outputs": [
    {
     "data": {
      "text/html": [
       "<div>\n",
       "<style scoped>\n",
       "    .dataframe tbody tr th:only-of-type {\n",
       "        vertical-align: middle;\n",
       "    }\n",
       "\n",
       "    .dataframe tbody tr th {\n",
       "        vertical-align: top;\n",
       "    }\n",
       "\n",
       "    .dataframe thead th {\n",
       "        text-align: right;\n",
       "    }\n",
       "</style>\n",
       "<table border=\"1\" class=\"dataframe\">\n",
       "  <thead>\n",
       "    <tr style=\"text-align: right;\">\n",
       "      <th></th>\n",
       "      <th>crsp_fundno</th>\n",
       "      <th>caldt</th>\n",
       "      <th>mret</th>\n",
       "      <th>date_x</th>\n",
       "      <th>level_0</th>\n",
       "      <th>index</th>\n",
       "      <th>port_no</th>\n",
       "      <th>report_dt</th>\n",
       "      <th>index_fund_flag</th>\n",
       "      <th>et_flag</th>\n",
       "      <th>lipper_class</th>\n",
       "      <th>mutual_fund</th>\n",
       "      <th>sample</th>\n",
       "      <th>cap_class</th>\n",
       "      <th>style_class</th>\n",
       "      <th>crsp_portno</th>\n",
       "      <th>fund_no</th>\n",
       "      <th>date_y</th>\n",
       "    </tr>\n",
       "  </thead>\n",
       "  <tbody>\n",
       "    <tr>\n",
       "      <th>31634</th>\n",
       "      <td>16705.0</td>\n",
       "      <td>2018-01-31</td>\n",
       "      <td>0.069579</td>\n",
       "      <td>2018-01-31</td>\n",
       "      <td>17289.0</td>\n",
       "      <td>214885</td>\n",
       "      <td>1022067.0</td>\n",
       "      <td>2018-03-31</td>\n",
       "      <td>MF</td>\n",
       "      <td>MF</td>\n",
       "      <td>LCCE</td>\n",
       "      <td>Y</td>\n",
       "      <td>Y</td>\n",
       "      <td>L</td>\n",
       "      <td>C</td>\n",
       "      <td>1022067.0</td>\n",
       "      <td>16705.0</td>\n",
       "      <td>2018-03-31</td>\n",
       "    </tr>\n",
       "  </tbody>\n",
       "</table>\n",
       "</div>"
      ],
      "text/plain": [
       "       crsp_fundno       caldt      mret     date_x  level_0   index  \\\n",
       "31634      16705.0  2018-01-31  0.069579 2018-01-31  17289.0  214885   \n",
       "\n",
       "         port_no   report_dt index_fund_flag et_flag lipper_class mutual_fund  \\\n",
       "31634  1022067.0  2018-03-31              MF      MF         LCCE           Y   \n",
       "\n",
       "      sample cap_class style_class  crsp_portno  fund_no     date_y  \n",
       "31634      Y         L           C    1022067.0  16705.0 2018-03-31  "
      ]
     },
     "execution_count": 404,
     "metadata": {},
     "output_type": "execute_result"
    }
   ],
   "source": [
    "returns_merged.sample()"
   ]
  },
  {
   "cell_type": "markdown",
   "metadata": {},
   "source": [
    "#### Take only needed columns and reorder them"
   ]
  },
  {
   "cell_type": "code",
   "execution_count": 405,
   "metadata": {},
   "outputs": [],
   "source": [
    "returns_merged = returns_merged[['caldt','fund_no','port_no','mret','lipper_class','style_class','cap_class']]"
   ]
  },
  {
   "cell_type": "code",
   "execution_count": 406,
   "metadata": {},
   "outputs": [
    {
     "data": {
      "text/html": [
       "<div>\n",
       "<style scoped>\n",
       "    .dataframe tbody tr th:only-of-type {\n",
       "        vertical-align: middle;\n",
       "    }\n",
       "\n",
       "    .dataframe tbody tr th {\n",
       "        vertical-align: top;\n",
       "    }\n",
       "\n",
       "    .dataframe thead th {\n",
       "        text-align: right;\n",
       "    }\n",
       "</style>\n",
       "<table border=\"1\" class=\"dataframe\">\n",
       "  <thead>\n",
       "    <tr style=\"text-align: right;\">\n",
       "      <th></th>\n",
       "      <th>caldt</th>\n",
       "      <th>fund_no</th>\n",
       "      <th>port_no</th>\n",
       "      <th>mret</th>\n",
       "      <th>lipper_class</th>\n",
       "      <th>style_class</th>\n",
       "      <th>cap_class</th>\n",
       "    </tr>\n",
       "  </thead>\n",
       "  <tbody>\n",
       "    <tr>\n",
       "      <th>607</th>\n",
       "      <td>2018-05-31</td>\n",
       "      <td>3023.0</td>\n",
       "      <td>1025916.0</td>\n",
       "      <td>0.048017</td>\n",
       "      <td>SCCE</td>\n",
       "      <td>C</td>\n",
       "      <td>S</td>\n",
       "    </tr>\n",
       "  </tbody>\n",
       "</table>\n",
       "</div>"
      ],
      "text/plain": [
       "          caldt  fund_no    port_no      mret lipper_class style_class  \\\n",
       "607  2018-05-31   3023.0  1025916.0  0.048017         SCCE           C   \n",
       "\n",
       "    cap_class  \n",
       "607         S  "
      ]
     },
     "execution_count": 406,
     "metadata": {},
     "output_type": "execute_result"
    }
   ],
   "source": [
    "returns_merged.sample()"
   ]
  },
  {
   "cell_type": "markdown",
   "metadata": {},
   "source": [
    "## Check for how many funds returns data is available"
   ]
  },
  {
   "cell_type": "markdown",
   "metadata": {},
   "source": [
    "#### TODO"
   ]
  },
  {
   "cell_type": "markdown",
   "metadata": {},
   "source": [
    "## Calc mean return per Obj_cd"
   ]
  },
  {
   "cell_type": "markdown",
   "metadata": {},
   "source": [
    "### Get unique codes for later"
   ]
  },
  {
   "cell_type": "code",
   "execution_count": 407,
   "metadata": {},
   "outputs": [],
   "source": [
    "group_by = 'style_class'"
   ]
  },
  {
   "cell_type": "code",
   "execution_count": 408,
   "metadata": {},
   "outputs": [],
   "source": [
    "obj_codes = returns_merged[[group_by]].drop_duplicates()\n",
    "obj_codes = obj_codes[group_by].values"
   ]
  },
  {
   "cell_type": "code",
   "execution_count": 409,
   "metadata": {},
   "outputs": [
    {
     "data": {
      "text/html": [
       "<div>\n",
       "<style scoped>\n",
       "    .dataframe tbody tr th:only-of-type {\n",
       "        vertical-align: middle;\n",
       "    }\n",
       "\n",
       "    .dataframe tbody tr th {\n",
       "        vertical-align: top;\n",
       "    }\n",
       "\n",
       "    .dataframe thead th {\n",
       "        text-align: right;\n",
       "    }\n",
       "</style>\n",
       "<table border=\"1\" class=\"dataframe\">\n",
       "  <thead>\n",
       "    <tr style=\"text-align: right;\">\n",
       "      <th></th>\n",
       "      <th>caldt</th>\n",
       "      <th>fund_no</th>\n",
       "      <th>port_no</th>\n",
       "      <th>mret</th>\n",
       "      <th>lipper_class</th>\n",
       "      <th>style_class</th>\n",
       "      <th>cap_class</th>\n",
       "    </tr>\n",
       "  </thead>\n",
       "  <tbody>\n",
       "    <tr>\n",
       "      <th>38941</th>\n",
       "      <td>2018-01-31</td>\n",
       "      <td>20126.0</td>\n",
       "      <td>1022323.0</td>\n",
       "      <td>0.065773</td>\n",
       "      <td>LCVE</td>\n",
       "      <td>V</td>\n",
       "      <td>L</td>\n",
       "    </tr>\n",
       "  </tbody>\n",
       "</table>\n",
       "</div>"
      ],
      "text/plain": [
       "            caldt  fund_no    port_no      mret lipper_class style_class  \\\n",
       "38941  2018-01-31  20126.0  1022323.0  0.065773         LCVE           V   \n",
       "\n",
       "      cap_class  \n",
       "38941         L  "
      ]
     },
     "execution_count": 409,
     "metadata": {},
     "output_type": "execute_result"
    }
   ],
   "source": [
    "returns_merged.sample(1)"
   ]
  },
  {
   "cell_type": "code",
   "execution_count": 410,
   "metadata": {},
   "outputs": [],
   "source": [
    "# Analysis of selected funds\n",
    "returns_obj = returns_merged.groupby([group_by,'caldt'])['mret'].agg(['mean','count','std'])"
   ]
  },
  {
   "cell_type": "code",
   "execution_count": 411,
   "metadata": {},
   "outputs": [],
   "source": [
    "def cumreturn(series):\n",
    "    \"\"\"\n",
    "    Calculate cumreturn from a pandas series\n",
    "    \n",
    "    Attention: Sets first return observation to 1\n",
    "    Could be better implemented\n",
    "    \"\"\"\n",
    "    min_date = series.index.min()\n",
    "    series.loc[min_date] = 0\n",
    "    series = (series.fillna(0)+1).cumprod()\n",
    "    return(series)"
   ]
  },
  {
   "cell_type": "code",
   "execution_count": 412,
   "metadata": {},
   "outputs": [],
   "source": [
    "returns_obj['cumret'] = returns_obj.groupby(group_by)[['mean']].apply(cumreturn)"
   ]
  },
  {
   "cell_type": "markdown",
   "metadata": {},
   "source": [
    "#### Pivot to make multiple columns, one for each obj_cd"
   ]
  },
  {
   "cell_type": "code",
   "execution_count": 413,
   "metadata": {},
   "outputs": [],
   "source": [
    "returns_obj_n = returns_obj.pivot_table(\n",
    "        values='cumret', \n",
    "        index=['caldt'], \n",
    "        columns=group_by)"
   ]
  },
  {
   "cell_type": "code",
   "execution_count": 414,
   "metadata": {},
   "outputs": [
    {
     "data": {
      "text/plain": [
       "<matplotlib.axes._subplots.AxesSubplot at 0x14db001d0>"
      ]
     },
     "execution_count": 414,
     "metadata": {},
     "output_type": "execute_result"
    },
    {
     "data": {
      "image/png": "[encoded data removed]",
      "text/plain": [
       "<Figure size 1152x576 with 1 Axes>"
      ]
     },
     "metadata": {},
     "output_type": "display_data"
    }
   ],
   "source": [
    "returns_obj_n.plot(\n",
    "              kind='line',\n",
    "              use_index=True,\n",
    "              figsize=(16,8),\n",
    "              title='Mean cumreturn per Group',\n",
    "              legend='best')"
   ]
  },
  {
   "cell_type": "markdown",
   "metadata": {},
   "source": [
    "## Cluster with k-means"
   ]
  },
  {
   "cell_type": "markdown",
   "metadata": {},
   "source": [
    "#### Metaparameter number of clusters"
   ]
  },
  {
   "cell_type": "code",
   "execution_count": 355,
   "metadata": {},
   "outputs": [
    {
     "data": {
      "text/plain": [
       "MaxAbsScaler(copy=True)"
      ]
     },
     "execution_count": 355,
     "metadata": {},
     "output_type": "execute_result"
    }
   ],
   "source": [
    "transformer = MaxAbsScaler().fit(holdings) # fit does nothing.\n",
    "transformer"
   ]
  },
  {
   "cell_type": "code",
   "execution_count": 356,
   "metadata": {},
   "outputs": [],
   "source": [
    "holdings = transformer.transform(holdings)"
   ]
  },
  {
   "cell_type": "code",
   "execution_count": 415,
   "metadata": {},
   "outputs": [
    {
     "data": {
      "text/plain": [
       "<matplotlib.axes._subplots.AxesSubplot at 0x1344e84e0>"
      ]
     },
     "execution_count": 415,
     "metadata": {},
     "output_type": "execute_result"
    },
    {
     "data": {
      "image/png": "[encoded data removed]",
      "text/plain": [
       "<Figure size 432x288 with 1 Axes>"
      ]
     },
     "metadata": {},
     "output_type": "display_data"
    }
   ],
   "source": [
    "pd.DataFrame(holdings.sum(0)).T.plot()"
   ]
  },
  {
   "cell_type": "code",
   "execution_count": 416,
   "metadata": {},
   "outputs": [
    {
     "data": {
      "text/plain": [
       "<matplotlib.axes._subplots.AxesSubplot at 0x147f407f0>"
      ]
     },
     "execution_count": 416,
     "metadata": {},
     "output_type": "execute_result"
    },
    {
     "data": {
      "image/png": "[encoded data removed]",
      "text/plain": [
       "<Figure size 432x288 with 1 Axes>"
      ]
     },
     "metadata": {},
     "output_type": "display_data"
    }
   ],
   "source": [
    "pd.DataFrame(holdings.sum(1)).plot()"
   ]
  },
  {
   "cell_type": "code",
   "execution_count": 366,
   "metadata": {},
   "outputs": [
    {
     "name": "stdout",
     "output_type": "stream",
     "text": [
      "Start kMeans...\n"
     ]
    }
   ],
   "source": [
    "print('Start kMeans...')\n",
    "kmeans = KMeans(n_clusters = 3,\n",
    "                verbose = True,\n",
    "                n_init = 10, # Number of runs\n",
    "                n_jobs= -1,\n",
    "                random_state=0).fit(holdings)"
   ]
  },
  {
   "cell_type": "code",
   "execution_count": 367,
   "metadata": {},
   "outputs": [],
   "source": [
    "lables = pd.DataFrame(kmeans.labels_)"
   ]
  },
  {
   "cell_type": "code",
   "execution_count": 368,
   "metadata": {},
   "outputs": [],
   "source": [
    "summary['cluster'] = lables.values"
   ]
  },
  {
   "cell_type": "code",
   "execution_count": 369,
   "metadata": {},
   "outputs": [
    {
     "data": {
      "text/html": [
       "<div>\n",
       "<style scoped>\n",
       "    .dataframe tbody tr th:only-of-type {\n",
       "        vertical-align: middle;\n",
       "    }\n",
       "\n",
       "    .dataframe tbody tr th {\n",
       "        vertical-align: top;\n",
       "    }\n",
       "\n",
       "    .dataframe thead th {\n",
       "        text-align: right;\n",
       "    }\n",
       "</style>\n",
       "<table border=\"1\" class=\"dataframe\">\n",
       "  <thead>\n",
       "    <tr style=\"text-align: right;\">\n",
       "      <th>cluster</th>\n",
       "      <th>0</th>\n",
       "      <th>1</th>\n",
       "      <th>2</th>\n",
       "    </tr>\n",
       "    <tr>\n",
       "      <th>cap_class</th>\n",
       "      <th></th>\n",
       "      <th></th>\n",
       "      <th></th>\n",
       "    </tr>\n",
       "  </thead>\n",
       "  <tbody>\n",
       "    <tr>\n",
       "      <th>L</th>\n",
       "      <td>0</td>\n",
       "      <td>66</td>\n",
       "      <td>1897</td>\n",
       "    </tr>\n",
       "    <tr>\n",
       "      <th>M</th>\n",
       "      <td>55</td>\n",
       "      <td>779</td>\n",
       "      <td>4</td>\n",
       "    </tr>\n",
       "    <tr>\n",
       "      <th>S</th>\n",
       "      <td>464</td>\n",
       "      <td>978</td>\n",
       "      <td>1</td>\n",
       "    </tr>\n",
       "  </tbody>\n",
       "</table>\n",
       "</div>"
      ],
      "text/plain": [
       "cluster      0    1     2\n",
       "cap_class                \n",
       "L            0   66  1897\n",
       "M           55  779     4\n",
       "S          464  978     1"
      ]
     },
     "execution_count": 369,
     "metadata": {},
     "output_type": "execute_result"
    }
   ],
   "source": [
    "pd.crosstab(summary['cap_class'],summary['cluster'])"
   ]
  },
  {
   "cell_type": "code",
   "execution_count": 370,
   "metadata": {},
   "outputs": [
    {
     "data": {
      "text/html": [
       "<div>\n",
       "<style scoped>\n",
       "    .dataframe tbody tr th:only-of-type {\n",
       "        vertical-align: middle;\n",
       "    }\n",
       "\n",
       "    .dataframe tbody tr th {\n",
       "        vertical-align: top;\n",
       "    }\n",
       "\n",
       "    .dataframe thead th {\n",
       "        text-align: right;\n",
       "    }\n",
       "</style>\n",
       "<table border=\"1\" class=\"dataframe\">\n",
       "  <thead>\n",
       "    <tr style=\"text-align: right;\">\n",
       "      <th>cluster</th>\n",
       "      <th>0</th>\n",
       "      <th>1</th>\n",
       "      <th>2</th>\n",
       "    </tr>\n",
       "    <tr>\n",
       "      <th>style_class</th>\n",
       "      <th></th>\n",
       "      <th></th>\n",
       "      <th></th>\n",
       "    </tr>\n",
       "  </thead>\n",
       "  <tbody>\n",
       "    <tr>\n",
       "      <th>C</th>\n",
       "      <td>18</td>\n",
       "      <td>1068</td>\n",
       "      <td>750</td>\n",
       "    </tr>\n",
       "    <tr>\n",
       "      <th>G</th>\n",
       "      <td>501</td>\n",
       "      <td>374</td>\n",
       "      <td>703</td>\n",
       "    </tr>\n",
       "    <tr>\n",
       "      <th>V</th>\n",
       "      <td>0</td>\n",
       "      <td>381</td>\n",
       "      <td>449</td>\n",
       "    </tr>\n",
       "  </tbody>\n",
       "</table>\n",
       "</div>"
      ],
      "text/plain": [
       "cluster        0     1    2\n",
       "style_class                \n",
       "C             18  1068  750\n",
       "G            501   374  703\n",
       "V              0   381  449"
      ]
     },
     "execution_count": 370,
     "metadata": {},
     "output_type": "execute_result"
    }
   ],
   "source": [
    "pd.crosstab(summary['style_class'],summary['cluster'])"
   ]
  },
  {
   "cell_type": "markdown",
   "metadata": {},
   "source": [
    "## Chart the returns of the formed clustes"
   ]
  },
  {
   "cell_type": "code",
   "execution_count": 373,
   "metadata": {},
   "outputs": [
    {
     "data": {
      "text/html": [
       "<div>\n",
       "<style scoped>\n",
       "    .dataframe tbody tr th:only-of-type {\n",
       "        vertical-align: middle;\n",
       "    }\n",
       "\n",
       "    .dataframe tbody tr th {\n",
       "        vertical-align: top;\n",
       "    }\n",
       "\n",
       "    .dataframe thead th {\n",
       "        text-align: right;\n",
       "    }\n",
       "</style>\n",
       "<table border=\"1\" class=\"dataframe\">\n",
       "  <thead>\n",
       "    <tr style=\"text-align: right;\">\n",
       "      <th></th>\n",
       "      <th>level_0</th>\n",
       "      <th>index</th>\n",
       "      <th>port_no</th>\n",
       "      <th>report_dt</th>\n",
       "      <th>index_fund_flag</th>\n",
       "      <th>et_flag</th>\n",
       "      <th>lipper_class</th>\n",
       "      <th>mutual_fund</th>\n",
       "      <th>sample</th>\n",
       "      <th>cap_class</th>\n",
       "      <th>style_class</th>\n",
       "      <th>crsp_portno</th>\n",
       "      <th>fund_no</th>\n",
       "      <th>date</th>\n",
       "      <th>cluster</th>\n",
       "    </tr>\n",
       "  </thead>\n",
       "  <tbody>\n",
       "    <tr>\n",
       "      <th>11136</th>\n",
       "      <td>83524</td>\n",
       "      <td>473482</td>\n",
       "      <td>1026985</td>\n",
       "      <td>2018-03-31</td>\n",
       "      <td>MF</td>\n",
       "      <td>MF</td>\n",
       "      <td>MCGE</td>\n",
       "      <td>Y</td>\n",
       "      <td>Y</td>\n",
       "      <td>M</td>\n",
       "      <td>G</td>\n",
       "      <td>1026985.0</td>\n",
       "      <td>27061.0</td>\n",
       "      <td>2018-03-31</td>\n",
       "      <td>1</td>\n",
       "    </tr>\n",
       "  </tbody>\n",
       "</table>\n",
       "</div>"
      ],
      "text/plain": [
       "       level_0   index  port_no   report_dt index_fund_flag et_flag  \\\n",
       "11136    83524  473482  1026985  2018-03-31              MF      MF   \n",
       "\n",
       "      lipper_class mutual_fund sample cap_class style_class  crsp_portno  \\\n",
       "11136         MCGE           Y      Y         M           G    1026985.0   \n",
       "\n",
       "       fund_no       date  cluster  \n",
       "11136  27061.0 2018-03-31        1  "
      ]
     },
     "execution_count": 373,
     "metadata": {},
     "output_type": "execute_result"
    }
   ],
   "source": [
    "summary.sample()"
   ]
  },
  {
   "cell_type": "markdown",
   "metadata": {},
   "source": [
    "#### Merge new clusters into returns"
   ]
  },
  {
   "cell_type": "code",
   "execution_count": 374,
   "metadata": {},
   "outputs": [
    {
     "data": {
      "text/html": [
       "<div>\n",
       "<style scoped>\n",
       "    .dataframe tbody tr th:only-of-type {\n",
       "        vertical-align: middle;\n",
       "    }\n",
       "\n",
       "    .dataframe tbody tr th {\n",
       "        vertical-align: top;\n",
       "    }\n",
       "\n",
       "    .dataframe thead th {\n",
       "        text-align: right;\n",
       "    }\n",
       "</style>\n",
       "<table border=\"1\" class=\"dataframe\">\n",
       "  <thead>\n",
       "    <tr style=\"text-align: right;\">\n",
       "      <th></th>\n",
       "      <th>caldt</th>\n",
       "      <th>fund_no</th>\n",
       "      <th>port_no</th>\n",
       "      <th>mret</th>\n",
       "      <th>lipper_class</th>\n",
       "      <th>cluster</th>\n",
       "    </tr>\n",
       "  </thead>\n",
       "  <tbody>\n",
       "    <tr>\n",
       "      <th>10489</th>\n",
       "      <td>2018-07-31</td>\n",
       "      <td>7903.0</td>\n",
       "      <td>1021100.0</td>\n",
       "      <td>0.008539</td>\n",
       "      <td>SCGE</td>\n",
       "      <td>0.0</td>\n",
       "    </tr>\n",
       "  </tbody>\n",
       "</table>\n",
       "</div>"
      ],
      "text/plain": [
       "            caldt  fund_no    port_no      mret lipper_class  cluster\n",
       "10489  2018-07-31   7903.0  1021100.0  0.008539         SCGE      0.0"
      ]
     },
     "execution_count": 374,
     "metadata": {},
     "output_type": "execute_result"
    }
   ],
   "source": [
    "returns_merged = returns.merge(summary, how='left', left_on='crsp_fundno',right_on='fund_no')\n",
    "returns_merged = returns_merged.dropna(axis = 0, how = 'any')\n",
    "returns_merged = returns_merged[['caldt','fund_no','port_no','mret','lipper_class','cluster']]\n",
    "returns_merged.sample()"
   ]
  },
  {
   "cell_type": "markdown",
   "metadata": {},
   "source": [
    "#### Calc mean return per Obj_cd"
   ]
  },
  {
   "cell_type": "code",
   "execution_count": 375,
   "metadata": {},
   "outputs": [
    {
     "data": {
      "text/plain": [
       "array([1., 2., 0.])"
      ]
     },
     "execution_count": 375,
     "metadata": {},
     "output_type": "execute_result"
    }
   ],
   "source": [
    "cluster_codes = returns_merged[['cluster']].drop_duplicates()\n",
    "cluster_codes = cluster_codes['cluster'].values\n",
    "cluster_codes"
   ]
  },
  {
   "cell_type": "code",
   "execution_count": 376,
   "metadata": {},
   "outputs": [],
   "source": [
    "# Analysis of selected funds\n",
    "returns_clus = returns_merged.groupby(['cluster','caldt'])['mret'].agg(['mean','count','std'])\n",
    "returns_clus['cumret'] = returns_clus.groupby('cluster')[['mean']].apply(cumreturn)"
   ]
  },
  {
   "cell_type": "markdown",
   "metadata": {},
   "source": [
    "#### Pivot to make multiple columns, one for each obj_cd"
   ]
  },
  {
   "cell_type": "code",
   "execution_count": 377,
   "metadata": {},
   "outputs": [],
   "source": [
    "returns_clus = returns_clus.pivot_table(\n",
    "        values='cumret', \n",
    "        index=['caldt'], \n",
    "        columns='cluster')"
   ]
  },
  {
   "cell_type": "code",
   "execution_count": 379,
   "metadata": {},
   "outputs": [
    {
     "data": {
      "text/plain": [
       "<matplotlib.axes._subplots.AxesSubplot at 0x1496248d0>"
      ]
     },
     "execution_count": 379,
     "metadata": {},
     "output_type": "execute_result"
    },
    {
     "data": {
      "image/png": "[encoded data removed]",
      "text/plain": [
       "<Figure size 1152x576 with 1 Axes>"
      ]
     },
     "metadata": {},
     "output_type": "display_data"
    }
   ],
   "source": [
    "returns_clus.plot(\n",
    "              kind='line',\n",
    "              use_index=True,\n",
    "              figsize=(16,8),\n",
    "              title='Mean cumreturn per Group',\n",
    "              legend='best')"
   ]
  },
  {
   "cell_type": "markdown",
   "metadata": {},
   "source": [
    "# Samples per Fund -> weights per fund"
   ]
  },
  {
   "cell_type": "code",
   "execution_count": 380,
   "metadata": {},
   "outputs": [],
   "source": [
    "index = pd.DataFrame(np.arange(summary.shape[0]))"
   ]
  },
  {
   "cell_type": "code",
   "execution_count": 381,
   "metadata": {},
   "outputs": [],
   "source": [
    "index = index.groupby(summary['port_no']).tail(20)"
   ]
  },
  {
   "cell_type": "code",
   "execution_count": 382,
   "metadata": {},
   "outputs": [],
   "source": [
    "index = index.values.T.flatten()"
   ]
  },
  {
   "cell_type": "code",
   "execution_count": 383,
   "metadata": {},
   "outputs": [
    {
     "name": "stderr",
     "output_type": "stream",
     "text": [
      "/Users/alexandersteeb/.virtualenvs/mf/lib/python3.7/site-packages/pandas/core/indexing.py:1494: FutureWarning: \n",
      "Passing list-likes to .loc or [] with any missing label will raise\n",
      "KeyError in the future, you can use .reindex() as an alternative.\n",
      "\n",
      "See the documentation here:\n",
      "https://pandas.pydata.org/pandas-docs/stable/indexing.html#deprecate-loc-reindex-listlike\n",
      "  return self._getitem_tuple(key)\n"
     ]
    },
    {
     "data": {
      "text/plain": [
       "(523, 8995)"
      ]
     },
     "execution_count": 383,
     "metadata": {},
     "output_type": "execute_result"
    }
   ],
   "source": [
    "summary = summary.loc[index,:]\n",
    "holdings = holdings[index]\n",
    "holdings.shape"
   ]
  },
  {
   "cell_type": "markdown",
   "metadata": {},
   "source": [
    "#### Sonstiges"
   ]
  },
  {
   "cell_type": "code",
   "execution_count": 384,
   "metadata": {},
   "outputs": [
    {
     "ename": "NameError",
     "evalue": "name 'clusters' is not defined",
     "output_type": "error",
     "traceback": [
      "\u001b[0;31m---------------------------------------------------------------------------\u001b[0m",
      "\u001b[0;31mNameError\u001b[0m                                 Traceback (most recent call last)",
      "\u001b[0;32m<ipython-input-384-bfe34ed3e880>\u001b[0m in \u001b[0;36m<module>\u001b[0;34m\u001b[0m\n\u001b[0;32m----> 1\u001b[0;31m \u001b[0mresult_mat\u001b[0m \u001b[0;34m=\u001b[0m \u001b[0mpd\u001b[0m\u001b[0;34m.\u001b[0m\u001b[0mDataFrame\u001b[0m\u001b[0;34m(\u001b[0m\u001b[0;34m{\u001b[0m\u001b[0;34m'Clusters'\u001b[0m\u001b[0;34m:\u001b[0m \u001b[0mclusters\u001b[0m\u001b[0;34m,\u001b[0m \u001b[0;34m'Inertia'\u001b[0m\u001b[0;34m:\u001b[0m\u001b[0mresults\u001b[0m\u001b[0;34m}\u001b[0m\u001b[0;34m)\u001b[0m\u001b[0;34m\u001b[0m\u001b[0;34m\u001b[0m\u001b[0m\n\u001b[0m",
      "\u001b[0;31mNameError\u001b[0m: name 'clusters' is not defined"
     ]
    }
   ],
   "source": [
    "result_mat = pd.DataFrame({'Clusters': clusters, 'Inertia':results})"
   ]
  },
  {
   "cell_type": "code",
   "execution_count": 385,
   "metadata": {},
   "outputs": [
    {
     "ename": "NameError",
     "evalue": "name 'result_mat' is not defined",
     "output_type": "error",
     "traceback": [
      "\u001b[0;31m---------------------------------------------------------------------------\u001b[0m",
      "\u001b[0;31mNameError\u001b[0m                                 Traceback (most recent call last)",
      "\u001b[0;32m<ipython-input-385-b7a7be61ba3c>\u001b[0m in \u001b[0;36m<module>\u001b[0;34m\u001b[0m\n\u001b[0;32m----> 1\u001b[0;31m \u001b[0mplt\u001b[0m\u001b[0;34m.\u001b[0m\u001b[0mplot\u001b[0m\u001b[0;34m(\u001b[0m\u001b[0mresult_mat\u001b[0m\u001b[0;34m[\u001b[0m\u001b[0;34m'Clusters'\u001b[0m\u001b[0;34m]\u001b[0m\u001b[0;34m,\u001b[0m\u001b[0mresult_mat\u001b[0m\u001b[0;34m[\u001b[0m\u001b[0;34m'Inertia'\u001b[0m\u001b[0;34m]\u001b[0m\u001b[0;34m)\u001b[0m\u001b[0;34m\u001b[0m\u001b[0;34m\u001b[0m\u001b[0m\n\u001b[0m",
      "\u001b[0;31mNameError\u001b[0m: name 'result_mat' is not defined"
     ]
    }
   ],
   "source": [
    "plt.plot(result_mat['Clusters'],result_mat['Inertia'])"
   ]
  },
  {
   "cell_type": "markdown",
   "metadata": {},
   "source": [
    "# Visualize"
   ]
  },
  {
   "cell_type": "code",
   "execution_count": 30,
   "metadata": {},
   "outputs": [],
   "source": [
    "MiniBatchKMeans?"
   ]
  },
  {
   "cell_type": "code",
   "execution_count": 387,
   "metadata": {
    "scrolled": false
   },
   "outputs": [
    {
     "name": "stdout",
     "output_type": "stream",
     "text": [
      "For n_clusters = 4 The average silhouette_score is : -0.23710713370442554\n"
     ]
    },
    {
     "data": {
      "image/png": "[encoded data removed]",
      "text/plain": [
       "<Figure size 1296x504 with 1 Axes>"
      ]
     },
     "metadata": {},
     "output_type": "display_data"
    },
    {
     "name": "stdout",
     "output_type": "stream",
     "text": [
      "CPU times: user 619 ms, sys: 65 ms, total: 684 ms\n",
      "Wall time: 353 ms\n"
     ]
    }
   ],
   "source": [
    "%%time\n",
    "#holdings = holdings[:3000]\n",
    "X = holdings\n",
    "n_clusters = [4]\n",
    "\n",
    "clusters = []\n",
    "results = []\n",
    "\n",
    "\n",
    "\n",
    "for n_clusters in n_clusters:\n",
    "    clusterer = DBSCAN(\n",
    "                        eps=0.5, \n",
    "                        min_samples=5, \n",
    "                        metric='euclidean', \n",
    "                        metric_params=None, \n",
    "                        leaf_size=50, \n",
    "                        p=None, \n",
    "                        n_jobs=-1)\n",
    "    \n",
    "    \n",
    "    cluster_fit = clusterer.fit(holdings)\n",
    "#    clusters.append(n_clusters)\n",
    "#    results.append(cluster_fit.inertia_)    \n",
    "    \n",
    "    \n",
    "    \n",
    "    cluster_labels = cluster_fit.labels_\n",
    "    \n",
    "    # Create a subplot with 1 row and 2 columns\n",
    "    fig, ax1 = plt.subplots()\n",
    "    fig.set_size_inches(18, 7)\n",
    "\n",
    "    # The 1st subplot is the silhouette plot\n",
    "    # The silhouette coefficient can range from -1, 1 but in this example all\n",
    "    # lie within [-0.1, 1]\n",
    "    ax1.set_xlim([-1, 1])\n",
    "    # The (n_clusters+1)*10 is for inserting blank space between silhouette\n",
    "    # plots of individual clusters, to demarcate them clearly.\n",
    "    ax1.set_ylim([0, X.shape[0] + (n_clusters + 1) * 10])\n",
    "    \n",
    "    # The silhouette_score gives the average value for all the samples.\n",
    "    # This gives a perspective into the density and separation of the formed\n",
    "    # clusters\n",
    "    silhouette_avg = silhouette_score(X, cluster_labels)\n",
    "    print(\"For n_clusters =\", n_clusters,\n",
    "          \"The average silhouette_score is :\", silhouette_avg)\n",
    "\n",
    "    # Compute the silhouette scores for each sample\n",
    "\n",
    "    # TODO can pool.map be implemented here?\n",
    "    sample_silhouette_values = silhouette_samples(X, cluster_labels)\n",
    "\n",
    "    y_lower = 10\n",
    "    for i in range(n_clusters):\n",
    "        # Aggregate the silhouette scores for samples belonging to\n",
    "        # cluster i, and sort them\n",
    "        ith_cluster_silhouette_values = \\\n",
    "            sample_silhouette_values[cluster_labels == i]\n",
    "\n",
    "        ith_cluster_silhouette_values.sort()\n",
    "\n",
    "        size_cluster_i = ith_cluster_silhouette_values.shape[0]\n",
    "        y_upper = y_lower + size_cluster_i\n",
    "\n",
    "        color = cm.nipy_spectral(float(i) / n_clusters)\n",
    "        ax1.fill_betweenx(np.arange(y_lower, y_upper),\n",
    "                          0, ith_cluster_silhouette_values,\n",
    "                          facecolor=color, edgecolor=color, alpha=0.7)\n",
    "\n",
    "        # Label the silhouette plots with their cluster numbers at the middle\n",
    "        ax1.text(-0.05, y_lower + 0.5 * size_cluster_i, str(i))\n",
    "\n",
    "        # Compute the new y_lower for next plot\n",
    "        y_lower = y_upper + 10  # 10 for the 0 samples\n",
    "\n",
    "    ax1.set_title(\"The silhouette plot for the various clusters.\")\n",
    "    ax1.set_xlabel(\"The silhouette coefficient values\")\n",
    "    ax1.set_ylabel(\"Cluster label\")\n",
    "\n",
    "    # The vertical line for average silhouette score of all the values\n",
    "    ax1.axvline(x=silhouette_avg, color=\"red\", linestyle=\"--\")\n",
    "\n",
    "    ax1.set_yticks([])  # Clear the yaxis labels / ticks\n",
    "    ax1.set_xticks([-0.1, 0, 0.2, 0.4, 0.6, 0.8, 1])\n",
    "\n",
    "    plt.suptitle((\"Silhouette analysis for KMeans clustering on sample data \"\n",
    "                  \"with n_clusters = %d\" % n_clusters),\n",
    "                 fontsize=14, fontweight='bold')\n",
    "\n",
    "plt.show()"
   ]
  },
  {
   "cell_type": "code",
   "execution_count": 388,
   "metadata": {
    "scrolled": false
   },
   "outputs": [
    {
     "name": "stdout",
     "output_type": "stream",
     "text": [
      "For n_clusters = 2 The average silhouette_score is : 0.45324387254279286\n",
      "For n_clusters = 4 The average silhouette_score is : 0.1339350792131928\n",
      "For n_clusters = 6 The average silhouette_score is : -0.00015566591712760412\n",
      "For n_clusters = 8 The average silhouette_score is : 0.01568091207784738\n",
      "For n_clusters = 10 The average silhouette_score is : 0.014853795085998068\n"
     ]
    },
    {
     "data": {
      "image/png": "[encoded data removed]",
      "text/plain": [
       "<Figure size 1296x504 with 1 Axes>"
      ]
     },
     "metadata": {},
     "output_type": "display_data"
    },
    {
     "data": {
      "image/png": "[encoded data removed]",
      "text/plain": [
       "<Figure size 1296x504 with 1 Axes>"
      ]
     },
     "metadata": {},
     "output_type": "display_data"
    },
    {
     "data": {
      "image/png": "[encoded data removed]",
      "text/plain": [
       "<Figure size 1296x504 with 1 Axes>"
      ]
     },
     "metadata": {},
     "output_type": "display_data"
    },
    {
     "data": {
      "image/png": "[encoded data removed]",
      "text/plain": [
       "<Figure size 1296x504 with 1 Axes>"
      ]
     },
     "metadata": {},
     "output_type": "display_data"
    },
    {
     "data": {
      "image/png": "[encoded data removed]",
      "text/plain": [
       "<Figure size 1296x504 with 1 Axes>"
      ]
     },
     "metadata": {},
     "output_type": "display_data"
    },
    {
     "name": "stdout",
     "output_type": "stream",
     "text": [
      "CPU times: user 44.8 s, sys: 704 ms, total: 45.5 s\n",
      "Wall time: 43.3 s\n"
     ]
    }
   ],
   "source": [
    "%%time\n",
    "X = holdings\n",
    "n_clusters = [2,3,4,5,6,8,10]\n",
    "\n",
    "clusters = []\n",
    "results = []\n",
    "\n",
    "for n_clusters in n_clusters:\n",
    "    clusterer = MiniBatchKMeans(\n",
    "                    n_clusters=n_clusters,\n",
    "                    verbose = False,\n",
    "                    n_init = 1000)\n",
    "    \n",
    "    \n",
    "    cluster_fit = clusterer.fit(holdings)\n",
    "    clusters.append(n_clusters)\n",
    "    results.append(cluster_fit.inertia_)    \n",
    "    \n",
    "    \n",
    "    \n",
    "    cluster_labels = cluster_fit.labels_\n",
    "    \n",
    "    # Create a subplot with 1 row and 2 columns\n",
    "    fig, ax1 = plt.subplots()\n",
    "    fig.set_size_inches(18, 7)\n",
    "\n",
    "    # The 1st subplot is the silhouette plot\n",
    "    # The silhouette coefficient can range from -1, 1 but in this example all\n",
    "    # lie within [-0.1, 1]\n",
    "    ax1.set_xlim([-1, 1])\n",
    "    # The (n_clusters+1)*10 is for inserting blank space between silhouette\n",
    "    # plots of individual clusters, to demarcate them clearly.\n",
    "    ax1.set_ylim([0, X.shape[0] + (n_clusters + 1) * 10])\n",
    "    \n",
    "    # The silhouette_score gives the average value for all the samples.\n",
    "    # This gives a perspective into the density and separation of the formed\n",
    "    # clusters\n",
    "    silhouette_avg = silhouette_score(X, cluster_labels)\n",
    "    print(\"For n_clusters =\", n_clusters,\n",
    "          \"The average silhouette_score is :\", silhouette_avg)\n",
    "\n",
    "    # Compute the silhouette scores for each sample\n",
    "\n",
    "    # TODO can pool.map be implemented here?\n",
    "    sample_silhouette_values = silhouette_samples(X, cluster_labels)\n",
    "\n",
    "    y_lower = 10\n",
    "    for i in range(n_clusters):\n",
    "        # Aggregate the silhouette scores for samples belonging to\n",
    "        # cluster i, and sort them\n",
    "        ith_cluster_silhouette_values = \\\n",
    "            sample_silhouette_values[cluster_labels == i]\n",
    "\n",
    "        ith_cluster_silhouette_values.sort()\n",
    "\n",
    "        size_cluster_i = ith_cluster_silhouette_values.shape[0]\n",
    "        y_upper = y_lower + size_cluster_i\n",
    "\n",
    "        color = cm.nipy_spectral(float(i) / n_clusters)\n",
    "        ax1.fill_betweenx(np.arange(y_lower, y_upper),\n",
    "                          0, ith_cluster_silhouette_values,\n",
    "                          facecolor=color, edgecolor=color, alpha=0.7)\n",
    "\n",
    "        # Label the silhouette plots with their cluster numbers at the middle\n",
    "        ax1.text(-0.05, y_lower + 0.5 * size_cluster_i, str(i))\n",
    "\n",
    "        # Compute the new y_lower for next plot\n",
    "        y_lower = y_upper + 10  # 10 for the 0 samples\n",
    "\n",
    "    ax1.set_title(\"The silhouette plot for the various clusters.\")\n",
    "    ax1.set_xlabel(\"The silhouette coefficient values\")\n",
    "    ax1.set_ylabel(\"Cluster label\")\n",
    "\n",
    "    # The vertical line for average silhouette score of all the values\n",
    "    ax1.axvline(x=silhouette_avg, color=\"red\", linestyle=\"--\")\n",
    "\n",
    "    ax1.set_yticks([])  # Clear the yaxis labels / ticks\n",
    "    ax1.set_xticks([-0.1, 0, 0.2, 0.4, 0.6, 0.8, 1])\n",
    "\n",
    "    plt.suptitle((\"Silhouette analysis for KMeans clustering on sample data \"\n",
    "                  \"with n_clusters = %d\" % n_clusters),\n",
    "                 fontsize=14, fontweight='bold')\n",
    "\n",
    "plt.show()"
   ]
  },
  {
   "cell_type": "code",
   "execution_count": 54,
   "metadata": {},
   "outputs": [
    {
     "data": {
      "text/plain": [
       "[<matplotlib.lines.Line2D at 0x13073fc18>]"
      ]
     },
     "execution_count": 54,
     "metadata": {},
     "output_type": "execute_result"
    },
    {
     "data": {
      "image/png": "[encoded data removed]",
      "text/plain": [
       "<Figure size 432x288 with 1 Axes>"
      ]
     },
     "metadata": {
      "needs_background": "light"
     },
     "output_type": "display_data"
    }
   ],
   "source": [
    "plt.plot(result_mat['Clusters'],result_mat['Inertia'])"
   ]
  },
  {
   "cell_type": "code",
   "execution_count": null,
   "metadata": {},
   "outputs": [],
   "source": [
    "%%time\n",
    "# Compute the silhouette scores for each sample\n",
    "sample_silhouette_values = silhouette_samples(X, cluster_labels)"
   ]
  },
  {
   "cell_type": "markdown",
   "metadata": {},
   "source": [
    "## Visualization only"
   ]
  },
  {
   "cell_type": "code",
   "execution_count": 48,
   "metadata": {},
   "outputs": [
    {
     "name": "stderr",
     "output_type": "stream",
     "text": [
      "/usr/local/lib/python3.7/site-packages/ipykernel_launcher.py:26: FutureWarning: elementwise comparison failed; returning scalar instead, but in the future will perform elementwise comparison\n"
     ]
    },
    {
     "ename": "ValueError",
     "evalue": "Input passed into argument \"'x2'\"is not 1-dimensional.",
     "output_type": "error",
     "traceback": [
      "\u001b[0;31m---------------------------------------------------------------------------\u001b[0m",
      "\u001b[0;31mValueError\u001b[0m                                Traceback (most recent call last)",
      "\u001b[0;32m<ipython-input-48-f79442f81d3f>\u001b[0m in \u001b[0;36m<module>\u001b[0;34m\u001b[0m\n\u001b[1;32m     34\u001b[0m         ax1.fill_betweenx(np.arange(y_lower, y_upper),\n\u001b[1;32m     35\u001b[0m                           \u001b[0;36m0\u001b[0m\u001b[0;34m,\u001b[0m \u001b[0mith_cluster_silhouette_values\u001b[0m\u001b[0;34m,\u001b[0m\u001b[0;34m\u001b[0m\u001b[0;34m\u001b[0m\u001b[0m\n\u001b[0;32m---> 36\u001b[0;31m                           facecolor=color, edgecolor=color, alpha=0.7)\n\u001b[0m\u001b[1;32m     37\u001b[0m \u001b[0;34m\u001b[0m\u001b[0m\n\u001b[1;32m     38\u001b[0m         \u001b[0;31m# Label the silhouette plots with their cluster numbers at the middle\u001b[0m\u001b[0;34m\u001b[0m\u001b[0;34m\u001b[0m\u001b[0;34m\u001b[0m\u001b[0m\n",
      "\u001b[0;32m/usr/local/lib/python3.7/site-packages/matplotlib/__init__.py\u001b[0m in \u001b[0;36minner\u001b[0;34m(ax, data, *args, **kwargs)\u001b[0m\n\u001b[1;32m   1808\u001b[0m                         \u001b[0;34m\"the Matplotlib list!)\"\u001b[0m \u001b[0;34m%\u001b[0m \u001b[0;34m(\u001b[0m\u001b[0mlabel_namer\u001b[0m\u001b[0;34m,\u001b[0m \u001b[0mfunc\u001b[0m\u001b[0;34m.\u001b[0m\u001b[0m__name__\u001b[0m\u001b[0;34m)\u001b[0m\u001b[0;34m,\u001b[0m\u001b[0;34m\u001b[0m\u001b[0;34m\u001b[0m\u001b[0m\n\u001b[1;32m   1809\u001b[0m                         RuntimeWarning, stacklevel=2)\n\u001b[0;32m-> 1810\u001b[0;31m             \u001b[0;32mreturn\u001b[0m \u001b[0mfunc\u001b[0m\u001b[0;34m(\u001b[0m\u001b[0max\u001b[0m\u001b[0;34m,\u001b[0m \u001b[0;34m*\u001b[0m\u001b[0margs\u001b[0m\u001b[0;34m,\u001b[0m \u001b[0;34m**\u001b[0m\u001b[0mkwargs\u001b[0m\u001b[0;34m)\u001b[0m\u001b[0;34m\u001b[0m\u001b[0;34m\u001b[0m\u001b[0m\n\u001b[0m\u001b[1;32m   1811\u001b[0m \u001b[0;34m\u001b[0m\u001b[0m\n\u001b[1;32m   1812\u001b[0m         inner.__doc__ = _add_data_doc(inner.__doc__,\n",
      "\u001b[0;32m/usr/local/lib/python3.7/site-packages/matplotlib/axes/_axes.py\u001b[0m in \u001b[0;36mfill_betweenx\u001b[0;34m(self, y, x1, x2, where, step, interpolate, **kwargs)\u001b[0m\n\u001b[1;32m   5235\u001b[0m             \u001b[0;32mif\u001b[0m \u001b[0marray\u001b[0m\u001b[0;34m.\u001b[0m\u001b[0mndim\u001b[0m \u001b[0;34m>\u001b[0m \u001b[0;36m1\u001b[0m\u001b[0;34m:\u001b[0m\u001b[0;34m\u001b[0m\u001b[0;34m\u001b[0m\u001b[0m\n\u001b[1;32m   5236\u001b[0m                 raise ValueError('Input passed into argument \"%r\"' % name +\n\u001b[0;32m-> 5237\u001b[0;31m                                  'is not 1-dimensional.')\n\u001b[0m\u001b[1;32m   5238\u001b[0m \u001b[0;34m\u001b[0m\u001b[0m\n\u001b[1;32m   5239\u001b[0m         \u001b[0;32mif\u001b[0m \u001b[0mwhere\u001b[0m \u001b[0;32mis\u001b[0m \u001b[0;32mNone\u001b[0m\u001b[0;34m:\u001b[0m\u001b[0;34m\u001b[0m\u001b[0;34m\u001b[0m\u001b[0m\n",
      "\u001b[0;31mValueError\u001b[0m: Input passed into argument \"'x2'\"is not 1-dimensional."
     ]
    },
    {
     "data": {
      "image/png": "[encoded data removed]",
      "text/plain": [
       "<Figure size 1296x504 with 1 Axes>"
      ]
     },
     "metadata": {
      "needs_background": "light"
     },
     "output_type": "display_data"
    }
   ],
   "source": [
    "# Inputs\n",
    "X = holdings\n",
    "n_clusters = 4\n",
    "fit_object = kmeans\n",
    "\n",
    "cluster_labels = fit_object.labels_\n",
    "\n",
    "sample_silhouette_values = silhouette_samples(X, cluster_labels)\n",
    "\n",
    "print(\"Silhouette values calculated\")\n",
    "\n",
    "fig, ax1 = plt.subplots()\n",
    "fig.set_size_inches(18, 7)\n",
    "\n",
    "ax1.set_xlim([-0.2, 0.6])\n",
    "ax1.set_ylim([0, X.shape[0] + (n_clusters + 1) * 10])\n",
    "\n",
    "y_lower = 10\n",
    "i = 0\n",
    "\n",
    "for obj_code in obj_codes:\n",
    "\n",
    "        ith_cluster_silhouette_values = \\\n",
    "            sample_silhouette_values[cluster_labels == obj_code]\n",
    "\n",
    "        ith_cluster_silhouette_values.sort()\n",
    "\n",
    "        size_cluster_i = ith_cluster_silhouette_values.shape[0]\n",
    "        y_upper = y_lower + size_cluster_i\n",
    "\n",
    "        color = cm.nipy_spectral(float(i) / n_clusters)\n",
    "        ax1.fill_betweenx(np.arange(y_lower, y_upper),\n",
    "                          0, ith_cluster_silhouette_values,\n",
    "                          facecolor=color, edgecolor=color, alpha=0.7)\n",
    "\n",
    "        # Label the silhouette plots with their cluster numbers at the middle\n",
    "        ax1.text(-0.05, y_lower + 0.5 * size_cluster_i, str(i))\n",
    "\n",
    "        # Compute the new y_lower for next plot\n",
    "        y_lower = y_upper + 10  # 10 for the 0 samples\n",
    "\n",
    "        ax1.set_title(\"The silhouette plot for the various clusters.\")\n",
    "        ax1.set_xlabel(\"The silhouette coefficient values\")\n",
    "        ax1.set_ylabel(\"Cluster label\")\n",
    "\n",
    "        # The vertical line for average silhouette score of all the values\n",
    "        ax1.axvline(x=silhouette_avg, color=\"red\", linestyle=\"--\")\n",
    "\n",
    "        ax1.set_yticks([])  # Clear the yaxis labels / ticks\n",
    "        ax1.set_xticks([-0.1, 0, 0.2, 0.4, 0.6, 0.8, 1])\n",
    "\n",
    "        plt.suptitle((\"Silhouette analysis for KMeans clustering on sample data \"\n",
    "                  \"with n_clusters = %d\" % n_clusters),\n",
    "                 fontsize=14, fontweight='bold')\n",
    "        i =+ 1\n",
    "        print(\"First Done: \",obj_code)\n",
    "\n",
    "plt.show()"
   ]
  }
 ],
 "metadata": {
  "kernelspec": {
   "display_name": "Python 3",
   "language": "python",
   "name": "python3"
  },
  "language_info": {
   "codemirror_mode": {
    "name": "ipython",
    "version": 3
   },
   "file_extension": ".py",
   "mimetype": "text/x-python",
   "name": "python",
   "nbconvert_exporter": "python",
   "pygments_lexer": "ipython3",
   "version": "3.7.1"
  }
 },
 "nbformat": 4,
 "nbformat_minor": 2
}
