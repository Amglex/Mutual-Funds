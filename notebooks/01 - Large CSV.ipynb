{
 "cells": [
  {
   "cell_type": "markdown",
   "metadata": {},
   "source": [
    "# Read large csv file and count occurances\n",
    "\n",
    "CSV file is raw holdings file converted from SAS format\n",
    "\n",
    "File must be transformed into parse matrix"
   ]
  },
  {
   "cell_type": "markdown",
   "metadata": {},
   "source": [
    "# Import statements"
   ]
  },
  {
   "cell_type": "code",
   "execution_count": 215,
   "metadata": {},
   "outputs": [],
   "source": [
    "import csv\n",
    "import collections\n",
    "import feather\n",
    "import math\n",
    "\n",
    "import numpy as np\n",
    "import pandas as pd\n",
    "import matplotlib.pyplot as plt\n",
    "\n",
    "from datetime import datetime\n",
    "from scipy import sparse\n",
    "import numpy as np"
   ]
  },
  {
   "cell_type": "code",
   "execution_count": 216,
   "metadata": {},
   "outputs": [],
   "source": [
    "import os\n",
    "import sys\n",
    "\n",
    "# add the 'src' directory as one where we can import modules\n",
    "src_dir = os.path.join(os.getcwd(), os.pardir, 'src')\n",
    "sys.path.append(src_dir)\n",
    "\n",
    "from data.basic_functions import * "
   ]
  },
  {
   "cell_type": "markdown",
   "metadata": {},
   "source": [
    "# Find all unqiue Stocks and Portfolio/dates"
   ]
  },
  {
   "cell_type": "code",
   "execution_count": 217,
   "metadata": {},
   "outputs": [],
   "source": [
    "def make_port_id(a,b):\n",
    "    \"\"\"\n",
    "    Generate a unique ID from the portno and the date of a fund/date combination\n",
    "    \n",
    "    Input:\n",
    "    - a: port_no\n",
    "    - b: date\n",
    "    \n",
    "    Output:\n",
    "    - port_ID\n",
    "    \"\"\"\n",
    "    return int(100000 * a + b)\n"
   ]
  },
  {
   "cell_type": "code",
   "execution_count": 218,
   "metadata": {},
   "outputs": [],
   "source": [
    "# Simple version\n",
    "def extra_reader(reader_object):\n",
    "    \"\"\"\n",
    "    Loops over rows of holdings csv\n",
    "    Nedded to generate sparse matrix\n",
    "    \n",
    "    Input: \n",
    "    - a reader object linking to the holdings csv\n",
    "    \n",
    "    Output: \n",
    "    - port_ID: Collection of all unique fund/date combinations\n",
    "    - stock_ID: Collection of all unique stocks\n",
    "    \"\"\"\n",
    "    \n",
    "    next(reader)\n",
    "    stocks = collections.Counter()\n",
    "    port_ID = collections.Counter()\n",
    "    \n",
    "    for row in reader_object:\n",
    "        port_ID_str = make_port_id(int(float(row[0])),int(float(row[1])))\n",
    "        port_ID[port_ID_str] += 1\n",
    "        stocks[int(float(row[7]))] += 1\n",
    "\n",
    "    return(port_ID,stocks)  "
   ]
  },
  {
   "cell_type": "code",
   "execution_count": 219,
   "metadata": {},
   "outputs": [],
   "source": [
    "path = '../data/raw/out_s.csv'\n",
    "\n",
    "input_file = open(path)\n",
    "reader = csv.reader(input_file, delimiter=',')"
   ]
  },
  {
   "cell_type": "code",
   "execution_count": 220,
   "metadata": {},
   "outputs": [
    {
     "name": "stdout",
     "output_type": "stream",
     "text": [
      "CPU times: user 3min 33s, sys: 3.75 s, total: 3min 37s\n",
      "Wall time: 3min 37s\n"
     ]
    }
   ],
   "source": [
    "%%time\n",
    "port_ID, stocks = extra_reader(reader)"
   ]
  },
  {
   "cell_type": "code",
   "execution_count": 221,
   "metadata": {},
   "outputs": [
    {
     "data": {
      "text/plain": [
       "49999999"
      ]
     },
     "execution_count": 221,
     "metadata": {},
     "output_type": "execute_result"
    }
   ],
   "source": [
    "sum(port_ID.values())"
   ]
  },
  {
   "cell_type": "markdown",
   "metadata": {},
   "source": [
    "# Create stock and port_no map"
   ]
  },
  {
   "cell_type": "code",
   "execution_count": 222,
   "metadata": {},
   "outputs": [],
   "source": [
    "def make_unique_dict(counter):\n",
    "    \"\"\"\n",
    "    Used to make a dictionary linking each fund/date combination \n",
    "    and each stock to a row/col in the sparse matrix\n",
    "    \n",
    "    Input:\n",
    "    - collections.Counter() object\n",
    "    \n",
    "    Output:\n",
    "    - dictionary\n",
    "    \"\"\"\n",
    "    \n",
    "    unique_keys = list(counter.keys())\n",
    "    unique_keys_numbers = list(np.arange(len(unique_keys)))\n",
    "    counter_map = dict(zip(unique_keys, unique_keys_numbers))\n",
    "    \n",
    "    return(counter_map)"
   ]
  },
  {
   "cell_type": "code",
   "execution_count": 223,
   "metadata": {},
   "outputs": [],
   "source": [
    "stock_map = make_unique_dict(stocks)\n",
    "port_no_map = make_unique_dict(port_ID)"
   ]
  },
  {
   "cell_type": "code",
   "execution_count": 224,
   "metadata": {},
   "outputs": [
    {
     "name": "stdout",
     "output_type": "stream",
     "text": [
      "Total number of rows in file:  49,999,999\n",
      "Numer of unique stocks:        785,608\n",
      "Numer of unique portfolios:    224,257\n"
     ]
    }
   ],
   "source": [
    "total_number_rows = sum(list(stocks.values()))\n",
    "print('Total number of rows in file:  {:,}'.format(total_number_rows))\n",
    "print('Numer of unique stocks:        {:,}'.format(len(stocks.keys())))\n",
    "print('Numer of unique portfolios:    {:,}'.format(len(port_no_map.keys())))"
   ]
  },
  {
   "cell_type": "markdown",
   "metadata": {},
   "source": [
    "# Set up sparse matrix"
   ]
  },
  {
   "cell_type": "code",
   "execution_count": 225,
   "metadata": {},
   "outputs": [],
   "source": [
    "def gen_sparse_data(reader):\n",
    "    \"\"\"\n",
    "    Loop over holdings csv file to collect the data for the sparse matrix\n",
    "    \n",
    "    Input:\n",
    "    - reader: CSV holdings file\n",
    "    \n",
    "    Output:\n",
    "    - sparse_row, sparse_col, sparse_data: three np arrays for the construction of the sparse matrix\n",
    "    \"\"\"\n",
    "    next(reader)\n",
    "    \n",
    "    counter = 0\n",
    "    \n",
    "    sparse_row = np.zeros(total_number_rows)\n",
    "    sparse_col = np.zeros(total_number_rows)\n",
    "    sparse_data = np.zeros(total_number_rows)\n",
    "    \n",
    "    for row in reader:\n",
    "        # Row\n",
    "        port_ID = make_port_id(int(float(row[0])),int(float(row[1])))\n",
    "        sparse_row[counter] = port_no_map[port_ID]\n",
    "\n",
    "        # Col\n",
    "        stock_num = int(float(row[7]))\n",
    "        sparse_col[counter] = stock_map[stock_num]\n",
    "\n",
    "        # Data\n",
    "        try:\n",
    "            sparse_data[counter] = float(row[4])\n",
    "        except: \n",
    "            sparse_data[counter] = 0\n",
    "            \n",
    "        counter += 1\n",
    "    \n",
    "    sparse_row = sparse_row.astype(int)\n",
    "    sparse_col = sparse_col.astype(int)\n",
    "    \n",
    "    return(sparse_row, sparse_col, sparse_data)"
   ]
  },
  {
   "cell_type": "code",
   "execution_count": 226,
   "metadata": {},
   "outputs": [],
   "source": [
    "path = '../data/raw/out_s.csv'\n",
    "input_file = open(path)\n",
    "reader = csv.reader(input_file, delimiter=',')"
   ]
  },
  {
   "cell_type": "code",
   "execution_count": 227,
   "metadata": {},
   "outputs": [
    {
     "name": "stdout",
     "output_type": "stream",
     "text": [
      "CPU times: user 3min 40s, sys: 3.22 s, total: 3min 43s\n",
      "Wall time: 3min 44s\n"
     ]
    }
   ],
   "source": [
    "%%time\n",
    "sparse_row, sparse_col, sparse_data = gen_sparse_data(reader)"
   ]
  },
  {
   "cell_type": "markdown",
   "metadata": {},
   "source": [
    "# Check for duplicates and drop individual positions larger than 200"
   ]
  },
  {
   "cell_type": "code",
   "execution_count": 263,
   "metadata": {},
   "outputs": [],
   "source": [
    "data = pd.DataFrame({'row': sparse_row, 'col' : sparse_col, 'data' :sparse_data})"
   ]
  },
  {
   "cell_type": "code",
   "execution_count": 270,
   "metadata": {},
   "outputs": [
    {
     "data": {
      "text/plain": [
       "(49962431, 3)"
      ]
     },
     "execution_count": 270,
     "metadata": {},
     "output_type": "execute_result"
    }
   ],
   "source": [
    "data.shape"
   ]
  },
  {
   "cell_type": "markdown",
   "metadata": {},
   "source": [
    "### Fist mask: drop duplicates"
   ]
  },
  {
   "cell_type": "code",
   "execution_count": 264,
   "metadata": {},
   "outputs": [],
   "source": [
    "mask1_duplicates = data.duplicated(subset=['row','col']) == False\n",
    "data_s = data[mask1_duplicates]"
   ]
  },
  {
   "cell_type": "markdown",
   "metadata": {},
   "source": [
    "### Second mask: Drop extrem individual values"
   ]
  },
  {
   "cell_type": "code",
   "execution_count": 265,
   "metadata": {},
   "outputs": [],
   "source": [
    "# Drop observations where data is larger than 200 or smaller than -50 -> mask1\n",
    "mask2_individual = (data_s['data'] < 150) & (data_s['data'] > -50)\n",
    "data_s = data_s[mask2_individual]"
   ]
  },
  {
   "cell_type": "code",
   "execution_count": 266,
   "metadata": {},
   "outputs": [],
   "source": [
    "sparse_row = data_s['row']\n",
    "sparse_col = data_s['col']\n",
    "sparse_data = data_s['data']"
   ]
  },
  {
   "cell_type": "markdown",
   "metadata": {},
   "source": [
    "# Create sparse matrix"
   ]
  },
  {
   "cell_type": "code",
   "execution_count": 281,
   "metadata": {},
   "outputs": [
    {
     "name": "stdout",
     "output_type": "stream",
     "text": [
      "18,649,248.38187009\n"
     ]
    },
    {
     "data": {
      "text/plain": [
       "<224257x785608 sparse matrix of type '<class 'numpy.float64'>'\n",
       "\twith 49962431 stored elements in Compressed Sparse Row format>"
      ]
     },
     "execution_count": 281,
     "metadata": {},
     "output_type": "execute_result"
    }
   ],
   "source": [
    "sparse_matrix = sparse.csr_matrix((sparse_data, (sparse_row, sparse_col)))\n",
    "print('{:,}'.format(sparse_matrix.sum()))\n",
    "sparse_matrix"
   ]
  },
  {
   "cell_type": "markdown",
   "metadata": {},
   "source": [
    "### Third mask: drop extrem portfolios"
   ]
  },
  {
   "cell_type": "code",
   "execution_count": 282,
   "metadata": {},
   "outputs": [
    {
     "data": {
      "text/plain": [
       "223341"
      ]
     },
     "execution_count": 282,
     "metadata": {},
     "output_type": "execute_result"
    }
   ],
   "source": [
    "### Drop portfolios with total percent_tna > 150 or < 150\n",
    "row_sums = np.array(sparse_matrix.sum(1)).flatten()\n",
    "mask3_portfolios = (row_sums < 150) & (row_sums > -50)\n",
    "np.sum(mask3_portfolios)"
   ]
  },
  {
   "cell_type": "code",
   "execution_count": 283,
   "metadata": {},
   "outputs": [
    {
     "data": {
      "text/plain": [
       "<223341x785608 sparse matrix of type '<class 'numpy.float64'>'\n",
       "\twith 39407636 stored elements in Compressed Sparse Row format>"
      ]
     },
     "execution_count": 283,
     "metadata": {},
     "output_type": "execute_result"
    }
   ],
   "source": [
    "sparse_matrix = sparse_matrix[mask3_portfolios]\n",
    "sparse_matrix"
   ]
  },
  {
   "cell_type": "markdown",
   "metadata": {},
   "source": [
    "# Create sparse info df with Fund_portno and date for every row of the sparse matrix"
   ]
  },
  {
   "cell_type": "code",
   "execution_count": 284,
   "metadata": {},
   "outputs": [],
   "source": [
    "def split_port_id(num):\n",
    "    start1 = int(np.floor(num / 10000))\n",
    "    start2 = num - start1 * 10000\n",
    "    return(start1,start2)"
   ]
  },
  {
   "cell_type": "code",
   "execution_count": 285,
   "metadata": {},
   "outputs": [
    {
     "name": "stdout",
     "output_type": "stream",
     "text": [
      "CPU times: user 876 ms, sys: 9.11 ms, total: 885 ms\n",
      "Wall time: 884 ms\n"
     ]
    }
   ],
   "source": [
    "%%time\n",
    "port_no = []\n",
    "date = []\n",
    "keys = list(port_no_map.keys())\n",
    "\n",
    "for port_IDs in keys:\n",
    "    left_temp, right_temp = split_port_id(port_IDs)\n",
    "    port_no.append(left_temp)\n",
    "    date.append(right_temp)\n",
    "    \n",
    "date = pd.to_timedelta(date, unit='D') + pd.Timestamp('1960-1-1')"
   ]
  },
  {
   "cell_type": "code",
   "execution_count": 286,
   "metadata": {},
   "outputs": [],
   "source": [
    "sparse_info = pd.DataFrame(data={'port_no':port_no, 'date':date})"
   ]
  },
  {
   "cell_type": "markdown",
   "metadata": {},
   "source": [
    "#### Check if dimensions match"
   ]
  },
  {
   "cell_type": "code",
   "execution_count": 287,
   "metadata": {},
   "outputs": [
    {
     "data": {
      "text/plain": [
       "(223341, 2)"
      ]
     },
     "execution_count": 287,
     "metadata": {},
     "output_type": "execute_result"
    }
   ],
   "source": [
    "sparse_info[mask3_portfolios].shape"
   ]
  },
  {
   "cell_type": "code",
   "execution_count": 288,
   "metadata": {},
   "outputs": [
    {
     "data": {
      "text/plain": [
       "(223341, 785608)"
      ]
     },
     "execution_count": 288,
     "metadata": {},
     "output_type": "execute_result"
    }
   ],
   "source": [
    "sparse_matrix.shape"
   ]
  },
  {
   "cell_type": "markdown",
   "metadata": {},
   "source": [
    "# Save data"
   ]
  },
  {
   "cell_type": "code",
   "execution_count": 314,
   "metadata": {},
   "outputs": [],
   "source": [
    "path = '../data/interim/stock_map'\n",
    "stock_map_item = {'item1' : stock_map}\n",
    "np.save(path,stock_map_item) "
   ]
  },
  {
   "cell_type": "markdown",
   "metadata": {},
   "source": [
    "#### Sparse matrix"
   ]
  },
  {
   "cell_type": "code",
   "execution_count": 304,
   "metadata": {},
   "outputs": [],
   "source": [
    "path = '../data/interim/sparse_matrix'\n",
    "sparse.save_npz(path, sparse_matrix)"
   ]
  },
  {
   "cell_type": "markdown",
   "metadata": {},
   "source": [
    "#### Sparse info"
   ]
  },
  {
   "cell_type": "code",
   "execution_count": 310,
   "metadata": {},
   "outputs": [],
   "source": [
    "path = '../data/interim/sparse_info.feather'\n",
    "feather.write_dataframe(sparse_info,path)"
   ]
  },
  {
   "cell_type": "markdown",
   "metadata": {},
   "source": [
    "### Try to calculate more percent_tna values\n",
    "Not really succesfull\n",
    "Look for another method or just kill all these values"
   ]
  },
  {
   "cell_type": "code",
   "execution_count": 25,
   "metadata": {},
   "outputs": [],
   "source": [
    "# Calc tna based on percent_tna and market value\n",
    "holdings['calc_tna'] = holdings['market_val'] / holdings['percent_tna']\n",
    "\n",
    "# replace inf in calc_tna with nan (caused by percent_tna = 0)\n",
    "holdings['calc_tna'] = holdings['calc_tna'].replace([np.inf, -np.inf], np.nan)"
   ]
  },
  {
   "cell_type": "code",
   "execution_count": 26,
   "metadata": {},
   "outputs": [],
   "source": [
    "# Calc mean calc_tna per fund/date pair\n",
    "holdings_mean = holdings.groupby(['crsp_portno', 'report_dt'])[['calc_tna']].agg('mean')\n",
    "\n",
    "# Merge mean calc_tna back into holdings table\n",
    "holdings_mean = holdings_mean.reset_index()\n",
    "holdings = holdings.merge(holdings_mean,how='left',on=['crsp_portno', 'report_dt'])"
   ]
  },
  {
   "cell_type": "code",
   "execution_count": 27,
   "metadata": {},
   "outputs": [],
   "source": [
    "# Calc calc_percent_tna \n",
    "holdings['calc_percent_tna'] = holdings['market_val'] / holdings['calc_tna_y']"
   ]
  },
  {
   "cell_type": "code",
   "execution_count": 28,
   "metadata": {},
   "outputs": [],
   "source": [
    "holdings.loc[holdings['percent_tna'].notnull(),'calc_percent_tna'] = holdings['percent_tna']"
   ]
  },
  {
   "cell_type": "code",
   "execution_count": 29,
   "metadata": {},
   "outputs": [
    {
     "data": {
      "text/html": [
       "<div>\n",
       "<style scoped>\n",
       "    .dataframe tbody tr th:only-of-type {\n",
       "        vertical-align: middle;\n",
       "    }\n",
       "\n",
       "    .dataframe tbody tr th {\n",
       "        vertical-align: top;\n",
       "    }\n",
       "\n",
       "    .dataframe thead th {\n",
       "        text-align: right;\n",
       "    }\n",
       "</style>\n",
       "<table border=\"1\" class=\"dataframe\">\n",
       "  <thead>\n",
       "    <tr style=\"text-align: right;\">\n",
       "      <th></th>\n",
       "      <th>crsp_portno</th>\n",
       "      <th>report_dt</th>\n",
       "      <th>percent_tna</th>\n",
       "      <th>nbr_shares</th>\n",
       "      <th>market_val</th>\n",
       "      <th>crsp_company_key</th>\n",
       "      <th>calc_tna_x</th>\n",
       "      <th>calc_tna_y</th>\n",
       "      <th>calc_percent_tna</th>\n",
       "    </tr>\n",
       "  </thead>\n",
       "  <tbody>\n",
       "    <tr>\n",
       "      <th>5082428</th>\n",
       "      <td>1001851</td>\n",
       "      <td>2008-12-31</td>\n",
       "      <td>2.849998</td>\n",
       "      <td>535600.0</td>\n",
       "      <td>16962452.00</td>\n",
       "      <td>3011639</td>\n",
       "      <td>5.951741e+06</td>\n",
       "      <td>5.955640e+06</td>\n",
       "      <td>2.849998</td>\n",
       "    </tr>\n",
       "    <tr>\n",
       "      <th>6853992</th>\n",
       "      <td>1002274</td>\n",
       "      <td>2008-12-31</td>\n",
       "      <td>0.010000</td>\n",
       "      <td>12859.0</td>\n",
       "      <td>56965.37</td>\n",
       "      <td>3006604</td>\n",
       "      <td>5.696538e+06</td>\n",
       "      <td>4.743573e+06</td>\n",
       "      <td>0.010000</td>\n",
       "    </tr>\n",
       "    <tr>\n",
       "      <th>6335195</th>\n",
       "      <td>1002165</td>\n",
       "      <td>2008-10-31</td>\n",
       "      <td>0.040000</td>\n",
       "      <td>816.0</td>\n",
       "      <td>3223.20</td>\n",
       "      <td>3006978</td>\n",
       "      <td>8.058002e+04</td>\n",
       "      <td>8.780679e+04</td>\n",
       "      <td>0.040000</td>\n",
       "    </tr>\n",
       "    <tr>\n",
       "      <th>8011418</th>\n",
       "      <td>1002638</td>\n",
       "      <td>2006-03-31</td>\n",
       "      <td>0.022802</td>\n",
       "      <td>47.0</td>\n",
       "      <td>4083.83</td>\n",
       "      <td>3001375</td>\n",
       "      <td>1.791000e+05</td>\n",
       "      <td>1.791001e+05</td>\n",
       "      <td>0.022802</td>\n",
       "    </tr>\n",
       "    <tr>\n",
       "      <th>2306116</th>\n",
       "      <td>1001263</td>\n",
       "      <td>2009-12-30</td>\n",
       "      <td>0.640000</td>\n",
       "      <td>17150.0</td>\n",
       "      <td>648784.50</td>\n",
       "      <td>3001776</td>\n",
       "      <td>1.013726e+06</td>\n",
       "      <td>1.013524e+06</td>\n",
       "      <td>0.640000</td>\n",
       "    </tr>\n",
       "  </tbody>\n",
       "</table>\n",
       "</div>"
      ],
      "text/plain": [
       "         crsp_portno  report_dt  percent_tna  nbr_shares   market_val  \\\n",
       "5082428      1001851 2008-12-31     2.849998    535600.0  16962452.00   \n",
       "6853992      1002274 2008-12-31     0.010000     12859.0     56965.37   \n",
       "6335195      1002165 2008-10-31     0.040000       816.0      3223.20   \n",
       "8011418      1002638 2006-03-31     0.022802        47.0      4083.83   \n",
       "2306116      1001263 2009-12-30     0.640000     17150.0    648784.50   \n",
       "\n",
       "         crsp_company_key    calc_tna_x    calc_tna_y  calc_percent_tna  \n",
       "5082428           3011639  5.951741e+06  5.955640e+06          2.849998  \n",
       "6853992           3006604  5.696538e+06  4.743573e+06          0.010000  \n",
       "6335195           3006978  8.058002e+04  8.780679e+04          0.040000  \n",
       "8011418           3001375  1.791000e+05  1.791001e+05          0.022802  \n",
       "2306116           3001776  1.013726e+06  1.013524e+06          0.640000  "
      ]
     },
     "execution_count": 29,
     "metadata": {},
     "output_type": "execute_result"
    }
   ],
   "source": [
    "holdings.sample(5)"
   ]
  },
  {
   "cell_type": "code",
   "execution_count": 30,
   "metadata": {
    "collapsed": true
   },
   "outputs": [
    {
     "data": {
      "text/html": [
       "<div>\n",
       "<style scoped>\n",
       "    .dataframe tbody tr th:only-of-type {\n",
       "        vertical-align: middle;\n",
       "    }\n",
       "\n",
       "    .dataframe tbody tr th {\n",
       "        vertical-align: top;\n",
       "    }\n",
       "\n",
       "    .dataframe thead th {\n",
       "        text-align: right;\n",
       "    }\n",
       "</style>\n",
       "<table border=\"1\" class=\"dataframe\">\n",
       "  <thead>\n",
       "    <tr style=\"text-align: right;\">\n",
       "      <th></th>\n",
       "      <th>crsp_portno</th>\n",
       "      <th>report_dt</th>\n",
       "      <th>percent_tna</th>\n",
       "      <th>nbr_shares</th>\n",
       "      <th>market_val</th>\n",
       "      <th>crsp_company_key</th>\n",
       "      <th>calc_tna_x</th>\n",
       "      <th>calc_tna_y</th>\n",
       "      <th>calc_percent_tna</th>\n",
       "    </tr>\n",
       "  </thead>\n",
       "  <tbody>\n",
       "    <tr>\n",
       "      <th>1236905</th>\n",
       "      <td>1001060</td>\n",
       "      <td>2003-10-31</td>\n",
       "      <td>NaN</td>\n",
       "      <td>10000.0</td>\n",
       "      <td>547300.00</td>\n",
       "      <td>3007847</td>\n",
       "      <td>NaN</td>\n",
       "      <td>NaN</td>\n",
       "      <td>NaN</td>\n",
       "    </tr>\n",
       "    <tr>\n",
       "      <th>8840791</th>\n",
       "      <td>1002911</td>\n",
       "      <td>2007-04-30</td>\n",
       "      <td>NaN</td>\n",
       "      <td>2695.0</td>\n",
       "      <td>137391.10</td>\n",
       "      <td>3006192</td>\n",
       "      <td>NaN</td>\n",
       "      <td>NaN</td>\n",
       "      <td>NaN</td>\n",
       "    </tr>\n",
       "    <tr>\n",
       "      <th>5221830</th>\n",
       "      <td>1001894</td>\n",
       "      <td>2002-12-31</td>\n",
       "      <td>NaN</td>\n",
       "      <td>1320.0</td>\n",
       "      <td>15747.60</td>\n",
       "      <td>3009239</td>\n",
       "      <td>NaN</td>\n",
       "      <td>NaN</td>\n",
       "      <td>NaN</td>\n",
       "    </tr>\n",
       "    <tr>\n",
       "      <th>5381367</th>\n",
       "      <td>1001926</td>\n",
       "      <td>2007-11-30</td>\n",
       "      <td>NaN</td>\n",
       "      <td>103900.0</td>\n",
       "      <td>2455157.00</td>\n",
       "      <td>3003451</td>\n",
       "      <td>NaN</td>\n",
       "      <td>NaN</td>\n",
       "      <td>NaN</td>\n",
       "    </tr>\n",
       "    <tr>\n",
       "      <th>8019191</th>\n",
       "      <td>1002646</td>\n",
       "      <td>2005-01-31</td>\n",
       "      <td>NaN</td>\n",
       "      <td>100.0</td>\n",
       "      <td>5515.00</td>\n",
       "      <td>3001775</td>\n",
       "      <td>NaN</td>\n",
       "      <td>NaN</td>\n",
       "      <td>NaN</td>\n",
       "    </tr>\n",
       "    <tr>\n",
       "      <th>5410597</th>\n",
       "      <td>1001938</td>\n",
       "      <td>2006-04-30</td>\n",
       "      <td>NaN</td>\n",
       "      <td>4760.0</td>\n",
       "      <td>50741.60</td>\n",
       "      <td>3004124</td>\n",
       "      <td>NaN</td>\n",
       "      <td>NaN</td>\n",
       "      <td>NaN</td>\n",
       "    </tr>\n",
       "    <tr>\n",
       "      <th>4405679</th>\n",
       "      <td>1001703</td>\n",
       "      <td>2007-01-31</td>\n",
       "      <td>NaN</td>\n",
       "      <td>2900.0</td>\n",
       "      <td>56463.00</td>\n",
       "      <td>3002214</td>\n",
       "      <td>NaN</td>\n",
       "      <td>NaN</td>\n",
       "      <td>NaN</td>\n",
       "    </tr>\n",
       "    <tr>\n",
       "      <th>567021</th>\n",
       "      <td>1000885</td>\n",
       "      <td>2004-05-31</td>\n",
       "      <td>NaN</td>\n",
       "      <td>160700.0</td>\n",
       "      <td>6140347.00</td>\n",
       "      <td>3003312</td>\n",
       "      <td>NaN</td>\n",
       "      <td>NaN</td>\n",
       "      <td>NaN</td>\n",
       "    </tr>\n",
       "    <tr>\n",
       "      <th>2583341</th>\n",
       "      <td>1001304</td>\n",
       "      <td>2005-01-31</td>\n",
       "      <td>NaN</td>\n",
       "      <td>200.0</td>\n",
       "      <td>10440.00</td>\n",
       "      <td>3010399</td>\n",
       "      <td>NaN</td>\n",
       "      <td>NaN</td>\n",
       "      <td>NaN</td>\n",
       "    </tr>\n",
       "    <tr>\n",
       "      <th>5110633</th>\n",
       "      <td>1001861</td>\n",
       "      <td>2005-08-31</td>\n",
       "      <td>NaN</td>\n",
       "      <td>17398.0</td>\n",
       "      <td>356659.00</td>\n",
       "      <td>3010801</td>\n",
       "      <td>NaN</td>\n",
       "      <td>NaN</td>\n",
       "      <td>NaN</td>\n",
       "    </tr>\n",
       "    <tr>\n",
       "      <th>383182</th>\n",
       "      <td>1000824</td>\n",
       "      <td>2004-02-29</td>\n",
       "      <td>NaN</td>\n",
       "      <td>1550197.0</td>\n",
       "      <td>80145184.90</td>\n",
       "      <td>3002257</td>\n",
       "      <td>NaN</td>\n",
       "      <td>NaN</td>\n",
       "      <td>NaN</td>\n",
       "    </tr>\n",
       "    <tr>\n",
       "      <th>1150770</th>\n",
       "      <td>1001042</td>\n",
       "      <td>2004-01-31</td>\n",
       "      <td>NaN</td>\n",
       "      <td>701779.0</td>\n",
       "      <td>9059966.89</td>\n",
       "      <td>3005850</td>\n",
       "      <td>NaN</td>\n",
       "      <td>NaN</td>\n",
       "      <td>NaN</td>\n",
       "    </tr>\n",
       "    <tr>\n",
       "      <th>3347664</th>\n",
       "      <td>1001520</td>\n",
       "      <td>2005-02-28</td>\n",
       "      <td>NaN</td>\n",
       "      <td>4728.0</td>\n",
       "      <td>361597.44</td>\n",
       "      <td>3002137</td>\n",
       "      <td>NaN</td>\n",
       "      <td>NaN</td>\n",
       "      <td>NaN</td>\n",
       "    </tr>\n",
       "    <tr>\n",
       "      <th>489750</th>\n",
       "      <td>1000865</td>\n",
       "      <td>2005-02-28</td>\n",
       "      <td>NaN</td>\n",
       "      <td>31801.0</td>\n",
       "      <td>1390975.74</td>\n",
       "      <td>3006115</td>\n",
       "      <td>NaN</td>\n",
       "      <td>NaN</td>\n",
       "      <td>NaN</td>\n",
       "    </tr>\n",
       "    <tr>\n",
       "      <th>6126985</th>\n",
       "      <td>1002114</td>\n",
       "      <td>2004-08-31</td>\n",
       "      <td>NaN</td>\n",
       "      <td>5000.0</td>\n",
       "      <td>151450.00</td>\n",
       "      <td>3010048</td>\n",
       "      <td>NaN</td>\n",
       "      <td>NaN</td>\n",
       "      <td>NaN</td>\n",
       "    </tr>\n",
       "    <tr>\n",
       "      <th>1282396</th>\n",
       "      <td>1001065</td>\n",
       "      <td>2006-04-30</td>\n",
       "      <td>NaN</td>\n",
       "      <td>169104.0</td>\n",
       "      <td>1719787.68</td>\n",
       "      <td>3003839</td>\n",
       "      <td>NaN</td>\n",
       "      <td>NaN</td>\n",
       "      <td>NaN</td>\n",
       "    </tr>\n",
       "    <tr>\n",
       "      <th>4111906</th>\n",
       "      <td>1001674</td>\n",
       "      <td>2007-11-30</td>\n",
       "      <td>NaN</td>\n",
       "      <td>11500.0</td>\n",
       "      <td>654350.00</td>\n",
       "      <td>3006406</td>\n",
       "      <td>NaN</td>\n",
       "      <td>NaN</td>\n",
       "      <td>NaN</td>\n",
       "    </tr>\n",
       "    <tr>\n",
       "      <th>5881242</th>\n",
       "      <td>1002041</td>\n",
       "      <td>2004-04-30</td>\n",
       "      <td>NaN</td>\n",
       "      <td>10400.0</td>\n",
       "      <td>380432.00</td>\n",
       "      <td>3000930</td>\n",
       "      <td>NaN</td>\n",
       "      <td>NaN</td>\n",
       "      <td>NaN</td>\n",
       "    </tr>\n",
       "    <tr>\n",
       "      <th>5123907</th>\n",
       "      <td>1001862</td>\n",
       "      <td>2006-01-31</td>\n",
       "      <td>NaN</td>\n",
       "      <td>30008.0</td>\n",
       "      <td>3540944.00</td>\n",
       "      <td>3005462</td>\n",
       "      <td>NaN</td>\n",
       "      <td>NaN</td>\n",
       "      <td>NaN</td>\n",
       "    </tr>\n",
       "    <tr>\n",
       "      <th>5660942</th>\n",
       "      <td>1001984</td>\n",
       "      <td>2004-07-31</td>\n",
       "      <td>NaN</td>\n",
       "      <td>5300.0</td>\n",
       "      <td>84588.00</td>\n",
       "      <td>3000402</td>\n",
       "      <td>NaN</td>\n",
       "      <td>NaN</td>\n",
       "      <td>NaN</td>\n",
       "    </tr>\n",
       "    <tr>\n",
       "      <th>797772</th>\n",
       "      <td>1000946</td>\n",
       "      <td>2007-02-28</td>\n",
       "      <td>NaN</td>\n",
       "      <td>11972.0</td>\n",
       "      <td>494922.48</td>\n",
       "      <td>3000363</td>\n",
       "      <td>NaN</td>\n",
       "      <td>NaN</td>\n",
       "      <td>NaN</td>\n",
       "    </tr>\n",
       "    <tr>\n",
       "      <th>6823827</th>\n",
       "      <td>1002274</td>\n",
       "      <td>2005-08-31</td>\n",
       "      <td>NaN</td>\n",
       "      <td>2081.0</td>\n",
       "      <td>135660.39</td>\n",
       "      <td>3004738</td>\n",
       "      <td>NaN</td>\n",
       "      <td>NaN</td>\n",
       "      <td>NaN</td>\n",
       "    </tr>\n",
       "    <tr>\n",
       "      <th>656015</th>\n",
       "      <td>1000920</td>\n",
       "      <td>2004-08-31</td>\n",
       "      <td>NaN</td>\n",
       "      <td>31000.0</td>\n",
       "      <td>496000.00</td>\n",
       "      <td>3007795</td>\n",
       "      <td>NaN</td>\n",
       "      <td>NaN</td>\n",
       "      <td>NaN</td>\n",
       "    </tr>\n",
       "    <tr>\n",
       "      <th>4139062</th>\n",
       "      <td>1001681</td>\n",
       "      <td>2005-01-31</td>\n",
       "      <td>NaN</td>\n",
       "      <td>17300.0</td>\n",
       "      <td>806526.00</td>\n",
       "      <td>3000116</td>\n",
       "      <td>NaN</td>\n",
       "      <td>NaN</td>\n",
       "      <td>NaN</td>\n",
       "    </tr>\n",
       "    <tr>\n",
       "      <th>4500520</th>\n",
       "      <td>1001708</td>\n",
       "      <td>2004-05-31</td>\n",
       "      <td>NaN</td>\n",
       "      <td>113100.0</td>\n",
       "      <td>864084.00</td>\n",
       "      <td>3005192</td>\n",
       "      <td>NaN</td>\n",
       "      <td>NaN</td>\n",
       "      <td>NaN</td>\n",
       "    </tr>\n",
       "    <tr>\n",
       "      <th>1229122</th>\n",
       "      <td>1001058</td>\n",
       "      <td>2006-10-31</td>\n",
       "      <td>NaN</td>\n",
       "      <td>93250.0</td>\n",
       "      <td>2874897.50</td>\n",
       "      <td>3010023</td>\n",
       "      <td>NaN</td>\n",
       "      <td>NaN</td>\n",
       "      <td>NaN</td>\n",
       "    </tr>\n",
       "    <tr>\n",
       "      <th>6611073</th>\n",
       "      <td>1002243</td>\n",
       "      <td>2007-10-31</td>\n",
       "      <td>NaN</td>\n",
       "      <td>268226.0</td>\n",
       "      <td>12727323.70</td>\n",
       "      <td>3003118</td>\n",
       "      <td>NaN</td>\n",
       "      <td>NaN</td>\n",
       "      <td>NaN</td>\n",
       "    </tr>\n",
       "    <tr>\n",
       "      <th>7355692</th>\n",
       "      <td>1002380</td>\n",
       "      <td>2005-07-31</td>\n",
       "      <td>NaN</td>\n",
       "      <td>1750.0</td>\n",
       "      <td>118912.50</td>\n",
       "      <td>3001492</td>\n",
       "      <td>NaN</td>\n",
       "      <td>NaN</td>\n",
       "      <td>NaN</td>\n",
       "    </tr>\n",
       "    <tr>\n",
       "      <th>6560654</th>\n",
       "      <td>1002230</td>\n",
       "      <td>2005-10-31</td>\n",
       "      <td>NaN</td>\n",
       "      <td>14341.0</td>\n",
       "      <td>456187.21</td>\n",
       "      <td>3006616</td>\n",
       "      <td>NaN</td>\n",
       "      <td>NaN</td>\n",
       "      <td>NaN</td>\n",
       "    </tr>\n",
       "    <tr>\n",
       "      <th>4400958</th>\n",
       "      <td>1001703</td>\n",
       "      <td>2006-04-30</td>\n",
       "      <td>NaN</td>\n",
       "      <td>2600.0</td>\n",
       "      <td>18018.00</td>\n",
       "      <td>3003491</td>\n",
       "      <td>NaN</td>\n",
       "      <td>NaN</td>\n",
       "      <td>NaN</td>\n",
       "    </tr>\n",
       "    <tr>\n",
       "      <th>...</th>\n",
       "      <td>...</td>\n",
       "      <td>...</td>\n",
       "      <td>...</td>\n",
       "      <td>...</td>\n",
       "      <td>...</td>\n",
       "      <td>...</td>\n",
       "      <td>...</td>\n",
       "      <td>...</td>\n",
       "      <td>...</td>\n",
       "    </tr>\n",
       "    <tr>\n",
       "      <th>2240253</th>\n",
       "      <td>1001254</td>\n",
       "      <td>2004-11-30</td>\n",
       "      <td>NaN</td>\n",
       "      <td>48400.0</td>\n",
       "      <td>2826560.00</td>\n",
       "      <td>3009786</td>\n",
       "      <td>NaN</td>\n",
       "      <td>NaN</td>\n",
       "      <td>NaN</td>\n",
       "    </tr>\n",
       "    <tr>\n",
       "      <th>6295829</th>\n",
       "      <td>1002158</td>\n",
       "      <td>2006-07-31</td>\n",
       "      <td>NaN</td>\n",
       "      <td>234800.0</td>\n",
       "      <td>4625560.00</td>\n",
       "      <td>3006486</td>\n",
       "      <td>NaN</td>\n",
       "      <td>NaN</td>\n",
       "      <td>NaN</td>\n",
       "    </tr>\n",
       "    <tr>\n",
       "      <th>8022116</th>\n",
       "      <td>1002646</td>\n",
       "      <td>2007-01-31</td>\n",
       "      <td>NaN</td>\n",
       "      <td>183200.0</td>\n",
       "      <td>13822440.00</td>\n",
       "      <td>3003728</td>\n",
       "      <td>NaN</td>\n",
       "      <td>NaN</td>\n",
       "      <td>NaN</td>\n",
       "    </tr>\n",
       "    <tr>\n",
       "      <th>1920216</th>\n",
       "      <td>1001191</td>\n",
       "      <td>2003-04-30</td>\n",
       "      <td>NaN</td>\n",
       "      <td>849526.0</td>\n",
       "      <td>11366657.88</td>\n",
       "      <td>3009426</td>\n",
       "      <td>NaN</td>\n",
       "      <td>NaN</td>\n",
       "      <td>NaN</td>\n",
       "    </tr>\n",
       "    <tr>\n",
       "      <th>5562477</th>\n",
       "      <td>1001974</td>\n",
       "      <td>2005-01-31</td>\n",
       "      <td>NaN</td>\n",
       "      <td>2300.0</td>\n",
       "      <td>96669.00</td>\n",
       "      <td>3005879</td>\n",
       "      <td>NaN</td>\n",
       "      <td>NaN</td>\n",
       "      <td>NaN</td>\n",
       "    </tr>\n",
       "    <tr>\n",
       "      <th>7178930</th>\n",
       "      <td>1002329</td>\n",
       "      <td>2006-07-31</td>\n",
       "      <td>NaN</td>\n",
       "      <td>2000.0</td>\n",
       "      <td>188380.00</td>\n",
       "      <td>3005519</td>\n",
       "      <td>NaN</td>\n",
       "      <td>NaN</td>\n",
       "      <td>NaN</td>\n",
       "    </tr>\n",
       "    <tr>\n",
       "      <th>9057423</th>\n",
       "      <td>1003078</td>\n",
       "      <td>2007-04-30</td>\n",
       "      <td>NaN</td>\n",
       "      <td>5434.0</td>\n",
       "      <td>273927.94</td>\n",
       "      <td>3007674</td>\n",
       "      <td>NaN</td>\n",
       "      <td>NaN</td>\n",
       "      <td>NaN</td>\n",
       "    </tr>\n",
       "    <tr>\n",
       "      <th>418054</th>\n",
       "      <td>1000832</td>\n",
       "      <td>2006-02-28</td>\n",
       "      <td>NaN</td>\n",
       "      <td>15700.0</td>\n",
       "      <td>2177590.00</td>\n",
       "      <td>3001253</td>\n",
       "      <td>NaN</td>\n",
       "      <td>NaN</td>\n",
       "      <td>NaN</td>\n",
       "    </tr>\n",
       "    <tr>\n",
       "      <th>4705864</th>\n",
       "      <td>1001759</td>\n",
       "      <td>2006-10-31</td>\n",
       "      <td>NaN</td>\n",
       "      <td>1270.0</td>\n",
       "      <td>79438.50</td>\n",
       "      <td>3009172</td>\n",
       "      <td>NaN</td>\n",
       "      <td>NaN</td>\n",
       "      <td>NaN</td>\n",
       "    </tr>\n",
       "    <tr>\n",
       "      <th>5269150</th>\n",
       "      <td>1001905</td>\n",
       "      <td>2003-11-30</td>\n",
       "      <td>NaN</td>\n",
       "      <td>12900.0</td>\n",
       "      <td>595980.00</td>\n",
       "      <td>3006616</td>\n",
       "      <td>NaN</td>\n",
       "      <td>NaN</td>\n",
       "      <td>NaN</td>\n",
       "    </tr>\n",
       "    <tr>\n",
       "      <th>3457553</th>\n",
       "      <td>1001521</td>\n",
       "      <td>2003-02-28</td>\n",
       "      <td>NaN</td>\n",
       "      <td>4600.0</td>\n",
       "      <td>200284.00</td>\n",
       "      <td>3001394</td>\n",
       "      <td>NaN</td>\n",
       "      <td>NaN</td>\n",
       "      <td>NaN</td>\n",
       "    </tr>\n",
       "    <tr>\n",
       "      <th>143942</th>\n",
       "      <td>1000773</td>\n",
       "      <td>2007-01-31</td>\n",
       "      <td>NaN</td>\n",
       "      <td>35200.0</td>\n",
       "      <td>1616736.00</td>\n",
       "      <td>3004654</td>\n",
       "      <td>NaN</td>\n",
       "      <td>NaN</td>\n",
       "      <td>NaN</td>\n",
       "    </tr>\n",
       "    <tr>\n",
       "      <th>1094209</th>\n",
       "      <td>1001019</td>\n",
       "      <td>2006-01-31</td>\n",
       "      <td>NaN</td>\n",
       "      <td>1075000.0</td>\n",
       "      <td>36937000.00</td>\n",
       "      <td>3006521</td>\n",
       "      <td>NaN</td>\n",
       "      <td>NaN</td>\n",
       "      <td>NaN</td>\n",
       "    </tr>\n",
       "    <tr>\n",
       "      <th>4694333</th>\n",
       "      <td>1001759</td>\n",
       "      <td>2005-01-31</td>\n",
       "      <td>NaN</td>\n",
       "      <td>1245.0</td>\n",
       "      <td>42143.25</td>\n",
       "      <td>3000841</td>\n",
       "      <td>NaN</td>\n",
       "      <td>NaN</td>\n",
       "      <td>NaN</td>\n",
       "    </tr>\n",
       "    <tr>\n",
       "      <th>3944743</th>\n",
       "      <td>1001617</td>\n",
       "      <td>2007-10-31</td>\n",
       "      <td>NaN</td>\n",
       "      <td>1400.0</td>\n",
       "      <td>46046.00</td>\n",
       "      <td>3002977</td>\n",
       "      <td>NaN</td>\n",
       "      <td>NaN</td>\n",
       "      <td>NaN</td>\n",
       "    </tr>\n",
       "    <tr>\n",
       "      <th>2396920</th>\n",
       "      <td>1001274</td>\n",
       "      <td>2003-11-30</td>\n",
       "      <td>NaN</td>\n",
       "      <td>20675.0</td>\n",
       "      <td>99033.25</td>\n",
       "      <td>3007286</td>\n",
       "      <td>NaN</td>\n",
       "      <td>NaN</td>\n",
       "      <td>NaN</td>\n",
       "    </tr>\n",
       "    <tr>\n",
       "      <th>3613069</th>\n",
       "      <td>1001525</td>\n",
       "      <td>2002-12-31</td>\n",
       "      <td>NaN</td>\n",
       "      <td>5000.0</td>\n",
       "      <td>226000.00</td>\n",
       "      <td>3011344</td>\n",
       "      <td>NaN</td>\n",
       "      <td>NaN</td>\n",
       "      <td>NaN</td>\n",
       "    </tr>\n",
       "    <tr>\n",
       "      <th>5145458</th>\n",
       "      <td>1001869</td>\n",
       "      <td>2004-10-31</td>\n",
       "      <td>NaN</td>\n",
       "      <td>12984.0</td>\n",
       "      <td>564804.00</td>\n",
       "      <td>3001652</td>\n",
       "      <td>NaN</td>\n",
       "      <td>NaN</td>\n",
       "      <td>NaN</td>\n",
       "    </tr>\n",
       "    <tr>\n",
       "      <th>3812505</th>\n",
       "      <td>1001566</td>\n",
       "      <td>2006-08-31</td>\n",
       "      <td>NaN</td>\n",
       "      <td>20000.0</td>\n",
       "      <td>375400.00</td>\n",
       "      <td>3000278</td>\n",
       "      <td>NaN</td>\n",
       "      <td>NaN</td>\n",
       "      <td>NaN</td>\n",
       "    </tr>\n",
       "    <tr>\n",
       "      <th>7038550</th>\n",
       "      <td>1002288</td>\n",
       "      <td>2007-01-31</td>\n",
       "      <td>NaN</td>\n",
       "      <td>4400.0</td>\n",
       "      <td>186340.00</td>\n",
       "      <td>3008625</td>\n",
       "      <td>NaN</td>\n",
       "      <td>NaN</td>\n",
       "      <td>NaN</td>\n",
       "    </tr>\n",
       "    <tr>\n",
       "      <th>1747216</th>\n",
       "      <td>1001162</td>\n",
       "      <td>2004-07-31</td>\n",
       "      <td>NaN</td>\n",
       "      <td>42500.0</td>\n",
       "      <td>1639225.00</td>\n",
       "      <td>3001774</td>\n",
       "      <td>NaN</td>\n",
       "      <td>NaN</td>\n",
       "      <td>NaN</td>\n",
       "    </tr>\n",
       "    <tr>\n",
       "      <th>3465632</th>\n",
       "      <td>1001521</td>\n",
       "      <td>2004-02-29</td>\n",
       "      <td>NaN</td>\n",
       "      <td>5734.0</td>\n",
       "      <td>123567.70</td>\n",
       "      <td>3008938</td>\n",
       "      <td>NaN</td>\n",
       "      <td>NaN</td>\n",
       "      <td>NaN</td>\n",
       "    </tr>\n",
       "    <tr>\n",
       "      <th>3372053</th>\n",
       "      <td>1001520</td>\n",
       "      <td>2007-05-31</td>\n",
       "      <td>NaN</td>\n",
       "      <td>41640.0</td>\n",
       "      <td>1176330.00</td>\n",
       "      <td>3005750</td>\n",
       "      <td>NaN</td>\n",
       "      <td>NaN</td>\n",
       "      <td>NaN</td>\n",
       "    </tr>\n",
       "    <tr>\n",
       "      <th>7532820</th>\n",
       "      <td>1002428</td>\n",
       "      <td>2004-05-31</td>\n",
       "      <td>NaN</td>\n",
       "      <td>1420.0</td>\n",
       "      <td>35485.80</td>\n",
       "      <td>3005143</td>\n",
       "      <td>NaN</td>\n",
       "      <td>NaN</td>\n",
       "      <td>NaN</td>\n",
       "    </tr>\n",
       "    <tr>\n",
       "      <th>7944364</th>\n",
       "      <td>1002597</td>\n",
       "      <td>2007-01-31</td>\n",
       "      <td>NaN</td>\n",
       "      <td>9000.0</td>\n",
       "      <td>381600.00</td>\n",
       "      <td>3002239</td>\n",
       "      <td>NaN</td>\n",
       "      <td>NaN</td>\n",
       "      <td>NaN</td>\n",
       "    </tr>\n",
       "    <tr>\n",
       "      <th>3369482</th>\n",
       "      <td>1001520</td>\n",
       "      <td>2007-02-28</td>\n",
       "      <td>NaN</td>\n",
       "      <td>18803.0</td>\n",
       "      <td>386213.62</td>\n",
       "      <td>3008969</td>\n",
       "      <td>NaN</td>\n",
       "      <td>NaN</td>\n",
       "      <td>NaN</td>\n",
       "    </tr>\n",
       "    <tr>\n",
       "      <th>3370474</th>\n",
       "      <td>1001520</td>\n",
       "      <td>2007-02-28</td>\n",
       "      <td>NaN</td>\n",
       "      <td>3709.0</td>\n",
       "      <td>60271.25</td>\n",
       "      <td>3006483</td>\n",
       "      <td>NaN</td>\n",
       "      <td>NaN</td>\n",
       "      <td>NaN</td>\n",
       "    </tr>\n",
       "    <tr>\n",
       "      <th>487992</th>\n",
       "      <td>1000864</td>\n",
       "      <td>2005-11-30</td>\n",
       "      <td>NaN</td>\n",
       "      <td>85700.0</td>\n",
       "      <td>1767991.00</td>\n",
       "      <td>3006620</td>\n",
       "      <td>NaN</td>\n",
       "      <td>NaN</td>\n",
       "      <td>NaN</td>\n",
       "    </tr>\n",
       "    <tr>\n",
       "      <th>5126138</th>\n",
       "      <td>1001862</td>\n",
       "      <td>2007-04-30</td>\n",
       "      <td>NaN</td>\n",
       "      <td>49020.0</td>\n",
       "      <td>1009321.80</td>\n",
       "      <td>3001279</td>\n",
       "      <td>NaN</td>\n",
       "      <td>NaN</td>\n",
       "      <td>NaN</td>\n",
       "    </tr>\n",
       "    <tr>\n",
       "      <th>4949575</th>\n",
       "      <td>1001802</td>\n",
       "      <td>2004-01-31</td>\n",
       "      <td>NaN</td>\n",
       "      <td>34000.0</td>\n",
       "      <td>838440.00</td>\n",
       "      <td>3007301</td>\n",
       "      <td>NaN</td>\n",
       "      <td>NaN</td>\n",
       "      <td>NaN</td>\n",
       "    </tr>\n",
       "  </tbody>\n",
       "</table>\n",
       "<p>100 rows × 9 columns</p>\n",
       "</div>"
      ],
      "text/plain": [
       "         crsp_portno  report_dt  percent_tna  nbr_shares   market_val  \\\n",
       "1236905      1001060 2003-10-31          NaN     10000.0    547300.00   \n",
       "8840791      1002911 2007-04-30          NaN      2695.0    137391.10   \n",
       "5221830      1001894 2002-12-31          NaN      1320.0     15747.60   \n",
       "5381367      1001926 2007-11-30          NaN    103900.0   2455157.00   \n",
       "8019191      1002646 2005-01-31          NaN       100.0      5515.00   \n",
       "5410597      1001938 2006-04-30          NaN      4760.0     50741.60   \n",
       "4405679      1001703 2007-01-31          NaN      2900.0     56463.00   \n",
       "567021       1000885 2004-05-31          NaN    160700.0   6140347.00   \n",
       "2583341      1001304 2005-01-31          NaN       200.0     10440.00   \n",
       "5110633      1001861 2005-08-31          NaN     17398.0    356659.00   \n",
       "383182       1000824 2004-02-29          NaN   1550197.0  80145184.90   \n",
       "1150770      1001042 2004-01-31          NaN    701779.0   9059966.89   \n",
       "3347664      1001520 2005-02-28          NaN      4728.0    361597.44   \n",
       "489750       1000865 2005-02-28          NaN     31801.0   1390975.74   \n",
       "6126985      1002114 2004-08-31          NaN      5000.0    151450.00   \n",
       "1282396      1001065 2006-04-30          NaN    169104.0   1719787.68   \n",
       "4111906      1001674 2007-11-30          NaN     11500.0    654350.00   \n",
       "5881242      1002041 2004-04-30          NaN     10400.0    380432.00   \n",
       "5123907      1001862 2006-01-31          NaN     30008.0   3540944.00   \n",
       "5660942      1001984 2004-07-31          NaN      5300.0     84588.00   \n",
       "797772       1000946 2007-02-28          NaN     11972.0    494922.48   \n",
       "6823827      1002274 2005-08-31          NaN      2081.0    135660.39   \n",
       "656015       1000920 2004-08-31          NaN     31000.0    496000.00   \n",
       "4139062      1001681 2005-01-31          NaN     17300.0    806526.00   \n",
       "4500520      1001708 2004-05-31          NaN    113100.0    864084.00   \n",
       "1229122      1001058 2006-10-31          NaN     93250.0   2874897.50   \n",
       "6611073      1002243 2007-10-31          NaN    268226.0  12727323.70   \n",
       "7355692      1002380 2005-07-31          NaN      1750.0    118912.50   \n",
       "6560654      1002230 2005-10-31          NaN     14341.0    456187.21   \n",
       "4400958      1001703 2006-04-30          NaN      2600.0     18018.00   \n",
       "...              ...        ...          ...         ...          ...   \n",
       "2240253      1001254 2004-11-30          NaN     48400.0   2826560.00   \n",
       "6295829      1002158 2006-07-31          NaN    234800.0   4625560.00   \n",
       "8022116      1002646 2007-01-31          NaN    183200.0  13822440.00   \n",
       "1920216      1001191 2003-04-30          NaN    849526.0  11366657.88   \n",
       "5562477      1001974 2005-01-31          NaN      2300.0     96669.00   \n",
       "7178930      1002329 2006-07-31          NaN      2000.0    188380.00   \n",
       "9057423      1003078 2007-04-30          NaN      5434.0    273927.94   \n",
       "418054       1000832 2006-02-28          NaN     15700.0   2177590.00   \n",
       "4705864      1001759 2006-10-31          NaN      1270.0     79438.50   \n",
       "5269150      1001905 2003-11-30          NaN     12900.0    595980.00   \n",
       "3457553      1001521 2003-02-28          NaN      4600.0    200284.00   \n",
       "143942       1000773 2007-01-31          NaN     35200.0   1616736.00   \n",
       "1094209      1001019 2006-01-31          NaN   1075000.0  36937000.00   \n",
       "4694333      1001759 2005-01-31          NaN      1245.0     42143.25   \n",
       "3944743      1001617 2007-10-31          NaN      1400.0     46046.00   \n",
       "2396920      1001274 2003-11-30          NaN     20675.0     99033.25   \n",
       "3613069      1001525 2002-12-31          NaN      5000.0    226000.00   \n",
       "5145458      1001869 2004-10-31          NaN     12984.0    564804.00   \n",
       "3812505      1001566 2006-08-31          NaN     20000.0    375400.00   \n",
       "7038550      1002288 2007-01-31          NaN      4400.0    186340.00   \n",
       "1747216      1001162 2004-07-31          NaN     42500.0   1639225.00   \n",
       "3465632      1001521 2004-02-29          NaN      5734.0    123567.70   \n",
       "3372053      1001520 2007-05-31          NaN     41640.0   1176330.00   \n",
       "7532820      1002428 2004-05-31          NaN      1420.0     35485.80   \n",
       "7944364      1002597 2007-01-31          NaN      9000.0    381600.00   \n",
       "3369482      1001520 2007-02-28          NaN     18803.0    386213.62   \n",
       "3370474      1001520 2007-02-28          NaN      3709.0     60271.25   \n",
       "487992       1000864 2005-11-30          NaN     85700.0   1767991.00   \n",
       "5126138      1001862 2007-04-30          NaN     49020.0   1009321.80   \n",
       "4949575      1001802 2004-01-31          NaN     34000.0    838440.00   \n",
       "\n",
       "         crsp_company_key  calc_tna_x  calc_tna_y  calc_percent_tna  \n",
       "1236905           3007847         NaN         NaN               NaN  \n",
       "8840791           3006192         NaN         NaN               NaN  \n",
       "5221830           3009239         NaN         NaN               NaN  \n",
       "5381367           3003451         NaN         NaN               NaN  \n",
       "8019191           3001775         NaN         NaN               NaN  \n",
       "5410597           3004124         NaN         NaN               NaN  \n",
       "4405679           3002214         NaN         NaN               NaN  \n",
       "567021            3003312         NaN         NaN               NaN  \n",
       "2583341           3010399         NaN         NaN               NaN  \n",
       "5110633           3010801         NaN         NaN               NaN  \n",
       "383182            3002257         NaN         NaN               NaN  \n",
       "1150770           3005850         NaN         NaN               NaN  \n",
       "3347664           3002137         NaN         NaN               NaN  \n",
       "489750            3006115         NaN         NaN               NaN  \n",
       "6126985           3010048         NaN         NaN               NaN  \n",
       "1282396           3003839         NaN         NaN               NaN  \n",
       "4111906           3006406         NaN         NaN               NaN  \n",
       "5881242           3000930         NaN         NaN               NaN  \n",
       "5123907           3005462         NaN         NaN               NaN  \n",
       "5660942           3000402         NaN         NaN               NaN  \n",
       "797772            3000363         NaN         NaN               NaN  \n",
       "6823827           3004738         NaN         NaN               NaN  \n",
       "656015            3007795         NaN         NaN               NaN  \n",
       "4139062           3000116         NaN         NaN               NaN  \n",
       "4500520           3005192         NaN         NaN               NaN  \n",
       "1229122           3010023         NaN         NaN               NaN  \n",
       "6611073           3003118         NaN         NaN               NaN  \n",
       "7355692           3001492         NaN         NaN               NaN  \n",
       "6560654           3006616         NaN         NaN               NaN  \n",
       "4400958           3003491         NaN         NaN               NaN  \n",
       "...                   ...         ...         ...               ...  \n",
       "2240253           3009786         NaN         NaN               NaN  \n",
       "6295829           3006486         NaN         NaN               NaN  \n",
       "8022116           3003728         NaN         NaN               NaN  \n",
       "1920216           3009426         NaN         NaN               NaN  \n",
       "5562477           3005879         NaN         NaN               NaN  \n",
       "7178930           3005519         NaN         NaN               NaN  \n",
       "9057423           3007674         NaN         NaN               NaN  \n",
       "418054            3001253         NaN         NaN               NaN  \n",
       "4705864           3009172         NaN         NaN               NaN  \n",
       "5269150           3006616         NaN         NaN               NaN  \n",
       "3457553           3001394         NaN         NaN               NaN  \n",
       "143942            3004654         NaN         NaN               NaN  \n",
       "1094209           3006521         NaN         NaN               NaN  \n",
       "4694333           3000841         NaN         NaN               NaN  \n",
       "3944743           3002977         NaN         NaN               NaN  \n",
       "2396920           3007286         NaN         NaN               NaN  \n",
       "3613069           3011344         NaN         NaN               NaN  \n",
       "5145458           3001652         NaN         NaN               NaN  \n",
       "3812505           3000278         NaN         NaN               NaN  \n",
       "7038550           3008625         NaN         NaN               NaN  \n",
       "1747216           3001774         NaN         NaN               NaN  \n",
       "3465632           3008938         NaN         NaN               NaN  \n",
       "3372053           3005750         NaN         NaN               NaN  \n",
       "7532820           3005143         NaN         NaN               NaN  \n",
       "7944364           3002239         NaN         NaN               NaN  \n",
       "3369482           3008969         NaN         NaN               NaN  \n",
       "3370474           3006483         NaN         NaN               NaN  \n",
       "487992            3006620         NaN         NaN               NaN  \n",
       "5126138           3001279         NaN         NaN               NaN  \n",
       "4949575           3007301         NaN         NaN               NaN  \n",
       "\n",
       "[100 rows x 9 columns]"
      ]
     },
     "execution_count": 30,
     "metadata": {},
     "output_type": "execute_result"
    }
   ],
   "source": [
    "# Show all for which percent_tna = NaN\n",
    "holdings[np.isnan(holdings['calc_percent_tna'])].sample(100)"
   ]
  },
  {
   "cell_type": "code",
   "execution_count": 31,
   "metadata": {},
   "outputs": [
    {
     "data": {
      "text/plain": [
       "crsp_portno               0\n",
       "report_dt                 0\n",
       "percent_tna         1652795\n",
       "nbr_shares                0\n",
       "market_val                0\n",
       "crsp_company_key          0\n",
       "calc_tna_x          2361521\n",
       "calc_tna_y          1509870\n",
       "calc_percent_tna    1509829\n",
       "dtype: int64"
      ]
     },
     "execution_count": 31,
     "metadata": {},
     "output_type": "execute_result"
    }
   ],
   "source": [
    "# Nans per col\n",
    "holdings.isnull().sum(axis=0)"
   ]
  },
  {
   "cell_type": "markdown",
   "metadata": {},
   "source": [
    "### Drop all fund/date pairs which have nas"
   ]
  },
  {
   "cell_type": "code",
   "execution_count": null,
   "metadata": {},
   "outputs": [],
   "source": []
  },
  {
   "cell_type": "markdown",
   "metadata": {},
   "source": [
    "# Analysis"
   ]
  },
  {
   "cell_type": "markdown",
   "metadata": {},
   "source": [
    "### Data itself"
   ]
  },
  {
   "cell_type": "code",
   "execution_count": 289,
   "metadata": {},
   "outputs": [
    {
     "data": {
      "text/plain": [
       "[<matplotlib.lines.Line2D at 0x14455c898>]"
      ]
     },
     "execution_count": 289,
     "metadata": {},
     "output_type": "execute_result"
    },
    {
     "data": {
      "image/png": "[encoded data removed]",
      "text/plain": [
       "<Figure size 432x288 with 1 Axes>"
      ]
     },
     "metadata": {
      "needs_background": "light"
     },
     "output_type": "display_data"
    }
   ],
   "source": [
    "plt.plot(sparse_data)"
   ]
  },
  {
   "cell_type": "code",
   "execution_count": 200,
   "metadata": {},
   "outputs": [
    {
     "data": {
      "text/plain": [
       "<matplotlib.axes._subplots.AxesSubplot at 0x14380add8>"
      ]
     },
     "execution_count": 200,
     "metadata": {},
     "output_type": "execute_result"
    },
    {
     "data": {
      "image/png": "[encoded data removed]",
      "text/plain": [
       "<Figure size 432x288 with 1 Axes>"
      ]
     },
     "metadata": {
      "needs_background": "light"
     },
     "output_type": "display_data"
    }
   ],
   "source": [
    "data_s.sort_values(by='data').reset_index()[['data']].plot()"
   ]
  },
  {
   "cell_type": "markdown",
   "metadata": {},
   "source": [
    "### Row na dcolum sums"
   ]
  },
  {
   "cell_type": "code",
   "execution_count": 290,
   "metadata": {},
   "outputs": [
    {
     "data": {
      "text/plain": [
       "(223341, 785608)"
      ]
     },
     "execution_count": 290,
     "metadata": {},
     "output_type": "execute_result"
    }
   ],
   "source": [
    "sparse_matrix.shape"
   ]
  },
  {
   "cell_type": "code",
   "execution_count": 291,
   "metadata": {},
   "outputs": [],
   "source": [
    "row_sums = sparse_matrix.sum(1)\n",
    "col_sums = sparse_matrix.sum(0)"
   ]
  },
  {
   "cell_type": "code",
   "execution_count": 292,
   "metadata": {},
   "outputs": [],
   "source": [
    "row_sums = pd.DataFrame(row_sums)\n",
    "col_sums = pd.DataFrame(col_sums).T"
   ]
  },
  {
   "cell_type": "code",
   "execution_count": 293,
   "metadata": {},
   "outputs": [
    {
     "data": {
      "text/html": [
       "<div>\n",
       "<style scoped>\n",
       "    .dataframe tbody tr th:only-of-type {\n",
       "        vertical-align: middle;\n",
       "    }\n",
       "\n",
       "    .dataframe tbody tr th {\n",
       "        vertical-align: top;\n",
       "    }\n",
       "\n",
       "    .dataframe thead th {\n",
       "        text-align: right;\n",
       "    }\n",
       "</style>\n",
       "<table border=\"1\" class=\"dataframe\">\n",
       "  <thead>\n",
       "    <tr style=\"text-align: right;\">\n",
       "      <th></th>\n",
       "      <th>0</th>\n",
       "    </tr>\n",
       "  </thead>\n",
       "  <tbody>\n",
       "    <tr>\n",
       "      <th>count</th>\n",
       "      <td>223341.000000</td>\n",
       "    </tr>\n",
       "    <tr>\n",
       "      <th>mean</th>\n",
       "      <td>82.572935</td>\n",
       "    </tr>\n",
       "    <tr>\n",
       "      <th>std</th>\n",
       "      <td>32.521961</td>\n",
       "    </tr>\n",
       "    <tr>\n",
       "      <th>min</th>\n",
       "      <td>-46.569974</td>\n",
       "    </tr>\n",
       "    <tr>\n",
       "      <th>25%</th>\n",
       "      <td>82.049976</td>\n",
       "    </tr>\n",
       "    <tr>\n",
       "      <th>50%</th>\n",
       "      <td>98.659973</td>\n",
       "    </tr>\n",
       "    <tr>\n",
       "      <th>75%</th>\n",
       "      <td>99.999971</td>\n",
       "    </tr>\n",
       "    <tr>\n",
       "      <th>max</th>\n",
       "      <td>149.969958</td>\n",
       "    </tr>\n",
       "  </tbody>\n",
       "</table>\n",
       "</div>"
      ],
      "text/plain": [
       "                   0\n",
       "count  223341.000000\n",
       "mean       82.572935\n",
       "std        32.521961\n",
       "min       -46.569974\n",
       "25%        82.049976\n",
       "50%        98.659973\n",
       "75%        99.999971\n",
       "max       149.969958"
      ]
     },
     "execution_count": 293,
     "metadata": {},
     "output_type": "execute_result"
    }
   ],
   "source": [
    "row_sums.describe()"
   ]
  },
  {
   "cell_type": "code",
   "execution_count": 294,
   "metadata": {},
   "outputs": [
    {
     "data": {
      "text/html": [
       "<div>\n",
       "<style scoped>\n",
       "    .dataframe tbody tr th:only-of-type {\n",
       "        vertical-align: middle;\n",
       "    }\n",
       "\n",
       "    .dataframe tbody tr th {\n",
       "        vertical-align: top;\n",
       "    }\n",
       "\n",
       "    .dataframe thead th {\n",
       "        text-align: right;\n",
       "    }\n",
       "</style>\n",
       "<table border=\"1\" class=\"dataframe\">\n",
       "  <thead>\n",
       "    <tr style=\"text-align: right;\">\n",
       "      <th></th>\n",
       "      <th>0</th>\n",
       "    </tr>\n",
       "  </thead>\n",
       "  <tbody>\n",
       "    <tr>\n",
       "      <th>count</th>\n",
       "      <td>785608.000000</td>\n",
       "    </tr>\n",
       "    <tr>\n",
       "      <th>mean</th>\n",
       "      <td>23.474712</td>\n",
       "    </tr>\n",
       "    <tr>\n",
       "      <th>std</th>\n",
       "      <td>478.320531</td>\n",
       "    </tr>\n",
       "    <tr>\n",
       "      <th>min</th>\n",
       "      <td>-5606.298244</td>\n",
       "    </tr>\n",
       "    <tr>\n",
       "      <th>25%</th>\n",
       "      <td>0.000000</td>\n",
       "    </tr>\n",
       "    <tr>\n",
       "      <th>50%</th>\n",
       "      <td>0.180000</td>\n",
       "    </tr>\n",
       "    <tr>\n",
       "      <th>75%</th>\n",
       "      <td>2.140000</td>\n",
       "    </tr>\n",
       "    <tr>\n",
       "      <th>max</th>\n",
       "      <td>116567.412152</td>\n",
       "    </tr>\n",
       "  </tbody>\n",
       "</table>\n",
       "</div>"
      ],
      "text/plain": [
       "                   0\n",
       "count  785608.000000\n",
       "mean       23.474712\n",
       "std       478.320531\n",
       "min     -5606.298244\n",
       "25%         0.000000\n",
       "50%         0.180000\n",
       "75%         2.140000\n",
       "max    116567.412152"
      ]
     },
     "execution_count": 294,
     "metadata": {},
     "output_type": "execute_result"
    }
   ],
   "source": [
    "col_sums.describe()"
   ]
  },
  {
   "cell_type": "code",
   "execution_count": 207,
   "metadata": {},
   "outputs": [
    {
     "data": {
      "text/plain": [
       "<matplotlib.axes._subplots.AxesSubplot at 0x1437fecc0>"
      ]
     },
     "execution_count": 207,
     "metadata": {},
     "output_type": "execute_result"
    },
    {
     "data": {
      "image/png": "[encoded data removed]",
      "text/plain": [
       "<Figure size 432x288 with 1 Axes>"
      ]
     },
     "metadata": {
      "needs_background": "light"
     },
     "output_type": "display_data"
    }
   ],
   "source": [
    "pd.DataFrame(sparse_matrix[35406,0:1000].todense()).T.plot()"
   ]
  },
  {
   "cell_type": "markdown",
   "metadata": {},
   "source": [
    "## Sum of percent_tna per Fund/Date"
   ]
  },
  {
   "cell_type": "code",
   "execution_count": 296,
   "metadata": {},
   "outputs": [
    {
     "data": {
      "text/plain": [
       "[<matplotlib.lines.Line2D at 0x1762f58d0>]"
      ]
     },
     "execution_count": 296,
     "metadata": {},
     "output_type": "execute_result"
    },
    {
     "data": {
      "image/png": "[encoded data removed]",
      "text/plain": [
       "<Figure size 432x288 with 1 Axes>"
      ]
     },
     "metadata": {
      "needs_background": "light"
     },
     "output_type": "display_data"
    }
   ],
   "source": [
    "plt.plot(row_sums,'o')"
   ]
  },
  {
   "cell_type": "markdown",
   "metadata": {},
   "source": [
    "## Observations per Stock"
   ]
  },
  {
   "cell_type": "code",
   "execution_count": 297,
   "metadata": {
    "collapsed": true
   },
   "outputs": [
    {
     "data": {
      "text/plain": [
       "[<matplotlib.lines.Line2D at 0x176311eb8>]"
      ]
     },
     "execution_count": 297,
     "metadata": {},
     "output_type": "execute_result"
    },
    {
     "data": {
      "image/png": "[encoded data removed]",
      "text/plain": [
       "<Figure size 432x288 with 1 Axes>"
      ]
     },
     "metadata": {
      "needs_background": "light"
     },
     "output_type": "display_data"
    }
   ],
   "source": [
    "plt.plot(col_sums,'o')"
   ]
  },
  {
   "cell_type": "markdown",
   "metadata": {},
   "source": [
    "### sparse_info"
   ]
  },
  {
   "cell_type": "code",
   "execution_count": 212,
   "metadata": {},
   "outputs": [
    {
     "data": {
      "text/html": [
       "<div>\n",
       "<style scoped>\n",
       "    .dataframe tbody tr th:only-of-type {\n",
       "        vertical-align: middle;\n",
       "    }\n",
       "\n",
       "    .dataframe tbody tr th {\n",
       "        vertical-align: top;\n",
       "    }\n",
       "\n",
       "    .dataframe thead th {\n",
       "        text-align: right;\n",
       "    }\n",
       "</style>\n",
       "<table border=\"1\" class=\"dataframe\">\n",
       "  <thead>\n",
       "    <tr style=\"text-align: right;\">\n",
       "      <th></th>\n",
       "      <th>port_no</th>\n",
       "      <th>date</th>\n",
       "    </tr>\n",
       "  </thead>\n",
       "  <tbody>\n",
       "    <tr>\n",
       "      <th>26139</th>\n",
       "      <td>10008821</td>\n",
       "      <td>1983-01-12</td>\n",
       "    </tr>\n",
       "    <tr>\n",
       "      <th>27656</th>\n",
       "      <td>10009291</td>\n",
       "      <td>1977-12-13</td>\n",
       "    </tr>\n",
       "    <tr>\n",
       "      <th>22388</th>\n",
       "      <td>10007561</td>\n",
       "      <td>1978-05-15</td>\n",
       "    </tr>\n",
       "    <tr>\n",
       "      <th>38936</th>\n",
       "      <td>10013301</td>\n",
       "      <td>1978-02-12</td>\n",
       "    </tr>\n",
       "    <tr>\n",
       "      <th>19982</th>\n",
       "      <td>10006681</td>\n",
       "      <td>1982-10-12</td>\n",
       "    </tr>\n",
       "  </tbody>\n",
       "</table>\n",
       "</div>"
      ],
      "text/plain": [
       "        port_no       date\n",
       "26139  10008821 1983-01-12\n",
       "27656  10009291 1977-12-13\n",
       "22388  10007561 1978-05-15\n",
       "38936  10013301 1978-02-12\n",
       "19982  10006681 1982-10-12"
      ]
     },
     "execution_count": 212,
     "metadata": {},
     "output_type": "execute_result"
    }
   ],
   "source": [
    "sparse_info.sample(5)"
   ]
  },
  {
   "cell_type": "code",
   "execution_count": 298,
   "metadata": {},
   "outputs": [
    {
     "data": {
      "text/plain": [
       "<matplotlib.axes._subplots.AxesSubplot at 0x144a47c50>"
      ]
     },
     "execution_count": 298,
     "metadata": {},
     "output_type": "execute_result"
    },
    {
     "data": {
      "image/png": "[encoded data removed]",
      "text/plain": [
       "<Figure size 432x288 with 1 Axes>"
      ]
     },
     "metadata": {
      "needs_background": "light"
     },
     "output_type": "display_data"
    }
   ],
   "source": [
    "sparse_info.groupby('port_no').count().plot(kind='hist', bins=90, title= 'Reporting dates per port_no')"
   ]
  },
  {
   "cell_type": "code",
   "execution_count": null,
   "metadata": {},
   "outputs": [],
   "source": []
  }
 ],
 "metadata": {
  "kernelspec": {
   "display_name": "Python 3",
   "language": "python",
   "name": "python3"
  },
  "language_info": {
   "codemirror_mode": {
    "name": "ipython",
    "version": 3
   },
   "file_extension": ".py",
   "mimetype": "text/x-python",
   "name": "python",
   "nbconvert_exporter": "python",
   "pygments_lexer": "ipython3",
   "version": "3.7.2"
  }
 },
 "nbformat": 4,
 "nbformat_minor": 2
}
