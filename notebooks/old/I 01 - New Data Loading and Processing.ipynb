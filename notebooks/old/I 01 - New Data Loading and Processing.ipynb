{
 "cells": [
  {
   "cell_type": "markdown",
   "metadata": {
    "toc": true
   },
   "source": [
    "<h1>Table of Contents<span class=\"tocSkip\"></span></h1>\n",
    "<div class=\"toc\"><ul class=\"toc-item\"></ul></div>"
   ]
  },
  {
   "cell_type": "code",
   "execution_count": null,
   "metadata": {},
   "outputs": [],
   "source": [
    "# Description\n",
    "#\n",
    "#\n",
    "\n",
    "import wrds\n",
    "import feather\n",
    "\n",
    "import pandas as pd\n",
    "import numpy as np\n",
    "import datetime as dt\n",
    "import matplotlib.pyplot as plt"
   ]
  },
  {
   "cell_type": "code",
   "execution_count": null,
   "metadata": {},
   "outputs": [],
   "source": [
    "###################\n",
    "# Connect to WRDS #\n",
    "###################\n",
    "conn=wrds.Connection(wrds_username='amglex')"
   ]
  },
  {
   "cell_type": "code",
   "execution_count": null,
   "metadata": {},
   "outputs": [],
   "source": [
    "######################################\n",
    "# Step 1                             #\n",
    "# CRSP Block                         #\n",
    "######################################\n",
    "\n",
    "# set sample date range\n",
    "begdate = '03/01/2008'\n",
    "enddate = '12/31/2008'"
   ]
  },
  {
   "cell_type": "code",
   "execution_count": null,
   "metadata": {},
   "outputs": [],
   "source": [
    "# sql similar to crspmerge macro\n",
    "\n",
    "crsp_m = conn.raw_sql(f\"\"\"\n",
    "                      select permno, date, cfacpr, cfacshr, ret, shrout, prc\n",
    "                      from crsp.msf as a\n",
    "                      where a.date between '{begdate}' and '{enddate}'\n",
    "                      \"\"\", date_cols=['date']) "
   ]
  },
  {
   "cell_type": "code",
   "execution_count": null,
   "metadata": {},
   "outputs": [],
   "source": [
    "check = crsp_m\n",
    "crsp_m.head()"
   ]
  },
  {
   "cell_type": "code",
   "execution_count": null,
   "metadata": {},
   "outputs": [],
   "source": [
    "crsp_m.date = pd.DatetimeIndex(crsp_m.date)"
   ]
  },
  {
   "cell_type": "code",
   "execution_count": null,
   "metadata": {},
   "outputs": [],
   "source": [
    "# Change all dates to last day of respective month for later joining\n",
    "\n",
    "import datetime\n",
    "\n",
    "def last_day_of_month(any_day):\n",
    "    next_month = any_day.replace(day=28) + datetime.timedelta(days=4)\n",
    "    return next_month - datetime.timedelta(days=next_month.day)\n",
    "\n",
    "crsp_m.date = crsp_m.date.apply(last_day_of_month)\n",
    "\n",
    "# Test to check if all dates are month end -> correct if = 0\n",
    "date = pd.DatetimeIndex(crsp_m.date)\n",
    "sum(date.is_month_end == 0)\n",
    "del(date)"
   ]
  },
  {
   "cell_type": "code",
   "execution_count": null,
   "metadata": {},
   "outputs": [],
   "source": [
    "# Calculate adjusted SHROUT and Price\n",
    "\n",
    "crsp_m['TSO'] = crsp_m.shrout * crsp_m.cfacshr * 1000 # Compute \"Adjusted total shares outstanding\"\n",
    "crsp_m['P'] = abs(crsp_m.prc)/crsp_m.cfacpr           # \"Price at t period end, adjusted\"\n",
    "crsp_m['P_1'] = crsp_m.P.shift(1)                     # \"Price at t-1, adjusted\""
   ]
  },
  {
   "cell_type": "code",
   "execution_count": null,
   "metadata": {},
   "outputs": [],
   "source": [
    "crsp_m = crsp_m.drop(columns = ['prc', 'cfacpr', 'shrout'])"
   ]
  },
  {
   "cell_type": "code",
   "execution_count": null,
   "metadata": {},
   "outputs": [],
   "source": [
    "/* Step 1.3. Get report and vintage dates from Thomson-Reuters Mutual Fund Holdings */\n",
    "/* Exclude Non-Equity Funds from Holdings data that is reported as of Fiscal Quarter End */\n",
    "/* First, Keep First Vintage with Holdings Data for Each RDATE-FUNDNO */\n",
    "proc sql;\n",
    "create table First_Vint\n",
    "as select distinct intnx(\"month\",rdate,0,\"E\") as rdate format date9., fdate, fundno\n",
    "from tfn.s12type1\n",
    "where (\"&begdate\"d <= rdate <=\"&enddate\"d and ioc not in (1,5,6,7))\n",
    "group by fundno, intnx(\"month\",rdate,0,\"E\")\n",
    "having fdate=min(fdate) and max(rdate)=rdate\n",
    "order by fundno, rdate desc;\n",
    "quit;"
   ]
  },
  {
   "cell_type": "code",
   "execution_count": null,
   "metadata": {},
   "outputs": [],
   "source": [
    "# Step 1.3. Get report and vintage dates from Thomson-Reuters Mutual Fund Holdings\n",
    "# Exclude Non-Equity Funds from Holdings data that is reported as of Fiscal Quarter End\n",
    "# First, Keep First Vintage with Holdings Data for Each RDATE-FUNDNO"
   ]
  },
  {
   "cell_type": "code",
   "execution_count": null,
   "metadata": {},
   "outputs": [],
   "source": [
    "TR = conn.raw_sql(f\"\"\"\n",
    "                    SELECT distinct rdate, fdate, fundno\n",
    "                    FROM tfn.s12type1\n",
    "                    WHERE rdate between '{begdate}' and '{enddate}'\n",
    "                    AND ioc not in (1,5,6,7)\n",
    "                    \"\"\", date_cols=['rdate','fdate']) \n",
    "\n",
    "TR.dtypes"
   ]
  },
  {
   "cell_type": "code",
   "execution_count": null,
   "metadata": {},
   "outputs": [],
   "source": [
    "TR.rdate = TR.rdate.apply(last_day_of_month)\n",
    "\n",
    "# Test to check if all dates are month end -> correct if = 0\n",
    "date = pd.DatetimeIndex(TR.rdate)\n",
    "print(sum(date.is_month_end == 0))\n",
    "del(date)"
   ]
  },
  {
   "cell_type": "code",
   "execution_count": null,
   "metadata": {},
   "outputs": [],
   "source": [
    "TR.groupby(by = ['fundno', 'rdate']).count()"
   ]
  },
  {
   "cell_type": "code",
   "execution_count": null,
   "metadata": {},
   "outputs": [],
   "source": []
  },
  {
   "cell_type": "code",
   "execution_count": null,
   "metadata": {},
   "outputs": [],
   "source": []
  },
  {
   "cell_type": "code",
   "execution_count": null,
   "metadata": {},
   "outputs": [],
   "source": []
  },
  {
   "cell_type": "code",
   "execution_count": null,
   "metadata": {},
   "outputs": [],
   "source": []
  },
  {
   "cell_type": "code",
   "execution_count": null,
   "metadata": {},
   "outputs": [],
   "source": []
  },
  {
   "cell_type": "code",
   "execution_count": null,
   "metadata": {},
   "outputs": [],
   "source": []
  },
  {
   "cell_type": "code",
   "execution_count": null,
   "metadata": {},
   "outputs": [],
   "source": []
  },
  {
   "cell_type": "code",
   "execution_count": null,
   "metadata": {},
   "outputs": [],
   "source": []
  },
  {
   "cell_type": "code",
   "execution_count": null,
   "metadata": {},
   "outputs": [],
   "source": []
  },
  {
   "cell_type": "code",
   "execution_count": null,
   "metadata": {},
   "outputs": [],
   "source": [
    "# Connect to DB\n",
    "db = wrds.Connection(wrds_username='amglex')\n",
    "print('Successfully connected')"
   ]
  },
  {
   "cell_type": "code",
   "execution_count": null,
   "metadata": {},
   "outputs": [],
   "source": [
    "tfn = \"/wrds/tfn/sasdata/s12\";\n",
    "mfl = \"/wrds/mfl/sasdata\";\n",
    "ff = \"/wrds/ff/sasdata\";\n",
    " \n",
    "# Step 1.1. Specifying Options\n",
    "begdate = '1980-03-01'\n",
    "enddate = '2008-12-31'"
   ]
  },
  {
   "cell_type": "code",
   "execution_count": null,
   "metadata": {},
   "outputs": [],
   "source": [
    "######################\n",
    "# Query the data\n",
    "######################\n",
    "\n",
    "print('Start downloading data ...')\n",
    "\n",
    "# SQL Query\n",
    "data_raw_df = db.raw_sql(\n",
    "    '''\n",
    "    SELECT crsp_company_key, security_name\n",
    "    FROM holdings \n",
    "    LIMIT 10000000   \n",
    "    '''\n",
    ")\n",
    "\n",
    "print('SQL successful')\n",
    "\n",
    "print(data_raw_df.shape)\n",
    "\n",
    "print(data_raw_df.dtypes)\n",
    "\n",
    "print(data_raw_df.head())\n",
    "\n",
    "path = '../../data/raw/holdings_co_info.feather'\n",
    "\n",
    "feather.write_dataframe(data_raw_df, path)\n",
    "\n",
    "print(\"Successfully saved data\")"
   ]
  }
 ],
 "metadata": {
  "hide_input": false,
  "kernelspec": {
   "display_name": "Python 3",
   "language": "python",
   "name": "python3"
  },
  "language_info": {
   "codemirror_mode": {
    "name": "ipython",
    "version": 3
   },
   "file_extension": ".py",
   "mimetype": "text/x-python",
   "name": "python",
   "nbconvert_exporter": "python",
   "pygments_lexer": "ipython3",
   "version": "3.7.1"
  },
  "toc": {
   "base_numbering": 1,
   "nav_menu": {},
   "number_sections": true,
   "sideBar": true,
   "skip_h1_title": false,
   "title_cell": "Table of Contents",
   "title_sidebar": "Contents",
   "toc_cell": true,
   "toc_position": {},
   "toc_section_display": true,
   "toc_window_display": false
  }
 },
 "nbformat": 4,
 "nbformat_minor": 2
}
