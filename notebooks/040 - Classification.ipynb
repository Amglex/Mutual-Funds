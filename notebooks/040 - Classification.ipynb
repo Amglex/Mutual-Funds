{
 "cells": [
  {
   "cell_type": "markdown",
   "metadata": {},
   "source": [
    "# Classification"
   ]
  },
  {
   "cell_type": "markdown",
   "metadata": {},
   "source": [
    "## Description"
   ]
  },
  {
   "cell_type": "code",
   "execution_count": 1,
   "metadata": {},
   "outputs": [],
   "source": [
    "import feather\n",
    "import numpy as np\n",
    "import datetime\n",
    "import pandas as pd\n",
    "import seaborn as sns\n",
    "import matplotlib.pyplot as plt\n",
    "\n",
    "from scipy import sparse\n",
    "\n",
    "from sklearn.neighbors import KNeighborsClassifier\n",
    "from sklearn.preprocessing import Normalizer, MaxAbsScaler\n",
    "from sklearn.metrics import cohen_kappa_score, make_scorer, confusion_matrix, classification_report, SCORERS\n",
    "\n",
    "import matplotlib.pyplot as plt\n",
    "import matplotlib.cm as cm\n",
    "\n",
    "# Progress bar\n",
    "from ipywidgets import FloatProgress\n",
    "from IPython.display import display"
   ]
  },
  {
   "cell_type": "markdown",
   "metadata": {},
   "source": [
    "# Setup"
   ]
  },
  {
   "cell_type": "code",
   "execution_count": 2,
   "metadata": {},
   "outputs": [],
   "source": [
    "# Convert to date format\n",
    "begin_date = '2017-06-01' \n",
    "end_date = '2018-01-01'"
   ]
  },
  {
   "cell_type": "markdown",
   "metadata": {},
   "source": [
    "## Load Data"
   ]
  },
  {
   "cell_type": "code",
   "execution_count": 3,
   "metadata": {},
   "outputs": [
    {
     "name": "stdout",
     "output_type": "stream",
     "text": [
      "Shape of row_info:\n",
      "(2009, 8)\n",
      "Shape of holdings:\n",
      "(2009, 56820)\n",
      "\n",
      "count                    2009\n",
      "unique                      1\n",
      "top       2017-06-30 00:00:00\n",
      "freq                     2009\n",
      "first     2017-06-30 00:00:00\n",
      "last      2017-06-30 00:00:00\n",
      "Name: report_dt, dtype: object\n"
     ]
    }
   ],
   "source": [
    "### Returns\n",
    "path = '../data/processed/returns.feather'\n",
    "returns = feather.read_dataframe(path)\n",
    "\n",
    "returns = returns.query('caldt >= @begin_date and caldt <= @end_date')\n",
    "\n",
    "### row_info\n",
    "path = '../data/processed/row_info.feather'\n",
    "row_info = feather.read_dataframe(path)\n",
    "\n",
    "row_info = row_info.query('report_dt >= @begin_date and report_dt <= @end_date')\n",
    "\n",
    "row_info.reset_index(inplace=True,drop=True)\n",
    "row_info['row'] = row_info.index\n",
    "\n",
    "### col_info\n",
    "path = '../data/processed/col_info.feather'\n",
    "col_info = feather.read_dataframe(path)\n",
    "\n",
    "### Holdings\n",
    "path = '../data/processed/holdings.npz'\n",
    "holdings = sparse.load_npz(path)\n",
    "\n",
    "holdings = holdings[row_info.row.values]\n",
    "\n",
    "print('Shape of row_info:')\n",
    "print(row_info.shape)\n",
    "print('Shape of holdings:')\n",
    "print(holdings.shape)\n",
    "print()\n",
    "print(row_info.report_dt.describe())"
   ]
  },
  {
   "cell_type": "markdown",
   "metadata": {},
   "source": [
    "## Knn "
   ]
  },
  {
   "cell_type": "code",
   "execution_count": 209,
   "metadata": {},
   "outputs": [
    {
     "name": "stdout",
     "output_type": "stream",
     "text": [
      "Dimensions match:       True\n"
     ]
    }
   ],
   "source": [
    "X = holdings\n",
    "y = list(row_info['style_class'].values)\n",
    "\n",
    "mask = np.arange(holdings.shape[0])\n",
    "y_df = pd.Series(y)\n",
    "\n",
    "comparing_df = pd.DataFrame({\n",
    "    'true' : y})\n",
    "\n",
    "print('Dimensions match:       {}'.format(X.shape[0] == len(y)))"
   ]
  },
  {
   "cell_type": "markdown",
   "metadata": {},
   "source": [
    "### Predicting based on full info"
   ]
  },
  {
   "cell_type": "code",
   "execution_count": 210,
   "metadata": {},
   "outputs": [],
   "source": [
    "neigh_full = KNeighborsClassifier(n_neighbors=30, n_jobs = -1)\n",
    "neigh_full.fit(holdings,y) \n",
    "comparing_df.loc[:,'predicted'] = neigh_full.predict(holdings)"
   ]
  },
  {
   "cell_type": "code",
   "execution_count": 211,
   "metadata": {
    "scrolled": true
   },
   "outputs": [
    {
     "data": {
      "text/html": [
       "<div>\n",
       "<style scoped>\n",
       "    .dataframe tbody tr th:only-of-type {\n",
       "        vertical-align: middle;\n",
       "    }\n",
       "\n",
       "    .dataframe tbody tr th {\n",
       "        vertical-align: top;\n",
       "    }\n",
       "\n",
       "    .dataframe thead th {\n",
       "        text-align: right;\n",
       "    }\n",
       "</style>\n",
       "<table border=\"1\" class=\"dataframe\">\n",
       "  <thead>\n",
       "    <tr style=\"text-align: right;\">\n",
       "      <th></th>\n",
       "      <th>true</th>\n",
       "      <th>predicted</th>\n",
       "    </tr>\n",
       "  </thead>\n",
       "  <tbody>\n",
       "    <tr>\n",
       "      <th>1972</th>\n",
       "      <td>C</td>\n",
       "      <td>C</td>\n",
       "    </tr>\n",
       "    <tr>\n",
       "      <th>410</th>\n",
       "      <td>G</td>\n",
       "      <td>C</td>\n",
       "    </tr>\n",
       "    <tr>\n",
       "      <th>1100</th>\n",
       "      <td>V</td>\n",
       "      <td>G</td>\n",
       "    </tr>\n",
       "    <tr>\n",
       "      <th>1463</th>\n",
       "      <td>V</td>\n",
       "      <td>G</td>\n",
       "    </tr>\n",
       "    <tr>\n",
       "      <th>163</th>\n",
       "      <td>G</td>\n",
       "      <td>C</td>\n",
       "    </tr>\n",
       "    <tr>\n",
       "      <th>1584</th>\n",
       "      <td>C</td>\n",
       "      <td>C</td>\n",
       "    </tr>\n",
       "    <tr>\n",
       "      <th>482</th>\n",
       "      <td>C</td>\n",
       "      <td>G</td>\n",
       "    </tr>\n",
       "    <tr>\n",
       "      <th>1971</th>\n",
       "      <td>G</td>\n",
       "      <td>C</td>\n",
       "    </tr>\n",
       "    <tr>\n",
       "      <th>1685</th>\n",
       "      <td>G</td>\n",
       "      <td>C</td>\n",
       "    </tr>\n",
       "    <tr>\n",
       "      <th>84</th>\n",
       "      <td>C</td>\n",
       "      <td>C</td>\n",
       "    </tr>\n",
       "  </tbody>\n",
       "</table>\n",
       "</div>"
      ],
      "text/plain": [
       "     true predicted\n",
       "1972    C         C\n",
       "410     G         C\n",
       "1100    V         G\n",
       "1463    V         G\n",
       "163     G         C\n",
       "1584    C         C\n",
       "482     C         G\n",
       "1971    G         C\n",
       "1685    G         C\n",
       "84      C         C"
      ]
     },
     "execution_count": 211,
     "metadata": {},
     "output_type": "execute_result"
    }
   ],
   "source": [
    "comparing_df.sample(10)"
   ]
  },
  {
   "cell_type": "markdown",
   "metadata": {},
   "source": [
    "### Predicting iteratively"
   ]
  },
  {
   "cell_type": "code",
   "execution_count": 212,
   "metadata": {},
   "outputs": [
    {
     "name": "stdout",
     "output_type": "stream",
     "text": [
      "Progress 1:\n"
     ]
    },
    {
     "data": {
      "application/vnd.jupyter.widget-view+json": {
       "model_id": "15945f340d2d4a91b06b11370e90b50e",
       "version_major": 2,
       "version_minor": 0
      },
      "text/plain": [
       "FloatProgress(value=0.0, max=10000.0)"
      ]
     },
     "metadata": {},
     "output_type": "display_data"
    },
    {
     "name": "stdout",
     "output_type": "stream",
     "text": [
      "Rows randomly chosen:    99.40%\n",
      "Progress 2:\n"
     ]
    },
    {
     "data": {
      "application/vnd.jupyter.widget-view+json": {
       "model_id": "1688de8fe08e478fbdbe7d9796dd1133",
       "version_major": 2,
       "version_minor": 0
      },
      "text/plain": [
       "FloatProgress(value=0.0, max=10000.0)"
      ]
     },
     "metadata": {},
     "output_type": "display_data"
    },
    {
     "name": "stdout",
     "output_type": "stream",
     "text": [
      "Rows randomly chosen:    99.05%\n",
      "Done\n"
     ]
    }
   ],
   "source": [
    "#### Options #####\n",
    "##################\n",
    "\n",
    "n_iterations = 10_000\n",
    "cols = ['iterative_3','iterative_5']\n",
    "n_neighbors  = [3,5]\n",
    "np.random.seed(0)\n",
    "\n",
    "#### Algo ####\n",
    "\n",
    "index = np.arange(holdings.shape[0])\n",
    "    \n",
    "for j in np.arange(len(cols)):\n",
    "\n",
    "    col_temp = cols[j]\n",
    "    \n",
    "    # Setup\n",
    "    f = FloatProgress(min=0, max=n_iterations)\n",
    "    comparing_df[col_temp] = comparing_df['true']\n",
    "    chosen_indices = []\n",
    "\n",
    "    # Loop over n_iterations, choose one observation randomly, predict label, save and repeat\n",
    "\n",
    "    print('Progress {}:'.format(j+1))\n",
    "    display(f)\n",
    "\n",
    "    for k in np.arange(n_iterations):\n",
    "        # Choose random row based on rows and make mask\n",
    "        i = np.random.choice(index)\n",
    "        chosen_indices.append(i)\n",
    "        mask_temp = mask[mask != i]\n",
    "\n",
    "        # Mask holdings and labels to exclude row for which prediction will be made\n",
    "        holdings_temp = holdings[mask_temp]\n",
    "        y_df_temp = comparing_df.loc[mask_temp,col_temp].values.tolist()\n",
    "\n",
    "        # Fit knn model on all but randomly chosen row\n",
    "        neigh = KNeighborsClassifier(n_neighbors = n_neighbors[j], n_jobs = -1)\n",
    "        neigh.fit(holdings_temp,y_df_temp) \n",
    "\n",
    "        # Predict and save label for randomly chosen row\n",
    "        comparing_df.loc[i,col_temp] = neigh.predict(holdings[i])[0]\n",
    "\n",
    "        f.value += 1\n",
    "    row_chosen = pd.Series(chosen_indices).unique().size\n",
    "    print('Rows randomly chosen:    {:4.2f}%'.format(row_chosen / holdings.shape[0] * 100))\n",
    "\n",
    "print('Done')\n",
    "\n"
   ]
  },
  {
   "cell_type": "code",
   "execution_count": 213,
   "metadata": {},
   "outputs": [
    {
     "name": "stdout",
     "output_type": "stream",
     "text": [
      "Overlap between Lipper class and: \n",
      "\n",
      "Full prediction:         41.26%\n",
      "Iterative prediction:    47.44%\n",
      "Iterative prediction:    45.00%\n"
     ]
    }
   ],
   "source": [
    "print('Overlap between Lipper class and: \\n')\n",
    "print('Full prediction:         {:2.2f}%'\n",
    "      .format(np.sum(comparing_df['true'] == comparing_df['predicted']) / len(comparing_df.index) * 100))\n",
    "\n",
    "\n",
    "print('Iterative prediction:    {:2.2f}%'\n",
    "      .format(np.sum(comparing_df['true'] == comparing_df['iterative_3']) / len(comparing_df.index) * 100))\n",
    "print('Iterative prediction:    {:2.2f}%'\n",
    "      .format(np.sum(comparing_df['true'] == comparing_df['iterative_5']) / len(comparing_df.index) * 100))\n"
   ]
  },
  {
   "cell_type": "code",
   "execution_count": 214,
   "metadata": {},
   "outputs": [
    {
     "data": {
      "text/plain": [
       "<matplotlib.axes._subplots.AxesSubplot at 0x13ad88b90>"
      ]
     },
     "execution_count": 214,
     "metadata": {},
     "output_type": "execute_result"
    },
    {
     "data": {
      "image/png": "[encoded data removed]",
      "text/plain": [
       "<Figure size 1080x576 with 1 Axes>"
      ]
     },
     "metadata": {},
     "output_type": "display_data"
    }
   ],
   "source": [
    "data = comparing_df.apply(pd.Series.value_counts, normalize = True)\n",
    "data.drop(columns='predicted',inplace=True)\n",
    "data = data.assign(style = data.index)\n",
    "data = data.melt(id_vars = 'style', value_vars = data.columns[:-1])\n",
    "\n",
    "sns.set()\n",
    "plt.figure(figsize=(15,8))\n",
    "sns.barplot(data = data, y = 'style', x = 'value', hue = 'variable')"
   ]
  },
  {
   "cell_type": "code",
   "execution_count": null,
   "metadata": {},
   "outputs": [],
   "source": []
  },
  {
   "cell_type": "code",
   "execution_count": null,
   "metadata": {},
   "outputs": [],
   "source": []
  },
  {
   "cell_type": "code",
   "execution_count": null,
   "metadata": {},
   "outputs": [],
   "source": [
    "round(pd.crosstab(comparing_df.true, comparing_df.predicted, margins=True, normalize='all') * 100,2)"
   ]
  },
  {
   "cell_type": "code",
   "execution_count": null,
   "metadata": {},
   "outputs": [],
   "source": [
    "pd.crosstab(comparing_df.true, comparing_df.predicted, margins=True)"
   ]
  },
  {
   "cell_type": "code",
   "execution_count": null,
   "metadata": {},
   "outputs": [],
   "source": [
    "print(classification_report(comparing_df.true, comparing_df.predicted))"
   ]
  },
  {
   "cell_type": "code",
   "execution_count": null,
   "metadata": {},
   "outputs": [],
   "source": [
    "print(classification_report(comparing_df.true, comparing_df.predicted))"
   ]
  },
  {
   "cell_type": "code",
   "execution_count": null,
   "metadata": {},
   "outputs": [],
   "source": [
    "comparing_df.query('''true == 'LCCE' and predicted == 'SCCE' ''')"
   ]
  },
  {
   "cell_type": "code",
   "execution_count": null,
   "metadata": {},
   "outputs": [],
   "source": [
    "no = 2343\n",
    "crsp_fundno = row_info.reset_index().loc[no].crsp_fundno\n",
    "\n",
    "most_common_stocks_fund(year=2017, crsp_fundno='28284')"
   ]
  },
  {
   "cell_type": "code",
   "execution_count": null,
   "metadata": {},
   "outputs": [],
   "source": [
    "def most_common_stocks_fund(year,crsp_fundno):\n",
    "    \"This prints a passed string into this function\"\n",
    "    # Enter date for which most common holdings are calculated\n",
    "    year = year\n",
    "    crsp_fundno = crsp_fundno\n",
    "    row_info_l = row_info.copy()\n",
    "\n",
    "    holdings_coo = holdings.tocoo()\n",
    "\n",
    "    df_sparse = pd.DataFrame({'row'  : holdings_coo.row,\n",
    "                              'col'  : holdings_coo.col,\n",
    "                              'data' : holdings_coo.data})\n",
    "\n",
    "    row_info_l = row_info_l.assign(year = row_info_l['report_dt'].dt.year)\n",
    "    df_sparse = df_sparse.merge(row_info_l[['year','row','crsp_fundno']],how='left',on='row')\n",
    "    my_filter = '''year == @year and crsp_fundno == @crsp_fundno '''\n",
    "    no_unique_funds = row_info_l.query(my_filter).shape[0]\n",
    "\n",
    "    sum_col = (df_sparse\n",
    "               .query(my_filter)\n",
    "               .groupby(by = ['col'])\n",
    "               .mean()\n",
    "               .sort_values('data',ascending = False)\n",
    "               .join(col_info[['security_name','col']],how='left')\n",
    "               .assign(percent = lambda x:  x.data)\n",
    "               .drop(columns=['row','data','col','year','crsp_fundno'])\n",
    "               .reset_index(drop=True)\n",
    "               .head(10))\n",
    "    \n",
    "    print(\n",
    "        'Average of most held stocks for one fund in one year: ','\\n\\n'\n",
    "        '{}'.format(row_info.query('crsp_fundno == @crsp_fundno').iloc[0,2]),'\\n\\n'\n",
    "        'crsp_fundno:                            {}'.format(crsp_fundno),'\\n'\n",
    "        'Year:                                   {}'.format(year),'\\n'\n",
    "        'Number of observations in that year:    {}'.format(no_unique_funds))\n",
    "\n",
    "    return sum_col"
   ]
  },
  {
   "cell_type": "code",
   "execution_count": null,
   "metadata": {},
   "outputs": [],
   "source": []
  }
 ],
 "metadata": {
  "kernelspec": {
   "display_name": "Python 3",
   "language": "python",
   "name": "python3"
  },
  "language_info": {
   "codemirror_mode": {
    "name": "ipython",
    "version": 3
   },
   "file_extension": ".py",
   "mimetype": "text/x-python",
   "name": "python",
   "nbconvert_exporter": "python",
   "pygments_lexer": "ipython3",
   "version": "3.7.4"
  }
 },
 "nbformat": 4,
 "nbformat_minor": 2
}
