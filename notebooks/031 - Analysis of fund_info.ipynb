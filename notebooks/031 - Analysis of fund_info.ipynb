{
 "cells": [
  {
   "cell_type": "markdown",
   "metadata": {},
   "source": [
    "# Analysis of selected funds"
   ]
  },
  {
   "cell_type": "markdown",
   "metadata": {},
   "source": [
    "Main insights:\n",
    "    - ~3700 unique funds iver the complete timeframe\n",
    "    - Strong break in 2010 (few observations before)\n",
    "    - ~2500 unique funds per year\n",
    "    - ~6% of funds change their lipper class over the complete timeframe\n",
    "    "
   ]
  },
  {
   "cell_type": "code",
   "execution_count": 58,
   "metadata": {
    "pycharm": {
     "is_executing": false
    }
   },
   "outputs": [],
   "source": [
    "import feather\n",
    "\n",
    "import pandas as pd\n",
    "import matplotlib.pyplot as plt"
   ]
  },
  {
   "cell_type": "code",
   "execution_count": 59,
   "metadata": {
    "pycharm": {
     "is_executing": false
    }
   },
   "outputs": [],
   "source": [
    "# Convert to date format\n",
    "begin_date = '2003-01-01' \n",
    "end_date   = '2019-12-31'"
   ]
  },
  {
   "cell_type": "code",
   "execution_count": 60,
   "metadata": {
    "pycharm": {
     "is_executing": false
    },
    "scrolled": true
   },
   "outputs": [],
   "source": [
    "path = '../data/processed/row_info.feather'\n",
    "info_df = feather.read_dataframe(path)"
   ]
  },
  {
   "cell_type": "code",
   "execution_count": 61,
   "metadata": {
    "pycharm": {
     "is_executing": false
    }
   },
   "outputs": [],
   "source": [
    "info_df = info_df.query('report_dt >= @begin_date and report_dt <= @end_date')"
   ]
  },
  {
   "cell_type": "code",
   "execution_count": 62,
   "metadata": {},
   "outputs": [
    {
     "data": {
      "text/html": [
       "<div>\n",
       "<style scoped>\n",
       "    .dataframe tbody tr th:only-of-type {\n",
       "        vertical-align: middle;\n",
       "    }\n",
       "\n",
       "    .dataframe tbody tr th {\n",
       "        vertical-align: top;\n",
       "    }\n",
       "\n",
       "    .dataframe thead th {\n",
       "        text-align: right;\n",
       "    }\n",
       "</style>\n",
       "<table border=\"1\" class=\"dataframe\">\n",
       "  <thead>\n",
       "    <tr style=\"text-align: right;\">\n",
       "      <th></th>\n",
       "      <th>crsp_fundno</th>\n",
       "      <th>crsp_portno</th>\n",
       "      <th>fund_name</th>\n",
       "      <th>report_dt</th>\n",
       "      <th>lipper_class</th>\n",
       "      <th>cap_class</th>\n",
       "      <th>style_class</th>\n",
       "      <th>row</th>\n",
       "    </tr>\n",
       "  </thead>\n",
       "  <tbody>\n",
       "    <tr>\n",
       "      <th>11203</th>\n",
       "      <td>22178</td>\n",
       "      <td>1022676</td>\n",
       "      <td>Nicholas Equity Income Fund, Inc</td>\n",
       "      <td>2010-06-30</td>\n",
       "      <td>EIEI</td>\n",
       "      <td>E</td>\n",
       "      <td>E</td>\n",
       "      <td>11203</td>\n",
       "    </tr>\n",
       "  </tbody>\n",
       "</table>\n",
       "</div>"
      ],
      "text/plain": [
       "       crsp_fundno  crsp_portno                         fund_name  report_dt  \\\n",
       "11203        22178      1022676  Nicholas Equity Income Fund, Inc 2010-06-30   \n",
       "\n",
       "      lipper_class cap_class style_class    row  \n",
       "11203         EIEI         E           E  11203  "
      ]
     },
     "execution_count": 62,
     "metadata": {},
     "output_type": "execute_result"
    }
   ],
   "source": [
    "info_df.sample()"
   ]
  },
  {
   "cell_type": "markdown",
   "metadata": {},
   "source": [
    "## Number of unique port_nos and fund_nos"
   ]
  },
  {
   "cell_type": "code",
   "execution_count": 63,
   "metadata": {},
   "outputs": [
    {
     "data": {
      "text/plain": [
       "count                   50617\n",
       "unique                     45\n",
       "top       2010-09-30 00:00:00\n",
       "freq                     2466\n",
       "first     2003-03-31 00:00:00\n",
       "last      2017-06-30 00:00:00\n",
       "Name: report_dt, dtype: object"
      ]
     },
     "execution_count": 63,
     "metadata": {},
     "output_type": "execute_result"
    }
   ],
   "source": [
    "info_df['report_dt'].describe()"
   ]
  },
  {
   "cell_type": "code",
   "execution_count": 64,
   "metadata": {},
   "outputs": [
    {
     "name": "stdout",
     "output_type": "stream",
     "text": [
      "3705\n",
      "3705\n"
     ]
    }
   ],
   "source": [
    "print(info_df['crsp_portno'].nunique())\n",
    "print(info_df['crsp_fundno'].nunique())"
   ]
  },
  {
   "cell_type": "markdown",
   "metadata": {},
   "source": [
    "## Number of unique funds per year"
   ]
  },
  {
   "cell_type": "markdown",
   "metadata": {},
   "source": [
    "#### Something seems odd\n",
    "Break in 2009 not clear"
   ]
  },
  {
   "cell_type": "code",
   "execution_count": 65,
   "metadata": {},
   "outputs": [
    {
     "data": {
      "text/plain": [
       "<matplotlib.axes._subplots.AxesSubplot at 0x1277589d0>"
      ]
     },
     "execution_count": 65,
     "metadata": {},
     "output_type": "execute_result"
    },
    {
     "data": {
      "image/png": "[encoded data removed]",
      "text/plain": [
       "<Figure size 720x360 with 1 Axes>"
      ]
     },
     "metadata": {
      "needs_background": "light"
     },
     "output_type": "display_data"
    }
   ],
   "source": [
    "# Analysis of selected funds\n",
    "\n",
    "## Distribution by date(info_df[\"report_dt\"]\n",
    "(info_df[\"crsp_portno\"]\n",
    "    .groupby([\n",
    "         info_df[\"report_dt\"].dt.year,\n",
    "         info_df[\"report_dt\"].dt.month\n",
    "     ])\n",
    "     .nunique()\n",
    "     .plot(kind=\"bar\",\n",
    "           color = 'b',\n",
    "           figsize=(10,5)))"
   ]
  },
  {
   "cell_type": "markdown",
   "metadata": {},
   "source": [
    "## Distribution by number of observations per fund "
   ]
  },
  {
   "cell_type": "code",
   "execution_count": 66,
   "metadata": {},
   "outputs": [
    {
     "data": {
      "text/plain": [
       "<matplotlib.axes._subplots.AxesSubplot at 0x125ce5710>"
      ]
     },
     "execution_count": 66,
     "metadata": {},
     "output_type": "execute_result"
    },
    {
     "data": {
      "image/png": "[encoded data removed]",
      "text/plain": [
       "<Figure size 720x360 with 1 Axes>"
      ]
     },
     "metadata": {
      "needs_background": "light"
     },
     "output_type": "display_data"
    }
   ],
   "source": [
    "(info_df[\"crsp_portno\"]\n",
    "     .groupby([\n",
    "         info_df[\"crsp_portno\"],\n",
    "     ])\n",
    "     .count()\n",
    "     .plot(kind=\"hist\",\n",
    "#           bins = 84,\n",
    "           color = 'b',\n",
    "           figsize=(10,5)))"
   ]
  },
  {
   "cell_type": "markdown",
   "metadata": {},
   "source": [
    "## Take only the end of the year observation per fund"
   ]
  },
  {
   "cell_type": "code",
   "execution_count": 67,
   "metadata": {},
   "outputs": [],
   "source": [
    "index = (info_df\n",
    "     .assign(year = info_df[\"report_dt\"].dt.year)\n",
    "     .groupby(['crsp_portno','year'])\n",
    "     [['crsp_portno','report_dt']]\n",
    "     .tail(1)\n",
    "     .index)"
   ]
  },
  {
   "cell_type": "code",
   "execution_count": 68,
   "metadata": {},
   "outputs": [],
   "source": [
    "info_df = info_df.loc[index]"
   ]
  },
  {
   "cell_type": "markdown",
   "metadata": {},
   "source": [
    "## Distribution by lipper_class"
   ]
  },
  {
   "cell_type": "code",
   "execution_count": 69,
   "metadata": {},
   "outputs": [
    {
     "data": {
      "text/plain": [
       "<matplotlib.axes._subplots.AxesSubplot at 0x126f4f510>"
      ]
     },
     "execution_count": 69,
     "metadata": {},
     "output_type": "execute_result"
    },
    {
     "data": {
      "image/png": "[encoded data removed]",
      "text/plain": [
       "<Figure size 1440x360 with 1 Axes>"
      ]
     },
     "metadata": {
      "needs_background": "light"
     },
     "output_type": "display_data"
    }
   ],
   "source": [
    "(info_df['crsp_portno']\n",
    "     .groupby([\n",
    "         info_df[\"lipper_class\"],\n",
    "     ])\n",
    "     .count()\n",
    "     .sort_values()\n",
    "     .plot(kind=\"barh\",\n",
    "           color = 'b',\n",
    "           figsize=(20,5)))"
   ]
  },
  {
   "cell_type": "code",
   "execution_count": 70,
   "metadata": {},
   "outputs": [
    {
     "data": {
      "text/plain": [
       "<matplotlib.axes._subplots.AxesSubplot at 0x127d5d590>"
      ]
     },
     "execution_count": 70,
     "metadata": {},
     "output_type": "execute_result"
    },
    {
     "data": {
      "image/png": "[encoded data removed]",
      "text/plain": [
       "<Figure size 720x360 with 1 Axes>"
      ]
     },
     "metadata": {
      "needs_background": "light"
     },
     "output_type": "display_data"
    }
   ],
   "source": [
    "(info_df['crsp_portno']\n",
    "     .groupby([\n",
    "         info_df['cap_class'],\n",
    "     ])\n",
    "     .count()\n",
    "     .sort_values()\n",
    "     .plot(kind='barh',\n",
    "           color = 'b',\n",
    "           figsize=(10,5)))"
   ]
  },
  {
   "cell_type": "code",
   "execution_count": 71,
   "metadata": {},
   "outputs": [
    {
     "data": {
      "text/plain": [
       "<matplotlib.axes._subplots.AxesSubplot at 0x120b958d0>"
      ]
     },
     "execution_count": 71,
     "metadata": {},
     "output_type": "execute_result"
    },
    {
     "data": {
      "image/png": "[encoded data removed]",
      "text/plain": [
       "<Figure size 720x360 with 1 Axes>"
      ]
     },
     "metadata": {
      "needs_background": "light"
     },
     "output_type": "display_data"
    }
   ],
   "source": [
    "(info_df['crsp_portno']\n",
    "     .groupby([\n",
    "         info_df['style_class'],\n",
    "     ])\n",
    "     .count()\n",
    "     .sort_values()\n",
    "     .plot(kind='barh',\n",
    "           color = 'b',\n",
    "           figsize=(10,5)))"
   ]
  },
  {
   "cell_type": "markdown",
   "metadata": {},
   "source": [
    "## How often do lipper_classes change?\n"
   ]
  },
  {
   "cell_type": "code",
   "execution_count": 72,
   "metadata": {},
   "outputs": [
    {
     "data": {
      "image/png": "[encoded data removed]",
      "text/plain": [
       "<Figure size 720x360 with 1 Axes>"
      ]
     },
     "metadata": {
      "needs_background": "light"
     },
     "output_type": "display_data"
    }
   ],
   "source": [
    "obj_per_portno = info_df[['crsp_portno','lipper_class']]\n",
    "ax = (obj_per_portno['lipper_class']\n",
    "    .groupby([\n",
    "        obj_per_portno[\"crsp_portno\"]\n",
    "    ])\n",
    "    .nunique()\n",
    "    .sort_values()\n",
    "    .plot(kind='hist',\n",
    "          color = 'b',\n",
    "          bins = 10,\n",
    "          figsize=(10,5),\n",
    "          title='Number of unique objective codes per crsp_portno')\n",
    ")"
   ]
  },
  {
   "cell_type": "code",
   "execution_count": 73,
   "metadata": {},
   "outputs": [
    {
     "data": {
      "text/html": [
       "<div>\n",
       "<style scoped>\n",
       "    .dataframe tbody tr th:only-of-type {\n",
       "        vertical-align: middle;\n",
       "    }\n",
       "\n",
       "    .dataframe tbody tr th {\n",
       "        vertical-align: top;\n",
       "    }\n",
       "\n",
       "    .dataframe thead th {\n",
       "        text-align: right;\n",
       "    }\n",
       "</style>\n",
       "<table border=\"1\" class=\"dataframe\">\n",
       "  <thead>\n",
       "    <tr style=\"text-align: right;\">\n",
       "      <th>lag_lipper_class</th>\n",
       "      <th>EIEI</th>\n",
       "      <th>LCCE</th>\n",
       "      <th>LCGE</th>\n",
       "      <th>LCVE</th>\n",
       "      <th>MCCE</th>\n",
       "      <th>MCGE</th>\n",
       "      <th>MCVE</th>\n",
       "      <th>MLCE</th>\n",
       "      <th>MLGE</th>\n",
       "      <th>MLVE</th>\n",
       "      <th>SCCE</th>\n",
       "      <th>SCGE</th>\n",
       "      <th>SCVE</th>\n",
       "    </tr>\n",
       "    <tr>\n",
       "      <th>lipper_class</th>\n",
       "      <th></th>\n",
       "      <th></th>\n",
       "      <th></th>\n",
       "      <th></th>\n",
       "      <th></th>\n",
       "      <th></th>\n",
       "      <th></th>\n",
       "      <th></th>\n",
       "      <th></th>\n",
       "      <th></th>\n",
       "      <th></th>\n",
       "      <th></th>\n",
       "      <th></th>\n",
       "    </tr>\n",
       "  </thead>\n",
       "  <tbody>\n",
       "    <tr>\n",
       "      <th>EIEI</th>\n",
       "      <td>5.42</td>\n",
       "      <td>0.02</td>\n",
       "      <td>0.01</td>\n",
       "      <td>0.02</td>\n",
       "      <td>0.00</td>\n",
       "      <td>0.01</td>\n",
       "      <td>0.00</td>\n",
       "      <td>0.00</td>\n",
       "      <td>0.01</td>\n",
       "      <td>0.05</td>\n",
       "      <td>0.00</td>\n",
       "      <td>0.00</td>\n",
       "      <td>0.01</td>\n",
       "    </tr>\n",
       "    <tr>\n",
       "      <th>LCCE</th>\n",
       "      <td>0.02</td>\n",
       "      <td>12.57</td>\n",
       "      <td>0.25</td>\n",
       "      <td>0.32</td>\n",
       "      <td>0.00</td>\n",
       "      <td>0.00</td>\n",
       "      <td>0.00</td>\n",
       "      <td>0.44</td>\n",
       "      <td>0.08</td>\n",
       "      <td>0.06</td>\n",
       "      <td>0.00</td>\n",
       "      <td>0.00</td>\n",
       "      <td>0.00</td>\n",
       "    </tr>\n",
       "    <tr>\n",
       "      <th>LCGE</th>\n",
       "      <td>0.00</td>\n",
       "      <td>0.23</td>\n",
       "      <td>11.04</td>\n",
       "      <td>0.00</td>\n",
       "      <td>0.01</td>\n",
       "      <td>0.00</td>\n",
       "      <td>0.00</td>\n",
       "      <td>0.05</td>\n",
       "      <td>0.35</td>\n",
       "      <td>0.00</td>\n",
       "      <td>0.00</td>\n",
       "      <td>0.00</td>\n",
       "      <td>0.00</td>\n",
       "    </tr>\n",
       "    <tr>\n",
       "      <th>LCVE</th>\n",
       "      <td>0.05</td>\n",
       "      <td>0.46</td>\n",
       "      <td>0.01</td>\n",
       "      <td>6.33</td>\n",
       "      <td>0.00</td>\n",
       "      <td>0.00</td>\n",
       "      <td>0.00</td>\n",
       "      <td>0.08</td>\n",
       "      <td>0.01</td>\n",
       "      <td>0.22</td>\n",
       "      <td>0.00</td>\n",
       "      <td>0.00</td>\n",
       "      <td>0.00</td>\n",
       "    </tr>\n",
       "    <tr>\n",
       "      <th>MCCE</th>\n",
       "      <td>0.00</td>\n",
       "      <td>0.00</td>\n",
       "      <td>0.00</td>\n",
       "      <td>0.00</td>\n",
       "      <td>4.18</td>\n",
       "      <td>0.16</td>\n",
       "      <td>0.35</td>\n",
       "      <td>0.23</td>\n",
       "      <td>0.04</td>\n",
       "      <td>0.05</td>\n",
       "      <td>0.08</td>\n",
       "      <td>0.00</td>\n",
       "      <td>0.01</td>\n",
       "    </tr>\n",
       "    <tr>\n",
       "      <th>MCGE</th>\n",
       "      <td>0.00</td>\n",
       "      <td>0.00</td>\n",
       "      <td>0.00</td>\n",
       "      <td>0.00</td>\n",
       "      <td>0.22</td>\n",
       "      <td>6.56</td>\n",
       "      <td>0.00</td>\n",
       "      <td>0.01</td>\n",
       "      <td>0.26</td>\n",
       "      <td>0.00</td>\n",
       "      <td>0.01</td>\n",
       "      <td>0.10</td>\n",
       "      <td>0.00</td>\n",
       "    </tr>\n",
       "    <tr>\n",
       "      <th>MCVE</th>\n",
       "      <td>0.01</td>\n",
       "      <td>0.01</td>\n",
       "      <td>0.00</td>\n",
       "      <td>0.00</td>\n",
       "      <td>0.25</td>\n",
       "      <td>0.01</td>\n",
       "      <td>2.18</td>\n",
       "      <td>0.04</td>\n",
       "      <td>0.00</td>\n",
       "      <td>0.10</td>\n",
       "      <td>0.02</td>\n",
       "      <td>0.00</td>\n",
       "      <td>0.05</td>\n",
       "    </tr>\n",
       "    <tr>\n",
       "      <th>MLCE</th>\n",
       "      <td>0.01</td>\n",
       "      <td>0.47</td>\n",
       "      <td>0.09</td>\n",
       "      <td>0.07</td>\n",
       "      <td>0.21</td>\n",
       "      <td>0.04</td>\n",
       "      <td>0.05</td>\n",
       "      <td>9.77</td>\n",
       "      <td>0.32</td>\n",
       "      <td>0.29</td>\n",
       "      <td>0.00</td>\n",
       "      <td>0.00</td>\n",
       "      <td>0.00</td>\n",
       "    </tr>\n",
       "    <tr>\n",
       "      <th>MLGE</th>\n",
       "      <td>0.00</td>\n",
       "      <td>0.02</td>\n",
       "      <td>0.52</td>\n",
       "      <td>0.00</td>\n",
       "      <td>0.02</td>\n",
       "      <td>0.34</td>\n",
       "      <td>0.00</td>\n",
       "      <td>0.35</td>\n",
       "      <td>6.84</td>\n",
       "      <td>0.01</td>\n",
       "      <td>0.00</td>\n",
       "      <td>0.00</td>\n",
       "      <td>0.00</td>\n",
       "    </tr>\n",
       "    <tr>\n",
       "      <th>MLVE</th>\n",
       "      <td>0.00</td>\n",
       "      <td>0.03</td>\n",
       "      <td>0.00</td>\n",
       "      <td>0.33</td>\n",
       "      <td>0.04</td>\n",
       "      <td>0.00</td>\n",
       "      <td>0.10</td>\n",
       "      <td>0.26</td>\n",
       "      <td>0.01</td>\n",
       "      <td>3.67</td>\n",
       "      <td>0.00</td>\n",
       "      <td>0.00</td>\n",
       "      <td>0.00</td>\n",
       "    </tr>\n",
       "    <tr>\n",
       "      <th>SCCE</th>\n",
       "      <td>0.00</td>\n",
       "      <td>0.00</td>\n",
       "      <td>0.00</td>\n",
       "      <td>0.00</td>\n",
       "      <td>0.13</td>\n",
       "      <td>0.04</td>\n",
       "      <td>0.05</td>\n",
       "      <td>0.01</td>\n",
       "      <td>0.01</td>\n",
       "      <td>0.01</td>\n",
       "      <td>9.22</td>\n",
       "      <td>0.22</td>\n",
       "      <td>0.55</td>\n",
       "    </tr>\n",
       "    <tr>\n",
       "      <th>SCGE</th>\n",
       "      <td>0.00</td>\n",
       "      <td>0.00</td>\n",
       "      <td>0.00</td>\n",
       "      <td>0.00</td>\n",
       "      <td>0.00</td>\n",
       "      <td>0.10</td>\n",
       "      <td>0.00</td>\n",
       "      <td>0.01</td>\n",
       "      <td>0.01</td>\n",
       "      <td>0.00</td>\n",
       "      <td>0.27</td>\n",
       "      <td>8.07</td>\n",
       "      <td>0.00</td>\n",
       "    </tr>\n",
       "    <tr>\n",
       "      <th>SCVE</th>\n",
       "      <td>0.01</td>\n",
       "      <td>0.00</td>\n",
       "      <td>0.00</td>\n",
       "      <td>0.00</td>\n",
       "      <td>0.01</td>\n",
       "      <td>0.00</td>\n",
       "      <td>0.05</td>\n",
       "      <td>0.00</td>\n",
       "      <td>0.00</td>\n",
       "      <td>0.00</td>\n",
       "      <td>0.47</td>\n",
       "      <td>0.00</td>\n",
       "      <td>3.89</td>\n",
       "    </tr>\n",
       "  </tbody>\n",
       "</table>\n",
       "</div>"
      ],
      "text/plain": [
       "lag_lipper_class  EIEI   LCCE   LCGE  LCVE  MCCE  MCGE  MCVE  MLCE  MLGE  \\\n",
       "lipper_class                                                               \n",
       "EIEI              5.42   0.02   0.01  0.02  0.00  0.01  0.00  0.00  0.01   \n",
       "LCCE              0.02  12.57   0.25  0.32  0.00  0.00  0.00  0.44  0.08   \n",
       "LCGE              0.00   0.23  11.04  0.00  0.01  0.00  0.00  0.05  0.35   \n",
       "LCVE              0.05   0.46   0.01  6.33  0.00  0.00  0.00  0.08  0.01   \n",
       "MCCE              0.00   0.00   0.00  0.00  4.18  0.16  0.35  0.23  0.04   \n",
       "MCGE              0.00   0.00   0.00  0.00  0.22  6.56  0.00  0.01  0.26   \n",
       "MCVE              0.01   0.01   0.00  0.00  0.25  0.01  2.18  0.04  0.00   \n",
       "MLCE              0.01   0.47   0.09  0.07  0.21  0.04  0.05  9.77  0.32   \n",
       "MLGE              0.00   0.02   0.52  0.00  0.02  0.34  0.00  0.35  6.84   \n",
       "MLVE              0.00   0.03   0.00  0.33  0.04  0.00  0.10  0.26  0.01   \n",
       "SCCE              0.00   0.00   0.00  0.00  0.13  0.04  0.05  0.01  0.01   \n",
       "SCGE              0.00   0.00   0.00  0.00  0.00  0.10  0.00  0.01  0.01   \n",
       "SCVE              0.01   0.00   0.00  0.00  0.01  0.00  0.05  0.00  0.00   \n",
       "\n",
       "lag_lipper_class  MLVE  SCCE  SCGE  SCVE  \n",
       "lipper_class                              \n",
       "EIEI              0.05  0.00  0.00  0.01  \n",
       "LCCE              0.06  0.00  0.00  0.00  \n",
       "LCGE              0.00  0.00  0.00  0.00  \n",
       "LCVE              0.22  0.00  0.00  0.00  \n",
       "MCCE              0.05  0.08  0.00  0.01  \n",
       "MCGE              0.00  0.01  0.10  0.00  \n",
       "MCVE              0.10  0.02  0.00  0.05  \n",
       "MLCE              0.29  0.00  0.00  0.00  \n",
       "MLGE              0.01  0.00  0.00  0.00  \n",
       "MLVE              3.67  0.00  0.00  0.00  \n",
       "SCCE              0.01  9.22  0.22  0.55  \n",
       "SCGE              0.00  0.27  8.07  0.00  \n",
       "SCVE              0.00  0.47  0.00  3.89  "
      ]
     },
     "execution_count": 73,
     "metadata": {},
     "output_type": "execute_result"
    }
   ],
   "source": [
    "lagged_class = info_df[['crsp_portno','report_dt','lipper_class']]\n",
    "\n",
    "lagged_class = lagged_class.assign(lag_lipper_class = lagged_class.lipper_class.shift())\n",
    "lagged_class = lagged_class.dropna()\n",
    "\n",
    "mask = lagged_class.groupby(by = 'crsp_portno').head(1).index\n",
    "lagged_class = lagged_class[~lagged_class.index.isin(mask)]\n",
    "\n",
    "round(pd.crosstab(lagged_class.lipper_class, lagged_class.lag_lipper_class, normalize = 'all') * 100,2)"
   ]
  },
  {
   "cell_type": "code",
   "execution_count": 74,
   "metadata": {},
   "outputs": [
    {
     "data": {
      "text/html": [
       "<div>\n",
       "<style scoped>\n",
       "    .dataframe tbody tr th:only-of-type {\n",
       "        vertical-align: middle;\n",
       "    }\n",
       "\n",
       "    .dataframe tbody tr th {\n",
       "        vertical-align: top;\n",
       "    }\n",
       "\n",
       "    .dataframe thead th {\n",
       "        text-align: right;\n",
       "    }\n",
       "</style>\n",
       "<table border=\"1\" class=\"dataframe\">\n",
       "  <thead>\n",
       "    <tr style=\"text-align: right;\">\n",
       "      <th>lag_style_class</th>\n",
       "      <th>C</th>\n",
       "      <th>E</th>\n",
       "      <th>G</th>\n",
       "      <th>V</th>\n",
       "    </tr>\n",
       "    <tr>\n",
       "      <th>style_class</th>\n",
       "      <th></th>\n",
       "      <th></th>\n",
       "      <th></th>\n",
       "      <th></th>\n",
       "    </tr>\n",
       "  </thead>\n",
       "  <tbody>\n",
       "    <tr>\n",
       "      <th>C</th>\n",
       "      <td>6224</td>\n",
       "      <td>4</td>\n",
       "      <td>208</td>\n",
       "      <td>301</td>\n",
       "    </tr>\n",
       "    <tr>\n",
       "      <th>E</th>\n",
       "      <td>4</td>\n",
       "      <td>904</td>\n",
       "      <td>4</td>\n",
       "      <td>12</td>\n",
       "    </tr>\n",
       "    <tr>\n",
       "      <th>G</th>\n",
       "      <td>200</td>\n",
       "      <td>0</td>\n",
       "      <td>5707</td>\n",
       "      <td>2</td>\n",
       "    </tr>\n",
       "    <tr>\n",
       "      <th>V</th>\n",
       "      <td>278</td>\n",
       "      <td>11</td>\n",
       "      <td>6</td>\n",
       "      <td>2823</td>\n",
       "    </tr>\n",
       "  </tbody>\n",
       "</table>\n",
       "</div>"
      ],
      "text/plain": [
       "lag_style_class     C    E     G     V\n",
       "style_class                           \n",
       "C                6224    4   208   301\n",
       "E                   4  904     4    12\n",
       "G                 200    0  5707     2\n",
       "V                 278   11     6  2823"
      ]
     },
     "execution_count": 74,
     "metadata": {},
     "output_type": "execute_result"
    }
   ],
   "source": [
    "lagged_class = info_df[['crsp_portno','report_dt','style_class']]\n",
    "\n",
    "lagged_class = lagged_class.assign(lag_style_class = lagged_class.style_class.shift())\n",
    "lagged_class = lagged_class.dropna()\n",
    "\n",
    "mask = lagged_class.groupby(by = 'crsp_portno').head(1).index\n",
    "lagged_class = lagged_class[~lagged_class.index.isin(mask)]\n",
    "\n",
    "pd.crosstab(lagged_class.style_class, lagged_class.lag_style_class)"
   ]
  },
  {
   "cell_type": "code",
   "execution_count": 75,
   "metadata": {},
   "outputs": [
    {
     "data": {
      "text/html": [
       "<div>\n",
       "<style scoped>\n",
       "    .dataframe tbody tr th:only-of-type {\n",
       "        vertical-align: middle;\n",
       "    }\n",
       "\n",
       "    .dataframe tbody tr th {\n",
       "        vertical-align: top;\n",
       "    }\n",
       "\n",
       "    .dataframe thead th {\n",
       "        text-align: right;\n",
       "    }\n",
       "</style>\n",
       "<table border=\"1\" class=\"dataframe\">\n",
       "  <thead>\n",
       "    <tr style=\"text-align: right;\">\n",
       "      <th>lag_cap_class</th>\n",
       "      <th>E</th>\n",
       "      <th>L</th>\n",
       "      <th>M</th>\n",
       "      <th>S</th>\n",
       "      <th>All</th>\n",
       "    </tr>\n",
       "    <tr>\n",
       "      <th>cap_class</th>\n",
       "      <th></th>\n",
       "      <th></th>\n",
       "      <th></th>\n",
       "      <th></th>\n",
       "      <th></th>\n",
       "    </tr>\n",
       "  </thead>\n",
       "  <tbody>\n",
       "    <tr>\n",
       "      <th>E</th>\n",
       "      <td>5.42</td>\n",
       "      <td>0.05</td>\n",
       "      <td>0.06</td>\n",
       "      <td>0.01</td>\n",
       "      <td>5.54</td>\n",
       "    </tr>\n",
       "    <tr>\n",
       "      <th>L</th>\n",
       "      <td>0.07</td>\n",
       "      <td>31.21</td>\n",
       "      <td>1.30</td>\n",
       "      <td>0.00</td>\n",
       "      <td>32.58</td>\n",
       "    </tr>\n",
       "    <tr>\n",
       "      <th>M</th>\n",
       "      <td>0.01</td>\n",
       "      <td>1.53</td>\n",
       "      <td>36.96</td>\n",
       "      <td>0.26</td>\n",
       "      <td>38.76</td>\n",
       "    </tr>\n",
       "    <tr>\n",
       "      <th>S</th>\n",
       "      <td>0.01</td>\n",
       "      <td>0.00</td>\n",
       "      <td>0.43</td>\n",
       "      <td>22.68</td>\n",
       "      <td>23.12</td>\n",
       "    </tr>\n",
       "    <tr>\n",
       "      <th>All</th>\n",
       "      <td>5.51</td>\n",
       "      <td>32.80</td>\n",
       "      <td>38.75</td>\n",
       "      <td>22.94</td>\n",
       "      <td>100.00</td>\n",
       "    </tr>\n",
       "  </tbody>\n",
       "</table>\n",
       "</div>"
      ],
      "text/plain": [
       "lag_cap_class     E      L      M      S     All\n",
       "cap_class                                       \n",
       "E              5.42   0.05   0.06   0.01    5.54\n",
       "L              0.07  31.21   1.30   0.00   32.58\n",
       "M              0.01   1.53  36.96   0.26   38.76\n",
       "S              0.01   0.00   0.43  22.68   23.12\n",
       "All            5.51  32.80  38.75  22.94  100.00"
      ]
     },
     "execution_count": 75,
     "metadata": {},
     "output_type": "execute_result"
    }
   ],
   "source": [
    "lagged_class = info_df[['crsp_portno','report_dt','cap_class']]\n",
    "\n",
    "lagged_class = lagged_class.assign(lag_cap_class = lagged_class.cap_class.shift())\n",
    "lagged_class = lagged_class.dropna()\n",
    "\n",
    "mask = lagged_class.groupby(by = 'crsp_portno').head(1).index\n",
    "lagged_class = lagged_class[~lagged_class.index.isin(mask)]\n",
    "\n",
    "round(pd.crosstab(lagged_class.cap_class, lagged_class.lag_cap_class, margins = True, normalize= 'all') *100,2)"
   ]
  },
  {
   "cell_type": "code",
   "execution_count": 76,
   "metadata": {},
   "outputs": [
    {
     "data": {
      "text/html": [
       "<div>\n",
       "<style scoped>\n",
       "    .dataframe tbody tr th:only-of-type {\n",
       "        vertical-align: middle;\n",
       "    }\n",
       "\n",
       "    .dataframe tbody tr th {\n",
       "        vertical-align: top;\n",
       "    }\n",
       "\n",
       "    .dataframe thead th {\n",
       "        text-align: right;\n",
       "    }\n",
       "</style>\n",
       "<table border=\"1\" class=\"dataframe\">\n",
       "  <thead>\n",
       "    <tr style=\"text-align: right;\">\n",
       "      <th>lag_cap_class</th>\n",
       "      <th>E</th>\n",
       "      <th>L</th>\n",
       "      <th>M</th>\n",
       "      <th>S</th>\n",
       "      <th>All</th>\n",
       "    </tr>\n",
       "    <tr>\n",
       "      <th>cap_class</th>\n",
       "      <th></th>\n",
       "      <th></th>\n",
       "      <th></th>\n",
       "      <th></th>\n",
       "      <th></th>\n",
       "    </tr>\n",
       "  </thead>\n",
       "  <tbody>\n",
       "    <tr>\n",
       "      <th>E</th>\n",
       "      <td>904</td>\n",
       "      <td>9</td>\n",
       "      <td>10</td>\n",
       "      <td>1</td>\n",
       "      <td>924</td>\n",
       "    </tr>\n",
       "    <tr>\n",
       "      <th>L</th>\n",
       "      <td>12</td>\n",
       "      <td>5208</td>\n",
       "      <td>217</td>\n",
       "      <td>0</td>\n",
       "      <td>5437</td>\n",
       "    </tr>\n",
       "    <tr>\n",
       "      <th>M</th>\n",
       "      <td>2</td>\n",
       "      <td>256</td>\n",
       "      <td>6168</td>\n",
       "      <td>43</td>\n",
       "      <td>6469</td>\n",
       "    </tr>\n",
       "    <tr>\n",
       "      <th>S</th>\n",
       "      <td>1</td>\n",
       "      <td>0</td>\n",
       "      <td>72</td>\n",
       "      <td>3785</td>\n",
       "      <td>3858</td>\n",
       "    </tr>\n",
       "    <tr>\n",
       "      <th>All</th>\n",
       "      <td>919</td>\n",
       "      <td>5473</td>\n",
       "      <td>6467</td>\n",
       "      <td>3829</td>\n",
       "      <td>16688</td>\n",
       "    </tr>\n",
       "  </tbody>\n",
       "</table>\n",
       "</div>"
      ],
      "text/plain": [
       "lag_cap_class    E     L     M     S    All\n",
       "cap_class                                  \n",
       "E              904     9    10     1    924\n",
       "L               12  5208   217     0   5437\n",
       "M                2   256  6168    43   6469\n",
       "S                1     0    72  3785   3858\n",
       "All            919  5473  6467  3829  16688"
      ]
     },
     "execution_count": 76,
     "metadata": {},
     "output_type": "execute_result"
    }
   ],
   "source": [
    "pd.crosstab(lagged_class.cap_class, lagged_class.lag_cap_class, margins = True)"
   ]
  },
  {
   "cell_type": "markdown",
   "metadata": {},
   "source": [
    "### Fund names"
   ]
  },
  {
   "cell_type": "code",
   "execution_count": 77,
   "metadata": {},
   "outputs": [
    {
     "data": {
      "text/plain": [
       "array(['AIM Counselor Series Trust (Invesco Counselor Series Trust): Invesco Equity & Income Fund; Class A Shares',\n",
       "       'JPMorgan Trust II: JPMorgan Diversified Mid Cap Value Fund; Class A Shares',\n",
       "       'JPMorgan Trust II: JPMorgan Diversified Mid Cap Growth Fund; Ultra Shares',\n",
       "       ...,\n",
       "       'Forum Funds II: Acuitas US Microcap Fund; Institutional Class Shares',\n",
       "       'Dreyfus Opportunity Funds: Dreyfus Strategic Beta US Equity Fund; Class A Shares',\n",
       "       'Northern Lights Fund Trust III: HCM Tactical Growth Fund; Class A Shares'],\n",
       "      dtype=object)"
      ]
     },
     "execution_count": 77,
     "metadata": {},
     "output_type": "execute_result"
    }
   ],
   "source": [
    "info_df['fund_name'].unique()"
   ]
  },
  {
   "cell_type": "code",
   "execution_count": 78,
   "metadata": {},
   "outputs": [
    {
     "data": {
      "text/plain": [
       "array(['T Rowe Price Institutional Equity Funds, Inc: T Rowe Price Institutional Large-Cap Core Growth Fund',\n",
       "       'T Rowe Price Institutional Equity Funds, Inc: T Rowe Price Institutional Large-Cap Core Growth Fund',\n",
       "       'T Rowe Price Institutional Equity Funds, Inc: T Rowe Price Institutional Large-Cap Core Growth Fund',\n",
       "       'T Rowe Price Institutional Equity Funds, Inc: T Rowe Price Institutional Large-Cap Core Growth Fund',\n",
       "       'T Rowe Price Institutional Equity Funds, Inc: T Rowe Price Institutional Large-Cap Core Growth Fund',\n",
       "       'T Rowe Price Institutional Equity Funds, Inc: T Rowe Price Institutional Large-Cap Core Growth Fund',\n",
       "       'T Rowe Price Institutional Equity Funds, Inc: T Rowe Price Institutional Large-Cap Core Growth Fund',\n",
       "       'T Rowe Price Institutional Equity Funds, Inc: T Rowe Price Institutional Large-Cap Core Growth Fund'],\n",
       "      dtype=object)"
      ]
     },
     "execution_count": 78,
     "metadata": {},
     "output_type": "execute_result"
    }
   ],
   "source": [
    "info_df.loc[info_df['fund_name'].astype(str).str.contains('T Rowe Price Institutional Large-Cap Core Growth Fund'),'fund_name'].values"
   ]
  }
 ],
 "metadata": {
  "kernelspec": {
   "display_name": "MT",
   "language": "python",
   "name": "mt"
  },
  "language_info": {
   "codemirror_mode": {
    "name": "ipython",
    "version": 3
   },
   "file_extension": ".py",
   "mimetype": "text/x-python",
   "name": "python",
   "nbconvert_exporter": "python",
   "pygments_lexer": "ipython3",
   "version": "3.7.4"
  },
  "pycharm": {
   "stem_cell": {
    "cell_type": "raw",
    "metadata": {
     "collapsed": false
    },
    "source": []
   }
  }
 },
 "nbformat": 4,
 "nbformat_minor": 2
}
