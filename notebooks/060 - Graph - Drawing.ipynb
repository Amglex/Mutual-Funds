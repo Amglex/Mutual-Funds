{
 "cells": [
  {
   "cell_type": "markdown",
   "metadata": {
    "toc": true
   },
   "source": [
    "<h1>Table of Contents<span class=\"tocSkip\"></span></h1>\n",
    "<div class=\"toc\"><ul class=\"toc-item\"><li><span><a href=\"#Description\" data-toc-modified-id=\"Description-1\"><span class=\"toc-item-num\">1&nbsp;&nbsp;</span>Description</a></span></li><li><span><a href=\"#Setup\" data-toc-modified-id=\"Setup-2\"><span class=\"toc-item-num\">2&nbsp;&nbsp;</span>Setup</a></span></li><li><span><a href=\"#Graph\" data-toc-modified-id=\"Graph-3\"><span class=\"toc-item-num\">3&nbsp;&nbsp;</span>Graph</a></span></li><li><span><a href=\"#Other-functions\" data-toc-modified-id=\"Other-functions-4\"><span class=\"toc-item-num\">4&nbsp;&nbsp;</span>Other functions</a></span></li><li><span><a href=\"#Analysis-of-distance-measure\" data-toc-modified-id=\"Analysis-of-distance-measure-5\"><span class=\"toc-item-num\">5&nbsp;&nbsp;</span>Analysis of distance measure</a></span></li></ul></div>"
   ]
  },
  {
   "cell_type": "markdown",
   "metadata": {},
   "source": [
    "# Clustering "
   ]
  },
  {
   "cell_type": "markdown",
   "metadata": {},
   "source": [
    "## Description"
   ]
  },
  {
   "cell_type": "markdown",
   "metadata": {},
   "source": [
    "- Cluster funds using Spektral Clustering"
   ]
  },
  {
   "cell_type": "markdown",
   "metadata": {},
   "source": [
    "## Setup"
   ]
  },
  {
   "cell_type": "code",
   "execution_count": null,
   "metadata": {
    "pycharm": {
     "is_executing": false
    }
   },
   "outputs": [],
   "source": [
    "import feather\n",
    "import pickle\n",
    "import numpy as np\n",
    "import pandas as pd\n",
    "import seaborn as sns\n",
    "from scipy import sparse\n",
    "\n",
    "import matplotlib.pyplot as plt\n",
    "import matplotlib.cm as cm\n",
    "\n",
    "from sklearn.preprocessing import normalize, LabelEncoder\n",
    "from sklearn.neighbors import kneighbors_graph\n",
    "\n",
    "from graph_tool.all import *\n",
    "import cairo"
   ]
  },
  {
   "cell_type": "code",
   "execution_count": null,
   "metadata": {},
   "outputs": [],
   "source": [
    "path = '../data/processed/full.pickle'\n",
    "pickle_off = open(path,\"rb\")\n",
    "dict_all_years = pickle.load(pickle_off)\n",
    "\n",
    "holdings_ft = dict_all_years[2018]['holdings_ft']"
   ]
  },
  {
   "cell_type": "markdown",
   "metadata": {},
   "source": [
    "## Graph"
   ]
  },
  {
   "cell_type": "code",
   "execution_count": null,
   "metadata": {},
   "outputs": [],
   "source": [
    "## Options\n",
    "\n",
    "# TODO adjust colour and shapes\n",
    "\n",
    "def setup_graph(year = 2018,n_neighbors = 15):\n",
    "    \n",
    "    holdings_ft = dict_all_years[year]['holdings_ft']\n",
    "    row_info_f = dict_all_years[year]['row_info_f']\n",
    "    \n",
    "    graph_data = kneighbors_graph(holdings_ft, \n",
    "                                  n_neighbors = n_neighbors,\n",
    "                                  mode = 'distance',\n",
    "                                  p = 2)\n",
    "    distance = graph_data.data\n",
    "    vertex_n = graph_data.shape[0]\n",
    "    x, y = graph_data.nonzero()\n",
    "\n",
    "    g = Graph(directed=False)\n",
    "    g.add_vertex(vertex_n)\n",
    "\n",
    "    for s , t in zip(x,y):\n",
    "        g.add_edge(g.vertex(s), g.vertex(t))\n",
    "\n",
    "    e_distance = g.new_edge_property('double', vals = distance)\n",
    "    #e_distance = prop_to_size(e_distance, mi=1, ma=100, log=False, power=0.5)\n",
    "    \n",
    "    pos = sfdp_layout(g, eweight = e_distance)\n",
    "    \n",
    "    return(g, pos, row_info_f)\n",
    "\n",
    "def draw_graph(g, pos, row_info_f, dimension, output):\n",
    "    \n",
    "    le = LabelEncoder()\n",
    "    row_info_f.loc[:,'f_encoded'] = le.fit_transform(row_info_f[dimension])\n",
    "    cluster_text  = row_info_f[dimension]\n",
    "    cluster_fill  = row_info_f['f_encoded']\n",
    "    \n",
    "    v_fill  = g.new_vertex_property('int', vals = cluster_fill.values)\n",
    "    v_text  = g.new_vertex_property('string', vals = cluster_text.values)\n",
    "    \n",
    "    graph_draw(\n",
    "    g,\n",
    "    inline = True,\n",
    "    output = output,\n",
    "    output_size=(2500, 2500),\n",
    "    # bg_color = 'white',\n",
    "    vprops={\n",
    "        'size': 60,\n",
    "        'color': 'black',\n",
    "        'fill_color': v_fill,\n",
    "        'text': v_text,\n",
    "        'text_color': 'white',\n",
    "        'font_size' : 25,\n",
    "        'font_weight': cairo.FONT_WEIGHT_BOLD,\n",
    "    },\n",
    "    eprops={\n",
    "        'pen_width': 0.2,\n",
    "        'color': 'grey'\n",
    "    })"
   ]
  },
  {
   "cell_type": "code",
   "execution_count": null,
   "metadata": {},
   "outputs": [],
   "source": [
    "g, pos, row_info_f = setup_graph(year=2018, n_neighbors=15)\n",
    "\n",
    "draw_graph(g, pos, row_info_f,\n",
    "           dimension='cap_class',\n",
    "           output='../reports/figures/graph/cap.png')\n",
    "\n",
    "draw_graph(g, pos, row_info_f,\n",
    "           dimension='style_class',\n",
    "           output='../reports/figures/graph/style.png')"
   ]
  },
  {
   "cell_type": "markdown",
   "metadata": {},
   "source": [
    "## Other functions"
   ]
  },
  {
   "cell_type": "code",
   "execution_count": null,
   "metadata": {},
   "outputs": [],
   "source": [
    "holdings_ft"
   ]
  },
  {
   "cell_type": "code",
   "execution_count": null,
   "metadata": {},
   "outputs": [],
   "source": [
    "holdings_ft.eliminate_zeros()\n",
    "holdings_ft"
   ]
  },
  {
   "cell_type": "markdown",
   "metadata": {},
   "source": [
    "## Analysis of distance measure"
   ]
  },
  {
   "cell_type": "code",
   "execution_count": null,
   "metadata": {},
   "outputs": [],
   "source": [
    "holdings_ft = dict_all_years[2018]['holdings_ft']\n",
    "row_info_f = dict_all_years[2018]['row_info_f']\n",
    "col_info_f = dict_all_years[2018]['col_info_f']\n",
    "\n",
    "graph_data = kneighbors_graph(holdings_ft, \n",
    "                              n_neighbors = 1979,\n",
    "                              mode = 'distance',\n",
    "                              p = 2,\n",
    "                             )\n",
    "distance = graph_data.data"
   ]
  },
  {
   "cell_type": "code",
   "execution_count": null,
   "metadata": {},
   "outputs": [],
   "source": [
    "graph_data_a = graph_data.toarray()"
   ]
  },
  {
   "cell_type": "code",
   "execution_count": null,
   "metadata": {},
   "outputs": [],
   "source": [
    "mymax = graph_data_a.max(axis = 1)\n",
    "mymax"
   ]
  },
  {
   "cell_type": "code",
   "execution_count": null,
   "metadata": {},
   "outputs": [],
   "source": [
    "mymax = graph_data_a.min(axis = 1)\n",
    "mymax"
   ]
  },
  {
   "cell_type": "code",
   "execution_count": null,
   "metadata": {},
   "outputs": [],
   "source": [
    "np.arange(0,1.4,0.1)"
   ]
  },
  {
   "cell_type": "code",
   "execution_count": null,
   "metadata": {},
   "outputs": [],
   "source": [
    "print(9.36000e+02)"
   ]
  },
  {
   "cell_type": "code",
   "execution_count": null,
   "metadata": {},
   "outputs": [],
   "source": [
    "plt.hist(distance, bins = np.arange(0.01,1.4,0.1))"
   ]
  },
  {
   "cell_type": "code",
   "execution_count": null,
   "metadata": {},
   "outputs": [],
   "source": [
    "row_info_f.iloc[6]"
   ]
  },
  {
   "cell_type": "code",
   "execution_count": null,
   "metadata": {},
   "outputs": [],
   "source": [
    "dict_all_years[2018]['row_info_f']['tna_latest'].sum()"
   ]
  },
  {
   "cell_type": "code",
   "execution_count": null,
   "metadata": {},
   "outputs": [],
   "source": [
    "k = 1000\n",
    "plt.plot(graph_data[k].toarray().T)"
   ]
  },
  {
   "cell_type": "code",
   "execution_count": null,
   "metadata": {},
   "outputs": [],
   "source": [
    "x = pd.DataFrame(graph_data[k].toarray().T).sort_values(by=0, ascending = True).head(5).index\n",
    "pd.DataFrame(graph_data[k].toarray().T).sort_values(by=0, ascending = True).head(5)"
   ]
  },
  {
   "cell_type": "code",
   "execution_count": null,
   "metadata": {},
   "outputs": [],
   "source": [
    "for i in x:\n",
    "    print(i)\n",
    "    print(row_info_f.iloc[i].fund_name)\n",
    "    print(holdings_ft[i,:].nonzero()[1])\n",
    "    print(holdings_ft[i,holdings_ft[i].nonzero()[1]])"
   ]
  },
  {
   "cell_type": "code",
   "execution_count": null,
   "metadata": {},
   "outputs": [],
   "source": [
    "holdings_ft_a = pd.DataFrame(holdings_ft.toarray())"
   ]
  },
  {
   "cell_type": "code",
   "execution_count": null,
   "metadata": {},
   "outputs": [],
   "source": [
    "holdings_ft"
   ]
  },
  {
   "cell_type": "code",
   "execution_count": null,
   "metadata": {},
   "outputs": [],
   "source": [
    "holdings_ft_a.drop_duplicates().shape"
   ]
  },
  {
   "cell_type": "code",
   "execution_count": null,
   "metadata": {},
   "outputs": [],
   "source": []
  },
  {
   "cell_type": "code",
   "execution_count": null,
   "metadata": {},
   "outputs": [],
   "source": [
    "plt.plot(pd.DataFrame(graph_data[8].toarray().T).sort_values(by=0).reset_index(drop=True))\n"
   ]
  },
  {
   "cell_type": "code",
   "execution_count": null,
   "metadata": {},
   "outputs": [],
   "source": []
  },
  {
   "cell_type": "code",
   "execution_count": null,
   "metadata": {},
   "outputs": [],
   "source": []
  },
  {
   "cell_type": "code",
   "execution_count": null,
   "metadata": {},
   "outputs": [],
   "source": []
  },
  {
   "cell_type": "code",
   "execution_count": null,
   "metadata": {},
   "outputs": [],
   "source": []
  },
  {
   "cell_type": "code",
   "execution_count": null,
   "metadata": {},
   "outputs": [],
   "source": []
  },
  {
   "cell_type": "code",
   "execution_count": null,
   "metadata": {},
   "outputs": [],
   "source": []
  }
 ],
 "metadata": {
  "hide_input": false,
  "kernelspec": {
   "display_name": "MT",
   "language": "python",
   "name": "mt"
  },
  "language_info": {
   "codemirror_mode": {
    "name": "ipython",
    "version": 3
   },
   "file_extension": ".py",
   "mimetype": "text/x-python",
   "name": "python",
   "nbconvert_exporter": "python",
   "pygments_lexer": "ipython3",
   "version": "3.7.4"
  },
  "notify_time": "0",
  "pycharm": {
   "stem_cell": {
    "cell_type": "raw",
    "metadata": {
     "collapsed": false
    },
    "source": []
   }
  },
  "toc": {
   "base_numbering": 1,
   "nav_menu": {},
   "number_sections": true,
   "sideBar": true,
   "skip_h1_title": true,
   "title_cell": "Table of Contents",
   "title_sidebar": "Contents",
   "toc_cell": true,
   "toc_position": {
    "height": "calc(100% - 180px)",
    "left": "10px",
    "top": "150px",
    "width": "165px"
   },
   "toc_section_display": true,
   "toc_window_display": true
  }
 },
 "nbformat": 4,
 "nbformat_minor": 2
}
