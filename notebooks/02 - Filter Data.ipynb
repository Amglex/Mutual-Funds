{
 "cells": [
  {
   "cell_type": "markdown",
   "metadata": {},
   "source": [
    "## Description"
   ]
  },
  {
   "cell_type": "markdown",
   "metadata": {},
   "source": [
    "Description:\n",
    "\n",
    "Filter the three main data sources (Fund Info, Returns and Holdings)\n",
    "based on some parameters and save the result.\n",
    "\n",
    "Approach:\n",
    "1. Match fund summary to each portfolio/date pair\n",
    "2. Filter fund/date pairs based on those infos\n",
    "3. Filter returns based on final sample of holdings\n",
    "\n",
    "Parameters: \n",
    "- Obj_codes\n",
    "- Percentage\n",
    "- Flags"
   ]
  },
  {
   "cell_type": "code",
   "execution_count": 1,
   "metadata": {},
   "outputs": [],
   "source": [
    "%matplotlib inline\n",
    "\n",
    "import os\n",
    "import sys\n",
    "\n",
    "# add the 'src' directory as one where we can import modules\n",
    "src_dir = os.path.join(os.getcwd(), os.pardir, 'src')\n",
    "sys.path.append(src_dir)\n",
    "from data.basic_functions import * \n",
    "\n",
    "import numpy as np\n",
    "import pandas as pd\n",
    "\n",
    "from scipy import sparse\n",
    "\n",
    "import matplotlib.pyplot as plt\n",
    "\n",
    "import datetime\n",
    "\n",
    "# For multiprocessing\n",
    "import multiprocessing\n",
    "from itertools import product"
   ]
  },
  {
   "cell_type": "markdown",
   "metadata": {},
   "source": [
    "### Load the data files"
   ]
  },
  {
   "cell_type": "code",
   "execution_count": 2,
   "metadata": {},
   "outputs": [
    {
     "data": {
      "text/plain": [
       "(167176, 8)"
      ]
     },
     "execution_count": 2,
     "metadata": {},
     "output_type": "execute_result"
    }
   ],
   "source": [
    "data_path = '../data/raw/'\n",
    "\n",
    "returns = load_data(data_path,'monthly_returns')\n",
    "summary = load_data(data_path,'total_summary_new') # Wo kommt das her ???\n",
    "summary.shape"
   ]
  },
  {
   "cell_type": "code",
   "execution_count": 3,
   "metadata": {},
   "outputs": [
    {
     "data": {
      "text/plain": [
       "(733743, 2382968)"
      ]
     },
     "execution_count": 3,
     "metadata": {},
     "output_type": "execute_result"
    }
   ],
   "source": [
    "npz_path = '../data/interim/sparse_matrix_t.npz'\n",
    "holdings = sparse.load_npz(npz_path)\n",
    "holdings.shape"
   ]
  },
  {
   "cell_type": "code",
   "execution_count": 4,
   "metadata": {
    "scrolled": true
   },
   "outputs": [
    {
     "data": {
      "text/plain": [
       "(733743, 2)"
      ]
     },
     "execution_count": 4,
     "metadata": {},
     "output_type": "execute_result"
    }
   ],
   "source": [
    "data_path = '../data/interim/'\n",
    "holdings_summary = load_data(data_path,'sparse_info_t')\n",
    "holdings_summary.shape"
   ]
  },
  {
   "cell_type": "code",
   "execution_count": 5,
   "metadata": {
    "scrolled": true
   },
   "outputs": [],
   "source": [
    "path = '../data/raw/portno_map.feather'\n",
    "portno_map = feather.read_dataframe(path)"
   ]
  },
  {
   "cell_type": "markdown",
   "metadata": {},
   "source": [
    "## Drop duplicates in summary data\n",
    "\n",
    "To increase speed of matching obj_codes and other fund info to portfolios"
   ]
  },
  {
   "cell_type": "code",
   "execution_count": 6,
   "metadata": {},
   "outputs": [
    {
     "name": "stdout",
     "output_type": "stream",
     "text": [
      "Shape of summary before cleaning is: 167,176 / 8\n"
     ]
    }
   ],
   "source": [
    "print('Shape of summary before cleaning is: {:,} / {:,}'.format(summary.shape[0],summary.shape[1]))"
   ]
  },
  {
   "cell_type": "code",
   "execution_count": 7,
   "metadata": {},
   "outputs": [],
   "source": [
    "# Delet not nas\n",
    "summary_clean = summary[summary['crsp_portno'].notna()]\n",
    "\n",
    "# Drop duplicates based on all but two columns\n",
    "summary_clean = summary_clean.drop_duplicates(summary_clean.columns.difference(['crsp_fundno','fund_name']))\n",
    "\n",
    "summary_clean.loc[:,'crsp_fundno'] = pd.to_numeric(summary_clean.loc[:,'crsp_fundno'], downcast='integer')\n",
    "summary_clean.loc[:,'crsp_portno'] = pd.to_numeric(summary_clean.loc[:,'crsp_portno'], downcast='integer')"
   ]
  },
  {
   "cell_type": "code",
   "execution_count": 8,
   "metadata": {},
   "outputs": [
    {
     "name": "stdout",
     "output_type": "stream",
     "text": [
      "Shape of summary data after cleaning: 96,077 / 8\n"
     ]
    }
   ],
   "source": [
    "print('Shape of summary data after cleaning: {:,} / {:,}'.format(summary_clean.shape[0],summary_clean.shape[1]))"
   ]
  },
  {
   "cell_type": "markdown",
   "metadata": {},
   "source": [
    "# Match obj code to portfolios\n",
    "\n",
    "TODO: \n",
    "\n",
    "Fund info flags like the index_fund_flag could in theory also be different in the fund_history\n",
    "\n",
    "Therefore a similar approach should also be used for those items\n",
    "\n",
    "In general portno fundno map also beginning and end times"
   ]
  },
  {
   "cell_type": "code",
   "execution_count": 44,
   "metadata": {},
   "outputs": [],
   "source": [
    "def port_ID_to_port_info(fund_info):  \n",
    "            \"\"\"\n",
    "            Used to merge the right obj_code and other fund info \n",
    "            to each holdings_info row and therefore to each row of the sparse holdings matrix\n",
    "            \n",
    "            Input:\n",
    "            - fund_info: Tuple consisting of the port_no (1st element) and the report_dt (2nd)\n",
    "            \n",
    "            Output:\n",
    "            - Tuple of port_no, report_dt, index_fund_flag, et_flag and crsp_obj_cd. \n",
    "                NaN if value is not available\n",
    "            \n",
    "            Attention:\n",
    "            Depends on global variable summary to look up the values\n",
    "            Must be renamed or changed in the function\n",
    "            \"\"\"\n",
    "            port_no = fund_info[0]\n",
    "            report_dt = fund_info[1].date() # Implement in large csv file\n",
    "            mask = summary['crsp_portno'].values == port_no\n",
    "            my_class = summary.loc[mask]\n",
    "\n",
    "            my_class_n = my_class.loc[\n",
    "                (my_class.begdt <= report_dt) & \n",
    "                (my_class.enddt >= report_dt)]\n",
    "            \n",
    "            try:\n",
    "                crsp_obj_cd = my_class_n['crsp_obj_cd'].values[0]\n",
    "                index_fund_flag = my_class_n['index_fund_flag'].values[0]\n",
    "                et_flag = my_class_n['et_flag'].values[0]\n",
    "\n",
    "            except:\n",
    "                crsp_obj_cd = np.nan\n",
    "                index_fund_flag = np.nan\n",
    "                et_flag = np.nan\n",
    "                \n",
    "            return(port_no, report_dt, index_fund_flag, et_flag, crsp_obj_cd)        "
   ]
  },
  {
   "cell_type": "markdown",
   "metadata": {},
   "source": [
    "### Multiprocessing"
   ]
  },
  {
   "cell_type": "code",
   "execution_count": 39,
   "metadata": {},
   "outputs": [],
   "source": [
    "a = holdings_summary['port_no']\n",
    "b = holdings_summary['date']\n",
    "\n",
    "fund_info = list(zip(a,b))"
   ]
  },
  {
   "cell_type": "code",
   "execution_count": 57,
   "metadata": {},
   "outputs": [
    {
     "data": {
      "text/plain": [
       "733743"
      ]
     },
     "execution_count": 57,
     "metadata": {},
     "output_type": "execute_result"
    }
   ],
   "source": [
    "len(fund_info)"
   ]
  },
  {
   "cell_type": "code",
   "execution_count": 55,
   "metadata": {},
   "outputs": [
    {
     "name": "stdout",
     "output_type": "stream",
     "text": [
      "CPU times: user 369 ms, sys: 100 ms, total: 469 ms\n",
      "Wall time: 54.5 s\n"
     ]
    }
   ],
   "source": [
    "%%time\n",
    "with multiprocessing.Pool(processes=8) as pool:\n",
    "    results = pool.map(port_ID_to_port_info, fund_info)"
   ]
  },
  {
   "cell_type": "code",
   "execution_count": 58,
   "metadata": {},
   "outputs": [
    {
     "data": {
      "text/plain": [
       "(100000, 5)"
      ]
     },
     "execution_count": 58,
     "metadata": {},
     "output_type": "execute_result"
    }
   ],
   "source": [
    "labels = ['port_no','report_dt','index_fund_flag','et_flag','crsp_obj_cd']\n",
    "holdings_summary = pd.DataFrame.from_records(results, columns=labels)\n",
    "\n",
    "holdings_summary.shape"
   ]
  },
  {
   "cell_type": "code",
   "execution_count": 59,
   "metadata": {
    "scrolled": true
   },
   "outputs": [
    {
     "data": {
      "text/plain": [
       "(83466, 5)"
      ]
     },
     "execution_count": 59,
     "metadata": {},
     "output_type": "execute_result"
    }
   ],
   "source": [
    "holdings_summary[holdings_summary['crsp_obj_cd'].isna()].shape # -> For some portfolios there is simly no row in fund_header"
   ]
  },
  {
   "cell_type": "markdown",
   "metadata": {},
   "source": [
    "### Out of the roughly 730k portfolios, for 129k there is no fund header info available"
   ]
  },
  {
   "cell_type": "code",
   "execution_count": 65,
   "metadata": {},
   "outputs": [
    {
     "data": {
      "text/html": [
       "<div>\n",
       "<style scoped>\n",
       "    .dataframe tbody tr th:only-of-type {\n",
       "        vertical-align: middle;\n",
       "    }\n",
       "\n",
       "    .dataframe tbody tr th {\n",
       "        vertical-align: top;\n",
       "    }\n",
       "\n",
       "    .dataframe thead th {\n",
       "        text-align: right;\n",
       "    }\n",
       "</style>\n",
       "<table border=\"1\" class=\"dataframe\">\n",
       "  <thead>\n",
       "    <tr style=\"text-align: right;\">\n",
       "      <th></th>\n",
       "      <th>port_no</th>\n",
       "      <th>report_dt</th>\n",
       "      <th>index_fund_flag</th>\n",
       "      <th>et_flag</th>\n",
       "      <th>crsp_obj_cd</th>\n",
       "    </tr>\n",
       "  </thead>\n",
       "  <tbody>\n",
       "    <tr>\n",
       "      <th>51130</th>\n",
       "      <td>1001777</td>\n",
       "      <td>2008-09-30</td>\n",
       "      <td>NaN</td>\n",
       "      <td>NaN</td>\n",
       "      <td>NaN</td>\n",
       "    </tr>\n",
       "    <tr>\n",
       "      <th>81822</th>\n",
       "      <td>1003326</td>\n",
       "      <td>2006-10-31</td>\n",
       "      <td>None</td>\n",
       "      <td>None</td>\n",
       "      <td>EDCS</td>\n",
       "    </tr>\n",
       "    <tr>\n",
       "      <th>38782</th>\n",
       "      <td>1001325</td>\n",
       "      <td>2005-09-30</td>\n",
       "      <td>NaN</td>\n",
       "      <td>NaN</td>\n",
       "      <td>NaN</td>\n",
       "    </tr>\n",
       "    <tr>\n",
       "      <th>12307</th>\n",
       "      <td>1000399</td>\n",
       "      <td>2008-10-31</td>\n",
       "      <td>NaN</td>\n",
       "      <td>NaN</td>\n",
       "      <td>NaN</td>\n",
       "    </tr>\n",
       "    <tr>\n",
       "      <th>31330</th>\n",
       "      <td>1001054</td>\n",
       "      <td>2010-02-27</td>\n",
       "      <td>NaN</td>\n",
       "      <td>NaN</td>\n",
       "      <td>NaN</td>\n",
       "    </tr>\n",
       "    <tr>\n",
       "      <th>1722</th>\n",
       "      <td>1000052</td>\n",
       "      <td>2007-12-31</td>\n",
       "      <td>None</td>\n",
       "      <td>None</td>\n",
       "      <td>EDYB</td>\n",
       "    </tr>\n",
       "    <tr>\n",
       "      <th>99648</th>\n",
       "      <td>1004670</td>\n",
       "      <td>2006-11-30</td>\n",
       "      <td>NaN</td>\n",
       "      <td>NaN</td>\n",
       "      <td>NaN</td>\n",
       "    </tr>\n",
       "    <tr>\n",
       "      <th>12683</th>\n",
       "      <td>1000413</td>\n",
       "      <td>2009-08-31</td>\n",
       "      <td>NaN</td>\n",
       "      <td>NaN</td>\n",
       "      <td>NaN</td>\n",
       "    </tr>\n",
       "    <tr>\n",
       "      <th>78461</th>\n",
       "      <td>1003043</td>\n",
       "      <td>2007-06-30</td>\n",
       "      <td>NaN</td>\n",
       "      <td>NaN</td>\n",
       "      <td>NaN</td>\n",
       "    </tr>\n",
       "    <tr>\n",
       "      <th>19828</th>\n",
       "      <td>1000663</td>\n",
       "      <td>2009-04-30</td>\n",
       "      <td>NaN</td>\n",
       "      <td>NaN</td>\n",
       "      <td>NaN</td>\n",
       "    </tr>\n",
       "  </tbody>\n",
       "</table>\n",
       "</div>"
      ],
      "text/plain": [
       "       port_no   report_dt index_fund_flag et_flag crsp_obj_cd\n",
       "51130  1001777  2008-09-30             NaN     NaN         NaN\n",
       "81822  1003326  2006-10-31            None    None        EDCS\n",
       "38782  1001325  2005-09-30             NaN     NaN         NaN\n",
       "12307  1000399  2008-10-31             NaN     NaN         NaN\n",
       "31330  1001054  2010-02-27             NaN     NaN         NaN\n",
       "1722   1000052  2007-12-31            None    None        EDYB\n",
       "99648  1004670  2006-11-30             NaN     NaN         NaN\n",
       "12683  1000413  2009-08-31             NaN     NaN         NaN\n",
       "78461  1003043  2007-06-30             NaN     NaN         NaN\n",
       "19828  1000663  2009-04-30             NaN     NaN         NaN"
      ]
     },
     "execution_count": 65,
     "metadata": {},
     "output_type": "execute_result"
    }
   ],
   "source": [
    "holdings_summary.sample(10)"
   ]
  },
  {
   "cell_type": "markdown",
   "metadata": {},
   "source": [
    "# Clean holdings_summary data\n",
    "\n",
    "Do not delet rows since they match to the sparse matrix\n",
    "\n",
    "TODO: Replace all falgs with proper categories"
   ]
  },
  {
   "cell_type": "code",
   "execution_count": 66,
   "metadata": {},
   "outputs": [],
   "source": [
    "# Make the two flags categories and rename those categories accordingly\n",
    "holdings_summary[['et_flag','index_fund_flag']] = holdings_summary[['et_flag','index_fund_flag']].astype('category')\n",
    "\n",
    "et_mapper = {'F':'ETF', 'N':'ETN', np.nan:'MF'}\n",
    "holdings_summary['et_flag'] = holdings_summary['et_flag'].map(et_mapper)\n",
    "\n",
    "index_flag_mapper = {'B':'Index-based', 'D':'Pure Index', 'E':'Index enhanced', np.nan:'MF'}\n",
    "holdings_summary['index_fund_flag'] = holdings_summary['index_fund_flag'].map(index_flag_mapper)"
   ]
  },
  {
   "cell_type": "code",
   "execution_count": 67,
   "metadata": {},
   "outputs": [],
   "source": [
    "# Creat new flag var 'mutual_fund' that is Y for Mutual Funds and N for other funds\n",
    "holdings_summary.loc[(holdings_summary['index_fund_flag'] == 'MF') & \n",
    "                     (holdings_summary['et_flag'] == 'MF'),'mutual_fund'] = 'Y'\n",
    "holdings_summary.loc[holdings_summary['mutual_fund'].isna(),'mutual_fund'] = 'N'"
   ]
  },
  {
   "cell_type": "code",
   "execution_count": 68,
   "metadata": {},
   "outputs": [],
   "source": [
    "# Creat new flag var 'sample' that is Y for those included and N for those not included\n",
    "# , 'EDCL', 'EDCM', 'EDCS', 'EDCI'\n",
    "# selected_obj_codes = ('EDYG','EDYB' ,'EDYH' ,'EDYS' ,'EDYI')\n",
    "\n",
    "selected_obj_codes = ('EDYG','I')\n",
    "\n",
    "holdings_summary.loc[(holdings_summary['mutual_fund'] == 'Y') & \n",
    "                     (holdings_summary['crsp_obj_cd'].isin(selected_obj_codes)),'sample'] = 'Y'\n",
    "holdings_summary.loc[holdings_summary['sample'].isna(),'sample'] = 'N'"
   ]
  },
  {
   "cell_type": "code",
   "execution_count": 69,
   "metadata": {},
   "outputs": [],
   "source": [
    "# Make the two new variables categorical\n",
    "holdings_summary[['mutual_fund','sample']] = holdings_summary[['mutual_fund','sample']].astype('category')"
   ]
  },
  {
   "cell_type": "code",
   "execution_count": 70,
   "metadata": {},
   "outputs": [
    {
     "data": {
      "text/plain": [
       "N    95886\n",
       "Y     4114\n",
       "Name: sample, dtype: int64"
      ]
     },
     "execution_count": 70,
     "metadata": {},
     "output_type": "execute_result"
    }
   ],
   "source": [
    "holdings_summary['sample'].value_counts()"
   ]
  },
  {
   "cell_type": "code",
   "execution_count": 71,
   "metadata": {},
   "outputs": [
    {
     "data": {
      "text/html": [
       "<div>\n",
       "<style scoped>\n",
       "    .dataframe tbody tr th:only-of-type {\n",
       "        vertical-align: middle;\n",
       "    }\n",
       "\n",
       "    .dataframe tbody tr th {\n",
       "        vertical-align: top;\n",
       "    }\n",
       "\n",
       "    .dataframe thead th {\n",
       "        text-align: right;\n",
       "    }\n",
       "</style>\n",
       "<table border=\"1\" class=\"dataframe\">\n",
       "  <thead>\n",
       "    <tr style=\"text-align: right;\">\n",
       "      <th>index_fund_flag</th>\n",
       "      <th>Index enhanced</th>\n",
       "      <th>Index-based</th>\n",
       "      <th>MF</th>\n",
       "      <th>Pure Index</th>\n",
       "    </tr>\n",
       "    <tr>\n",
       "      <th>et_flag</th>\n",
       "      <th></th>\n",
       "      <th></th>\n",
       "      <th></th>\n",
       "      <th></th>\n",
       "    </tr>\n",
       "  </thead>\n",
       "  <tbody>\n",
       "    <tr>\n",
       "      <th>ETF</th>\n",
       "      <td>0</td>\n",
       "      <td>0</td>\n",
       "      <td>3</td>\n",
       "      <td>64</td>\n",
       "    </tr>\n",
       "    <tr>\n",
       "      <th>MF</th>\n",
       "      <td>94</td>\n",
       "      <td>64</td>\n",
       "      <td>99105</td>\n",
       "      <td>670</td>\n",
       "    </tr>\n",
       "  </tbody>\n",
       "</table>\n",
       "</div>"
      ],
      "text/plain": [
       "index_fund_flag  Index enhanced  Index-based     MF  Pure Index\n",
       "et_flag                                                        \n",
       "ETF                           0            0      3          64\n",
       "MF                           94           64  99105         670"
      ]
     },
     "execution_count": 71,
     "metadata": {},
     "output_type": "execute_result"
    }
   ],
   "source": [
    "pd.crosstab(holdings_summary['et_flag'],holdings_summary['index_fund_flag'])"
   ]
  },
  {
   "cell_type": "code",
   "execution_count": 72,
   "metadata": {},
   "outputs": [
    {
     "data": {
      "text/html": [
       "<div>\n",
       "<style scoped>\n",
       "    .dataframe tbody tr th:only-of-type {\n",
       "        vertical-align: middle;\n",
       "    }\n",
       "\n",
       "    .dataframe tbody tr th {\n",
       "        vertical-align: top;\n",
       "    }\n",
       "\n",
       "    .dataframe thead th {\n",
       "        text-align: right;\n",
       "    }\n",
       "</style>\n",
       "<table border=\"1\" class=\"dataframe\">\n",
       "  <thead>\n",
       "    <tr style=\"text-align: right;\">\n",
       "      <th>sample</th>\n",
       "      <th>N</th>\n",
       "      <th>Y</th>\n",
       "    </tr>\n",
       "    <tr>\n",
       "      <th>mutual_fund</th>\n",
       "      <th></th>\n",
       "      <th></th>\n",
       "    </tr>\n",
       "  </thead>\n",
       "  <tbody>\n",
       "    <tr>\n",
       "      <th>N</th>\n",
       "      <td>895</td>\n",
       "      <td>0</td>\n",
       "    </tr>\n",
       "    <tr>\n",
       "      <th>Y</th>\n",
       "      <td>94991</td>\n",
       "      <td>4114</td>\n",
       "    </tr>\n",
       "  </tbody>\n",
       "</table>\n",
       "</div>"
      ],
      "text/plain": [
       "sample           N     Y\n",
       "mutual_fund             \n",
       "N              895     0\n",
       "Y            94991  4114"
      ]
     },
     "execution_count": 72,
     "metadata": {},
     "output_type": "execute_result"
    }
   ],
   "source": [
    "pd.crosstab(holdings_summary['mutual_fund'],holdings_summary['sample'])"
   ]
  },
  {
   "cell_type": "markdown",
   "metadata": {},
   "source": [
    "#### 148k Funds in EDY\n",
    "#### 202k Funds in EDC"
   ]
  },
  {
   "cell_type": "markdown",
   "metadata": {},
   "source": [
    "# Save holdings_summary"
   ]
  },
  {
   "cell_type": "code",
   "execution_count": null,
   "metadata": {},
   "outputs": [],
   "source": [
    "path = '../data/interim/holdings_summary_total.feather'\n",
    "#feather.write_dataframe(holdings_summary,path)"
   ]
  },
  {
   "cell_type": "code",
   "execution_count": null,
   "metadata": {},
   "outputs": [],
   "source": [
    "path = '../data/interim/holdings_summary_total.feather'\n",
    "holdings_summary = feather.read_dataframe(path)"
   ]
  },
  {
   "cell_type": "code",
   "execution_count": null,
   "metadata": {},
   "outputs": [],
   "source": [
    "holdings.shape"
   ]
  },
  {
   "cell_type": "code",
   "execution_count": null,
   "metadata": {},
   "outputs": [],
   "source": []
  },
  {
   "cell_type": "code",
   "execution_count": null,
   "metadata": {},
   "outputs": [],
   "source": [
    "holdings_summary.shape"
   ]
  },
  {
   "cell_type": "code",
   "execution_count": null,
   "metadata": {},
   "outputs": [],
   "source": []
  },
  {
   "cell_type": "code",
   "execution_count": null,
   "metadata": {},
   "outputs": [],
   "source": []
  },
  {
   "cell_type": "markdown",
   "metadata": {},
   "source": [
    "### Add fund_no to holdings_summary"
   ]
  },
  {
   "cell_type": "markdown",
   "metadata": {},
   "source": [
    "#### Fundo is not an integer for now but not that important -> TODO"
   ]
  },
  {
   "cell_type": "code",
   "execution_count": null,
   "metadata": {},
   "outputs": [],
   "source": [
    "portno_map_unique = portno_map.drop_duplicates(subset='crsp_portno')"
   ]
  },
  {
   "cell_type": "markdown",
   "metadata": {},
   "source": [
    "#### Maybe must be modified since all but one associated fund_nos per portfolio are deleted "
   ]
  },
  {
   "cell_type": "code",
   "execution_count": null,
   "metadata": {},
   "outputs": [],
   "source": [
    "holdings_summary = holdings_summary.merge(portno_map_unique[['crsp_portno','crsp_fundno']],how='left', left_on = 'port_no', right_on='crsp_portno')"
   ]
  },
  {
   "cell_type": "code",
   "execution_count": null,
   "metadata": {},
   "outputs": [],
   "source": [
    "holdings_summary.shape"
   ]
  },
  {
   "cell_type": "code",
   "execution_count": null,
   "metadata": {},
   "outputs": [],
   "source": [
    "mask = holdings_summary['crsp_fundno'].notna()\n",
    "holdings_summary['crsp_fundno'] = holdings_summary.loc[mask,'crsp_fundno'].astype(int)"
   ]
  },
  {
   "cell_type": "code",
   "execution_count": null,
   "metadata": {},
   "outputs": [],
   "source": [
    "new_order = [0,8,1,2,3,4,5,6]\n",
    "holdings_summary = holdings_summary[holdings_summary.columns[new_order]]"
   ]
  },
  {
   "cell_type": "code",
   "execution_count": null,
   "metadata": {},
   "outputs": [],
   "source": [
    "holdings_summary = holdings_summary.rename(columns={'crsp_fundno':'fund_no'}, index=str)"
   ]
  },
  {
   "cell_type": "markdown",
   "metadata": {},
   "source": [
    "# Take sample according to parameter"
   ]
  },
  {
   "cell_type": "markdown",
   "metadata": {},
   "source": [
    "### Filter returns"
   ]
  },
  {
   "cell_type": "code",
   "execution_count": null,
   "metadata": {},
   "outputs": [],
   "source": [
    "unique_portno = holdings_summary[['fund_no']].drop_duplicates()"
   ]
  },
  {
   "cell_type": "code",
   "execution_count": null,
   "metadata": {},
   "outputs": [],
   "source": [
    "mask = returns['crsp_fundno'].isin(unique_portno['fund_no'])"
   ]
  },
  {
   "cell_type": "code",
   "execution_count": null,
   "metadata": {},
   "outputs": [],
   "source": [
    "returns_s = returns[mask]"
   ]
  },
  {
   "cell_type": "code",
   "execution_count": null,
   "metadata": {},
   "outputs": [],
   "source": [
    "returns.shape"
   ]
  },
  {
   "cell_type": "code",
   "execution_count": null,
   "metadata": {},
   "outputs": [],
   "source": [
    "returns_s.shape"
   ]
  },
  {
   "cell_type": "markdown",
   "metadata": {},
   "source": [
    "#### From 7.2m to 2.1m return datapoints"
   ]
  },
  {
   "cell_type": "markdown",
   "metadata": {},
   "source": [
    "# Filter holdings"
   ]
  },
  {
   "cell_type": "markdown",
   "metadata": {},
   "source": [
    "### Mask to filter out only those in the sample according to holdings_summary"
   ]
  },
  {
   "cell_type": "code",
   "execution_count": null,
   "metadata": {},
   "outputs": [],
   "source": [
    "mask = (holdings_summary['sample'] == 'Y') \n",
    "np.sum(mask)"
   ]
  },
  {
   "cell_type": "code",
   "execution_count": null,
   "metadata": {},
   "outputs": [],
   "source": [
    "mask = (holdings_summary['sample'] == 'Y') & (holdings_summary['port_no'].notna())\n",
    "np.sum(mask)"
   ]
  },
  {
   "cell_type": "code",
   "execution_count": null,
   "metadata": {},
   "outputs": [],
   "source": [
    "holdings_s = holdings[mask.values]\n",
    "holdings_s"
   ]
  },
  {
   "cell_type": "markdown",
   "metadata": {},
   "source": [
    "### Filter holdings summary"
   ]
  },
  {
   "cell_type": "code",
   "execution_count": null,
   "metadata": {},
   "outputs": [],
   "source": [
    "holdings_summary_s = holdings_summary[mask]"
   ]
  },
  {
   "cell_type": "code",
   "execution_count": null,
   "metadata": {},
   "outputs": [],
   "source": [
    "holdings_s.shape"
   ]
  },
  {
   "cell_type": "code",
   "execution_count": null,
   "metadata": {},
   "outputs": [],
   "source": [
    "holdings_summary_s.shape"
   ]
  },
  {
   "cell_type": "markdown",
   "metadata": {},
   "source": [
    "### Take only last n number of obs per fund"
   ]
  },
  {
   "cell_type": "markdown",
   "metadata": {},
   "source": [
    "To avoid overweight of funds with many observations"
   ]
  },
  {
   "cell_type": "code",
   "execution_count": null,
   "metadata": {},
   "outputs": [],
   "source": [
    "holdings_summary_s = holdings_summary_s.reset_index()\n",
    "index = pd.DataFrame(np.arange(holdings_summary_s.shape[0]))\n",
    "index = index.groupby(holdings_summary_s['port_no']).tail(10)\n",
    "index = index.values.T.flatten()"
   ]
  },
  {
   "cell_type": "code",
   "execution_count": null,
   "metadata": {},
   "outputs": [],
   "source": [
    "holdings_summary_s = holdings_summary_s.reset_index().loc[index,:]\n",
    "holdings_s = holdings_s[index]\n",
    "holdings_s.shape"
   ]
  },
  {
   "cell_type": "markdown",
   "metadata": {},
   "source": [
    "### Delet columns with little to no information"
   ]
  },
  {
   "cell_type": "code",
   "execution_count": null,
   "metadata": {},
   "outputs": [],
   "source": [
    "holdings_b = sparse.csr_matrix(holdings_s, copy=True)\n",
    "holdings_b.data = np.ones(len(holdings_s.data))"
   ]
  },
  {
   "cell_type": "code",
   "execution_count": null,
   "metadata": {},
   "outputs": [],
   "source": [
    "col_sums = pd.DataFrame(holdings_b.sum(0)).values.flatten()"
   ]
  },
  {
   "cell_type": "markdown",
   "metadata": {},
   "source": [
    "1.5m of the 2m securities have either zero or one entry "
   ]
  },
  {
   "cell_type": "code",
   "execution_count": null,
   "metadata": {},
   "outputs": [],
   "source": [
    "# generate mask\n",
    "mask = col_sums > 1000"
   ]
  },
  {
   "cell_type": "code",
   "execution_count": null,
   "metadata": {
    "scrolled": true
   },
   "outputs": [],
   "source": [
    "holdings_s = holdings_s.tocsc()\n",
    "holdings_s = holdings_s[:,mask]\n",
    "holdings_s = holdings_s.tocsr()\n",
    "holdings_s"
   ]
  },
  {
   "cell_type": "code",
   "execution_count": null,
   "metadata": {
    "scrolled": true
   },
   "outputs": [],
   "source": [
    "holdings_b = holdings_b.tocsc()\n",
    "holdings_b = holdings_b[:,mask]\n",
    "holdings_b = holdings_b.tocsr()\n",
    "holdings_b"
   ]
  },
  {
   "cell_type": "markdown",
   "metadata": {},
   "source": [
    "### Save final cleaned and filtered data"
   ]
  },
  {
   "cell_type": "markdown",
   "metadata": {},
   "source": [
    "#### Sparse matrix"
   ]
  },
  {
   "cell_type": "code",
   "execution_count": null,
   "metadata": {},
   "outputs": [],
   "source": [
    "path = '../data/processed/EDY/holdings_s'\n",
    "sparse.save_npz(path, holdings_s)"
   ]
  },
  {
   "cell_type": "code",
   "execution_count": null,
   "metadata": {},
   "outputs": [],
   "source": [
    "path = '../data/processed/EDY/holdings_b'\n",
    "sparse.save_npz(path, holdings_b)"
   ]
  },
  {
   "cell_type": "markdown",
   "metadata": {},
   "source": [
    "#### Sparse info"
   ]
  },
  {
   "cell_type": "code",
   "execution_count": null,
   "metadata": {},
   "outputs": [],
   "source": [
    "path = '../data/processed/EDY/holdings_summary_s.feather'\n",
    "feather.write_dataframe(holdings_summary_s,path)"
   ]
  },
  {
   "cell_type": "markdown",
   "metadata": {},
   "source": [
    "#### Returns"
   ]
  },
  {
   "cell_type": "code",
   "execution_count": null,
   "metadata": {},
   "outputs": [],
   "source": [
    "path = '../data/processed/EDY/returns_s.feather'\n",
    "feather.write_dataframe(returns_s,path)"
   ]
  },
  {
   "cell_type": "markdown",
   "metadata": {},
   "source": [
    "## Take smaller sub_sub sample (Everything before specified year)\n",
    "Makes processing faster"
   ]
  },
  {
   "cell_type": "code",
   "execution_count": null,
   "metadata": {},
   "outputs": [],
   "source": [
    "start_date = '2015-01-01'\n",
    "end_date = '2018-01-01'"
   ]
  },
  {
   "cell_type": "markdown",
   "metadata": {},
   "source": [
    "#### Holdings & holdings_summary"
   ]
  },
  {
   "cell_type": "code",
   "execution_count": null,
   "metadata": {},
   "outputs": [],
   "source": [
    "mask = (holdings_summary_s['report_dt'] > start_date) & (holdings_summary_s['report_dt'] < end_date)"
   ]
  },
  {
   "cell_type": "code",
   "execution_count": null,
   "metadata": {},
   "outputs": [],
   "source": [
    "holdings_s_s = holdings_s[mask.values]"
   ]
  },
  {
   "cell_type": "code",
   "execution_count": null,
   "metadata": {},
   "outputs": [],
   "source": [
    "holdings_summary_s_s = holdings_summary_s[mask]"
   ]
  },
  {
   "cell_type": "markdown",
   "metadata": {},
   "source": [
    "#### Test"
   ]
  },
  {
   "cell_type": "code",
   "execution_count": null,
   "metadata": {},
   "outputs": [],
   "source": [
    "holdings_s_s.shape"
   ]
  },
  {
   "cell_type": "code",
   "execution_count": null,
   "metadata": {},
   "outputs": [],
   "source": [
    "holdings_summary_s_s.shape"
   ]
  },
  {
   "cell_type": "markdown",
   "metadata": {},
   "source": [
    "#### Returns"
   ]
  },
  {
   "cell_type": "code",
   "execution_count": null,
   "metadata": {},
   "outputs": [],
   "source": [
    "mask = (returns_s['caldt'] > start_date) & (returns_s['caldt'] < end_date)\n",
    "returns_s_s = returns_s[mask]"
   ]
  },
  {
   "cell_type": "markdown",
   "metadata": {},
   "source": [
    "### Save final cleaned and filtered data"
   ]
  },
  {
   "cell_type": "markdown",
   "metadata": {},
   "source": [
    "#### Sparse matrix"
   ]
  },
  {
   "cell_type": "code",
   "execution_count": null,
   "metadata": {},
   "outputs": [],
   "source": [
    "path = '../data/processed/EDY/holdings_s_s'\n",
    "sparse.save_npz(path, holdings_s_s)"
   ]
  },
  {
   "cell_type": "markdown",
   "metadata": {},
   "source": [
    "#### Sparse info"
   ]
  },
  {
   "cell_type": "code",
   "execution_count": null,
   "metadata": {},
   "outputs": [],
   "source": [
    "path = '../data/processed/EDY/holdings_summary_s_s.feather'\n",
    "feather.write_dataframe(holdings_summary_s_s,path)"
   ]
  },
  {
   "cell_type": "markdown",
   "metadata": {},
   "source": [
    "#### Returns"
   ]
  },
  {
   "cell_type": "code",
   "execution_count": null,
   "metadata": {},
   "outputs": [],
   "source": [
    "path = '../data/processed/EDY/returns_s_s.feather'\n",
    "feather.write_dataframe(returns_s_s,path)"
   ]
  },
  {
   "cell_type": "code",
   "execution_count": null,
   "metadata": {},
   "outputs": [],
   "source": []
  },
  {
   "cell_type": "code",
   "execution_count": null,
   "metadata": {},
   "outputs": [],
   "source": []
  }
 ],
 "metadata": {
  "kernelspec": {
   "display_name": "Python 3",
   "language": "python",
   "name": "python3"
  },
  "language_info": {
   "codemirror_mode": {
    "name": "ipython",
    "version": 3
   },
   "file_extension": ".py",
   "mimetype": "text/x-python",
   "name": "python",
   "nbconvert_exporter": "python",
   "pygments_lexer": "ipython3",
   "version": "3.7.1"
  }
 },
 "nbformat": 4,
 "nbformat_minor": 2
}
