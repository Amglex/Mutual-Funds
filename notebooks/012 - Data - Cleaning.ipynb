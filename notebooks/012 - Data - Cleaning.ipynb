{
 "cells": [
  {
   "cell_type": "markdown",
   "metadata": {},
   "source": [
    "## Description"
   ]
  },
  {
   "cell_type": "markdown",
   "metadata": {},
   "source": [
    "Description:\n",
    "\n",
    "Filter the three main data sources (Fund Info, Returns and Holdings)\n",
    "based on some parameters and save the result.\n",
    "\n",
    "Approach:\n",
    "1. Match fund summary to each portfolio/date pair\n",
    "2. Filter fund/date pairs based on those infos\n",
    "3. Filter returns based on final sample of holdings\n",
    "\n",
    "Parameters: \n",
    "- Obj_codes\n",
    "- Percentage\n",
    "- Flags"
   ]
  },
  {
   "cell_type": "code",
   "execution_count": 2,
   "metadata": {},
   "outputs": [],
   "source": [
    "%matplotlib inline\n",
    "\n",
    "import os\n",
    "import sys\n",
    "\n",
    "# add the 'src' directory as one where we can import modules\n",
    "src_dir = os.path.join(os.getcwd(), os.pardir, 'src')\n",
    "sys.path.append(src_dir)\n",
    "from data.basic_functions import * \n",
    "\n",
    "import numpy as np\n",
    "import pandas as pd\n",
    "\n",
    "from scipy import sparse\n",
    "\n",
    "import matplotlib.pyplot as plt\n",
    "\n",
    "import datetime\n",
    "\n",
    "# For multiprocessing\n",
    "import multiprocessing\n",
    "from itertools import product"
   ]
  },
  {
   "cell_type": "markdown",
   "metadata": {},
   "source": [
    "### Load the data files"
   ]
  },
  {
   "cell_type": "code",
   "execution_count": 3,
   "metadata": {},
   "outputs": [
    {
     "data": {
      "text/plain": [
       "(167842, 9)"
      ]
     },
     "execution_count": 3,
     "metadata": {},
     "output_type": "execute_result"
    }
   ],
   "source": [
    "data_path = '../data/raw/'\n",
    "\n",
    "returns = load_data(data_path,'monthly_returns') \n",
    "summary = load_data(data_path,'total_summary_new') # Wo kommt das her ???\n",
    "summary.shape"
   ]
  },
  {
   "cell_type": "code",
   "execution_count": 4,
   "metadata": {},
   "outputs": [
    {
     "data": {
      "text/plain": [
       "(733743, 2382968)"
      ]
     },
     "execution_count": 4,
     "metadata": {},
     "output_type": "execute_result"
    }
   ],
   "source": [
    "npz_path = '../data/interim/sparse_matrix_t.npz'\n",
    "holdings = sparse.load_npz(npz_path)\n",
    "holdings.shape"
   ]
  },
  {
   "cell_type": "code",
   "execution_count": 5,
   "metadata": {
    "scrolled": true
   },
   "outputs": [
    {
     "data": {
      "text/plain": [
       "(733743, 2)"
      ]
     },
     "execution_count": 5,
     "metadata": {},
     "output_type": "execute_result"
    }
   ],
   "source": [
    "data_path = '../data/interim/'\n",
    "holdings_summary = load_data(data_path,'sparse_info_t')\n",
    "holdings_summary.shape"
   ]
  },
  {
   "cell_type": "code",
   "execution_count": 6,
   "metadata": {
    "scrolled": true
   },
   "outputs": [],
   "source": [
    "path = '../data/raw/portno_map.feather'\n",
    "portno_map = feather.read_dataframe(path)"
   ]
  },
  {
   "cell_type": "markdown",
   "metadata": {},
   "source": [
    "## Drop duplicates in summary data\n",
    "\n",
    "To increase speed of matching obj_codes and other fund info to portfolios"
   ]
  },
  {
   "cell_type": "code",
   "execution_count": 7,
   "metadata": {},
   "outputs": [
    {
     "name": "stdout",
     "output_type": "stream",
     "text": [
      "Shape of summary before cleaning is: 167,842 / 9\n"
     ]
    }
   ],
   "source": [
    "print('Shape of summary before cleaning is: {:,} / {:,}'.format(summary.shape[0],summary.shape[1]))"
   ]
  },
  {
   "cell_type": "code",
   "execution_count": 9,
   "metadata": {},
   "outputs": [],
   "source": [
    "# Delet observations witrh missing portnos\n",
    "summary_clean = summary[summary['crsp_portno'].notna()]\n",
    "\n",
    "# Drop duplicates based on all but two columns\n",
    "# summary_clean = summary_clean.drop_duplicates(summary_clean.columns.difference(['crsp_fundno','fund_name']))\n",
    "\n",
    "summary_clean.loc[:,'crsp_fundno'] = pd.to_numeric(summary_clean.loc[:,'crsp_fundno'], downcast='integer')\n",
    "summary_clean.loc[:,'crsp_portno'] = pd.to_numeric(summary_clean.loc[:,'crsp_portno'], downcast='integer')"
   ]
  },
  {
   "cell_type": "code",
   "execution_count": 10,
   "metadata": {},
   "outputs": [
    {
     "name": "stdout",
     "output_type": "stream",
     "text": [
      "Shape of summary data after cleaning: 132,646 / 9\n"
     ]
    }
   ],
   "source": [
    "print('Shape of summary data after cleaning: {:,} / {:,}'.format(summary_clean.shape[0],summary_clean.shape[1]))"
   ]
  },
  {
   "cell_type": "markdown",
   "metadata": {},
   "source": [
    "# Match obj code to portfolios\n",
    "\n",
    "TODO: \n",
    "\n",
    "Fund info flags like the index_fund_flag could in theory also be different in the fund_history\n",
    "\n",
    "Therefore a similar approach should also be used for those items\n",
    "\n",
    "In general portno fundno map also beginning and end times"
   ]
  },
  {
   "cell_type": "code",
   "execution_count": 12,
   "metadata": {},
   "outputs": [],
   "source": [
    "def port_ID_to_port_info(fund_info):  \n",
    "            \"\"\"\n",
    "            Used to merge the right obj_code and other fund info \n",
    "            to each holdings_info row and therefore to each row of the sparse holdings matrix\n",
    "            \n",
    "            Input:\n",
    "            - fund_info: Tuple consisting of the port_no (1st element) and the report_dt (2nd)\n",
    "            \n",
    "            Output:\n",
    "            - Tuple of port_no, report_dt, index_fund_flag, et_flag and crsp_obj_cd. \n",
    "                NaN if value is not available\n",
    "            \n",
    "            Attention:\n",
    "            Depends on global variable 'summary' to look up the values\n",
    "            Must be renamed or changed in the function\n",
    "            \"\"\"\n",
    "            port_no = fund_info[0]\n",
    "            report_dt = fund_info[1].date() # Implement in large csv file\n",
    "            mask = summary['crsp_portno'].values == port_no\n",
    "            my_class = summary.loc[mask]\n",
    "\n",
    "            my_class_n = my_class.loc[\n",
    "                (my_class.begdt <= report_dt) & \n",
    "                (my_class.enddt >= report_dt)]\n",
    "            \n",
    "            try:\n",
    "                lipper_class = my_class_n['lipper_class'].values[0]\n",
    "                index_fund_flag = my_class_n['index_fund_flag'].values[0]\n",
    "                et_flag = my_class_n['et_flag'].values[0]\n",
    "\n",
    "            except:\n",
    "                lipper_class = np.nan\n",
    "                index_fund_flag = np.nan\n",
    "                et_flag = np.nan\n",
    "                \n",
    "            return(port_no, report_dt, index_fund_flag, et_flag, lipper_class)        "
   ]
  },
  {
   "cell_type": "markdown",
   "metadata": {},
   "source": [
    "### Multiprocessing"
   ]
  },
  {
   "cell_type": "code",
   "execution_count": 13,
   "metadata": {},
   "outputs": [],
   "source": [
    "a = holdings_summary['port_no']\n",
    "b = holdings_summary['date']\n",
    "\n",
    "fund_info = list(zip(a,b))"
   ]
  },
  {
   "cell_type": "code",
   "execution_count": 14,
   "metadata": {},
   "outputs": [
    {
     "data": {
      "text/plain": [
       "733743"
      ]
     },
     "execution_count": 14,
     "metadata": {},
     "output_type": "execute_result"
    }
   ],
   "source": [
    "len(fund_info)"
   ]
  },
  {
   "cell_type": "code",
   "execution_count": 15,
   "metadata": {},
   "outputs": [],
   "source": [
    "with multiprocessing.Pool(processes=6) as pool:\n",
    "    results = pool.map(port_ID_to_port_info, fund_info)"
   ]
  },
  {
   "cell_type": "code",
   "execution_count": 16,
   "metadata": {},
   "outputs": [],
   "source": [
    "labels = ['port_no','report_dt','index_fund_flag','et_flag','lipper_class']\n",
    "holdings_summary = pd.DataFrame.from_records(results, columns=labels)"
   ]
  },
  {
   "cell_type": "code",
   "execution_count": 17,
   "metadata": {
    "scrolled": true
   },
   "outputs": [
    {
     "name": "stdout",
     "output_type": "stream",
     "text": [
      "Out of the roughly 730k portfolios, for 129k there is no fund header info available\n",
      "(733743, 5)\n"
     ]
    },
    {
     "data": {
      "text/plain": [
       "(129400, 5)"
      ]
     },
     "execution_count": 17,
     "metadata": {},
     "output_type": "execute_result"
    }
   ],
   "source": [
    "print('Out of the roughly 730k portfolios, for 129k there is no fund header info available')\n",
    "print(holdings_summary.shape)\n",
    "holdings_summary[holdings_summary['lipper_class'].isna()].shape # -> For some portfolios there is simly no row in fund_header"
   ]
  },
  {
   "cell_type": "markdown",
   "metadata": {},
   "source": [
    "#### Save result to save time"
   ]
  },
  {
   "cell_type": "code",
   "execution_count": 18,
   "metadata": {},
   "outputs": [],
   "source": [
    "path = '../data/interim/holdings_summary_raw.feather'\n",
    "feather.write_dataframe(holdings_summary,path)"
   ]
  },
  {
   "cell_type": "code",
   "execution_count": 19,
   "metadata": {},
   "outputs": [],
   "source": [
    "path = '../data/interim/holdings_summary_raw.feather'\n",
    "holdings_summary = feather.read_dataframe(path)"
   ]
  },
  {
   "cell_type": "markdown",
   "metadata": {},
   "source": [
    "# Clean holdings_summary data\n",
    "\n",
    "Do not delet rows since they match to the sparse matrix"
   ]
  },
  {
   "cell_type": "code",
   "execution_count": 20,
   "metadata": {},
   "outputs": [
    {
     "data": {
      "text/plain": [
       "(733743, 6)"
      ]
     },
     "execution_count": 20,
     "metadata": {},
     "output_type": "execute_result"
    }
   ],
   "source": [
    "# Creat new flag var 'mutual_fund' that is Y for Mutual Funds and N for other funds\n",
    "# Based on variable et_flag and index_fund_flag\n",
    "\n",
    "# Make the two flags categories and rename those categories accordingly\n",
    "holdings_summary[['et_flag','index_fund_flag']] = holdings_summary[['et_flag','index_fund_flag']].astype('category')\n",
    "\n",
    "et_mapper = {'F':'ETF', 'N':'ETN', np.nan:'MF'}\n",
    "holdings_summary['et_flag'] = holdings_summary['et_flag'].map(et_mapper)\n",
    "\n",
    "index_flag_mapper = {'B':'Index-based', 'D':'Pure Index', 'E':'Index enhanced', np.nan:'MF'}\n",
    "holdings_summary['index_fund_flag'] = holdings_summary['index_fund_flag'].map(index_flag_mapper)\n",
    "\n",
    "holdings_summary.loc[(holdings_summary['index_fund_flag'] == 'MF') & \n",
    "                     (holdings_summary['et_flag'] == 'MF'),'mutual_fund'] = 'Y'\n",
    "holdings_summary.loc[holdings_summary['mutual_fund'].isna(),'mutual_fund'] = 'N'\n",
    "\n",
    "holdings_summary.shape"
   ]
  },
  {
   "cell_type": "markdown",
   "metadata": {},
   "source": [
    "# Choose which CRSP style codes to use"
   ]
  },
  {
   "cell_type": "code",
   "execution_count": 21,
   "metadata": {},
   "outputs": [],
   "source": [
    "# Creat new flag var 'sample' that is Y for those included and N for those not included\n",
    "# , 'EDCL', 'EDCM', 'EDCS', 'EDCI'\n",
    "# selected_obj_codes = ('EDYG','EDYB' ,'EDYH' ,'EDYS' ,'EDYI')\n",
    "\n",
    "selected_obj_codes = ('EIEI', 'G', \n",
    "                      'LCCE', 'LCGE', 'LCVE',   # Large-cap\n",
    "                      'MCCE', 'MCGE', 'MCVE',   # Mid-cap\n",
    "                      'MLCE', 'MLGE', 'MLVE',   # Multi-cap\n",
    "                      'SCCE', 'SCGE', 'SCVE')   # Small-cap"
   ]
  },
  {
   "cell_type": "code",
   "execution_count": 22,
   "metadata": {},
   "outputs": [],
   "source": [
    "# If fund is Mutual Fund and has the right style code -> Sample == 'Y'\n",
    "holdings_summary.loc[(holdings_summary['mutual_fund'] == 'Y') & \n",
    "                     (holdings_summary['lipper_class'].isin(selected_obj_codes)),'sample'] = 'Y'\n",
    "\n",
    "# Otherwise sample == 'N'\n",
    "holdings_summary.loc[holdings_summary['sample'].isna(),'sample'] = 'N'\n",
    "\n",
    "# Make the two new variables categorical\n",
    "holdings_summary[['mutual_fund','sample']] = holdings_summary[['mutual_fund','sample']].astype('category')"
   ]
  },
  {
   "cell_type": "code",
   "execution_count": 23,
   "metadata": {},
   "outputs": [],
   "source": [
    "holdings_summary['cap_class'] = holdings_summary['lipper_class'].astype(str).str[0]\n",
    "holdings_summary['style_class'] = holdings_summary['lipper_class'].astype(str).str[2]"
   ]
  },
  {
   "cell_type": "markdown",
   "metadata": {},
   "source": [
    "### Results"
   ]
  },
  {
   "cell_type": "code",
   "execution_count": 25,
   "metadata": {},
   "outputs": [
    {
     "name": "stdout",
     "output_type": "stream",
     "text": [
      "How are the two variables on which MF assignemnt is based on distributed:\n"
     ]
    },
    {
     "data": {
      "text/html": [
       "<div>\n",
       "<style scoped>\n",
       "    .dataframe tbody tr th:only-of-type {\n",
       "        vertical-align: middle;\n",
       "    }\n",
       "\n",
       "    .dataframe tbody tr th {\n",
       "        vertical-align: top;\n",
       "    }\n",
       "\n",
       "    .dataframe thead th {\n",
       "        text-align: right;\n",
       "    }\n",
       "</style>\n",
       "<table border=\"1\" class=\"dataframe\">\n",
       "  <thead>\n",
       "    <tr style=\"text-align: right;\">\n",
       "      <th>index_fund_flag</th>\n",
       "      <th>Index enhanced</th>\n",
       "      <th>Index-based</th>\n",
       "      <th>MF</th>\n",
       "      <th>Pure Index</th>\n",
       "    </tr>\n",
       "    <tr>\n",
       "      <th>et_flag</th>\n",
       "      <th></th>\n",
       "      <th></th>\n",
       "      <th></th>\n",
       "      <th></th>\n",
       "    </tr>\n",
       "  </thead>\n",
       "  <tbody>\n",
       "    <tr>\n",
       "      <th>ETF</th>\n",
       "      <td>5772</td>\n",
       "      <td>10516</td>\n",
       "      <td>4065</td>\n",
       "      <td>77234</td>\n",
       "    </tr>\n",
       "    <tr>\n",
       "      <th>MF</th>\n",
       "      <td>5143</td>\n",
       "      <td>10401</td>\n",
       "      <td>599415</td>\n",
       "      <td>21197</td>\n",
       "    </tr>\n",
       "  </tbody>\n",
       "</table>\n",
       "</div>"
      ],
      "text/plain": [
       "index_fund_flag  Index enhanced  Index-based      MF  Pure Index\n",
       "et_flag                                                         \n",
       "ETF                        5772        10516    4065       77234\n",
       "MF                         5143        10401  599415       21197"
      ]
     },
     "execution_count": 25,
     "metadata": {},
     "output_type": "execute_result"
    }
   ],
   "source": [
    "print('How are the two variables on which MF assignemnt is based on distributed:')\n",
    "pd.crosstab(holdings_summary['et_flag'],holdings_summary['index_fund_flag'])"
   ]
  },
  {
   "cell_type": "code",
   "execution_count": 26,
   "metadata": {},
   "outputs": [
    {
     "name": "stdout",
     "output_type": "stream",
     "text": [
      "How many funds are considered in the sample?\n",
      "N    573773\n",
      "Y    159970\n",
      "Name: sample, dtype: int64\n",
      "How are the selected styles distributed?\n"
     ]
    },
    {
     "data": {
      "text/html": [
       "<div>\n",
       "<style scoped>\n",
       "    .dataframe tbody tr th:only-of-type {\n",
       "        vertical-align: middle;\n",
       "    }\n",
       "\n",
       "    .dataframe tbody tr th {\n",
       "        vertical-align: top;\n",
       "    }\n",
       "\n",
       "    .dataframe thead th {\n",
       "        text-align: right;\n",
       "    }\n",
       "</style>\n",
       "<table border=\"1\" class=\"dataframe\">\n",
       "  <thead>\n",
       "    <tr style=\"text-align: right;\">\n",
       "      <th>sample</th>\n",
       "      <th>N</th>\n",
       "      <th>Y</th>\n",
       "    </tr>\n",
       "    <tr>\n",
       "      <th>lipper_class</th>\n",
       "      <th></th>\n",
       "      <th></th>\n",
       "    </tr>\n",
       "  </thead>\n",
       "  <tbody>\n",
       "    <tr>\n",
       "      <th>FX</th>\n",
       "      <td>8577</td>\n",
       "      <td>0</td>\n",
       "    </tr>\n",
       "    <tr>\n",
       "      <th>MCVE</th>\n",
       "      <td>821</td>\n",
       "      <td>4468</td>\n",
       "    </tr>\n",
       "    <tr>\n",
       "      <th>SCVE</th>\n",
       "      <td>1912</td>\n",
       "      <td>6774</td>\n",
       "    </tr>\n",
       "    <tr>\n",
       "      <th>MLVE</th>\n",
       "      <td>1524</td>\n",
       "      <td>7312</td>\n",
       "    </tr>\n",
       "    <tr>\n",
       "      <th>MCCE</th>\n",
       "      <td>3763</td>\n",
       "      <td>7870</td>\n",
       "    </tr>\n",
       "    <tr>\n",
       "      <th>EIEI</th>\n",
       "      <td>2044</td>\n",
       "      <td>8609</td>\n",
       "    </tr>\n",
       "    <tr>\n",
       "      <th>MCGE</th>\n",
       "      <td>1177</td>\n",
       "      <td>10628</td>\n",
       "    </tr>\n",
       "    <tr>\n",
       "      <th>LCVE</th>\n",
       "      <td>1991</td>\n",
       "      <td>11489</td>\n",
       "    </tr>\n",
       "    <tr>\n",
       "      <th>MLGE</th>\n",
       "      <td>2245</td>\n",
       "      <td>12603</td>\n",
       "    </tr>\n",
       "    <tr>\n",
       "      <th>SCGE</th>\n",
       "      <td>1385</td>\n",
       "      <td>13316</td>\n",
       "    </tr>\n",
       "    <tr>\n",
       "      <th>SCCE</th>\n",
       "      <td>5112</td>\n",
       "      <td>15875</td>\n",
       "    </tr>\n",
       "    <tr>\n",
       "      <th>MLCE</th>\n",
       "      <td>3954</td>\n",
       "      <td>18515</td>\n",
       "    </tr>\n",
       "    <tr>\n",
       "      <th>LCGE</th>\n",
       "      <td>2877</td>\n",
       "      <td>19663</td>\n",
       "    </tr>\n",
       "    <tr>\n",
       "      <th>LCCE</th>\n",
       "      <td>4373</td>\n",
       "      <td>22848</td>\n",
       "    </tr>\n",
       "  </tbody>\n",
       "</table>\n",
       "</div>"
      ],
      "text/plain": [
       "sample           N      Y\n",
       "lipper_class             \n",
       "FX            8577      0\n",
       "MCVE           821   4468\n",
       "SCVE          1912   6774\n",
       "MLVE          1524   7312\n",
       "MCCE          3763   7870\n",
       "EIEI          2044   8609\n",
       "MCGE          1177  10628\n",
       "LCVE          1991  11489\n",
       "MLGE          2245  12603\n",
       "SCGE          1385  13316\n",
       "SCCE          5112  15875\n",
       "MLCE          3954  18515\n",
       "LCGE          2877  19663\n",
       "LCCE          4373  22848"
      ]
     },
     "execution_count": 26,
     "metadata": {},
     "output_type": "execute_result"
    }
   ],
   "source": [
    "print('How many funds are considered in the sample?')\n",
    "print(holdings_summary['sample'].value_counts())\n",
    "\n",
    "print('How are the selected styles distributed?')\n",
    "pd.crosstab(holdings_summary['lipper_class'],holdings_summary['sample']).sort_values('Y')[-len(selected_obj_codes):]"
   ]
  },
  {
   "cell_type": "markdown",
   "metadata": {},
   "source": [
    "# Save holdings_summary"
   ]
  },
  {
   "cell_type": "code",
   "execution_count": 29,
   "metadata": {},
   "outputs": [],
   "source": [
    "path = '../data/interim/holdings_summary_total.feather'\n",
    "feather.write_dataframe(holdings_summary,path)"
   ]
  },
  {
   "cell_type": "code",
   "execution_count": 30,
   "metadata": {},
   "outputs": [],
   "source": [
    "path = '../data/interim/holdings_summary_total.feather'\n",
    "holdings_summary = feather.read_dataframe(path)"
   ]
  },
  {
   "cell_type": "markdown",
   "metadata": {},
   "source": [
    "### Add fund_no to holdings_summary"
   ]
  },
  {
   "cell_type": "markdown",
   "metadata": {},
   "source": [
    "#### Fundo is not an integer for now but not that important -> TODO"
   ]
  },
  {
   "cell_type": "code",
   "execution_count": 31,
   "metadata": {},
   "outputs": [],
   "source": [
    "portno_map_unique = portno_map.drop_duplicates(subset='crsp_portno')"
   ]
  },
  {
   "cell_type": "markdown",
   "metadata": {},
   "source": [
    "#### Maybe must be modified since all but one associated fund_nos per portfolio are deleted "
   ]
  },
  {
   "cell_type": "code",
   "execution_count": 32,
   "metadata": {},
   "outputs": [],
   "source": [
    "holdings_summary = holdings_summary.merge(portno_map_unique[['crsp_portno','crsp_fundno']],how='left', left_on = 'port_no', right_on='crsp_portno')"
   ]
  },
  {
   "cell_type": "code",
   "execution_count": 33,
   "metadata": {},
   "outputs": [
    {
     "data": {
      "text/plain": [
       "(733743, 11)"
      ]
     },
     "execution_count": 33,
     "metadata": {},
     "output_type": "execute_result"
    }
   ],
   "source": [
    "holdings_summary.shape"
   ]
  },
  {
   "cell_type": "code",
   "execution_count": 34,
   "metadata": {},
   "outputs": [],
   "source": [
    "mask = holdings_summary['crsp_fundno'].notna()\n",
    "holdings_summary['crsp_fundno'] = holdings_summary.loc[mask,'crsp_fundno'].astype(int)"
   ]
  },
  {
   "cell_type": "code",
   "execution_count": 35,
   "metadata": {},
   "outputs": [
    {
     "data": {
      "text/html": [
       "<div>\n",
       "<style scoped>\n",
       "    .dataframe tbody tr th:only-of-type {\n",
       "        vertical-align: middle;\n",
       "    }\n",
       "\n",
       "    .dataframe tbody tr th {\n",
       "        vertical-align: top;\n",
       "    }\n",
       "\n",
       "    .dataframe thead th {\n",
       "        text-align: right;\n",
       "    }\n",
       "</style>\n",
       "<table border=\"1\" class=\"dataframe\">\n",
       "  <thead>\n",
       "    <tr style=\"text-align: right;\">\n",
       "      <th></th>\n",
       "      <th>port_no</th>\n",
       "      <th>report_dt</th>\n",
       "      <th>index_fund_flag</th>\n",
       "      <th>et_flag</th>\n",
       "      <th>lipper_class</th>\n",
       "      <th>mutual_fund</th>\n",
       "      <th>sample</th>\n",
       "      <th>cap_class</th>\n",
       "      <th>style_class</th>\n",
       "      <th>crsp_portno</th>\n",
       "      <th>crsp_fundno</th>\n",
       "    </tr>\n",
       "  </thead>\n",
       "  <tbody>\n",
       "    <tr>\n",
       "      <th>0</th>\n",
       "      <td>1000001</td>\n",
       "      <td>2003-03-31</td>\n",
       "      <td>MF</td>\n",
       "      <td>MF</td>\n",
       "      <td>None</td>\n",
       "      <td>Y</td>\n",
       "      <td>N</td>\n",
       "      <td>N</td>\n",
       "      <td>n</td>\n",
       "      <td>1000001.0</td>\n",
       "      <td>4273.0</td>\n",
       "    </tr>\n",
       "    <tr>\n",
       "      <th>1</th>\n",
       "      <td>1000001</td>\n",
       "      <td>2003-06-30</td>\n",
       "      <td>MF</td>\n",
       "      <td>MF</td>\n",
       "      <td>None</td>\n",
       "      <td>Y</td>\n",
       "      <td>N</td>\n",
       "      <td>N</td>\n",
       "      <td>n</td>\n",
       "      <td>1000001.0</td>\n",
       "      <td>4273.0</td>\n",
       "    </tr>\n",
       "    <tr>\n",
       "      <th>2</th>\n",
       "      <td>1000001</td>\n",
       "      <td>2003-09-30</td>\n",
       "      <td>MF</td>\n",
       "      <td>MF</td>\n",
       "      <td>None</td>\n",
       "      <td>Y</td>\n",
       "      <td>N</td>\n",
       "      <td>N</td>\n",
       "      <td>n</td>\n",
       "      <td>1000001.0</td>\n",
       "      <td>4273.0</td>\n",
       "    </tr>\n",
       "    <tr>\n",
       "      <th>3</th>\n",
       "      <td>1000001</td>\n",
       "      <td>2004-02-29</td>\n",
       "      <td>MF</td>\n",
       "      <td>MF</td>\n",
       "      <td>None</td>\n",
       "      <td>Y</td>\n",
       "      <td>N</td>\n",
       "      <td>N</td>\n",
       "      <td>n</td>\n",
       "      <td>1000001.0</td>\n",
       "      <td>4273.0</td>\n",
       "    </tr>\n",
       "    <tr>\n",
       "      <th>4</th>\n",
       "      <td>1000001</td>\n",
       "      <td>2004-06-30</td>\n",
       "      <td>MF</td>\n",
       "      <td>MF</td>\n",
       "      <td>None</td>\n",
       "      <td>Y</td>\n",
       "      <td>N</td>\n",
       "      <td>N</td>\n",
       "      <td>n</td>\n",
       "      <td>1000001.0</td>\n",
       "      <td>4273.0</td>\n",
       "    </tr>\n",
       "  </tbody>\n",
       "</table>\n",
       "</div>"
      ],
      "text/plain": [
       "   port_no   report_dt index_fund_flag et_flag lipper_class mutual_fund  \\\n",
       "0  1000001  2003-03-31              MF      MF         None           Y   \n",
       "1  1000001  2003-06-30              MF      MF         None           Y   \n",
       "2  1000001  2003-09-30              MF      MF         None           Y   \n",
       "3  1000001  2004-02-29              MF      MF         None           Y   \n",
       "4  1000001  2004-06-30              MF      MF         None           Y   \n",
       "\n",
       "  sample cap_class style_class  crsp_portno  crsp_fundno  \n",
       "0      N         N           n    1000001.0       4273.0  \n",
       "1      N         N           n    1000001.0       4273.0  \n",
       "2      N         N           n    1000001.0       4273.0  \n",
       "3      N         N           n    1000001.0       4273.0  \n",
       "4      N         N           n    1000001.0       4273.0  "
      ]
     },
     "execution_count": 35,
     "metadata": {},
     "output_type": "execute_result"
    }
   ],
   "source": [
    "holdings_summary.head()"
   ]
  },
  {
   "cell_type": "code",
   "execution_count": 36,
   "metadata": {},
   "outputs": [],
   "source": [
    "holdings_summary = holdings_summary.rename(columns={'crsp_fundno':'fund_no'}, index=str)"
   ]
  },
  {
   "cell_type": "markdown",
   "metadata": {},
   "source": [
    "# Take sample according to parameter"
   ]
  },
  {
   "cell_type": "markdown",
   "metadata": {},
   "source": [
    "### Filter returns"
   ]
  },
  {
   "cell_type": "code",
   "execution_count": 37,
   "metadata": {},
   "outputs": [],
   "source": [
    "unique_portno = holdings_summary[['fund_no']].drop_duplicates()"
   ]
  },
  {
   "cell_type": "code",
   "execution_count": 38,
   "metadata": {},
   "outputs": [],
   "source": [
    "mask = returns['crsp_fundno'].isin(unique_portno['fund_no'])"
   ]
  },
  {
   "cell_type": "code",
   "execution_count": 39,
   "metadata": {},
   "outputs": [],
   "source": [
    "returns_s = returns[mask]"
   ]
  },
  {
   "cell_type": "code",
   "execution_count": 40,
   "metadata": {},
   "outputs": [
    {
     "name": "stdout",
     "output_type": "stream",
     "text": [
      "Shape of returns before filtering (7273320, 3)\n",
      "Shape of returns after filtering  (2173160, 3)\n"
     ]
    }
   ],
   "source": [
    "print('Shape of returns before filtering',\n",
    "     returns.shape)\n",
    "\n",
    "print('Shape of returns after filtering ',\n",
    "     returns_s.shape)"
   ]
  },
  {
   "cell_type": "markdown",
   "metadata": {},
   "source": [
    "# Filter holdings"
   ]
  },
  {
   "cell_type": "markdown",
   "metadata": {},
   "source": [
    "### Mask to filter out only those in the sample according to holdings_summary"
   ]
  },
  {
   "cell_type": "code",
   "execution_count": 41,
   "metadata": {},
   "outputs": [
    {
     "data": {
      "text/plain": [
       "159970"
      ]
     },
     "execution_count": 41,
     "metadata": {},
     "output_type": "execute_result"
    }
   ],
   "source": [
    "mask = (holdings_summary['sample'] == 'Y') \n",
    "np.sum(mask)"
   ]
  },
  {
   "cell_type": "code",
   "execution_count": 43,
   "metadata": {},
   "outputs": [
    {
     "data": {
      "text/plain": [
       "<159970x2382968 sparse matrix of type '<class 'numpy.float64'>'\n",
       "\twith 20855806 stored elements in Compressed Sparse Row format>"
      ]
     },
     "execution_count": 43,
     "metadata": {},
     "output_type": "execute_result"
    }
   ],
   "source": [
    "holdings_s = holdings[mask.values]\n",
    "holdings_s"
   ]
  },
  {
   "cell_type": "markdown",
   "metadata": {},
   "source": [
    "### Filter holdings summary"
   ]
  },
  {
   "cell_type": "code",
   "execution_count": 44,
   "metadata": {},
   "outputs": [],
   "source": [
    "holdings_summary_s = holdings_summary[mask]"
   ]
  },
  {
   "cell_type": "code",
   "execution_count": 45,
   "metadata": {},
   "outputs": [
    {
     "data": {
      "text/plain": [
       "(159970, 2382968)"
      ]
     },
     "execution_count": 45,
     "metadata": {},
     "output_type": "execute_result"
    }
   ],
   "source": [
    "holdings_s.shape"
   ]
  },
  {
   "cell_type": "code",
   "execution_count": 78,
   "metadata": {},
   "outputs": [
    {
     "name": "stdout",
     "output_type": "stream",
     "text": [
      "Number of stocks with more than 1 observation\n"
     ]
    },
    {
     "data": {
      "text/plain": [
       "0    38668\n",
       "dtype: int64"
      ]
     },
     "execution_count": 78,
     "metadata": {},
     "output_type": "execute_result"
    }
   ],
   "source": [
    "print('Number of stocks with more than 1 observation')\n",
    "np.sum(pd.DataFrame(holdings_s.sum(0).T) > 1)"
   ]
  },
  {
   "cell_type": "code",
   "execution_count": 84,
   "metadata": {},
   "outputs": [
    {
     "data": {
      "text/plain": [
       "0.7225008010864258"
      ]
     },
     "execution_count": 84,
     "metadata": {},
     "output_type": "execute_result"
    }
   ],
   "source": [
    "holdings_s.nonzero()\n",
    "holdings_s[0,600]"
   ]
  },
  {
   "cell_type": "markdown",
   "metadata": {},
   "source": [
    "### Take only last n number of obs per fund (Not needed at the moment)"
   ]
  },
  {
   "cell_type": "markdown",
   "metadata": {},
   "source": [
    "To avoid overweight of funds with many observations"
   ]
  },
  {
   "cell_type": "code",
   "execution_count": null,
   "metadata": {},
   "outputs": [],
   "source": [
    "last_n = 5"
   ]
  },
  {
   "cell_type": "code",
   "execution_count": null,
   "metadata": {},
   "outputs": [],
   "source": [
    "holdings_summary_s = holdings_summary_s.reset_index()\n",
    "index = pd.DataFrame(np.arange(holdings_summary_s.shape[0]))\n",
    "index = index.groupby(holdings_summary_s['port_no']).tail(last_n)\n",
    "index = index.values.T.flatten()"
   ]
  },
  {
   "cell_type": "code",
   "execution_count": null,
   "metadata": {},
   "outputs": [],
   "source": [
    "holdings_summary_s = holdings_summary_s.reset_index().loc[index,:]\n",
    "holdings_s = holdings_s[index]"
   ]
  },
  {
   "cell_type": "code",
   "execution_count": null,
   "metadata": {},
   "outputs": [],
   "source": [
    "print('Observations left after taking only the last {} observations per fund:'.format(last_n))\n",
    "holdings_s.shape"
   ]
  },
  {
   "cell_type": "markdown",
   "metadata": {},
   "source": [
    "### Delet columns (stocks) with little to no information\n",
    "Delet all colums / stocks which occur no more than 'min_observations_per_stock' times"
   ]
  },
  {
   "cell_type": "code",
   "execution_count": 107,
   "metadata": {},
   "outputs": [],
   "source": [
    "min_observations_per_stock = 10"
   ]
  },
  {
   "cell_type": "code",
   "execution_count": 108,
   "metadata": {},
   "outputs": [],
   "source": [
    "holdings_b = sparse.csr_matrix(holdings_s, copy=True)\n",
    "holdings_b.data = np.ones(len(holdings_s.data))\n",
    "\n",
    "col_sums = pd.DataFrame(holdings_b.sum(0)).values.flatten()"
   ]
  },
  {
   "cell_type": "code",
   "execution_count": 109,
   "metadata": {},
   "outputs": [
    {
     "name": "stdout",
     "output_type": "stream",
     "text": [
      "Total number of securities:               28,210\n",
      "Total number of securities with >1:       28,210\n",
      "Total number of securities with >10:      28,210\n"
     ]
    }
   ],
   "source": [
    "print('Total number of securities:           {:>10,d}'.format(len(col_sums)))\n",
    "print('Total number of securities with >1:   {:>10,d}'.format(sum(col_sums > 1)))\n",
    "print('Total number of securities with >10:  {:>10,d}'.format(sum(col_sums > 10)))"
   ]
  },
  {
   "cell_type": "markdown",
   "metadata": {},
   "source": [
    "1.5m of the 2m securities have either zero or one entry "
   ]
  },
  {
   "cell_type": "code",
   "execution_count": null,
   "metadata": {},
   "outputs": [],
   "source": [
    "# generate mask\n",
    "mask = col_sums > min_observations_per_stock"
   ]
  },
  {
   "cell_type": "code",
   "execution_count": null,
   "metadata": {
    "scrolled": true
   },
   "outputs": [],
   "source": [
    "holdings_s = holdings_s.tocsc()\n",
    "holdings_s = holdings_s[:,mask]\n",
    "holdings_s = holdings_s.tocsr()\n",
    "holdings_s"
   ]
  },
  {
   "cell_type": "code",
   "execution_count": null,
   "metadata": {
    "scrolled": true
   },
   "outputs": [],
   "source": [
    "holdings_b = holdings_b.tocsc()\n",
    "holdings_b = holdings_b[:,mask]\n",
    "holdings_b = holdings_b.tocsr()\n",
    "holdings_b"
   ]
  },
  {
   "cell_type": "markdown",
   "metadata": {},
   "source": [
    "### Save final cleaned and filtered data"
   ]
  },
  {
   "cell_type": "markdown",
   "metadata": {},
   "source": [
    "#### Sparse matrix"
   ]
  },
  {
   "cell_type": "code",
   "execution_count": 111,
   "metadata": {},
   "outputs": [],
   "source": [
    "path = '../data/processed/holdings_s'\n",
    "sparse.save_npz(path, holdings_s)"
   ]
  },
  {
   "cell_type": "code",
   "execution_count": 112,
   "metadata": {},
   "outputs": [],
   "source": [
    "path = '../data/processed/holdings_b'\n",
    "sparse.save_npz(path, holdings_b)"
   ]
  },
  {
   "cell_type": "markdown",
   "metadata": {},
   "source": [
    "#### Sparse info"
   ]
  },
  {
   "cell_type": "code",
   "execution_count": null,
   "metadata": {},
   "outputs": [],
   "source": [
    "holdings_summary_s = holdings_summary_s.drop(columns=['index_fund_flag','et_flag','mutual_fund','sample','crsp_portno'])"
   ]
  },
  {
   "cell_type": "code",
   "execution_count": 136,
   "metadata": {},
   "outputs": [],
   "source": [
    "holdings_summary_s['report_dt'] = pd.to_datetime(holdings_summary_s['report_dt'], format='%Y-%m-%d')"
   ]
  },
  {
   "cell_type": "code",
   "execution_count": 137,
   "metadata": {},
   "outputs": [],
   "source": [
    "path = '../data/processed/holdings_summary_s.feather'\n",
    "feather.write_dataframe(holdings_summary_s,path)"
   ]
  },
  {
   "cell_type": "markdown",
   "metadata": {},
   "source": [
    "#### Returns"
   ]
  },
  {
   "cell_type": "code",
   "execution_count": 120,
   "metadata": {
    "collapsed": true
   },
   "outputs": [
    {
     "name": "stderr",
     "output_type": "stream",
     "text": [
      "/Users/alexandersteeb/.virtualenvs/mf/lib/python3.7/site-packages/ipykernel_launcher.py:6: UserWarning: Boolean Series key will be reindexed to match DataFrame index.\n",
      "  \n"
     ]
    },
    {
     "data": {
      "text/html": [
       "<div>\n",
       "<style scoped>\n",
       "    .dataframe tbody tr th:only-of-type {\n",
       "        vertical-align: middle;\n",
       "    }\n",
       "\n",
       "    .dataframe tbody tr th {\n",
       "        vertical-align: top;\n",
       "    }\n",
       "\n",
       "    .dataframe thead th {\n",
       "        text-align: right;\n",
       "    }\n",
       "</style>\n",
       "<table border=\"1\" class=\"dataframe\">\n",
       "  <thead>\n",
       "    <tr style=\"text-align: right;\">\n",
       "      <th></th>\n",
       "      <th>crsp_fundno</th>\n",
       "      <th>caldt</th>\n",
       "      <th>mret</th>\n",
       "    </tr>\n",
       "  </thead>\n",
       "  <tbody>\n",
       "    <tr>\n",
       "      <th>8666</th>\n",
       "      <td>105.0</td>\n",
       "      <td>2003-01-31</td>\n",
       "      <td>-0.027933</td>\n",
       "    </tr>\n",
       "    <tr>\n",
       "      <th>8667</th>\n",
       "      <td>105.0</td>\n",
       "      <td>2003-02-28</td>\n",
       "      <td>-0.022989</td>\n",
       "    </tr>\n",
       "    <tr>\n",
       "      <th>8668</th>\n",
       "      <td>105.0</td>\n",
       "      <td>2003-03-31</td>\n",
       "      <td>0.001471</td>\n",
       "    </tr>\n",
       "    <tr>\n",
       "      <th>8669</th>\n",
       "      <td>105.0</td>\n",
       "      <td>2003-04-30</td>\n",
       "      <td>0.107195</td>\n",
       "    </tr>\n",
       "    <tr>\n",
       "      <th>8670</th>\n",
       "      <td>105.0</td>\n",
       "      <td>2003-05-30</td>\n",
       "      <td>0.083554</td>\n",
       "    </tr>\n",
       "    <tr>\n",
       "      <th>8671</th>\n",
       "      <td>105.0</td>\n",
       "      <td>2003-06-30</td>\n",
       "      <td>0.036720</td>\n",
       "    </tr>\n",
       "    <tr>\n",
       "      <th>8672</th>\n",
       "      <td>105.0</td>\n",
       "      <td>2003-07-31</td>\n",
       "      <td>0.038961</td>\n",
       "    </tr>\n",
       "    <tr>\n",
       "      <th>8673</th>\n",
       "      <td>105.0</td>\n",
       "      <td>2003-08-29</td>\n",
       "      <td>0.035227</td>\n",
       "    </tr>\n",
       "    <tr>\n",
       "      <th>8674</th>\n",
       "      <td>105.0</td>\n",
       "      <td>2003-09-30</td>\n",
       "      <td>-0.005488</td>\n",
       "    </tr>\n",
       "    <tr>\n",
       "      <th>8675</th>\n",
       "      <td>105.0</td>\n",
       "      <td>2003-10-31</td>\n",
       "      <td>0.073951</td>\n",
       "    </tr>\n",
       "    <tr>\n",
       "      <th>8676</th>\n",
       "      <td>105.0</td>\n",
       "      <td>2003-11-28</td>\n",
       "      <td>0.009250</td>\n",
       "    </tr>\n",
       "    <tr>\n",
       "      <th>8677</th>\n",
       "      <td>105.0</td>\n",
       "      <td>2003-12-31</td>\n",
       "      <td>0.043788</td>\n",
       "    </tr>\n",
       "    <tr>\n",
       "      <th>8678</th>\n",
       "      <td>105.0</td>\n",
       "      <td>2004-01-30</td>\n",
       "      <td>0.036098</td>\n",
       "    </tr>\n",
       "    <tr>\n",
       "      <th>8679</th>\n",
       "      <td>105.0</td>\n",
       "      <td>2004-02-27</td>\n",
       "      <td>-0.002825</td>\n",
       "    </tr>\n",
       "    <tr>\n",
       "      <th>8680</th>\n",
       "      <td>105.0</td>\n",
       "      <td>2004-03-31</td>\n",
       "      <td>-0.003777</td>\n",
       "    </tr>\n",
       "    <tr>\n",
       "      <th>8681</th>\n",
       "      <td>105.0</td>\n",
       "      <td>2004-04-30</td>\n",
       "      <td>-0.048341</td>\n",
       "    </tr>\n",
       "    <tr>\n",
       "      <th>8682</th>\n",
       "      <td>105.0</td>\n",
       "      <td>2004-05-28</td>\n",
       "      <td>0.024900</td>\n",
       "    </tr>\n",
       "    <tr>\n",
       "      <th>8683</th>\n",
       "      <td>105.0</td>\n",
       "      <td>2004-06-30</td>\n",
       "      <td>0.024295</td>\n",
       "    </tr>\n",
       "    <tr>\n",
       "      <th>8684</th>\n",
       "      <td>105.0</td>\n",
       "      <td>2004-07-30</td>\n",
       "      <td>-0.072106</td>\n",
       "    </tr>\n",
       "    <tr>\n",
       "      <th>8685</th>\n",
       "      <td>105.0</td>\n",
       "      <td>2004-08-31</td>\n",
       "      <td>-0.011247</td>\n",
       "    </tr>\n",
       "    <tr>\n",
       "      <th>8686</th>\n",
       "      <td>105.0</td>\n",
       "      <td>2004-09-30</td>\n",
       "      <td>0.045502</td>\n",
       "    </tr>\n",
       "    <tr>\n",
       "      <th>8687</th>\n",
       "      <td>105.0</td>\n",
       "      <td>2004-10-29</td>\n",
       "      <td>0.036597</td>\n",
       "    </tr>\n",
       "    <tr>\n",
       "      <th>8688</th>\n",
       "      <td>105.0</td>\n",
       "      <td>2004-11-30</td>\n",
       "      <td>0.079198</td>\n",
       "    </tr>\n",
       "    <tr>\n",
       "      <th>8689</th>\n",
       "      <td>105.0</td>\n",
       "      <td>2004-12-31</td>\n",
       "      <td>0.031830</td>\n",
       "    </tr>\n",
       "    <tr>\n",
       "      <th>8690</th>\n",
       "      <td>105.0</td>\n",
       "      <td>2005-01-31</td>\n",
       "      <td>-0.057412</td>\n",
       "    </tr>\n",
       "    <tr>\n",
       "      <th>8691</th>\n",
       "      <td>105.0</td>\n",
       "      <td>2005-02-28</td>\n",
       "      <td>0.021818</td>\n",
       "    </tr>\n",
       "    <tr>\n",
       "      <th>8692</th>\n",
       "      <td>105.0</td>\n",
       "      <td>2005-03-31</td>\n",
       "      <td>-0.015125</td>\n",
       "    </tr>\n",
       "    <tr>\n",
       "      <th>8693</th>\n",
       "      <td>105.0</td>\n",
       "      <td>2005-04-29</td>\n",
       "      <td>-0.044264</td>\n",
       "    </tr>\n",
       "    <tr>\n",
       "      <th>8694</th>\n",
       "      <td>105.0</td>\n",
       "      <td>2005-05-31</td>\n",
       "      <td>0.067108</td>\n",
       "    </tr>\n",
       "    <tr>\n",
       "      <th>8695</th>\n",
       "      <td>105.0</td>\n",
       "      <td>2005-06-30</td>\n",
       "      <td>0.003543</td>\n",
       "    </tr>\n",
       "    <tr>\n",
       "      <th>...</th>\n",
       "      <td>...</td>\n",
       "      <td>...</td>\n",
       "      <td>...</td>\n",
       "    </tr>\n",
       "    <tr>\n",
       "      <th>7128206</th>\n",
       "      <td>85816.0</td>\n",
       "      <td>2016-07-29</td>\n",
       "      <td>0.043768</td>\n",
       "    </tr>\n",
       "    <tr>\n",
       "      <th>7128207</th>\n",
       "      <td>85816.0</td>\n",
       "      <td>2016-08-31</td>\n",
       "      <td>-0.003821</td>\n",
       "    </tr>\n",
       "    <tr>\n",
       "      <th>7128208</th>\n",
       "      <td>85816.0</td>\n",
       "      <td>2016-09-30</td>\n",
       "      <td>-0.015643</td>\n",
       "    </tr>\n",
       "    <tr>\n",
       "      <th>7128209</th>\n",
       "      <td>85816.0</td>\n",
       "      <td>2016-10-31</td>\n",
       "      <td>-0.025536</td>\n",
       "    </tr>\n",
       "    <tr>\n",
       "      <th>7128210</th>\n",
       "      <td>85816.0</td>\n",
       "      <td>2016-11-30</td>\n",
       "      <td>-0.015753</td>\n",
       "    </tr>\n",
       "    <tr>\n",
       "      <th>7128211</th>\n",
       "      <td>85816.0</td>\n",
       "      <td>2016-12-30</td>\n",
       "      <td>0.014699</td>\n",
       "    </tr>\n",
       "    <tr>\n",
       "      <th>7128212</th>\n",
       "      <td>85816.0</td>\n",
       "      <td>2017-01-31</td>\n",
       "      <td>0.006424</td>\n",
       "    </tr>\n",
       "    <tr>\n",
       "      <th>7128213</th>\n",
       "      <td>85816.0</td>\n",
       "      <td>2017-02-28</td>\n",
       "      <td>0.010453</td>\n",
       "    </tr>\n",
       "    <tr>\n",
       "      <th>7128214</th>\n",
       "      <td>85816.0</td>\n",
       "      <td>2017-03-31</td>\n",
       "      <td>-0.011835</td>\n",
       "    </tr>\n",
       "    <tr>\n",
       "      <th>7128215</th>\n",
       "      <td>85816.0</td>\n",
       "      <td>2017-04-28</td>\n",
       "      <td>0.000735</td>\n",
       "    </tr>\n",
       "    <tr>\n",
       "      <th>7128216</th>\n",
       "      <td>85816.0</td>\n",
       "      <td>2017-05-31</td>\n",
       "      <td>-0.009571</td>\n",
       "    </tr>\n",
       "    <tr>\n",
       "      <th>7128217</th>\n",
       "      <td>85816.0</td>\n",
       "      <td>2017-06-30</td>\n",
       "      <td>0.020344</td>\n",
       "    </tr>\n",
       "    <tr>\n",
       "      <th>7128218</th>\n",
       "      <td>85816.0</td>\n",
       "      <td>2017-07-31</td>\n",
       "      <td>0.017673</td>\n",
       "    </tr>\n",
       "    <tr>\n",
       "      <th>7128219</th>\n",
       "      <td>85816.0</td>\n",
       "      <td>2017-08-31</td>\n",
       "      <td>-0.006936</td>\n",
       "    </tr>\n",
       "    <tr>\n",
       "      <th>7128220</th>\n",
       "      <td>85816.0</td>\n",
       "      <td>2017-09-29</td>\n",
       "      <td>0.003588</td>\n",
       "    </tr>\n",
       "    <tr>\n",
       "      <th>7128221</th>\n",
       "      <td>85816.0</td>\n",
       "      <td>2017-10-31</td>\n",
       "      <td>-0.009977</td>\n",
       "    </tr>\n",
       "    <tr>\n",
       "      <th>7128222</th>\n",
       "      <td>85816.0</td>\n",
       "      <td>2017-11-30</td>\n",
       "      <td>0.011034</td>\n",
       "    </tr>\n",
       "    <tr>\n",
       "      <th>7128223</th>\n",
       "      <td>85816.0</td>\n",
       "      <td>2017-12-29</td>\n",
       "      <td>0.001637</td>\n",
       "    </tr>\n",
       "    <tr>\n",
       "      <th>7128224</th>\n",
       "      <td>85816.0</td>\n",
       "      <td>2018-01-31</td>\n",
       "      <td>-0.038554</td>\n",
       "    </tr>\n",
       "    <tr>\n",
       "      <th>7128225</th>\n",
       "      <td>85816.0</td>\n",
       "      <td>2018-02-28</td>\n",
       "      <td>-0.047906</td>\n",
       "    </tr>\n",
       "    <tr>\n",
       "      <th>7128226</th>\n",
       "      <td>85816.0</td>\n",
       "      <td>2018-03-29</td>\n",
       "      <td>0.008060</td>\n",
       "    </tr>\n",
       "    <tr>\n",
       "      <th>7128227</th>\n",
       "      <td>85816.0</td>\n",
       "      <td>2018-04-30</td>\n",
       "      <td>0.010360</td>\n",
       "    </tr>\n",
       "    <tr>\n",
       "      <th>7128228</th>\n",
       "      <td>85816.0</td>\n",
       "      <td>2018-05-31</td>\n",
       "      <td>0.036064</td>\n",
       "    </tr>\n",
       "    <tr>\n",
       "      <th>7128229</th>\n",
       "      <td>85816.0</td>\n",
       "      <td>2018-06-29</td>\n",
       "      <td>0.030967</td>\n",
       "    </tr>\n",
       "    <tr>\n",
       "      <th>7128230</th>\n",
       "      <td>85816.0</td>\n",
       "      <td>2018-07-31</td>\n",
       "      <td>0.002258</td>\n",
       "    </tr>\n",
       "    <tr>\n",
       "      <th>7128231</th>\n",
       "      <td>85816.0</td>\n",
       "      <td>2018-08-31</td>\n",
       "      <td>0.018966</td>\n",
       "    </tr>\n",
       "    <tr>\n",
       "      <th>7128232</th>\n",
       "      <td>85816.0</td>\n",
       "      <td>2018-09-28</td>\n",
       "      <td>-0.020630</td>\n",
       "    </tr>\n",
       "    <tr>\n",
       "      <th>7128233</th>\n",
       "      <td>85816.0</td>\n",
       "      <td>2018-10-31</td>\n",
       "      <td>-0.047727</td>\n",
       "    </tr>\n",
       "    <tr>\n",
       "      <th>7128234</th>\n",
       "      <td>85816.0</td>\n",
       "      <td>2018-11-30</td>\n",
       "      <td>0.003584</td>\n",
       "    </tr>\n",
       "    <tr>\n",
       "      <th>7128235</th>\n",
       "      <td>85816.0</td>\n",
       "      <td>2018-12-31</td>\n",
       "      <td>-0.050893</td>\n",
       "    </tr>\n",
       "  </tbody>\n",
       "</table>\n",
       "<p>1628395 rows × 3 columns</p>\n",
       "</div>"
      ],
      "text/plain": [
       "         crsp_fundno       caldt      mret\n",
       "8666           105.0  2003-01-31 -0.027933\n",
       "8667           105.0  2003-02-28 -0.022989\n",
       "8668           105.0  2003-03-31  0.001471\n",
       "8669           105.0  2003-04-30  0.107195\n",
       "8670           105.0  2003-05-30  0.083554\n",
       "8671           105.0  2003-06-30  0.036720\n",
       "8672           105.0  2003-07-31  0.038961\n",
       "8673           105.0  2003-08-29  0.035227\n",
       "8674           105.0  2003-09-30 -0.005488\n",
       "8675           105.0  2003-10-31  0.073951\n",
       "8676           105.0  2003-11-28  0.009250\n",
       "8677           105.0  2003-12-31  0.043788\n",
       "8678           105.0  2004-01-30  0.036098\n",
       "8679           105.0  2004-02-27 -0.002825\n",
       "8680           105.0  2004-03-31 -0.003777\n",
       "8681           105.0  2004-04-30 -0.048341\n",
       "8682           105.0  2004-05-28  0.024900\n",
       "8683           105.0  2004-06-30  0.024295\n",
       "8684           105.0  2004-07-30 -0.072106\n",
       "8685           105.0  2004-08-31 -0.011247\n",
       "8686           105.0  2004-09-30  0.045502\n",
       "8687           105.0  2004-10-29  0.036597\n",
       "8688           105.0  2004-11-30  0.079198\n",
       "8689           105.0  2004-12-31  0.031830\n",
       "8690           105.0  2005-01-31 -0.057412\n",
       "8691           105.0  2005-02-28  0.021818\n",
       "8692           105.0  2005-03-31 -0.015125\n",
       "8693           105.0  2005-04-29 -0.044264\n",
       "8694           105.0  2005-05-31  0.067108\n",
       "8695           105.0  2005-06-30  0.003543\n",
       "...              ...         ...       ...\n",
       "7128206      85816.0  2016-07-29  0.043768\n",
       "7128207      85816.0  2016-08-31 -0.003821\n",
       "7128208      85816.0  2016-09-30 -0.015643\n",
       "7128209      85816.0  2016-10-31 -0.025536\n",
       "7128210      85816.0  2016-11-30 -0.015753\n",
       "7128211      85816.0  2016-12-30  0.014699\n",
       "7128212      85816.0  2017-01-31  0.006424\n",
       "7128213      85816.0  2017-02-28  0.010453\n",
       "7128214      85816.0  2017-03-31 -0.011835\n",
       "7128215      85816.0  2017-04-28  0.000735\n",
       "7128216      85816.0  2017-05-31 -0.009571\n",
       "7128217      85816.0  2017-06-30  0.020344\n",
       "7128218      85816.0  2017-07-31  0.017673\n",
       "7128219      85816.0  2017-08-31 -0.006936\n",
       "7128220      85816.0  2017-09-29  0.003588\n",
       "7128221      85816.0  2017-10-31 -0.009977\n",
       "7128222      85816.0  2017-11-30  0.011034\n",
       "7128223      85816.0  2017-12-29  0.001637\n",
       "7128224      85816.0  2018-01-31 -0.038554\n",
       "7128225      85816.0  2018-02-28 -0.047906\n",
       "7128226      85816.0  2018-03-29  0.008060\n",
       "7128227      85816.0  2018-04-30  0.010360\n",
       "7128228      85816.0  2018-05-31  0.036064\n",
       "7128229      85816.0  2018-06-29  0.030967\n",
       "7128230      85816.0  2018-07-31  0.002258\n",
       "7128231      85816.0  2018-08-31  0.018966\n",
       "7128232      85816.0  2018-09-28 -0.020630\n",
       "7128233      85816.0  2018-10-31 -0.047727\n",
       "7128234      85816.0  2018-11-30  0.003584\n",
       "7128235      85816.0  2018-12-31 -0.050893\n",
       "\n",
       "[1628395 rows x 3 columns]"
      ]
     },
     "execution_count": 120,
     "metadata": {},
     "output_type": "execute_result"
    }
   ],
   "source": [
    "# Convert to date format and filter based on date\n",
    "begin_date = '2003-01-01' \n",
    "\n",
    "\n",
    "date =  pd.to_datetime(returns['caldt'], format='%Y-%m-%d')\n",
    "returns_s = returns_s[date > begin_date]"
   ]
  },
  {
   "cell_type": "code",
   "execution_count": 121,
   "metadata": {},
   "outputs": [],
   "source": [
    "path = '../data/processed/returns_s.feather'\n",
    "feather.write_dataframe(returns_s,path)"
   ]
  },
  {
   "cell_type": "markdown",
   "metadata": {},
   "source": [
    "## Take smaller sub_sub sample (Everything before specified year)\n",
    "Makes processing faster"
   ]
  },
  {
   "cell_type": "code",
   "execution_count": 122,
   "metadata": {},
   "outputs": [],
   "source": [
    "start_date = '2015-01-01'\n",
    "start_date = datetime.datetime.strptime(start_date, '%Y-%M-%d').date()\n",
    "end_date = '2018-01-01'\n",
    "end_date = datetime.datetime.strptime(end_date, '%Y-%M-%d').date()"
   ]
  },
  {
   "cell_type": "markdown",
   "metadata": {},
   "source": [
    "#### Holdings & holdings_summary"
   ]
  },
  {
   "cell_type": "code",
   "execution_count": 123,
   "metadata": {},
   "outputs": [],
   "source": [
    "mask = (holdings_summary_s['report_dt'] > start_date) & (holdings_summary_s['report_dt'] < end_date)"
   ]
  },
  {
   "cell_type": "code",
   "execution_count": 124,
   "metadata": {},
   "outputs": [],
   "source": [
    "holdings_s_s = holdings_s[mask.values]\n",
    "holdings_b_b = holdings_b[mask.values]"
   ]
  },
  {
   "cell_type": "code",
   "execution_count": 125,
   "metadata": {},
   "outputs": [],
   "source": [
    "holdings_summary_s_s = holdings_summary_s[mask]"
   ]
  },
  {
   "cell_type": "markdown",
   "metadata": {},
   "source": [
    "#### Test"
   ]
  },
  {
   "cell_type": "code",
   "execution_count": 126,
   "metadata": {},
   "outputs": [
    {
     "data": {
      "text/plain": [
       "(51348, 28210)"
      ]
     },
     "execution_count": 126,
     "metadata": {},
     "output_type": "execute_result"
    }
   ],
   "source": [
    "holdings_s_s.shape"
   ]
  },
  {
   "cell_type": "code",
   "execution_count": 127,
   "metadata": {},
   "outputs": [
    {
     "data": {
      "text/plain": [
       "(51348, 6)"
      ]
     },
     "execution_count": 127,
     "metadata": {},
     "output_type": "execute_result"
    }
   ],
   "source": [
    "holdings_summary_s_s.shape"
   ]
  },
  {
   "cell_type": "markdown",
   "metadata": {},
   "source": [
    "#### Returns"
   ]
  },
  {
   "cell_type": "code",
   "execution_count": 128,
   "metadata": {},
   "outputs": [],
   "source": [
    "mask = (returns_s['caldt'] > start_date) & (returns_s['caldt'] < end_date)\n",
    "returns_s_s = returns_s[mask]"
   ]
  },
  {
   "cell_type": "markdown",
   "metadata": {},
   "source": [
    "### Save final cleaned and filtered data"
   ]
  },
  {
   "cell_type": "markdown",
   "metadata": {},
   "source": [
    "#### Sparse matrix"
   ]
  },
  {
   "cell_type": "code",
   "execution_count": 132,
   "metadata": {},
   "outputs": [],
   "source": [
    "path = '../data/processed/holdings_s_s'\n",
    "sparse.save_npz(path, holdings_s_s)\n",
    "\n",
    "path = '../data/processed/holdings_b_b'\n",
    "sparse.save_npz(path, holdings_b_b)"
   ]
  },
  {
   "cell_type": "markdown",
   "metadata": {},
   "source": [
    "#### Sparse info"
   ]
  },
  {
   "cell_type": "code",
   "execution_count": 133,
   "metadata": {},
   "outputs": [],
   "source": [
    "path = '../data/processed/holdings_summary_s_s.feather'\n",
    "feather.write_dataframe(holdings_summary_s_s,path)"
   ]
  },
  {
   "cell_type": "markdown",
   "metadata": {},
   "source": [
    "#### Returns"
   ]
  },
  {
   "cell_type": "code",
   "execution_count": 134,
   "metadata": {},
   "outputs": [],
   "source": [
    "path = '../data/processed/returns_s_s.feather'\n",
    "feather.write_dataframe(returns_s_s,path)"
   ]
  },
  {
   "cell_type": "code",
   "execution_count": null,
   "metadata": {},
   "outputs": [],
   "source": []
  }
 ],
 "metadata": {
  "kernelspec": {
   "display_name": "Python 3",
   "language": "python",
   "name": "python3"
  },
  "language_info": {
   "codemirror_mode": {
    "name": "ipython",
    "version": 3
   },
   "file_extension": ".py",
   "mimetype": "text/x-python",
   "name": "python",
   "nbconvert_exporter": "python",
   "pygments_lexer": "ipython3",
   "version": "3.7.1"
  }
 },
 "nbformat": 4,
 "nbformat_minor": 2
}
