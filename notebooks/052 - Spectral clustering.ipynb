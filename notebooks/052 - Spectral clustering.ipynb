{
 "cells": [
  {
   "cell_type": "markdown",
   "metadata": {
    "toc": true
   },
   "source": [
    "<h1>Table of Contents<span class=\"tocSkip\"></span></h1>\n",
    "<div class=\"toc\"><ul class=\"toc-item\"><li><span><a href=\"#Description\" data-toc-modified-id=\"Description-1\"><span class=\"toc-item-num\">1&nbsp;&nbsp;</span>Description</a></span></li><li><span><a href=\"#Setup\" data-toc-modified-id=\"Setup-2\"><span class=\"toc-item-num\">2&nbsp;&nbsp;</span>Setup</a></span></li><li><span><a href=\"#Other-functions\" data-toc-modified-id=\"Other-functions-3\"><span class=\"toc-item-num\">3&nbsp;&nbsp;</span>Other functions</a></span></li><li><span><a href=\"#Test\" data-toc-modified-id=\"Test-4\"><span class=\"toc-item-num\">4&nbsp;&nbsp;</span>Test</a></span></li><li><span><a href=\"#Clustering\" data-toc-modified-id=\"Clustering-5\"><span class=\"toc-item-num\">5&nbsp;&nbsp;</span>Clustering</a></span><ul class=\"toc-item\"><li><span><a href=\"#Options\" data-toc-modified-id=\"Options-5.1\"><span class=\"toc-item-num\">5.1&nbsp;&nbsp;</span>Options</a></span></li><li><span><a href=\"#Spectral\" data-toc-modified-id=\"Spectral-5.2\"><span class=\"toc-item-num\">5.2&nbsp;&nbsp;</span>Spectral</a></span></li><li><span><a href=\"#K-means\" data-toc-modified-id=\"K-means-5.3\"><span class=\"toc-item-num\">5.3&nbsp;&nbsp;</span>K-means</a></span></li><li><span><a href=\"#Graphs\" data-toc-modified-id=\"Graphs-5.4\"><span class=\"toc-item-num\">5.4&nbsp;&nbsp;</span>Graphs</a></span></li></ul></li><li><span><a href=\"#Visualize\" data-toc-modified-id=\"Visualize-6\"><span class=\"toc-item-num\">6&nbsp;&nbsp;</span>Visualize</a></span></li><li><span><a href=\"#Chart-the-returns-of-the-formed-clustes\" data-toc-modified-id=\"Chart-the-returns-of-the-formed-clustes-7\"><span class=\"toc-item-num\">7&nbsp;&nbsp;</span>Chart the returns of the formed clustes</a></span></li><li><span><a href=\"#Analysing-clusters\" data-toc-modified-id=\"Analysing-clusters-8\"><span class=\"toc-item-num\">8&nbsp;&nbsp;</span>Analysing clusters</a></span></li></ul></div>"
   ]
  },
  {
   "cell_type": "markdown",
   "metadata": {},
   "source": [
    "# Clustering"
   ]
  },
  {
   "cell_type": "markdown",
   "metadata": {},
   "source": [
    "## Description"
   ]
  },
  {
   "cell_type": "markdown",
   "metadata": {},
   "source": [
    "- Cluster funds using Spektral Clustering"
   ]
  },
  {
   "cell_type": "markdown",
   "metadata": {},
   "source": [
    "## Setup"
   ]
  },
  {
   "cell_type": "code",
   "execution_count": 1,
   "metadata": {
    "pycharm": {
     "is_executing": false
    }
   },
   "outputs": [],
   "source": [
    "import feather\n",
    "from itertools import product\n",
    "\n",
    "import numpy as np\n",
    "import pandas as pd\n",
    "import seaborn as sns\n",
    "from scipy import sparse\n",
    "from scipy.spatial.distance import euclidean\n",
    "\n",
    "import matplotlib.pyplot as plt\n",
    "import matplotlib.cm as cm\n",
    "\n",
    "from sklearn.preprocessing import normalize, LabelEncoder\n",
    "from sklearn.cluster import KMeans, SpectralClustering\n",
    "from sklearn.metrics import silhouette_samples, silhouette_score, davies_bouldin_score"
   ]
  },
  {
   "cell_type": "code",
   "execution_count": 2,
   "metadata": {},
   "outputs": [],
   "source": [
    "### Returns\n",
    "path = '../data/processed/returns.feather'\n",
    "returns = feather.read_dataframe(path)\n",
    "returns = returns.rename(columns = {'caldt' : 'report_dt'})\n",
    "returns = returns.assign(year = returns['report_dt'].dt.year)\n",
    "\n",
    "### row_info\n",
    "path = '../data/processed/row_info.feather'\n",
    "row_info = feather.read_dataframe(path)\n",
    "le = LabelEncoder()\n",
    "row_info['lipper_class_num'] = le.fit_transform(row_info['lipper_class'])\n",
    "\n",
    "### col_info\n",
    "path = '../data/processed/col_info.feather'\n",
    "col_info = feather.read_dataframe(path)\n",
    "\n",
    "### Holdings\n",
    "path = '../data/processed/holdings.npz'\n",
    "holdings = sparse.load_npz(path)"
   ]
  },
  {
   "cell_type": "markdown",
   "metadata": {},
   "source": [
    "## Other functions"
   ]
  },
  {
   "cell_type": "code",
   "execution_count": 3,
   "metadata": {},
   "outputs": [],
   "source": [
    "def filter_data(year, verbose = False):\n",
    "    \n",
    "    verbose = param['verbose']\n",
    "    year = param['year']\n",
    "        \n",
    "    row_info_f = row_info.copy()\n",
    "    if (year != 'full'):    # If year = full take whole sample\n",
    "        row_info_f = row_info_f.query('year == @year')\n",
    "\n",
    "    begin_date = row_info_f.iloc[0,:]['report_dt']\n",
    "    end_date = begin_date + pd.DateOffset(years=1, months=1, days = 5) # 1 year offset\n",
    "    row_info_f.reset_index(drop = True, inplace=True)\n",
    "\n",
    "    # Filter returns\n",
    "    crsp_fundno_unique = row_info_f['crsp_fundno'].unique()\n",
    "    returns_f = returns.copy()\n",
    "    query = '''report_dt >= @begin_date and report_dt <= @end_date and crsp_fundno in @crsp_fundno_unique'''\n",
    "    returns_f = returns_f.query(query)\n",
    "\n",
    "    # Change return of month for which holdings apply to 0\n",
    "    returns_f = returns_f.copy()\n",
    "    mask = returns_f['report_dt'] == begin_date\n",
    "    returns_f.loc[mask,'mret'] = 0\n",
    "\n",
    "    # Filter holdings accordingly and delet all securities with less than two observations\n",
    "    holdings_f = holdings.copy()\n",
    "    holdings_f = holdings[row_info_f['row']]\n",
    "    \n",
    "    holdings_b = sparse.csr_matrix(holdings_f, copy=True)\n",
    "    holdings_b.data = np.ones(len(holdings_f.data))\n",
    "\n",
    "    sum_sec_boolean = holdings_b.toarray().sum(0)\n",
    "    col_mask = (sum_sec_boolean >= 2).flatten()\n",
    "\n",
    "    holdings_f = holdings_f.tocsc()\n",
    "    holdings_f = holdings_f[:,col_mask]\n",
    "    holdings_f = holdings_f.tocsr()\n",
    "    \n",
    "    ## Preprocessing\n",
    "    holdings_ft = normalize(holdings_f)\n",
    "    \n",
    "    if (verbose):\n",
    "        print('Numer of unique funds:           {:10,d}'.format(row_info_f.shape[0]))\n",
    "\n",
    "        print('Numer of unique securities:      {:10,d}'.format(holdings_ft.shape[1]))\n",
    "\n",
    "        print('Begin date:                      {}'.format(begin_date.date()))\n",
    "        print('End date:                        {}'.format(end_date.date()))\n",
    "    \n",
    "    return(row_info_f, returns_f, holdings_ft, begin_date, end_date)"
   ]
  },
  {
   "cell_type": "code",
   "execution_count": 4,
   "metadata": {},
   "outputs": [],
   "source": [
    "def spectral_clustering(holdings_ft, param):\n",
    "    verbose = param['verbose']\n",
    "\n",
    "    if(verbose): print('Start clustering...')\n",
    "    clustering = SpectralClustering(n_clusters = param['n_clusters'],\n",
    "                                    assign_labels = param['assign_labels'], # kmeans or discretize\n",
    "                                    eigen_solver = 'arpack',\n",
    "                                    affinity = param['affinity'],\n",
    "                                    gamma = param['gamma'],\n",
    "                                    n_init = param['n_init'],\n",
    "                                    n_jobs = -1,\n",
    "                                    random_state = 0).fit(holdings_ft)\n",
    "    if(verbose): print('Clustering finished')\n",
    "    \n",
    "    return(clustering)"
   ]
  },
  {
   "cell_type": "code",
   "execution_count": 5,
   "metadata": {},
   "outputs": [],
   "source": [
    "def kmeans_clustering(holdings_ft, param):\n",
    "    verbose = param['verbose']\n",
    "\n",
    "    if(verbose): print('Start clustering...')\n",
    "    clustering = KMeans(n_clusters = param['n_clusters'],\n",
    "                        verbose = verbose,\n",
    "                        n_init = param['n_init'], # Number of runs\n",
    "                        n_jobs= -1,\n",
    "                        random_state = 1\n",
    "                       ).fit(holdings_ft)\n",
    "    \n",
    "    if(verbose): print('Clustering finished')\n",
    "    \n",
    "    return(clustering)"
   ]
  },
  {
   "cell_type": "markdown",
   "metadata": {},
   "source": [
    "## Test"
   ]
  },
  {
   "cell_type": "code",
   "execution_count": 6,
   "metadata": {},
   "outputs": [],
   "source": [
    "def calc_styleadj_returns(row_info_f,returns_f,style_cols):\n",
    "\n",
    "    row_info_m = row_info_f.copy()\n",
    "    returns_m = returns_f.copy()\n",
    "    cols = style_cols\n",
    "    \n",
    "    returns_m = returns_m.sort_values(['crsp_fundno','report_dt'])\n",
    "\n",
    "    col = 'cluster'\n",
    "\n",
    "    # merge predicted styles onto returns\n",
    "    returns_m = returns_m.merge(row_info_m[['crsp_fundno', 'report_dt', col]],\n",
    "                            how='left',\n",
    "                            on=['crsp_fundno', 'report_dt'])\n",
    "\n",
    "    # Drop all funds with first return observation after starting date\n",
    "    drop_fundnos = returns_m.drop_duplicates('crsp_fundno').query('mret != 0')['crsp_fundno']\n",
    "    temp = returns_m.query('crsp_fundno not in @drop_fundnos')\n",
    "\n",
    "    # Forward fill all styles and drop nas\n",
    "    returns_m = (temp\n",
    "                        .apply(lambda x: x.fillna(method = 'ffill'))\n",
    "    )\n",
    "\n",
    "    # Calc mean return per style\n",
    "    style_returns = (returns_m\n",
    "                        .groupby([col,'report_dt'])\n",
    "                        .mean()\n",
    "                        .reset_index()\n",
    "                        .drop(columns='crsp_fundno')\n",
    "    )\n",
    "\n",
    "    # Merge style returns onto fund returns and calc tracking error\n",
    "    returns_m = (returns_m\n",
    "                        .rename(columns = {'mret' : 'fund_ret'}) \n",
    "                        .merge(style_returns,\n",
    "                                    how = 'left',\n",
    "                                    on = [col,'report_dt'])\n",
    "                        .assign(error = lambda df: df['fund_ret'] - df['mret'])\n",
    "                        .rename(columns = {'mret' : 'style_ret'}) \n",
    "    )\n",
    "\n",
    "    returns_m = returns_m[['crsp_fundno', 'report_dt', col,\n",
    "                       'fund_ret', 'style_ret', 'error']]\n",
    "\n",
    "    return(returns_m, style_returns)"
   ]
  },
  {
   "cell_type": "code",
   "execution_count": 20,
   "metadata": {},
   "outputs": [],
   "source": [
    "def error_vola_deciles(returns_m): \n",
    "    error_vol = (returns_m\n",
    "                 .groupby(['crsp_fundno'])['error']\n",
    "                 .std()\n",
    "                 .reset_index())\n",
    "    error_vol['error'] = error_vol['error'] * 100\n",
    "    \n",
    "    error_vol = (error_vol[['error']]\n",
    "                .apply(lambda x : x.quantile(np.round(np.arange(0.1,1,0.1),2))))\n",
    "    return(error_vol)\n",
    "\n",
    "def error_vola_describe(returns_m): \n",
    "    error_vol = (returns_m\n",
    "                 .groupby(['crsp_fundno'])['error']\n",
    "                 .std()\n",
    "                 .reset_index())\n",
    "    error_vol['error'] = error_vol['error'] * 100\n",
    "    return(error_vol[['error']].describe().T)"
   ]
  },
  {
   "cell_type": "code",
   "execution_count": 40,
   "metadata": {},
   "outputs": [],
   "source": [
    "returns_s = returns_m"
   ]
  },
  {
   "cell_type": "code",
   "execution_count": null,
   "metadata": {},
   "outputs": [],
   "source": []
  },
  {
   "cell_type": "code",
   "execution_count": null,
   "metadata": {},
   "outputs": [],
   "source": []
  },
  {
   "cell_type": "code",
   "execution_count": null,
   "metadata": {},
   "outputs": [],
   "source": []
  },
  {
   "cell_type": "code",
   "execution_count": null,
   "metadata": {},
   "outputs": [],
   "source": []
  },
  {
   "cell_type": "code",
   "execution_count": 8,
   "metadata": {},
   "outputs": [],
   "source": [
    "def plot_cluster(row_info_f, style, ax):\n",
    "    data = round(\n",
    "        pd.crosstab(\n",
    "            row_info_f[style],row_info_f['cluster'], \n",
    "            margins = True, normalize = 'columns') * 100, 2).T\n",
    "\n",
    "    data.plot(kind='bar', \n",
    "                 stacked=True, ax = ax)\n",
    "\n",
    "    ax.legend().remove()\n",
    "    label_list = data.columns.values.astype(str).repeat(data.shape[0])\n",
    "    rects = ax.patches\n",
    "\n",
    "    # For each bar: Place a label\n",
    "    for i, rect in enumerate(rects):\n",
    "        if rect.get_height() > 10:\n",
    "            # Get X and Y placement of label from rect.\n",
    "            x_value = rect.get_x() + rect.get_width() / 2\n",
    "            y_value = rect.get_y() + rect.get_height() / 2\n",
    "\n",
    "            # Use X value as label and format number with one decimal place\n",
    "            label = \"{}\".format(label_list[i])\n",
    "\n",
    "            # Create annotation\n",
    "            ax.annotate(\n",
    "                label,                        # Use `label` as label\n",
    "                (x_value, y_value),           # Place label at end of the bar\n",
    "                xytext = (0, 0),              # Horizontally shift label by `space`\n",
    "                textcoords = 'offset points', # Interpret `xytext` as offset in points\n",
    "                va='center',                  # Vertically center label\n",
    "                ha='center',\n",
    "                color = 'white',\n",
    "                size = 12)                  # Horizontally align label \n",
    "    return(ax)\n",
    "    \n",
    "def plot_cluster_wrapper(row_info_f):\n",
    "    \n",
    "    f, axes = plt.subplots(nrows = 4, ncols=1, sharex=True, \n",
    "                           figsize = (15,6), gridspec_kw={'height_ratios':[1,2,2,2]})\n",
    "    \n",
    "    data = row_info_f['cluster'].value_counts(sort=False).append(to_append = pd.Series([0]))\n",
    "    data.plot(kind='bar', ax = axes[0])\n",
    "    axes[0].annotate('Total: {:,d}'.format(np.sum(data)),(5,100),ha ='center')\n",
    "\n",
    "    plot_cluster(row_info_f,'cap_class', ax = axes[1])\n",
    "    plot_cluster(row_info_f,'style_class', ax = axes[2])\n",
    "    plot_cluster(row_info_f,'lipper_class', ax = axes[3])"
   ]
  },
  {
   "cell_type": "code",
   "execution_count": 9,
   "metadata": {},
   "outputs": [],
   "source": [
    "def expand_grid(dictionary):\n",
    "    temp = pd.DataFrame([row for row in product(*dictionary.values())], \n",
    "                           columns=dictionary.keys())\n",
    "    return(temp)"
   ]
  },
  {
   "cell_type": "code",
   "execution_count": 10,
   "metadata": {},
   "outputs": [],
   "source": [
    "def weighted_average_score(param_grid, relevant_params, measures):\n",
    "\n",
    "\n",
    "    param_grid['param_id'] = (param_grid\n",
    "                                  .groupby(relevant_params)\n",
    "                                  .ngroup())\n",
    "        \n",
    "    scores = param_grid[measures]\n",
    "    params_only = param_grid.drop(columns = measures)\n",
    "    \n",
    "    weights = (param_grid[['year','count']]\n",
    "                                  .drop_duplicates()\n",
    "                                  .assign(weight = lambda x: x['count'] / np.sum(x['count'])))\n",
    "    weights = weights[['weight']].values\n",
    "\n",
    "    scores = scores.groupby(params_only['param_id']).apply(lambda x: np.sum(x * weights))\n",
    "\n",
    "    params_only = (params_only\n",
    "                      .drop_duplicates(relevant_params)\n",
    "                      .drop(columns = ['year','count']))\n",
    "\n",
    "    result = params_only.merge(scores, how = 'left', on = 'param_id')\n",
    "    \n",
    "    return(result)"
   ]
  },
  {
   "cell_type": "markdown",
   "metadata": {},
   "source": [
    "## Clustering"
   ]
  },
  {
   "cell_type": "markdown",
   "metadata": {},
   "source": [
    "### Options"
   ]
  },
  {
   "cell_type": "code",
   "execution_count": 11,
   "metadata": {},
   "outputs": [],
   "source": [
    "full = [2010, 2011, 2012, 2013, 2014, 2015, 2016, 2017, 2018]\n",
    "param = dict(\n",
    "    year             = [2016],         # Integer or string 'full' for the whole sample\n",
    "    n_clusters       = [12,14],\n",
    "    assign_labels    = ['kmeans'],       # 'kmeans' or 'discretize'\n",
    "    affinity         = ['rbf'],          # One of: rbf, nearest_neighbors\n",
    "    gamma            = [1],              # Sigma for rbf kernal\n",
    "    n_init           = [10],            # N init of kmeans\n",
    "    style_class      = ['lipper_class'], # Choose lipper_class, style_class or cap_class    \n",
    "    verbose          = [False]\n",
    ")\n",
    "\n",
    "param_grid = expand_grid(param)"
   ]
  },
  {
   "cell_type": "markdown",
   "metadata": {},
   "source": [
    "### Spectral"
   ]
  },
  {
   "cell_type": "code",
   "execution_count": 12,
   "metadata": {},
   "outputs": [],
   "source": [
    "for i, param in param_grid.iterrows():\n",
    "    row_info_f, returns_f, holdings_ft, begin_date, end_date = filter_data(param)\n",
    "    clustering = spectral_clustering(holdings_ft, param)\n",
    "    row_info_f = row_info_f.assign(cluster = clustering.labels_)\n",
    "    \n",
    "    holdings_ft_array = holdings_ft.toarray()\n",
    "    db_score = davies_bouldin_score(holdings_ft_array, row_info_f['cluster'])\n",
    "    s_score = silhouette_score(holdings_ft, row_info_f['cluster'])\n",
    "    \n",
    "    param_grid.loc[i,'count'] = row_info_f.shape[0]\n",
    "    param_grid.loc[i,'DB score'] = db_score\n",
    "    param_grid.loc[i,'Silhouette score'] = s_score\n",
    "    \n",
    "    param_grid.loc[i,'DB score lipper'] = davies_bouldin_score(holdings_ft_array, row_info_f['lipper_class_num'])\n",
    "    param_grid.loc[i,'Silhouette score lipper'] = silhouette_score(holdings_ft, row_info_f['lipper_class_num'])"
   ]
  },
  {
   "cell_type": "code",
   "execution_count": 22,
   "metadata": {},
   "outputs": [
    {
     "data": {
      "text/html": [
       "<div>\n",
       "<style scoped>\n",
       "    .dataframe tbody tr th:only-of-type {\n",
       "        vertical-align: middle;\n",
       "    }\n",
       "\n",
       "    .dataframe tbody tr th {\n",
       "        vertical-align: top;\n",
       "    }\n",
       "\n",
       "    .dataframe thead th {\n",
       "        text-align: right;\n",
       "    }\n",
       "</style>\n",
       "<table border=\"1\" class=\"dataframe\">\n",
       "  <thead>\n",
       "    <tr style=\"text-align: right;\">\n",
       "      <th></th>\n",
       "      <th>n_clusters</th>\n",
       "      <th>assign_labels</th>\n",
       "      <th>affinity</th>\n",
       "      <th>gamma</th>\n",
       "      <th>n_init</th>\n",
       "      <th>DB score lipper</th>\n",
       "      <th>Silhouette score lipper</th>\n",
       "      <th>param_id</th>\n",
       "      <th>DB score</th>\n",
       "      <th>Silhouette score</th>\n",
       "    </tr>\n",
       "  </thead>\n",
       "  <tbody>\n",
       "    <tr>\n",
       "      <th>0</th>\n",
       "      <td>12</td>\n",
       "      <td>kmeans</td>\n",
       "      <td>rbf</td>\n",
       "      <td>1</td>\n",
       "      <td>10</td>\n",
       "      <td>7.175963</td>\n",
       "      <td>0.013095</td>\n",
       "      <td>0</td>\n",
       "      <td>4.430096</td>\n",
       "      <td>0.016716</td>\n",
       "    </tr>\n",
       "    <tr>\n",
       "      <th>1</th>\n",
       "      <td>14</td>\n",
       "      <td>kmeans</td>\n",
       "      <td>rbf</td>\n",
       "      <td>1</td>\n",
       "      <td>10</td>\n",
       "      <td>7.175963</td>\n",
       "      <td>0.013095</td>\n",
       "      <td>1</td>\n",
       "      <td>3.935142</td>\n",
       "      <td>0.004694</td>\n",
       "    </tr>\n",
       "  </tbody>\n",
       "</table>\n",
       "</div>"
      ],
      "text/plain": [
       "   n_clusters assign_labels affinity  gamma  n_init  DB score lipper  \\\n",
       "0          12        kmeans      rbf      1      10         7.175963   \n",
       "1          14        kmeans      rbf      1      10         7.175963   \n",
       "\n",
       "   Silhouette score lipper  param_id  DB score  Silhouette score  \n",
       "0                 0.013095         0  4.430096          0.016716  \n",
       "1                 0.013095         1  3.935142          0.004694  "
      ]
     },
     "execution_count": 22,
     "metadata": {},
     "output_type": "execute_result"
    }
   ],
   "source": [
    "result = weighted_average_score(param_grid,\n",
    "                                relevant_params = ['n_clusters','assign_labels','affinity','gamma','n_init'], \n",
    "                                measures = ['DB score','Silhouette score'])\n",
    "result = result.drop(columns = ['style_class','verbose'])\n",
    "result"
   ]
  },
  {
   "cell_type": "code",
   "execution_count": 25,
   "metadata": {},
   "outputs": [
    {
     "data": {
      "text/html": [
       "<div>\n",
       "<style scoped>\n",
       "    .dataframe tbody tr th:only-of-type {\n",
       "        vertical-align: middle;\n",
       "    }\n",
       "\n",
       "    .dataframe tbody tr th {\n",
       "        vertical-align: top;\n",
       "    }\n",
       "\n",
       "    .dataframe thead th {\n",
       "        text-align: right;\n",
       "    }\n",
       "</style>\n",
       "<table border=\"1\" class=\"dataframe\">\n",
       "  <thead>\n",
       "    <tr style=\"text-align: right;\">\n",
       "      <th></th>\n",
       "      <th>count</th>\n",
       "      <th>mean</th>\n",
       "      <th>std</th>\n",
       "      <th>min</th>\n",
       "      <th>25%</th>\n",
       "      <th>50%</th>\n",
       "      <th>75%</th>\n",
       "      <th>max</th>\n",
       "    </tr>\n",
       "  </thead>\n",
       "  <tbody>\n",
       "    <tr>\n",
       "      <th>error</th>\n",
       "      <td>1901.0</td>\n",
       "      <td>1.153068</td>\n",
       "      <td>1.239646</td>\n",
       "      <td>0.09582</td>\n",
       "      <td>0.688588</td>\n",
       "      <td>0.943072</td>\n",
       "      <td>1.307239</td>\n",
       "      <td>27.609627</td>\n",
       "    </tr>\n",
       "  </tbody>\n",
       "</table>\n",
       "</div>"
      ],
      "text/plain": [
       "        count      mean       std      min       25%       50%       75%  \\\n",
       "error  1901.0  1.153068  1.239646  0.09582  0.688588  0.943072  1.307239   \n",
       "\n",
       "             max  \n",
       "error  27.609627  "
      ]
     },
     "execution_count": 25,
     "metadata": {},
     "output_type": "execute_result"
    }
   ],
   "source": [
    "returns_m, style_returns = calc_styleadj_returns(row_info_f, returns_f, style_cols='cluster')\n",
    "temp = error_vola_describe(returns_m)\n",
    "temp"
   ]
  },
  {
   "cell_type": "markdown",
   "metadata": {},
   "source": [
    "### K-means"
   ]
  },
  {
   "cell_type": "code",
   "execution_count": 331,
   "metadata": {},
   "outputs": [],
   "source": [
    "for i, param in param_grid.iterrows():\n",
    "    row_info_f, returns_f, holdings_ft, begin_date, end_date = filter_data(param)\n",
    "    clustering = kmeans_clustering(holdings_ft, param)\n",
    "    row_info_f = row_info_f.assign(cluster = clustering.labels_)\n",
    "    \n",
    "    holdings_ft_array = holdings_ft.toarray()\n",
    "    db_score = davies_bouldin_score(holdings_ft_array, row_info_f['cluster'])\n",
    "    s_score = silhouette_score(holdings_ft, row_info_f['cluster'])\n",
    "    \n",
    "    param_grid.loc[i,'count'] = row_info_f.shape[0]\n",
    "    param_grid.loc[i,'DB score'] = db_score\n",
    "    param_grid.loc[i,'Silhouette score'] = s_score\n",
    "    \n",
    "    param_grid.loc[i,'DB score lipper'] = davies_bouldin_score(holdings_ft_array, row_info_f['lipper_class_num'])\n",
    "    param_grid.loc[i,'Silhouette score lipper'] = silhouette_score(holdings_ft, row_info_f['lipper_class_num'])"
   ]
  },
  {
   "cell_type": "code",
   "execution_count": 332,
   "metadata": {},
   "outputs": [
    {
     "data": {
      "text/html": [
       "<div>\n",
       "<style scoped>\n",
       "    .dataframe tbody tr th:only-of-type {\n",
       "        vertical-align: middle;\n",
       "    }\n",
       "\n",
       "    .dataframe tbody tr th {\n",
       "        vertical-align: top;\n",
       "    }\n",
       "\n",
       "    .dataframe thead th {\n",
       "        text-align: right;\n",
       "    }\n",
       "</style>\n",
       "<table border=\"1\" class=\"dataframe\">\n",
       "  <thead>\n",
       "    <tr style=\"text-align: right;\">\n",
       "      <th></th>\n",
       "      <th>n_clusters</th>\n",
       "      <th>assign_labels</th>\n",
       "      <th>affinity</th>\n",
       "      <th>gamma</th>\n",
       "      <th>n_init</th>\n",
       "      <th>DB score lipper</th>\n",
       "      <th>Silhouette score lipper</th>\n",
       "      <th>param_id</th>\n",
       "      <th>DB score</th>\n",
       "      <th>Silhouette score</th>\n",
       "    </tr>\n",
       "  </thead>\n",
       "  <tbody>\n",
       "    <tr>\n",
       "      <th>0</th>\n",
       "      <td>12</td>\n",
       "      <td>kmeans</td>\n",
       "      <td>rbf</td>\n",
       "      <td>1</td>\n",
       "      <td>500</td>\n",
       "      <td>7.256829</td>\n",
       "      <td>0.011036</td>\n",
       "      <td>0</td>\n",
       "      <td>4.501273</td>\n",
       "      <td>0.041916</td>\n",
       "    </tr>\n",
       "  </tbody>\n",
       "</table>\n",
       "</div>"
      ],
      "text/plain": [
       "   n_clusters assign_labels affinity  gamma  n_init  DB score lipper  \\\n",
       "0          12        kmeans      rbf      1     500         7.256829   \n",
       "\n",
       "   Silhouette score lipper  param_id  DB score  Silhouette score  \n",
       "0                 0.011036         0  4.501273          0.041916  "
      ]
     },
     "execution_count": 332,
     "metadata": {},
     "output_type": "execute_result"
    }
   ],
   "source": [
    "result = weighted_average_score(param_grid)\n",
    "result = result.drop(columns = ['style_class','verbose'])\n",
    "result"
   ]
  },
  {
   "cell_type": "code",
   "execution_count": 333,
   "metadata": {},
   "outputs": [
    {
     "data": {
      "text/html": [
       "<div>\n",
       "<style scoped>\n",
       "    .dataframe tbody tr th:only-of-type {\n",
       "        vertical-align: middle;\n",
       "    }\n",
       "\n",
       "    .dataframe tbody tr th {\n",
       "        vertical-align: top;\n",
       "    }\n",
       "\n",
       "    .dataframe thead th {\n",
       "        text-align: right;\n",
       "    }\n",
       "</style>\n",
       "<table border=\"1\" class=\"dataframe\">\n",
       "  <thead>\n",
       "    <tr style=\"text-align: right;\">\n",
       "      <th></th>\n",
       "      <th>count</th>\n",
       "      <th>mean</th>\n",
       "      <th>std</th>\n",
       "      <th>min</th>\n",
       "      <th>25%</th>\n",
       "      <th>50%</th>\n",
       "      <th>75%</th>\n",
       "      <th>max</th>\n",
       "    </tr>\n",
       "  </thead>\n",
       "  <tbody>\n",
       "    <tr>\n",
       "      <th>error</th>\n",
       "      <td>2072.0</td>\n",
       "      <td>1.064154</td>\n",
       "      <td>0.626305</td>\n",
       "      <td>0.066777</td>\n",
       "      <td>0.659697</td>\n",
       "      <td>0.915888</td>\n",
       "      <td>1.296163</td>\n",
       "      <td>7.277913</td>\n",
       "    </tr>\n",
       "  </tbody>\n",
       "</table>\n",
       "</div>"
      ],
      "text/plain": [
       "        count      mean       std       min       25%       50%       75%  \\\n",
       "error  2072.0  1.064154  0.626305  0.066777  0.659697  0.915888  1.296163   \n",
       "\n",
       "            max  \n",
       "error  7.277913  "
      ]
     },
     "execution_count": 333,
     "metadata": {},
     "output_type": "execute_result"
    }
   ],
   "source": [
    "returns_m, style_returns = calc_styleadj_returns(row_info_f, returns_f)\n",
    "temp = error_vola_describe(returns_m)\n",
    "temp.T"
   ]
  },
  {
   "cell_type": "code",
   "execution_count": 325,
   "metadata": {},
   "outputs": [
    {
     "data": {
      "text/html": [
       "<div>\n",
       "<style scoped>\n",
       "    .dataframe tbody tr th:only-of-type {\n",
       "        vertical-align: middle;\n",
       "    }\n",
       "\n",
       "    .dataframe tbody tr th {\n",
       "        vertical-align: top;\n",
       "    }\n",
       "\n",
       "    .dataframe thead th {\n",
       "        text-align: right;\n",
       "    }\n",
       "</style>\n",
       "<table border=\"1\" class=\"dataframe\">\n",
       "  <thead>\n",
       "    <tr style=\"text-align: right;\">\n",
       "      <th></th>\n",
       "      <th>n_clusters</th>\n",
       "      <th>assign_labels</th>\n",
       "      <th>affinity</th>\n",
       "      <th>gamma</th>\n",
       "      <th>n_init</th>\n",
       "      <th>DB score lipper</th>\n",
       "      <th>Silhouette score lipper</th>\n",
       "      <th>param_id</th>\n",
       "      <th>DB score</th>\n",
       "      <th>Silhouette score</th>\n",
       "    </tr>\n",
       "  </thead>\n",
       "  <tbody>\n",
       "    <tr>\n",
       "      <th>0</th>\n",
       "      <td>12</td>\n",
       "      <td>kmeans</td>\n",
       "      <td>rbf</td>\n",
       "      <td>1</td>\n",
       "      <td>100</td>\n",
       "      <td>7.256829</td>\n",
       "      <td>0.011036</td>\n",
       "      <td>0</td>\n",
       "      <td>4.412439</td>\n",
       "      <td>0.032837</td>\n",
       "    </tr>\n",
       "  </tbody>\n",
       "</table>\n",
       "</div>"
      ],
      "text/plain": [
       "   n_clusters assign_labels affinity  gamma  n_init  DB score lipper  \\\n",
       "0          12        kmeans      rbf      1     100         7.256829   \n",
       "\n",
       "   Silhouette score lipper  param_id  DB score  Silhouette score  \n",
       "0                 0.011036         0  4.412439          0.032837  "
      ]
     },
     "execution_count": 325,
     "metadata": {},
     "output_type": "execute_result"
    }
   ],
   "source": [
    "result = weighted_average_score(param_grid)\n",
    "result = result.drop(columns = ['style_class','verbose'])\n",
    "result"
   ]
  },
  {
   "cell_type": "code",
   "execution_count": 326,
   "metadata": {},
   "outputs": [
    {
     "data": {
      "text/html": [
       "<div>\n",
       "<style scoped>\n",
       "    .dataframe tbody tr th:only-of-type {\n",
       "        vertical-align: middle;\n",
       "    }\n",
       "\n",
       "    .dataframe tbody tr th {\n",
       "        vertical-align: top;\n",
       "    }\n",
       "\n",
       "    .dataframe thead th {\n",
       "        text-align: right;\n",
       "    }\n",
       "</style>\n",
       "<table border=\"1\" class=\"dataframe\">\n",
       "  <thead>\n",
       "    <tr style=\"text-align: right;\">\n",
       "      <th></th>\n",
       "      <th>count</th>\n",
       "      <th>mean</th>\n",
       "      <th>std</th>\n",
       "      <th>min</th>\n",
       "      <th>25%</th>\n",
       "      <th>50%</th>\n",
       "      <th>75%</th>\n",
       "      <th>max</th>\n",
       "    </tr>\n",
       "  </thead>\n",
       "  <tbody>\n",
       "    <tr>\n",
       "      <th>error</th>\n",
       "      <td>2072.0</td>\n",
       "      <td>1.072968</td>\n",
       "      <td>0.628306</td>\n",
       "      <td>0.147778</td>\n",
       "      <td>0.661423</td>\n",
       "      <td>0.921477</td>\n",
       "      <td>1.304039</td>\n",
       "      <td>7.156736</td>\n",
       "    </tr>\n",
       "  </tbody>\n",
       "</table>\n",
       "</div>"
      ],
      "text/plain": [
       "        count      mean       std       min       25%       50%       75%  \\\n",
       "error  2072.0  1.072968  0.628306  0.147778  0.661423  0.921477  1.304039   \n",
       "\n",
       "            max  \n",
       "error  7.156736  "
      ]
     },
     "execution_count": 326,
     "metadata": {},
     "output_type": "execute_result"
    }
   ],
   "source": [
    "returns_m, style_returns = calc_styleadj_returns(row_info_f, returns_f)\n",
    "temp = error_vola_describe(returns_m)\n",
    "temp.T"
   ]
  },
  {
   "cell_type": "markdown",
   "metadata": {},
   "source": [
    "### Graphs"
   ]
  },
  {
   "cell_type": "code",
   "execution_count": 107,
   "metadata": {},
   "outputs": [
    {
     "data": {
      "image/png": "[encoded data removed]",
      "text/plain": [
       "<Figure size 1008x288 with 2 Axes>"
      ]
     },
     "metadata": {},
     "output_type": "display_data"
    }
   ],
   "source": [
    "fig, ax1 = plt.subplots(figsize = (14,4))\n",
    "\n",
    "ax2 = ax1.twinx()\n",
    "\n",
    "sns.lineplot(data = result ,x = 'n_clusters', y='DB score', color='g', ax=ax1)\n",
    "sns.lineplot(data = result ,x = 'n_clusters', y='Silhouette score', ax=ax2)\n",
    "\n",
    "ax1.set_xlabel('n_cluster')\n",
    "ax1.set_ylabel('DB score', color='g')\n",
    "ax2.set_ylabel('Slihouette score', color='b')\n",
    "\n",
    "plt.show()"
   ]
  },
  {
   "cell_type": "code",
   "execution_count": 334,
   "metadata": {},
   "outputs": [
    {
     "data": {
      "image/png": "[encoded data removed]",
      "text/plain": [
       "<Figure size 1080x432 with 4 Axes>"
      ]
     },
     "metadata": {},
     "output_type": "display_data"
    }
   ],
   "source": [
    "plot_cluster_wrapper(row_info_f)"
   ]
  },
  {
   "cell_type": "markdown",
   "metadata": {},
   "source": [
    "## Visualize"
   ]
  },
  {
   "cell_type": "code",
   "execution_count": null,
   "metadata": {},
   "outputs": [],
   "source": [
    "### Based on example code from sklearn ###\n",
    "\n",
    "X = holdings_ft\n",
    "n_clusters = [2,3,4,5,6,7,8,9,10,11,12,13,14,18,25]\n",
    "\n",
    "clusters = []\n",
    "results = []\n",
    "\n",
    "for n_clusters in n_clusters:\n",
    "    clusterer = SpectralClustering(\n",
    "                    n_clusters=n_clusters,\n",
    "                    n_init = 1000)\n",
    "    \n",
    "    \n",
    "    cluster_fit = clusterer.fit(X)\n",
    "    clusters.append(n_clusters)\n",
    "    #results.append(cluster_fit.inertia_)    \n",
    "    \n",
    "    cluster_labels = cluster_fit.labels_\n",
    "    \n",
    "    # Create a subplot with 1 row and 2 columns\n",
    "    fig, ax1 = plt.subplots()\n",
    "    fig.set_size_inches(18, 7)\n",
    "\n",
    "    # The 1st subplot is the silhouette plot\n",
    "    # The silhouette coefficient can range from -1, 1 but in this example all\n",
    "    # lie within [-0.1, 1]\n",
    "    ax1.set_xlim([-0.2, 0.6])\n",
    "    # The (n_clusters+1)*10 is for inserting blank space between silhouette\n",
    "    # plots of individual clusters, to demarcate them clearly.\n",
    "    ax1.set_ylim([0, X.shape[0] + (n_clusters + 1) * 10])\n",
    "    \n",
    "    # The silhouette_score gives the average value for all the samples.\n",
    "    # This gives a perspective into the density and separation of the formed\n",
    "    # clusters\n",
    "    silhouette_avg = silhouette_score(X, cluster_labels)\n",
    "    print(\"For n_clusters =\", n_clusters,\n",
    "          'The average silhouette_score is: {}'.format(round(silhouette_avg,4)))\n",
    "\n",
    "    # Compute the silhouette scores for each sample\n",
    "\n",
    "    # TODO can pool.map be implemented here?\n",
    "    sample_silhouette_values = silhouette_samples(X, cluster_labels)\n",
    "\n",
    "    y_lower = 10\n",
    "    for i in range(n_clusters):\n",
    "        # Aggregate the silhouette scores for samples belonging to\n",
    "        # cluster i, and sort them\n",
    "        ith_cluster_silhouette_values = \\\n",
    "            sample_silhouette_values[cluster_labels == i]\n",
    "\n",
    "        ith_cluster_silhouette_values.sort()\n",
    "\n",
    "        size_cluster_i = ith_cluster_silhouette_values.shape[0]\n",
    "        y_upper = y_lower + size_cluster_i\n",
    "\n",
    "        color = cm.nipy_spectral(float(i) / n_clusters)\n",
    "        ax1.fill_betweenx(np.arange(y_lower, y_upper),\n",
    "                          0, ith_cluster_silhouette_values,\n",
    "                          facecolor=color, edgecolor=color, alpha=0.7)\n",
    "\n",
    "        # Label the silhouette plots with their cluster numbers at the middle\n",
    "        ax1.text(-0.05, y_lower + 0.5 * size_cluster_i, str(i))\n",
    "\n",
    "        # Compute the new y_lower for next plot\n",
    "        y_lower = y_upper + 10  # 10 for the 0 samples\n",
    "\n",
    "    ax1.set_title(\"The silhouette plot for the various clusters.\")\n",
    "    ax1.set_xlabel(\"The silhouette coefficient values\")\n",
    "    ax1.set_ylabel(\"Cluster label\")\n",
    "\n",
    "    # The vertical line for average silhouette score of all the values\n",
    "    ax1.axvline(x=silhouette_avg, color=\"red\", linestyle=\"--\")\n",
    "\n",
    "    ax1.set_yticks([])  # Clear the yaxis labels / ticks\n",
    "    ax1.set_xticks([-0.1, 0, 0.2, 0.4, 0.6, 0.8, 1])\n",
    "\n",
    "    plt.suptitle((\"Silhouette analysis for KMeans clustering on sample data \"\n",
    "                  \"with n_clusters = %d\" % n_clusters),\n",
    "                 fontsize=14, fontweight='bold')\n",
    "\n",
    "plt.show()"
   ]
  },
  {
   "cell_type": "markdown",
   "metadata": {},
   "source": [
    "## Chart the returns of the formed clustes"
   ]
  },
  {
   "cell_type": "code",
   "execution_count": null,
   "metadata": {},
   "outputs": [],
   "source": [
    "row_info.sample()"
   ]
  },
  {
   "cell_type": "markdown",
   "metadata": {},
   "source": [
    "#### Merge new clusters into returns"
   ]
  },
  {
   "cell_type": "code",
   "execution_count": null,
   "metadata": {},
   "outputs": [],
   "source": [
    "returns_merged = returns.merge(row_info, how='left', left_on='crsp_fundno',right_on='fund_no')\n",
    "returns_merged = returns_merged.dropna(axis = 0, how = 'any')\n",
    "returns_merged = returns_merged[['caldt','fund_no','crsp_portno','mret','lipper_class','cluster']]\n",
    "returns_merged.sample()"
   ]
  },
  {
   "cell_type": "markdown",
   "metadata": {},
   "source": [
    "#### Calc mean return per Obj_cd"
   ]
  },
  {
   "cell_type": "code",
   "execution_count": null,
   "metadata": {},
   "outputs": [],
   "source": [
    "cluster_codes = returns_merged[['cluster']].drop_duplicates()\n",
    "cluster_codes = cluster_codes['cluster'].values\n",
    "cluster_codes"
   ]
  },
  {
   "cell_type": "code",
   "execution_count": null,
   "metadata": {},
   "outputs": [],
   "source": [
    "# Analysis of selected funds\n",
    "returns_clus = returns_merged.groupby(['cluster','caldt'])['mret'].agg(['mean','count','std'])\n",
    "returns_clus['cumret'] = returns_clus.groupby('cluster')[['mean']].apply(cumreturn)"
   ]
  },
  {
   "cell_type": "markdown",
   "metadata": {},
   "source": [
    "#### Pivot to make multiple columns, one for each obj_cd"
   ]
  },
  {
   "cell_type": "code",
   "execution_count": null,
   "metadata": {},
   "outputs": [],
   "source": [
    "returns_clus = returns_clus.pivot_table(\n",
    "        values='cumret', \n",
    "        index=['caldt'], \n",
    "        columns='cluster')"
   ]
  },
  {
   "cell_type": "markdown",
   "metadata": {},
   "source": [
    "returns_clus.plot(\n",
    "              kind='line',\n",
    "              use_index=True,\n",
    "              figsize=(16,8),\n",
    "              title='Mean cumreturn per Group',\n",
    "              legend='best')"
   ]
  },
  {
   "cell_type": "markdown",
   "metadata": {},
   "source": [
    "## Analysing clusters"
   ]
  },
  {
   "cell_type": "code",
   "execution_count": null,
   "metadata": {},
   "outputs": [],
   "source": [
    "plt.plot(kmeans.cluster_centers_[0,:])"
   ]
  },
  {
   "cell_type": "code",
   "execution_count": null,
   "metadata": {
    "scrolled": true
   },
   "outputs": [],
   "source": [
    "plt.plot(kmeans.cluster_centers_[1,:])"
   ]
  },
  {
   "cell_type": "code",
   "execution_count": null,
   "metadata": {},
   "outputs": [],
   "source": []
  },
  {
   "cell_type": "markdown",
   "metadata": {
    "toc": true
   },
   "source": [
    "<h1>Table of Contents<span class=\"tocSkip\"></span></h1>\n",
    "<div class=\"toc\"><ul class=\"toc-item\"><li><span><a href=\"#Description\" data-toc-modified-id=\"Description-1\"><span class=\"toc-item-num\">1&nbsp;&nbsp;</span>Description</a></span></li><li><span><a href=\"#Setup\" data-toc-modified-id=\"Setup-2\"><span class=\"toc-item-num\">2&nbsp;&nbsp;</span>Setup</a></span></li><li><span><a href=\"#Other-functions\" data-toc-modified-id=\"Other-functions-3\"><span class=\"toc-item-num\">3&nbsp;&nbsp;</span>Other functions</a></span></li><li><span><a href=\"#Clustering\" data-toc-modified-id=\"Clustering-4\"><span class=\"toc-item-num\">4&nbsp;&nbsp;</span>Clustering</a></span><ul class=\"toc-item\"><li><span><a href=\"#Options\" data-toc-modified-id=\"Options-4.1\"><span class=\"toc-item-num\">4.1&nbsp;&nbsp;</span>Options</a></span></li><li><span><a href=\"#Spectral\" data-toc-modified-id=\"Spectral-4.2\"><span class=\"toc-item-num\">4.2&nbsp;&nbsp;</span>Spectral</a></span></li><li><span><a href=\"#K-means\" data-toc-modified-id=\"K-means-4.3\"><span class=\"toc-item-num\">4.3&nbsp;&nbsp;</span>K-means</a></span></li></ul></li><li><span><a href=\"#Visualize\" data-toc-modified-id=\"Visualize-5\"><span class=\"toc-item-num\">5&nbsp;&nbsp;</span>Visualize</a></span></li><li><span><a href=\"#Chart-the-returns-of-the-formed-clustes\" data-toc-modified-id=\"Chart-the-returns-of-the-formed-clustes-6\"><span class=\"toc-item-num\">6&nbsp;&nbsp;</span>Chart the returns of the formed clustes</a></span></li><li><span><a href=\"#Analysing-clusters\" data-toc-modified-id=\"Analysing-clusters-7\"><span class=\"toc-item-num\">7&nbsp;&nbsp;</span>Analysing clusters</a></span></li></ul></div>"
   ]
  }
 ],
 "metadata": {
  "hide_input": false,
  "kernelspec": {
   "display_name": "MT",
   "language": "python",
   "name": "mt"
  },
  "language_info": {
   "codemirror_mode": {
    "name": "ipython",
    "version": 3
   },
   "file_extension": ".py",
   "mimetype": "text/x-python",
   "name": "python",
   "nbconvert_exporter": "python",
   "pygments_lexer": "ipython3",
   "version": "3.7.4"
  },
  "pycharm": {
   "stem_cell": {
    "cell_type": "raw",
    "metadata": {
     "collapsed": false
    },
    "source": []
   }
  },
  "toc": {
   "base_numbering": 1,
   "nav_menu": {},
   "number_sections": true,
   "sideBar": true,
   "skip_h1_title": true,
   "title_cell": "Table of Contents",
   "title_sidebar": "Contents",
   "toc_cell": true,
   "toc_position": {
    "height": "calc(100% - 180px)",
    "left": "10px",
    "top": "150px",
    "width": "165px"
   },
   "toc_section_display": true,
   "toc_window_display": true
  }
 },
 "nbformat": 4,
 "nbformat_minor": 2
}
