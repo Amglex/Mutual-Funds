{
 "cells": [
  {
   "cell_type": "markdown",
   "metadata": {
    "toc": true
   },
   "source": [
    "<h1>Table of Contents<span class=\"tocSkip\"></span></h1>\n",
    "<div class=\"toc\"><ul class=\"toc-item\"><li><span><a href=\"#Description\" data-toc-modified-id=\"Description-1\"><span class=\"toc-item-num\">1&nbsp;&nbsp;</span>Description</a></span></li><li><span><a href=\"#Setup\" data-toc-modified-id=\"Setup-2\"><span class=\"toc-item-num\">2&nbsp;&nbsp;</span>Setup</a></span></li><li><span><a href=\"#Other-functions\" data-toc-modified-id=\"Other-functions-3\"><span class=\"toc-item-num\">3&nbsp;&nbsp;</span>Other functions</a></span><ul class=\"toc-item\"><li><span><a href=\"#Filter\" data-toc-modified-id=\"Filter-3.1\"><span class=\"toc-item-num\">3.1&nbsp;&nbsp;</span>Filter</a></span></li></ul></li><li><span><a href=\"#Analysis-of-distance-measure\" data-toc-modified-id=\"Analysis-of-distance-measure-4\"><span class=\"toc-item-num\">4&nbsp;&nbsp;</span>Analysis of distance measure</a></span></li></ul></div>"
   ]
  },
  {
   "cell_type": "markdown",
   "metadata": {},
   "source": [
    "# Clustering "
   ]
  },
  {
   "cell_type": "markdown",
   "metadata": {},
   "source": [
    "## Description"
   ]
  },
  {
   "cell_type": "markdown",
   "metadata": {},
   "source": [
    "- Cluster funds using Spektral Clustering"
   ]
  },
  {
   "cell_type": "markdown",
   "metadata": {},
   "source": [
    "## Setup"
   ]
  },
  {
   "cell_type": "code",
   "execution_count": null,
   "metadata": {
    "pycharm": {
     "is_executing": false
    }
   },
   "outputs": [],
   "source": [
    "import feather\n",
    "import numpy as np\n",
    "import pandas as pd\n",
    "import seaborn as sns\n",
    "from scipy import sparse\n",
    "\n",
    "import matplotlib.pyplot as plt\n",
    "import matplotlib.cm as cm\n",
    "\n",
    "from sklearn.preprocessing import normalize, LabelEncoder\n",
    "from sklearn.neighbors import kneighbors_graph\n",
    "\n",
    "from graph_tool.all import *\n",
    "import cairo"
   ]
  },
  {
   "cell_type": "code",
   "execution_count": null,
   "metadata": {},
   "outputs": [],
   "source": [
    "### Returns\n",
    "path = '../data/processed/returns.feather'\n",
    "returns = feather.read_dataframe(path)\n",
    "returns = returns.rename(columns = {'caldt' : 'report_dt'})\n",
    "returns = returns.assign(year = returns['report_dt'].dt.year)\n",
    "\n",
    "### row_info\n",
    "path = '../data/processed/row_info_f.feather'\n",
    "row_info = feather.read_dataframe(path)\n",
    "\n",
    "### col_info\n",
    "path = '../data/processed/col_info_f.feather'\n",
    "col_info = feather.read_dataframe(path)\n",
    "\n",
    "### Holdings\n",
    "path = '../data/processed/holdings_f.npz'\n",
    "holdings = sparse.load_npz(path)"
   ]
  },
  {
   "cell_type": "markdown",
   "metadata": {},
   "source": [
    "## Other functions"
   ]
  },
  {
   "cell_type": "markdown",
   "metadata": {},
   "source": [
    "### Filter"
   ]
  },
  {
   "cell_type": "code",
   "execution_count": null,
   "metadata": {},
   "outputs": [],
   "source": [
    "def filter_data(year, verbose = False):\n",
    "        \n",
    "    row_info_f = row_info.copy()\n",
    "    if (year != 'full'):    # If year = full take whole sample\n",
    "        row_info_f = row_info_f.query('year == @year')\n",
    "\n",
    "    begin_date = row_info_f.iloc[0,:]['report_dt']\n",
    "    end_date = begin_date + pd.DateOffset(years=1) # 1 year offset\n",
    "    row_info_f.reset_index(drop = True, inplace=True)\n",
    "\n",
    "    # Filter returns\n",
    "    crsp_fundno_unique = row_info_f['crsp_fundno'].unique()\n",
    "    returns_f = returns.copy()\n",
    "    query = '''report_dt >= @begin_date and report_dt <= @end_date and crsp_fundno in @crsp_fundno_unique'''\n",
    "    returns_f = returns_f.query(query)\n",
    "\n",
    "    # Change return of month for which holdings apply to 0\n",
    "    returns_f = returns_f.copy()\n",
    "    mask = returns_f['report_dt'] == begin_date\n",
    "    returns_f.loc[mask,'mret'] = 0\n",
    "    \n",
    "    # Drop all funds with first return observation after starting date\n",
    "    drop_fundnos = returns_f.drop_duplicates('crsp_fundno').query('mret != 0')['crsp_fundno']\n",
    "    returns_f.query('crsp_fundno not in @drop_fundnos', inplace=True)\n",
    "    row_info_f.query('crsp_fundno not in @drop_fundnos', inplace=True)\n",
    "    row_info_f['style_class'] = row_info_f['style_class'].astype(str) + 'E'\n",
    "    \n",
    "    # Filter holdings accordingly and delet all securities with less than two observations\n",
    "    holdings_f = holdings.copy()\n",
    "    holdings_f = holdings[row_info_f['row']]\n",
    "    \n",
    "    holdings_b = sparse.csr_matrix(holdings_f, copy=True)\n",
    "    holdings_b.data = np.ones(len(holdings_f.data))\n",
    "\n",
    "    sum_sec_boolean = holdings_b.toarray().sum(0)\n",
    "    col_mask = (sum_sec_boolean >= 10).flatten()\n",
    "    \n",
    "    holdings_f = holdings_f.tocsc()\n",
    "    holdings_f = holdings_f[:,col_mask]\n",
    "    holdings_f = holdings_f.tocsr()\n",
    "    \n",
    "    holdings_b = sparse.csr_matrix(holdings_f, copy=True)\n",
    "    holdings_b.data = np.ones(len(holdings_f.data))\n",
    "    \n",
    "    sum_fund_boolean = holdings_b.toarray().sum(1)\n",
    "    row_mask = (sum_fund_boolean >= 10).flatten()\n",
    "    \n",
    "    holdings_f = holdings_f[row_mask]\n",
    "    row_info_f = row_info_f[row_mask]\n",
    "    \n",
    "    ## Preprocessing\n",
    "    holdings_ft = normalize(holdings_f, norm = 'l2')\n",
    "    \n",
    "    if (verbose):\n",
    "        print('Numer of unique funds:           {:10,d}'.format(row_info_f.shape[0]))\n",
    "\n",
    "        print('Numer of unique securities:      {:10,d}'.format(holdings_ft.shape[1]))\n",
    "\n",
    "        print('Begin date:                      {}'.format(begin_date.date()))\n",
    "        print('End date:                        {}'.format(end_date.date()))\n",
    "    \n",
    "    return(row_info_f, returns_f, holdings_ft, begin_date, end_date)"
   ]
  },
  {
   "cell_type": "code",
   "execution_count": null,
   "metadata": {},
   "outputs": [],
   "source": [
    "row_info_f, returns_f, holdings_ft, begin_date, end_date = filter_data(2016, verbose = True)"
   ]
  },
  {
   "cell_type": "markdown",
   "metadata": {},
   "source": [
    "## Analysis of distance measure"
   ]
  },
  {
   "cell_type": "code",
   "execution_count": null,
   "metadata": {},
   "outputs": [],
   "source": [
    "graph_data = kneighbors_graph(holdings, \n",
    "                              n_neighbors = 2059,\n",
    "                              mode = 'distance',\n",
    "                              p = 2)\n",
    "distance = graph_data.data"
   ]
  },
  {
   "cell_type": "code",
   "execution_count": null,
   "metadata": {},
   "outputs": [],
   "source": [
    "mymax = graph_data.max(axis= 0).data\n",
    "mymax"
   ]
  },
  {
   "cell_type": "code",
   "execution_count": null,
   "metadata": {},
   "outputs": [],
   "source": [
    "mymin = graph_data.min(axis = 1)\n",
    "mymin"
   ]
  },
  {
   "cell_type": "code",
   "execution_count": null,
   "metadata": {},
   "outputs": [],
   "source": [
    "plt.hist(distance)"
   ]
  },
  {
   "cell_type": "code",
   "execution_count": null,
   "metadata": {},
   "outputs": [],
   "source": [
    "plt.plot(graph_data[100].toarray().T)"
   ]
  },
  {
   "cell_type": "code",
   "execution_count": null,
   "metadata": {},
   "outputs": [],
   "source": [
    "col_info.loc[89]"
   ]
  },
  {
   "cell_type": "code",
   "execution_count": null,
   "metadata": {},
   "outputs": [],
   "source": [
    "holdings_ft[0].nonzero()"
   ]
  },
  {
   "cell_type": "code",
   "execution_count": null,
   "metadata": {},
   "outputs": [],
   "source": [
    "holdings[holdings[13226].nonzero()]"
   ]
  },
  {
   "cell_type": "code",
   "execution_count": null,
   "metadata": {},
   "outputs": [],
   "source": [
    "holdings[holdings[13225].nonzero()]"
   ]
  },
  {
   "cell_type": "code",
   "execution_count": null,
   "metadata": {},
   "outputs": [],
   "source": [
    "holdings_ft[holdings_ft[1080].nonzero()]"
   ]
  },
  {
   "cell_type": "code",
   "execution_count": null,
   "metadata": {},
   "outputs": [],
   "source": []
  },
  {
   "cell_type": "code",
   "execution_count": null,
   "metadata": {},
   "outputs": [],
   "source": [
    "col_info.loc[1451]"
   ]
  },
  {
   "cell_type": "code",
   "execution_count": null,
   "metadata": {},
   "outputs": [],
   "source": [
    "row_info.loc[0].fund_name"
   ]
  },
  {
   "cell_type": "code",
   "execution_count": null,
   "metadata": {},
   "outputs": [],
   "source": [
    "row_info.loc[13226].fund_name"
   ]
  },
  {
   "cell_type": "code",
   "execution_count": null,
   "metadata": {},
   "outputs": [],
   "source": [
    "row_info.loc[13225].fund_name"
   ]
  },
  {
   "cell_type": "code",
   "execution_count": null,
   "metadata": {},
   "outputs": [],
   "source": [
    "row_info.loc[13235].fund_name"
   ]
  },
  {
   "cell_type": "code",
   "execution_count": null,
   "metadata": {},
   "outputs": [],
   "source": [
    "row_info_f.loc[1083].fund_name"
   ]
  },
  {
   "cell_type": "code",
   "execution_count": null,
   "metadata": {},
   "outputs": [],
   "source": [
    "pd.DataFrame(graph_data[0].toarray().T).sort_values(by=0, ascending = True)"
   ]
  },
  {
   "cell_type": "code",
   "execution_count": null,
   "metadata": {},
   "outputs": [],
   "source": [
    "plt.plot(pd.DataFrame(graph_data[8].toarray().T).sort_values(by=0).reset_index(drop=True))\n"
   ]
  },
  {
   "cell_type": "code",
   "execution_count": null,
   "metadata": {},
   "outputs": [],
   "source": []
  },
  {
   "cell_type": "code",
   "execution_count": null,
   "metadata": {},
   "outputs": [],
   "source": []
  },
  {
   "cell_type": "code",
   "execution_count": null,
   "metadata": {},
   "outputs": [],
   "source": []
  },
  {
   "cell_type": "code",
   "execution_count": null,
   "metadata": {},
   "outputs": [],
   "source": []
  },
  {
   "cell_type": "code",
   "execution_count": null,
   "metadata": {},
   "outputs": [],
   "source": [
    "row_info.head(5)"
   ]
  },
  {
   "cell_type": "code",
   "execution_count": null,
   "metadata": {},
   "outputs": [],
   "source": [
    "holdings_t = normalize(holdings, norm = 'l2')\n",
    "\n",
    "data = holdings_t[0:5]"
   ]
  },
  {
   "cell_type": "code",
   "execution_count": null,
   "metadata": {},
   "outputs": [],
   "source": [
    "from sklearn.metrics.pairwise import euclidean_distances\n",
    "\n",
    "distances = euclidean_distances(data)\n",
    "pd.DataFrame(distances)\n",
    "# plt.hist(distance, bins = 100)"
   ]
  },
  {
   "cell_type": "code",
   "execution_count": null,
   "metadata": {},
   "outputs": [],
   "source": [
    "## Options\n",
    "\n",
    "# TODO adjust colour and shapes\n",
    "\n",
    "\n",
    "def setup_graph(year = 2018,n_neighbors = 30,size = 1000):\n",
    "\n",
    "    row_info_f, returns_f, holdings_ft, begin_date, end_date = filter_data(year, verbose = True)\n",
    "    raw_data = holdings_ft[0:size]\n",
    "    row_info_f = row_info_f[0:size]\n",
    "    \n",
    "    graph_data = kneighbors_graph(raw_data, \n",
    "                                  n_neighbors = n_neighbors,\n",
    "                                  mode = 'distance',\n",
    "                                  p = 2)\n",
    "    distance = graph_data.data\n",
    "    vertex_n = graph_data.shape[0]\n",
    "    x, y = graph_data.nonzero()\n",
    "\n",
    "    g = Graph(directed=False)\n",
    "    g.add_vertex(vertex_n)\n",
    "\n",
    "    for s , t in zip(x,y):\n",
    "        g.add_edge(g.vertex(s), g.vertex(t))\n",
    "\n",
    "    e_distance = g.new_edge_property('double', vals = distance)\n",
    "    # e_distance = prop_to_size(e_distance, mi=1, ma=100, log=False, power=0.5)\n",
    "    \n",
    "    pos = sfdp_layout(g, eweight = e_distance)\n",
    "    \n",
    "    return(g, pos, row_info_f)\n",
    "\n",
    "def draw_graph(g, pos, row_info_f, dimension, output):\n",
    "    \n",
    "    le = LabelEncoder()\n",
    "    row_info_f.loc[:,'f_encoded'] = le.fit_transform(row_info_f[dimension])\n",
    "    cluster_text  = row_info_f[dimension]\n",
    "    cluster_fill  = row_info_f['f_encoded']\n",
    "    \n",
    "    v_fill  = g.new_vertex_property('int', vals = cluster_fill.values)\n",
    "    v_text  = g.new_vertex_property('string', vals = cluster_text.values)\n",
    "    \n",
    "    graph_draw(\n",
    "    g,\n",
    "    inline = True,\n",
    "    output = output,\n",
    "    output_size=(2_000, 2_000),\n",
    "    # bg_color = 'white',\n",
    "    vprops={\n",
    "        'size': 20,\n",
    "        'color': 'black',\n",
    "        'fill_color': v_fill,\n",
    "        'text': v_text,\n",
    "        'text_color': 'white',\n",
    "        'font_size' : 20,\n",
    "        'font_weight': cairo.FONT_WEIGHT_BOLD,\n",
    "    },\n",
    "    eprops={\n",
    "        'pen_width': 0.1,\n",
    "        'color': 'grey'\n",
    "    })"
   ]
  },
  {
   "cell_type": "code",
   "execution_count": null,
   "metadata": {},
   "outputs": [],
   "source": [
    "g, pos, row_info_f = setup_graph(year=2014, n_neighbors=25, size=3000)\n",
    "\n",
    "draw_graph(g, pos, row_info_f,\n",
    "           dimension='cap_class',\n",
    "           output='../reports/figures/graph/cap.png')\n",
    "\n",
    "draw_graph(g, pos, row_info_f,\n",
    "           dimension='style_class',\n",
    "           output='../reports/figures/graph/style.png')"
   ]
  },
  {
   "cell_type": "code",
   "execution_count": null,
   "metadata": {},
   "outputs": [],
   "source": []
  },
  {
   "cell_type": "code",
   "execution_count": null,
   "metadata": {},
   "outputs": [],
   "source": []
  }
 ],
 "metadata": {
  "hide_input": false,
  "kernelspec": {
   "display_name": "MT",
   "language": "python",
   "name": "mt"
  },
  "language_info": {
   "codemirror_mode": {
    "name": "ipython",
    "version": 3
   },
   "file_extension": ".py",
   "mimetype": "text/x-python",
   "name": "python",
   "nbconvert_exporter": "python",
   "pygments_lexer": "ipython3",
   "version": "3.7.4"
  },
  "notify_time": "0",
  "pycharm": {
   "stem_cell": {
    "cell_type": "raw",
    "metadata": {
     "collapsed": false
    },
    "source": []
   }
  },
  "toc": {
   "base_numbering": 1,
   "nav_menu": {},
   "number_sections": true,
   "sideBar": true,
   "skip_h1_title": true,
   "title_cell": "Table of Contents",
   "title_sidebar": "Contents",
   "toc_cell": true,
   "toc_position": {
    "height": "calc(100% - 180px)",
    "left": "10px",
    "top": "150px",
    "width": "165px"
   },
   "toc_section_display": true,
   "toc_window_display": true
  }
 },
 "nbformat": 4,
 "nbformat_minor": 2
}
