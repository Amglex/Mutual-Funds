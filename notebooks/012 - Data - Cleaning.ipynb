{
 "cells": [
  {
   "cell_type": "markdown",
   "metadata": {
    "toc": true
   },
   "source": [
    "<h1>Table of Contents<span class=\"tocSkip\"></span></h1>\n",
    "<div class=\"toc\"><ul class=\"toc-item\"><li><span><a href=\"#Clean-Data\" data-toc-modified-id=\"Clean-Data-1\"><span class=\"toc-item-num\">1&nbsp;&nbsp;</span>Clean Data</a></span><ul class=\"toc-item\"><li><span><a href=\"#Setup\" data-toc-modified-id=\"Setup-1.1\"><span class=\"toc-item-num\">1.1&nbsp;&nbsp;</span>Setup</a></span></li><li><span><a href=\"#Fix-all-data-types\" data-toc-modified-id=\"Fix-all-data-types-1.2\"><span class=\"toc-item-num\">1.2&nbsp;&nbsp;</span>Fix all data types</a></span></li><li><span><a href=\"#Merge\" data-toc-modified-id=\"Merge-1.3\"><span class=\"toc-item-num\">1.3&nbsp;&nbsp;</span>Merge</a></span></li><li><span><a href=\"#Filter-based-on-holdings\" data-toc-modified-id=\"Filter-based-on-holdings-1.4\"><span class=\"toc-item-num\">1.4&nbsp;&nbsp;</span>Filter based on holdings</a></span></li><li><span><a href=\"#Filter-returns-accordingly-and-merge-with-style-codes\" data-toc-modified-id=\"Filter-returns-accordingly-and-merge-with-style-codes-1.5\"><span class=\"toc-item-num\">1.5&nbsp;&nbsp;</span>Filter returns accordingly and merge with style codes</a></span></li><li><span><a href=\"#Check-if-holdings-data-still-makes-sene\" data-toc-modified-id=\"Check-if-holdings-data-still-makes-sene-1.6\"><span class=\"toc-item-num\">1.6&nbsp;&nbsp;</span>Check if holdings data still makes sene</a></span></li></ul></li><li><span><a href=\"#Save-everything\" data-toc-modified-id=\"Save-everything-2\"><span class=\"toc-item-num\">2&nbsp;&nbsp;</span>Save everything</a></span></li><li><span><a href=\"#Tests\" data-toc-modified-id=\"Tests-3\"><span class=\"toc-item-num\">3&nbsp;&nbsp;</span>Tests</a></span></li></ul></div>"
   ]
  },
  {
   "cell_type": "markdown",
   "metadata": {},
   "source": [
    "# Clean Data"
   ]
  },
  {
   "cell_type": "markdown",
   "metadata": {},
   "source": [
    "### Description:\n",
    "\n",
    "Filter the three main data sources (Fund Info, Returns and Holdings)\n",
    "based on some parameters and save the result.\n",
    "\n",
    "Approach:\n",
    "1. Match fund summary to each portfolio/date pair\n",
    "2. Filter fund/date pairs based on those infos\n",
    "3. Filter returns based on final sample of holdings\n",
    "4. Save different versions of the files with different timeframes\n",
    "\n",
    "Parameters: \n",
    "- Lipper_class\n",
    "- Flags"
   ]
  },
  {
   "cell_type": "markdown",
   "metadata": {},
   "source": [
    "## Setup\n",
    "### All options for filtering the data"
   ]
  },
  {
   "cell_type": "code",
   "execution_count": 1,
   "metadata": {},
   "outputs": [],
   "source": [
    "%matplotlib inline\n",
    "\n",
    "import os\n",
    "import sys\n",
    "\n",
    "import feather\n",
    "import pandasql as ps\n",
    "import numpy as np\n",
    "import pandas as pd\n",
    "from pandas.api.types import CategoricalDtype\n",
    "\n",
    "from scipy import sparse\n",
    "import datetime\n",
    "\n",
    "import matplotlib.pyplot as plt"
   ]
  },
  {
   "cell_type": "code",
   "execution_count": 2,
   "metadata": {},
   "outputs": [],
   "source": [
    "options = {\n",
    "    'min_per_com'                : 80,\n",
    "    'min_tna_latest'             : 5,             # Fund must have net assets larger than value in $ mio\n",
    "    'min_obs_per_sec'            : 10,             # Minimum number of occurences per security\n",
    "    'min_obs_per_observation'    : 10,            # Minimum number of holdings per observations\n",
    "    'min_perc_tna'               : 80,            # Sum of holdings must not be <= value\n",
    "    'max_perc_tna'               : 120,           # Sum of holdings must not be >= value\n",
    "    'selected_obj_codes'         : (#'EIEI',\n",
    "                                    'LCVE', 'LCCE', 'LCGE',\n",
    "                                    'MLVE', 'MLCE', 'MLGE',\n",
    "                                    'MCVE', 'MCCE', 'MCGE',\n",
    "                                    'SCVE', 'SCCE', 'SCGE'),  \n",
    "    'sub_sample_start_date'      : datetime.date.fromisoformat('2015-01-01'),   # Not relevant at the moment\n",
    "    'sub_sample_end_date'        : datetime.date.fromisoformat('2018-01-01')    # Not relevant at the moment\n",
    "}\n",
    "\n",
    "\n"
   ]
  },
  {
   "cell_type": "markdown",
   "metadata": {},
   "source": [
    "### Load the data files"
   ]
  },
  {
   "cell_type": "code",
   "execution_count": 3,
   "metadata": {},
   "outputs": [],
   "source": [
    "# Holdings data\n",
    "\n",
    "npz_path = '../data/interim/holdings.npz'      # Preprocessed holdings data (see notebook 011)\n",
    "holdings = sparse.load_npz(npz_path)\n",
    "\n",
    "path = '../data/interim/row_info.feather'\n",
    "row_info = feather.read_dataframe(path)\n",
    "row_info_original = row_info.copy()\n",
    "\n",
    "path = '../data/interim/col_info.feather'\n",
    "col_info = feather.read_dataframe(path)\n",
    "\n",
    "# Fund summary data\n",
    "\n",
    "path = '../data/raw/fund_info.feather'\n",
    "fund_info = feather.read_dataframe(path)     # Downloaded from wrds\n",
    "\n",
    "path = '../data/raw/fund_summay.feather'\n",
    "fund_summary = feather.read_dataframe(path)     # Downloaded from wrds\n",
    "\n",
    "path = '../data/raw/portno_map.feather'\n",
    "portno_map = feather.read_dataframe(path)\n",
    "\n",
    "path = '../data/raw/fund_style.feather'\n",
    "fund_style = feather.read_dataframe(path)\n",
    "\n",
    "# Returns data\n",
    "path = '../data/raw/returns.feather'\n",
    "returns = feather.read_dataframe(path)   # Downloaded from wrds"
   ]
  },
  {
   "cell_type": "markdown",
   "metadata": {},
   "source": [
    "## Fix all data types"
   ]
  },
  {
   "cell_type": "markdown",
   "metadata": {},
   "source": [
    "#### Fund info"
   ]
  },
  {
   "cell_type": "code",
   "execution_count": 4,
   "metadata": {},
   "outputs": [],
   "source": [
    "fund_info.drop(columns= ['lipper_class','avrcs'],inplace=True)\n",
    "\n",
    "fund_info.dropna(subset = ['crsp_portno','crsp_fundno'], inplace=True)\n",
    "fund_info[['crsp_fundno','crsp_portno']] = pd.DataFrame(fund_info[['crsp_fundno','crsp_portno']],dtype=np.int64)\n",
    "\n",
    "columns = ['first_offer_dt','begdt','enddt']\n",
    "fund_info[columns] = fund_info[columns].apply(pd.to_datetime)\n",
    "\n",
    "fund_info.loc[fund_info['et_flag'].isna(),'et_flag'] = 'MF'\n",
    "fund_info.loc[fund_info['index_fund_flag'].isna(),'index_fund_flag'] = 'MF'\n",
    "\n",
    "columns = ['et_flag','index_fund_flag']\n",
    "fund_info[columns] = fund_info[columns].astype('category')\n",
    "\n",
    "et_mapper = {'F':'ETF', 'N':'ETN', 'MF':'MF'}\n",
    "fund_info['et_flag'] = fund_info['et_flag'].cat.rename_categories(et_mapper)\n",
    "\n",
    "index_flag_mapper = {'B':'Index-based', 'D':'Pure Index', 'E':'Index enhanced', 'MF':'MF'}\n",
    "fund_info['index_fund_flag'] = fund_info['index_fund_flag'].map(index_flag_mapper)"
   ]
  },
  {
   "cell_type": "markdown",
   "metadata": {},
   "source": [
    "#### Fund summary"
   ]
  },
  {
   "cell_type": "code",
   "execution_count": 5,
   "metadata": {},
   "outputs": [],
   "source": [
    "fund_summary[['crsp_fundno']] = pd.DataFrame(fund_summary[['crsp_fundno']],dtype=np.int64)\n",
    "columns = ['nav_latest','tna_latest','per_com']\n",
    "fund_summary[columns] = pd.DataFrame(fund_summary[columns],dtype=np.float64)\n",
    "\n",
    "columns = ['caldt','nav_latest_dt','tna_latest_dt']\n",
    "fund_summary[columns] = fund_summary[columns].apply(pd.to_datetime)"
   ]
  },
  {
   "cell_type": "markdown",
   "metadata": {},
   "source": [
    "#### Fund style"
   ]
  },
  {
   "cell_type": "code",
   "execution_count": 6,
   "metadata": {},
   "outputs": [],
   "source": [
    "fund_style['crsp_fundno'] = fund_style['crsp_fundno'].astype('int64')\n",
    "\n",
    "columns = ['begdt','enddt']\n",
    "fund_style[columns] = fund_style[columns].apply(pd.to_datetime)\n",
    "\n",
    "fund_style['cap_class'] = fund_style['lipper_class'].astype(str).str[0:2]\n",
    "fund_style['style_class'] = fund_style['lipper_class'].astype(str).str[2]\n",
    "fund_style.loc[\n",
    "    ~fund_style['lipper_class'].isin(options.get('selected_obj_codes')),\n",
    "    ['cap_class','style_class']] = np.NaN\n",
    "\n",
    "\n",
    "\n",
    "cat_type_lipper = CategoricalDtype(categories = ['EIEI',\n",
    "                                                 'LCVE', 'LCCE', 'LCGE',\n",
    "                                                 'MLVE', 'MLCE', 'MLGE',\n",
    "                                                 'MCVE', 'MCCE', 'MCGE',\n",
    "                                                 'SCVE', 'SCCE', 'SCGE'\n",
    "                                                ],ordered=True)\n",
    "\n",
    "cat_type_style = CategoricalDtype(categories = ['E', 'V', 'C', 'G'], ordered=True)\n",
    "cat_type_cap = CategoricalDtype(categories = ['SC', 'MC', 'ML', 'EI', 'LC'], ordered=True)\n",
    "\n",
    "fund_style['lipper_class'] = fund_style['lipper_class'].astype(cat_type_lipper)\n",
    "fund_style['style_class'] = fund_style['style_class'].astype(cat_type_style)\n",
    "fund_style['cap_class'] = fund_style['cap_class'].astype(cat_type_cap)"
   ]
  },
  {
   "cell_type": "markdown",
   "metadata": {},
   "source": [
    "#### Return"
   ]
  },
  {
   "cell_type": "code",
   "execution_count": 7,
   "metadata": {},
   "outputs": [],
   "source": [
    "returns['crsp_fundno'] = pd.DataFrame(returns['crsp_fundno'],dtype=np.int64)\n",
    "returns['caldt'] =  pd.to_datetime(returns['caldt'])"
   ]
  },
  {
   "cell_type": "markdown",
   "metadata": {},
   "source": [
    "#### Portnomap"
   ]
  },
  {
   "cell_type": "code",
   "execution_count": 8,
   "metadata": {},
   "outputs": [],
   "source": [
    "columns = ['crsp_fundno','crsp_portno']\n",
    "portno_map[columns] = pd.DataFrame(portno_map[columns],dtype=np.int64)\n",
    "\n",
    "columns = ['begdt','enddt']\n",
    "portno_map[columns] = portno_map[columns].apply(pd.to_datetime)"
   ]
  },
  {
   "cell_type": "markdown",
   "metadata": {},
   "source": [
    "### Filter based on fund summary"
   ]
  },
  {
   "cell_type": "code",
   "execution_count": 9,
   "metadata": {},
   "outputs": [],
   "source": [
    "sqlcode = '''\n",
    "    SELECT \n",
    "        fund_summary.caldt, fund_summary.crsp_fundno, fund_summary.tna_latest, fund_summary.per_com,\n",
    "        portno_map.begdt, portno_map.enddt, portno_map.crsp_portno, portno_map.crsp_fundno\n",
    "    FROM fund_summary\n",
    "    INNER JOIN portno_map \n",
    "        ON fund_summary.crsp_fundno = portno_map.crsp_fundno\n",
    "        AND caldt BETWEEN portno_map.begdt AND portno_map.enddt;\n",
    "'''\n",
    "\n",
    "fund_summary_merged = ps.sqldf(sqlcode,locals())\n",
    "\n",
    "columns = ['caldt','begdt','enddt']\n",
    "fund_summary_merged[columns] = fund_summary_merged[columns].apply(pd.to_datetime)\n",
    "\n",
    "fund_summary_merged = (fund_summary_merged\n",
    "                           .groupby(['caldt','crsp_portno'])\n",
    "                           .agg({'per_com': ['mean'],\n",
    "                                 'tna_latest': ['sum']}))\n",
    "\n",
    "fund_summary_merged.columns = fund_summary_merged.columns.droplevel(1)\n",
    "\n",
    "fund_summary_merged = fund_summary_merged.query(\n",
    "                            'per_com > {} and tna_latest > {}'.format(options.get('min_per_com'),\n",
    "                                                                      options.get('min_tna_latest')))"
   ]
  },
  {
   "cell_type": "markdown",
   "metadata": {},
   "source": [
    "### Filter based on fund info"
   ]
  },
  {
   "cell_type": "code",
   "execution_count": 10,
   "metadata": {},
   "outputs": [],
   "source": [
    "fund_info = fund_info.query('''index_fund_flag == 'MF' and et_flag == 'MF' ''')\n",
    "\n",
    "fund_info = fund_info.assign(portno_fundno = fund_info['crsp_fundno'] * 10_000_000 + fund_info['crsp_portno'])\n",
    "selected_funds = fund_info[['crsp_portno','portno_fundno']].groupby(['crsp_portno']).first()\n",
    "selected_funds = selected_funds['portno_fundno']\n",
    "fund_info = fund_info.query('portno_fundno in @selected_funds')\n",
    "\n",
    "fund_info = fund_info[['crsp_portno','crsp_fundno','fund_name','begdt','enddt']]"
   ]
  },
  {
   "cell_type": "markdown",
   "metadata": {},
   "source": [
    "### Filter based on fund style"
   ]
  },
  {
   "cell_type": "code",
   "execution_count": 11,
   "metadata": {},
   "outputs": [],
   "source": [
    "fund_style = fund_style[fund_style['lipper_class'].isin(options.get('selected_obj_codes'))]"
   ]
  },
  {
   "cell_type": "code",
   "execution_count": 12,
   "metadata": {},
   "outputs": [
    {
     "data": {
      "text/plain": [
       "crsp_fundno               int64\n",
       "begdt            datetime64[ns]\n",
       "enddt            datetime64[ns]\n",
       "lipper_class           category\n",
       "lipper_obj_cd            object\n",
       "cap_class              category\n",
       "style_class            category\n",
       "dtype: object"
      ]
     },
     "execution_count": 12,
     "metadata": {},
     "output_type": "execute_result"
    }
   ],
   "source": [
    "fund_style.dtypes"
   ]
  },
  {
   "cell_type": "markdown",
   "metadata": {},
   "source": [
    "## Merge"
   ]
  },
  {
   "cell_type": "code",
   "execution_count": 13,
   "metadata": {},
   "outputs": [
    {
     "data": {
      "text/plain": [
       "(839196, 3)"
      ]
     },
     "execution_count": 13,
     "metadata": {},
     "output_type": "execute_result"
    }
   ],
   "source": [
    "row_info.shape"
   ]
  },
  {
   "cell_type": "code",
   "execution_count": 14,
   "metadata": {},
   "outputs": [
    {
     "data": {
      "text/plain": [
       "<matplotlib.axes._subplots.AxesSubplot at 0x1a8dcc490>"
      ]
     },
     "execution_count": 14,
     "metadata": {},
     "output_type": "execute_result"
    },
    {
     "data": {
      "image/png": "[encoded data removed]",
      "text/plain": [
       "<Figure size 1080x360 with 1 Axes>"
      ]
     },
     "metadata": {
      "needs_background": "light"
     },
     "output_type": "display_data"
    }
   ],
   "source": [
    "(row_info['crsp_portno']\n",
    "    .groupby([\n",
    "         row_info['report_dt'].dt.year,\n",
    "     ])\n",
    "     .nunique()\n",
    "     .plot(kind='bar',\n",
    "           color = 'b',\n",
    "           figsize=(15,5)))"
   ]
  },
  {
   "cell_type": "markdown",
   "metadata": {},
   "source": [
    "### Merge row_info and fund_info\n",
    "Adds correct fundo to each portno/date row"
   ]
  },
  {
   "cell_type": "code",
   "execution_count": 15,
   "metadata": {},
   "outputs": [
    {
     "data": {
      "text/plain": [
       "(839196, 3)"
      ]
     },
     "execution_count": 15,
     "metadata": {},
     "output_type": "execute_result"
    }
   ],
   "source": [
    "row_info.shape"
   ]
  },
  {
   "cell_type": "code",
   "execution_count": 16,
   "metadata": {},
   "outputs": [],
   "source": [
    "sqlcode = '''\n",
    "    SELECT row_info.crsp_portno, row_info.report_dt, \n",
    "    fund_info.crsp_portno, fund_info.crsp_fundno, fund_info.begdt, fund_info.enddt, fund_info.fund_name\n",
    "    FROM row_info \n",
    "    INNER JOIN fund_info \n",
    "    ON row_info.crsp_portno = fund_info.crsp_portno\n",
    "    AND row_info.report_dt between fund_info.begdt and fund_info.enddt;\n",
    "'''\n",
    "\n",
    "row_info_merged = ps.sqldf(sqlcode,locals())\n",
    "\n",
    "columns = ['report_dt','begdt','enddt']\n",
    "row_info_merged[columns] = row_info_merged[columns].apply(pd.to_datetime)\n",
    "row_info_merged = row_info_merged[['crsp_portno','crsp_fundno','report_dt','begdt','enddt','fund_name']]\n",
    "row_info_merged = row_info_merged.iloc[:,1:]"
   ]
  },
  {
   "cell_type": "code",
   "execution_count": 17,
   "metadata": {},
   "outputs": [
    {
     "data": {
      "text/plain": [
       "(529586, 6)"
      ]
     },
     "execution_count": 17,
     "metadata": {},
     "output_type": "execute_result"
    }
   ],
   "source": [
    "row_info_merged.shape"
   ]
  },
  {
   "cell_type": "code",
   "execution_count": 18,
   "metadata": {},
   "outputs": [
    {
     "data": {
      "text/plain": [
       "<matplotlib.axes._subplots.AxesSubplot at 0x1e786e290>"
      ]
     },
     "execution_count": 18,
     "metadata": {},
     "output_type": "execute_result"
    },
    {
     "data": {
      "image/png": "[encoded data removed]",
      "text/plain": [
       "<Figure size 1080x360 with 1 Axes>"
      ]
     },
     "metadata": {
      "needs_background": "light"
     },
     "output_type": "display_data"
    }
   ],
   "source": [
    "(row_info_merged['crsp_portno']\n",
    "    .groupby([\n",
    "         row_info_merged['report_dt'].dt.year,\n",
    "#         row_info_merged['report_dt'].dt.month\n",
    "     ])\n",
    "     .nunique()\n",
    "     .plot(kind='bar',\n",
    "           color = 'b',\n",
    "           figsize=(15,5)))"
   ]
  },
  {
   "cell_type": "markdown",
   "metadata": {},
   "source": [
    "### Merge row_info and fund_style"
   ]
  },
  {
   "cell_type": "code",
   "execution_count": 19,
   "metadata": {},
   "outputs": [],
   "source": [
    "fund_style = fund_style.rename(columns={'begdt':'style_begdt',\n",
    "                                        'enddt':'style_enddt'})"
   ]
  },
  {
   "cell_type": "code",
   "execution_count": 20,
   "metadata": {},
   "outputs": [],
   "source": [
    "sqlcode = '''\n",
    "    SELECT \n",
    "        row_info_merged.crsp_fundno, row_info_merged.crsp_portno, row_info_merged.fund_name,\n",
    "        row_info_merged.report_dt, row_info_merged.begdt, row_info_merged.enddt,\n",
    "        fund_style.crsp_fundno, \n",
    "        fund_style.style_begdt, fund_style.style_enddt, \n",
    "        fund_style.lipper_class, fund_style.cap_class, fund_style.style_class\n",
    "    FROM row_info_merged \n",
    "    INNER JOIN fund_style \n",
    "        ON row_info_merged.crsp_fundno = fund_style.crsp_fundno\n",
    "        AND row_info_merged.report_dt between fund_style.style_begdt AND fund_style.style_enddt;\n",
    "'''\n",
    "\n",
    "row_info_merged = ps.sqldf(sqlcode,locals())"
   ]
  },
  {
   "cell_type": "code",
   "execution_count": 21,
   "metadata": {},
   "outputs": [],
   "source": [
    "columns = ['report_dt','begdt','enddt','style_begdt','style_enddt']\n",
    "row_info_merged[columns] = row_info_merged[columns].apply(pd.to_datetime)"
   ]
  },
  {
   "cell_type": "code",
   "execution_count": 22,
   "metadata": {},
   "outputs": [],
   "source": [
    "row_info_merged = row_info_merged[['crsp_fundno','crsp_portno','fund_name',\n",
    "                                   'report_dt','begdt','enddt','style_begdt','style_enddt',\n",
    "                                  'lipper_class','cap_class','style_class']]\n",
    "row_info_merged = row_info_merged.iloc[:,1:]"
   ]
  },
  {
   "cell_type": "code",
   "execution_count": 23,
   "metadata": {},
   "outputs": [
    {
     "data": {
      "text/plain": [
       "(162809, 11)"
      ]
     },
     "execution_count": 23,
     "metadata": {},
     "output_type": "execute_result"
    }
   ],
   "source": [
    "row_info_merged.shape"
   ]
  },
  {
   "cell_type": "code",
   "execution_count": 24,
   "metadata": {},
   "outputs": [
    {
     "data": {
      "text/plain": [
       "<matplotlib.axes._subplots.AxesSubplot at 0x1add37910>"
      ]
     },
     "execution_count": 24,
     "metadata": {},
     "output_type": "execute_result"
    },
    {
     "data": {
      "image/png": "[encoded data removed]",
      "text/plain": [
       "<Figure size 1080x360 with 1 Axes>"
      ]
     },
     "metadata": {
      "needs_background": "light"
     },
     "output_type": "display_data"
    }
   ],
   "source": [
    "(row_info_merged['crsp_portno']\n",
    "    .groupby([\n",
    "         row_info_merged['report_dt'].dt.year,\n",
    "#         row_info_merged['report_dt'].dt.month\n",
    "     ])\n",
    "     .nunique()\n",
    "     .plot(kind='bar',\n",
    "           color = 'b',\n",
    "           figsize=(15,5)))"
   ]
  },
  {
   "cell_type": "markdown",
   "metadata": {},
   "source": [
    "### Merge row_info and fund_hdr"
   ]
  },
  {
   "cell_type": "code",
   "execution_count": 25,
   "metadata": {},
   "outputs": [],
   "source": [
    "row_info_merged = row_info_merged.merge(\n",
    "    fund_summary[['crsp_fundno','caldt']],\n",
    "    how='inner',\n",
    "    left_on=['crsp_fundno','report_dt'],\n",
    "    right_on=['crsp_fundno','caldt'])"
   ]
  },
  {
   "cell_type": "code",
   "execution_count": 26,
   "metadata": {},
   "outputs": [
    {
     "data": {
      "text/plain": [
       "(51650, 12)"
      ]
     },
     "execution_count": 26,
     "metadata": {},
     "output_type": "execute_result"
    }
   ],
   "source": [
    "row_info_merged.shape"
   ]
  },
  {
   "cell_type": "code",
   "execution_count": 27,
   "metadata": {},
   "outputs": [
    {
     "data": {
      "text/plain": [
       "<matplotlib.axes._subplots.AxesSubplot at 0x1d910e550>"
      ]
     },
     "execution_count": 27,
     "metadata": {},
     "output_type": "execute_result"
    },
    {
     "data": {
      "image/png": "[encoded data removed]",
      "text/plain": [
       "<Figure size 1080x360 with 1 Axes>"
      ]
     },
     "metadata": {
      "needs_background": "light"
     },
     "output_type": "display_data"
    }
   ],
   "source": [
    "(row_info_merged['crsp_portno']\n",
    "    .groupby([\n",
    "         row_info_merged['report_dt'].dt.year,\n",
    "         row_info_merged['report_dt'].dt.month\n",
    "     ])\n",
    "     .nunique()\n",
    "     .plot(kind='bar',\n",
    "           color = 'b',\n",
    "           figsize=(15,5)))"
   ]
  },
  {
   "cell_type": "markdown",
   "metadata": {},
   "source": [
    "### Take only last report_dt per year"
   ]
  },
  {
   "cell_type": "code",
   "execution_count": 28,
   "metadata": {},
   "outputs": [],
   "source": [
    "row_info_merged = row_info_merged.assign(year = lambda x: x.report_dt.dt.year)\n",
    "\n",
    "# Take only observations for the lates report_dt of the year (not always December...)\n",
    "unique_dates = row_info_merged.groupby(['year','report_dt']).count().reset_index('report_dt').groupby('year').tail(1)['report_dt']\n",
    "row_info_merged = row_info_merged.query(''' report_dt in @unique_dates ''')"
   ]
  },
  {
   "cell_type": "code",
   "execution_count": 29,
   "metadata": {},
   "outputs": [
    {
     "data": {
      "text/plain": [
       "<matplotlib.axes._subplots.AxesSubplot at 0x1dacd5f50>"
      ]
     },
     "execution_count": 29,
     "metadata": {},
     "output_type": "execute_result"
    },
    {
     "data": {
      "image/png": "[encoded data removed]",
      "text/plain": [
       "<Figure size 1080x360 with 1 Axes>"
      ]
     },
     "metadata": {
      "needs_background": "light"
     },
     "output_type": "display_data"
    }
   ],
   "source": [
    "(row_info_merged['crsp_portno']\n",
    "    .groupby([\n",
    "         row_info_merged['report_dt'].dt.year,\n",
    "         row_info_merged['report_dt'].dt.month\n",
    "     ])\n",
    "     .nunique()\n",
    "     .plot(kind='bar',\n",
    "           color = 'b',\n",
    "           figsize=(15,5)))"
   ]
  },
  {
   "cell_type": "markdown",
   "metadata": {},
   "source": [
    "### Drop all unused columns of row_info"
   ]
  },
  {
   "cell_type": "code",
   "execution_count": 30,
   "metadata": {},
   "outputs": [],
   "source": [
    "row_info = row_info_merged.drop(columns=['caldt','begdt','enddt','style_begdt','style_enddt'])"
   ]
  },
  {
   "cell_type": "markdown",
   "metadata": {},
   "source": [
    "### Merge row_info with holdings"
   ]
  },
  {
   "cell_type": "code",
   "execution_count": 31,
   "metadata": {},
   "outputs": [],
   "source": [
    "row_info_original = row_info_original.assign(row_old = row_info_original.index)\n",
    "col_info = col_info.assign(col_old = col_info.index)\n",
    "\n",
    "row_info = row_info.merge(row_info_original,how='left',on=['crsp_portno','report_dt'])"
   ]
  },
  {
   "cell_type": "code",
   "execution_count": 32,
   "metadata": {},
   "outputs": [],
   "source": [
    "# Filter holdings matrix based on merged and filtered row_info\n",
    "mask = row_info['row_old'].values\n",
    "holdings = holdings[mask]"
   ]
  },
  {
   "cell_type": "code",
   "execution_count": 33,
   "metadata": {},
   "outputs": [],
   "source": [
    "# Drop unused columns and reset index / row column\n",
    "row_info.drop(columns=['port_id','row_old'],inplace=True)\n",
    "row_info.reset_index(drop=True,inplace=True)\n",
    "row_info = row_info.assign(row = row_info.index)"
   ]
  },
  {
   "cell_type": "markdown",
   "metadata": {},
   "source": [
    "## Filter based on holdings"
   ]
  },
  {
   "cell_type": "markdown",
   "metadata": {},
   "source": [
    "#### Delete securities with little to no information"
   ]
  },
  {
   "cell_type": "code",
   "execution_count": 34,
   "metadata": {},
   "outputs": [],
   "source": [
    "# Generate sparse holdings matrix with boolean values instead of more precise percent_tna values\n",
    "holdings_b = sparse.csr_matrix(holdings, copy=True)\n",
    "holdings_b.data = np.ones(len(holdings.data))"
   ]
  },
  {
   "cell_type": "code",
   "execution_count": 36,
   "metadata": {},
   "outputs": [],
   "source": [
    "# Each security has to appear at least x times stocks\n",
    "sum_sec_boolean = pd.DataFrame(holdings_b.sum(0).T).values\n",
    "col_mask = (sum_sec_boolean >= options.get('min_obs_per_sec')).flatten()"
   ]
  },
  {
   "cell_type": "code",
   "execution_count": 37,
   "metadata": {},
   "outputs": [
    {
     "name": "stdout",
     "output_type": "stream",
     "text": [
      "Total number of securities:                1,621,421\n",
      "Total number of securities with >1:           36,127\n",
      "Total number of securities with >10:          12,886\n",
      "Total number of securities with >50:           5,676\n",
      "Total number of securities with >100:          4,170\n"
     ]
    }
   ],
   "source": [
    "print('Total number of securities:               {:>10,d}'.format(len(sum_sec_boolean)))\n",
    "print('Total number of securities with >1:       {:>10,d}'.format(np.sum(sum_sec_boolean > 1)))\n",
    "print('Total number of securities with >10:      {:>10,d}'.format(np.sum(sum_sec_boolean > 10)))\n",
    "print('Total number of securities with >50:      {:>10,d}'.format(np.sum(sum_sec_boolean > 50)))\n",
    "print('Total number of securities with >100:     {:>10,d}'.format(np.sum(sum_sec_boolean > 100)))"
   ]
  },
  {
   "cell_type": "code",
   "execution_count": 38,
   "metadata": {},
   "outputs": [],
   "source": [
    "holdings = holdings.tocsc()\n",
    "holdings = holdings[:,col_mask]\n",
    "holdings = holdings.tocsr()\n",
    "\n",
    "holdings_b = holdings_b.tocsc()\n",
    "holdings_b = holdings_b[:,col_mask]\n",
    "holdings_b = holdings_b.tocsr()\n",
    "\n",
    "col_info = col_info.loc[col_mask,:]\n",
    "\n",
    "# reset indices\n",
    "col_info.reset_index(drop=True,inplace=True)\n",
    "col_info = col_info.assign(col = col_info.index)"
   ]
  },
  {
   "cell_type": "code",
   "execution_count": 39,
   "metadata": {},
   "outputs": [],
   "source": [
    "sum_port_boolean = pd.DataFrame(holdings_b.sum(1)).values\n",
    "sum_port_perc = pd.DataFrame(holdings.sum(1)).values\n",
    "sum_sec_perc = pd.DataFrame(holdings.sum(0).T).values\n",
    "\n",
    "# Each portfolio has to have at least x stocks\n",
    "row_mask_1 = (sum_port_boolean >= options.get('min_obs_per_observation')).flatten()\n",
    "# Each portfolio has to have min x% sum of percent_tna\n",
    "row_mask_2 = (sum_port_perc >= options.get('min_perc_tna')).flatten()\n",
    "# Each portfolio has to have max x% sum of percent_tna\n",
    "row_mask_3 = (sum_port_perc <= options.get('max_perc_tna')).flatten()\n",
    "row_mask = row_mask_1 & row_mask_2 & row_mask_3"
   ]
  },
  {
   "cell_type": "code",
   "execution_count": 40,
   "metadata": {},
   "outputs": [
    {
     "name": "stdout",
     "output_type": "stream",
     "text": [
      "Cols matching criteria according to:\n",
      " No mask  :  1,621,421 \n",
      " Full mask:     13,591 \n",
      "\n",
      "Rows matching criteria according to:\n",
      " No mask  :     19,874 \n",
      " Mask    1:     19,196 \n",
      " Mask    2:     18,607 \n",
      " Mask    3:     19,836 \n",
      " Full mask:     18,394\n"
     ]
    }
   ],
   "source": [
    "# Overview of masks\n",
    "print('Cols matching criteria according to:''\\n',\n",
    "    'No mask  : {:10,d}'.format(len(col_mask)),'\\n',\n",
    "    'Full mask: {:10,d}'.format(np.sum(col_mask)),'\\n')\n",
    "\n",
    "print('Rows matching criteria according to:''\\n',\n",
    "    'No mask  : {:10,d}'.format(len(row_mask_1)),'\\n',\n",
    "    'Mask    1: {:10,d}'.format(np.sum(row_mask_1)),'\\n',\n",
    "    'Mask    2: {:10,d}'.format(np.sum(row_mask_2)),'\\n',\n",
    "    'Mask    3: {:10,d}'.format(np.sum(row_mask_3)),'\\n',\n",
    "    'Full mask: {:10,d}'.format(np.sum(row_mask)))"
   ]
  },
  {
   "cell_type": "code",
   "execution_count": 41,
   "metadata": {},
   "outputs": [],
   "source": [
    "# Apply masks\n",
    "holdings = holdings[row_mask,:]\n",
    "holdings_b = holdings_b[row_mask,:]\n",
    "\n",
    "row_info = row_info.loc[row_mask,:]\n",
    "\n",
    "row_info.reset_index(drop=True,inplace=True)\n",
    "row_info = row_info.assign(row = row_info.index)"
   ]
  },
  {
   "cell_type": "code",
   "execution_count": 42,
   "metadata": {},
   "outputs": [
    {
     "name": "stdout",
     "output_type": "stream",
     "text": [
      "Number of fund/date combinations:              18,394\n",
      "Number of unique securities:                   13,591\n",
      "Number of values in sparse matrix:          2,390,573\n",
      "Same values for boolean holdings matrix:         True\n",
      "\n",
      "Number of rows in row_info df:                 18,394\n",
      "Number of rows in col_inf df:                  13,591\n",
      "\n",
      "Everything matches:                              True\n"
     ]
    }
   ],
   "source": [
    "# Check if all dimensions match\n",
    "print('Number of fund/date combinations:        {:12,d}'.format(holdings.shape[0]))\n",
    "print('Number of unique securities:             {:12,d}'.format(holdings.shape[1]))\n",
    "print('Number of values in sparse matrix:       {:12,d}'.format(holdings.getnnz()))\n",
    "match_test = ((holdings.shape[0] == holdings_b.shape[0]) \n",
    "              & (holdings.shape[1] == holdings_b.shape[1]) \n",
    "              & (holdings.getnnz() == holdings_b.getnnz()))\n",
    "print('Same values for boolean holdings matrix:         {}'.format(match_test))\n",
    "print()\n",
    "print('Number of rows in row_info df:           {:12,d}'.format(row_info.shape[0]))\n",
    "print('Number of rows in col_inf df:            {:12,d}'.format(col_info.shape[0]))\n",
    "print()\n",
    "match_test = (holdings.shape[0] == row_info.shape[0]) & (holdings.shape[1] == col_info.shape[0])\n",
    "print('Everything matches:                              {}'.format(match_test))"
   ]
  },
  {
   "cell_type": "code",
   "execution_count": 43,
   "metadata": {},
   "outputs": [],
   "source": [
    "# reapply categories\n",
    "\n",
    "row_info['lipper_class'] = row_info['lipper_class'].astype(cat_type_lipper)\n",
    "row_info['style_class'] = row_info['style_class'].astype(cat_type_style)\n",
    "row_info['cap_class'] = row_info['cap_class'].astype(cat_type_cap)"
   ]
  },
  {
   "cell_type": "markdown",
   "metadata": {},
   "source": [
    "## Filter returns accordingly and merge with style codes"
   ]
  },
  {
   "cell_type": "code",
   "execution_count": 44,
   "metadata": {},
   "outputs": [],
   "source": [
    "fund_nos = row_info['crsp_fundno'].unique()\n",
    "\n",
    "returns = returns.query('crsp_fundno in @fund_nos')\n",
    "returns = returns.dropna()\n",
    "\n",
    "returns = (returns\n",
    "               .merge(row_info[['report_dt','crsp_fundno','lipper_class','style_class','cap_class']], \n",
    "                      how='left', left_on=['crsp_fundno','caldt'],right_on=['crsp_fundno','report_dt'])\n",
    "               .drop(columns='report_dt'))\n",
    "\n",
    "returns = (returns\n",
    "             .sort_values(['crsp_fundno','caldt'])\n",
    "             .groupby(['crsp_fundno'])\n",
    "             .apply(\n",
    "                 lambda x: x.fillna(method='ffill'))\n",
    "             .groupby(['crsp_fundno'])\n",
    "             .apply(\n",
    "                 lambda x: x.fillna(method='bfill'))\n",
    ")"
   ]
  },
  {
   "cell_type": "markdown",
   "metadata": {},
   "source": [
    "## Check if holdings data still makes sene"
   ]
  },
  {
   "cell_type": "code",
   "execution_count": 45,
   "metadata": {},
   "outputs": [],
   "source": [
    "def most_common_stocks(year,lipper_class):\n",
    "    \"This prints a passed string into this function\"\n",
    "    # Enter date for which most common holdings are calculated\n",
    "    year = year\n",
    "    lipper_class = lipper_class\n",
    "\n",
    "    # Change if you want tu sum percentages instead of boolean values\n",
    "    holdings_coo = holdings_b.tocoo()\n",
    "\n",
    "    df_sparse = pd.DataFrame({'row' : holdings_coo.row,\n",
    "                              'col' : holdings_coo.col,\n",
    "                              'data' : holdings_coo.data})\n",
    "\n",
    "    df_sparse = df_sparse.merge(row_info[['year','row','lipper_class']],how='left',on='row')\n",
    "\n",
    "    my_filter = '''year == @year and lipper_class == @lipper_class '''\n",
    "    no_unique_funds = row_info.query(my_filter).shape[0]\n",
    "\n",
    "    sum_col = (df_sparse\n",
    "               .query(my_filter)\n",
    "               .groupby(by = ['col'])\n",
    "               .sum()\n",
    "               .sort_values('data',ascending = False)\n",
    "               .join(col_info[['security_name','col']],how='left')\n",
    "               .assign(percent = lambda x:  x.data / no_unique_funds * 100)\n",
    "               .drop(columns=['row','year','col'])\n",
    "               .reset_index(drop=True)\n",
    "               .head(10))\n",
    "\n",
    "    print(\n",
    "        'Most held stocks: ','\\n\\n'\n",
    "        'Lipper class:       {}'.format(lipper_class),'\\n'\n",
    "        'Number of funds:    {}'.format(no_unique_funds),'\\n'\n",
    "        'Year:               {}'.format(year))\n",
    "\n",
    "    return sum_col"
   ]
  },
  {
   "cell_type": "code",
   "execution_count": 46,
   "metadata": {},
   "outputs": [
    {
     "name": "stdout",
     "output_type": "stream",
     "text": [
      "Most held stocks:  \n",
      "\n",
      "Lipper class:       LCCE \n",
      "Number of funds:    260 \n",
      "Year:               2016\n"
     ]
    },
    {
     "data": {
      "text/html": [
       "<div>\n",
       "<style scoped>\n",
       "    .dataframe tbody tr th:only-of-type {\n",
       "        vertical-align: middle;\n",
       "    }\n",
       "\n",
       "    .dataframe tbody tr th {\n",
       "        vertical-align: top;\n",
       "    }\n",
       "\n",
       "    .dataframe thead th {\n",
       "        text-align: right;\n",
       "    }\n",
       "</style>\n",
       "<table border=\"1\" class=\"dataframe\">\n",
       "  <thead>\n",
       "    <tr style=\"text-align: right;\">\n",
       "      <th></th>\n",
       "      <th>data</th>\n",
       "      <th>security_name</th>\n",
       "      <th>percent</th>\n",
       "    </tr>\n",
       "  </thead>\n",
       "  <tbody>\n",
       "    <tr>\n",
       "      <th>0</th>\n",
       "      <td>214.0</td>\n",
       "      <td>APPLE INC</td>\n",
       "      <td>82.307692</td>\n",
       "    </tr>\n",
       "    <tr>\n",
       "      <th>1</th>\n",
       "      <td>203.0</td>\n",
       "      <td>MICROSOFT CORP</td>\n",
       "      <td>78.076923</td>\n",
       "    </tr>\n",
       "    <tr>\n",
       "      <th>2</th>\n",
       "      <td>185.0</td>\n",
       "      <td>COMCAST CORP NEW</td>\n",
       "      <td>71.153846</td>\n",
       "    </tr>\n",
       "    <tr>\n",
       "      <th>3</th>\n",
       "      <td>181.0</td>\n",
       "      <td>JPMORGAN CHASE &amp; CO</td>\n",
       "      <td>69.615385</td>\n",
       "    </tr>\n",
       "    <tr>\n",
       "      <th>4</th>\n",
       "      <td>169.0</td>\n",
       "      <td>ALPHABET INC</td>\n",
       "      <td>65.000000</td>\n",
       "    </tr>\n",
       "    <tr>\n",
       "      <th>5</th>\n",
       "      <td>168.0</td>\n",
       "      <td>ALPHABET INC</td>\n",
       "      <td>64.615385</td>\n",
       "    </tr>\n",
       "    <tr>\n",
       "      <th>6</th>\n",
       "      <td>167.0</td>\n",
       "      <td>WELLS FARGO &amp; CO NEW</td>\n",
       "      <td>64.230769</td>\n",
       "    </tr>\n",
       "    <tr>\n",
       "      <th>7</th>\n",
       "      <td>167.0</td>\n",
       "      <td>JOHNSON &amp; JOHNSON</td>\n",
       "      <td>64.230769</td>\n",
       "    </tr>\n",
       "    <tr>\n",
       "      <th>8</th>\n",
       "      <td>166.0</td>\n",
       "      <td>CISCO SYSTEMS INC</td>\n",
       "      <td>63.846154</td>\n",
       "    </tr>\n",
       "    <tr>\n",
       "      <th>9</th>\n",
       "      <td>151.0</td>\n",
       "      <td>SCHLUMBERGER NV ORD</td>\n",
       "      <td>58.076923</td>\n",
       "    </tr>\n",
       "  </tbody>\n",
       "</table>\n",
       "</div>"
      ],
      "text/plain": [
       "    data         security_name    percent\n",
       "0  214.0             APPLE INC  82.307692\n",
       "1  203.0        MICROSOFT CORP  78.076923\n",
       "2  185.0      COMCAST CORP NEW  71.153846\n",
       "3  181.0   JPMORGAN CHASE & CO  69.615385\n",
       "4  169.0          ALPHABET INC  65.000000\n",
       "5  168.0          ALPHABET INC  64.615385\n",
       "6  167.0  WELLS FARGO & CO NEW  64.230769\n",
       "7  167.0     JOHNSON & JOHNSON  64.230769\n",
       "8  166.0     CISCO SYSTEMS INC  63.846154\n",
       "9  151.0   SCHLUMBERGER NV ORD  58.076923"
      ]
     },
     "execution_count": 46,
     "metadata": {},
     "output_type": "execute_result"
    }
   ],
   "source": [
    "most_common_stocks(year=2016, lipper_class='LCCE')"
   ]
  },
  {
   "cell_type": "markdown",
   "metadata": {},
   "source": [
    "# Save everything"
   ]
  },
  {
   "cell_type": "code",
   "execution_count": 47,
   "metadata": {},
   "outputs": [],
   "source": [
    "# Holdings data\n",
    "path = '../data/processed/holdings.npz'\n",
    "sparse.save_npz(path,holdings)\n",
    "\n",
    "path = '../data/processed/row_info.feather'\n",
    "feather.write_dataframe(row_info,path)\n",
    "\n",
    "path = '../data/processed/col_info.feather'\n",
    "feather.write_dataframe(col_info,path)\n",
    "\n",
    "# Returns data\n",
    "path = '../data/processed/returns.feather'\n",
    "feather.write_dataframe(returns,path)   # Downloaded from wrds"
   ]
  },
  {
   "cell_type": "markdown",
   "metadata": {},
   "source": [
    "# Tests"
   ]
  },
  {
   "cell_type": "code",
   "execution_count": null,
   "metadata": {},
   "outputs": [],
   "source": [
    "fund_style.query('crsp_fundno == 38200')"
   ]
  },
  {
   "cell_type": "code",
   "execution_count": null,
   "metadata": {},
   "outputs": [],
   "source": [
    "def most_common_stocks_fund(year,crsp_fundno):\n",
    "    \"This prints a passed string into this function\"\n",
    "    # Enter date for which most common holdings are calculated\n",
    "    year = year\n",
    "    crsp_fundno = crsp_fundno\n",
    "\n",
    "    holdings_coo = holdings.tocoo()\n",
    "\n",
    "    df_sparse = pd.DataFrame({'row'  : holdings_coo.row,\n",
    "                              'col'  : holdings_coo.col,\n",
    "                              'data' : holdings_coo.data})\n",
    "\n",
    "    df_sparse = df_sparse.merge(row_info[['year','row','crsp_fundno']],how='left',on='row')\n",
    "    row_info_s = row_info.assign(year = row_info['report_dt'].dt.year)\n",
    "    my_filter = '''year == @year and crsp_fundno == @crsp_fundno '''\n",
    "    no_unique_funds = row_info_s.query(my_filter).shape[0]\n",
    "\n",
    "    sum_col = (df_sparse\n",
    "               .query(my_filter)\n",
    "               .groupby(by = ['col'])\n",
    "               .mean()\n",
    "               .sort_values('data',ascending = False)\n",
    "               .join(col_info[['security_name','col']],how='left')\n",
    "               .assign(percent = lambda x:  x.data)\n",
    "               .drop(columns=['row','data','col','year','crsp_fundno'])\n",
    "               .reset_index(drop=True)\n",
    "               .head(30))\n",
    "    \n",
    "    print(\n",
    "        'Average of most held stocks for one fund in one year: ','\\n\\n'\n",
    "        'crsp_fundno:                            {}'.format(crsp_fundno),'\\n'\n",
    "        'Year:                                   {}'.format(year),'\\n'\n",
    "        'Number of observations in that year:    {}'.format(no_unique_funds))\n",
    "\n",
    "    return sum_col"
   ]
  },
  {
   "cell_type": "code",
   "execution_count": null,
   "metadata": {
    "scrolled": true
   },
   "outputs": [],
   "source": [
    "most_common_stocks_fund(year=2017, crsp_fundno='28284')"
   ]
  },
  {
   "cell_type": "code",
   "execution_count": null,
   "metadata": {},
   "outputs": [],
   "source": [
    "for code in options.get('selected_obj_codes'):\n",
    "    print(most_common_stocks(year=2016, lipper_class=code))"
   ]
  },
  {
   "cell_type": "markdown",
   "metadata": {},
   "source": [
    "### Average per_com"
   ]
  },
  {
   "cell_type": "code",
   "execution_count": null,
   "metadata": {},
   "outputs": [],
   "source": [
    "port_sum = pd.DataFrame(holdings.sum(1))\n",
    "port_sum = port_sum.iloc[:,0]\n",
    "port_sum.groupby(row_info['lipper_class']).describe()"
   ]
  },
  {
   "cell_type": "code",
   "execution_count": null,
   "metadata": {},
   "outputs": [],
   "source": []
  }
 ],
 "metadata": {
  "hide_input": false,
  "kernelspec": {
   "display_name": "MT",
   "language": "python",
   "name": "mt"
  },
  "language_info": {
   "codemirror_mode": {
    "name": "ipython",
    "version": 3
   },
   "file_extension": ".py",
   "mimetype": "text/x-python",
   "name": "python",
   "nbconvert_exporter": "python",
   "pygments_lexer": "ipython3",
   "version": "3.7.4"
  },
  "toc": {
   "base_numbering": 1,
   "nav_menu": {},
   "number_sections": true,
   "sideBar": true,
   "skip_h1_title": false,
   "title_cell": "Table of Contents",
   "title_sidebar": "Contents",
   "toc_cell": true,
   "toc_position": {
    "height": "calc(100% - 180px)",
    "left": "10px",
    "top": "150px",
    "width": "165px"
   },
   "toc_section_display": true,
   "toc_window_display": true
  }
 },
 "nbformat": 4,
 "nbformat_minor": 2
}
