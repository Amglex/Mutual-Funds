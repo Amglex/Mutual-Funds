{
 "cells": [
  {
   "cell_type": "markdown",
   "metadata": {},
   "source": [
    "# Description"
   ]
  },
  {
   "cell_type": "markdown",
   "metadata": {},
   "source": [
    "- port_ID of large sparse matrix will be converted into info array including all relevant falgs/ obj_cds for each individual portfolio"
   ]
  },
  {
   "cell_type": "code",
   "execution_count": 85,
   "metadata": {},
   "outputs": [],
   "source": [
    "import feather\n",
    "\n",
    "import numpy as np\n",
    "import pandas as pd\n",
    "import matplotlib.pyplot as plt\n",
    "\n",
    "from scipy import sparse"
   ]
  },
  {
   "cell_type": "markdown",
   "metadata": {},
   "source": [
    "# Functions"
   ]
  },
  {
   "cell_type": "code",
   "execution_count": 86,
   "metadata": {},
   "outputs": [],
   "source": [
    "def port_ID_split(port_ID):\n",
    "    if len(port_ID) == 18:\n",
    "        report_dt = pd.Timestamp(port_ID[8:])\n",
    "        port_no = pd.to_numeric(port_ID[:7])\n",
    "        return(port_no,report_dt)"
   ]
  },
  {
   "cell_type": "code",
   "execution_count": 371,
   "metadata": {},
   "outputs": [],
   "source": [
    "def port_ID_to_port_info(port_ID,info_df):\n",
    "    if len(port_ID) == 18:\n",
    "        \n",
    "        port_no, report_dt = port_ID_split(port_ID)\n",
    "        \n",
    "        try: \n",
    "            mask = info_df['crsp_portno'].values == port_no\n",
    "            my_class = info_df.loc[mask]\n",
    "\n",
    "            my_class_n = my_class.loc[\n",
    "                (my_class.begdt <= report_dt) & \n",
    "                (my_class.enddt >= report_dt)]\n",
    "\n",
    "            crsp_obj_cd = my_class_n['crsp_obj_cd'].values[0]\n",
    "            index_fund_flag = my_class_n['index_fund_flag'].values[0]\n",
    "            et_flag = my_class_n['et_flag'].values[0]\n",
    "\n",
    "            return(port_ID, port_no, report_dt, index_fund_flag, et_flag, crsp_obj_cd)        \n",
    "\n",
    "        except: return(port_ID,port_no,report_dt,np.nan,np.nan,np.nan)\n",
    "    else: return(np.nan,np.nan,np.nan,np.nan,np.nan,np.nan)"
   ]
  },
  {
   "cell_type": "code",
   "execution_count": 8,
   "metadata": {},
   "outputs": [],
   "source": [
    "def port_map_to_port_ID(port_map):\n",
    "    left = []\n",
    "    right = []\n",
    "    keys = list(port_no_map.keys())\n",
    "    for i in keys:\n",
    "        left_temp, right_temp = i.split('-')\n",
    "        left.append(left_temp)\n",
    "        right.append(right_temp)\n",
    "\n",
    "    int_date = pd.to_numeric(right)\n",
    "    date = pd.to_timedelta(int_date, unit='D') + pd.Timestamp('1960-1-1')\n",
    "\n",
    "    port_ID_new = [m + '-' + str(n.date()) for m,n in zip(left,date)]\n",
    "    return(port_ID_new)"
   ]
  },
  {
   "cell_type": "markdown",
   "metadata": {},
   "source": [
    "# Data"
   ]
  },
  {
   "cell_type": "code",
   "execution_count": 9,
   "metadata": {},
   "outputs": [],
   "source": [
    "path = 'data/total_summary.feather'\n",
    "info = feather.read_dataframe(path)"
   ]
  },
  {
   "cell_type": "code",
   "execution_count": 10,
   "metadata": {},
   "outputs": [],
   "source": [
    "stock_map = np.load('data/stock_map.npy') \n",
    "port_no_map_a = np.load('data/port_no_map.npy') \n",
    "port_no_map = port_no_map_a.item()"
   ]
  },
  {
   "cell_type": "code",
   "execution_count": 11,
   "metadata": {},
   "outputs": [],
   "source": [
    "port_no_map = port_map_to_port_ID(port_no_map)"
   ]
  },
  {
   "cell_type": "code",
   "execution_count": 12,
   "metadata": {},
   "outputs": [
    {
     "name": "stdout",
     "output_type": "stream",
     "text": [
      "Shape before cleaning is: 166,461 / 12\n"
     ]
    }
   ],
   "source": [
    "print('Shape before cleaning is: {:,} / {:,}'.format(info.shape[0],info.shape[1]))"
   ]
  },
  {
   "cell_type": "code",
   "execution_count": 136,
   "metadata": {},
   "outputs": [],
   "source": [
    "info_clean = info[info['crsp_portno'].notna()]\n",
    "info_clean = info_clean.drop_duplicates(info_clean.columns.difference(['crsp_fundno','fund_name']))\n",
    "info_clean.loc[:,'crsp_portno'] = pd.to_numeric(info_clean.loc[:,'crsp_portno'], downcast='integer')\n",
    "# info_clean = info_clean.set_index('crsp_portno')"
   ]
  },
  {
   "cell_type": "code",
   "execution_count": 133,
   "metadata": {},
   "outputs": [
    {
     "name": "stdout",
     "output_type": "stream",
     "text": [
      "Shape after cleaning is: 95,614 / 12\n"
     ]
    }
   ],
   "source": [
    "print('Shape after cleaning is: {:,} / {:,}'.format(info_clean.shape[0],info_clean.shape[1]))"
   ]
  },
  {
   "cell_type": "markdown",
   "metadata": {},
   "source": [
    "# Match obj code to port_ID"
   ]
  },
  {
   "cell_type": "code",
   "execution_count": 398,
   "metadata": {},
   "outputs": [
    {
     "name": "stdout",
     "output_type": "stream",
     "text": [
      "CPU times: user 6min 21s, sys: 1.29 s, total: 6min 22s\n",
      "Wall time: 6min 23s\n"
     ]
    }
   ],
   "source": [
    "%%time\n",
    "\n",
    "test = [port_ID_to_port_info(x,info_clean) for x in port_no_map[-200_000:]]"
   ]
  },
  {
   "cell_type": "code",
   "execution_count": 545,
   "metadata": {},
   "outputs": [],
   "source": [
    "labels = ['port_ID','port_no','report_dt','index_fund_flag','et_flag','crsp_obj_cd']"
   ]
  },
  {
   "cell_type": "code",
   "execution_count": 546,
   "metadata": {},
   "outputs": [],
   "source": [
    "info_df = pd.DataFrame.from_records(test, columns=labels)"
   ]
  },
  {
   "cell_type": "code",
   "execution_count": 547,
   "metadata": {},
   "outputs": [
    {
     "data": {
      "text/html": [
       "<div>\n",
       "<style scoped>\n",
       "    .dataframe tbody tr th:only-of-type {\n",
       "        vertical-align: middle;\n",
       "    }\n",
       "\n",
       "    .dataframe tbody tr th {\n",
       "        vertical-align: top;\n",
       "    }\n",
       "\n",
       "    .dataframe thead th {\n",
       "        text-align: right;\n",
       "    }\n",
       "</style>\n",
       "<table border=\"1\" class=\"dataframe\">\n",
       "  <thead>\n",
       "    <tr style=\"text-align: right;\">\n",
       "      <th></th>\n",
       "      <th>port_ID</th>\n",
       "      <th>port_no</th>\n",
       "      <th>report_dt</th>\n",
       "      <th>index_fund_flag</th>\n",
       "      <th>et_flag</th>\n",
       "      <th>crsp_obj_cd</th>\n",
       "    </tr>\n",
       "  </thead>\n",
       "  <tbody>\n",
       "    <tr>\n",
       "      <th>0</th>\n",
       "      <td>1028236-2010-09-30</td>\n",
       "      <td>1028236.0</td>\n",
       "      <td>2010-09-30</td>\n",
       "      <td>D</td>\n",
       "      <td>F</td>\n",
       "      <td>EDCM</td>\n",
       "    </tr>\n",
       "    <tr>\n",
       "      <th>1</th>\n",
       "      <td>1028236-2010-10-31</td>\n",
       "      <td>1028236.0</td>\n",
       "      <td>2010-10-31</td>\n",
       "      <td>D</td>\n",
       "      <td>F</td>\n",
       "      <td>EDCM</td>\n",
       "    </tr>\n",
       "    <tr>\n",
       "      <th>2</th>\n",
       "      <td>1028236-2010-11-30</td>\n",
       "      <td>1028236.0</td>\n",
       "      <td>2010-11-30</td>\n",
       "      <td>D</td>\n",
       "      <td>F</td>\n",
       "      <td>EDCM</td>\n",
       "    </tr>\n",
       "    <tr>\n",
       "      <th>3</th>\n",
       "      <td>1028236-2010-12-31</td>\n",
       "      <td>1028236.0</td>\n",
       "      <td>2010-12-31</td>\n",
       "      <td>D</td>\n",
       "      <td>F</td>\n",
       "      <td>EDCM</td>\n",
       "    </tr>\n",
       "    <tr>\n",
       "      <th>4</th>\n",
       "      <td>1028236-2011-01-31</td>\n",
       "      <td>1028236.0</td>\n",
       "      <td>2011-01-31</td>\n",
       "      <td>D</td>\n",
       "      <td>F</td>\n",
       "      <td>EDCM</td>\n",
       "    </tr>\n",
       "  </tbody>\n",
       "</table>\n",
       "</div>"
      ],
      "text/plain": [
       "              port_ID    port_no  report_dt index_fund_flag et_flag  \\\n",
       "0  1028236-2010-09-30  1028236.0 2010-09-30               D       F   \n",
       "1  1028236-2010-10-31  1028236.0 2010-10-31               D       F   \n",
       "2  1028236-2010-11-30  1028236.0 2010-11-30               D       F   \n",
       "3  1028236-2010-12-31  1028236.0 2010-12-31               D       F   \n",
       "4  1028236-2011-01-31  1028236.0 2011-01-31               D       F   \n",
       "\n",
       "  crsp_obj_cd  \n",
       "0        EDCM  \n",
       "1        EDCM  \n",
       "2        EDCM  \n",
       "3        EDCM  \n",
       "4        EDCM  "
      ]
     },
     "execution_count": 547,
     "metadata": {},
     "output_type": "execute_result"
    }
   ],
   "source": [
    "info_df.head()"
   ]
  },
  {
   "cell_type": "code",
   "execution_count": 548,
   "metadata": {
    "scrolled": true
   },
   "outputs": [
    {
     "data": {
      "text/plain": [
       "(1143, 6)"
      ]
     },
     "execution_count": 548,
     "metadata": {},
     "output_type": "execute_result"
    }
   ],
   "source": [
    "info_df[info_df['crsp_obj_cd'].isna()].shape # -> For some portfolios there is simly no row in fund_header"
   ]
  },
  {
   "cell_type": "markdown",
   "metadata": {},
   "source": [
    "# Clean data"
   ]
  },
  {
   "cell_type": "code",
   "execution_count": 549,
   "metadata": {},
   "outputs": [],
   "source": [
    "# Replace NaN with N for not an ETF\n",
    "info_df.loc[info_df['et_flag'].isna(),'et_flag'] = 'N'"
   ]
  },
  {
   "cell_type": "code",
   "execution_count": 550,
   "metadata": {},
   "outputs": [],
   "source": [
    "# Replace NaN with N for not an Index fund\n",
    "info_df.loc[info_df['index_fund_flag'].isna(),'index_fund_flag'] = 'N'"
   ]
  },
  {
   "cell_type": "code",
   "execution_count": 551,
   "metadata": {},
   "outputs": [],
   "source": [
    "# Creat new flag var 'mutual_fund'\n",
    "info_df.loc[(info_df['index_fund_flag'] == 'N') & (info_df['et_flag'] == 'N'),'mutual_fund'] = 'Y'\n",
    "info_df.loc[info_df['mutual_fund'].isna(),'mutual_fund'] = 'N'"
   ]
  },
  {
   "cell_type": "code",
   "execution_count": 556,
   "metadata": {},
   "outputs": [
    {
     "data": {
      "text/html": [
       "<div>\n",
       "<style scoped>\n",
       "    .dataframe tbody tr th:only-of-type {\n",
       "        vertical-align: middle;\n",
       "    }\n",
       "\n",
       "    .dataframe tbody tr th {\n",
       "        vertical-align: top;\n",
       "    }\n",
       "\n",
       "    .dataframe thead th {\n",
       "        text-align: right;\n",
       "    }\n",
       "</style>\n",
       "<table border=\"1\" class=\"dataframe\">\n",
       "  <thead>\n",
       "    <tr style=\"text-align: right;\">\n",
       "      <th></th>\n",
       "      <th>port_ID</th>\n",
       "      <th>port_no</th>\n",
       "      <th>report_dt</th>\n",
       "      <th>index_fund_flag</th>\n",
       "      <th>et_flag</th>\n",
       "      <th>crsp_obj_cd</th>\n",
       "      <th>mutual_fund</th>\n",
       "      <th>s_crsp_obj_cd</th>\n",
       "    </tr>\n",
       "  </thead>\n",
       "  <tbody>\n",
       "    <tr>\n",
       "      <th>165136</th>\n",
       "      <td>1032558-2016-11-30</td>\n",
       "      <td>1032558.0</td>\n",
       "      <td>2016-11-30</td>\n",
       "      <td>B</td>\n",
       "      <td>F</td>\n",
       "      <td>O</td>\n",
       "      <td>N</td>\n",
       "      <td>O</td>\n",
       "    </tr>\n",
       "    <tr>\n",
       "      <th>112546</th>\n",
       "      <td>1030897-2014-05-31</td>\n",
       "      <td>1030897.0</td>\n",
       "      <td>2014-05-31</td>\n",
       "      <td>N</td>\n",
       "      <td>N</td>\n",
       "      <td>I</td>\n",
       "      <td>Y</td>\n",
       "      <td>I</td>\n",
       "    </tr>\n",
       "    <tr>\n",
       "      <th>77294</th>\n",
       "      <td>1029859-2013-08-31</td>\n",
       "      <td>1029859.0</td>\n",
       "      <td>2013-08-31</td>\n",
       "      <td>N</td>\n",
       "      <td>N</td>\n",
       "      <td>EDYB</td>\n",
       "      <td>Y</td>\n",
       "      <td>EDYB</td>\n",
       "    </tr>\n",
       "    <tr>\n",
       "      <th>75948</th>\n",
       "      <td>1029841-2015-07-31</td>\n",
       "      <td>1029841.0</td>\n",
       "      <td>2015-07-31</td>\n",
       "      <td>D</td>\n",
       "      <td>F</td>\n",
       "      <td>EFSF</td>\n",
       "      <td>N</td>\n",
       "      <td>Other</td>\n",
       "    </tr>\n",
       "    <tr>\n",
       "      <th>182137</th>\n",
       "      <td>1033328-2015-12-31</td>\n",
       "      <td>1033328.0</td>\n",
       "      <td>2015-12-31</td>\n",
       "      <td>N</td>\n",
       "      <td>N</td>\n",
       "      <td>I</td>\n",
       "      <td>Y</td>\n",
       "      <td>I</td>\n",
       "    </tr>\n",
       "  </tbody>\n",
       "</table>\n",
       "</div>"
      ],
      "text/plain": [
       "                   port_ID    port_no  report_dt index_fund_flag et_flag  \\\n",
       "165136  1032558-2016-11-30  1032558.0 2016-11-30               B       F   \n",
       "112546  1030897-2014-05-31  1030897.0 2014-05-31               N       N   \n",
       "77294   1029859-2013-08-31  1029859.0 2013-08-31               N       N   \n",
       "75948   1029841-2015-07-31  1029841.0 2015-07-31               D       F   \n",
       "182137  1033328-2015-12-31  1033328.0 2015-12-31               N       N   \n",
       "\n",
       "       crsp_obj_cd mutual_fund s_crsp_obj_cd  \n",
       "165136           O           N             O  \n",
       "112546           I           Y             I  \n",
       "77294         EDYB           Y          EDYB  \n",
       "75948         EFSF           N         Other  \n",
       "182137           I           Y             I  "
      ]
     },
     "execution_count": 556,
     "metadata": {},
     "output_type": "execute_result"
    }
   ],
   "source": [
    "# Creat subsample of crsp_obj_cd\n",
    "most_common = (info_df[\"port_no\"]\n",
    "        .groupby([\n",
    "        info_df[\"crsp_obj_cd\"],\n",
    "        ])\n",
    "        .count()\n",
    "        .sort_values()[-20:]\n",
    "        .index\n",
    ")\n",
    "\n",
    "info_df.loc[info_df[\"crsp_obj_cd\"].isin(most_common),'s_crsp_obj_cd'] = info_df[\"crsp_obj_cd\"]\n",
    "info_df.loc[info_df[\"s_crsp_obj_cd\"].isna(),'s_crsp_obj_cd'] = 'Other'\n",
    "\n",
    "info_df.sample(5)"
   ]
  },
  {
   "cell_type": "code",
   "execution_count": 553,
   "metadata": {},
   "outputs": [],
   "source": [
    "info_df.loc[info_df['mutual_fund'].isna(),'mutual_fund'] = 'N'"
   ]
  },
  {
   "cell_type": "code",
   "execution_count": 554,
   "metadata": {},
   "outputs": [
    {
     "data": {
      "text/html": [
       "<div>\n",
       "<style scoped>\n",
       "    .dataframe tbody tr th:only-of-type {\n",
       "        vertical-align: middle;\n",
       "    }\n",
       "\n",
       "    .dataframe tbody tr th {\n",
       "        vertical-align: top;\n",
       "    }\n",
       "\n",
       "    .dataframe thead th {\n",
       "        text-align: right;\n",
       "    }\n",
       "</style>\n",
       "<table border=\"1\" class=\"dataframe\">\n",
       "  <thead>\n",
       "    <tr style=\"text-align: right;\">\n",
       "      <th></th>\n",
       "      <th>port_ID</th>\n",
       "      <th>port_no</th>\n",
       "      <th>report_dt</th>\n",
       "      <th>index_fund_flag</th>\n",
       "      <th>et_flag</th>\n",
       "      <th>crsp_obj_cd</th>\n",
       "      <th>mutual_fund</th>\n",
       "      <th>s_crsp_obj_cd</th>\n",
       "    </tr>\n",
       "  </thead>\n",
       "  <tbody>\n",
       "    <tr>\n",
       "      <th>0</th>\n",
       "      <td>1028236-2010-09-30</td>\n",
       "      <td>1028236.0</td>\n",
       "      <td>2010-09-30</td>\n",
       "      <td>D</td>\n",
       "      <td>F</td>\n",
       "      <td>EDCM</td>\n",
       "      <td>N</td>\n",
       "      <td>EDCM</td>\n",
       "    </tr>\n",
       "    <tr>\n",
       "      <th>1</th>\n",
       "      <td>1028236-2010-10-31</td>\n",
       "      <td>1028236.0</td>\n",
       "      <td>2010-10-31</td>\n",
       "      <td>D</td>\n",
       "      <td>F</td>\n",
       "      <td>EDCM</td>\n",
       "      <td>N</td>\n",
       "      <td>EDCM</td>\n",
       "    </tr>\n",
       "    <tr>\n",
       "      <th>2</th>\n",
       "      <td>1028236-2010-11-30</td>\n",
       "      <td>1028236.0</td>\n",
       "      <td>2010-11-30</td>\n",
       "      <td>D</td>\n",
       "      <td>F</td>\n",
       "      <td>EDCM</td>\n",
       "      <td>N</td>\n",
       "      <td>EDCM</td>\n",
       "    </tr>\n",
       "    <tr>\n",
       "      <th>3</th>\n",
       "      <td>1028236-2010-12-31</td>\n",
       "      <td>1028236.0</td>\n",
       "      <td>2010-12-31</td>\n",
       "      <td>D</td>\n",
       "      <td>F</td>\n",
       "      <td>EDCM</td>\n",
       "      <td>N</td>\n",
       "      <td>EDCM</td>\n",
       "    </tr>\n",
       "    <tr>\n",
       "      <th>4</th>\n",
       "      <td>1028236-2011-01-31</td>\n",
       "      <td>1028236.0</td>\n",
       "      <td>2011-01-31</td>\n",
       "      <td>D</td>\n",
       "      <td>F</td>\n",
       "      <td>EDCM</td>\n",
       "      <td>N</td>\n",
       "      <td>EDCM</td>\n",
       "    </tr>\n",
       "  </tbody>\n",
       "</table>\n",
       "</div>"
      ],
      "text/plain": [
       "              port_ID    port_no  report_dt index_fund_flag et_flag  \\\n",
       "0  1028236-2010-09-30  1028236.0 2010-09-30               D       F   \n",
       "1  1028236-2010-10-31  1028236.0 2010-10-31               D       F   \n",
       "2  1028236-2010-11-30  1028236.0 2010-11-30               D       F   \n",
       "3  1028236-2010-12-31  1028236.0 2010-12-31               D       F   \n",
       "4  1028236-2011-01-31  1028236.0 2011-01-31               D       F   \n",
       "\n",
       "  crsp_obj_cd mutual_fund s_crsp_obj_cd  \n",
       "0        EDCM           N          EDCM  \n",
       "1        EDCM           N          EDCM  \n",
       "2        EDCM           N          EDCM  \n",
       "3        EDCM           N          EDCM  \n",
       "4        EDCM           N          EDCM  "
      ]
     },
     "execution_count": 554,
     "metadata": {},
     "output_type": "execute_result"
    }
   ],
   "source": [
    "info_df.head()"
   ]
  },
  {
   "cell_type": "markdown",
   "metadata": {},
   "source": [
    "# Save info_df"
   ]
  },
  {
   "cell_type": "code",
   "execution_count": 555,
   "metadata": {},
   "outputs": [],
   "source": [
    "path = 'data/info_df_total.feather'\n",
    "feather.write_dataframe(info_df,path)"
   ]
  },
  {
   "cell_type": "code",
   "execution_count": null,
   "metadata": {},
   "outputs": [],
   "source": []
  }
 ],
 "metadata": {
  "kernelspec": {
   "display_name": "Python 3",
   "language": "python",
   "name": "python3"
  },
  "language_info": {
   "codemirror_mode": {
    "name": "ipython",
    "version": 3
   },
   "file_extension": ".py",
   "mimetype": "text/x-python",
   "name": "python",
   "nbconvert_exporter": "python",
   "pygments_lexer": "ipython3",
   "version": "3.7.1"
  }
 },
 "nbformat": 4,
 "nbformat_minor": 2
}
