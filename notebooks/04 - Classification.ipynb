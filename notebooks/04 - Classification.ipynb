{
 "cells": [
  {
   "cell_type": "markdown",
   "metadata": {},
   "source": [
    "# Analysis of monthly return data"
   ]
  },
  {
   "cell_type": "markdown",
   "metadata": {},
   "source": [
    "## Description"
   ]
  },
  {
   "cell_type": "markdown",
   "metadata": {},
   "source": [
    "- Calculate mean return per Style"
   ]
  },
  {
   "cell_type": "code",
   "execution_count": 98,
   "metadata": {},
   "outputs": [],
   "source": [
    "import feather\n",
    "import numpy as np\n",
    "import datetime\n",
    "import pandas as pd\n",
    "import seaborn as sns\n",
    "import matplotlib.pyplot as plt\n",
    "\n",
    "from scipy import sparse"
   ]
  },
  {
   "cell_type": "code",
   "execution_count": 2,
   "metadata": {},
   "outputs": [],
   "source": [
    "from sklearn.metrics import silhouette_samples, silhouette_score\n",
    "\n",
    "import matplotlib.pyplot as plt\n",
    "import matplotlib.cm as cm"
   ]
  },
  {
   "cell_type": "code",
   "execution_count": 3,
   "metadata": {},
   "outputs": [],
   "source": [
    "from sklearn.cluster import KMeans, MiniBatchKMeans, DBSCAN\n",
    "from sklearn.cluster import AffinityPropagation\n",
    "\n",
    "from sklearn.preprocessing import Normalizer, MaxAbsScaler"
   ]
  },
  {
   "cell_type": "markdown",
   "metadata": {},
   "source": [
    "# Setup"
   ]
  },
  {
   "cell_type": "code",
   "execution_count": 393,
   "metadata": {},
   "outputs": [],
   "source": [
    "# Convert to date format\n",
    "begin_date = '2018-01-01' \n",
    "end_date = '2019-01-01'"
   ]
  },
  {
   "cell_type": "markdown",
   "metadata": {},
   "source": [
    "## Load Data"
   ]
  },
  {
   "cell_type": "markdown",
   "metadata": {},
   "source": [
    "### Returns"
   ]
  },
  {
   "cell_type": "code",
   "execution_count": 394,
   "metadata": {},
   "outputs": [],
   "source": [
    "path = '../data/processed/EDY/returns_s.feather'\n",
    "returns = feather.read_dataframe(path)\n",
    "returns.shape\n",
    "\n",
    "# Convert to date format and filter based on date\n",
    "returns['date'] =  pd.to_datetime(returns['caldt'], format='%Y-%m-%d')\n",
    "returns = returns[returns['date'] > begin_date]"
   ]
  },
  {
   "cell_type": "markdown",
   "metadata": {},
   "source": [
    "### Summary"
   ]
  },
  {
   "cell_type": "code",
   "execution_count": 395,
   "metadata": {},
   "outputs": [
    {
     "data": {
      "text/plain": [
       "(15391, 13)"
      ]
     },
     "execution_count": 395,
     "metadata": {},
     "output_type": "execute_result"
    }
   ],
   "source": [
    "path = '../data/processed/EDY/holdings_summary_s.feather'\n",
    "summary = feather.read_dataframe(path)\n",
    "summary.shape"
   ]
  },
  {
   "cell_type": "code",
   "execution_count": 396,
   "metadata": {},
   "outputs": [
    {
     "data": {
      "text/plain": [
       "(4244, 14)"
      ]
     },
     "execution_count": 396,
     "metadata": {},
     "output_type": "execute_result"
    }
   ],
   "source": [
    "# Convert to date format and filter based on date with mask that is also used on holdings\n",
    "summary['date'] =  pd.to_datetime(summary['report_dt'], format='%Y-%m-%d')\n",
    "date_mask = summary['date'] > begin_date\n",
    "summary = summary[date_mask]\n",
    "summary.shape"
   ]
  },
  {
   "cell_type": "markdown",
   "metadata": {},
   "source": [
    "### Holdings"
   ]
  },
  {
   "cell_type": "code",
   "execution_count": 397,
   "metadata": {},
   "outputs": [
    {
     "data": {
      "text/plain": [
       "(15391, 8995)"
      ]
     },
     "execution_count": 397,
     "metadata": {},
     "output_type": "execute_result"
    }
   ],
   "source": [
    "path = '../data/processed/EDY/holdings_s.npz'\n",
    "holdings = sparse.load_npz(path)\n",
    "holdings.shape"
   ]
  },
  {
   "cell_type": "code",
   "execution_count": 398,
   "metadata": {},
   "outputs": [],
   "source": [
    "holdings = holdings[date_mask.values]"
   ]
  },
  {
   "cell_type": "code",
   "execution_count": 399,
   "metadata": {},
   "outputs": [
    {
     "name": "stdout",
     "output_type": "stream",
     "text": [
      "Shape of summary information\n",
      "(4244, 14)\n",
      "Shape of holding information\n",
      "(4244, 8995)\n"
     ]
    }
   ],
   "source": [
    "print('Shape of summary information')\n",
    "print(summary.shape)\n",
    "print('Shape of holding information')\n",
    "print(holdings.shape)"
   ]
  },
  {
   "cell_type": "markdown",
   "metadata": {},
   "source": [
    "### portno_map"
   ]
  },
  {
   "cell_type": "code",
   "execution_count": 400,
   "metadata": {
    "scrolled": true
   },
   "outputs": [],
   "source": [
    "path = '../data/raw/portno_map.feather'\n",
    "portno_map = feather.read_dataframe(path)"
   ]
  },
  {
   "cell_type": "code",
   "execution_count": 401,
   "metadata": {},
   "outputs": [
    {
     "data": {
      "text/plain": [
       "<matplotlib.axes._subplots.AxesSubplot at 0x14dd30320>"
      ]
     },
     "execution_count": 401,
     "metadata": {},
     "output_type": "execute_result"
    },
    {
     "data": {
      "image/png": "[encoded data removed]",
      "text/plain": [
       "<Figure size 432x288 with 1 Axes>"
      ]
     },
     "metadata": {},
     "output_type": "display_data"
    }
   ],
   "source": [
    "summary['report_dt'].value_counts().plot()"
   ]
  },
  {
   "cell_type": "markdown",
   "metadata": {},
   "source": [
    "## Merge Crsp_Obj_Cd onto returns data"
   ]
  },
  {
   "cell_type": "markdown",
   "metadata": {},
   "source": [
    "### Merge does not take dates into account -> TODO"
   ]
  },
  {
   "cell_type": "code",
   "execution_count": 402,
   "metadata": {},
   "outputs": [
    {
     "data": {
      "text/plain": [
       "(136092, 18)"
      ]
     },
     "execution_count": 402,
     "metadata": {},
     "output_type": "execute_result"
    }
   ],
   "source": [
    "returns_merged = returns.merge(summary, how='left', left_on='crsp_fundno',right_on='fund_no')\n",
    "returns_merged.shape"
   ]
  },
  {
   "cell_type": "code",
   "execution_count": 403,
   "metadata": {},
   "outputs": [
    {
     "data": {
      "text/plain": [
       "(48251, 18)"
      ]
     },
     "execution_count": 403,
     "metadata": {},
     "output_type": "execute_result"
    }
   ],
   "source": [
    "returns_merged = returns_merged.dropna(axis = 0, how = 'any')\n",
    "returns_merged.shape"
   ]
  },
  {
   "cell_type": "code",
   "execution_count": 404,
   "metadata": {},
   "outputs": [
    {
     "data": {
      "text/html": [
       "<div>\n",
       "<style scoped>\n",
       "    .dataframe tbody tr th:only-of-type {\n",
       "        vertical-align: middle;\n",
       "    }\n",
       "\n",
       "    .dataframe tbody tr th {\n",
       "        vertical-align: top;\n",
       "    }\n",
       "\n",
       "    .dataframe thead th {\n",
       "        text-align: right;\n",
       "    }\n",
       "</style>\n",
       "<table border=\"1\" class=\"dataframe\">\n",
       "  <thead>\n",
       "    <tr style=\"text-align: right;\">\n",
       "      <th></th>\n",
       "      <th>crsp_fundno</th>\n",
       "      <th>caldt</th>\n",
       "      <th>mret</th>\n",
       "      <th>date_x</th>\n",
       "      <th>level_0</th>\n",
       "      <th>index</th>\n",
       "      <th>port_no</th>\n",
       "      <th>report_dt</th>\n",
       "      <th>index_fund_flag</th>\n",
       "      <th>et_flag</th>\n",
       "      <th>lipper_class</th>\n",
       "      <th>mutual_fund</th>\n",
       "      <th>sample</th>\n",
       "      <th>cap_class</th>\n",
       "      <th>style_class</th>\n",
       "      <th>crsp_portno</th>\n",
       "      <th>fund_no</th>\n",
       "      <th>date_y</th>\n",
       "    </tr>\n",
       "  </thead>\n",
       "  <tbody>\n",
       "    <tr>\n",
       "      <th>31634</th>\n",
       "      <td>16705.0</td>\n",
       "      <td>2018-01-31</td>\n",
       "      <td>0.069579</td>\n",
       "      <td>2018-01-31</td>\n",
       "      <td>17289.0</td>\n",
       "      <td>214885</td>\n",
       "      <td>1022067.0</td>\n",
       "      <td>2018-03-31</td>\n",
       "      <td>MF</td>\n",
       "      <td>MF</td>\n",
       "      <td>LCCE</td>\n",
       "      <td>Y</td>\n",
       "      <td>Y</td>\n",
       "      <td>L</td>\n",
       "      <td>C</td>\n",
       "      <td>1022067.0</td>\n",
       "      <td>16705.0</td>\n",
       "      <td>2018-03-31</td>\n",
       "    </tr>\n",
       "  </tbody>\n",
       "</table>\n",
       "</div>"
      ],
      "text/plain": [
       "       crsp_fundno       caldt      mret     date_x  level_0   index  \\\n",
       "31634      16705.0  2018-01-31  0.069579 2018-01-31  17289.0  214885   \n",
       "\n",
       "         port_no   report_dt index_fund_flag et_flag lipper_class mutual_fund  \\\n",
       "31634  1022067.0  2018-03-31              MF      MF         LCCE           Y   \n",
       "\n",
       "      sample cap_class style_class  crsp_portno  fund_no     date_y  \n",
       "31634      Y         L           C    1022067.0  16705.0 2018-03-31  "
      ]
     },
     "execution_count": 404,
     "metadata": {},
     "output_type": "execute_result"
    }
   ],
   "source": [
    "returns_merged.sample()"
   ]
  },
  {
   "cell_type": "markdown",
   "metadata": {},
   "source": [
    "#### Take only needed columns and reorder them"
   ]
  },
  {
   "cell_type": "code",
   "execution_count": 405,
   "metadata": {},
   "outputs": [],
   "source": [
    "returns_merged = returns_merged[['caldt','fund_no','port_no','mret','lipper_class','style_class','cap_class']]"
   ]
  },
  {
   "cell_type": "code",
   "execution_count": 406,
   "metadata": {},
   "outputs": [
    {
     "data": {
      "text/html": [
       "<div>\n",
       "<style scoped>\n",
       "    .dataframe tbody tr th:only-of-type {\n",
       "        vertical-align: middle;\n",
       "    }\n",
       "\n",
       "    .dataframe tbody tr th {\n",
       "        vertical-align: top;\n",
       "    }\n",
       "\n",
       "    .dataframe thead th {\n",
       "        text-align: right;\n",
       "    }\n",
       "</style>\n",
       "<table border=\"1\" class=\"dataframe\">\n",
       "  <thead>\n",
       "    <tr style=\"text-align: right;\">\n",
       "      <th></th>\n",
       "      <th>caldt</th>\n",
       "      <th>fund_no</th>\n",
       "      <th>port_no</th>\n",
       "      <th>mret</th>\n",
       "      <th>lipper_class</th>\n",
       "      <th>style_class</th>\n",
       "      <th>cap_class</th>\n",
       "    </tr>\n",
       "  </thead>\n",
       "  <tbody>\n",
       "    <tr>\n",
       "      <th>607</th>\n",
       "      <td>2018-05-31</td>\n",
       "      <td>3023.0</td>\n",
       "      <td>1025916.0</td>\n",
       "      <td>0.048017</td>\n",
       "      <td>SCCE</td>\n",
       "      <td>C</td>\n",
       "      <td>S</td>\n",
       "    </tr>\n",
       "  </tbody>\n",
       "</table>\n",
       "</div>"
      ],
      "text/plain": [
       "          caldt  fund_no    port_no      mret lipper_class style_class  \\\n",
       "607  2018-05-31   3023.0  1025916.0  0.048017         SCCE           C   \n",
       "\n",
       "    cap_class  \n",
       "607         S  "
      ]
     },
     "execution_count": 406,
     "metadata": {},
     "output_type": "execute_result"
    }
   ],
   "source": [
    "returns_merged.sample()"
   ]
  },
  {
   "cell_type": "markdown",
   "metadata": {},
   "source": [
    "## Check for how many funds returns data is available"
   ]
  },
  {
   "cell_type": "markdown",
   "metadata": {},
   "source": [
    "#### TODO"
   ]
  },
  {
   "cell_type": "markdown",
   "metadata": {},
   "source": [
    "## Calc mean return per Obj_cd"
   ]
  },
  {
   "cell_type": "markdown",
   "metadata": {},
   "source": [
    "### Get unique codes for later"
   ]
  },
  {
   "cell_type": "code",
   "execution_count": 407,
   "metadata": {},
   "outputs": [],
   "source": [
    "group_by = 'style_class'"
   ]
  },
  {
   "cell_type": "code",
   "execution_count": 408,
   "metadata": {},
   "outputs": [],
   "source": [
    "obj_codes = returns_merged[[group_by]].drop_duplicates()\n",
    "obj_codes = obj_codes[group_by].values"
   ]
  },
  {
   "cell_type": "code",
   "execution_count": 409,
   "metadata": {},
   "outputs": [
    {
     "data": {
      "text/html": [
       "<div>\n",
       "<style scoped>\n",
       "    .dataframe tbody tr th:only-of-type {\n",
       "        vertical-align: middle;\n",
       "    }\n",
       "\n",
       "    .dataframe tbody tr th {\n",
       "        vertical-align: top;\n",
       "    }\n",
       "\n",
       "    .dataframe thead th {\n",
       "        text-align: right;\n",
       "    }\n",
       "</style>\n",
       "<table border=\"1\" class=\"dataframe\">\n",
       "  <thead>\n",
       "    <tr style=\"text-align: right;\">\n",
       "      <th></th>\n",
       "      <th>caldt</th>\n",
       "      <th>fund_no</th>\n",
       "      <th>port_no</th>\n",
       "      <th>mret</th>\n",
       "      <th>lipper_class</th>\n",
       "      <th>style_class</th>\n",
       "      <th>cap_class</th>\n",
       "    </tr>\n",
       "  </thead>\n",
       "  <tbody>\n",
       "    <tr>\n",
       "      <th>38941</th>\n",
       "      <td>2018-01-31</td>\n",
       "      <td>20126.0</td>\n",
       "      <td>1022323.0</td>\n",
       "      <td>0.065773</td>\n",
       "      <td>LCVE</td>\n",
       "      <td>V</td>\n",
       "      <td>L</td>\n",
       "    </tr>\n",
       "  </tbody>\n",
       "</table>\n",
       "</div>"
      ],
      "text/plain": [
       "            caldt  fund_no    port_no      mret lipper_class style_class  \\\n",
       "38941  2018-01-31  20126.0  1022323.0  0.065773         LCVE           V   \n",
       "\n",
       "      cap_class  \n",
       "38941         L  "
      ]
     },
     "execution_count": 409,
     "metadata": {},
     "output_type": "execute_result"
    }
   ],
   "source": [
    "returns_merged.sample(1)"
   ]
  },
  {
   "cell_type": "code",
   "execution_count": 410,
   "metadata": {},
   "outputs": [],
   "source": [
    "# Analysis of selected funds\n",
    "returns_obj = returns_merged.groupby([group_by,'caldt'])['mret'].agg(['mean','count','std'])"
   ]
  },
  {
   "cell_type": "code",
   "execution_count": 411,
   "metadata": {},
   "outputs": [],
   "source": [
    "def cumreturn(series):\n",
    "    \"\"\"\n",
    "    Calculate cumreturn from a pandas series\n",
    "    \n",
    "    Attention: Sets first return observation to 1\n",
    "    Could be better implemented\n",
    "    \"\"\"\n",
    "    min_date = series.index.min()\n",
    "    series.loc[min_date] = 0\n",
    "    series = (series.fillna(0)+1).cumprod()\n",
    "    return(series)"
   ]
  },
  {
   "cell_type": "code",
   "execution_count": 412,
   "metadata": {},
   "outputs": [],
   "source": [
    "returns_obj['cumret'] = returns_obj.groupby(group_by)[['mean']].apply(cumreturn)"
   ]
  },
  {
   "cell_type": "markdown",
   "metadata": {},
   "source": [
    "#### Pivot to make multiple columns, one for each obj_cd"
   ]
  },
  {
   "cell_type": "code",
   "execution_count": 413,
   "metadata": {},
   "outputs": [],
   "source": [
    "returns_obj_n = returns_obj.pivot_table(\n",
    "        values='cumret', \n",
    "        index=['caldt'], \n",
    "        columns=group_by)"
   ]
  },
  {
   "cell_type": "code",
   "execution_count": 414,
   "metadata": {},
   "outputs": [
    {
     "data": {
      "text/plain": [
       "<matplotlib.axes._subplots.AxesSubplot at 0x14db001d0>"
      ]
     },
     "execution_count": 414,
     "metadata": {},
     "output_type": "execute_result"
    },
    {
     "data": {
      "image/png": "[encoded data removed]",
      "text/plain": [
       "<Figure size 1152x576 with 1 Axes>"
      ]
     },
     "metadata": {},
     "output_type": "display_data"
    }
   ],
   "source": [
    "returns_obj_n.plot(\n",
    "              kind='line',\n",
    "              use_index=True,\n",
    "              figsize=(16,8),\n",
    "              title='Mean cumreturn per Group',\n",
    "              legend='best')"
   ]
  }
 ],
 "metadata": {
  "kernelspec": {
   "display_name": "Python 3",
   "language": "python",
   "name": "python3"
  },
  "language_info": {
   "codemirror_mode": {
    "name": "ipython",
    "version": 3
   },
   "file_extension": ".py",
   "mimetype": "text/x-python",
   "name": "python",
   "nbconvert_exporter": "python",
   "pygments_lexer": "ipython3",
   "version": "3.7.1"
  }
 },
 "nbformat": 4,
 "nbformat_minor": 2
}
