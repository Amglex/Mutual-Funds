{
 "cells": [
  {
   "cell_type": "markdown",
   "metadata": {
    "toc": true
   },
   "source": [
    "<h1>Table of Contents<span class=\"tocSkip\"></span></h1>\n",
    "<div class=\"toc\"><ul class=\"toc-item\"><li><span><a href=\"#Table-1-/-whole-sample-over-the-years\" data-toc-modified-id=\"Table-1-/-whole-sample-over-the-years-1\"><span class=\"toc-item-num\">1&nbsp;&nbsp;</span>Table 1 / whole sample over the years</a></span></li><li><span><a href=\"#Table-2-/-Over-the-years\" data-toc-modified-id=\"Table-2-/-Over-the-years-2\"><span class=\"toc-item-num\">2&nbsp;&nbsp;</span>Table 2 / Over the years</a></span></li><li><span><a href=\"#Distribution-per-year\" data-toc-modified-id=\"Distribution-per-year-3\"><span class=\"toc-item-num\">3&nbsp;&nbsp;</span>Distribution per year</a></span></li><li><span><a href=\"#Average-retun-per-year\" data-toc-modified-id=\"Average-retun-per-year-4\"><span class=\"toc-item-num\">4&nbsp;&nbsp;</span>Average retun per year</a></span></li><li><span><a href=\"#Average-std-per-year\" data-toc-modified-id=\"Average-std-per-year-5\"><span class=\"toc-item-num\">5&nbsp;&nbsp;</span>Average std per year</a></span></li></ul></div>"
   ]
  },
  {
   "cell_type": "markdown",
   "metadata": {},
   "source": [
    "# Analysis of selected funds"
   ]
  },
  {
   "cell_type": "code",
   "execution_count": null,
   "metadata": {
    "pycharm": {
     "is_executing": false
    }
   },
   "outputs": [],
   "source": [
    "import feather\n",
    "import pandas as pd\n",
    "import numpy as np\n",
    "\n",
    "import matplotlib.pyplot as plt\n",
    "import seaborn as sns\n"
   ]
  },
  {
   "cell_type": "code",
   "execution_count": null,
   "metadata": {
    "pycharm": {
     "is_executing": false
    }
   },
   "outputs": [],
   "source": [
    "# Convert to date format\n",
    "begin_date = '2010-01-01' \n",
    "end_date   = '2019-12-31'"
   ]
  },
  {
   "cell_type": "code",
   "execution_count": null,
   "metadata": {
    "pycharm": {
     "is_executing": false
    }
   },
   "outputs": [],
   "source": [
    "path = '../data/processed/row_info.feather'\n",
    "info_df = feather.read_dataframe(path)\n",
    "\n",
    "path = '../data/processed/returns.feather'\n",
    "returns = feather.read_dataframe(path)"
   ]
  },
  {
   "cell_type": "code",
   "execution_count": null,
   "metadata": {
    "pycharm": {
     "is_executing": false
    }
   },
   "outputs": [],
   "source": [
    "info_df = info_df.query('report_dt >= @begin_date and report_dt <= @end_date')\n",
    "returns = returns.query('caldt >= @begin_date and caldt <= @end_date')\n",
    "returns = returns.assign(year = returns['caldt'].dt.year)"
   ]
  },
  {
   "cell_type": "markdown",
   "metadata": {},
   "source": [
    "## Table 1 / whole sample over the years"
   ]
  },
  {
   "cell_type": "code",
   "execution_count": null,
   "metadata": {},
   "outputs": [],
   "source": [
    "returns['mret'].kurt()"
   ]
  },
  {
   "cell_type": "code",
   "execution_count": null,
   "metadata": {},
   "outputs": [],
   "source": [
    "columns = ['Number of funds', 'Percent of funds', \n",
    "           'Return', 'Standard deviation', \n",
    "           'Min','Max','Skewness','Kurtosis']\n",
    "\n",
    "table_1 = pd.DataFrame(columns=columns)\n",
    "\n",
    "unique_funds = returns['crsp_fundno'].nunique()\n",
    "percent = lambda x: x.nunique() / unique_funds * 100\n",
    "annual_ret = lambda x: x.mean() * 12 * 100\n",
    "annual_std = lambda x: x.std() * np.sqrt(12) * 100\n",
    "quant_05 = lambda x: x.quantile([0.05])\n",
    "quant_95 = lambda x: x.quantile([0.95])\n",
    "kurt = lambda x: x.kurt()\n",
    "\n",
    "\n",
    "temp = (returns\n",
    "    .groupby([\n",
    "         returns['lipper_class']\n",
    "     ])\n",
    "     .agg({'crsp_fundno' : ['nunique',percent],\n",
    "           'mret' : [annual_ret, annual_std,\n",
    "                     'min', 'max',\n",
    "                     'skew', kurt]})\n",
    ")\n",
    "\n",
    "temp.index.name = 'Lipper class'\n",
    "temp.columns = columns\n",
    "\n",
    "temp.index = temp.index.astype(str)\n",
    "\n",
    "temp_all = (returns\n",
    "            .groupby(lambda _ : True)\n",
    "            .aggregate(\n",
    "                {'crsp_fundno' : ['nunique',percent],\n",
    "                 'mret'        : [annual_ret, annual_std,\n",
    "                            'min', 'max',\n",
    "                            'skew', kurt]})\n",
    ")\n",
    "\n",
    "temp_all.columns = temp.columns\n",
    "temp_all.index = ['Average']\n",
    "\n",
    "temp = pd.concat([temp,temp_all])\n",
    "temp.index.name = 'Lipper class'\n",
    "\n",
    "temp = round(temp,2)"
   ]
  },
  {
   "cell_type": "code",
   "execution_count": null,
   "metadata": {},
   "outputs": [],
   "source": [
    "temp"
   ]
  },
  {
   "cell_type": "code",
   "execution_count": null,
   "metadata": {},
   "outputs": [],
   "source": [
    "print(temp.to_latex(index = True,\n",
    "                    index_names = False,\n",
    "                    bold_rows = True)\n",
    "     )"
   ]
  },
  {
   "cell_type": "markdown",
   "metadata": {},
   "source": [
    "## Table 2 / Over the years"
   ]
  },
  {
   "cell_type": "code",
   "execution_count": null,
   "metadata": {},
   "outputs": [],
   "source": [
    "columns = ['Number of funds', 'Percent of funds', \n",
    "           'Return', 'Standard deviation', \n",
    "           'Min','Max','Skewness','Kurtosis']\n",
    "\n",
    "table_1 = pd.DataFrame(columns=columns)\n",
    "\n",
    "unique_funds = returns['crsp_fundno'].nunique()\n",
    "percent = lambda x: x.nunique() / unique_funds * 100\n",
    "annual_ret = lambda x: x.mean() * 12 * 100\n",
    "annual_std = lambda x: x.std() * np.sqrt(12) * 100\n",
    "quant_05 = lambda x: x.quantile([0.05])\n",
    "quant_95 = lambda x: x.quantile([0.95])\n",
    "kurt = lambda x: x.kurt()\n",
    "\n",
    "\n",
    "temp = (returns\n",
    "    .groupby([\n",
    "         returns['year']\n",
    "     ])\n",
    "     .agg({'crsp_fundno' : ['nunique',percent],\n",
    "           'mret' : [annual_ret, annual_std,\n",
    "                     'min', 'max',\n",
    "                     'skew', kurt]})\n",
    ")\n",
    "\n",
    "temp.index.name = 'Year'\n",
    "temp.columns = columns\n",
    "\n",
    "temp.index = temp.index.astype(str)\n",
    "\n",
    "temp_all = (returns\n",
    "            .groupby(lambda _ : True)\n",
    "            .aggregate(\n",
    "                {'crsp_fundno' : ['nunique',percent],\n",
    "                 'mret'        : [annual_ret, annual_std,\n",
    "                            'min', 'max',\n",
    "                            'skew', kurt]})\n",
    ")\n",
    "\n",
    "temp_all.columns = temp.columns\n",
    "temp_all.index = ['Average']\n",
    "\n",
    "temp = pd.concat([temp,temp_all])\n",
    "temp.index.name = 'Year'\n",
    "\n",
    "temp = round(temp,2)"
   ]
  },
  {
   "cell_type": "code",
   "execution_count": null,
   "metadata": {},
   "outputs": [],
   "source": [
    "temp"
   ]
  },
  {
   "cell_type": "code",
   "execution_count": null,
   "metadata": {},
   "outputs": [],
   "source": [
    "print(temp.to_latex(index = True,\n",
    "                    index_names = False,\n",
    "                    bold_rows = True)\n",
    "     )"
   ]
  },
  {
   "cell_type": "markdown",
   "metadata": {},
   "source": [
    "## Distribution per year"
   ]
  },
  {
   "cell_type": "code",
   "execution_count": null,
   "metadata": {},
   "outputs": [],
   "source": [
    "# Analysis of selected funds\n",
    "\n",
    "def percent_per_year(info_df,column):\n",
    "    \n",
    "    info_df = info_df\n",
    "    \n",
    "    temp = (info_df['crsp_portno']\n",
    "        .groupby([\n",
    "             info_df['report_dt'].dt.year,\n",
    "             info_df[column]\n",
    "         ])\n",
    "         .nunique()\n",
    "         .reset_index()\n",
    "         .pivot(columns=column,values='crsp_portno',index='report_dt')\n",
    "    )\n",
    "\n",
    "    temp.columns = temp.columns.astype(str)\n",
    "    temp['total'] = np.sum(temp,axis=1)\n",
    "    temp = temp.apply(lambda x: x / temp['total'] * 100)\n",
    "\n",
    "    return(round(temp,2))"
   ]
  },
  {
   "cell_type": "code",
   "execution_count": null,
   "metadata": {},
   "outputs": [],
   "source": [
    "percent_per_year(info_df,'lipper_class')"
   ]
  },
  {
   "cell_type": "code",
   "execution_count": null,
   "metadata": {},
   "outputs": [],
   "source": [
    "percent_per_year(info_df,'cap_class')"
   ]
  },
  {
   "cell_type": "code",
   "execution_count": null,
   "metadata": {},
   "outputs": [],
   "source": [
    "percent_per_year(info_df,'style_class')"
   ]
  },
  {
   "cell_type": "markdown",
   "metadata": {},
   "source": [
    "## Average retun per year"
   ]
  },
  {
   "cell_type": "code",
   "execution_count": null,
   "metadata": {},
   "outputs": [],
   "source": [
    "# Analysis of selected funds\n",
    "\n",
    "def average_return_per_year(returns,column):\n",
    "    \n",
    "    returns = returns\n",
    "    \n",
    "    temp = (returns.groupby(['year',column])\n",
    "                .mean()\n",
    "                .reset_index()\n",
    "                .pivot(columns=column,values='mret',index='year')\n",
    "            )\n",
    "    \n",
    "    temp.columns = temp.columns.astype(str)\n",
    "\n",
    "    temp['all'] = (returns.groupby(['year'])\n",
    "                .mean()\n",
    "                .drop(columns='crsp_fundno')\n",
    "            )\n",
    "\n",
    "    temp = temp.applymap(lambda x: (x+1) ** 12 - 1)\n",
    "        \n",
    "    return(round(temp,4) * 100)"
   ]
  },
  {
   "cell_type": "code",
   "execution_count": null,
   "metadata": {},
   "outputs": [],
   "source": [
    "average_return_per_year(returns,'lipper_class')"
   ]
  },
  {
   "cell_type": "code",
   "execution_count": null,
   "metadata": {},
   "outputs": [],
   "source": [
    "average_return_per_year(returns,'cap_class')"
   ]
  },
  {
   "cell_type": "code",
   "execution_count": null,
   "metadata": {},
   "outputs": [],
   "source": [
    "average_return_per_year(returns,'style_class')"
   ]
  },
  {
   "cell_type": "markdown",
   "metadata": {},
   "source": [
    "## Average std per year"
   ]
  },
  {
   "cell_type": "code",
   "execution_count": null,
   "metadata": {},
   "outputs": [],
   "source": [
    "# Analysis of selected funds\n",
    "\n",
    "def average_std_per_year(returns,column):\n",
    "    \n",
    "    returns = returns\n",
    "    \n",
    "    temp = (returns.groupby(['year',column])\n",
    "                .std()\n",
    "                .reset_index()\n",
    "                .pivot(columns=column,values='mret',index='year')\n",
    "            )\n",
    "        \n",
    "    temp.columns = temp.columns.astype(str)\n",
    "\n",
    "    temp['all'] = (returns.groupby(['year'])\n",
    "                .std()\n",
    "                .drop(columns='crsp_fundno')\n",
    "            )\n",
    "    \n",
    "    temp = temp.applymap(lambda x: (x+1) ** np.sqrt(12) - 1)\n",
    "    \n",
    "    return(round(temp,4) * 100)"
   ]
  },
  {
   "cell_type": "code",
   "execution_count": null,
   "metadata": {},
   "outputs": [],
   "source": [
    "average_std_per_year(returns,'lipper_class')"
   ]
  },
  {
   "cell_type": "code",
   "execution_count": null,
   "metadata": {},
   "outputs": [],
   "source": [
    "average_std_per_year(returns,'cap_class')"
   ]
  },
  {
   "cell_type": "code",
   "execution_count": null,
   "metadata": {},
   "outputs": [],
   "source": [
    "average_std_per_year(returns,'style_class')"
   ]
  },
  {
   "cell_type": "code",
   "execution_count": null,
   "metadata": {},
   "outputs": [],
   "source": []
  }
 ],
 "metadata": {
  "hide_input": false,
  "kernelspec": {
   "display_name": "MT",
   "language": "python",
   "name": "mt"
  },
  "language_info": {
   "codemirror_mode": {
    "name": "ipython",
    "version": 3
   },
   "file_extension": ".py",
   "mimetype": "text/x-python",
   "name": "python",
   "nbconvert_exporter": "python",
   "pygments_lexer": "ipython3",
   "version": "3.7.4"
  },
  "pycharm": {
   "stem_cell": {
    "cell_type": "raw",
    "metadata": {
     "collapsed": false
    },
    "source": []
   }
  },
  "toc": {
   "base_numbering": 1,
   "nav_menu": {},
   "number_sections": true,
   "sideBar": true,
   "skip_h1_title": true,
   "title_cell": "Table of Contents",
   "title_sidebar": "Contents",
   "toc_cell": true,
   "toc_position": {
    "height": "calc(100% - 180px)",
    "left": "10px",
    "top": "150px",
    "width": "165px"
   },
   "toc_section_display": true,
   "toc_window_display": true
  }
 },
 "nbformat": 4,
 "nbformat_minor": 2
}
