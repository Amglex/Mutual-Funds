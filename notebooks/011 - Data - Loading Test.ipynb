{
 "cells": [
  {
   "cell_type": "markdown",
   "metadata": {
    "toc": true
   },
   "source": [
    "<h1>Table of Contents<span class=\"tocSkip\"></span></h1>\n",
    "<div class=\"toc\"><ul class=\"toc-item\"><li><span><a href=\"#Holdings-company-information\" data-toc-modified-id=\"Holdings-company-information-1\"><span class=\"toc-item-num\">1&nbsp;&nbsp;</span>Holdings company information</a></span></li><li><span><a href=\"#Download-holdings-data\" data-toc-modified-id=\"Download-holdings-data-2\"><span class=\"toc-item-num\">2&nbsp;&nbsp;</span>Download holdings data</a></span></li><li><span><a href=\"#Download-fund-information-data\" data-toc-modified-id=\"Download-fund-information-data-3\"><span class=\"toc-item-num\">3&nbsp;&nbsp;</span>Download fund information data</a></span></li><li><span><a href=\"#Download-fund-summary-data\" data-toc-modified-id=\"Download-fund-summary-data-4\"><span class=\"toc-item-num\">4&nbsp;&nbsp;</span>Download fund summary data</a></span></li><li><span><a href=\"#Download-fund-style-data\" data-toc-modified-id=\"Download-fund-style-data-5\"><span class=\"toc-item-num\">5&nbsp;&nbsp;</span>Download fund style data</a></span></li><li><span><a href=\"#CRSP/COMPUSTAT-Linking-data\" data-toc-modified-id=\"CRSP/COMPUSTAT-Linking-data-6\"><span class=\"toc-item-num\">6&nbsp;&nbsp;</span>CRSP/COMPUSTAT Linking data</a></span></li><li><span><a href=\"#Test-holdings-data\" data-toc-modified-id=\"Test-holdings-data-7\"><span class=\"toc-item-num\">7&nbsp;&nbsp;</span>Test holdings data</a></span></li></ul></div>"
   ]
  },
  {
   "cell_type": "markdown",
   "metadata": {},
   "source": [
    "# Load different Tables from WRDS"
   ]
  },
  {
   "cell_type": "markdown",
   "metadata": {},
   "source": [
    "Large tables like the 50+ GB Holdings table were downloaded from WRDS using an FTP client"
   ]
  },
  {
   "cell_type": "markdown",
   "metadata": {},
   "source": [
    "## Holdings company information"
   ]
  },
  {
   "cell_type": "code",
   "execution_count": null,
   "metadata": {
    "pycharm": {
     "is_executing": false
    }
   },
   "outputs": [],
   "source": [
    "import wrds\n",
    "import feather\n",
    "import matplotlib.pyplot as plt\n",
    "\n",
    "\n",
    "# Connect to DB\n",
    "db = wrds.Connection(wrds_username='amglex')\n",
    "print('Successfully connected')"
   ]
  },
  {
   "cell_type": "markdown",
   "metadata": {},
   "source": [
    "## CRSP/COMPUSTAT Linking data"
   ]
  },
  {
   "cell_type": "code",
   "execution_count": null,
   "metadata": {},
   "outputs": [],
   "source": [
    "%%time\n",
    "######################\n",
    "# Query the data\n",
    "######################\n",
    "\n",
    "print('Start downloading data ...')\n",
    "\n",
    "# SQL Query\n",
    "data_raw_df = db.raw_sql(\n",
    "    '''\n",
    "    SELECT *\n",
    "    FROM Ccmxpf_linktable;\n",
    "    '''\n",
    ")\n",
    "\n",
    "print('SQL successful')\n",
    "\n",
    "print(data_raw_df.shape)\n",
    "print(data_raw_df.dtypes)\n",
    "print(data_raw_df.head())\n",
    "\n",
    "\n",
    "\n",
    "print(\"Successfully saved data\")"
   ]
  },
  {
   "cell_type": "markdown",
   "metadata": {},
   "source": [
    "## Test holdings data"
   ]
  },
  {
   "cell_type": "code",
   "execution_count": null,
   "metadata": {},
   "outputs": [],
   "source": [
    "######################\n",
    "# Query the data\n",
    "######################\n",
    "\n",
    "print('Start downloading data ...')\n",
    "\n",
    "# SQL Query\n",
    "data_raw_df = db.raw_sql(\n",
    "    '''\n",
    "    SELECT EXTRACT(YEAR FROM report_dt) as year, COUNT(DISTINCT crsp_portno) as count_portno\n",
    "    FROM holdings\n",
    "    GROUP BY year;\n",
    "    '''\n",
    ")\n",
    "\n",
    "print('SQL successful')\n",
    "\n",
    "print(data_raw_df.shape)\n",
    "\n",
    "print(data_raw_df.dtypes)\n",
    "\n",
    "print(data_raw_df.head())"
   ]
  }
 ],
 "metadata": {
  "hide_input": false,
  "kernelspec": {
   "display_name": "MT",
   "language": "python",
   "name": "mt"
  },
  "language_info": {
   "codemirror_mode": {
    "name": "ipython",
    "version": 3
   },
   "file_extension": ".py",
   "mimetype": "text/x-python",
   "name": "python",
   "nbconvert_exporter": "python",
   "pygments_lexer": "ipython3",
   "version": "3.7.4"
  },
  "pycharm": {
   "stem_cell": {
    "cell_type": "raw",
    "metadata": {
     "collapsed": false
    },
    "source": []
   }
  },
  "toc": {
   "base_numbering": 1,
   "nav_menu": {},
   "number_sections": true,
   "sideBar": true,
   "skip_h1_title": true,
   "title_cell": "Table of Contents",
   "title_sidebar": "Contents",
   "toc_cell": true,
   "toc_position": {
    "height": "calc(100% - 180px)",
    "left": "10px",
    "top": "150px",
    "width": "165px"
   },
   "toc_section_display": true,
   "toc_window_display": true
  }
 },
 "nbformat": 4,
 "nbformat_minor": 2
}
