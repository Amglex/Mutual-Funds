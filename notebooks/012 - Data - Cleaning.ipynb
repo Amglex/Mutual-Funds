{
 "cells": [
  {
   "cell_type": "markdown",
   "metadata": {},
   "source": [
    "# Clean Data"
   ]
  },
  {
   "cell_type": "markdown",
   "metadata": {},
   "source": [
    "### Description:\n",
    "\n",
    "Filter the three main data sources (Fund Info, Returns and Holdings)\n",
    "based on some parameters and save the result.\n",
    "\n",
    "Approach:\n",
    "1. Match fund summary to each portfolio/date pair\n",
    "2. Filter fund/date pairs based on those infos\n",
    "3. Filter returns based on final sample of holdings\n",
    "4. Save different versions of the files with different timeframes\n",
    "\n",
    "Parameters: \n",
    "- Lipper_class\n",
    "- Flags"
   ]
  },
  {
   "cell_type": "markdown",
   "metadata": {},
   "source": [
    "## Setup\n",
    "### All options for filtering the data"
   ]
  },
  {
   "cell_type": "code",
   "execution_count": 1,
   "metadata": {},
   "outputs": [],
   "source": [
    "%matplotlib inline\n",
    "\n",
    "import os\n",
    "import sys\n",
    "\n",
    "import feather\n",
    "import pandasql as ps\n",
    "import numpy as np\n",
    "import pandas as pd\n",
    "from scipy import sparse\n",
    "import datetime\n",
    "\n",
    "import matplotlib.pyplot as plt"
   ]
  },
  {
   "cell_type": "code",
   "execution_count": 2,
   "metadata": {},
   "outputs": [],
   "source": [
    "options = {\n",
    "    'sub_sample_start_date'      : datetime.date.fromisoformat('2015-01-01'),\n",
    "    'sub_sample_end_date'        : datetime.date.fromisoformat('2018-01-01'),\n",
    "    'min_per_com'                : 80,\n",
    "    'min_tna_latest'             : 10,\n",
    "    'min_obs_per_sec'            : 2,\n",
    "    'min_obs_per_observation'    : 10,\n",
    "    'min_perc_tna'               : 50,\n",
    "    'max_perc_tna'               : 120,\n",
    "    'selected_obj_codes'         : ('EIEI', 'G', \n",
    "                                    'LCCE', 'LCGE', 'LCVE',   # Large-cap\n",
    "                                    'MCCE', 'MCGE', 'MCVE',   # Mid-cap\n",
    "                                    'MLCE', 'MLGE', 'MLVE',   # Multi-cap\n",
    "                                    'SCCE', 'SCGE', 'SCVE')   # Small-cap\n",
    "}\n",
    "\n",
    "\n"
   ]
  },
  {
   "cell_type": "markdown",
   "metadata": {},
   "source": [
    "### Load the data files"
   ]
  },
  {
   "cell_type": "code",
   "execution_count": 3,
   "metadata": {},
   "outputs": [],
   "source": [
    "# Holdings data\n",
    "\n",
    "npz_path = '../data/interim/holdings.npz'      # Preprocessed holdings data (see notebook 011)\n",
    "holdings = sparse.load_npz(npz_path)\n",
    "\n",
    "path = '../data/interim/row_info.feather'\n",
    "row_info = feather.read_dataframe(path)\n",
    "row_info_original = row_info.copy()\n",
    "\n",
    "path = '../data/interim/col_info.feather'\n",
    "col_info = feather.read_dataframe(path)\n",
    "\n",
    "# Fund summary data\n",
    "\n",
    "path = '../data/raw/fund_info.feather'\n",
    "fund_info = feather.read_dataframe(path)     # Downloaded from wrds\n",
    "\n",
    "path = '../data/raw/fund_summay.feather'\n",
    "fund_summary = feather.read_dataframe(path)     # Downloaded from wrds\n",
    "\n",
    "path = '../data/raw/portno_map.feather'\n",
    "portno_map = feather.read_dataframe(path)\n",
    "\n",
    "path = '../data/raw/fund_style.feather'\n",
    "fund_style = feather.read_dataframe(path)\n",
    "\n",
    "# Returns data\n",
    "path = '../data/raw/returns.feather'\n",
    "returns = feather.read_dataframe(path)   # Downloaded from wrds"
   ]
  },
  {
   "cell_type": "markdown",
   "metadata": {},
   "source": [
    "## Fix all data types"
   ]
  },
  {
   "cell_type": "markdown",
   "metadata": {},
   "source": [
    "#### Fund info"
   ]
  },
  {
   "cell_type": "code",
   "execution_count": 4,
   "metadata": {},
   "outputs": [
    {
     "data": {
      "text/plain": [
       "crsp_fundno        float64\n",
       "crsp_portno        float64\n",
       "fund_name           object\n",
       "first_offer_dt      object\n",
       "index_fund_flag     object\n",
       "et_flag             object\n",
       "begdt               object\n",
       "enddt               object\n",
       "lipper_class        object\n",
       "avrcs              float64\n",
       "dtype: object"
      ]
     },
     "execution_count": 4,
     "metadata": {},
     "output_type": "execute_result"
    }
   ],
   "source": [
    "fund_info.dtypes"
   ]
  },
  {
   "cell_type": "code",
   "execution_count": 5,
   "metadata": {},
   "outputs": [],
   "source": [
    "fund_info.drop(columns= ['lipper_class','avrcs'],inplace=True)\n",
    "\n",
    "fund_info.dropna(subset = ['crsp_portno','crsp_fundno'], inplace=True)\n",
    "fund_info[['crsp_fundno','crsp_portno']] = pd.DataFrame(fund_info[['crsp_fundno','crsp_portno']],dtype=np.int64)\n",
    "\n",
    "columns = ['first_offer_dt','begdt','enddt']\n",
    "fund_info[columns] = fund_info[columns].apply(pd.to_datetime)\n",
    "\n",
    "fund_info.loc[fund_info['et_flag'].isna(),'et_flag'] = 'MF'\n",
    "fund_info.loc[fund_info['index_fund_flag'].isna(),'index_fund_flag'] = 'MF'\n",
    "\n",
    "columns = ['et_flag','index_fund_flag']\n",
    "fund_info[columns] = fund_info[columns].astype('category')\n",
    "\n",
    "#fund_info[fund_info['style'] == 'EIEI'] = 'LCVE'\n",
    "#fund_info[fund_info['style'] == 'G'] = 'LCGE'\n",
    "\n",
    "et_mapper = {'F':'ETF', 'N':'ETN', 'MF':'MF'}\n",
    "fund_info['et_flag'] = fund_info['et_flag'].cat.rename_categories(et_mapper)\n",
    "\n",
    "index_flag_mapper = {'B':'Index-based', 'D':'Pure Index', 'E':'Index enhanced', 'MF':'MF'}\n",
    "fund_info['index_fund_flag'] = fund_info['index_fund_flag'].map(index_flag_mapper)"
   ]
  },
  {
   "cell_type": "markdown",
   "metadata": {},
   "source": [
    "#### Fund summary"
   ]
  },
  {
   "cell_type": "code",
   "execution_count": 6,
   "metadata": {},
   "outputs": [],
   "source": [
    "fund_summary[['crsp_fundno']] = pd.DataFrame(fund_summary[['crsp_fundno']],dtype=np.int64)\n",
    "columns = ['nav_latest','tna_latest','per_com']\n",
    "fund_summary[columns] = pd.DataFrame(fund_summary[columns],dtype=np.float64)\n",
    "\n",
    "columns = ['caldt','nav_latest_dt','tna_latest_dt']\n",
    "fund_summary[columns] = fund_summary[columns].apply(pd.to_datetime)"
   ]
  },
  {
   "cell_type": "markdown",
   "metadata": {},
   "source": [
    "#### Fund style"
   ]
  },
  {
   "cell_type": "code",
   "execution_count": 7,
   "metadata": {},
   "outputs": [],
   "source": [
    "fund_style['crsp_fundno'] = fund_style['crsp_fundno'].astype('int64')\n",
    "\n",
    "columns = ['begdt','enddt']\n",
    "fund_style[columns] = fund_style[columns].apply(pd.to_datetime)\n",
    "\n",
    "fund_style['cap_class'] = fund_style['lipper_class'].astype(str).str[0]\n",
    "fund_style['style_class'] = fund_style['lipper_class'].astype(str).str[2]\n",
    "fund_style.loc[\n",
    "    ~fund_style['lipper_class'].isin(options.get('selected_obj_codes')),\n",
    "    ['cap_class','style_class']] = np.NaN\n",
    "\n",
    "columns = ['lipper_class','lipper_obj_cd','cap_class','style_class']\n",
    "fund_style[columns] = fund_style[columns].astype('category')"
   ]
  },
  {
   "cell_type": "markdown",
   "metadata": {},
   "source": [
    "#### Return"
   ]
  },
  {
   "cell_type": "code",
   "execution_count": 8,
   "metadata": {},
   "outputs": [],
   "source": [
    "returns['crsp_fundno'] = pd.DataFrame(returns['crsp_fundno'],dtype=np.int64)\n",
    "returns['caldt'] =  pd.to_datetime(returns['caldt'])"
   ]
  },
  {
   "cell_type": "markdown",
   "metadata": {},
   "source": [
    "#### Portnomap"
   ]
  },
  {
   "cell_type": "code",
   "execution_count": 9,
   "metadata": {},
   "outputs": [],
   "source": [
    "columns = ['crsp_fundno','crsp_portno']\n",
    "portno_map[columns] = pd.DataFrame(portno_map[columns],dtype=np.int64)\n",
    "\n",
    "columns = ['begdt','enddt']\n",
    "portno_map[columns] = portno_map[columns].apply(pd.to_datetime)"
   ]
  },
  {
   "cell_type": "markdown",
   "metadata": {},
   "source": [
    "### Filter based on fund summary"
   ]
  },
  {
   "cell_type": "code",
   "execution_count": 10,
   "metadata": {},
   "outputs": [],
   "source": [
    "sqlcode = '''\n",
    "    SELECT fund_summary.caldt, fund_summary.crsp_fundno, fund_summary.tna_latest, fund_summary.per_com,\n",
    "    portno_map.begdt, portno_map.enddt, portno_map.crsp_portno, portno_map.crsp_fundno\n",
    "    FROM fund_summary\n",
    "    INNER JOIN portno_map \n",
    "    ON fund_summary.crsp_fundno = portno_map.crsp_fundno\n",
    "    AND caldt BETWEEN portno_map.begdt AND portno_map.enddt;\n",
    "'''\n",
    "\n",
    "fund_summary_merged = ps.sqldf(sqlcode,locals())\n",
    "\n",
    "columns = ['caldt','begdt','enddt']\n",
    "fund_summary_merged[columns] = fund_summary_merged[columns].apply(pd.to_datetime)\n",
    "\n",
    "fund_summary_merged = (fund_summary_merged\n",
    "                           .groupby(['caldt','crsp_portno'])\n",
    "                           .agg({'per_com': ['mean'],\n",
    "                                 'tna_latest': ['sum']}))\n",
    "\n",
    "fund_summary_merged.columns = fund_summary_merged.columns.droplevel(1)\n",
    "\n",
    "fund_summary_merged = fund_summary_merged.query(\n",
    "                            'per_com > {} and tna_latest > {}'.format(options.get('min_per_com'),\n",
    "                                                                      options.get('min_tna_latest')))"
   ]
  },
  {
   "cell_type": "code",
   "execution_count": 11,
   "metadata": {},
   "outputs": [
    {
     "data": {
      "text/html": [
       "<div>\n",
       "<style scoped>\n",
       "    .dataframe tbody tr th:only-of-type {\n",
       "        vertical-align: middle;\n",
       "    }\n",
       "\n",
       "    .dataframe tbody tr th {\n",
       "        vertical-align: top;\n",
       "    }\n",
       "\n",
       "    .dataframe thead th {\n",
       "        text-align: right;\n",
       "    }\n",
       "</style>\n",
       "<table border=\"1\" class=\"dataframe\">\n",
       "  <thead>\n",
       "    <tr style=\"text-align: right;\">\n",
       "      <th></th>\n",
       "      <th></th>\n",
       "      <th>per_com</th>\n",
       "      <th>tna_latest</th>\n",
       "    </tr>\n",
       "    <tr>\n",
       "      <th>caldt</th>\n",
       "      <th>crsp_portno</th>\n",
       "      <th></th>\n",
       "      <th></th>\n",
       "    </tr>\n",
       "  </thead>\n",
       "  <tbody>\n",
       "    <tr>\n",
       "      <th>2018-09-28</th>\n",
       "      <th>1024857</th>\n",
       "      <td>94.18</td>\n",
       "      <td>2780.6</td>\n",
       "    </tr>\n",
       "  </tbody>\n",
       "</table>\n",
       "</div>"
      ],
      "text/plain": [
       "                        per_com  tna_latest\n",
       "caldt      crsp_portno                     \n",
       "2018-09-28 1024857        94.18      2780.6"
      ]
     },
     "execution_count": 11,
     "metadata": {},
     "output_type": "execute_result"
    }
   ],
   "source": [
    "fund_summary_merged.sample()"
   ]
  },
  {
   "cell_type": "markdown",
   "metadata": {},
   "source": [
    "### Filter based on fund info"
   ]
  },
  {
   "cell_type": "code",
   "execution_count": 12,
   "metadata": {},
   "outputs": [],
   "source": [
    "fund_info = fund_info.query('''index_fund_flag == 'MF' and et_flag == 'MF' ''')"
   ]
  },
  {
   "cell_type": "code",
   "execution_count": 13,
   "metadata": {},
   "outputs": [],
   "source": [
    "fund_info = fund_info.assign(portno_fundno = fund_info['crsp_fundno'] * 10_000_000 + fund_info['crsp_portno'])\n",
    "\n",
    "selected_funds = fund_info[['crsp_portno','portno_fundno']].groupby(['crsp_portno']).first()\n",
    "\n",
    "selected_funds = selected_funds['portno_fundno']\n",
    "\n",
    "fund_info = fund_info.query('portno_fundno in @selected_funds')\n",
    "\n",
    "fund_info = fund_info[['crsp_portno','crsp_fundno','fund_name','begdt','enddt']]"
   ]
  },
  {
   "cell_type": "code",
   "execution_count": 14,
   "metadata": {},
   "outputs": [
    {
     "data": {
      "text/html": [
       "<div>\n",
       "<style scoped>\n",
       "    .dataframe tbody tr th:only-of-type {\n",
       "        vertical-align: middle;\n",
       "    }\n",
       "\n",
       "    .dataframe tbody tr th {\n",
       "        vertical-align: top;\n",
       "    }\n",
       "\n",
       "    .dataframe thead th {\n",
       "        text-align: right;\n",
       "    }\n",
       "</style>\n",
       "<table border=\"1\" class=\"dataframe\">\n",
       "  <thead>\n",
       "    <tr style=\"text-align: right;\">\n",
       "      <th></th>\n",
       "      <th>crsp_portno</th>\n",
       "      <th>crsp_fundno</th>\n",
       "      <th>fund_name</th>\n",
       "      <th>begdt</th>\n",
       "      <th>enddt</th>\n",
       "    </tr>\n",
       "  </thead>\n",
       "  <tbody>\n",
       "    <tr>\n",
       "      <th>159</th>\n",
       "      <td>1005195</td>\n",
       "      <td>72</td>\n",
       "      <td>Armada Funds: Bond Fund; I Shares</td>\n",
       "      <td>1994-12-30</td>\n",
       "      <td>1997-12-30</td>\n",
       "    </tr>\n",
       "    <tr>\n",
       "      <th>160</th>\n",
       "      <td>1005195</td>\n",
       "      <td>72</td>\n",
       "      <td>Armada Funds: Bond Fund; I Shares</td>\n",
       "      <td>1997-12-31</td>\n",
       "      <td>1998-06-29</td>\n",
       "    </tr>\n",
       "    <tr>\n",
       "      <th>161</th>\n",
       "      <td>1005195</td>\n",
       "      <td>72</td>\n",
       "      <td>Armada Funds: Bond Fund; I Shares</td>\n",
       "      <td>1998-06-30</td>\n",
       "      <td>1999-12-30</td>\n",
       "    </tr>\n",
       "    <tr>\n",
       "      <th>162</th>\n",
       "      <td>1005195</td>\n",
       "      <td>72</td>\n",
       "      <td>Armada Funds: Bond Fund; I Shares</td>\n",
       "      <td>1999-12-31</td>\n",
       "      <td>2000-06-30</td>\n",
       "    </tr>\n",
       "    <tr>\n",
       "      <th>264</th>\n",
       "      <td>1022431</td>\n",
       "      <td>105</td>\n",
       "      <td>American Pension Investors Trust: Yorktown Gro...</td>\n",
       "      <td>1986-12-31</td>\n",
       "      <td>1990-12-30</td>\n",
       "    </tr>\n",
       "  </tbody>\n",
       "</table>\n",
       "</div>"
      ],
      "text/plain": [
       "     crsp_portno  crsp_fundno  \\\n",
       "159      1005195           72   \n",
       "160      1005195           72   \n",
       "161      1005195           72   \n",
       "162      1005195           72   \n",
       "264      1022431          105   \n",
       "\n",
       "                                             fund_name      begdt      enddt  \n",
       "159                  Armada Funds: Bond Fund; I Shares 1994-12-30 1997-12-30  \n",
       "160                  Armada Funds: Bond Fund; I Shares 1997-12-31 1998-06-29  \n",
       "161                  Armada Funds: Bond Fund; I Shares 1998-06-30 1999-12-30  \n",
       "162                  Armada Funds: Bond Fund; I Shares 1999-12-31 2000-06-30  \n",
       "264  American Pension Investors Trust: Yorktown Gro... 1986-12-31 1990-12-30  "
      ]
     },
     "execution_count": 14,
     "metadata": {},
     "output_type": "execute_result"
    }
   ],
   "source": [
    "fund_info.head(5)"
   ]
  },
  {
   "cell_type": "code",
   "execution_count": 15,
   "metadata": {},
   "outputs": [
    {
     "data": {
      "text/html": [
       "<div>\n",
       "<style scoped>\n",
       "    .dataframe tbody tr th:only-of-type {\n",
       "        vertical-align: middle;\n",
       "    }\n",
       "\n",
       "    .dataframe tbody tr th {\n",
       "        vertical-align: top;\n",
       "    }\n",
       "\n",
       "    .dataframe thead th {\n",
       "        text-align: right;\n",
       "    }\n",
       "</style>\n",
       "<table border=\"1\" class=\"dataframe\">\n",
       "  <thead>\n",
       "    <tr style=\"text-align: right;\">\n",
       "      <th></th>\n",
       "      <th>crsp_portno</th>\n",
       "      <th>crsp_fundno</th>\n",
       "      <th>fund_name</th>\n",
       "      <th>begdt</th>\n",
       "      <th>enddt</th>\n",
       "    </tr>\n",
       "  </thead>\n",
       "  <tbody>\n",
       "  </tbody>\n",
       "</table>\n",
       "</div>"
      ],
      "text/plain": [
       "Empty DataFrame\n",
       "Columns: [crsp_portno, crsp_fundno, fund_name, begdt, enddt]\n",
       "Index: []"
      ]
     },
     "execution_count": 15,
     "metadata": {},
     "output_type": "execute_result"
    }
   ],
   "source": [
    "fund_info.query('crsp_fundno == 23120')"
   ]
  },
  {
   "cell_type": "code",
   "execution_count": 16,
   "metadata": {},
   "outputs": [
    {
     "data": {
      "text/html": [
       "<div>\n",
       "<style scoped>\n",
       "    .dataframe tbody tr th:only-of-type {\n",
       "        vertical-align: middle;\n",
       "    }\n",
       "\n",
       "    .dataframe tbody tr th {\n",
       "        vertical-align: top;\n",
       "    }\n",
       "\n",
       "    .dataframe thead th {\n",
       "        text-align: right;\n",
       "    }\n",
       "</style>\n",
       "<table border=\"1\" class=\"dataframe\">\n",
       "  <thead>\n",
       "    <tr style=\"text-align: right;\">\n",
       "      <th></th>\n",
       "      <th>crsp_portno</th>\n",
       "      <th>crsp_fundno</th>\n",
       "      <th>fund_name</th>\n",
       "      <th>begdt</th>\n",
       "      <th>enddt</th>\n",
       "    </tr>\n",
       "  </thead>\n",
       "  <tbody>\n",
       "    <tr>\n",
       "      <th>77283</th>\n",
       "      <td>1023007</td>\n",
       "      <td>23116</td>\n",
       "      <td>Oppenheimer Strategic Funds Trust: Oppenheimer...</td>\n",
       "      <td>1989-12-29</td>\n",
       "      <td>1990-12-30</td>\n",
       "    </tr>\n",
       "    <tr>\n",
       "      <th>77284</th>\n",
       "      <td>1023007</td>\n",
       "      <td>23116</td>\n",
       "      <td>Oppenheimer Strategic Funds Trust: Oppenheimer...</td>\n",
       "      <td>1990-12-31</td>\n",
       "      <td>1992-12-30</td>\n",
       "    </tr>\n",
       "    <tr>\n",
       "      <th>77285</th>\n",
       "      <td>1023007</td>\n",
       "      <td>23116</td>\n",
       "      <td>Oppenheimer Strategic Funds Trust: Oppenheimer...</td>\n",
       "      <td>1992-12-31</td>\n",
       "      <td>1993-12-30</td>\n",
       "    </tr>\n",
       "    <tr>\n",
       "      <th>77286</th>\n",
       "      <td>1023007</td>\n",
       "      <td>23116</td>\n",
       "      <td>Oppenheimer Strategic Funds Trust: Oppenheimer...</td>\n",
       "      <td>1993-12-31</td>\n",
       "      <td>1998-06-29</td>\n",
       "    </tr>\n",
       "    <tr>\n",
       "      <th>77287</th>\n",
       "      <td>1023007</td>\n",
       "      <td>23116</td>\n",
       "      <td>Oppenheimer Strategic Funds Trust: Oppenheimer...</td>\n",
       "      <td>1998-06-30</td>\n",
       "      <td>1999-12-30</td>\n",
       "    </tr>\n",
       "    <tr>\n",
       "      <th>77288</th>\n",
       "      <td>1023007</td>\n",
       "      <td>23116</td>\n",
       "      <td>Oppenheimer Strategic Funds Trust: Oppenheimer...</td>\n",
       "      <td>1999-12-31</td>\n",
       "      <td>2008-03-30</td>\n",
       "    </tr>\n",
       "    <tr>\n",
       "      <th>77289</th>\n",
       "      <td>1023007</td>\n",
       "      <td>23116</td>\n",
       "      <td>Oppenheimer Strategic Funds Trust: Oppenheimer...</td>\n",
       "      <td>2008-03-31</td>\n",
       "      <td>2010-03-10</td>\n",
       "    </tr>\n",
       "    <tr>\n",
       "      <th>77290</th>\n",
       "      <td>1023007</td>\n",
       "      <td>23116</td>\n",
       "      <td>Oppenheimer Strategic Funds Trust: Oppenheimer...</td>\n",
       "      <td>2010-03-11</td>\n",
       "      <td>2013-03-17</td>\n",
       "    </tr>\n",
       "    <tr>\n",
       "      <th>77291</th>\n",
       "      <td>1023007</td>\n",
       "      <td>23116</td>\n",
       "      <td>Oppenheimer Strategic Funds Trust: Oppenheimer...</td>\n",
       "      <td>2013-03-18</td>\n",
       "      <td>2019-03-31</td>\n",
       "    </tr>\n",
       "  </tbody>\n",
       "</table>\n",
       "</div>"
      ],
      "text/plain": [
       "       crsp_portno  crsp_fundno  \\\n",
       "77283      1023007        23116   \n",
       "77284      1023007        23116   \n",
       "77285      1023007        23116   \n",
       "77286      1023007        23116   \n",
       "77287      1023007        23116   \n",
       "77288      1023007        23116   \n",
       "77289      1023007        23116   \n",
       "77290      1023007        23116   \n",
       "77291      1023007        23116   \n",
       "\n",
       "                                               fund_name      begdt      enddt  \n",
       "77283  Oppenheimer Strategic Funds Trust: Oppenheimer... 1989-12-29 1990-12-30  \n",
       "77284  Oppenheimer Strategic Funds Trust: Oppenheimer... 1990-12-31 1992-12-30  \n",
       "77285  Oppenheimer Strategic Funds Trust: Oppenheimer... 1992-12-31 1993-12-30  \n",
       "77286  Oppenheimer Strategic Funds Trust: Oppenheimer... 1993-12-31 1998-06-29  \n",
       "77287  Oppenheimer Strategic Funds Trust: Oppenheimer... 1998-06-30 1999-12-30  \n",
       "77288  Oppenheimer Strategic Funds Trust: Oppenheimer... 1999-12-31 2008-03-30  \n",
       "77289  Oppenheimer Strategic Funds Trust: Oppenheimer... 2008-03-31 2010-03-10  \n",
       "77290  Oppenheimer Strategic Funds Trust: Oppenheimer... 2010-03-11 2013-03-17  \n",
       "77291  Oppenheimer Strategic Funds Trust: Oppenheimer... 2013-03-18 2019-03-31  "
      ]
     },
     "execution_count": 16,
     "metadata": {},
     "output_type": "execute_result"
    }
   ],
   "source": [
    "fund_info.query('crsp_portno == 1023007')"
   ]
  },
  {
   "cell_type": "code",
   "execution_count": 17,
   "metadata": {},
   "outputs": [
    {
     "data": {
      "text/plain": [
       "array(['Oppenheimer Strategic Funds Trust: Oppenheimer Global Strategic Income Fund; Class A Shares',\n",
       "       'Oppenheimer Strategic Funds Trust: Oppenheimer Global Strategic Income Fund; Class A Shares',\n",
       "       'Oppenheimer Strategic Funds Trust: Oppenheimer Global Strategic Income Fund; Class A Shares',\n",
       "       'Oppenheimer Strategic Funds Trust: Oppenheimer Global Strategic Income Fund; Class A Shares',\n",
       "       'Oppenheimer Strategic Funds Trust: Oppenheimer Global Strategic Income Fund; Class A Shares',\n",
       "       'Oppenheimer Strategic Funds Trust: Oppenheimer Global Strategic Income Fund; Class A Shares',\n",
       "       'Oppenheimer Strategic Funds Trust: Oppenheimer Global Strategic Income Fund; Class A Shares',\n",
       "       'Oppenheimer Strategic Funds Trust: Oppenheimer Global Strategic Income Fund; Class A Shares',\n",
       "       'Oppenheimer Strategic Funds Trust: Oppenheimer Global Strategic Income Fund; Class A Shares'],\n",
       "      dtype=object)"
      ]
     },
     "execution_count": 17,
     "metadata": {},
     "output_type": "execute_result"
    }
   ],
   "source": [
    "fund_info.query('crsp_portno == 1023007').fund_name.values"
   ]
  },
  {
   "cell_type": "markdown",
   "metadata": {},
   "source": [
    "### Filter based on fund style"
   ]
  },
  {
   "cell_type": "code",
   "execution_count": 18,
   "metadata": {},
   "outputs": [],
   "source": [
    "fund_style = fund_style[fund_style['lipper_class'].isin(options.get('selected_obj_codes'))]"
   ]
  },
  {
   "cell_type": "code",
   "execution_count": 19,
   "metadata": {},
   "outputs": [
    {
     "data": {
      "text/html": [
       "<div>\n",
       "<style scoped>\n",
       "    .dataframe tbody tr th:only-of-type {\n",
       "        vertical-align: middle;\n",
       "    }\n",
       "\n",
       "    .dataframe tbody tr th {\n",
       "        vertical-align: top;\n",
       "    }\n",
       "\n",
       "    .dataframe thead th {\n",
       "        text-align: right;\n",
       "    }\n",
       "</style>\n",
       "<table border=\"1\" class=\"dataframe\">\n",
       "  <thead>\n",
       "    <tr style=\"text-align: right;\">\n",
       "      <th></th>\n",
       "      <th>crsp_fundno</th>\n",
       "      <th>begdt</th>\n",
       "      <th>enddt</th>\n",
       "      <th>lipper_class</th>\n",
       "      <th>lipper_obj_cd</th>\n",
       "      <th>cap_class</th>\n",
       "      <th>style_class</th>\n",
       "    </tr>\n",
       "  </thead>\n",
       "  <tbody>\n",
       "    <tr>\n",
       "      <th>86432</th>\n",
       "      <td>25841</td>\n",
       "      <td>2006-06-30</td>\n",
       "      <td>2008-03-30</td>\n",
       "      <td>MLCE</td>\n",
       "      <td>CA</td>\n",
       "      <td>M</td>\n",
       "      <td>C</td>\n",
       "    </tr>\n",
       "  </tbody>\n",
       "</table>\n",
       "</div>"
      ],
      "text/plain": [
       "       crsp_fundno      begdt      enddt lipper_class lipper_obj_cd cap_class  \\\n",
       "86432        25841 2006-06-30 2008-03-30         MLCE            CA         M   \n",
       "\n",
       "      style_class  \n",
       "86432           C  "
      ]
     },
     "execution_count": 19,
     "metadata": {},
     "output_type": "execute_result"
    }
   ],
   "source": [
    "fund_style.sample()"
   ]
  },
  {
   "cell_type": "markdown",
   "metadata": {},
   "source": [
    "## Merge"
   ]
  },
  {
   "cell_type": "code",
   "execution_count": 20,
   "metadata": {},
   "outputs": [
    {
     "data": {
      "text/plain": [
       "(738860, 3)"
      ]
     },
     "execution_count": 20,
     "metadata": {},
     "output_type": "execute_result"
    }
   ],
   "source": [
    "row_info.shape"
   ]
  },
  {
   "cell_type": "code",
   "execution_count": 21,
   "metadata": {},
   "outputs": [
    {
     "data": {
      "text/plain": [
       "<matplotlib.axes._subplots.AxesSubplot at 0x19d0cc150>"
      ]
     },
     "execution_count": 21,
     "metadata": {},
     "output_type": "execute_result"
    },
    {
     "data": {
      "image/png": "[encoded data removed]",
      "text/plain": [
       "<Figure size 1080x360 with 1 Axes>"
      ]
     },
     "metadata": {
      "needs_background": "light"
     },
     "output_type": "display_data"
    }
   ],
   "source": [
    "(row_info['crsp_portno']\n",
    "    .groupby([\n",
    "         row_info['report_dt'].dt.year,\n",
    "     ])\n",
    "     .nunique()\n",
    "     .plot(kind='bar',\n",
    "           color = 'b',\n",
    "           figsize=(15,5)))"
   ]
  },
  {
   "cell_type": "markdown",
   "metadata": {},
   "source": [
    "### Merge row_info and fund_info\n",
    "Adds correct fundo to each portno/date row"
   ]
  },
  {
   "cell_type": "code",
   "execution_count": 22,
   "metadata": {},
   "outputs": [
    {
     "data": {
      "text/plain": [
       "(738860, 3)"
      ]
     },
     "execution_count": 22,
     "metadata": {},
     "output_type": "execute_result"
    }
   ],
   "source": [
    "row_info.shape"
   ]
  },
  {
   "cell_type": "code",
   "execution_count": 23,
   "metadata": {},
   "outputs": [],
   "source": [
    "sqlcode = '''\n",
    "    select row_info.crsp_portno, row_info.report_dt, \n",
    "    fund_info.crsp_portno, fund_info.crsp_fundno, fund_info.begdt, fund_info.enddt, fund_info.fund_name\n",
    "    from row_info \n",
    "    inner join fund_info \n",
    "    on row_info.crsp_portno = fund_info.crsp_portno\n",
    "    and row_info.report_dt between fund_info.begdt and fund_info.enddt;\n",
    "'''\n",
    "\n",
    "row_info_merged = ps.sqldf(sqlcode,locals())\n",
    "\n",
    "columns = ['report_dt','begdt','enddt']\n",
    "row_info_merged[columns] = row_info_merged[columns].apply(pd.to_datetime)\n",
    "row_info_merged = row_info_merged[['crsp_portno','crsp_fundno','report_dt','begdt','enddt','fund_name']]\n",
    "row_info_merged = row_info_merged.iloc[:,1:]"
   ]
  },
  {
   "cell_type": "code",
   "execution_count": 24,
   "metadata": {},
   "outputs": [
    {
     "data": {
      "text/plain": [
       "(466136, 6)"
      ]
     },
     "execution_count": 24,
     "metadata": {},
     "output_type": "execute_result"
    }
   ],
   "source": [
    "row_info_merged.shape"
   ]
  },
  {
   "cell_type": "code",
   "execution_count": 25,
   "metadata": {},
   "outputs": [
    {
     "data": {
      "text/plain": [
       "<matplotlib.axes._subplots.AxesSubplot at 0x19ce18290>"
      ]
     },
     "execution_count": 25,
     "metadata": {},
     "output_type": "execute_result"
    },
    {
     "data": {
      "image/png": "[encoded data removed]",
      "text/plain": [
       "<Figure size 1080x360 with 1 Axes>"
      ]
     },
     "metadata": {
      "needs_background": "light"
     },
     "output_type": "display_data"
    }
   ],
   "source": [
    "(row_info_merged['crsp_portno']\n",
    "    .groupby([\n",
    "         row_info_merged['report_dt'].dt.year,\n",
    "#         row_info_merged['report_dt'].dt.month\n",
    "     ])\n",
    "     .nunique()\n",
    "     .plot(kind='bar',\n",
    "           color = 'b',\n",
    "           figsize=(15,5)))"
   ]
  },
  {
   "cell_type": "markdown",
   "metadata": {},
   "source": [
    "### Merge row_info and fund_style"
   ]
  },
  {
   "cell_type": "code",
   "execution_count": 26,
   "metadata": {},
   "outputs": [],
   "source": [
    "fund_style = fund_style.rename(columns={'begdt':'style_begdt',\n",
    "                                        'enddt':'style_enddt'})"
   ]
  },
  {
   "cell_type": "code",
   "execution_count": 27,
   "metadata": {},
   "outputs": [],
   "source": [
    "sqlcode = '''\n",
    "    SELECT \n",
    "        row_info_merged.crsp_fundno, row_info_merged.crsp_portno, row_info_merged.fund_name,\n",
    "        row_info_merged.report_dt, row_info_merged.begdt, row_info_merged.enddt,\n",
    "        fund_style.crsp_fundno, \n",
    "        fund_style.style_begdt, fund_style.style_enddt, \n",
    "        fund_style.lipper_class, fund_style.cap_class, fund_style.style_class\n",
    "    FROM row_info_merged \n",
    "    INNER JOIN fund_style \n",
    "        ON row_info_merged.crsp_fundno = fund_style.crsp_fundno\n",
    "        AND row_info_merged.report_dt between fund_style.style_begdt AND fund_style.style_enddt;\n",
    "'''\n",
    "\n",
    "row_info_merged = ps.sqldf(sqlcode,locals())"
   ]
  },
  {
   "cell_type": "code",
   "execution_count": 28,
   "metadata": {},
   "outputs": [],
   "source": [
    "columns = ['report_dt','begdt','enddt','style_begdt','style_enddt']\n",
    "row_info_merged[columns] = row_info_merged[columns].apply(pd.to_datetime)"
   ]
  },
  {
   "cell_type": "code",
   "execution_count": 29,
   "metadata": {},
   "outputs": [],
   "source": [
    "row_info_merged = row_info_merged[['crsp_fundno','crsp_portno','fund_name',\n",
    "                                   'report_dt','begdt','enddt','style_begdt','style_enddt',\n",
    "                                  'lipper_class','cap_class','style_class']]\n",
    "row_info_merged = row_info_merged.iloc[:,1:]"
   ]
  },
  {
   "cell_type": "code",
   "execution_count": 30,
   "metadata": {},
   "outputs": [
    {
     "data": {
      "text/plain": [
       "(157160, 11)"
      ]
     },
     "execution_count": 30,
     "metadata": {},
     "output_type": "execute_result"
    }
   ],
   "source": [
    "row_info_merged.shape"
   ]
  },
  {
   "cell_type": "code",
   "execution_count": 31,
   "metadata": {},
   "outputs": [
    {
     "data": {
      "text/plain": [
       "<matplotlib.axes._subplots.AxesSubplot at 0x1bbd07790>"
      ]
     },
     "execution_count": 31,
     "metadata": {},
     "output_type": "execute_result"
    },
    {
     "data": {
      "image/png": "[encoded data removed]",
      "text/plain": [
       "<Figure size 1080x360 with 1 Axes>"
      ]
     },
     "metadata": {
      "needs_background": "light"
     },
     "output_type": "display_data"
    }
   ],
   "source": [
    "(row_info_merged['crsp_portno']\n",
    "    .groupby([\n",
    "         row_info_merged['report_dt'].dt.year,\n",
    "#         row_info_merged['report_dt'].dt.month\n",
    "     ])\n",
    "     .nunique()\n",
    "     .plot(kind='bar',\n",
    "           color = 'b',\n",
    "           figsize=(15,5)))"
   ]
  },
  {
   "cell_type": "markdown",
   "metadata": {},
   "source": [
    "### Merge row_info and fund_hdr"
   ]
  },
  {
   "cell_type": "code",
   "execution_count": 32,
   "metadata": {},
   "outputs": [],
   "source": [
    "row_info_merged = row_info_merged.merge(\n",
    "    fund_summary[['crsp_fundno','caldt']],\n",
    "    how='inner',\n",
    "    left_on=['crsp_fundno','report_dt'],\n",
    "    right_on=['crsp_fundno','caldt'])"
   ]
  },
  {
   "cell_type": "code",
   "execution_count": 33,
   "metadata": {},
   "outputs": [
    {
     "data": {
      "text/plain": [
       "(51952, 12)"
      ]
     },
     "execution_count": 33,
     "metadata": {},
     "output_type": "execute_result"
    }
   ],
   "source": [
    "row_info_merged.shape"
   ]
  },
  {
   "cell_type": "code",
   "execution_count": 34,
   "metadata": {},
   "outputs": [
    {
     "data": {
      "text/plain": [
       "<matplotlib.axes._subplots.AxesSubplot at 0x1bfadcf90>"
      ]
     },
     "execution_count": 34,
     "metadata": {},
     "output_type": "execute_result"
    },
    {
     "data": {
      "image/png": "[encoded data removed]",
      "text/plain": [
       "<Figure size 1080x360 with 1 Axes>"
      ]
     },
     "metadata": {
      "needs_background": "light"
     },
     "output_type": "display_data"
    }
   ],
   "source": [
    "(row_info_merged['crsp_portno']\n",
    "    .groupby([\n",
    "         row_info_merged['report_dt'].dt.year,\n",
    "#         row_info_merged['report_dt'].dt.month\n",
    "     ])\n",
    "     .nunique()\n",
    "     .plot(kind='bar',\n",
    "           color = 'b',\n",
    "           figsize=(15,5)))"
   ]
  },
  {
   "cell_type": "markdown",
   "metadata": {},
   "source": [
    "### Drop all unused columns of row_info"
   ]
  },
  {
   "cell_type": "code",
   "execution_count": 35,
   "metadata": {},
   "outputs": [],
   "source": [
    "row_info = row_info_merged.drop(columns=['caldt','begdt','enddt','style_begdt','style_enddt'])"
   ]
  },
  {
   "cell_type": "code",
   "execution_count": 36,
   "metadata": {},
   "outputs": [
    {
     "data": {
      "text/html": [
       "<div>\n",
       "<style scoped>\n",
       "    .dataframe tbody tr th:only-of-type {\n",
       "        vertical-align: middle;\n",
       "    }\n",
       "\n",
       "    .dataframe tbody tr th {\n",
       "        vertical-align: top;\n",
       "    }\n",
       "\n",
       "    .dataframe thead th {\n",
       "        text-align: right;\n",
       "    }\n",
       "</style>\n",
       "<table border=\"1\" class=\"dataframe\">\n",
       "  <thead>\n",
       "    <tr style=\"text-align: right;\">\n",
       "      <th></th>\n",
       "      <th>crsp_fundno</th>\n",
       "      <th>crsp_portno</th>\n",
       "      <th>fund_name</th>\n",
       "      <th>report_dt</th>\n",
       "      <th>lipper_class</th>\n",
       "      <th>cap_class</th>\n",
       "      <th>style_class</th>\n",
       "    </tr>\n",
       "  </thead>\n",
       "  <tbody>\n",
       "    <tr>\n",
       "      <th>0</th>\n",
       "      <td>31097</td>\n",
       "      <td>1000045</td>\n",
       "      <td>AIM Counselor Series Trust (Invesco Counselor ...</td>\n",
       "      <td>2003-03-31</td>\n",
       "      <td>EIEI</td>\n",
       "      <td>E</td>\n",
       "      <td>E</td>\n",
       "    </tr>\n",
       "  </tbody>\n",
       "</table>\n",
       "</div>"
      ],
      "text/plain": [
       "   crsp_fundno  crsp_portno  \\\n",
       "0        31097      1000045   \n",
       "\n",
       "                                           fund_name  report_dt lipper_class  \\\n",
       "0  AIM Counselor Series Trust (Invesco Counselor ... 2003-03-31         EIEI   \n",
       "\n",
       "  cap_class style_class  \n",
       "0         E           E  "
      ]
     },
     "execution_count": 36,
     "metadata": {},
     "output_type": "execute_result"
    }
   ],
   "source": [
    "row_info.head(1)"
   ]
  },
  {
   "cell_type": "code",
   "execution_count": 37,
   "metadata": {},
   "outputs": [
    {
     "data": {
      "text/html": [
       "<div>\n",
       "<style scoped>\n",
       "    .dataframe tbody tr th:only-of-type {\n",
       "        vertical-align: middle;\n",
       "    }\n",
       "\n",
       "    .dataframe tbody tr th {\n",
       "        vertical-align: top;\n",
       "    }\n",
       "\n",
       "    .dataframe thead th {\n",
       "        text-align: right;\n",
       "    }\n",
       "</style>\n",
       "<table border=\"1\" class=\"dataframe\">\n",
       "  <thead>\n",
       "    <tr style=\"text-align: right;\">\n",
       "      <th></th>\n",
       "      <th>crsp_portno</th>\n",
       "      <th>report_dt</th>\n",
       "      <th>port_id</th>\n",
       "    </tr>\n",
       "  </thead>\n",
       "  <tbody>\n",
       "    <tr>\n",
       "      <th>0</th>\n",
       "      <td>1000001</td>\n",
       "      <td>2003-03-31</td>\n",
       "      <td>1000001015795</td>\n",
       "    </tr>\n",
       "  </tbody>\n",
       "</table>\n",
       "</div>"
      ],
      "text/plain": [
       "   crsp_portno  report_dt        port_id\n",
       "0      1000001 2003-03-31  1000001015795"
      ]
     },
     "execution_count": 37,
     "metadata": {},
     "output_type": "execute_result"
    }
   ],
   "source": [
    "row_info_original.head(1)"
   ]
  },
  {
   "cell_type": "code",
   "execution_count": 38,
   "metadata": {},
   "outputs": [
    {
     "data": {
      "text/html": [
       "<div>\n",
       "<style scoped>\n",
       "    .dataframe tbody tr th:only-of-type {\n",
       "        vertical-align: middle;\n",
       "    }\n",
       "\n",
       "    .dataframe tbody tr th {\n",
       "        vertical-align: top;\n",
       "    }\n",
       "\n",
       "    .dataframe thead th {\n",
       "        text-align: right;\n",
       "    }\n",
       "</style>\n",
       "<table border=\"1\" class=\"dataframe\">\n",
       "  <thead>\n",
       "    <tr style=\"text-align: right;\">\n",
       "      <th></th>\n",
       "      <th>security_name</th>\n",
       "      <th>cusip</th>\n",
       "      <th>crsp_company_key</th>\n",
       "    </tr>\n",
       "  </thead>\n",
       "  <tbody>\n",
       "    <tr>\n",
       "      <th>0</th>\n",
       "      <td>ADVANCED NEUROMODULATION SYS INC</td>\n",
       "      <td>00757T10</td>\n",
       "      <td>3000328</td>\n",
       "    </tr>\n",
       "  </tbody>\n",
       "</table>\n",
       "</div>"
      ],
      "text/plain": [
       "                      security_name     cusip  crsp_company_key\n",
       "0  ADVANCED NEUROMODULATION SYS INC  00757T10           3000328"
      ]
     },
     "execution_count": 38,
     "metadata": {},
     "output_type": "execute_result"
    }
   ],
   "source": [
    "col_info.head(1)"
   ]
  },
  {
   "cell_type": "markdown",
   "metadata": {},
   "source": [
    "### Merge row_info with holdings"
   ]
  },
  {
   "cell_type": "code",
   "execution_count": 39,
   "metadata": {},
   "outputs": [],
   "source": [
    "row_info_original = row_info_original.assign(row_old = row_info_original.index)\n",
    "col_info = col_info.assign(col_old = col_info.index)\n",
    "\n",
    "row_info = row_info.merge(row_info_original,how='left',on=['crsp_portno','report_dt'])"
   ]
  },
  {
   "cell_type": "code",
   "execution_count": 40,
   "metadata": {},
   "outputs": [],
   "source": [
    "# Filter holdings matrix based on merged and filtered row_info\n",
    "mask = row_info['row_old'].values\n",
    "holdings = holdings[mask]\n",
    "\n",
    "# Drop unused columns and reset index / row column\n",
    "row_info.drop(columns=['port_id','row_old'],inplace=True)\n",
    "row_info.reset_index(drop=True,inplace=True)\n",
    "row_info = row_info.assign(row = row_info.index)"
   ]
  },
  {
   "cell_type": "markdown",
   "metadata": {},
   "source": [
    "### Filter based on holdings"
   ]
  },
  {
   "cell_type": "markdown",
   "metadata": {},
   "source": [
    "#### Delete securities with little to no information"
   ]
  },
  {
   "cell_type": "code",
   "execution_count": 41,
   "metadata": {},
   "outputs": [],
   "source": [
    "# Generate sparse holdings matrix with boolean values instead of more precise percent_tna values\n",
    "holdings_b = sparse.csr_matrix(holdings, copy=True)\n",
    "holdings_b.data = np.ones(len(holdings.data))"
   ]
  },
  {
   "cell_type": "code",
   "execution_count": 42,
   "metadata": {},
   "outputs": [],
   "source": [
    "sum_sec_boolean = pd.DataFrame(holdings_b.sum(0).T).values\n",
    "sum_port_boolean = pd.DataFrame(holdings_b.sum(1)).values\n",
    "\n",
    "sum_sec_perc = pd.DataFrame(holdings.sum(0).T).values\n",
    "sum_port_perc = pd.DataFrame(holdings.sum(1)).values"
   ]
  },
  {
   "cell_type": "code",
   "execution_count": 43,
   "metadata": {},
   "outputs": [
    {
     "name": "stdout",
     "output_type": "stream",
     "text": [
      "Total number of securities:                2,382,969\n",
      "Total number of securities with >1:           48,022\n",
      "Total number of securities with >10:          18,981\n",
      "Total number of securities with >50:           7,412\n",
      "Total number of securities with >50:           5,490\n"
     ]
    }
   ],
   "source": [
    "print('Total number of securities:               {:>10,d}'.format(len(sum_sec_boolean)))\n",
    "print('Total number of securities with >1:       {:>10,d}'.format(np.sum(sum_sec_boolean > 1)))\n",
    "print('Total number of securities with >10:      {:>10,d}'.format(np.sum(sum_sec_boolean > 10)))\n",
    "print('Total number of securities with >50:      {:>10,d}'.format(np.sum(sum_sec_boolean > 50)))\n",
    "print('Total number of securities with >50:      {:>10,d}'.format(np.sum(sum_sec_boolean > 100)))"
   ]
  },
  {
   "cell_type": "code",
   "execution_count": 44,
   "metadata": {},
   "outputs": [],
   "source": [
    "# Each security has to appear at least x times stocks\n",
    "col_mask = (sum_sec_boolean >= options.get('min_obs_per_sec')).flatten()\n",
    "# Each portfolio has to have at least x stocks\n",
    "row_mask_1 = (sum_port_boolean >= options.get('min_obs_per_observation')).flatten()\n",
    "# Each portfolio has to have min x% sum of percent_tna\n",
    "row_mask_2 = (sum_port_perc >= options.get('min_perc_tna')).flatten()\n",
    "# Each portfolio has to have max x% sum of percent_tna\n",
    "row_mask_3 = (sum_port_perc <= options.get('max_perc_tna')).flatten()\n",
    "row_mask = row_mask_1 & row_mask_2 & row_mask_3"
   ]
  },
  {
   "cell_type": "code",
   "execution_count": 45,
   "metadata": {},
   "outputs": [
    {
     "name": "stdout",
     "output_type": "stream",
     "text": [
      "Cols matching criteria according to:\n",
      " No mask  :  2,382,969 \n",
      " Full mask:     48,022 \n",
      "\n",
      "Rows matching criteria according to:\n",
      " No mask  :     51,952 \n",
      " Mask    1:     51,105 \n",
      " Mask    2:     51,706 \n",
      " Mask    3:     51,798 \n",
      " Full mask:     50,785\n"
     ]
    }
   ],
   "source": [
    "# Overview of masks\n",
    "print('Cols matching criteria according to:''\\n',\n",
    "    'No mask  : {:10,d}'.format(len(col_mask)),'\\n',\n",
    "    'Full mask: {:10,d}'.format(np.sum(col_mask)),'\\n')\n",
    "\n",
    "print('Rows matching criteria according to:''\\n',\n",
    "    'No mask  : {:10,d}'.format(len(row_mask_1)),'\\n',\n",
    "    'Mask    1: {:10,d}'.format(np.sum(row_mask_1)),'\\n',\n",
    "    'Mask    2: {:10,d}'.format(np.sum(row_mask_2)),'\\n',\n",
    "    'Mask    3: {:10,d}'.format(np.sum(row_mask_3)),'\\n',\n",
    "    'Full mask: {:10,d}'.format(np.sum(row_mask)))"
   ]
  },
  {
   "cell_type": "code",
   "execution_count": 46,
   "metadata": {},
   "outputs": [],
   "source": [
    "# Apply masks\n",
    "holdings = holdings.tocsc()\n",
    "holdings = holdings[:,col_mask]\n",
    "holdings = holdings.tocsr()\n",
    "holdings = holdings[row_mask,:]\n",
    "\n",
    "holdings_b = holdings_b.tocsc()\n",
    "holdings_b = holdings_b[:,col_mask]\n",
    "holdings_b = holdings_b.tocsr()\n",
    "holdings_b = holdings_b[row_mask,:]\n",
    "\n",
    "col_info = col_info.loc[col_mask,:]\n",
    "row_info = row_info.loc[row_mask,:]\n",
    "\n",
    "# reset indices\n",
    "col_info.reset_index(drop=True,inplace=True)\n",
    "col_info = col_info.assign(col = col_info.index)\n",
    "\n",
    "row_info.reset_index(drop=True,inplace=True)\n",
    "row_info = row_info.assign(row = row_info.index)"
   ]
  },
  {
   "cell_type": "code",
   "execution_count": 47,
   "metadata": {},
   "outputs": [
    {
     "name": "stdout",
     "output_type": "stream",
     "text": [
      "Number of fund/date combinations:              50,785\n",
      "Number of unique securities:                   48,022\n",
      "Number of values in sparse matrix:          6,501,380\n",
      "Same values for boolean holdings matrix:         True\n",
      "\n",
      "Number of rows in row_info df:                 50,785\n",
      "Number of rows in col_inf df:                  48,022\n",
      "\n",
      "Everything matches:                              True\n"
     ]
    }
   ],
   "source": [
    "# Check if all dimensions match\n",
    "print('Number of fund/date combinations:        {:12,d}'.format(holdings.shape[0]))\n",
    "print('Number of unique securities:             {:12,d}'.format(holdings.shape[1]))\n",
    "print('Number of values in sparse matrix:       {:12,d}'.format(holdings.getnnz()))\n",
    "match_test = ((holdings.shape[0] == holdings_b.shape[0]) \n",
    "              & (holdings.shape[1] == holdings_b.shape[1]) \n",
    "              & (holdings.getnnz() == holdings_b.getnnz()))\n",
    "print('Same values for boolean holdings matrix:         {}'.format(match_test))\n",
    "print()\n",
    "print('Number of rows in row_info df:           {:12,d}'.format(row_info.shape[0]))\n",
    "print('Number of rows in col_inf df:            {:12,d}'.format(col_info.shape[0]))\n",
    "print()\n",
    "match_test = (holdings.shape[0] == row_info.shape[0]) & (holdings.shape[1] == col_info.shape[0])\n",
    "print('Everything matches:                              {}'.format(match_test))"
   ]
  },
  {
   "cell_type": "markdown",
   "metadata": {},
   "source": [
    "## Filter holdings accordingly"
   ]
  },
  {
   "cell_type": "code",
   "execution_count": 48,
   "metadata": {},
   "outputs": [],
   "source": [
    "fund_nos = row_info['crsp_fundno'].unique()\n",
    "\n",
    "returns = returns.query('crsp_fundno in @fund_nos')"
   ]
  },
  {
   "cell_type": "markdown",
   "metadata": {},
   "source": [
    "## Check if holdings data still makes sene"
   ]
  },
  {
   "cell_type": "code",
   "execution_count": 49,
   "metadata": {},
   "outputs": [],
   "source": [
    "def most_common_stocks(date,lipper_class):\n",
    "    \"This prints a passed string into this function\"\n",
    "    # Enter date for which most common holdings are calculated\n",
    "    date = pd.to_datetime(date)\n",
    "    lipper_class = lipper_class\n",
    "\n",
    "    # Change if you want tu sum percentages instead of boolean values\n",
    "    holdings_coo = holdings_b.tocoo()\n",
    "\n",
    "    df_sparse = pd.DataFrame({'row' : holdings_coo.row,\n",
    "                              'col' : holdings_coo.col,\n",
    "                              'data' : holdings_coo.data})\n",
    "\n",
    "    df_sparse = df_sparse.merge(row_info[['report_dt','row','lipper_class']],how='left',on='row')\n",
    "\n",
    "    my_filter = '''report_dt == @date and lipper_class == @lipper_class '''\n",
    "\n",
    "    no_unique_funds = row_info.query(my_filter).shape[0]\n",
    "\n",
    "    sum_col = (df_sparse\n",
    "               .query(my_filter)\n",
    "               .groupby(by = ['col'])\n",
    "               .sum()\n",
    "               .sort_values('data',ascending = False)\n",
    "               .join(col_info[['security_name','col']],how='left')\n",
    "               .assign(percent = lambda x:  x.data / no_unique_funds * 100)\n",
    "               .drop(columns=['row','data','col'])\n",
    "               .reset_index(drop=True)\n",
    "               .head(10))\n",
    "\n",
    "    print(\n",
    "        'Most held stocks: ','\\n\\n'\n",
    "        'Lipper class:       {}'.format(lipper_class),'\\n'\n",
    "        'Number of funds:    {}'.format(no_unique_funds),'\\n'\n",
    "        'Date:               {}'.format(date.date()))\n",
    "\n",
    "    return sum_col"
   ]
  },
  {
   "cell_type": "code",
   "execution_count": 50,
   "metadata": {},
   "outputs": [
    {
     "name": "stdout",
     "output_type": "stream",
     "text": [
      "Most held stocks:  \n",
      "\n",
      "Lipper class:       LCCE \n",
      "Number of funds:    257 \n",
      "Date:               2016-06-30\n"
     ]
    },
    {
     "data": {
      "text/html": [
       "<div>\n",
       "<style scoped>\n",
       "    .dataframe tbody tr th:only-of-type {\n",
       "        vertical-align: middle;\n",
       "    }\n",
       "\n",
       "    .dataframe tbody tr th {\n",
       "        vertical-align: top;\n",
       "    }\n",
       "\n",
       "    .dataframe thead th {\n",
       "        text-align: right;\n",
       "    }\n",
       "</style>\n",
       "<table border=\"1\" class=\"dataframe\">\n",
       "  <thead>\n",
       "    <tr style=\"text-align: right;\">\n",
       "      <th></th>\n",
       "      <th>security_name</th>\n",
       "      <th>percent</th>\n",
       "    </tr>\n",
       "  </thead>\n",
       "  <tbody>\n",
       "    <tr>\n",
       "      <th>0</th>\n",
       "      <td>APPLE INC</td>\n",
       "      <td>79.377432</td>\n",
       "    </tr>\n",
       "    <tr>\n",
       "      <th>1</th>\n",
       "      <td>MICROSOFT CORP</td>\n",
       "      <td>77.431907</td>\n",
       "    </tr>\n",
       "    <tr>\n",
       "      <th>2</th>\n",
       "      <td>WELLS FARGO &amp; CO NEW</td>\n",
       "      <td>67.315175</td>\n",
       "    </tr>\n",
       "    <tr>\n",
       "      <th>3</th>\n",
       "      <td>COMCAST CORP NEW</td>\n",
       "      <td>66.536965</td>\n",
       "    </tr>\n",
       "    <tr>\n",
       "      <th>4</th>\n",
       "      <td>JPMORGAN CHASE &amp; CO</td>\n",
       "      <td>64.202335</td>\n",
       "    </tr>\n",
       "    <tr>\n",
       "      <th>5</th>\n",
       "      <td>JOHNSON &amp; JOHNSON</td>\n",
       "      <td>63.424125</td>\n",
       "    </tr>\n",
       "    <tr>\n",
       "      <th>6</th>\n",
       "      <td>ALPHABET INC</td>\n",
       "      <td>62.645914</td>\n",
       "    </tr>\n",
       "    <tr>\n",
       "      <th>7</th>\n",
       "      <td>ALPHABET INC</td>\n",
       "      <td>60.700389</td>\n",
       "    </tr>\n",
       "    <tr>\n",
       "      <th>8</th>\n",
       "      <td>CISCO SYSTEMS INC</td>\n",
       "      <td>57.976654</td>\n",
       "    </tr>\n",
       "    <tr>\n",
       "      <th>9</th>\n",
       "      <td>SCHLUMBERGER LTD</td>\n",
       "      <td>57.198444</td>\n",
       "    </tr>\n",
       "  </tbody>\n",
       "</table>\n",
       "</div>"
      ],
      "text/plain": [
       "          security_name    percent\n",
       "0             APPLE INC  79.377432\n",
       "1        MICROSOFT CORP  77.431907\n",
       "2  WELLS FARGO & CO NEW  67.315175\n",
       "3      COMCAST CORP NEW  66.536965\n",
       "4   JPMORGAN CHASE & CO  64.202335\n",
       "5     JOHNSON & JOHNSON  63.424125\n",
       "6          ALPHABET INC  62.645914\n",
       "7          ALPHABET INC  60.700389\n",
       "8     CISCO SYSTEMS INC  57.976654\n",
       "9      SCHLUMBERGER LTD  57.198444"
      ]
     },
     "execution_count": 50,
     "metadata": {},
     "output_type": "execute_result"
    }
   ],
   "source": [
    "most_common_stocks(date='2016-06-30',lipper_class='LCCE')"
   ]
  },
  {
   "cell_type": "markdown",
   "metadata": {},
   "source": [
    "# Save everything"
   ]
  },
  {
   "cell_type": "code",
   "execution_count": 51,
   "metadata": {},
   "outputs": [],
   "source": [
    "# Holdings data\n",
    "path = '../data/processed/holdings.npz'\n",
    "sparse.save_npz(npz_path,holdings)\n",
    "\n",
    "path = '../data/processed/row_info.feather'\n",
    "feather.write_dataframe(row_info,path)\n",
    "\n",
    "path = '../data/processed/col_info.feather'\n",
    "feather.write_dataframe(col_info,path)\n",
    "\n",
    "# Returns data\n",
    "path = '../data/processed/returns.feather'\n",
    "feather.write_dataframe(returns,path)   # Downloaded from wrds"
   ]
  }
 ],
 "metadata": {
  "kernelspec": {
   "display_name": "MT",
   "language": "python",
   "name": "mt"
  },
  "language_info": {
   "codemirror_mode": {
    "name": "ipython",
    "version": 3
   },
   "file_extension": ".py",
   "mimetype": "text/x-python",
   "name": "python",
   "nbconvert_exporter": "python",
   "pygments_lexer": "ipython3",
   "version": "3.7.4"
  }
 },
 "nbformat": 4,
 "nbformat_minor": 2
}
