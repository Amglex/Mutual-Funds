{
 "cells": [
  {
   "cell_type": "markdown",
   "metadata": {},
   "source": [
    "# Analysis of monthly return data"
   ]
  },
  {
   "cell_type": "markdown",
   "metadata": {},
   "source": [
    "## Description"
   ]
  },
  {
   "cell_type": "markdown",
   "metadata": {},
   "source": [
    "- Calculate mean return per Style"
   ]
  },
  {
   "cell_type": "code",
   "execution_count": 1,
   "metadata": {},
   "outputs": [],
   "source": [
    "import feather\n",
    "import numpy as np\n",
    "import pandas as pd\n",
    "import seaborn as sns\n",
    "import matplotlib.pyplot as plt\n",
    "\n",
    "from scipy import sparse"
   ]
  },
  {
   "cell_type": "markdown",
   "metadata": {},
   "source": [
    "## Load Data"
   ]
  },
  {
   "cell_type": "code",
   "execution_count": 2,
   "metadata": {
    "scrolled": true
   },
   "outputs": [
    {
     "data": {
      "text/plain": [
       "(348399, 3)"
      ]
     },
     "execution_count": 2,
     "metadata": {},
     "output_type": "execute_result"
    }
   ],
   "source": [
    "path = '../data/processed/EDY/returns_s_s.feather'\n",
    "returns = feather.read_dataframe(path)\n",
    "returns.shape"
   ]
  },
  {
   "cell_type": "code",
   "execution_count": 3,
   "metadata": {},
   "outputs": [
    {
     "data": {
      "text/plain": [
       "(50448, 8)"
      ]
     },
     "execution_count": 3,
     "metadata": {},
     "output_type": "execute_result"
    }
   ],
   "source": [
    "path = '../data/processed/EDY/holdings_summary_s_s.feather'\n",
    "summary = feather.read_dataframe(path)\n",
    "summary.shape"
   ]
  },
  {
   "cell_type": "code",
   "execution_count": 4,
   "metadata": {},
   "outputs": [
    {
     "data": {
      "text/plain": [
       "(50448, 2382968)"
      ]
     },
     "execution_count": 4,
     "metadata": {},
     "output_type": "execute_result"
    }
   ],
   "source": [
    "path = '../data/processed/EDY/holdings_s_s.npz'\n",
    "holdings = sparse.load_npz(path)\n",
    "holdings.shape"
   ]
  },
  {
   "cell_type": "code",
   "execution_count": 5,
   "metadata": {
    "scrolled": true
   },
   "outputs": [],
   "source": [
    "path = '../data/raw/portno_map.feather'\n",
    "portno_map = feather.read_dataframe(path)"
   ]
  },
  {
   "cell_type": "markdown",
   "metadata": {},
   "source": [
    "## Merge Crsp_Obj_Cd onto returns data"
   ]
  },
  {
   "cell_type": "markdown",
   "metadata": {},
   "source": [
    "### Merge does not take dates into account -> TODO"
   ]
  },
  {
   "cell_type": "code",
   "execution_count": 6,
   "metadata": {},
   "outputs": [
    {
     "data": {
      "text/plain": [
       "(1976094, 11)"
      ]
     },
     "execution_count": 6,
     "metadata": {},
     "output_type": "execute_result"
    }
   ],
   "source": [
    "returns_merged = returns.merge(summary, how='left', left_on='crsp_fundno',right_on='fund_no')\n",
    "returns_merged.shape"
   ]
  },
  {
   "cell_type": "code",
   "execution_count": 7,
   "metadata": {},
   "outputs": [
    {
     "data": {
      "text/plain": [
       "(1712476, 11)"
      ]
     },
     "execution_count": 7,
     "metadata": {},
     "output_type": "execute_result"
    }
   ],
   "source": [
    "returns_merged = returns_merged.dropna(axis = 0, how = 'any')\n",
    "returns_merged.shape"
   ]
  },
  {
   "cell_type": "code",
   "execution_count": 8,
   "metadata": {},
   "outputs": [
    {
     "data": {
      "text/html": [
       "<div>\n",
       "<style scoped>\n",
       "    .dataframe tbody tr th:only-of-type {\n",
       "        vertical-align: middle;\n",
       "    }\n",
       "\n",
       "    .dataframe tbody tr th {\n",
       "        vertical-align: top;\n",
       "    }\n",
       "\n",
       "    .dataframe thead th {\n",
       "        text-align: right;\n",
       "    }\n",
       "</style>\n",
       "<table border=\"1\" class=\"dataframe\">\n",
       "  <thead>\n",
       "    <tr style=\"text-align: right;\">\n",
       "      <th></th>\n",
       "      <th>crsp_fundno</th>\n",
       "      <th>caldt</th>\n",
       "      <th>mret</th>\n",
       "      <th>port_no</th>\n",
       "      <th>fund_no</th>\n",
       "      <th>report_dt</th>\n",
       "      <th>index_fund_flag</th>\n",
       "      <th>et_flag</th>\n",
       "      <th>crsp_obj_cd</th>\n",
       "      <th>mutual_fund</th>\n",
       "      <th>sample</th>\n",
       "    </tr>\n",
       "  </thead>\n",
       "  <tbody>\n",
       "    <tr>\n",
       "      <th>79865</th>\n",
       "      <td>5627.0</td>\n",
       "      <td>2016-03-31</td>\n",
       "      <td>0.06686</td>\n",
       "      <td>1026301.0</td>\n",
       "      <td>5627.0</td>\n",
       "      <td>2017-12-31</td>\n",
       "      <td>MF</td>\n",
       "      <td>MF</td>\n",
       "      <td>EDYG</td>\n",
       "      <td>Y</td>\n",
       "      <td>Y</td>\n",
       "    </tr>\n",
       "  </tbody>\n",
       "</table>\n",
       "</div>"
      ],
      "text/plain": [
       "       crsp_fundno      caldt     mret    port_no  fund_no  report_dt  \\\n",
       "79865       5627.0 2016-03-31  0.06686  1026301.0   5627.0 2017-12-31   \n",
       "\n",
       "      index_fund_flag et_flag crsp_obj_cd mutual_fund sample  \n",
       "79865              MF      MF        EDYG           Y      Y  "
      ]
     },
     "execution_count": 8,
     "metadata": {},
     "output_type": "execute_result"
    }
   ],
   "source": [
    "returns_merged.sample()"
   ]
  },
  {
   "cell_type": "markdown",
   "metadata": {},
   "source": [
    "#### Take only needed columns and reorder them"
   ]
  },
  {
   "cell_type": "code",
   "execution_count": 9,
   "metadata": {},
   "outputs": [],
   "source": [
    "returns_merged = returns_merged[['caldt','fund_no','port_no','mret','crsp_obj_cd']]"
   ]
  },
  {
   "cell_type": "code",
   "execution_count": 10,
   "metadata": {},
   "outputs": [
    {
     "data": {
      "text/html": [
       "<div>\n",
       "<style scoped>\n",
       "    .dataframe tbody tr th:only-of-type {\n",
       "        vertical-align: middle;\n",
       "    }\n",
       "\n",
       "    .dataframe tbody tr th {\n",
       "        vertical-align: top;\n",
       "    }\n",
       "\n",
       "    .dataframe thead th {\n",
       "        text-align: right;\n",
       "    }\n",
       "</style>\n",
       "<table border=\"1\" class=\"dataframe\">\n",
       "  <thead>\n",
       "    <tr style=\"text-align: right;\">\n",
       "      <th></th>\n",
       "      <th>caldt</th>\n",
       "      <th>fund_no</th>\n",
       "      <th>port_no</th>\n",
       "      <th>mret</th>\n",
       "      <th>crsp_obj_cd</th>\n",
       "    </tr>\n",
       "  </thead>\n",
       "  <tbody>\n",
       "    <tr>\n",
       "      <th>1129943</th>\n",
       "      <td>2015-09-30</td>\n",
       "      <td>39390.0</td>\n",
       "      <td>1025773.0</td>\n",
       "      <td>-0.006441</td>\n",
       "      <td>EDYB</td>\n",
       "    </tr>\n",
       "  </tbody>\n",
       "</table>\n",
       "</div>"
      ],
      "text/plain": [
       "             caldt  fund_no    port_no      mret crsp_obj_cd\n",
       "1129943 2015-09-30  39390.0  1025773.0 -0.006441        EDYB"
      ]
     },
     "execution_count": 10,
     "metadata": {},
     "output_type": "execute_result"
    }
   ],
   "source": [
    "returns_merged.sample()"
   ]
  },
  {
   "cell_type": "markdown",
   "metadata": {},
   "source": [
    "## Check for how many funds returns data is available"
   ]
  },
  {
   "cell_type": "markdown",
   "metadata": {},
   "source": [
    "#### TODO"
   ]
  },
  {
   "cell_type": "markdown",
   "metadata": {},
   "source": [
    "## Calc mean return per Obj_cd"
   ]
  },
  {
   "cell_type": "markdown",
   "metadata": {},
   "source": [
    "### Get unique codes for later"
   ]
  },
  {
   "cell_type": "code",
   "execution_count": 11,
   "metadata": {},
   "outputs": [],
   "source": [
    "obj_codes = returns_merged[['crsp_obj_cd']].drop_duplicates()\n",
    "obj_codes = obj_codes['crsp_obj_cd'].values"
   ]
  },
  {
   "cell_type": "code",
   "execution_count": 12,
   "metadata": {},
   "outputs": [
    {
     "data": {
      "text/html": [
       "<div>\n",
       "<style scoped>\n",
       "    .dataframe tbody tr th:only-of-type {\n",
       "        vertical-align: middle;\n",
       "    }\n",
       "\n",
       "    .dataframe tbody tr th {\n",
       "        vertical-align: top;\n",
       "    }\n",
       "\n",
       "    .dataframe thead th {\n",
       "        text-align: right;\n",
       "    }\n",
       "</style>\n",
       "<table border=\"1\" class=\"dataframe\">\n",
       "  <thead>\n",
       "    <tr style=\"text-align: right;\">\n",
       "      <th></th>\n",
       "      <th>caldt</th>\n",
       "      <th>fund_no</th>\n",
       "      <th>port_no</th>\n",
       "      <th>mret</th>\n",
       "      <th>crsp_obj_cd</th>\n",
       "    </tr>\n",
       "  </thead>\n",
       "  <tbody>\n",
       "    <tr>\n",
       "      <th>1790025</th>\n",
       "      <td>2017-06-30</td>\n",
       "      <td>57275.0</td>\n",
       "      <td>1032633.0</td>\n",
       "      <td>0.007036</td>\n",
       "      <td>EDYB</td>\n",
       "    </tr>\n",
       "    <tr>\n",
       "      <th>599233</th>\n",
       "      <td>2017-12-29</td>\n",
       "      <td>23872.0</td>\n",
       "      <td>1024548.0</td>\n",
       "      <td>0.013437</td>\n",
       "      <td>EDYI</td>\n",
       "    </tr>\n",
       "    <tr>\n",
       "      <th>467952</th>\n",
       "      <td>2017-05-31</td>\n",
       "      <td>17726.0</td>\n",
       "      <td>1024722.0</td>\n",
       "      <td>0.012433</td>\n",
       "      <td>EDYB</td>\n",
       "    </tr>\n",
       "    <tr>\n",
       "      <th>1738674</th>\n",
       "      <td>2016-09-30</td>\n",
       "      <td>56140.0</td>\n",
       "      <td>1032359.0</td>\n",
       "      <td>-0.006289</td>\n",
       "      <td>EDYI</td>\n",
       "    </tr>\n",
       "    <tr>\n",
       "      <th>476432</th>\n",
       "      <td>2017-03-31</td>\n",
       "      <td>17954.0</td>\n",
       "      <td>1027276.0</td>\n",
       "      <td>0.004898</td>\n",
       "      <td>EDYG</td>\n",
       "    </tr>\n",
       "    <tr>\n",
       "      <th>1058699</th>\n",
       "      <td>2016-07-29</td>\n",
       "      <td>38775.0</td>\n",
       "      <td>1024669.0</td>\n",
       "      <td>0.068078</td>\n",
       "      <td>EDYG</td>\n",
       "    </tr>\n",
       "    <tr>\n",
       "      <th>331920</th>\n",
       "      <td>2017-06-30</td>\n",
       "      <td>13177.0</td>\n",
       "      <td>1024298.0</td>\n",
       "      <td>0.013289</td>\n",
       "      <td>EDYB</td>\n",
       "    </tr>\n",
       "    <tr>\n",
       "      <th>1017756</th>\n",
       "      <td>2015-06-30</td>\n",
       "      <td>38504.0</td>\n",
       "      <td>1023900.0</td>\n",
       "      <td>-0.018024</td>\n",
       "      <td>EDYG</td>\n",
       "    </tr>\n",
       "    <tr>\n",
       "      <th>1619790</th>\n",
       "      <td>2016-06-30</td>\n",
       "      <td>52814.0</td>\n",
       "      <td>1031286.0</td>\n",
       "      <td>0.010518</td>\n",
       "      <td>EDYB</td>\n",
       "    </tr>\n",
       "    <tr>\n",
       "      <th>203218</th>\n",
       "      <td>2015-10-30</td>\n",
       "      <td>10240.0</td>\n",
       "      <td>1023177.0</td>\n",
       "      <td>0.081614</td>\n",
       "      <td>EDYG</td>\n",
       "    </tr>\n",
       "  </tbody>\n",
       "</table>\n",
       "</div>"
      ],
      "text/plain": [
       "             caldt  fund_no    port_no      mret crsp_obj_cd\n",
       "1790025 2017-06-30  57275.0  1032633.0  0.007036        EDYB\n",
       "599233  2017-12-29  23872.0  1024548.0  0.013437        EDYI\n",
       "467952  2017-05-31  17726.0  1024722.0  0.012433        EDYB\n",
       "1738674 2016-09-30  56140.0  1032359.0 -0.006289        EDYI\n",
       "476432  2017-03-31  17954.0  1027276.0  0.004898        EDYG\n",
       "1058699 2016-07-29  38775.0  1024669.0  0.068078        EDYG\n",
       "331920  2017-06-30  13177.0  1024298.0  0.013289        EDYB\n",
       "1017756 2015-06-30  38504.0  1023900.0 -0.018024        EDYG\n",
       "1619790 2016-06-30  52814.0  1031286.0  0.010518        EDYB\n",
       "203218  2015-10-30  10240.0  1023177.0  0.081614        EDYG"
      ]
     },
     "execution_count": 12,
     "metadata": {},
     "output_type": "execute_result"
    }
   ],
   "source": [
    "returns_merged.sample(10)"
   ]
  },
  {
   "cell_type": "code",
   "execution_count": 13,
   "metadata": {},
   "outputs": [],
   "source": [
    "# Analysis of selected funds\n",
    "returns_obj = returns_merged.groupby(['crsp_obj_cd','caldt'])['mret'].agg(['mean','count'])"
   ]
  },
  {
   "cell_type": "code",
   "execution_count": 14,
   "metadata": {},
   "outputs": [],
   "source": [
    "test = returns_obj.loc['EDYB',['mean']]"
   ]
  },
  {
   "cell_type": "code",
   "execution_count": 15,
   "metadata": {},
   "outputs": [],
   "source": [
    "def cumreturn(series):\n",
    "    \"\"\"\n",
    "    Calculate cumreturn from a pandas series\n",
    "    \n",
    "    Attention: Sets first return observation to 1\n",
    "    Could be better implemented\n",
    "    \"\"\"\n",
    "    min_date = series.index.min()\n",
    "    series.loc[min_date] = 0\n",
    "    series = (series.fillna(0)+1).cumprod()\n",
    "    return(series)"
   ]
  },
  {
   "cell_type": "code",
   "execution_count": 16,
   "metadata": {},
   "outputs": [],
   "source": [
    "returns_obj['cummean'] = returns_obj.groupby('crsp_obj_cd')[['mean']].apply(cumreturn)"
   ]
  },
  {
   "cell_type": "markdown",
   "metadata": {},
   "source": [
    "#### Pivot to make multiple columns, one for each obj_cd"
   ]
  },
  {
   "cell_type": "code",
   "execution_count": 17,
   "metadata": {},
   "outputs": [],
   "source": [
    "returns_obj_n = returns_obj.pivot_table(\n",
    "        values='cummean', \n",
    "        index=['caldt'], \n",
    "        columns='crsp_obj_cd')"
   ]
  },
  {
   "cell_type": "code",
   "execution_count": 18,
   "metadata": {},
   "outputs": [
    {
     "data": {
      "text/plain": [
       "<matplotlib.axes._subplots.AxesSubplot at 0x11fdc2dd8>"
      ]
     },
     "execution_count": 18,
     "metadata": {},
     "output_type": "execute_result"
    },
    {
     "data": {
      "image/png": "[encoded data removed]",
      "text/plain": [
       "<Figure size 1152x576 with 1 Axes>"
      ]
     },
     "metadata": {
      "needs_background": "light"
     },
     "output_type": "display_data"
    }
   ],
   "source": [
    "returns_obj_n.plot(\n",
    "              kind='line',\n",
    "              use_index=True,\n",
    "              figsize=(16,8),\n",
    "              title='Mean cumreturn per Group',\n",
    "              legend='best')"
   ]
  }
 ],
 "metadata": {
  "kernelspec": {
   "display_name": "Python 3",
   "language": "python",
   "name": "python3"
  },
  "language_info": {
   "codemirror_mode": {
    "name": "ipython",
    "version": 3
   },
   "file_extension": ".py",
   "mimetype": "text/x-python",
   "name": "python",
   "nbconvert_exporter": "python",
   "pygments_lexer": "ipython3",
   "version": "3.7.2"
  }
 },
 "nbformat": 4,
 "nbformat_minor": 2
}
