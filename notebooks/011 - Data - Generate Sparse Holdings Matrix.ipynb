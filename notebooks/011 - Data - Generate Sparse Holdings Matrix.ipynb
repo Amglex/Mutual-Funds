{
 "cells": [
  {
   "cell_type": "markdown",
   "metadata": {},
   "source": [
    "# Preprocess Large Holdings File\n",
    "\n",
    "#### Converting the raw 50+ GB sas file with the holdings complezte data into a sparse python matrix which can be loaded into memory and more important which can be handled more efficiently by different alogorithms. \n",
    "#### The logic behind this process is as follows:\n",
    "\n",
    "Loading data and transforming it into csv file to work with\n",
    "\n",
    "1. 50+ GB holdings.sas7bdat file containing all the holdings data downloaded directly from wrds using ftp client\n",
    "2. Converted into csv using sas7bdat_to_csv utility (Link)\n",
    "\n",
    "Two step process to transform file into sparse matrix\n",
    "Challenge is to convert from row describing one holding to rows describing the holdings of one fund at one point in time. Aslo it is crucial to keep track of which row of the sparse matrix is which fund at wjich date and which colums are which securities.\n",
    "\n",
    "3. Open file in python \n",
    "4. Parse through file to make two lists. One with all fund/date combinations (using the comination as an ID) and one with all securities.\n",
    "5. Generate sparse matrix with the dimensions \"number of fund/date combinations\" x \"numer of securities\"\n",
    "6. Parse through large csv file again and fill the percentage_tna (percentage of the fund held in that particular security) number into the right spot of the sparse matrix as determined by two maps based on all fund/date combinations and securities\n",
    "7. Save final sparse matrix and tables containing information about which row is which fund/date and which column is which security."
   ]
  },
  {
   "cell_type": "markdown",
   "metadata": {},
   "source": [
    "TODO\n",
    "\n",
    "Parsing through csv file could be significantly sped up using something like: https://stackoverflow.com/questions/17444679/reading-a-huge-csv-file"
   ]
  },
  {
   "cell_type": "markdown",
   "metadata": {},
   "source": [
    "## Import statements"
   ]
  },
  {
   "cell_type": "code",
   "execution_count": 1,
   "metadata": {
    "pycharm": {
     "is_executing": false
    }
   },
   "outputs": [],
   "source": [
    "import os\n",
    "import sys\n",
    "\n",
    "import feather\n",
    "\n",
    "import numpy as np\n",
    "import pandas as pd\n",
    "from scipy import sparse"
   ]
  },
  {
   "cell_type": "markdown",
   "metadata": {},
   "source": [
    "## Load File"
   ]
  },
  {
   "cell_type": "code",
   "execution_count": 2,
   "metadata": {
    "pycharm": {
     "is_executing": false
    }
   },
   "outputs": [],
   "source": [
    "path = '../data/raw/holdings.csv'"
   ]
  },
  {
   "cell_type": "markdown",
   "metadata": {},
   "source": [
    "## Parse complete file to get all unique fund/date combinations and stocks"
   ]
  },
  {
   "cell_type": "code",
   "execution_count": 3,
   "metadata": {},
   "outputs": [
    {
     "name": "stdout",
     "output_type": "stream",
     "text": [
      "  5.42%\n",
      " 10.84%\n",
      " 16.25%\n",
      " 21.67%\n",
      " 27.09%\n",
      " 32.51%\n",
      " 37.92%\n",
      " 43.34%\n",
      " 48.76%\n",
      " 54.18%\n",
      " 59.60%\n",
      " 65.01%\n",
      " 70.43%\n",
      " 75.85%\n",
      " 81.27%\n",
      " 86.68%\n",
      " 92.10%\n",
      " 97.52%\n",
      "102.94%\n",
      "108.35%\n",
      "113.77%\n",
      "CPU times: user 4min 8s, sys: 1min 4s, total: 5min 12s\n",
      "Wall time: 5min 18s\n"
     ]
    }
   ],
   "source": [
    "%%time\n",
    "chunksize = 10 ** 7\n",
    "unit = chunksize / 184_578_843\n",
    "\n",
    "reader = pd.read_csv(path,\n",
    "                     usecols = ['crsp_portno','report_dt',\n",
    "                                'crsp_company_key','security_name','cusip'],\n",
    "                     dtype = {'crsp_portno': np.int64,\n",
    "                              'report_dt': np.int64,\n",
    "                              'crsp_company_key': np.int64,\n",
    "                              'security_name': str,\n",
    "                              'cusip': str},\n",
    "                     low_memory=False,\n",
    "                     chunksize=chunksize)\n",
    "\n",
    "dfList_1 = []\n",
    "dfList_2 = []\n",
    "\n",
    "for i, chunk in enumerate(reader):\n",
    "    temp_df_1 = chunk.loc[:,['crsp_portno','report_dt']].drop_duplicates()\n",
    "    temp_df_2 = chunk.loc[:,['crsp_company_key','security_name','cusip']].drop_duplicates()\n",
    "    dfList_1.append(temp_df_1)\n",
    "    dfList_2.append(temp_df_2)\n",
    "\n",
    "    print(\"{:6.2f}%\".format(((i+1) * unit * 100)))        "
   ]
  },
  {
   "cell_type": "code",
   "execution_count": 4,
   "metadata": {},
   "outputs": [],
   "source": [
    "df_1 = pd.concat(dfList_1,sort=False)\n",
    "df_2 = pd.concat(dfList_2,sort=False)\n",
    "\n",
    "df_1 = df_1.drop_duplicates()\n",
    "df_2 = df_2.drop_duplicates()"
   ]
  },
  {
   "cell_type": "code",
   "execution_count": 5,
   "metadata": {},
   "outputs": [],
   "source": [
    "# Generate a unique ID from the portno and the date of a fund/date combination\n",
    "df_1 = df_1.assign(port_id = ((df_1['crsp_portno'] * 1000000 + df_1['report_dt'])))\n",
    "df_1 = df_1.rename(columns = {'report_dt':'report_dt_int'})\n",
    "\n",
    "df_1 = df_1.assign(report_dt = pd.to_timedelta(df_1['report_dt_int'], unit='D') + pd.Timestamp('1960-1-1'))\n",
    "\n",
    "df_1 = df_1.reset_index(drop = True)\n",
    "df_1 = (df_1\n",
    "        .assign(row = df_1.index)\n",
    "        .set_index('port_id'))"
   ]
  },
  {
   "cell_type": "code",
   "execution_count": 6,
   "metadata": {},
   "outputs": [],
   "source": [
    "df_2 = df_2.reset_index(drop = True)\n",
    "df_2 = (df_2\n",
    "        .assign(col = df_2.index)\n",
    "        .set_index('crsp_company_key'))"
   ]
  },
  {
   "cell_type": "code",
   "execution_count": 7,
   "metadata": {
    "scrolled": true
   },
   "outputs": [
    {
     "data": {
      "text/html": [
       "<div>\n",
       "<style scoped>\n",
       "    .dataframe tbody tr th:only-of-type {\n",
       "        vertical-align: middle;\n",
       "    }\n",
       "\n",
       "    .dataframe tbody tr th {\n",
       "        vertical-align: top;\n",
       "    }\n",
       "\n",
       "    .dataframe thead th {\n",
       "        text-align: right;\n",
       "    }\n",
       "</style>\n",
       "<table border=\"1\" class=\"dataframe\">\n",
       "  <thead>\n",
       "    <tr style=\"text-align: right;\">\n",
       "      <th></th>\n",
       "      <th>crsp_portno</th>\n",
       "      <th>report_dt_int</th>\n",
       "      <th>report_dt</th>\n",
       "      <th>row</th>\n",
       "    </tr>\n",
       "    <tr>\n",
       "      <th>port_id</th>\n",
       "      <th></th>\n",
       "      <th></th>\n",
       "      <th></th>\n",
       "      <th></th>\n",
       "    </tr>\n",
       "  </thead>\n",
       "  <tbody>\n",
       "    <tr>\n",
       "      <th>1000001015795</th>\n",
       "      <td>1000001</td>\n",
       "      <td>15795</td>\n",
       "      <td>2003-03-31</td>\n",
       "      <td>0</td>\n",
       "    </tr>\n",
       "  </tbody>\n",
       "</table>\n",
       "</div>"
      ],
      "text/plain": [
       "               crsp_portno  report_dt_int  report_dt  row\n",
       "port_id                                                  \n",
       "1000001015795      1000001          15795 2003-03-31    0"
      ]
     },
     "execution_count": 7,
     "metadata": {},
     "output_type": "execute_result"
    }
   ],
   "source": [
    "df_1.head(1)"
   ]
  },
  {
   "cell_type": "code",
   "execution_count": 8,
   "metadata": {},
   "outputs": [
    {
     "data": {
      "text/html": [
       "<div>\n",
       "<style scoped>\n",
       "    .dataframe tbody tr th:only-of-type {\n",
       "        vertical-align: middle;\n",
       "    }\n",
       "\n",
       "    .dataframe tbody tr th {\n",
       "        vertical-align: top;\n",
       "    }\n",
       "\n",
       "    .dataframe thead th {\n",
       "        text-align: right;\n",
       "    }\n",
       "</style>\n",
       "<table border=\"1\" class=\"dataframe\">\n",
       "  <thead>\n",
       "    <tr style=\"text-align: right;\">\n",
       "      <th></th>\n",
       "      <th>security_name</th>\n",
       "      <th>cusip</th>\n",
       "      <th>col</th>\n",
       "    </tr>\n",
       "    <tr>\n",
       "      <th>crsp_company_key</th>\n",
       "      <th></th>\n",
       "      <th></th>\n",
       "      <th></th>\n",
       "    </tr>\n",
       "  </thead>\n",
       "  <tbody>\n",
       "    <tr>\n",
       "      <th>3000248</th>\n",
       "      <td>ADVANCED NEUROMODULATION SYS INC</td>\n",
       "      <td>00757T10</td>\n",
       "      <td>0</td>\n",
       "    </tr>\n",
       "  </tbody>\n",
       "</table>\n",
       "</div>"
      ],
      "text/plain": [
       "                                     security_name     cusip  col\n",
       "crsp_company_key                                                 \n",
       "3000248           ADVANCED NEUROMODULATION SYS INC  00757T10    0"
      ]
     },
     "execution_count": 8,
     "metadata": {},
     "output_type": "execute_result"
    }
   ],
   "source": [
    "df_2.head(1)"
   ]
  },
  {
   "cell_type": "markdown",
   "metadata": {},
   "source": [
    "## Parse complete file to generate data for sparse matrix"
   ]
  },
  {
   "cell_type": "code",
   "execution_count": 9,
   "metadata": {},
   "outputs": [
    {
     "name": "stdout",
     "output_type": "stream",
     "text": [
      "CPU times: user 1.35 ms, sys: 9.57 ms, total: 10.9 ms\n",
      "Wall time: 10.3 ms\n"
     ]
    }
   ],
   "source": [
    "%%time\n",
    "chunksize = 10 ** 7\n",
    "unit = chunksize / 184_578_843\n",
    "\n",
    "reader = pd.read_csv(path,\n",
    "                     usecols = ['crsp_portno','report_dt','crsp_company_key','percent_tna'],\n",
    "                     dtype = {'crsp_portno': np.int64,\n",
    "                              'report_dt': np.int64,\n",
    "                              'crsp_company_key': np.int64,\n",
    "                              'percent_tna':np.float64},\n",
    "                     low_memory=False,\n",
    "                     chunksize=chunksize)"
   ]
  },
  {
   "cell_type": "code",
   "execution_count": 10,
   "metadata": {},
   "outputs": [],
   "source": [
    "# TODO pd.merge seems to be faster in this case than df.join"
   ]
  },
  {
   "cell_type": "code",
   "execution_count": 11,
   "metadata": {},
   "outputs": [
    {
     "name": "stdout",
     "output_type": "stream",
     "text": [
      "  5.42%\n",
      " 10.84%\n",
      " 16.25%\n",
      " 21.67%\n",
      " 27.09%\n",
      " 32.51%\n",
      " 37.92%\n",
      " 43.34%\n",
      " 48.76%\n",
      " 54.18%\n",
      " 59.60%\n",
      " 65.01%\n",
      " 70.43%\n",
      " 75.85%\n",
      " 81.27%\n",
      " 86.68%\n",
      " 92.10%\n",
      " 97.52%\n",
      "102.94%\n",
      "108.35%\n",
      "113.77%\n",
      "CPU times: user 4min 5s, sys: 1min 36s, total: 5min 41s\n",
      "Wall time: 5min 49s\n"
     ]
    }
   ],
   "source": [
    "%%time\n",
    "dfList = []\n",
    "\n",
    "df_1_temp = df_1.loc[:,['row']]\n",
    "df_2_temp = df_2.loc[:,['col']]\n",
    "\n",
    "for i, chunk in enumerate(reader):\n",
    "    temp_df = chunk.dropna()\n",
    "    temp_df = temp_df.assign(port_id = ((temp_df['crsp_portno'] * 1000000 + temp_df['report_dt'])))\n",
    "    temp_df.set_index('port_id',inplace=True)\n",
    "    temp_df = temp_df.join(df_1_temp, how='left')\n",
    "    temp_df.set_index('crsp_company_key',inplace=True)\n",
    "    temp_df = temp_df.join(df_2_temp, how='left')\n",
    "    temp_df = temp_df[['percent_tna','row','col']]\n",
    "    dfList.append(temp_df)\n",
    "\n",
    "    print(\"{:6.2f}%\".format(((i+1) * unit * 100)))"
   ]
  },
  {
   "cell_type": "code",
   "execution_count": 12,
   "metadata": {},
   "outputs": [
    {
     "name": "stdout",
     "output_type": "stream",
     "text": [
      "(201112919, 3)\n"
     ]
    },
    {
     "data": {
      "text/html": [
       "<div>\n",
       "<style scoped>\n",
       "    .dataframe tbody tr th:only-of-type {\n",
       "        vertical-align: middle;\n",
       "    }\n",
       "\n",
       "    .dataframe tbody tr th {\n",
       "        vertical-align: top;\n",
       "    }\n",
       "\n",
       "    .dataframe thead th {\n",
       "        text-align: right;\n",
       "    }\n",
       "</style>\n",
       "<table border=\"1\" class=\"dataframe\">\n",
       "  <thead>\n",
       "    <tr style=\"text-align: right;\">\n",
       "      <th></th>\n",
       "      <th>percent_tna</th>\n",
       "      <th>row</th>\n",
       "      <th>col</th>\n",
       "    </tr>\n",
       "  </thead>\n",
       "  <tbody>\n",
       "    <tr>\n",
       "      <th>0</th>\n",
       "      <td>0.03</td>\n",
       "      <td>339</td>\n",
       "      <td>4255</td>\n",
       "    </tr>\n",
       "    <tr>\n",
       "      <th>1</th>\n",
       "      <td>0.09</td>\n",
       "      <td>442</td>\n",
       "      <td>4255</td>\n",
       "    </tr>\n",
       "    <tr>\n",
       "      <th>2</th>\n",
       "      <td>0.14</td>\n",
       "      <td>443</td>\n",
       "      <td>4255</td>\n",
       "    </tr>\n",
       "  </tbody>\n",
       "</table>\n",
       "</div>"
      ],
      "text/plain": [
       "   percent_tna  row   col\n",
       "0         0.03  339  4255\n",
       "1         0.09  442  4255\n",
       "2         0.14  443  4255"
      ]
     },
     "execution_count": 12,
     "metadata": {},
     "output_type": "execute_result"
    }
   ],
   "source": [
    "df_sparse = pd.concat(dfList,sort=False)\n",
    "df_sparse.reset_index(drop=True,inplace=True)\n",
    "print(df_sparse.shape)\n",
    "df_sparse.head(3)"
   ]
  },
  {
   "cell_type": "markdown",
   "metadata": {},
   "source": [
    "## Delete duplicates\n",
    "All other filters will be applied later but this one has to be done before sparse matrix is created"
   ]
  },
  {
   "cell_type": "code",
   "execution_count": 13,
   "metadata": {},
   "outputs": [],
   "source": [
    "duplicates_mask = df_sparse.duplicated(['col','row'],keep='last')\n",
    "df_sparse = df_sparse[~duplicates_mask]"
   ]
  },
  {
   "cell_type": "markdown",
   "metadata": {},
   "source": [
    "## Check if holdings data makes sense "
   ]
  },
  {
   "cell_type": "code",
   "execution_count": 14,
   "metadata": {},
   "outputs": [],
   "source": [
    "merged_data = pd.merge(df_sparse,df_1[['report_dt','row']],how='left',on='row')"
   ]
  },
  {
   "cell_type": "code",
   "execution_count": 15,
   "metadata": {},
   "outputs": [
    {
     "data": {
      "text/html": [
       "<div>\n",
       "<style scoped>\n",
       "    .dataframe tbody tr th:only-of-type {\n",
       "        vertical-align: middle;\n",
       "    }\n",
       "\n",
       "    .dataframe tbody tr th {\n",
       "        vertical-align: top;\n",
       "    }\n",
       "\n",
       "    .dataframe thead th {\n",
       "        text-align: right;\n",
       "    }\n",
       "</style>\n",
       "<table border=\"1\" class=\"dataframe\">\n",
       "  <thead>\n",
       "    <tr style=\"text-align: right;\">\n",
       "      <th></th>\n",
       "      <th>percent_tna</th>\n",
       "      <th>row</th>\n",
       "      <th>security_name</th>\n",
       "      <th>cusip</th>\n",
       "    </tr>\n",
       "    <tr>\n",
       "      <th>col</th>\n",
       "      <th></th>\n",
       "      <th></th>\n",
       "      <th></th>\n",
       "      <th></th>\n",
       "    </tr>\n",
       "  </thead>\n",
       "  <tbody>\n",
       "    <tr>\n",
       "      <th>9248</th>\n",
       "      <td>5177.818168</td>\n",
       "      <td>1303244334</td>\n",
       "      <td>USD CASH</td>\n",
       "      <td>NaN</td>\n",
       "    </tr>\n",
       "    <tr>\n",
       "      <th>24057</th>\n",
       "      <td>4544.518561</td>\n",
       "      <td>802380589</td>\n",
       "      <td>APPLE INC</td>\n",
       "      <td>03783310</td>\n",
       "    </tr>\n",
       "    <tr>\n",
       "      <th>9332</th>\n",
       "      <td>3767.598749</td>\n",
       "      <td>778632575</td>\n",
       "      <td>MICROSOFT CORP</td>\n",
       "      <td>59491810</td>\n",
       "    </tr>\n",
       "    <tr>\n",
       "      <th>24032</th>\n",
       "      <td>3530.108884</td>\n",
       "      <td>584119340</td>\n",
       "      <td>AMAZON COM INC</td>\n",
       "      <td>02313510</td>\n",
       "    </tr>\n",
       "    <tr>\n",
       "      <th>16343</th>\n",
       "      <td>3165.918936</td>\n",
       "      <td>611808737</td>\n",
       "      <td>FACEBOOK INC</td>\n",
       "      <td>30303M10</td>\n",
       "    </tr>\n",
       "    <tr>\n",
       "      <th>25489</th>\n",
       "      <td>2792.909047</td>\n",
       "      <td>639788767</td>\n",
       "      <td>ALPHABET INC</td>\n",
       "      <td>02079K30</td>\n",
       "    </tr>\n",
       "    <tr>\n",
       "      <th>582792</th>\n",
       "      <td>2744.169098</td>\n",
       "      <td>33034617</td>\n",
       "      <td>PROSHARES REPO &amp; OTHER INVESTMENTS</td>\n",
       "      <td>NaN</td>\n",
       "    </tr>\n",
       "    <tr>\n",
       "      <th>25724</th>\n",
       "      <td>2562.389113</td>\n",
       "      <td>562310958</td>\n",
       "      <td>ALPHABET INC</td>\n",
       "      <td>02079K10</td>\n",
       "    </tr>\n",
       "    <tr>\n",
       "      <th>8896</th>\n",
       "      <td>2456.149202</td>\n",
       "      <td>615574004</td>\n",
       "      <td>JPMORGAN CHASE &amp; CO</td>\n",
       "      <td>46625H10</td>\n",
       "    </tr>\n",
       "    <tr>\n",
       "      <th>10783</th>\n",
       "      <td>2210.659291</td>\n",
       "      <td>633232327</td>\n",
       "      <td>JOHNSON &amp; JOHNSON</td>\n",
       "      <td>47816010</td>\n",
       "    </tr>\n",
       "  </tbody>\n",
       "</table>\n",
       "</div>"
      ],
      "text/plain": [
       "        percent_tna         row                       security_name     cusip\n",
       "col                                                                          \n",
       "9248    5177.818168  1303244334                            USD CASH       NaN\n",
       "24057   4544.518561   802380589                           APPLE INC  03783310\n",
       "9332    3767.598749   778632575                      MICROSOFT CORP  59491810\n",
       "24032   3530.108884   584119340                      AMAZON COM INC  02313510\n",
       "16343   3165.918936   611808737                        FACEBOOK INC  30303M10\n",
       "25489   2792.909047   639788767                        ALPHABET INC  02079K30\n",
       "582792  2744.169098    33034617  PROSHARES REPO & OTHER INVESTMENTS       NaN\n",
       "25724   2562.389113   562310958                        ALPHABET INC  02079K10\n",
       "8896    2456.149202   615574004                 JPMORGAN CHASE & CO  46625H10\n",
       "10783   2210.659291   633232327                   JOHNSON & JOHNSON  47816010"
      ]
     },
     "execution_count": 15,
     "metadata": {},
     "output_type": "execute_result"
    }
   ],
   "source": [
    "date = pd.to_datetime('2016-09-30')\n",
    "\n",
    "sum_col = (merged_data\n",
    "           .query('report_dt == @date')\n",
    "           .groupby(by = ['col'])\n",
    "           .sum()\n",
    "           .sort_values('percent_tna',ascending = False))\n",
    "\n",
    "sum_col.join(df_2.set_index('col'),how='left').head(10)"
   ]
  },
  {
   "cell_type": "code",
   "execution_count": 16,
   "metadata": {},
   "outputs": [],
   "source": [
    "# Seems to make sense. Interestingly Alphabet appears twice. TODO check if two share classes"
   ]
  },
  {
   "cell_type": "markdown",
   "metadata": {},
   "source": [
    "## Change fund info and security info dfs for future use"
   ]
  },
  {
   "cell_type": "code",
   "execution_count": 17,
   "metadata": {},
   "outputs": [
    {
     "data": {
      "text/html": [
       "<div>\n",
       "<style scoped>\n",
       "    .dataframe tbody tr th:only-of-type {\n",
       "        vertical-align: middle;\n",
       "    }\n",
       "\n",
       "    .dataframe tbody tr th {\n",
       "        vertical-align: top;\n",
       "    }\n",
       "\n",
       "    .dataframe thead th {\n",
       "        text-align: right;\n",
       "    }\n",
       "</style>\n",
       "<table border=\"1\" class=\"dataframe\">\n",
       "  <thead>\n",
       "    <tr style=\"text-align: right;\">\n",
       "      <th></th>\n",
       "      <th>crsp_portno</th>\n",
       "      <th>report_dt</th>\n",
       "      <th>port_id</th>\n",
       "    </tr>\n",
       "    <tr>\n",
       "      <th>row</th>\n",
       "      <th></th>\n",
       "      <th></th>\n",
       "      <th></th>\n",
       "    </tr>\n",
       "  </thead>\n",
       "  <tbody>\n",
       "    <tr>\n",
       "      <th>488529</th>\n",
       "      <td>1026723</td>\n",
       "      <td>2012-06-30</td>\n",
       "      <td>1026723019174</td>\n",
       "    </tr>\n",
       "  </tbody>\n",
       "</table>\n",
       "</div>"
      ],
      "text/plain": [
       "        crsp_portno  report_dt        port_id\n",
       "row                                          \n",
       "488529      1026723 2012-06-30  1026723019174"
      ]
     },
     "execution_count": 17,
     "metadata": {},
     "output_type": "execute_result"
    }
   ],
   "source": [
    "df_1 = df_1[['crsp_portno','report_dt','row']].assign(port_id = df_1.index)\n",
    "df_1.set_index('row',inplace=True)\n",
    "df_1.sample()"
   ]
  },
  {
   "cell_type": "code",
   "execution_count": 18,
   "metadata": {},
   "outputs": [
    {
     "data": {
      "text/html": [
       "<div>\n",
       "<style scoped>\n",
       "    .dataframe tbody tr th:only-of-type {\n",
       "        vertical-align: middle;\n",
       "    }\n",
       "\n",
       "    .dataframe tbody tr th {\n",
       "        vertical-align: top;\n",
       "    }\n",
       "\n",
       "    .dataframe thead th {\n",
       "        text-align: right;\n",
       "    }\n",
       "</style>\n",
       "<table border=\"1\" class=\"dataframe\">\n",
       "  <thead>\n",
       "    <tr style=\"text-align: right;\">\n",
       "      <th></th>\n",
       "      <th>security_name</th>\n",
       "      <th>cusip</th>\n",
       "      <th>crsp_company_key</th>\n",
       "    </tr>\n",
       "    <tr>\n",
       "      <th>col</th>\n",
       "      <th></th>\n",
       "      <th></th>\n",
       "      <th></th>\n",
       "    </tr>\n",
       "  </thead>\n",
       "  <tbody>\n",
       "    <tr>\n",
       "      <th>815795</th>\n",
       "      <td>BAMLL COMMERCIAL MORTGAGE SECURITIES TRU 15-NO...</td>\n",
       "      <td>054966AW</td>\n",
       "      <td>4018701</td>\n",
       "    </tr>\n",
       "  </tbody>\n",
       "</table>\n",
       "</div>"
      ],
      "text/plain": [
       "                                            security_name     cusip  \\\n",
       "col                                                                   \n",
       "815795  BAMLL COMMERCIAL MORTGAGE SECURITIES TRU 15-NO...  054966AW   \n",
       "\n",
       "        crsp_company_key  \n",
       "col                       \n",
       "815795           4018701  "
      ]
     },
     "execution_count": 18,
     "metadata": {},
     "output_type": "execute_result"
    }
   ],
   "source": [
    "df_2 = df_2.assign(crsp_company_key = df_2.index)\n",
    "df_2.set_index('col',inplace=True)\n",
    "df_2.sample()"
   ]
  },
  {
   "cell_type": "markdown",
   "metadata": {},
   "source": [
    "## Create sparse matrix"
   ]
  },
  {
   "cell_type": "code",
   "execution_count": 19,
   "metadata": {},
   "outputs": [],
   "source": [
    "sparse_matrix = sparse.csr_matrix((df_sparse['percent_tna'].values, (df_sparse['row'].values, df_sparse['col'].values)))"
   ]
  },
  {
   "cell_type": "code",
   "execution_count": 20,
   "metadata": {},
   "outputs": [],
   "source": [
    "# Check if all dimensions match"
   ]
  },
  {
   "cell_type": "code",
   "execution_count": 21,
   "metadata": {
    "pycharm": {
     "is_executing": true
    }
   },
   "outputs": [
    {
     "name": "stdout",
     "output_type": "stream",
     "text": [
      "Number of fund/date combinations:             839,196\n",
      "Number of unique securities:                1,621,421\n",
      "Number of values in sparse matrix:        201,105,481\n",
      "\n",
      "Number of rows in fund info df:               839,196\n",
      "Number of rows in fund info df:             1,621,421\n",
      "\n",
      "Everything matches:                              True\n"
     ]
    }
   ],
   "source": [
    "print('Number of fund/date combinations:        {:12,d}'.format(sparse_matrix.shape[0]))\n",
    "print('Number of unique securities:             {:12,d}'.format(sparse_matrix.shape[1]))\n",
    "print('Number of non-zero values in sparse matrix:       {:12,d}'.format(sparse_matrix.getnnz()))\n",
    "print()\n",
    "print('Number of rows in fund info df:          {:12,d}'.format(df_1.shape[0]))\n",
    "print('Number of rows in fund info df:          {:12,d}'.format(df_2.shape[0]))\n",
    "print()\n",
    "match_test = (sparse_matrix.shape[0] == df_1.shape[0]) & (sparse_matrix.shape[1] == df_2.shape[0])\n",
    "print('Everything matches:                              {}'.format(match_test))"
   ]
  },
  {
   "cell_type": "markdown",
   "metadata": {},
   "source": [
    "## Save data"
   ]
  },
  {
   "cell_type": "markdown",
   "metadata": {},
   "source": [
    "#### Sparse matrix containing holdings"
   ]
  },
  {
   "cell_type": "code",
   "execution_count": 22,
   "metadata": {
    "pycharm": {
     "is_executing": true
    }
   },
   "outputs": [],
   "source": [
    "path = '../data/interim/holdings'\n",
    "sparse.save_npz(path, sparse_matrix)"
   ]
  },
  {
   "cell_type": "markdown",
   "metadata": {},
   "source": [
    "#### Fund/date info"
   ]
  },
  {
   "cell_type": "code",
   "execution_count": 23,
   "metadata": {
    "pycharm": {
     "is_executing": true
    }
   },
   "outputs": [],
   "source": [
    "path = '../data/interim/row_info.feather'\n",
    "feather.write_dataframe(df_1,path)"
   ]
  },
  {
   "cell_type": "markdown",
   "metadata": {},
   "source": [
    "#### Securities info"
   ]
  },
  {
   "cell_type": "code",
   "execution_count": 24,
   "metadata": {
    "pycharm": {
     "is_executing": true
    }
   },
   "outputs": [],
   "source": [
    "path = '../data/interim/col_info.feather'\n",
    "feather.write_dataframe(df_2,path)"
   ]
  }
 ],
 "metadata": {
  "kernelspec": {
   "display_name": "MT",
   "language": "python",
   "name": "mt"
  },
  "language_info": {
   "codemirror_mode": {
    "name": "ipython",
    "version": 3
   },
   "file_extension": ".py",
   "mimetype": "text/x-python",
   "name": "python",
   "nbconvert_exporter": "python",
   "pygments_lexer": "ipython3",
   "version": "3.7.4"
  },
  "pycharm": {
   "stem_cell": {
    "cell_type": "raw",
    "metadata": {
     "collapsed": false
    },
    "source": []
   }
  }
 },
 "nbformat": 4,
 "nbformat_minor": 2
}
