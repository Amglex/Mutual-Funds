{
 "cells": [
  {
   "cell_type": "code",
   "execution_count": 2,
   "metadata": {},
   "outputs": [],
   "source": [
    "import feather\n",
    "import numpy as np\n",
    "import pandas as pd\n",
    "import seaborn as sns\n",
    "import matplotlib.pyplot as plt\n",
    "\n",
    "from sklearn.utils import shuffle\n",
    "from sklearn.model_selection import train_test_split\n",
    "from scipy import sparse"
   ]
  },
  {
   "cell_type": "markdown",
   "metadata": {},
   "source": [
    "# Load Data"
   ]
  },
  {
   "cell_type": "markdown",
   "metadata": {},
   "source": [
    "## Load Sparse matrix"
   ]
  },
  {
   "cell_type": "code",
   "execution_count": 3,
   "metadata": {},
   "outputs": [],
   "source": [
    "path = 'data/large_sparse.npz'\n",
    "sparse_matrix = sparse.load_npz(path)"
   ]
  },
  {
   "cell_type": "code",
   "execution_count": 4,
   "metadata": {},
   "outputs": [
    {
     "name": "stdout",
     "output_type": "stream",
     "text": [
      "Loaded 738,860 rows and 2,382,968 columns of sparse data\n",
      "With 177,604,206 nonzero elements\n"
     ]
    }
   ],
   "source": [
    "print(('Loaded {:,} rows and {:,} columns of sparse data'.format(sparse_matrix.shape[0],sparse_matrix.shape[1])))\n",
    "print(('With {:,} nonzero elements'.format(sparse_matrix.getnnz())))"
   ]
  },
  {
   "cell_type": "markdown",
   "metadata": {
    "scrolled": true
   },
   "source": [
    "#plt.spy(sparse_matrix, markersize = 0.004)"
   ]
  },
  {
   "cell_type": "markdown",
   "metadata": {},
   "source": [
    "## Load dictionaries for large sparse matrix"
   ]
  },
  {
   "cell_type": "code",
   "execution_count": 5,
   "metadata": {},
   "outputs": [],
   "source": [
    "stock_map = np.load('data/stock_map.npy') \n",
    "stock_map = stock_map.item()\n",
    "\n",
    "port_no_map = np.load('data/port_no_map.npy') \n",
    "port_no_map = port_no_map.item()"
   ]
  },
  {
   "cell_type": "code",
   "execution_count": 6,
   "metadata": {},
   "outputs": [],
   "source": [
    "inv_stock_map = {v: k for k, v in stock_map.items()}"
   ]
  },
  {
   "cell_type": "markdown",
   "metadata": {},
   "source": [
    "## Load info_df"
   ]
  },
  {
   "cell_type": "code",
   "execution_count": 5,
   "metadata": {},
   "outputs": [],
   "source": [
    "path = 'data/info_df_total.feather'\n",
    "info_df = feather.read_dataframe(path)\n",
    "info_df = info_df[:-1]"
   ]
  },
  {
   "cell_type": "code",
   "execution_count": 6,
   "metadata": {},
   "outputs": [
    {
     "data": {
      "text/html": [
       "<div>\n",
       "<style scoped>\n",
       "    .dataframe tbody tr th:only-of-type {\n",
       "        vertical-align: middle;\n",
       "    }\n",
       "\n",
       "    .dataframe tbody tr th {\n",
       "        vertical-align: top;\n",
       "    }\n",
       "\n",
       "    .dataframe thead th {\n",
       "        text-align: right;\n",
       "    }\n",
       "</style>\n",
       "<table border=\"1\" class=\"dataframe\">\n",
       "  <thead>\n",
       "    <tr style=\"text-align: right;\">\n",
       "      <th></th>\n",
       "      <th>port_ID</th>\n",
       "      <th>port_no</th>\n",
       "      <th>report_dt</th>\n",
       "      <th>index_fund_flag</th>\n",
       "      <th>et_flag</th>\n",
       "      <th>crsp_obj_cd</th>\n",
       "      <th>mutual_fund</th>\n",
       "      <th>s_crsp_obj_cd</th>\n",
       "    </tr>\n",
       "  </thead>\n",
       "  <tbody>\n",
       "    <tr>\n",
       "      <th>108578</th>\n",
       "      <td>1030788-2013-10-31</td>\n",
       "      <td>1030788.0</td>\n",
       "      <td>2013-10-31</td>\n",
       "      <td>D</td>\n",
       "      <td>F</td>\n",
       "      <td>EDSI</td>\n",
       "      <td>N</td>\n",
       "      <td>Other</td>\n",
       "    </tr>\n",
       "    <tr>\n",
       "      <th>54452</th>\n",
       "      <td>1029375-2014-09-30</td>\n",
       "      <td>1029375.0</td>\n",
       "      <td>2014-09-30</td>\n",
       "      <td>E</td>\n",
       "      <td>F</td>\n",
       "      <td>EDYH</td>\n",
       "      <td>N</td>\n",
       "      <td>EDYH</td>\n",
       "    </tr>\n",
       "    <tr>\n",
       "      <th>9856</th>\n",
       "      <td>1028412-2013-05-31</td>\n",
       "      <td>1028412.0</td>\n",
       "      <td>2013-05-31</td>\n",
       "      <td>D</td>\n",
       "      <td>F</td>\n",
       "      <td>EDSM</td>\n",
       "      <td>N</td>\n",
       "      <td>Other</td>\n",
       "    </tr>\n",
       "  </tbody>\n",
       "</table>\n",
       "</div>"
      ],
      "text/plain": [
       "                   port_ID    port_no  report_dt index_fund_flag et_flag  \\\n",
       "108578  1030788-2013-10-31  1030788.0 2013-10-31               D       F   \n",
       "54452   1029375-2014-09-30  1029375.0 2014-09-30               E       F   \n",
       "9856    1028412-2013-05-31  1028412.0 2013-05-31               D       F   \n",
       "\n",
       "       crsp_obj_cd mutual_fund s_crsp_obj_cd  \n",
       "108578        EDSI           N         Other  \n",
       "54452         EDYH           N          EDYH  \n",
       "9856          EDSM           N         Other  "
      ]
     },
     "execution_count": 6,
     "metadata": {},
     "output_type": "execute_result"
    }
   ],
   "source": [
    "info_df.sample(3)"
   ]
  },
  {
   "cell_type": "markdown",
   "metadata": {},
   "source": [
    "# Prepare subset of sparse data"
   ]
  },
  {
   "cell_type": "code",
   "execution_count": 7,
   "metadata": {},
   "outputs": [],
   "source": [
    "sparse_matrix_ss = sparse_matrix[-200_000:-1]"
   ]
  },
  {
   "cell_type": "code",
   "execution_count": 8,
   "metadata": {},
   "outputs": [
    {
     "name": "stdout",
     "output_type": "stream",
     "text": [
      "Loaded 199,999 rows and 2,382,968 columns of sparse data\n",
      "With 42,841,300 nonzero elements\n"
     ]
    }
   ],
   "source": [
    "print(('Loaded {:,} rows and {:,} columns of sparse data'.format(sparse_matrix_ss.shape[0],sparse_matrix_ss.shape[1])))\n",
    "print(('With {:,} nonzero elements'.format(sparse_matrix_ss.getnnz())))"
   ]
  },
  {
   "cell_type": "markdown",
   "metadata": {
    "scrolled": true
   },
   "source": [
    "#plt.spy(sparse_matrix_ss, markersize = 0.004)"
   ]
  },
  {
   "cell_type": "markdown",
   "metadata": {},
   "source": [
    "# Sample selection function"
   ]
  },
  {
   "cell_type": "code",
   "execution_count": 9,
   "metadata": {},
   "outputs": [],
   "source": [
    "info_df_wo_na = info_df[info_df['crsp_obj_cd'].notna()]\n",
    "\n",
    "obj_per_unique_portno = info_df_wo_na[['port_no','s_crsp_obj_cd']]\n",
    "obj_per_unique_portno = obj_per_unique_portno.drop_duplicates(subset='port_no')"
   ]
  },
  {
   "cell_type": "code",
   "execution_count": 10,
   "metadata": {},
   "outputs": [],
   "source": [
    "labels = list(obj_per_unique_portno[\"s_crsp_obj_cd\"])"
   ]
  },
  {
   "cell_type": "code",
   "execution_count": 11,
   "metadata": {},
   "outputs": [],
   "source": [
    "X_train_s, X_test_s = train_test_split(\n",
    "    obj_per_unique_portno['port_no'],\n",
    "    test_size = 0.33,\n",
    "    stratify = labels,\n",
    "    random_state = 42)"
   ]
  },
  {
   "cell_type": "code",
   "execution_count": 12,
   "metadata": {},
   "outputs": [
    {
     "data": {
      "text/plain": [
       "set()"
      ]
     },
     "execution_count": 12,
     "metadata": {},
     "output_type": "execute_result"
    }
   ],
   "source": [
    "# Check if some portno appear in both train and test\n",
    "set(list(X_train_s)) & set(list(X_test_s))"
   ]
  },
  {
   "cell_type": "markdown",
   "metadata": {},
   "source": [
    "# Set up train/test boolean mask"
   ]
  },
  {
   "cell_type": "code",
   "execution_count": 28,
   "metadata": {},
   "outputs": [],
   "source": [
    "classes = ['EDCM', 'EDCS', \n",
    "           'EDSC', 'EDSC',\n",
    "           'EDYB', 'EDYG', 'EDYH', 'EDYI', 'EDYS',\n",
    "           'EF', 'EFRE', 'EFRM', 'EFSN']"
   ]
  },
  {
   "cell_type": "code",
   "execution_count": 13,
   "metadata": {},
   "outputs": [],
   "source": [
    "classes = ['EDYG', 'EDYB', 'EDYH', 'EDYS', 'EDYI']"
   ]
  },
  {
   "cell_type": "code",
   "execution_count": 14,
   "metadata": {
    "scrolled": true
   },
   "outputs": [],
   "source": [
    "train_mask = (info_df['port_no'].isin(list(X_train_s))) & (info_df['mutual_fund'] == 'Y') & (info_df['crsp_obj_cd'].isin(classes))\n",
    "test_mask = info_df['port_no'].isin(list(X_test_s)) & (info_df['mutual_fund'] == 'Y') & (info_df['crsp_obj_cd'].isin(classes))"
   ]
  },
  {
   "cell_type": "markdown",
   "metadata": {},
   "source": [
    "## Creat samples"
   ]
  },
  {
   "cell_type": "code",
   "execution_count": 15,
   "metadata": {},
   "outputs": [],
   "source": [
    "info_train = info_df[train_mask]\n",
    "info_test = info_df[test_mask]\n",
    "\n",
    "sparse_matrix_train = sparse_matrix_ss[train_mask.values,:]\n",
    "sparse_matrix_test = sparse_matrix_ss[test_mask.values,:]"
   ]
  },
  {
   "cell_type": "code",
   "execution_count": 16,
   "metadata": {},
   "outputs": [
    {
     "name": "stdout",
     "output_type": "stream",
     "text": [
      "Rows training: \n",
      "34,003 rows info\n",
      "34,003 rows data\n",
      "\n",
      "Rows testing: \n",
      "16,000 rows info\n",
      "16,000 rows data\n",
      "\n",
      "Total rows: 50,003\n"
     ]
    }
   ],
   "source": [
    "print('Rows training: \\n{:,} rows info\\n{:,} rows data'.format(info_train.shape[0],sparse_matrix_train.shape[0]))\n",
    "print('')\n",
    "print('Rows testing: \\n{:,} rows info\\n{:,} rows data'.format(info_test.shape[0],sparse_matrix_test.shape[0]))\n",
    "print('')\n",
    "print('Total rows: {:,}'.format(sparse_matrix_train.shape[0] + sparse_matrix_test.shape[0]))"
   ]
  },
  {
   "cell_type": "markdown",
   "metadata": {},
   "source": [
    "# Save info_train/test and sparse_matrix_train/test"
   ]
  },
  {
   "cell_type": "code",
   "execution_count": 17,
   "metadata": {},
   "outputs": [],
   "source": [
    "path = 'data/final/info_train.feather'\n",
    "feather.write_dataframe(info_train,path)\n",
    "\n",
    "path = 'data/final/info_test.feather'\n",
    "feather.write_dataframe(info_test,path)"
   ]
  },
  {
   "cell_type": "code",
   "execution_count": 18,
   "metadata": {},
   "outputs": [],
   "source": [
    "path = 'data/final/sparse_matrix_train.npz'\n",
    "sparse.save_npz(path,sparse_matrix_train)\n",
    "\n",
    "path = 'data/final/sparse_matrix_test.npz'\n",
    "sparse.save_npz(path,sparse_matrix_test)"
   ]
  },
  {
   "cell_type": "markdown",
   "metadata": {},
   "source": [
    "# Check samples agains Database (see extra notebook)"
   ]
  },
  {
   "cell_type": "code",
   "execution_count": null,
   "metadata": {},
   "outputs": [],
   "source": [
    "np.random.seed()\n",
    "test = np.random.randint(0,132000)\n",
    "test\n",
    "\n",
    "holdings = sparse_matrix_train[test].data\n",
    "indices = sparse_matrix_train[test].indices"
   ]
  },
  {
   "cell_type": "code",
   "execution_count": null,
   "metadata": {},
   "outputs": [],
   "source": [
    "print(info_train.iloc[test])\n",
    "\n",
    "print(len(holdings))\n",
    "\n",
    "list(zip( \n",
    "    list(map(inv_stock_map.get, indices)),\n",
    "    list(np.sort(holdings)[::-1])\n",
    "))"
   ]
  },
  {
   "cell_type": "markdown",
   "metadata": {},
   "source": [
    "# Plot col and row sums"
   ]
  },
  {
   "cell_type": "code",
   "execution_count": null,
   "metadata": {},
   "outputs": [],
   "source": [
    "col_sums = sparse_matrix_ss.sum(0).T\n",
    "row_sums = sparse_matrix_ss.sum(1)\n",
    "\n",
    "col_sums = pd.DataFrame(col_sums)\n",
    "\n",
    "row_sums = pd.DataFrame(row_sums)"
   ]
  },
  {
   "cell_type": "code",
   "execution_count": null,
   "metadata": {},
   "outputs": [],
   "source": [
    "n, bins, patches = plt.hist(row_sums.values, bins = 10, facecolor='g', alpha=0.75)\n",
    "\n",
    "plt.xlabel('Smarts')\n",
    "plt.title('Histogram of IQ')\n",
    "plt.grid(True)\n",
    "plt.show()"
   ]
  }
 ],
 "metadata": {
  "kernelspec": {
   "display_name": "Python 3",
   "language": "python",
   "name": "python3"
  },
  "language_info": {
   "codemirror_mode": {
    "name": "ipython",
    "version": 3
   },
   "file_extension": ".py",
   "mimetype": "text/x-python",
   "name": "python",
   "nbconvert_exporter": "python",
   "pygments_lexer": "ipython3",
   "version": "3.7.1"
  }
 },
 "nbformat": 4,
 "nbformat_minor": 2
}
