{
 "cells": [
  {
   "cell_type": "markdown",
   "metadata": {},
   "source": [
    "# Load different Tables from WRDS"
   ]
  },
  {
   "cell_type": "markdown",
   "metadata": {},
   "source": [
    "Large tables like the 50+ GB Holdings table were downloaded from WRDS using an FTP client"
   ]
  },
  {
   "cell_type": "markdown",
   "metadata": {},
   "source": [
    "## Holdings company information"
   ]
  },
  {
   "cell_type": "code",
   "execution_count": null,
   "metadata": {
    "pycharm": {
     "is_executing": false
    }
   },
   "outputs": [],
   "source": [
    "import wrds\n",
    "import feather\n",
    "import matplotlib.pyplot as plt\n",
    "\n",
    "# Connect to DB\n",
    "db = wrds.Connection(wrds_username='amglex')\n",
    "print('Successfully connected')"
   ]
  },
  {
   "cell_type": "markdown",
   "metadata": {},
   "source": [
    "## I. Download holdings data \n",
    "(only for tests / checks)"
   ]
  },
  {
   "cell_type": "code",
   "execution_count": null,
   "metadata": {},
   "outputs": [],
   "source": [
    "######################\n",
    "# Query the data\n",
    "######################\n",
    "\n",
    "print('Start downloading data ...')\n",
    "\n",
    "# SQL Query\n",
    "data_raw_df = db.raw_sql(\n",
    "    '''\n",
    "    SELECT distinct crsp_company_key, security_name, cusip, permno, permco\n",
    "    FROM holdings;\n",
    "    '''\n",
    ")\n",
    "\n",
    "print('SQL successful')\n",
    "\n",
    "print(data_raw_df.shape)\n",
    "\n",
    "print(data_raw_df.dtypes)\n",
    "\n",
    "print(data_raw_df.head())\n",
    "\n",
    "path = '../data/raw/holdings_co_info.feather'\n",
    "\n",
    "feather.write_dataframe(data_raw_df, path)\n",
    "\n",
    "print(\"Successfully saved data\")"
   ]
  },
  {
   "cell_type": "markdown",
   "metadata": {},
   "source": [
    "## II. Download fund information data"
   ]
  },
  {
   "cell_type": "code",
   "execution_count": null,
   "metadata": {},
   "outputs": [],
   "source": [
    "# Connect to DB\n",
    "db = wrds.Connection(wrds_username='amglex')\n",
    "print('Successfully connected')\n",
    "\n",
    "\n",
    "######################\n",
    "# Query the data\n",
    "######################\n",
    "\n",
    "\n",
    "print('Start downloading data ...')\n",
    "\n",
    "# SQL Query: Summary table //// OLD WAY\n",
    "# TODO Look ahead because of per_com?\n",
    "\n",
    "data_raw_df = db.raw_sql(\n",
    "    '''\n",
    "    SELECT crsp_fundno, crsp_portno, fund_name, chgdt, enddt, index_fund_flag, et_flag\n",
    "    FROM fund_hdr_hist;\n",
    "    '''\n",
    ")\n",
    "\n",
    "print('SQL successful')\n",
    "\n",
    "print(data_raw_df.shape)\n",
    "\n",
    "path = '../../data/raw/fund_hdr.feather'\n",
    "feather.write_dataframe(data_raw_df, path)\n",
    "\n",
    "print(\"Successfully saved data\")"
   ]
  },
  {
   "cell_type": "markdown",
   "metadata": {},
   "source": [
    "## III. Download fund summary data"
   ]
  },
  {
   "cell_type": "code",
   "execution_count": null,
   "metadata": {},
   "outputs": [],
   "source": [
    "######################\n",
    "# Query the data\n",
    "######################\n",
    "\n",
    "print('Start downloading data ...')\n",
    "\n",
    "# SQL Query\n",
    "data_raw_df = db.raw_sql(\n",
    "    '''\n",
    "    SELECT crsp_fundno, caldt, summary_period, nav_latest, nav_latest_dt, tna_latest, tna_latest_dt, per_com\n",
    "    FROM fund_summary\n",
    "    WHERE caldt > '2002-01-01';\n",
    "    '''\n",
    ")\n",
    "\n",
    "print('SQL successful')\n",
    "\n",
    "print(data_raw_df.shape)\n",
    "\n",
    "print(data_raw_df.dtypes)\n",
    "\n",
    "print(data_raw_df.head())\n",
    "\n",
    "feather.write_dataframe(data_raw_df, path)\n",
    "\n",
    "print(\"Successfully saved data\")"
   ]
  },
  {
   "cell_type": "markdown",
   "metadata": {},
   "source": [
    "## IV. Download fund style data"
   ]
  },
  {
   "cell_type": "code",
   "execution_count": null,
   "metadata": {},
   "outputs": [],
   "source": [
    "######################\n",
    "# Query the data\n",
    "######################\n",
    "\n",
    "print('Start downloading data ...')\n",
    "\n",
    "# SQL Query\n",
    "data_raw_df = db.raw_sql(\n",
    "    '''\n",
    "    SELECT crsp_fundno, begdt, enddt, lipper_class, lipper_obj_cd\n",
    "    FROM fund_style;\n",
    "    '''\n",
    ")\n",
    "\n",
    "print('SQL successful')\n",
    "\n",
    "print(data_raw_df.shape)\n",
    "print(data_raw_df.dtypes)\n",
    "print(data_raw_df.head())\n",
    "\n",
    "path = '../data/raw/fund_style.feather'\n",
    "feather.write_dataframe(data_raw_df, path)\n",
    "\n",
    "print(\"Successfully saved data\")"
   ]
  },
  {
   "cell_type": "markdown",
   "metadata": {},
   "source": [
    "## Test holdings data"
   ]
  },
  {
   "cell_type": "code",
   "execution_count": null,
   "metadata": {},
   "outputs": [],
   "source": [
    "######################\n",
    "# Query the data\n",
    "######################\n",
    "\n",
    "print('Start downloading data ...')\n",
    "\n",
    "# SQL Query\n",
    "data_raw_df = db.raw_sql(\n",
    "    '''\n",
    "    SELECT EXTRACT(YEAR FROM report_dt) as year, COUNT(DISTINCT crsp_portno) as count_portno\n",
    "    FROM holdings\n",
    "    GROUP BY year;\n",
    "    '''\n",
    ")\n",
    "\n",
    "print('SQL successful')\n",
    "\n",
    "print(data_raw_df.shape)\n",
    "\n",
    "print(data_raw_df.dtypes)\n",
    "\n",
    "print(data_raw_df.head())"
   ]
  },
  {
   "cell_type": "code",
   "execution_count": null,
   "metadata": {},
   "outputs": [],
   "source": [
    "plt.bar(data_raw_df['year'],data_raw_df['count_portno'])"
   ]
  },
  {
   "cell_type": "code",
   "execution_count": null,
   "metadata": {},
   "outputs": [],
   "source": []
  },
  {
   "cell_type": "code",
   "execution_count": null,
   "metadata": {},
   "outputs": [],
   "source": []
  },
  {
   "cell_type": "code",
   "execution_count": null,
   "metadata": {},
   "outputs": [],
   "source": [
    "# old sql\n",
    "\n",
    "'''\n",
    "    SELECT hdr.crsp_fundno, hdr.crsp_portno, hdr.fund_name,\n",
    "        first_offer_dt, index_fund_flag, et_flag,\n",
    "        begdt, enddt, lipper_class, avrcs\n",
    "    FROM fund_hdr hdr\n",
    "    FULL JOIN fund_style style\n",
    "    ON hdr.crsp_fundno = style.crsp_fundno\n",
    "    \n",
    "    LEFT JOIN   \n",
    "        (SELECT distinct \n",
    "            crsp_fundno, sum(per_com)/count(per_com) as avrcs\n",
    "        FROM fund_summary \n",
    "        GROUP BY crsp_fundno) b\n",
    "    ON style.crsp_fundno = b.crsp_fundno;\n",
    "    '''\n",
    "\n"
   ]
  }
 ],
 "metadata": {
  "kernelspec": {
   "display_name": "MT",
   "language": "python",
   "name": "mt"
  },
  "language_info": {
   "codemirror_mode": {
    "name": "ipython",
    "version": 3
   },
   "file_extension": ".py",
   "mimetype": "text/x-python",
   "name": "python",
   "nbconvert_exporter": "python",
   "pygments_lexer": "ipython3",
   "version": "3.7.4"
  },
  "pycharm": {
   "stem_cell": {
    "cell_type": "raw",
    "metadata": {
     "collapsed": false
    },
    "source": []
   }
  }
 },
 "nbformat": 4,
 "nbformat_minor": 2
}
