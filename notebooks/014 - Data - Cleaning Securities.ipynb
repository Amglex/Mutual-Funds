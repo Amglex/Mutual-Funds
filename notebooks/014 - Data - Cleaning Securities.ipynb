{
 "cells": [
  {
   "cell_type": "markdown",
   "metadata": {
    "toc": true
   },
   "source": [
    "<h1>Table of Contents<span class=\"tocSkip\"></span></h1>\n",
    "<div class=\"toc\"><ul class=\"toc-item\"><li><span><a href=\"#Clean\" data-toc-modified-id=\"Clean-1\"><span class=\"toc-item-num\">1&nbsp;&nbsp;</span>Clean</a></span></li><li><span><a href=\"#Grouping\" data-toc-modified-id=\"Grouping-2\"><span class=\"toc-item-num\">2&nbsp;&nbsp;</span>Grouping</a></span><ul class=\"toc-item\"><li><span><a href=\"#Group-based-on-different-columns\" data-toc-modified-id=\"Group-based-on-different-columns-2.1\"><span class=\"toc-item-num\">2.1&nbsp;&nbsp;</span>Group based on different columns</a></span></li><li><span><a href=\"#Combine-groupings-into-final-grouping\" data-toc-modified-id=\"Combine-groupings-into-final-grouping-2.2\"><span class=\"toc-item-num\">2.2&nbsp;&nbsp;</span>Combine groupings into final grouping</a></span></li></ul></li><li><span><a href=\"#Apply-grouping\" data-toc-modified-id=\"Apply-grouping-3\"><span class=\"toc-item-num\">3&nbsp;&nbsp;</span>Apply grouping</a></span><ul class=\"toc-item\"><li><span><a href=\"#Apply-on-holdings-data\" data-toc-modified-id=\"Apply-on-holdings-data-3.1\"><span class=\"toc-item-num\">3.1&nbsp;&nbsp;</span>Apply on holdings data</a></span></li><li><span><a href=\"#Apply-on-col_info\" data-toc-modified-id=\"Apply-on-col_info-3.2\"><span class=\"toc-item-num\">3.2&nbsp;&nbsp;</span>Apply on col_info</a></span></li></ul></li><li><span><a href=\"#Merging-with-CCM-Table\" data-toc-modified-id=\"Merging-with-CCM-Table-4\"><span class=\"toc-item-num\">4&nbsp;&nbsp;</span>Merging with CCM Table</a></span></li><li><span><a href=\"#Inspecting-effect-of-cleaning\" data-toc-modified-id=\"Inspecting-effect-of-cleaning-5\"><span class=\"toc-item-num\">5&nbsp;&nbsp;</span>Inspecting effect of cleaning</a></span><ul class=\"toc-item\"><li><span><a href=\"#General-Overview\" data-toc-modified-id=\"General-Overview-5.1\"><span class=\"toc-item-num\">5.1&nbsp;&nbsp;</span>General Overview</a></span></li><li><span><a href=\"#Overview-of-cleaning-the-security-data-by-name\" data-toc-modified-id=\"Overview-of-cleaning-the-security-data-by-name-5.2\"><span class=\"toc-item-num\">5.2&nbsp;&nbsp;</span>Overview of cleaning the security data by name</a></span></li><li><span><a href=\"#Overview-of-cleaning-by-cusip\" data-toc-modified-id=\"Overview-of-cleaning-by-cusip-5.3\"><span class=\"toc-item-num\">5.3&nbsp;&nbsp;</span>Overview of cleaning by cusip</a></span></li><li><span><a href=\"#Overview-of-cleaning-by-permno\" data-toc-modified-id=\"Overview-of-cleaning-by-permno-5.4\"><span class=\"toc-item-num\">5.4&nbsp;&nbsp;</span>Overview of cleaning by permno</a></span></li></ul></li><li><span><a href=\"#Distribution-of-cusip-and-crsp_company_key\" data-toc-modified-id=\"Distribution-of-cusip-and-crsp_company_key-6\"><span class=\"toc-item-num\">6&nbsp;&nbsp;</span>Distribution of cusip and crsp_company_key</a></span></li><li><span><a href=\"#Holdings-Tests\" data-toc-modified-id=\"Holdings-Tests-7\"><span class=\"toc-item-num\">7&nbsp;&nbsp;</span>Holdings Tests</a></span></li></ul></div>"
   ]
  },
  {
   "cell_type": "markdown",
   "metadata": {},
   "source": [
    "Findings:\n",
    "\n",
    "Nearly all 'ord' stocks don't have perno or permco\n",
    "\n",
    "Some stocks appear twice (at least based on name)"
   ]
  },
  {
   "cell_type": "markdown",
   "metadata": {},
   "source": [
    "# Analysis of holdings"
   ]
  },
  {
   "cell_type": "markdown",
   "metadata": {},
   "source": [
    "Description:\n",
    "\n"
   ]
  },
  {
   "cell_type": "code",
   "execution_count": null,
   "metadata": {},
   "outputs": [],
   "source": [
    "import feather\n",
    "import numpy as np\n",
    "import pandas as pd\n",
    "import pandasql as ps\n",
    "\n",
    "from scipy import sparse\n",
    "\n",
    "from sklearn.preprocessing import normalize, minmax_scale\n",
    "\n",
    "import matplotlib.pyplot as plt"
   ]
  },
  {
   "cell_type": "code",
   "execution_count": null,
   "metadata": {},
   "outputs": [],
   "source": [
    "### Returns\n",
    "path = '../data/processed/returns.feather'\n",
    "returns = feather.read_dataframe(path)\n",
    "returns = returns.rename(columns = {'caldt' : 'report_dt'})\n",
    "returns = returns.assign(year = returns['report_dt'].dt.year)\n",
    "\n",
    "### row_info\n",
    "path = '../data/processed/row_info.feather'\n",
    "row_info = feather.read_dataframe(path)\n",
    "\n",
    "### col_info\n",
    "path = '../data/processed/col_info.feather'\n",
    "col_info = feather.read_dataframe(path)\n",
    "\n",
    "### Holdings\n",
    "path = '../data/processed/holdings.npz'\n",
    "holdings = sparse.load_npz(path)\n",
    "\n",
    "## Linktable\n",
    "path = '../data/raw/ccm_link.feather'\n",
    "ccm_link = feather.read_dataframe(path)"
   ]
  },
  {
   "cell_type": "markdown",
   "metadata": {},
   "source": [
    "## Clean"
   ]
  },
  {
   "cell_type": "code",
   "execution_count": null,
   "metadata": {},
   "outputs": [],
   "source": [
    "print('Shape of holdings:                {:10,d} / {:10,d}'.format(holdings.shape[0],holdings.shape[1]))\n",
    "print('Numer of unique securities:                    {:10,d}'.format(col_info.shape[0]))\n",
    "print('Numer of unique funds:                         {:10,d}'.format(row_info.shape[0]))"
   ]
  },
  {
   "cell_type": "code",
   "execution_count": null,
   "metadata": {},
   "outputs": [],
   "source": [
    "holdings.eliminate_zeros()\n",
    "holdings_b = sparse.csr_matrix(holdings, copy=True)\n",
    "holdings_b.data = np.ones(len(holdings.data))\n",
    "holdings_b.eliminate_zeros()"
   ]
  },
  {
   "cell_type": "code",
   "execution_count": null,
   "metadata": {},
   "outputs": [],
   "source": [
    "sum_sec = pd.DataFrame(holdings_b.sum(0).T).values\n",
    "col_mask = (sum_sec >= 2).flatten()\n",
    "\n",
    "col_info = col_info[col_mask]\n",
    "col_info.reset_index(drop=True,inplace=True)\n",
    "col_info = col_info.assign(col = col_info.index)\n",
    "\n",
    "holdings = holdings.tocsc()\n",
    "holdings = holdings[:,col_mask]\n",
    "holdings = holdings.tocsr()"
   ]
  },
  {
   "cell_type": "code",
   "execution_count": null,
   "metadata": {},
   "outputs": [],
   "source": [
    "holdings_b = holdings\n",
    "print('Shape of holdings:                {:10,d} / {:10,d}'.format(holdings.shape[0],holdings.shape[1]))\n",
    "print('Numer of unique securities:                    {:10,d}'.format(col_info.shape[0]))\n",
    "print('Numer of unique funds:                         {:10,d}'.format(row_info.shape[0]))"
   ]
  },
  {
   "cell_type": "code",
   "execution_count": null,
   "metadata": {},
   "outputs": [],
   "source": [
    "col_info['sum'] = pd.DataFrame(holdings.sum(0).T).values\n",
    "\n",
    "col_info = col_info.sort_values(['cusip','permco'])\n",
    "col_info = col_info.reset_index(drop=True)\n",
    "col_info = col_info.assign(col=col_info.index)\n",
    "\n",
    "col_info['cusip_short'] = col_info['cusip'].astype(str).str[:7]\n",
    "\n",
    "col_info['cusip_short_f'] = col_info['cusip_short'].astype(str).str.replace('[0-9]$','@')\n",
    "col_info['cusip_short_f'] = col_info['cusip_short_f'].astype(str).str.replace('[A-Z]$','D')\n",
    "col_info['cusip_short_f'] = col_info['cusip_short_f'].astype(str).str.replace('@','E')\n",
    "\n",
    "col_info['cusip_short_f'] = col_info['cusip_short_f'].replace('None',np.nan)\n",
    "\n",
    "col_info['type'] = col_info['cusip_short'].astype(str).str[6:7]\n",
    "\n",
    "# Replacing common name suffixes\n",
    "col_info['security_name_adj'] = col_info['security_name'].str.replace(' ORD$','')\n",
    "col_info['security_name_adj'] = col_info['security_name_adj'].str.replace(' EQUITY OPTION$','')\n",
    "col_info['security_name_adj'] = col_info['security_name_adj'].str.replace(' EQUITY SWAP$','')\n",
    "col_info['security_name_adj'] = col_info['security_name_adj'].str.replace(' CFD$','')\n",
    "col_info['security_name_adj'] = col_info['security_name_adj'].str.replace(' CALL$','')\n",
    "col_info['security_name_adj'] = col_info['security_name_adj'].str.replace(' PUT$','')\n",
    "col_info['security_name_adj'] = col_info['security_name_adj'].str.replace(' PFD$','')\n",
    "col_info['security_name_adj'] = col_info['security_name_adj'].str.replace(' TOTAL RETURN EQUITY SWAP$','')\n",
    "col_info['security_name_adj'] = col_info['security_name_adj'].str.replace(' TRS$','')\n",
    "col_info['security_name_adj'] = col_info['security_name_adj'].str.replace(' DR$','')\n",
    "\n",
    "col_info = col_info[['security_name', 'security_name_adj', 'crsp_company_key',\n",
    "                     'cusip', 'cusip_short', 'cusip_short_f', \n",
    "                     'permno', 'permco', 'ticker', 'sum','col']]"
   ]
  },
  {
   "cell_type": "code",
   "execution_count": null,
   "metadata": {},
   "outputs": [],
   "source": [
    "col_info[col_info['security_name'].str.contains('GENERAL MOTORS')].sort_values('sum')"
   ]
  },
  {
   "cell_type": "markdown",
   "metadata": {},
   "source": [
    "## Grouping"
   ]
  },
  {
   "cell_type": "markdown",
   "metadata": {},
   "source": [
    "### Group based on different columns"
   ]
  },
  {
   "cell_type": "code",
   "execution_count": null,
   "metadata": {},
   "outputs": [],
   "source": [
    "col_info.sample()"
   ]
  },
  {
   "cell_type": "code",
   "execution_count": null,
   "metadata": {},
   "outputs": [],
   "source": [
    "# Based on same cusip\n",
    "cusip_col = col_info.groupby('cusip_short_f')[['col']].first()\n",
    "cusip_col.columns = ['col_n1']\n",
    "col_info = col_info.merge(cusip_col, how= 'left', left_on='cusip_short_f', right_on= cusip_col.index)\n",
    "\n",
    "# Based on same Permco\n",
    "cusip_col = col_info.groupby('permco')[['col']].first()\n",
    "cusip_col.columns = ['col_n2']\n",
    "col_info = col_info.merge(cusip_col, how= 'left', left_on='permco', right_on= cusip_col.index)\n",
    "\n",
    "# Based on same Ticker\n",
    "cusip_col = col_info.groupby('ticker')[['col']].first()\n",
    "cusip_col.columns = ['col_n3']\n",
    "col_info = col_info.merge(cusip_col, how= 'left', left_on='ticker', right_on= cusip_col.index)\n",
    "\n",
    "# Based on same Name\n",
    "cusip_col = col_info.groupby('security_name_adj')[['col']].first()\n",
    "cusip_col.columns = ['col_n4']\n",
    "col_info = col_info.merge(cusip_col, how= 'left', left_on='security_name_adj', right_on= cusip_col.index)"
   ]
  },
  {
   "cell_type": "markdown",
   "metadata": {},
   "source": [
    "### Combine groupings into final grouping"
   ]
  },
  {
   "cell_type": "code",
   "execution_count": null,
   "metadata": {},
   "outputs": [],
   "source": [
    "# Replace col_final with cols based on cusip if cusip is not missing\n",
    "mask = col_info['cusip_short_f'].notna()\n",
    "col_info.loc[mask,'col_final'] = col_info.loc[mask,'col_n1']\n",
    "\n",
    "# Replace col_final with cols based on permco if permco is not missing & col_final is still missing\n",
    "mask = col_info.query(''' (permco == permco) & (col_final != col_final)''').index\n",
    "col_info.loc[mask,'col_final'] = col_info.loc[mask,'col_n2']\n",
    "\n",
    "# # Replace col_final with cols based on ticker if ticker is not missing & col_final is still missing\n",
    "# mask = col_info.query(''' (ticker == ticker) & (col_final != col_final)''').index\n",
    "# col_info.loc[mask,'col_final'] = col_info.loc[mask,'col_n3']\n",
    "\n",
    "# Replace col_final with cols based on security_name if security_name is not missing & col_final is still missing\n",
    "mask = col_info.query(''' (security_name_adj == security_name_adj) & (col_final != col_final)''').index\n",
    "col_info.loc[mask,'col_final'] = col_info.loc[mask,'col_n4']"
   ]
  },
  {
   "cell_type": "code",
   "execution_count": null,
   "metadata": {},
   "outputs": [],
   "source": [
    "t = 2000\n",
    "col_info.sort_values('col').sort_values('security_name').iloc[t:t+10,:]"
   ]
  },
  {
   "cell_type": "markdown",
   "metadata": {},
   "source": [
    "## Apply grouping"
   ]
  },
  {
   "cell_type": "code",
   "execution_count": null,
   "metadata": {},
   "outputs": [],
   "source": [
    "col_info.shape[0]"
   ]
  },
  {
   "cell_type": "markdown",
   "metadata": {},
   "source": [
    "### Apply on holdings data"
   ]
  },
  {
   "cell_type": "code",
   "execution_count": null,
   "metadata": {},
   "outputs": [],
   "source": [
    "holdings_df = pd.DataFrame(holdings.todense()).T\n",
    "holdings_df = holdings_df.groupby(col_info['col_final']).sum()\n",
    "holdings_df = holdings_df.T\n",
    "\n",
    "holdings_df = sparse.csr_matrix(holdings_df)"
   ]
  },
  {
   "cell_type": "code",
   "execution_count": null,
   "metadata": {},
   "outputs": [],
   "source": [
    "holdings"
   ]
  },
  {
   "cell_type": "code",
   "execution_count": null,
   "metadata": {},
   "outputs": [],
   "source": [
    "holdings_df"
   ]
  },
  {
   "cell_type": "code",
   "execution_count": null,
   "metadata": {},
   "outputs": [],
   "source": [
    "holdings = holdings_df"
   ]
  },
  {
   "cell_type": "markdown",
   "metadata": {},
   "source": [
    "### Apply on col_info"
   ]
  },
  {
   "cell_type": "code",
   "execution_count": null,
   "metadata": {},
   "outputs": [],
   "source": [
    "col_info = col_info.sort_values(['permco','cusip_short_f','security_name']).groupby('col_final').first()\n",
    "col_info['sum'] = pd.DataFrame(holdings.sum(0).T).values"
   ]
  },
  {
   "cell_type": "code",
   "execution_count": null,
   "metadata": {},
   "outputs": [],
   "source": [
    "col_info.shape[0]"
   ]
  },
  {
   "cell_type": "markdown",
   "metadata": {},
   "source": [
    "## Merging with CCM Table"
   ]
  },
  {
   "cell_type": "code",
   "execution_count": null,
   "metadata": {},
   "outputs": [],
   "source": [
    "## Linktable\n",
    "path = '../data/raw/ccm_link.feather'\n",
    "ccm_link = feather.read_dataframe(path)"
   ]
  },
  {
   "cell_type": "code",
   "execution_count": null,
   "metadata": {},
   "outputs": [],
   "source": [
    "# Fix data types\n",
    "ccm_link['gvkey'] = ccm_link['gvkey'].astype(float)\n",
    "col_info['permno'] = col_info['permno'].astype(float)\n",
    "col_info['permco'] = col_info['permco'].astype(float)\n",
    "\n",
    "columns = ['linkdt','linkenddt']\n",
    "ccm_link[columns] = ccm_link[columns].apply(pd.to_datetime)\n",
    "\n",
    "mask = ccm_link['linkenddt'].isna()\n",
    "ccm_link.loc[mask,'linkenddt'] = pd.to_datetime('2019-12-31')"
   ]
  },
  {
   "cell_type": "code",
   "execution_count": null,
   "metadata": {},
   "outputs": [],
   "source": [
    "# Delet unnecessary columns\n",
    "ccm_link = ccm_link.dropna(subset = ['lpermno','lpermco'], how = 'all')\n",
    "\n",
    "linktypes = ['LU','LC'] # KEEP reliable LINKS only\n",
    "linkprims = ['P','C']    # KEEP primary Links\n",
    "ccm_link.query(''' linktype in @linktypes and linkprim in @linkprims ''', inplace = True)"
   ]
  },
  {
   "cell_type": "code",
   "execution_count": null,
   "metadata": {},
   "outputs": [],
   "source": [
    "ccm_link.query(''' linkenddt > 2015 ''').shape"
   ]
  },
  {
   "cell_type": "code",
   "execution_count": null,
   "metadata": {},
   "outputs": [],
   "source": [
    "col_info = col_info.assign(report_dt = pd.to_datetime('2010-01-01'))"
   ]
  },
  {
   "cell_type": "code",
   "execution_count": null,
   "metadata": {},
   "outputs": [],
   "source": [
    "sqlcode = '''\n",
    "    SELECT *\n",
    "    FROM col_info \n",
    "    LEFT JOIN ccm_link \n",
    "        ON permno = lpermno\n",
    "        AND report_dt between linkdt AND linkenddt;\n",
    "'''\n",
    "\n",
    "col_info_m = ps.sqldf(sqlcode,locals())"
   ]
  },
  {
   "cell_type": "code",
   "execution_count": null,
   "metadata": {},
   "outputs": [],
   "source": [
    "columns = [\n",
    "    'security_name',\n",
    "    'cusip', 'cusip_short_f', 'permno', 'permco', 'gvkey', 'ticker',\n",
    "    'sum', \n",
    "]\n",
    "\n",
    "col_info_m = col_info_m[columns]"
   ]
  },
  {
   "cell_type": "code",
   "execution_count": null,
   "metadata": {},
   "outputs": [],
   "source": [
    "print('Percentage of identifiers missing:')\n",
    "np.sum(col_info_m[['cusip', 'cusip_short_f', 'permno', 'permco', 'gvkey', 'ticker']].isna()) / col_info_m.shape[0] * 100"
   ]
  },
  {
   "cell_type": "code",
   "execution_count": null,
   "metadata": {},
   "outputs": [],
   "source": [
    "print('Percentage of tna where identifier is not missing:')\n"
   ]
  },
  {
   "cell_type": "code",
   "execution_count": null,
   "metadata": {},
   "outputs": [],
   "source": [
    "cols = ['cusip', 'cusip_short_f', 'permno', 'permco', 'gvkey', 'ticker']\n",
    "\n",
    "for col in cols:\n",
    "    mask = col_info_m[col].notna()\n",
    "    temp = col_info_m.loc[mask,'sum'].sum() / col_info_m.loc[:,'sum'].sum() * 100\n",
    "    print('{:<30s}{:>5.2f}%'.format(col,temp))"
   ]
  },
  {
   "cell_type": "code",
   "execution_count": null,
   "metadata": {},
   "outputs": [],
   "source": [
    "col_info_m"
   ]
  },
  {
   "cell_type": "code",
   "execution_count": null,
   "metadata": {},
   "outputs": [],
   "source": [
    "col_info.shape"
   ]
  },
  {
   "cell_type": "code",
   "execution_count": null,
   "metadata": {},
   "outputs": [],
   "source": [
    "col_info_m.shape"
   ]
  },
  {
   "cell_type": "code",
   "execution_count": null,
   "metadata": {},
   "outputs": [],
   "source": [
    "col_info_fm.drop_duplicates().shape"
   ]
  },
  {
   "cell_type": "markdown",
   "metadata": {},
   "source": [
    "## Inspecting effect of cleaning"
   ]
  },
  {
   "cell_type": "markdown",
   "metadata": {},
   "source": [
    "### General Overview"
   ]
  },
  {
   "cell_type": "code",
   "execution_count": null,
   "metadata": {},
   "outputs": [],
   "source": [
    "col_info.shape"
   ]
  },
  {
   "cell_type": "code",
   "execution_count": null,
   "metadata": {},
   "outputs": [],
   "source": [
    "mask = col_info['sum'] != 0"
   ]
  },
  {
   "cell_type": "code",
   "execution_count": null,
   "metadata": {},
   "outputs": [],
   "source": [
    "col_names = col_info.loc[mask,'col']\n",
    "print('Number of unique securities                    {:<6,d}'.format(col_names.unique().shape[0]))\n",
    "\n",
    "col_names = col_info.loc[mask,'col_final']\n",
    "print('Number of unique securities                    {:<6,d}'.format(col_names.unique().shape[0]))"
   ]
  },
  {
   "cell_type": "markdown",
   "metadata": {},
   "source": [
    "### Overview of cleaning the security data by name"
   ]
  },
  {
   "cell_type": "code",
   "execution_count": null,
   "metadata": {},
   "outputs": [],
   "source": [
    "col_names = col_info['security_name']\n",
    "print('Number of securities                           {:<6,d}'.format(col_names.shape[0]))\n",
    "print('Number of unique securities                    {:<6,d}'.format(col_names.unique().shape[0]))"
   ]
  },
  {
   "cell_type": "code",
   "execution_count": null,
   "metadata": {},
   "outputs": [],
   "source": [
    "col_names = col_names.str.replace(' ADR$','')\n",
    "col_names = col_names.str.replace(' DR$','')\n",
    "print('Number of unique securities without ORD        {:<6,d}'.format(col_names.unique().shape[0]))"
   ]
  },
  {
   "cell_type": "code",
   "execution_count": null,
   "metadata": {},
   "outputs": [],
   "source": [
    "#col_info['col_n'] = col_info[['cusip_short_f','col']].groupby('cusip_short_f').apply(lambda x : x.head(1).repeat(x.shape[0])).values\n",
    "col_info['col_n'] = col_info[['cusip_short_f','col']].groupby('cusip_short_f').agg('first')"
   ]
  },
  {
   "cell_type": "code",
   "execution_count": null,
   "metadata": {},
   "outputs": [],
   "source": [
    "a = col_names[col_names.str.contains('Fund', case = False)]\n",
    "print('Number of securities with fund in the name              {:<6,d}'.format(a.shape[0]))"
   ]
  },
  {
   "cell_type": "markdown",
   "metadata": {},
   "source": [
    "### Overview of cleaning by cusip"
   ]
  },
  {
   "cell_type": "code",
   "execution_count": null,
   "metadata": {},
   "outputs": [],
   "source": [
    "col_names = col_info['cusip']\n",
    "print('Number of securities                               {:>10,d}'.format(col_names.shape[0]))\n",
    "print('Number of unique securities by cusip               {:>10,d}'.format(col_names.unique().shape[0]))\n",
    "col_names = col_info['cusip_short']    \n",
    "print('Number of unique securities by short cusip         {:>10,d}'.format(col_names.unique().shape[0]))\n",
    "\n",
    "col_names = col_info['cusip_short_f']\n",
    "print('Number of unique securities by short cusip D/E     {:>10,d}'.format(col_names.unique().shape[0]))"
   ]
  },
  {
   "cell_type": "markdown",
   "metadata": {},
   "source": [
    "### Overview of cleaning by permno"
   ]
  },
  {
   "cell_type": "code",
   "execution_count": null,
   "metadata": {},
   "outputs": [],
   "source": [
    "col_names = col_info['permno']\n",
    "print('Number of securities                               {:>6,d}'.format(col_names.shape[0]))\n",
    "print('Number of unique securities by permno              {:>6,d}'.format(col_names.unique().shape[0]))\n",
    "perc = col_info.loc[~col_info['permno'].isna(),'sum'].sum() / col_info.loc[:,'sum'].sum() * 100\n",
    "print('Percent of holdings in securities with permno      {:>6.2f}%'.format(perc))\n",
    "\n"
   ]
  },
  {
   "cell_type": "code",
   "execution_count": null,
   "metadata": {},
   "outputs": [],
   "source": []
  },
  {
   "cell_type": "code",
   "execution_count": null,
   "metadata": {},
   "outputs": [],
   "source": []
  },
  {
   "cell_type": "code",
   "execution_count": null,
   "metadata": {},
   "outputs": [],
   "source": []
  },
  {
   "cell_type": "code",
   "execution_count": null,
   "metadata": {},
   "outputs": [],
   "source": []
  },
  {
   "cell_type": "code",
   "execution_count": null,
   "metadata": {},
   "outputs": [],
   "source": []
  },
  {
   "cell_type": "markdown",
   "metadata": {},
   "source": [
    "## Distribution of cusip and crsp_company_key"
   ]
  },
  {
   "cell_type": "code",
   "execution_count": null,
   "metadata": {},
   "outputs": [],
   "source": [
    "print('Percentage of identifiers missing:')\n",
    "np.sum(col_info_c[['crsp_company_key','cusip_short_f','permno','permco','ticker']].isna()) / col_info.shape[0] * 100"
   ]
  },
  {
   "cell_type": "code",
   "execution_count": null,
   "metadata": {},
   "outputs": [],
   "source": [
    "print('Percentage of identifiers missing:')\n",
    "np.sum(col_info_c.loc[mask,['crsp_company_key','cusip_short_f','permno','permco','ticker']].isna()) / col_info_c.loc[mask].shape[0] * 100"
   ]
  },
  {
   "cell_type": "markdown",
   "metadata": {},
   "source": [
    "## Holdings Tests"
   ]
  },
  {
   "cell_type": "code",
   "execution_count": null,
   "metadata": {},
   "outputs": [],
   "source": [
    "# Generate sparse holdings matrix with boolean values instead of more precise percent_tna values\n",
    "holdings_b = sparse.csr_matrix(holdings_ft, copy=True)\n",
    "holdings_b.data = np.ones(len(holdings_ft.data))"
   ]
  },
  {
   "cell_type": "code",
   "execution_count": null,
   "metadata": {},
   "outputs": [],
   "source": [
    "def most_common_stocks():\n",
    "    # Change if you want to sum percentages instead of boolean values\n",
    "    holdings_coo = holdings_b.tocoo()\n",
    "\n",
    "    df_sparse = pd.DataFrame({'row' : holdings_coo.row,\n",
    "                              'col' : holdings_coo.col,\n",
    "                              'data' : holdings_coo.data})\n",
    "\n",
    "    df_sparse = df_sparse.merge(row_info_f[['year','row','lipper_class']],how='left',on='row')\n",
    "\n",
    "    no_unique_funds = row_info_f.shape[0]\n",
    "\n",
    "    sum_col = (df_sparse\n",
    "               .groupby(by = ['col'])\n",
    "               .sum()\n",
    "               .sort_values('data',ascending = False)\n",
    "               .join(col_info_f[['security_name','col','crsp_company_key','cusip','permno','permco']],how='left')\n",
    "               .assign(percent = lambda x:  x.data / no_unique_funds * 100)\n",
    "               .drop(columns=['row','year','col'])\n",
    "               .reset_index(drop=True)\n",
    "               .head(100))\n",
    "\n",
    "    print(\n",
    "        'Most held stocks: ','\\n\\n'\n",
    "        'Number of funds:    {}'.format(no_unique_funds),'\\n'\n",
    "    )\n",
    "\n",
    "    return sum_col"
   ]
  },
  {
   "cell_type": "code",
   "execution_count": null,
   "metadata": {},
   "outputs": [],
   "source": [
    "most_common_stocks()"
   ]
  },
  {
   "cell_type": "code",
   "execution_count": null,
   "metadata": {},
   "outputs": [],
   "source": [
    "holdings_summary = pd.DataFrame(holdings_ft.sum(0).T)\n",
    "holdings_summary.columns = ['total']\n",
    "holdings_summary.shape"
   ]
  }
 ],
 "metadata": {
  "hide_input": false,
  "kernelspec": {
   "display_name": "Python 3",
   "language": "python",
   "name": "python3"
  },
  "language_info": {
   "codemirror_mode": {
    "name": "ipython",
    "version": 3
   },
   "file_extension": ".py",
   "mimetype": "text/x-python",
   "name": "python",
   "nbconvert_exporter": "python",
   "pygments_lexer": "ipython3",
   "version": "3.7.4"
  },
  "notify_time": "0",
  "toc": {
   "base_numbering": 1,
   "nav_menu": {},
   "number_sections": true,
   "sideBar": true,
   "skip_h1_title": true,
   "title_cell": "Table of Contents",
   "title_sidebar": "Contents",
   "toc_cell": true,
   "toc_position": {
    "height": "calc(100% - 180px)",
    "left": "10px",
    "top": "150px",
    "width": "165px"
   },
   "toc_section_display": true,
   "toc_window_display": true
  }
 },
 "nbformat": 4,
 "nbformat_minor": 2
}
