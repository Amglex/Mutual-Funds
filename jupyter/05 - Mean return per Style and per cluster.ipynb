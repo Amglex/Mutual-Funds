{
 "cells": [
  {
   "cell_type": "markdown",
   "metadata": {},
   "source": [
    "## Description"
   ]
  },
  {
   "cell_type": "markdown",
   "metadata": {},
   "source": [
    "- Combine return data, fund_info data and holdings data\n",
    "- calculate \n",
    "\n",
    "\n"
   ]
  },
  {
   "cell_type": "code",
   "execution_count": 1,
   "metadata": {},
   "outputs": [],
   "source": [
    "import feather\n",
    "import numpy as np\n",
    "import pandas as pd\n",
    "import seaborn as sns\n",
    "import matplotlib.pyplot as plt\n",
    "\n",
    "from scipy import sparse"
   ]
  },
  {
   "cell_type": "markdown",
   "metadata": {},
   "source": [
    "## Load Sparse matrix"
   ]
  },
  {
   "cell_type": "code",
   "execution_count": 4,
   "metadata": {},
   "outputs": [
    {
     "name": "stdout",
     "output_type": "stream",
     "text": [
      "Rows training: \n",
      "33,976 rows info\n",
      "33,976 rows data\n",
      "\n",
      "Rows testing: \n",
      "15,993 rows info\n",
      "15,993 rows data\n",
      "\n",
      "Total rows: 49,969\n"
     ]
    }
   ],
   "source": [
    "path = '../data/final/info_train.feather'\n",
    "info_train = feather.read_dataframe(path)\n",
    "\n",
    "path = '../data/final/info_test.feather'\n",
    "info_test = feather.read_dataframe(path)\n",
    "\n",
    "path = '../data/final/sparse_matrix_train.npz'\n",
    "sparse_matrix_train = sparse.load_npz(path)\n",
    "\n",
    "path = '../data/final/sparse_matrix_test.npz'\n",
    "sparse_matrix_test = sparse.load_npz(path)\n",
    "\n",
    "X_train = sparse_matrix_train\n",
    "X_test = sparse_matrix_test\n",
    "\n",
    "y_train = list(info_train['s_crsp_obj_cd'])\n",
    "y_test = list(info_test['s_crsp_obj_cd'])\n",
    "\n",
    "data_train = np.array(X_train.sum(1)).flatten()\n",
    "data_test = np.array(X_test.sum(1)).flatten()\n",
    "\n",
    "TOL = 300\n",
    "\n",
    "index_train = np.abs(data_train) < TOL\n",
    "index_test = np.abs(data_test) < TOL\n",
    "\n",
    "X_train = X_train[index_train.T]\n",
    "X_test = X_test[index_test.T]\n",
    "\n",
    "y_train = list(d for d, s in zip(y_train, index_train) if s)\n",
    "y_test = list(d for d, s in zip(y_test, index_test) if s)\n",
    "\n",
    "info_train = info_train[index_train.T]\n",
    "info_test = info_test[index_test.T]\n",
    "\n",
    "X_total = sparse.vstack((X_train,X_test))\n",
    "y_total = y_train + y_test\n",
    "\n",
    "groups = info_train.groupby(['port_no']).ngroup()\n",
    "\n",
    "print('Rows training: \\n{:,} rows info\\n{:,} rows data'.format(len(y_train),X_train.shape[0]))\n",
    "print('')\n",
    "print('Rows testing: \\n{:,} rows info\\n{:,} rows data'.format(len(y_test),X_test.shape[0]))\n",
    "print('')\n",
    "print('Total rows: {:,}'.format(X_train.shape[0] + X_test.shape[0]))"
   ]
  },
  {
   "cell_type": "markdown",
   "metadata": {},
   "source": [
    "## Scale data"
   ]
  },
  {
   "cell_type": "code",
   "execution_count": 637,
   "metadata": {},
   "outputs": [],
   "source": [
    "scaler = StandardScaler(with_mean=False)\n",
    "\n",
    "# Fit on training set only.\n",
    "scaler.fit(X_train)\n",
    "\n",
    "# Apply transform to both the training set and the test set.\n",
    "X_train = scaler.transform(X_train)\n",
    "X_test = scaler.transform(X_test)"
   ]
  },
  {
   "cell_type": "markdown",
   "metadata": {},
   "source": [
    "# Models"
   ]
  }
 ],
 "metadata": {
  "kernelspec": {
   "display_name": "Python 3",
   "language": "python",
   "name": "python3"
  },
  "language_info": {
   "codemirror_mode": {
    "name": "ipython",
    "version": 3
   },
   "file_extension": ".py",
   "mimetype": "text/x-python",
   "name": "python",
   "nbconvert_exporter": "python",
   "pygments_lexer": "ipython3",
   "version": "3.7.1"
  }
 },
 "nbformat": 4,
 "nbformat_minor": 2
}
