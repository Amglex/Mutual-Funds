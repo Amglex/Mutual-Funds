{
 "cells": [
  {
   "cell_type": "markdown",
   "metadata": {
    "toc": true
   },
   "source": [
    "<h1>Table of Contents<span class=\"tocSkip\"></span></h1>\n",
    "<div class=\"toc\"><ul class=\"toc-item\"><li><span><a href=\"#Setup\" data-toc-modified-id=\"Setup-1\"><span class=\"toc-item-num\">1&nbsp;&nbsp;</span>Setup</a></span></li><li><span><a href=\"#Number-of-unique-port_nos-and-fund_nos\" data-toc-modified-id=\"Number-of-unique-port_nos-and-fund_nos-2\"><span class=\"toc-item-num\">2&nbsp;&nbsp;</span>Number of unique port_nos and fund_nos</a></span></li><li><span><a href=\"#Number-of-unique-funds-per-year\" data-toc-modified-id=\"Number-of-unique-funds-per-year-3\"><span class=\"toc-item-num\">3&nbsp;&nbsp;</span>Number of unique funds per year</a></span></li><li><span><a href=\"#Distribution-by-number-of-observations-per-fund\" data-toc-modified-id=\"Distribution-by-number-of-observations-per-fund-4\"><span class=\"toc-item-num\">4&nbsp;&nbsp;</span>Distribution by number of observations per fund</a></span></li><li><span><a href=\"#Distribution-by-lipper_class\" data-toc-modified-id=\"Distribution-by-lipper_class-5\"><span class=\"toc-item-num\">5&nbsp;&nbsp;</span>Distribution by lipper_class</a></span></li><li><span><a href=\"#How-often-do-lipper_classes-change?\" data-toc-modified-id=\"How-often-do-lipper_classes-change?-6\"><span class=\"toc-item-num\">6&nbsp;&nbsp;</span>How often do lipper_classes change?</a></span><ul class=\"toc-item\"><li><span><a href=\"#Fund-names\" data-toc-modified-id=\"Fund-names-6.1\"><span class=\"toc-item-num\">6.1&nbsp;&nbsp;</span>Fund names</a></span></li></ul></li></ul></div>"
   ]
  },
  {
   "cell_type": "markdown",
   "metadata": {},
   "source": [
    "# Analysis of selected funds"
   ]
  },
  {
   "cell_type": "markdown",
   "metadata": {},
   "source": [
    "## Setup"
   ]
  },
  {
   "cell_type": "code",
   "execution_count": null,
   "metadata": {
    "pycharm": {
     "is_executing": false
    }
   },
   "outputs": [],
   "source": [
    "import feather\n",
    "import pickle\n",
    "import pandas as pd\n",
    "import numpy as np\n",
    "from scipy import sparse\n",
    "\n",
    "import matplotlib.pyplot as plt\n",
    "import seaborn as sns"
   ]
  },
  {
   "cell_type": "code",
   "execution_count": null,
   "metadata": {},
   "outputs": [],
   "source": [
    "path = '../data/processed/full.pickle'\n",
    "pickle_off = open(path,\"rb\")\n",
    "dict_all_years = pickle.load(pickle_off)\n",
    "dict_year = dict_all_years[2018]"
   ]
  },
  {
   "cell_type": "code",
   "execution_count": null,
   "metadata": {},
   "outputs": [],
   "source": [
    "row_info = dict_all_years['full']"
   ]
  },
  {
   "cell_type": "markdown",
   "metadata": {},
   "source": [
    "## Number of unique port_nos and fund_nos"
   ]
  },
  {
   "cell_type": "code",
   "execution_count": null,
   "metadata": {},
   "outputs": [],
   "source": [
    "row_info['report_dt'].describe()"
   ]
  },
  {
   "cell_type": "code",
   "execution_count": null,
   "metadata": {},
   "outputs": [],
   "source": [
    "print(row_info['crsp_portno'].nunique())"
   ]
  },
  {
   "cell_type": "markdown",
   "metadata": {},
   "source": [
    "## Number of unique funds per year"
   ]
  },
  {
   "cell_type": "code",
   "execution_count": null,
   "metadata": {},
   "outputs": [],
   "source": [
    "# Analysis of selected funds\n",
    "sns.set()\n",
    "## Distribution by date(row_info[\"report_dt\"]\n",
    "(row_info[\"crsp_portno\"]\n",
    "    .groupby([\n",
    "         row_info[\"report_dt\"].dt.year,\n",
    "         row_info[\"report_dt\"].dt.month\n",
    "     ])\n",
    "     .nunique()\n",
    "     .plot(kind=\"bar\",\n",
    "           color = 'b',\n",
    "           figsize=(10,5)))"
   ]
  },
  {
   "cell_type": "markdown",
   "metadata": {},
   "source": [
    "## Distribution by number of observations per fund "
   ]
  },
  {
   "cell_type": "code",
   "execution_count": null,
   "metadata": {},
   "outputs": [],
   "source": [
    "(row_info[\"crsp_portno\"]\n",
    "     .groupby([\n",
    "         row_info[\"crsp_portno\"],\n",
    "     ])\n",
    "     .count()\n",
    "     .plot(kind=\"hist\",\n",
    "           bins = 10,\n",
    "           color = 'b',\n",
    "           figsize=(10,5)))"
   ]
  },
  {
   "cell_type": "markdown",
   "metadata": {},
   "source": [
    "## Distribution by lipper_class"
   ]
  },
  {
   "cell_type": "code",
   "execution_count": null,
   "metadata": {},
   "outputs": [],
   "source": [
    "(row_info['crsp_portno']\n",
    "     .groupby([\n",
    "         row_info[\"lipper_class\"],\n",
    "     ])\n",
    "     .count()\n",
    "#     .sort_values()\n",
    "     .plot(kind=\"barh\",\n",
    "           color = 'b',\n",
    "           figsize=(20,5)))"
   ]
  },
  {
   "cell_type": "code",
   "execution_count": null,
   "metadata": {},
   "outputs": [],
   "source": [
    "(row_info['crsp_portno']\n",
    "     .groupby([\n",
    "         row_info['cap_class'],\n",
    "     ])\n",
    "     .count()\n",
    "     .plot(kind='barh',\n",
    "           color = 'b',\n",
    "           figsize=(10,5)))"
   ]
  },
  {
   "cell_type": "code",
   "execution_count": null,
   "metadata": {},
   "outputs": [],
   "source": [
    "(row_info['crsp_portno']\n",
    "     .groupby([\n",
    "         row_info['style_class'],\n",
    "     ])\n",
    "     .count()\n",
    "     .plot(kind='barh',\n",
    "           color = 'b',\n",
    "           figsize=(10,5)))"
   ]
  },
  {
   "cell_type": "markdown",
   "metadata": {},
   "source": [
    "## How often do lipper_classes change?\n"
   ]
  },
  {
   "cell_type": "code",
   "execution_count": null,
   "metadata": {},
   "outputs": [],
   "source": [
    "x = row_info.sample(1)['crsp_fundno'].values[0]\n",
    "\n",
    "row_info.query('crsp_fundno == @x')"
   ]
  },
  {
   "cell_type": "code",
   "execution_count": null,
   "metadata": {},
   "outputs": [],
   "source": [
    "x = row_info.sample(1)['crsp_fundno'].values[0]\n",
    "x = 6642\n",
    "row_info.query('crsp_fundno == @x')"
   ]
  },
  {
   "cell_type": "code",
   "execution_count": null,
   "metadata": {},
   "outputs": [],
   "source": [
    "obj_per_portno = row_info[['crsp_fundno','lipper_class']]\n",
    "ax = (obj_per_portno['lipper_class']\n",
    "    .groupby([\n",
    "        obj_per_portno['crsp_fundno']\n",
    "    ])\n",
    "    .nunique()\n",
    "    .value_counts()\n",
    "    .sort_values()\n",
    "    .plot(kind='barh',\n",
    "          color = 'b',\n",
    "          figsize=(18,5),\n",
    "          title='Number of unique objective codes per crsp_portno')\n",
    ")"
   ]
  },
  {
   "cell_type": "code",
   "execution_count": null,
   "metadata": {},
   "outputs": [],
   "source": [
    "lagged_class = row_info[['crsp_fundno','report_dt','lipper_class']]\n",
    "lagged_class = lagged_class.sort_values(by=['crsp_fundno','report_dt'])\n",
    "lagged_class = lagged_class.reset_index(drop = True)\n",
    "\n",
    "lagged_class = lagged_class.assign(lag_lipper_class = lagged_class.lipper_class.shift())\n",
    "lagged_class = lagged_class.dropna()\n",
    "\n",
    "mask = lagged_class.groupby(by = 'crsp_fundno').head(1).index\n",
    "\n",
    "lagged_class = lagged_class.loc[~lagged_class.index.isin(mask)]"
   ]
  },
  {
   "cell_type": "code",
   "execution_count": null,
   "metadata": {},
   "outputs": [],
   "source": [
    "switch = round(pd.crosstab(lagged_class.lipper_class, lagged_class.lag_lipper_class, normalize = 'columns') * 100,2)\n",
    "switch"
   ]
  },
  {
   "cell_type": "code",
   "execution_count": null,
   "metadata": {},
   "outputs": [],
   "source": [
    "lagged_class = row_info[['crsp_fundno','report_dt','style_class']]\n",
    "lagged_class = lagged_class.sort_values(by=['crsp_fundno','report_dt'])\n",
    "lagged_class = lagged_class.reset_index(drop = True)\n",
    "\n",
    "lagged_class = lagged_class.assign(lag_style_class = lagged_class.style_class.shift())\n",
    "lagged_class = lagged_class.dropna()\n",
    "\n",
    "mask = lagged_class.groupby(by = 'crsp_fundno').head(1).index\n",
    "\n",
    "lagged_class = lagged_class.loc[~lagged_class.index.isin(mask)]\n",
    "\n",
    "lag_style = pd.crosstab(lagged_class.style_class, lagged_class.lag_style_class)\n",
    "lag_style"
   ]
  },
  {
   "cell_type": "code",
   "execution_count": null,
   "metadata": {},
   "outputs": [],
   "source": [
    "print(lag_style.to_latex(index = True,\n",
    "                    index_names = False,\n",
    "                    bold_rows = True)\n",
    "     )"
   ]
  },
  {
   "cell_type": "code",
   "execution_count": null,
   "metadata": {},
   "outputs": [],
   "source": [
    "lagged_class = row_info[['crsp_fundno','report_dt','cap_class']]\n",
    "lagged_class = lagged_class.sort_values(by=['crsp_fundno','report_dt'])\n",
    "lagged_class = lagged_class.reset_index(drop = True)\n",
    "\n",
    "lagged_class = lagged_class.assign(lag_cap_class = lagged_class.cap_class.shift())\n",
    "lagged_class = lagged_class.dropna()\n",
    "\n",
    "mask = lagged_class.groupby(by = 'crsp_fundno').head(1).index\n",
    "\n",
    "lagged_class = lagged_class.loc[~lagged_class.index.isin(mask)]\n",
    "\n",
    "lag_cap = pd.crosstab(lagged_class.cap_class, lagged_class.lag_cap_class)\n",
    "lag_cap"
   ]
  },
  {
   "cell_type": "code",
   "execution_count": null,
   "metadata": {},
   "outputs": [],
   "source": [
    "print(lag_cap.to_latex(index = True,\n",
    "                    index_names = False,\n",
    "                    bold_rows = False)\n",
    "     )"
   ]
  },
  {
   "cell_type": "markdown",
   "metadata": {},
   "source": [
    "### Fund names"
   ]
  },
  {
   "cell_type": "code",
   "execution_count": null,
   "metadata": {},
   "outputs": [],
   "source": []
  }
 ],
 "metadata": {
  "hide_input": false,
  "kernelspec": {
   "display_name": "MT",
   "language": "python",
   "name": "mt"
  },
  "language_info": {
   "codemirror_mode": {
    "name": "ipython",
    "version": 3
   },
   "file_extension": ".py",
   "mimetype": "text/x-python",
   "name": "python",
   "nbconvert_exporter": "python",
   "pygments_lexer": "ipython3",
   "version": "3.7.4"
  },
  "pycharm": {
   "stem_cell": {
    "cell_type": "raw",
    "metadata": {
     "collapsed": false
    },
    "source": []
   }
  },
  "toc": {
   "base_numbering": 1,
   "nav_menu": {},
   "number_sections": true,
   "sideBar": true,
   "skip_h1_title": true,
   "title_cell": "Table of Contents",
   "title_sidebar": "Contents",
   "toc_cell": true,
   "toc_position": {},
   "toc_section_display": true,
   "toc_window_display": true
  }
 },
 "nbformat": 4,
 "nbformat_minor": 2
}
