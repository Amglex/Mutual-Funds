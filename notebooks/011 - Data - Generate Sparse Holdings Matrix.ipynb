{
 "cells": [
  {
   "cell_type": "markdown",
   "metadata": {},
   "source": [
    "# Read large csv file and count occurances\n",
    "\n",
    "CSV file is raw holdings file converted from SAS format\n",
    "\n",
    "File must be transformed into parse matrix"
   ]
  },
  {
   "cell_type": "markdown",
   "metadata": {},
   "source": [
    "Could be significantly sped up using something like: https://stackoverflow.com/questions/17444679/reading-a-huge-csv-file"
   ]
  },
  {
   "cell_type": "markdown",
   "metadata": {},
   "source": [
    "# Import statements"
   ]
  },
  {
   "cell_type": "code",
   "execution_count": 4,
   "metadata": {},
   "outputs": [],
   "source": [
    "import csv\n",
    "import collections\n",
    "import feather\n",
    "import math\n",
    "\n",
    "import numpy as np\n",
    "import pandas as pd\n",
    "import matplotlib.pyplot as plt\n",
    "\n",
    "from datetime import datetime\n",
    "from scipy import sparse\n",
    "import numpy as np\n",
    "\n",
    "# For multiprocessing\n",
    "import multiprocessing\n",
    "from itertools import product"
   ]
  },
  {
   "cell_type": "code",
   "execution_count": 5,
   "metadata": {},
   "outputs": [],
   "source": [
    "import os\n",
    "import sys\n",
    "\n",
    "# add the 'src' directory as one where we can import modules\n",
    "src_dir = os.path.join(os.getcwd(), os.pardir, 'src')\n",
    "sys.path.append(src_dir)\n",
    "\n",
    "from data.basic_functions import * "
   ]
  },
  {
   "cell_type": "markdown",
   "metadata": {},
   "source": [
    "# Find all unqiue Stocks and Portfolio/dates"
   ]
  },
  {
   "cell_type": "code",
   "execution_count": 6,
   "metadata": {},
   "outputs": [],
   "source": [
    "def make_port_id(a,b):\n",
    "    \"\"\"\n",
    "    Generate a unique ID from the portno and the date of a fund/date combination\n",
    "    \n",
    "    Input:\n",
    "    - a: port_no\n",
    "    - b: date\n",
    "    \n",
    "    Output:\n",
    "    - port_ID\n",
    "    \"\"\"\n",
    "    return int(100_000 * a + b)"
   ]
  },
  {
   "cell_type": "code",
   "execution_count": 25,
   "metadata": {},
   "outputs": [],
   "source": [
    "def extra_reader(reader_object):\n",
    "    \"\"\"\n",
    "    Loops over rows of holdings csv\n",
    "    Nedded to generate sparse matrix\n",
    "    \n",
    "    Input: \n",
    "    - a reader object linking to the holdings csv\n",
    "    \n",
    "    Output: \n",
    "    - port_ID: Collection of all unique fund/date combinations\n",
    "    - stock_ID: Collection of all unique stocks\n",
    "    \"\"\"\n",
    "    count = 0\n",
    "    \n",
    "    next(reader)\n",
    "    stocks = collections.Counter()\n",
    "    port_ID = collections.Counter()\n",
    "    \n",
    "    for row in reader_object:\n",
    "        port_ID_str = make_port_id(int(float(row[0])),int(float(row[1])))\n",
    "        port_ID[port_ID_str] += 1\n",
    "        stocks[int(float(row[7]))] += 1\n",
    "        count += 1\n",
    "        if count == 10_000_000:\n",
    "            break\n",
    "\n",
    "    \n",
    "    return(port_ID,stocks)  "
   ]
  },
  {
   "cell_type": "code",
   "execution_count": 26,
   "metadata": {},
   "outputs": [],
   "source": [
    "path = '../data/raw/out.csv'\n",
    "\n",
    "input_file = open(path)\n",
    "reader = csv.reader(input_file, delimiter=',')"
   ]
  },
  {
   "cell_type": "code",
   "execution_count": 27,
   "metadata": {},
   "outputs": [
    {
     "name": "stdout",
     "output_type": "stream",
     "text": [
      "CPU times: user 44.4 s, sys: 716 ms, total: 45.1 s\n",
      "Wall time: 45.6 s\n"
     ]
    }
   ],
   "source": [
    "%%time\n",
    "port_ID, stocks = extra_reader(reader)"
   ]
  },
  {
   "cell_type": "code",
   "execution_count": 20,
   "metadata": {},
   "outputs": [
    {
     "data": {
      "text/plain": [
       "1000"
      ]
     },
     "execution_count": 20,
     "metadata": {},
     "output_type": "execute_result"
    }
   ],
   "source": [
    "sum(port_ID.values())"
   ]
  },
  {
   "cell_type": "code",
   "execution_count": null,
   "metadata": {},
   "outputs": [],
   "source": [
    "chunksize = 10 ** 8\n",
    "for chunk in pd.read_csv(path, chunksize=chunksize):\n",
    "    process(chunk)"
   ]
  },
  {
   "cell_type": "markdown",
   "metadata": {},
   "source": [
    "# Create stock and port_no map"
   ]
  },
  {
   "cell_type": "code",
   "execution_count": 8,
   "metadata": {},
   "outputs": [],
   "source": [
    "def make_unique_dict(counter):\n",
    "    \"\"\"\n",
    "    Used to make a dictionary linking each fund/date combination \n",
    "    and each stock to a row/col in the sparse matrix\n",
    "    \n",
    "    Input:\n",
    "    - collections.Counter() object\n",
    "    \n",
    "    Output:\n",
    "    - dictionary\n",
    "    \"\"\"\n",
    "    \n",
    "    unique_keys = list(counter.keys())\n",
    "    unique_keys_numbers = list(np.arange(len(unique_keys)))\n",
    "    counter_map = dict(zip(unique_keys, unique_keys_numbers))\n",
    "    \n",
    "    return(counter_map)"
   ]
  },
  {
   "cell_type": "code",
   "execution_count": 9,
   "metadata": {},
   "outputs": [],
   "source": [
    "stock_map = make_unique_dict(stocks)\n",
    "port_no_map = make_unique_dict(port_ID)"
   ]
  },
  {
   "cell_type": "code",
   "execution_count": 10,
   "metadata": {},
   "outputs": [
    {
     "data": {
      "text/plain": [
       "738860"
      ]
     },
     "execution_count": 10,
     "metadata": {},
     "output_type": "execute_result"
    }
   ],
   "source": [
    "len(port_no_map)"
   ]
  },
  {
   "cell_type": "code",
   "execution_count": 11,
   "metadata": {},
   "outputs": [
    {
     "name": "stdout",
     "output_type": "stream",
     "text": [
      "Total number of rows in file:  184,578,842\n",
      "Numer of unique stocks:        2,382,968\n",
      "Numer of unique portfolios:    738,860\n"
     ]
    }
   ],
   "source": [
    "total_number_rows = sum(list(stocks.values()))\n",
    "print('Total number of rows in file:  {:,}'.format(total_number_rows))\n",
    "print('Numer of unique stocks:        {:,}'.format(len(stocks.keys())))\n",
    "print('Numer of unique portfolios:    {:,}'.format(len(port_no_map.keys())))"
   ]
  },
  {
   "cell_type": "markdown",
   "metadata": {},
   "source": [
    "# Set up sparse matrix"
   ]
  },
  {
   "cell_type": "code",
   "execution_count": 12,
   "metadata": {},
   "outputs": [],
   "source": [
    "def gen_sparse_data(reader):\n",
    "    \"\"\"\n",
    "    Loop over holdings csv file to collect the data for the sparse matrix\n",
    "    \n",
    "    Input:\n",
    "    - reader: CSV holdings file\n",
    "    \n",
    "    Output:\n",
    "    - sparse_row, sparse_col, sparse_data: three np arrays for the construction of the sparse matrix\n",
    "    \"\"\"\n",
    "    next(reader)\n",
    "    \n",
    "    counter = 0\n",
    "    \n",
    "    sparse_row = np.zeros(total_number_rows)\n",
    "    sparse_col = np.zeros(total_number_rows)\n",
    "    sparse_data = np.zeros(total_number_rows)\n",
    "    \n",
    "    for row in reader:\n",
    "        # Row\n",
    "        port_ID = make_port_id(int(float(row[0])),int(float(row[1])))\n",
    "        sparse_row[counter] = port_no_map[port_ID]\n",
    "\n",
    "        # Col\n",
    "        stock_num = int(float(row[7]))\n",
    "        sparse_col[counter] = stock_map[stock_num]\n",
    "\n",
    "        # Data\n",
    "        try:\n",
    "            sparse_data[counter] = float(row[4])\n",
    "        except: \n",
    "            sparse_data[counter] = 0\n",
    "            \n",
    "        counter += 1\n",
    "    \n",
    "    sparse_row = sparse_row.astype(int)\n",
    "    sparse_col = sparse_col.astype(int)\n",
    "    \n",
    "    return(sparse_row, sparse_col, sparse_data)"
   ]
  },
  {
   "cell_type": "code",
   "execution_count": 13,
   "metadata": {},
   "outputs": [],
   "source": [
    "path = '../data/raw/out.csv'\n",
    "input_file = open(path)\n",
    "reader = csv.reader(input_file, delimiter=',')"
   ]
  },
  {
   "cell_type": "code",
   "execution_count": 14,
   "metadata": {},
   "outputs": [
    {
     "data": {
      "text/plain": [
       "['crsp_portno',\n",
       " 'report_dt',\n",
       " 'security_rank',\n",
       " 'eff_dt',\n",
       " 'percent_tna',\n",
       " 'nbr_shares',\n",
       " 'market_val',\n",
       " 'crsp_company_key',\n",
       " 'security_name',\n",
       " 'cusip',\n",
       " 'permno',\n",
       " 'permco',\n",
       " 'ticker',\n",
       " 'coupon',\n",
       " 'maturity_dt']"
      ]
     },
     "execution_count": 14,
     "metadata": {},
     "output_type": "execute_result"
    }
   ],
   "source": [
    "next(reader)"
   ]
  },
  {
   "cell_type": "code",
   "execution_count": 15,
   "metadata": {},
   "outputs": [
    {
     "name": "stdout",
     "output_type": "stream",
     "text": [
      "CPU times: user 13min 57s, sys: 20.3 s, total: 14min 17s\n",
      "Wall time: 14min 23s\n"
     ]
    }
   ],
   "source": [
    "%%time\n",
    "sparse_row, sparse_col, sparse_data = gen_sparse_data(reader)"
   ]
  },
  {
   "cell_type": "markdown",
   "metadata": {},
   "source": [
    "# Check for duplicates and drop individual positions larger than 200"
   ]
  },
  {
   "cell_type": "code",
   "execution_count": null,
   "metadata": {},
   "outputs": [],
   "source": [
    "data = pd.DataFrame({'row': sparse_row, 'col' : sparse_col, 'data' :sparse_data})"
   ]
  },
  {
   "cell_type": "code",
   "execution_count": null,
   "metadata": {},
   "outputs": [],
   "source": [
    "data.shape"
   ]
  },
  {
   "cell_type": "markdown",
   "metadata": {},
   "source": [
    "### Fist mask: drop duplicates"
   ]
  },
  {
   "cell_type": "code",
   "execution_count": 18,
   "metadata": {},
   "outputs": [],
   "source": [
    "mask1_duplicates = data.duplicated(subset=['row','col']) == False\n",
    "data_s = data[mask1_duplicates]"
   ]
  },
  {
   "cell_type": "markdown",
   "metadata": {},
   "source": [
    "### Second mask: Drop extrem individual values"
   ]
  },
  {
   "cell_type": "code",
   "execution_count": 19,
   "metadata": {},
   "outputs": [],
   "source": [
    "# Drop observations where data is larger than 200 or smaller than -50 -> mask1\n",
    "mask2_individual = (data_s['data'] < 150) & (data_s['data'] > -50)\n",
    "data_s = data_s[mask2_individual]"
   ]
  },
  {
   "cell_type": "code",
   "execution_count": 20,
   "metadata": {},
   "outputs": [],
   "source": [
    "sparse_row = data_s['row']\n",
    "sparse_col = data_s['col']\n",
    "sparse_data = data_s['data']"
   ]
  },
  {
   "cell_type": "markdown",
   "metadata": {},
   "source": [
    "# Create sparse matrix"
   ]
  },
  {
   "cell_type": "code",
   "execution_count": 21,
   "metadata": {},
   "outputs": [
    {
     "name": "stdout",
     "output_type": "stream",
     "text": [
      "70,398,703.71197754\n"
     ]
    },
    {
     "data": {
      "text/plain": [
       "<738860x2382968 sparse matrix of type '<class 'numpy.float64'>'\n",
       "\twith 177600020 stored elements in Compressed Sparse Row format>"
      ]
     },
     "execution_count": 21,
     "metadata": {},
     "output_type": "execute_result"
    }
   ],
   "source": [
    "sparse_matrix = sparse.csr_matrix((sparse_data, (sparse_row, sparse_col)))\n",
    "print('{:,}'.format(sparse_matrix.sum()))\n",
    "sparse_matrix"
   ]
  },
  {
   "cell_type": "markdown",
   "metadata": {},
   "source": [
    "### Third mask: drop extrem portfolios"
   ]
  },
  {
   "cell_type": "code",
   "execution_count": 22,
   "metadata": {},
   "outputs": [
    {
     "data": {
      "text/plain": [
       "733743"
      ]
     },
     "execution_count": 22,
     "metadata": {},
     "output_type": "execute_result"
    }
   ],
   "source": [
    "### Drop portfolios with total percent_tna > 150 or < 150\n",
    "row_sums = np.array(sparse_matrix.sum(1)).flatten()\n",
    "mask3_portfolios = (row_sums < 150) & (row_sums > -50)\n",
    "np.sum(mask3_portfolios)"
   ]
  },
  {
   "cell_type": "code",
   "execution_count": 23,
   "metadata": {},
   "outputs": [
    {
     "data": {
      "text/plain": [
       "<733743x2382968 sparse matrix of type '<class 'numpy.float64'>'\n",
       "\twith 148778257 stored elements in Compressed Sparse Row format>"
      ]
     },
     "execution_count": 23,
     "metadata": {},
     "output_type": "execute_result"
    }
   ],
   "source": [
    "sparse_matrix = sparse_matrix[mask3_portfolios]\n",
    "sparse_matrix"
   ]
  },
  {
   "cell_type": "markdown",
   "metadata": {},
   "source": [
    "# Create sparse info df with Fund_portno and date for every row of the sparse matrix"
   ]
  },
  {
   "cell_type": "code",
   "execution_count": 24,
   "metadata": {},
   "outputs": [],
   "source": [
    "def split_port_id(num):\n",
    "    start1 = int(np.floor(num / 100_000))\n",
    "    start2 = num - start1 * 100_000\n",
    "    return(start1,start2)"
   ]
  },
  {
   "cell_type": "code",
   "execution_count": 25,
   "metadata": {},
   "outputs": [
    {
     "name": "stdout",
     "output_type": "stream",
     "text": [
      "CPU times: user 3.11 s, sys: 243 ms, total: 3.36 s\n",
      "Wall time: 3.64 s\n"
     ]
    }
   ],
   "source": [
    "%%time\n",
    "port_no = []\n",
    "date = []\n",
    "keys = list(port_no_map.keys())\n",
    "\n",
    "for port_IDs in keys:\n",
    "    left_temp, right_temp = split_port_id(port_IDs)\n",
    "    port_no.append(left_temp)\n",
    "    date.append(right_temp)\n",
    "    \n",
    "date = pd.to_timedelta(date, unit='D') + pd.Timestamp('1960-1-1')"
   ]
  },
  {
   "cell_type": "code",
   "execution_count": 26,
   "metadata": {},
   "outputs": [],
   "source": [
    "sparse_info = pd.DataFrame(data={'port_no':port_no, 'date':date})"
   ]
  },
  {
   "cell_type": "code",
   "execution_count": 27,
   "metadata": {},
   "outputs": [],
   "source": [
    "sparse_info = sparse_info[mask3_portfolios]"
   ]
  },
  {
   "cell_type": "markdown",
   "metadata": {},
   "source": [
    "#### Check if dimensions match"
   ]
  },
  {
   "cell_type": "code",
   "execution_count": 28,
   "metadata": {},
   "outputs": [
    {
     "data": {
      "text/plain": [
       "(733743, 2)"
      ]
     },
     "execution_count": 28,
     "metadata": {},
     "output_type": "execute_result"
    }
   ],
   "source": [
    "sparse_info.shape"
   ]
  },
  {
   "cell_type": "code",
   "execution_count": 29,
   "metadata": {},
   "outputs": [
    {
     "data": {
      "text/plain": [
       "(733743, 2382968)"
      ]
     },
     "execution_count": 29,
     "metadata": {},
     "output_type": "execute_result"
    }
   ],
   "source": [
    "sparse_matrix.shape"
   ]
  },
  {
   "cell_type": "markdown",
   "metadata": {},
   "source": [
    "# Save data"
   ]
  },
  {
   "cell_type": "code",
   "execution_count": 30,
   "metadata": {},
   "outputs": [],
   "source": [
    "path = '../data/interim/stock_map_t'\n",
    "stock_map_item = {'item1' : stock_map}\n",
    "np.save(path,stock_map_item) "
   ]
  },
  {
   "cell_type": "markdown",
   "metadata": {},
   "source": [
    "#### Sparse matrix"
   ]
  },
  {
   "cell_type": "code",
   "execution_count": 31,
   "metadata": {},
   "outputs": [],
   "source": [
    "path = '../data/interim/sparse_matrix_t'\n",
    "sparse.save_npz(path, sparse_matrix)"
   ]
  },
  {
   "cell_type": "markdown",
   "metadata": {},
   "source": [
    "#### Sparse info"
   ]
  },
  {
   "cell_type": "code",
   "execution_count": 32,
   "metadata": {},
   "outputs": [],
   "source": [
    "path = '../data/interim/sparse_info_t.feather'\n",
    "feather.write_dataframe(sparse_info,path)"
   ]
  },
  {
   "cell_type": "markdown",
   "metadata": {},
   "source": [
    "# Analysis"
   ]
  },
  {
   "cell_type": "markdown",
   "metadata": {},
   "source": [
    "### Data itself"
   ]
  },
  {
   "cell_type": "code",
   "execution_count": 33,
   "metadata": {},
   "outputs": [
    {
     "data": {
      "text/plain": [
       "[<matplotlib.lines.Line2D at 0x180029b00>]"
      ]
     },
     "execution_count": 33,
     "metadata": {},
     "output_type": "execute_result"
    },
    {
     "data": {
      "image/png": "[encoded data removed]",
      "text/plain": [
       "<Figure size 432x288 with 1 Axes>"
      ]
     },
     "metadata": {},
     "output_type": "display_data"
    }
   ],
   "source": [
    "plt.plot(sparse_data)"
   ]
  },
  {
   "cell_type": "code",
   "execution_count": null,
   "metadata": {},
   "outputs": [
    {
     "data": {
      "text/plain": [
       "<matplotlib.axes._subplots.AxesSubplot at 0x17c4b3be0>"
      ]
     },
     "execution_count": 34,
     "metadata": {},
     "output_type": "execute_result"
    },
    {
     "name": "stderr",
     "output_type": "stream",
     "text": [
      "ERROR:root:Invalid alias: The name clear can't be aliased because it is another magic command.\n",
      "ERROR:root:Invalid alias: The name more can't be aliased because it is another magic command.\n",
      "ERROR:root:Invalid alias: The name less can't be aliased because it is another magic command.\n",
      "ERROR:root:Invalid alias: The name man can't be aliased because it is another magic command.\n"
     ]
    }
   ],
   "source": [
    "data_s.sort_values(by='data').reset_index()[['data']].plot()"
   ]
  },
  {
   "cell_type": "markdown",
   "metadata": {},
   "source": [
    "### Row na dcolum sums"
   ]
  },
  {
   "cell_type": "code",
   "execution_count": null,
   "metadata": {},
   "outputs": [],
   "source": [
    "sparse_matrix.shape"
   ]
  },
  {
   "cell_type": "code",
   "execution_count": null,
   "metadata": {},
   "outputs": [],
   "source": [
    "row_sums = sparse_matrix.sum(1)\n",
    "col_sums = sparse_matrix.sum(0)"
   ]
  },
  {
   "cell_type": "code",
   "execution_count": null,
   "metadata": {},
   "outputs": [],
   "source": [
    "row_sums = pd.DataFrame(row_sums)\n",
    "col_sums = pd.DataFrame(col_sums).T"
   ]
  },
  {
   "cell_type": "code",
   "execution_count": null,
   "metadata": {},
   "outputs": [],
   "source": [
    "row_sums.describe()"
   ]
  },
  {
   "cell_type": "code",
   "execution_count": null,
   "metadata": {},
   "outputs": [],
   "source": [
    "col_sums.describe()"
   ]
  },
  {
   "cell_type": "code",
   "execution_count": null,
   "metadata": {},
   "outputs": [],
   "source": [
    "pd.DataFrame(sparse_matrix[35406,0:1000].todense()).T.plot()"
   ]
  },
  {
   "cell_type": "markdown",
   "metadata": {},
   "source": [
    "## Sum of percent_tna per Fund/Date"
   ]
  },
  {
   "cell_type": "code",
   "execution_count": null,
   "metadata": {},
   "outputs": [],
   "source": [
    "plt.plot(row_sums,'o')"
   ]
  },
  {
   "cell_type": "markdown",
   "metadata": {},
   "source": [
    "## Observations per Stock"
   ]
  },
  {
   "cell_type": "code",
   "execution_count": null,
   "metadata": {},
   "outputs": [],
   "source": [
    "plt.plot(col_sums,'o')"
   ]
  },
  {
   "cell_type": "markdown",
   "metadata": {},
   "source": [
    "### sparse_info"
   ]
  },
  {
   "cell_type": "code",
   "execution_count": null,
   "metadata": {},
   "outputs": [],
   "source": [
    "sparse_info.sample(5)"
   ]
  },
  {
   "cell_type": "markdown",
   "metadata": {},
   "source": [
    "### Reporting dates per port_no"
   ]
  },
  {
   "cell_type": "code",
   "execution_count": null,
   "metadata": {},
   "outputs": [],
   "source": [
    "sparse_info.groupby('port_no').count().plot(kind='hist', bins=140, title= 'Reporting dates per port_no')"
   ]
  },
  {
   "cell_type": "code",
   "execution_count": null,
   "metadata": {},
   "outputs": [],
   "source": [
    "sparse_info = sparse_info.set_index('date')"
   ]
  },
  {
   "cell_type": "markdown",
   "metadata": {},
   "source": [
    "### Observations per quarter"
   ]
  },
  {
   "cell_type": "code",
   "execution_count": null,
   "metadata": {},
   "outputs": [],
   "source": [
    "sparse_info.groupby([sparse_info.index.year,sparse_info.index.quarter]).count().head()"
   ]
  },
  {
   "cell_type": "markdown",
   "metadata": {},
   "source": [
    "### Histogram of observations per Fund per Year\n",
    "Most have two or more"
   ]
  },
  {
   "cell_type": "code",
   "execution_count": null,
   "metadata": {},
   "outputs": [],
   "source": [
    "sparse_info['count'] = 1\n",
    "sparse_info.groupby(['port_no',sparse_info.index.year]).count().hist()"
   ]
  },
  {
   "cell_type": "code",
   "execution_count": null,
   "metadata": {},
   "outputs": [],
   "source": []
  }
 ],
 "metadata": {
  "kernelspec": {
   "display_name": "Python 3",
   "language": "python",
   "name": "python3"
  },
  "language_info": {
   "codemirror_mode": {
    "name": "ipython",
    "version": 3
   },
   "file_extension": ".py",
   "mimetype": "text/x-python",
   "name": "python",
   "nbconvert_exporter": "python",
   "pygments_lexer": "ipython3",
   "version": "3.7.1"
  }
 },
 "nbformat": 4,
 "nbformat_minor": 2
}
