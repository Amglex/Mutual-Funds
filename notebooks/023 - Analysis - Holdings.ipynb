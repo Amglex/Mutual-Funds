{
 "cells": [
  {
   "cell_type": "markdown",
   "metadata": {
    "toc": true
   },
   "source": [
    "<h1>Table of Contents<span class=\"tocSkip\"></span></h1>\n",
    "<div class=\"toc\"><ul class=\"toc-item\"><li><span><a href=\"#Analysis-of-holdings\" data-toc-modified-id=\"Analysis-of-holdings-1\"><span class=\"toc-item-num\">1&nbsp;&nbsp;</span>Analysis of holdings</a></span><ul class=\"toc-item\"><li><span><a href=\"#Most-common-stocks\" data-toc-modified-id=\"Most-common-stocks-1.1\"><span class=\"toc-item-num\">1.1&nbsp;&nbsp;</span>Most common stocks</a></span></li><li><span><a href=\"#Merge-Stock_map-and-Hold_co_info-to-get-name-of-each-security\" data-toc-modified-id=\"Merge-Stock_map-and-Hold_co_info-to-get-name-of-each-security-1.2\"><span class=\"toc-item-num\">1.2&nbsp;&nbsp;</span>Merge Stock_map and Hold_co_info to get name of each security</a></span></li><li><span><a href=\"#Get-stocks-for-fund-by-port_no\" data-toc-modified-id=\"Get-stocks-for-fund-by-port_no-1.3\"><span class=\"toc-item-num\">1.3&nbsp;&nbsp;</span>Get stocks for fund by port_no</a></span></li><li><span><a href=\"#Distribution-by-date\" data-toc-modified-id=\"Distribution-by-date-1.4\"><span class=\"toc-item-num\">1.4&nbsp;&nbsp;</span>Distribution by date</a></span></li><li><span><a href=\"#Observations-per-Fund\" data-toc-modified-id=\"Observations-per-Fund-1.5\"><span class=\"toc-item-num\">1.5&nbsp;&nbsp;</span>Observations per Fund</a></span></li><li><span><a href=\"#Map-Obj-codes-to-returns\" data-toc-modified-id=\"Map-Obj-codes-to-returns-1.6\"><span class=\"toc-item-num\">1.6&nbsp;&nbsp;</span>Map Obj codes to returns</a></span></li><li><span><a href=\"#Aggregate-return\" data-toc-modified-id=\"Aggregate-return-1.7\"><span class=\"toc-item-num\">1.7&nbsp;&nbsp;</span>Aggregate return</a></span></li><li><span><a href=\"#Objective-codes\" data-toc-modified-id=\"Objective-codes-1.8\"><span class=\"toc-item-num\">1.8&nbsp;&nbsp;</span>Objective codes</a></span></li><li><span><a href=\"#Precprocessing-holdings-data\" data-toc-modified-id=\"Precprocessing-holdings-data-1.9\"><span class=\"toc-item-num\">1.9&nbsp;&nbsp;</span>Precprocessing holdings data</a></span></li></ul></li></ul></div>"
   ]
  },
  {
   "cell_type": "markdown",
   "metadata": {},
   "source": [
    "# Analysis of holdings"
   ]
  },
  {
   "cell_type": "markdown",
   "metadata": {},
   "source": [
    "Description:\n",
    "\n"
   ]
  },
  {
   "cell_type": "code",
   "execution_count": null,
   "metadata": {},
   "outputs": [],
   "source": [
    "import feather\n",
    "import numpy as np\n",
    "import pandas as pd\n",
    "\n",
    "from scipy import sparse\n",
    "\n",
    "import matplotlib.pyplot as plt"
   ]
  },
  {
   "cell_type": "code",
   "execution_count": null,
   "metadata": {},
   "outputs": [],
   "source": [
    "path = '../data/raw/holdings_co_info.feather'\n",
    "holdings_co_info = feather.read_dataframe(path)\n",
    "holdings_co_info = holdings_co_info.drop_duplicates()\n",
    "holdings_co_info.shape"
   ]
  },
  {
   "cell_type": "code",
   "execution_count": null,
   "metadata": {},
   "outputs": [],
   "source": [
    "path = '../data/processed/holdings_summary_s_s.feather'\n",
    "summary = feather.read_dataframe(path)\n",
    "summary.shape"
   ]
  },
  {
   "cell_type": "code",
   "execution_count": null,
   "metadata": {},
   "outputs": [],
   "source": [
    "path = '../data/processed/stock_map.feather'\n",
    "stock_map = feather.read_dataframe(path)\n",
    "stock_map.shape"
   ]
  },
  {
   "cell_type": "code",
   "execution_count": null,
   "metadata": {},
   "outputs": [],
   "source": [
    "path = '../data/processed/holdings_b_b.npz'\n",
    "holdings = sparse.load_npz(path)\n",
    "holdings.shape"
   ]
  },
  {
   "cell_type": "markdown",
   "metadata": {},
   "source": [
    "## Most common stocks"
   ]
  },
  {
   "cell_type": "code",
   "execution_count": null,
   "metadata": {},
   "outputs": [],
   "source": [
    "holdings_summary = pd.DataFrame(holdings.sum(0).T)\n",
    "holdings_summary.columns = ['total']\n",
    "holdings_summary.shape"
   ]
  },
  {
   "cell_type": "code",
   "execution_count": null,
   "metadata": {},
   "outputs": [],
   "source": [
    "holdings_df = pd.DataFrame(holdings.toarray())\n",
    "holdings_df = holdings_df.groupby(by = summary['port_no']).tail(5)"
   ]
  },
  {
   "cell_type": "code",
   "execution_count": null,
   "metadata": {},
   "outputs": [],
   "source": [
    "holdings_df.shape"
   ]
  },
  {
   "cell_type": "markdown",
   "metadata": {},
   "source": [
    "## Merge Stock_map and Hold_co_info to get name of each security"
   ]
  },
  {
   "cell_type": "code",
   "execution_count": null,
   "metadata": {},
   "outputs": [],
   "source": [
    "stock_map.columns = ['crsp_company_key','nr','1']\n",
    "stock_map = stock_map.drop(columns = '1')"
   ]
  },
  {
   "cell_type": "code",
   "execution_count": null,
   "metadata": {},
   "outputs": [],
   "source": [
    "holdings_co_info.sample()"
   ]
  },
  {
   "cell_type": "code",
   "execution_count": null,
   "metadata": {},
   "outputs": [],
   "source": [
    "stock_map_merged = stock_map.merge(holdings_co_info, how='left', left_on = 'crsp_company_key', right_on='crsp_company_key')"
   ]
  },
  {
   "cell_type": "code",
   "execution_count": null,
   "metadata": {},
   "outputs": [],
   "source": [
    "stock_map_merged = pd.concat([holdings_summary,stock_map_merged],axis=1)"
   ]
  },
  {
   "cell_type": "code",
   "execution_count": null,
   "metadata": {},
   "outputs": [],
   "source": [
    "stock_map_merged.loc[stock_map_merged['security_name'].astype('str').str.contains('APPLE')]"
   ]
  },
  {
   "cell_type": "code",
   "execution_count": null,
   "metadata": {},
   "outputs": [],
   "source": [
    "stock_map_merged.sort_values(by=['total'],ascending=False).head(100)"
   ]
  },
  {
   "cell_type": "code",
   "execution_count": null,
   "metadata": {},
   "outputs": [],
   "source": []
  },
  {
   "cell_type": "code",
   "execution_count": null,
   "metadata": {},
   "outputs": [],
   "source": [
    "summary[summary['port_no'] == 1026915]"
   ]
  },
  {
   "cell_type": "markdown",
   "metadata": {},
   "source": [
    "## Get stocks for fund by port_no"
   ]
  },
  {
   "cell_type": "markdown",
   "metadata": {},
   "source": [
    "TODO Kann irgendwie nicht sein "
   ]
  },
  {
   "cell_type": "code",
   "execution_count": null,
   "metadata": {},
   "outputs": [],
   "source": [
    "stocks_nr = pd.DataFrame({\n",
    " 'nr' : holdings[35852].nonzero()[1]   \n",
    "})"
   ]
  },
  {
   "cell_type": "code",
   "execution_count": null,
   "metadata": {},
   "outputs": [],
   "source": [
    "stock_map_merged = stock_map.merge(holdings_co_info, how='left', left_on = 'crsp_company_key', right_on='crsp_company_key')"
   ]
  },
  {
   "cell_type": "code",
   "execution_count": null,
   "metadata": {},
   "outputs": [],
   "source": [
    "(stocks_nr\n",
    "     .merge(stock_map_merged, how='left', left_on = 'nr', right_on='nr')\n",
    "     .dropna()\n",
    "     .head()\n",
    ")"
   ]
  },
  {
   "cell_type": "markdown",
   "metadata": {},
   "source": [
    "## Distribution by date"
   ]
  },
  {
   "cell_type": "code",
   "execution_count": null,
   "metadata": {},
   "outputs": [],
   "source": [
    "# Analysis of selected funds\n",
    "\n",
    "## Distribution by date(returns['report_dt']\n",
    "(returns['crsp_fundno']\n",
    "    .groupby([\n",
    "         returns['caldt'].dt.year,\n",
    "#         returns['caldt'].dt.month\n",
    "     ])\n",
    "     .count()\n",
    "     .plot(kind='bar',\n",
    "           color = 'b',\n",
    "          figsize=(20,10)))"
   ]
  },
  {
   "cell_type": "markdown",
   "metadata": {},
   "source": [
    "## Observations per Fund"
   ]
  },
  {
   "cell_type": "code",
   "execution_count": null,
   "metadata": {},
   "outputs": [],
   "source": [
    "# Analysis of selected funds\n",
    "\n",
    "## Distribution by date(returns['report_dt']\n",
    "a = (returns['crsp_fundno']\n",
    "    .groupby([\n",
    "         returns['crsp_fundno']\n",
    "     ])\n",
    "    .count()\n",
    ")\n",
    "a = a.groupby(a).count().cumsum().T"
   ]
  },
  {
   "cell_type": "code",
   "execution_count": null,
   "metadata": {},
   "outputs": [],
   "source": [
    "a.plot(kind='line',\n",
    "       color = 'b',\n",
    "       figsize=(20,10))"
   ]
  },
  {
   "cell_type": "code",
   "execution_count": null,
   "metadata": {},
   "outputs": [],
   "source": [
    "(returns.loc[returns['crsp_fundno'] == 27650,'mret']\n",
    "    .plot(kind='bar',\n",
    "          color = 'b',\n",
    "          figsize=(20,10)))"
   ]
  },
  {
   "cell_type": "markdown",
   "metadata": {},
   "source": [
    "## Map Obj codes to returns"
   ]
  },
  {
   "cell_type": "code",
   "execution_count": null,
   "metadata": {},
   "outputs": [],
   "source": [
    "summary.head().dtypes"
   ]
  },
  {
   "cell_type": "code",
   "execution_count": null,
   "metadata": {},
   "outputs": [],
   "source": [
    "returns.head().dtypes"
   ]
  },
  {
   "cell_type": "code",
   "execution_count": null,
   "metadata": {},
   "outputs": [],
   "source": [
    "returns_merged = returns.merge(summary, how='left', on=['crsp_fundno'])\n",
    "returns_merged = returns_merged.dropna(axis = 0, how = 'any')"
   ]
  },
  {
   "cell_type": "code",
   "execution_count": null,
   "metadata": {},
   "outputs": [],
   "source": [
    "returns_merged.sample(10)"
   ]
  },
  {
   "cell_type": "markdown",
   "metadata": {},
   "source": [
    "## Aggregate return"
   ]
  },
  {
   "cell_type": "code",
   "execution_count": null,
   "metadata": {},
   "outputs": [],
   "source": [
    "returns_merged.sample(5)"
   ]
  },
  {
   "cell_type": "code",
   "execution_count": null,
   "metadata": {},
   "outputs": [],
   "source": [
    "# Analysis of selected funds\n",
    "return_class = returns_merged[returns_merged['crsp_obj_cd'] == 'EFSH']"
   ]
  },
  {
   "cell_type": "code",
   "execution_count": null,
   "metadata": {},
   "outputs": [],
   "source": [
    "return_class = (return_class['mret']\n",
    "    .groupby([\n",
    "        return_class['crsp_obj_cd'],\n",
    "        return_class['caldt']\n",
    "     ])\n",
    "    .agg(['mean','count']))"
   ]
  },
  {
   "cell_type": "code",
   "execution_count": null,
   "metadata": {},
   "outputs": [],
   "source": [
    "return_class.loc[:,'cumulative'] = (return_class.loc[:,'mean'].fillna(0)+1).cumprod()"
   ]
  },
  {
   "cell_type": "markdown",
   "metadata": {},
   "source": [
    "Cum return over time"
   ]
  },
  {
   "cell_type": "code",
   "execution_count": null,
   "metadata": {},
   "outputs": [],
   "source": [
    "return_class['mean'].plot(kind='line',\n",
    "           color = 'b',\n",
    "          figsize=(16,10))"
   ]
  },
  {
   "cell_type": "markdown",
   "metadata": {},
   "source": [
    "Different from zero?"
   ]
  },
  {
   "cell_type": "code",
   "execution_count": null,
   "metadata": {},
   "outputs": [],
   "source": [
    "return_class.loc[:,['mean']].boxplot()"
   ]
  },
  {
   "cell_type": "markdown",
   "metadata": {},
   "source": [
    "## Objective codes"
   ]
  },
  {
   "cell_type": "code",
   "execution_count": null,
   "metadata": {},
   "outputs": [],
   "source": [
    "returns_grouped = (returns_merged['cum']\n",
    "    .groupby([\n",
    "        returns_merged['crsp_obj_cd'],\n",
    "#        returns_merged['caldt']\n",
    "     ]))"
   ]
  },
  {
   "cell_type": "code",
   "execution_count": null,
   "metadata": {},
   "outputs": [],
   "source": [
    "returns_grouped = returns_grouped.describe()"
   ]
  },
  {
   "cell_type": "code",
   "execution_count": null,
   "metadata": {},
   "outputs": [],
   "source": [
    "returns_grouped['mean'].sort_values().plot(\n",
    "            kind='bar',\n",
    "            color = 'b',\n",
    "            figsize=(16,10))"
   ]
  },
  {
   "cell_type": "markdown",
   "metadata": {},
   "source": [
    "## Precprocessing holdings data\n"
   ]
  },
  {
   "cell_type": "code",
   "execution_count": null,
   "metadata": {},
   "outputs": [],
   "source": [
    "holdings_svd = np.array(svd.fit_transform(holdings_f))\n",
    "holdings_svd"
   ]
  },
  {
   "cell_type": "code",
   "execution_count": null,
   "metadata": {},
   "outputs": [],
   "source": [
    "holdings_scaled = scale(holdings_f,with_mean=False)\n",
    "holdings_scaled"
   ]
  },
  {
   "cell_type": "code",
   "execution_count": null,
   "metadata": {},
   "outputs": [],
   "source": [
    "holdings_maxabs = MaxAbsScaler().fit_transform(holdings_f)\n",
    "holdings_maxabs"
   ]
  },
  {
   "cell_type": "code",
   "execution_count": null,
   "metadata": {},
   "outputs": [],
   "source": [
    "plt.figure(figsize=(20,8))\n",
    "\n",
    "g = sns.distplot(np.array(holdings_f.data).flatten(),label='Original',bins=1000,kde = False)\n",
    "sns.distplot(holdings_svd.flatten(),label='SVD',bins=1000, kde = False)\n",
    "#sns.distplot(np.array(holdings_scaled.data).flatten(),label='Scaled',bins=1000,kde = False)\n",
    "g = sns.distplot(np.array(holdings_maxabs.data).flatten(),label='MaxAbs',bins=1000,kde = False)\n",
    "\n",
    "plt.legend()\n",
    "g.set(xlim=[0,1])"
   ]
  },
  {
   "cell_type": "code",
   "execution_count": null,
   "metadata": {},
   "outputs": [],
   "source": []
  }
 ],
 "metadata": {
  "hide_input": false,
  "kernelspec": {
   "display_name": "Python 3",
   "language": "python",
   "name": "python3"
  },
  "language_info": {
   "codemirror_mode": {
    "name": "ipython",
    "version": 3
   },
   "file_extension": ".py",
   "mimetype": "text/x-python",
   "name": "python",
   "nbconvert_exporter": "python",
   "pygments_lexer": "ipython3",
   "version": "3.7.4"
  },
  "toc": {
   "base_numbering": 1,
   "nav_menu": {},
   "number_sections": true,
   "sideBar": true,
   "skip_h1_title": false,
   "title_cell": "Table of Contents",
   "title_sidebar": "Contents",
   "toc_cell": true,
   "toc_position": {},
   "toc_section_display": true,
   "toc_window_display": false
  }
 },
 "nbformat": 4,
 "nbformat_minor": 2
}
