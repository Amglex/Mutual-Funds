{
 "cells": [
  {
   "cell_type": "markdown",
   "metadata": {
    "toc": true
   },
   "source": [
    "<h1>Table of Contents<span class=\"tocSkip\"></span></h1>\n",
    "<div class=\"toc\"><ul class=\"toc-item\"><li><span><a href=\"#Analysis-of-monthly-return-data\" data-toc-modified-id=\"Analysis-of-monthly-return-data-1\"><span class=\"toc-item-num\">1&nbsp;&nbsp;</span>Analysis of monthly return data</a></span><ul class=\"toc-item\"><li><span><a href=\"#Distribution-by-date\" data-toc-modified-id=\"Distribution-by-date-1.1\"><span class=\"toc-item-num\">1.1&nbsp;&nbsp;</span>Distribution by date</a></span></li><li><span><a href=\"#Observations-per-Fund\" data-toc-modified-id=\"Observations-per-Fund-1.2\"><span class=\"toc-item-num\">1.2&nbsp;&nbsp;</span>Observations per Fund</a></span></li><li><span><a href=\"#Map-Obj-codes-to-returns\" data-toc-modified-id=\"Map-Obj-codes-to-returns-1.3\"><span class=\"toc-item-num\">1.3&nbsp;&nbsp;</span>Map Obj codes to returns</a></span></li><li><span><a href=\"#Aggregate-return\" data-toc-modified-id=\"Aggregate-return-1.4\"><span class=\"toc-item-num\">1.4&nbsp;&nbsp;</span>Aggregate return</a></span></li><li><span><a href=\"#Objective-codes\" data-toc-modified-id=\"Objective-codes-1.5\"><span class=\"toc-item-num\">1.5&nbsp;&nbsp;</span>Objective codes</a></span></li></ul></li></ul></div>"
   ]
  },
  {
   "cell_type": "markdown",
   "metadata": {},
   "source": [
    "# Analysis of monthly return data"
   ]
  },
  {
   "cell_type": "markdown",
   "metadata": {},
   "source": [
    "Description:\n"
   ]
  },
  {
   "cell_type": "code",
   "execution_count": null,
   "metadata": {},
   "outputs": [],
   "source": [
    "import feather\n",
    "import numpy as np\n",
    "import pandas as pd\n",
    "import matplotlib.pyplot as plt\n"
   ]
  },
  {
   "cell_type": "code",
   "execution_count": null,
   "metadata": {},
   "outputs": [],
   "source": [
    "path = '../data/processed/returns.feather'\n",
    "returns_a = feather.read_dataframe(path)"
   ]
  },
  {
   "cell_type": "code",
   "execution_count": null,
   "metadata": {},
   "outputs": [],
   "source": [
    "path = '../data/processed/row_info.feather'\n",
    "summary = feather.read_dataframe(path)"
   ]
  },
  {
   "cell_type": "code",
   "execution_count": null,
   "metadata": {},
   "outputs": [],
   "source": [
    "returns = returns_a.iloc[:,:]\n",
    "returns.shape"
   ]
  },
  {
   "cell_type": "markdown",
   "metadata": {},
   "source": [
    "## Distribution by date"
   ]
  },
  {
   "cell_type": "code",
   "execution_count": null,
   "metadata": {},
   "outputs": [],
   "source": [
    "# Analysis of selected funds\n",
    "\n",
    "## Distribution by date(returns['report_dt']\n",
    "(returns['crsp_fundno']\n",
    "    .groupby([\n",
    "         returns['caldt'].dt.year,\n",
    "#         returns['caldt'].dt.month\n",
    "     ])\n",
    "     .count()\n",
    "     .plot(kind='bar',\n",
    "           color = 'b',\n",
    "          figsize=(20,10)))"
   ]
  },
  {
   "cell_type": "markdown",
   "metadata": {},
   "source": [
    "## Observations per Fund"
   ]
  },
  {
   "cell_type": "code",
   "execution_count": null,
   "metadata": {},
   "outputs": [],
   "source": [
    "# Analysis of selected funds\n",
    "\n",
    "## Distribution by date(returns['report_dt']\n",
    "a = (returns['crsp_fundno']\n",
    "    .groupby([\n",
    "         returns['crsp_fundno']\n",
    "     ])\n",
    "    .count()\n",
    ")\n",
    "a = a.groupby(a).count().cumsum().T"
   ]
  },
  {
   "cell_type": "code",
   "execution_count": null,
   "metadata": {},
   "outputs": [],
   "source": [
    "a.plot(kind='line',\n",
    "       color = 'b',\n",
    "       figsize=(10,5))"
   ]
  },
  {
   "cell_type": "markdown",
   "metadata": {},
   "source": [
    "## Map Obj codes to returns"
   ]
  },
  {
   "cell_type": "code",
   "execution_count": null,
   "metadata": {},
   "outputs": [],
   "source": [
    "returns_merged = returns.merge(summary[['fund_name','lipper_class','crsp_fundno']], how='left', on=['crsp_fundno'])\n",
    "returns_merged = returns_merged.dropna(axis = 0, how = 'any')"
   ]
  },
  {
   "cell_type": "code",
   "execution_count": null,
   "metadata": {},
   "outputs": [],
   "source": [
    "returns_merged.sample(10)"
   ]
  },
  {
   "cell_type": "markdown",
   "metadata": {},
   "source": [
    "## Aggregate return"
   ]
  },
  {
   "cell_type": "code",
   "execution_count": null,
   "metadata": {},
   "outputs": [],
   "source": [
    "# Analysis of selected funds\n",
    "return_class = returns_merged[returns_merged['lipper_class'] == 'LCCE']"
   ]
  },
  {
   "cell_type": "code",
   "execution_count": null,
   "metadata": {},
   "outputs": [],
   "source": [
    "return_class = (return_class['mret']\n",
    "    .groupby([\n",
    "        return_class['lipper_class'],\n",
    "        return_class['caldt']\n",
    "     ])\n",
    "    .agg(['mean','count']))"
   ]
  },
  {
   "cell_type": "code",
   "execution_count": null,
   "metadata": {},
   "outputs": [],
   "source": [
    "return_class.loc[:,'cumulative'] = (return_class.loc[:,'mean'].fillna(0)+1).cumprod()"
   ]
  },
  {
   "cell_type": "markdown",
   "metadata": {},
   "source": [
    "Cum return over time"
   ]
  },
  {
   "cell_type": "code",
   "execution_count": null,
   "metadata": {},
   "outputs": [],
   "source": [
    "return_class['mean'].plot(kind='line',\n",
    "           color = 'b',\n",
    "          figsize=(16,10))"
   ]
  },
  {
   "cell_type": "markdown",
   "metadata": {},
   "source": [
    "Different from zero?"
   ]
  },
  {
   "cell_type": "code",
   "execution_count": null,
   "metadata": {},
   "outputs": [],
   "source": [
    "return_class.loc[:,['mean']].boxplot()"
   ]
  },
  {
   "cell_type": "markdown",
   "metadata": {},
   "source": [
    "## Objective codes"
   ]
  },
  {
   "cell_type": "code",
   "execution_count": null,
   "metadata": {},
   "outputs": [],
   "source": [
    "return_class.sample()"
   ]
  },
  {
   "cell_type": "code",
   "execution_count": null,
   "metadata": {},
   "outputs": [],
   "source": [
    "returns_grouped = (return_class['cumulative']\n",
    "    .groupby(\n",
    "        level=[0]))"
   ]
  },
  {
   "cell_type": "code",
   "execution_count": null,
   "metadata": {},
   "outputs": [],
   "source": [
    "returns_grouped = returns_grouped.describe()"
   ]
  },
  {
   "cell_type": "code",
   "execution_count": null,
   "metadata": {},
   "outputs": [],
   "source": [
    "returns_grouped['mean'].sort_values().plot(\n",
    "            kind='bar',\n",
    "            color = 'b',\n",
    "            figsize=(5,5))"
   ]
  },
  {
   "cell_type": "code",
   "execution_count": null,
   "metadata": {},
   "outputs": [],
   "source": []
  },
  {
   "cell_type": "code",
   "execution_count": null,
   "metadata": {},
   "outputs": [],
   "source": []
  }
 ],
 "metadata": {
  "hide_input": false,
  "kernelspec": {
   "display_name": "Python 3",
   "language": "python",
   "name": "python3"
  },
  "language_info": {
   "codemirror_mode": {
    "name": "ipython",
    "version": 3
   },
   "file_extension": ".py",
   "mimetype": "text/x-python",
   "name": "python",
   "nbconvert_exporter": "python",
   "pygments_lexer": "ipython3",
   "version": "3.7.4"
  },
  "toc": {
   "base_numbering": 1,
   "nav_menu": {},
   "number_sections": true,
   "sideBar": true,
   "skip_h1_title": false,
   "title_cell": "Table of Contents",
   "title_sidebar": "Contents",
   "toc_cell": true,
   "toc_position": {},
   "toc_section_display": true,
   "toc_window_display": false
  }
 },
 "nbformat": 4,
 "nbformat_minor": 2
}
