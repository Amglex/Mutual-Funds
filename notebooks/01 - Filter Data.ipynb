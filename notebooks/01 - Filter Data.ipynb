{
 "cells": [
  {
   "cell_type": "markdown",
   "metadata": {},
   "source": [
    "## Description"
   ]
  },
  {
   "cell_type": "markdown",
   "metadata": {},
   "source": [
    "Descirption:\n",
    "\n",
    "Filter the three main data sources (Fund Info, Returns and Holdings)\n",
    "based on some parameters and save the result.\n",
    "\n",
    "Approach:\n",
    "1. Match fund summary to each portfolio/date pair\n",
    "2. Filter fund/date pairs based on those infos\n",
    "3. Filter returns based on final sample of holdings\n",
    "\n",
    "Parameters: \n",
    "- Obj_codes\n",
    "- Percentage\n",
    "- Flags"
   ]
  },
  {
   "cell_type": "code",
   "execution_count": 1,
   "metadata": {},
   "outputs": [],
   "source": [
    "import os\n",
    "import sys\n",
    "\n",
    "# add the 'src' directory as one where we can import modules\n",
    "src_dir = os.path.join(os.getcwd(), os.pardir, 'src')\n",
    "sys.path.append(src_dir)"
   ]
  },
  {
   "cell_type": "code",
   "execution_count": 2,
   "metadata": {},
   "outputs": [],
   "source": [
    "# import my method from the source code\n",
    "from data.basic_functions import * \n",
    "from scipy import sparse\n",
    "\n",
    "import numpy as np\n",
    "import pandas as pd"
   ]
  },
  {
   "cell_type": "markdown",
   "metadata": {},
   "source": [
    "### Load the three data files"
   ]
  },
  {
   "cell_type": "code",
   "execution_count": null,
   "metadata": {},
   "outputs": [],
   "source": [
    "data_path = '../data/raw/'\n",
    "\n",
    "returns = load_data(data_path,'monthly_returns')\n",
    "summary = load_data(data_path,'total_summary')\n",
    "# info_matched = load_data(data_path,'info_df_total')\n",
    "\n",
    "npz_path = data_path + 'large_sparse.npz'\n",
    "holdings = sparse.load_npz(npz_path)"
   ]
  },
  {
   "cell_type": "markdown",
   "metadata": {},
   "source": [
    "# Functions"
   ]
  },
  {
   "cell_type": "code",
   "execution_count": 78,
   "metadata": {},
   "outputs": [],
   "source": [
    "def port_ID_split(port_ID):\n",
    "    \"\"\"\n",
    "    \n",
    "    \"\"\"\n",
    "    if len(port_ID) == 18:\n",
    "        report_dt = pd.Timestamp(port_ID[8:])\n",
    "        port_no = pd.to_numeric(port_ID[:7])\n",
    "        return(port_no,report_dt)"
   ]
  },
  {
   "cell_type": "code",
   "execution_count": 79,
   "metadata": {},
   "outputs": [],
   "source": [
    "def port_ID_to_port_info(port_ID,info_df):\n",
    "    \"\"\"\n",
    "    \n",
    "    \"\"\"\n",
    "    if len(port_ID) == 18:\n",
    "        \n",
    "        port_no, report_dt = port_ID_split(port_ID)\n",
    "        \n",
    "        try: \n",
    "            mask = info_df['crsp_portno'].values == port_no\n",
    "            my_class = info_df.loc[mask]\n",
    "\n",
    "            my_class_n = my_class.loc[\n",
    "                (my_class.begdt <= report_dt) & \n",
    "                (my_class.enddt >= report_dt)]\n",
    "\n",
    "            crsp_obj_cd = my_class_n['crsp_obj_cd'].values[0]\n",
    "            index_fund_flag = my_class_n['index_fund_flag'].values[0]\n",
    "            et_flag = my_class_n['et_flag'].values[0]\n",
    "\n",
    "            return(port_ID, port_no, report_dt, index_fund_flag, et_flag, crsp_obj_cd)        \n",
    "\n",
    "        except: return(port_ID,port_no,report_dt,np.nan,np.nan,np.nan)\n",
    "    else: return(np.nan,np.nan,np.nan,np.nan,np.nan,np.nan)"
   ]
  },
  {
   "cell_type": "code",
   "execution_count": 80,
   "metadata": {},
   "outputs": [],
   "source": [
    "def port_map_to_port_ID(port_map):\n",
    "    \"\"\" \n",
    "    \n",
    "    \"\"\"\n",
    "    left = []\n",
    "    right = []\n",
    "    keys = list(port_no_map.keys())\n",
    "    for i in keys:\n",
    "        left_temp, right_temp = i.split('-')\n",
    "        left.append(left_temp)\n",
    "        right.append(right_temp)\n",
    "\n",
    "    int_date = pd.to_numeric(right)\n",
    "    date = pd.to_timedelta(int_date, unit='D') + pd.Timestamp('1960-1-1')\n",
    "\n",
    "    port_ID_new = [m + '-' + str(n.date()) for m,n in zip(left,date)]\n",
    "    return(port_ID_new)"
   ]
  },
  {
   "cell_type": "markdown",
   "metadata": {},
   "source": [
    "# Data"
   ]
  },
  {
   "cell_type": "code",
   "execution_count": 72,
   "metadata": {},
   "outputs": [],
   "source": [
    "info = summary"
   ]
  },
  {
   "cell_type": "code",
   "execution_count": 75,
   "metadata": {},
   "outputs": [],
   "source": [
    "stock_map = np.load('../data/interim/stock_map.npy')  # TODO make portnomap with real date\n",
    "port_no_map_a = np.load('../data/interim/port_no_map.npy') \n",
    "port_no_map = port_no_map_a.item()"
   ]
  },
  {
   "cell_type": "code",
   "execution_count": 83,
   "metadata": {},
   "outputs": [
    {
     "ename": "NameError",
     "evalue": "name 'pd' is not defined",
     "output_type": "error",
     "traceback": [
      "\u001b[0;31m---------------------------------------------------------------------------\u001b[0m",
      "\u001b[0;31mNameError\u001b[0m                                 Traceback (most recent call last)",
      "\u001b[0;32m<ipython-input-83-4c62ad82d0cb>\u001b[0m in \u001b[0;36m<module>\u001b[0;34m\u001b[0m\n\u001b[0;32m----> 1\u001b[0;31m \u001b[0mport_no_map\u001b[0m \u001b[0;34m=\u001b[0m \u001b[0mport_map_to_port_ID\u001b[0m\u001b[0;34m(\u001b[0m\u001b[0mport_no_map\u001b[0m\u001b[0;34m)\u001b[0m\u001b[0;34m\u001b[0m\u001b[0;34m\u001b[0m\u001b[0m\n\u001b[0m",
      "\u001b[0;32m<ipython-input-80-00ef64957476>\u001b[0m in \u001b[0;36mport_map_to_port_ID\u001b[0;34m(port_map)\u001b[0m\n\u001b[1;32m     11\u001b[0m         \u001b[0mright\u001b[0m\u001b[0;34m.\u001b[0m\u001b[0mappend\u001b[0m\u001b[0;34m(\u001b[0m\u001b[0mright_temp\u001b[0m\u001b[0;34m)\u001b[0m\u001b[0;34m\u001b[0m\u001b[0;34m\u001b[0m\u001b[0m\n\u001b[1;32m     12\u001b[0m \u001b[0;34m\u001b[0m\u001b[0m\n\u001b[0;32m---> 13\u001b[0;31m     \u001b[0mint_date\u001b[0m \u001b[0;34m=\u001b[0m \u001b[0mpd\u001b[0m\u001b[0;34m.\u001b[0m\u001b[0mto_numeric\u001b[0m\u001b[0;34m(\u001b[0m\u001b[0mright\u001b[0m\u001b[0;34m)\u001b[0m\u001b[0;34m\u001b[0m\u001b[0;34m\u001b[0m\u001b[0m\n\u001b[0m\u001b[1;32m     14\u001b[0m     \u001b[0mdate\u001b[0m \u001b[0;34m=\u001b[0m \u001b[0mpd\u001b[0m\u001b[0;34m.\u001b[0m\u001b[0mto_timedelta\u001b[0m\u001b[0;34m(\u001b[0m\u001b[0mint_date\u001b[0m\u001b[0;34m,\u001b[0m \u001b[0munit\u001b[0m\u001b[0;34m=\u001b[0m\u001b[0;34m'D'\u001b[0m\u001b[0;34m)\u001b[0m \u001b[0;34m+\u001b[0m \u001b[0mpd\u001b[0m\u001b[0;34m.\u001b[0m\u001b[0mTimestamp\u001b[0m\u001b[0;34m(\u001b[0m\u001b[0;34m'1960-1-1'\u001b[0m\u001b[0;34m)\u001b[0m\u001b[0;34m\u001b[0m\u001b[0;34m\u001b[0m\u001b[0m\n\u001b[1;32m     15\u001b[0m \u001b[0;34m\u001b[0m\u001b[0m\n",
      "\u001b[0;31mNameError\u001b[0m: name 'pd' is not defined"
     ]
    }
   ],
   "source": [
    "port_no_map = port_map_to_port_ID(port_no_map)"
   ]
  },
  {
   "cell_type": "code",
   "execution_count": 77,
   "metadata": {},
   "outputs": [
    {
     "name": "stdout",
     "output_type": "stream",
     "text": [
      "Shape of summary before cleaning is: 166,461 / 12\n"
     ]
    }
   ],
   "source": [
    "print('Shape of summary before cleaning is: {:,} / {:,}'.format(info.shape[0],info.shape[1]))"
   ]
  },
  {
   "cell_type": "code",
   "execution_count": 136,
   "metadata": {},
   "outputs": [],
   "source": [
    "# Delet not nas\n",
    "info_clean = info[info['crsp_portno'].notna()]\n",
    "\n",
    "# Drop duplicates based on all but two columns\n",
    "info_clean = info_clean.drop_duplicates(info_clean.columns.difference(['crsp_fundno','fund_name']))\n",
    "\n",
    "# Downcast portno\n",
    "info_clean.loc[:,'crsp_portno'] = pd.to_numeric(info_clean.loc[:,'crsp_portno'], downcast='integer')\n",
    "# info_clean = info_clean.set_index('crsp_portno')"
   ]
  },
  {
   "cell_type": "code",
   "execution_count": 133,
   "metadata": {},
   "outputs": [
    {
     "name": "stdout",
     "output_type": "stream",
     "text": [
      "Shape after cleaning is: 95,614 / 12\n"
     ]
    }
   ],
   "source": [
    "print('Shape after cleaning is: {:,} / {:,}'.format(info_clean.shape[0],info_clean.shape[1]))"
   ]
  },
  {
   "cell_type": "markdown",
   "metadata": {},
   "source": [
    "# Match obj code to port_ID"
   ]
  },
  {
   "cell_type": "code",
   "execution_count": 398,
   "metadata": {},
   "outputs": [
    {
     "name": "stdout",
     "output_type": "stream",
     "text": [
      "CPU times: user 6min 21s, sys: 1.29 s, total: 6min 22s\n",
      "Wall time: 6min 23s\n"
     ]
    }
   ],
   "source": [
    "%%time\n",
    "\n",
    "test = [port_ID_to_port_info(x,info_clean) for x in port_no_map[-10_000:]]"
   ]
  },
  {
   "cell_type": "code",
   "execution_count": 545,
   "metadata": {},
   "outputs": [],
   "source": [
    "labels = ['port_ID','port_no','report_dt','index_fund_flag','et_flag','crsp_obj_cd']"
   ]
  },
  {
   "cell_type": "code",
   "execution_count": 546,
   "metadata": {},
   "outputs": [],
   "source": [
    "info_df = pd.DataFrame.from_records(test, columns=labels)"
   ]
  },
  {
   "cell_type": "code",
   "execution_count": 547,
   "metadata": {},
   "outputs": [
    {
     "data": {
      "text/html": [
       "<div>\n",
       "<style scoped>\n",
       "    .dataframe tbody tr th:only-of-type {\n",
       "        vertical-align: middle;\n",
       "    }\n",
       "\n",
       "    .dataframe tbody tr th {\n",
       "        vertical-align: top;\n",
       "    }\n",
       "\n",
       "    .dataframe thead th {\n",
       "        text-align: right;\n",
       "    }\n",
       "</style>\n",
       "<table border=\"1\" class=\"dataframe\">\n",
       "  <thead>\n",
       "    <tr style=\"text-align: right;\">\n",
       "      <th></th>\n",
       "      <th>port_ID</th>\n",
       "      <th>port_no</th>\n",
       "      <th>report_dt</th>\n",
       "      <th>index_fund_flag</th>\n",
       "      <th>et_flag</th>\n",
       "      <th>crsp_obj_cd</th>\n",
       "    </tr>\n",
       "  </thead>\n",
       "  <tbody>\n",
       "    <tr>\n",
       "      <th>0</th>\n",
       "      <td>1028236-2010-09-30</td>\n",
       "      <td>1028236.0</td>\n",
       "      <td>2010-09-30</td>\n",
       "      <td>D</td>\n",
       "      <td>F</td>\n",
       "      <td>EDCM</td>\n",
       "    </tr>\n",
       "    <tr>\n",
       "      <th>1</th>\n",
       "      <td>1028236-2010-10-31</td>\n",
       "      <td>1028236.0</td>\n",
       "      <td>2010-10-31</td>\n",
       "      <td>D</td>\n",
       "      <td>F</td>\n",
       "      <td>EDCM</td>\n",
       "    </tr>\n",
       "    <tr>\n",
       "      <th>2</th>\n",
       "      <td>1028236-2010-11-30</td>\n",
       "      <td>1028236.0</td>\n",
       "      <td>2010-11-30</td>\n",
       "      <td>D</td>\n",
       "      <td>F</td>\n",
       "      <td>EDCM</td>\n",
       "    </tr>\n",
       "    <tr>\n",
       "      <th>3</th>\n",
       "      <td>1028236-2010-12-31</td>\n",
       "      <td>1028236.0</td>\n",
       "      <td>2010-12-31</td>\n",
       "      <td>D</td>\n",
       "      <td>F</td>\n",
       "      <td>EDCM</td>\n",
       "    </tr>\n",
       "    <tr>\n",
       "      <th>4</th>\n",
       "      <td>1028236-2011-01-31</td>\n",
       "      <td>1028236.0</td>\n",
       "      <td>2011-01-31</td>\n",
       "      <td>D</td>\n",
       "      <td>F</td>\n",
       "      <td>EDCM</td>\n",
       "    </tr>\n",
       "  </tbody>\n",
       "</table>\n",
       "</div>"
      ],
      "text/plain": [
       "              port_ID    port_no  report_dt index_fund_flag et_flag  \\\n",
       "0  1028236-2010-09-30  1028236.0 2010-09-30               D       F   \n",
       "1  1028236-2010-10-31  1028236.0 2010-10-31               D       F   \n",
       "2  1028236-2010-11-30  1028236.0 2010-11-30               D       F   \n",
       "3  1028236-2010-12-31  1028236.0 2010-12-31               D       F   \n",
       "4  1028236-2011-01-31  1028236.0 2011-01-31               D       F   \n",
       "\n",
       "  crsp_obj_cd  \n",
       "0        EDCM  \n",
       "1        EDCM  \n",
       "2        EDCM  \n",
       "3        EDCM  \n",
       "4        EDCM  "
      ]
     },
     "execution_count": 547,
     "metadata": {},
     "output_type": "execute_result"
    }
   ],
   "source": [
    "info_df.head()"
   ]
  },
  {
   "cell_type": "code",
   "execution_count": 548,
   "metadata": {
    "scrolled": true
   },
   "outputs": [
    {
     "data": {
      "text/plain": [
       "(1143, 6)"
      ]
     },
     "execution_count": 548,
     "metadata": {},
     "output_type": "execute_result"
    }
   ],
   "source": [
    "info_df[info_df['crsp_obj_cd'].isna()].shape # -> For some portfolios there is simly no row in fund_header"
   ]
  },
  {
   "cell_type": "markdown",
   "metadata": {},
   "source": [
    "# Clean data"
   ]
  },
  {
   "cell_type": "code",
   "execution_count": 549,
   "metadata": {},
   "outputs": [],
   "source": [
    "# Replace NaN with N for not an ETF\n",
    "info_df.loc[info_df['et_flag'].isna(),'et_flag'] = 'N'"
   ]
  },
  {
   "cell_type": "code",
   "execution_count": 550,
   "metadata": {},
   "outputs": [],
   "source": [
    "# Replace NaN with N for not an Index fund\n",
    "info_df.loc[info_df['index_fund_flag'].isna(),'index_fund_flag'] = 'N'"
   ]
  },
  {
   "cell_type": "code",
   "execution_count": 551,
   "metadata": {},
   "outputs": [],
   "source": [
    "# Creat new flag var 'mutual_fund'\n",
    "info_df.loc[(info_df['index_fund_flag'] == 'N') & (info_df['et_flag'] == 'N'),'mutual_fund'] = 'Y'\n",
    "info_df.loc[info_df['mutual_fund'].isna(),'mutual_fund'] = 'N'"
   ]
  },
  {
   "cell_type": "code",
   "execution_count": 556,
   "metadata": {},
   "outputs": [
    {
     "data": {
      "text/html": [
       "<div>\n",
       "<style scoped>\n",
       "    .dataframe tbody tr th:only-of-type {\n",
       "        vertical-align: middle;\n",
       "    }\n",
       "\n",
       "    .dataframe tbody tr th {\n",
       "        vertical-align: top;\n",
       "    }\n",
       "\n",
       "    .dataframe thead th {\n",
       "        text-align: right;\n",
       "    }\n",
       "</style>\n",
       "<table border=\"1\" class=\"dataframe\">\n",
       "  <thead>\n",
       "    <tr style=\"text-align: right;\">\n",
       "      <th></th>\n",
       "      <th>port_ID</th>\n",
       "      <th>port_no</th>\n",
       "      <th>report_dt</th>\n",
       "      <th>index_fund_flag</th>\n",
       "      <th>et_flag</th>\n",
       "      <th>crsp_obj_cd</th>\n",
       "      <th>mutual_fund</th>\n",
       "      <th>s_crsp_obj_cd</th>\n",
       "    </tr>\n",
       "  </thead>\n",
       "  <tbody>\n",
       "    <tr>\n",
       "      <th>165136</th>\n",
       "      <td>1032558-2016-11-30</td>\n",
       "      <td>1032558.0</td>\n",
       "      <td>2016-11-30</td>\n",
       "      <td>B</td>\n",
       "      <td>F</td>\n",
       "      <td>O</td>\n",
       "      <td>N</td>\n",
       "      <td>O</td>\n",
       "    </tr>\n",
       "    <tr>\n",
       "      <th>112546</th>\n",
       "      <td>1030897-2014-05-31</td>\n",
       "      <td>1030897.0</td>\n",
       "      <td>2014-05-31</td>\n",
       "      <td>N</td>\n",
       "      <td>N</td>\n",
       "      <td>I</td>\n",
       "      <td>Y</td>\n",
       "      <td>I</td>\n",
       "    </tr>\n",
       "    <tr>\n",
       "      <th>77294</th>\n",
       "      <td>1029859-2013-08-31</td>\n",
       "      <td>1029859.0</td>\n",
       "      <td>2013-08-31</td>\n",
       "      <td>N</td>\n",
       "      <td>N</td>\n",
       "      <td>EDYB</td>\n",
       "      <td>Y</td>\n",
       "      <td>EDYB</td>\n",
       "    </tr>\n",
       "    <tr>\n",
       "      <th>75948</th>\n",
       "      <td>1029841-2015-07-31</td>\n",
       "      <td>1029841.0</td>\n",
       "      <td>2015-07-31</td>\n",
       "      <td>D</td>\n",
       "      <td>F</td>\n",
       "      <td>EFSF</td>\n",
       "      <td>N</td>\n",
       "      <td>Other</td>\n",
       "    </tr>\n",
       "    <tr>\n",
       "      <th>182137</th>\n",
       "      <td>1033328-2015-12-31</td>\n",
       "      <td>1033328.0</td>\n",
       "      <td>2015-12-31</td>\n",
       "      <td>N</td>\n",
       "      <td>N</td>\n",
       "      <td>I</td>\n",
       "      <td>Y</td>\n",
       "      <td>I</td>\n",
       "    </tr>\n",
       "  </tbody>\n",
       "</table>\n",
       "</div>"
      ],
      "text/plain": [
       "                   port_ID    port_no  report_dt index_fund_flag et_flag  \\\n",
       "165136  1032558-2016-11-30  1032558.0 2016-11-30               B       F   \n",
       "112546  1030897-2014-05-31  1030897.0 2014-05-31               N       N   \n",
       "77294   1029859-2013-08-31  1029859.0 2013-08-31               N       N   \n",
       "75948   1029841-2015-07-31  1029841.0 2015-07-31               D       F   \n",
       "182137  1033328-2015-12-31  1033328.0 2015-12-31               N       N   \n",
       "\n",
       "       crsp_obj_cd mutual_fund s_crsp_obj_cd  \n",
       "165136           O           N             O  \n",
       "112546           I           Y             I  \n",
       "77294         EDYB           Y          EDYB  \n",
       "75948         EFSF           N         Other  \n",
       "182137           I           Y             I  "
      ]
     },
     "execution_count": 556,
     "metadata": {},
     "output_type": "execute_result"
    }
   ],
   "source": [
    "# Creat subsample of crsp_obj_cd\n",
    "most_common = (info_df[\"port_no\"]\n",
    "        .groupby([\n",
    "        info_df[\"crsp_obj_cd\"],\n",
    "        ])\n",
    "        .count()\n",
    "        .sort_values()[-20:]\n",
    "        .index\n",
    ")\n",
    "\n",
    "info_df.loc[info_df[\"crsp_obj_cd\"].isin(most_common),'s_crsp_obj_cd'] = info_df[\"crsp_obj_cd\"]\n",
    "info_df.loc[info_df[\"s_crsp_obj_cd\"].isna(),'s_crsp_obj_cd'] = 'Other'\n",
    "\n",
    "info_df.sample(5)"
   ]
  },
  {
   "cell_type": "code",
   "execution_count": 553,
   "metadata": {},
   "outputs": [],
   "source": [
    "info_df.loc[info_df['mutual_fund'].isna(),'mutual_fund'] = 'N'"
   ]
  },
  {
   "cell_type": "code",
   "execution_count": 554,
   "metadata": {},
   "outputs": [
    {
     "data": {
      "text/html": [
       "<div>\n",
       "<style scoped>\n",
       "    .dataframe tbody tr th:only-of-type {\n",
       "        vertical-align: middle;\n",
       "    }\n",
       "\n",
       "    .dataframe tbody tr th {\n",
       "        vertical-align: top;\n",
       "    }\n",
       "\n",
       "    .dataframe thead th {\n",
       "        text-align: right;\n",
       "    }\n",
       "</style>\n",
       "<table border=\"1\" class=\"dataframe\">\n",
       "  <thead>\n",
       "    <tr style=\"text-align: right;\">\n",
       "      <th></th>\n",
       "      <th>port_ID</th>\n",
       "      <th>port_no</th>\n",
       "      <th>report_dt</th>\n",
       "      <th>index_fund_flag</th>\n",
       "      <th>et_flag</th>\n",
       "      <th>crsp_obj_cd</th>\n",
       "      <th>mutual_fund</th>\n",
       "      <th>s_crsp_obj_cd</th>\n",
       "    </tr>\n",
       "  </thead>\n",
       "  <tbody>\n",
       "    <tr>\n",
       "      <th>0</th>\n",
       "      <td>1028236-2010-09-30</td>\n",
       "      <td>1028236.0</td>\n",
       "      <td>2010-09-30</td>\n",
       "      <td>D</td>\n",
       "      <td>F</td>\n",
       "      <td>EDCM</td>\n",
       "      <td>N</td>\n",
       "      <td>EDCM</td>\n",
       "    </tr>\n",
       "    <tr>\n",
       "      <th>1</th>\n",
       "      <td>1028236-2010-10-31</td>\n",
       "      <td>1028236.0</td>\n",
       "      <td>2010-10-31</td>\n",
       "      <td>D</td>\n",
       "      <td>F</td>\n",
       "      <td>EDCM</td>\n",
       "      <td>N</td>\n",
       "      <td>EDCM</td>\n",
       "    </tr>\n",
       "    <tr>\n",
       "      <th>2</th>\n",
       "      <td>1028236-2010-11-30</td>\n",
       "      <td>1028236.0</td>\n",
       "      <td>2010-11-30</td>\n",
       "      <td>D</td>\n",
       "      <td>F</td>\n",
       "      <td>EDCM</td>\n",
       "      <td>N</td>\n",
       "      <td>EDCM</td>\n",
       "    </tr>\n",
       "    <tr>\n",
       "      <th>3</th>\n",
       "      <td>1028236-2010-12-31</td>\n",
       "      <td>1028236.0</td>\n",
       "      <td>2010-12-31</td>\n",
       "      <td>D</td>\n",
       "      <td>F</td>\n",
       "      <td>EDCM</td>\n",
       "      <td>N</td>\n",
       "      <td>EDCM</td>\n",
       "    </tr>\n",
       "    <tr>\n",
       "      <th>4</th>\n",
       "      <td>1028236-2011-01-31</td>\n",
       "      <td>1028236.0</td>\n",
       "      <td>2011-01-31</td>\n",
       "      <td>D</td>\n",
       "      <td>F</td>\n",
       "      <td>EDCM</td>\n",
       "      <td>N</td>\n",
       "      <td>EDCM</td>\n",
       "    </tr>\n",
       "  </tbody>\n",
       "</table>\n",
       "</div>"
      ],
      "text/plain": [
       "              port_ID    port_no  report_dt index_fund_flag et_flag  \\\n",
       "0  1028236-2010-09-30  1028236.0 2010-09-30               D       F   \n",
       "1  1028236-2010-10-31  1028236.0 2010-10-31               D       F   \n",
       "2  1028236-2010-11-30  1028236.0 2010-11-30               D       F   \n",
       "3  1028236-2010-12-31  1028236.0 2010-12-31               D       F   \n",
       "4  1028236-2011-01-31  1028236.0 2011-01-31               D       F   \n",
       "\n",
       "  crsp_obj_cd mutual_fund s_crsp_obj_cd  \n",
       "0        EDCM           N          EDCM  \n",
       "1        EDCM           N          EDCM  \n",
       "2        EDCM           N          EDCM  \n",
       "3        EDCM           N          EDCM  \n",
       "4        EDCM           N          EDCM  "
      ]
     },
     "execution_count": 554,
     "metadata": {},
     "output_type": "execute_result"
    }
   ],
   "source": [
    "info_df.head()"
   ]
  },
  {
   "cell_type": "markdown",
   "metadata": {},
   "source": [
    "# Save info_df"
   ]
  },
  {
   "cell_type": "code",
   "execution_count": 555,
   "metadata": {},
   "outputs": [],
   "source": [
    "path = 'data/info_df_total.feather'\n",
    "feather.write_dataframe(info_df,path)"
   ]
  },
  {
   "cell_type": "markdown",
   "metadata": {},
   "source": [
    "### Restrict to last 200k lines"
   ]
  },
  {
   "cell_type": "code",
   "execution_count": 69,
   "metadata": {},
   "outputs": [],
   "source": [
    "holdings_s = holdings[-200_000:] # TODO -> anderes skript implementieren"
   ]
  },
  {
   "cell_type": "markdown",
   "metadata": {},
   "source": [
    "### Shape"
   ]
  },
  {
   "cell_type": "code",
   "execution_count": 71,
   "metadata": {},
   "outputs": [
    {
     "data": {
      "text/plain": [
       "(200000, 2382968)"
      ]
     },
     "execution_count": 71,
     "metadata": {},
     "output_type": "execute_result"
    }
   ],
   "source": [
    "holdings_s.shape"
   ]
  },
  {
   "cell_type": "code",
   "execution_count": 65,
   "metadata": {},
   "outputs": [
    {
     "data": {
      "text/plain": [
       "(200000, 8)"
      ]
     },
     "execution_count": 65,
     "metadata": {},
     "output_type": "execute_result"
    }
   ],
   "source": [
    "info_matched.shape"
   ]
  },
  {
   "cell_type": "markdown",
   "metadata": {},
   "source": [
    "### Selection criteria"
   ]
  },
  {
   "cell_type": "code",
   "execution_count": 32,
   "metadata": {},
   "outputs": [],
   "source": [
    "selected_obj_codes = ('EDYG','EDYB' ,'EDYH' ,'EDYS' ,'EDYI')\n",
    "selected_portion = 0.1"
   ]
  },
  {
   "cell_type": "markdown",
   "metadata": {},
   "source": [
    "### Select funds from summary"
   ]
  },
  {
   "cell_type": "markdown",
   "metadata": {},
   "source": [
    "First select the funds based on their characteristics in the fund_summary table\n",
    "\n",
    "TODO: Flags\n",
    "\n",
    "Then select the matching fund returns and fund holdings"
   ]
  },
  {
   "cell_type": "code",
   "execution_count": 34,
   "metadata": {},
   "outputs": [
    {
     "data": {
      "text/html": [
       "<div>\n",
       "<style scoped>\n",
       "    .dataframe tbody tr th:only-of-type {\n",
       "        vertical-align: middle;\n",
       "    }\n",
       "\n",
       "    .dataframe tbody tr th {\n",
       "        vertical-align: top;\n",
       "    }\n",
       "\n",
       "    .dataframe thead th {\n",
       "        text-align: right;\n",
       "    }\n",
       "</style>\n",
       "<table border=\"1\" class=\"dataframe\">\n",
       "  <thead>\n",
       "    <tr style=\"text-align: right;\">\n",
       "      <th></th>\n",
       "      <th>crsp_fundno</th>\n",
       "      <th>crsp_portno</th>\n",
       "      <th>fund_name</th>\n",
       "      <th>first_offer_dt</th>\n",
       "      <th>index_fund_flag</th>\n",
       "      <th>et_flag</th>\n",
       "      <th>begdt</th>\n",
       "      <th>enddt</th>\n",
       "      <th>crsp_obj_cd</th>\n",
       "      <th>lipper_class</th>\n",
       "      <th>lipper_class_name</th>\n",
       "      <th>lipper_obj_cd</th>\n",
       "    </tr>\n",
       "  </thead>\n",
       "  <tbody>\n",
       "    <tr>\n",
       "      <th>0</th>\n",
       "      <td>1.0</td>\n",
       "      <td>NaN</td>\n",
       "      <td>AARP Income Trust: AARP Bond Fund for Income</td>\n",
       "      <td>1997-02-01</td>\n",
       "      <td>None</td>\n",
       "      <td>None</td>\n",
       "      <td>1997-12-31</td>\n",
       "      <td>1998-12-30</td>\n",
       "      <td>ICQM</td>\n",
       "      <td>None</td>\n",
       "      <td>None</td>\n",
       "      <td>None</td>\n",
       "    </tr>\n",
       "    <tr>\n",
       "      <th>1</th>\n",
       "      <td>1.0</td>\n",
       "      <td>NaN</td>\n",
       "      <td>AARP Income Trust: AARP Bond Fund for Income</td>\n",
       "      <td>1997-02-01</td>\n",
       "      <td>None</td>\n",
       "      <td>None</td>\n",
       "      <td>1998-12-31</td>\n",
       "      <td>1999-12-30</td>\n",
       "      <td>ICQY</td>\n",
       "      <td>None</td>\n",
       "      <td>None</td>\n",
       "      <td>BBB</td>\n",
       "    </tr>\n",
       "    <tr>\n",
       "      <th>2</th>\n",
       "      <td>1.0</td>\n",
       "      <td>NaN</td>\n",
       "      <td>AARP Income Trust: AARP Bond Fund for Income</td>\n",
       "      <td>1997-02-01</td>\n",
       "      <td>None</td>\n",
       "      <td>None</td>\n",
       "      <td>1999-12-31</td>\n",
       "      <td>2000-07-31</td>\n",
       "      <td>ICQY</td>\n",
       "      <td>BBB</td>\n",
       "      <td>Corporate Debt Funds BBB-Rated</td>\n",
       "      <td>BBB</td>\n",
       "    </tr>\n",
       "    <tr>\n",
       "      <th>3</th>\n",
       "      <td>2.0</td>\n",
       "      <td>NaN</td>\n",
       "      <td>AARP Managed Investment Portfolios Trust: AARP...</td>\n",
       "      <td>1997-02-03</td>\n",
       "      <td>None</td>\n",
       "      <td>None</td>\n",
       "      <td>1997-12-31</td>\n",
       "      <td>1998-12-30</td>\n",
       "      <td>EDYG</td>\n",
       "      <td>None</td>\n",
       "      <td>None</td>\n",
       "      <td>None</td>\n",
       "    </tr>\n",
       "    <tr>\n",
       "      <th>4</th>\n",
       "      <td>2.0</td>\n",
       "      <td>NaN</td>\n",
       "      <td>AARP Managed Investment Portfolios Trust: AARP...</td>\n",
       "      <td>1997-02-03</td>\n",
       "      <td>None</td>\n",
       "      <td>None</td>\n",
       "      <td>1998-12-31</td>\n",
       "      <td>1999-12-30</td>\n",
       "      <td>EDYB</td>\n",
       "      <td>None</td>\n",
       "      <td>None</td>\n",
       "      <td>GI</td>\n",
       "    </tr>\n",
       "  </tbody>\n",
       "</table>\n",
       "</div>"
      ],
      "text/plain": [
       "   crsp_fundno  crsp_portno  \\\n",
       "0          1.0          NaN   \n",
       "1          1.0          NaN   \n",
       "2          1.0          NaN   \n",
       "3          2.0          NaN   \n",
       "4          2.0          NaN   \n",
       "\n",
       "                                           fund_name first_offer_dt  \\\n",
       "0       AARP Income Trust: AARP Bond Fund for Income     1997-02-01   \n",
       "1       AARP Income Trust: AARP Bond Fund for Income     1997-02-01   \n",
       "2       AARP Income Trust: AARP Bond Fund for Income     1997-02-01   \n",
       "3  AARP Managed Investment Portfolios Trust: AARP...     1997-02-03   \n",
       "4  AARP Managed Investment Portfolios Trust: AARP...     1997-02-03   \n",
       "\n",
       "  index_fund_flag et_flag      begdt      enddt crsp_obj_cd lipper_class  \\\n",
       "0            None    None 1997-12-31 1998-12-30        ICQM         None   \n",
       "1            None    None 1998-12-31 1999-12-30        ICQY         None   \n",
       "2            None    None 1999-12-31 2000-07-31        ICQY          BBB   \n",
       "3            None    None 1997-12-31 1998-12-30        EDYG         None   \n",
       "4            None    None 1998-12-31 1999-12-30        EDYB         None   \n",
       "\n",
       "                lipper_class_name lipper_obj_cd  \n",
       "0                            None          None  \n",
       "1                            None           BBB  \n",
       "2  Corporate Debt Funds BBB-Rated           BBB  \n",
       "3                            None          None  \n",
       "4                            None            GI  "
      ]
     },
     "execution_count": 34,
     "metadata": {},
     "output_type": "execute_result"
    }
   ],
   "source": [
    "summary.head()"
   ]
  },
  {
   "cell_type": "code",
   "execution_count": 50,
   "metadata": {},
   "outputs": [],
   "source": [
    "# Implement multiple masks\n",
    "mask_1 = summary['crsp_obj_cd'].isin(selected_obj_codes) # only certain obj_codes\n",
    "# mask_2 = summary['mutual_fund'] == 'Y' # only mutual funds TODO needs to be implemented\n",
    "# (info_df['index_fund_flag'] == 'N') & (info_df['et_flag'] == 'N')\n",
    "\n",
    "# info_df.loc[(info_df['index_fund_flag'] == 'N') & (info_df['et_flag'] == 'N'),'mutual_fund'] = 'Y'\n",
    "# info_df.loc[info_df['mutual_fund'].isna(),'mutual_fund'] = 'N'"
   ]
  },
  {
   "cell_type": "code",
   "execution_count": 37,
   "metadata": {},
   "outputs": [],
   "source": [
    "summary_s = summary.loc[mask_1]"
   ]
  },
  {
   "cell_type": "code",
   "execution_count": 44,
   "metadata": {},
   "outputs": [],
   "source": [
    "summary.drop_duplicates?"
   ]
  },
  {
   "cell_type": "markdown",
   "metadata": {},
   "source": [
    "### Filter returns"
   ]
  },
  {
   "cell_type": "code",
   "execution_count": 45,
   "metadata": {},
   "outputs": [],
   "source": [
    "unique_fundnos = summary_s['crsp_fundno'].drop_duplicates()"
   ]
  },
  {
   "cell_type": "code",
   "execution_count": 48,
   "metadata": {},
   "outputs": [],
   "source": [
    "mask = returns['crsp_fundno'].isin(unique_fundnos)\n",
    "returns_s = returns[mask]"
   ]
  },
  {
   "cell_type": "markdown",
   "metadata": {},
   "source": [
    "### Filter holdings"
   ]
  },
  {
   "cell_type": "code",
   "execution_count": null,
   "metadata": {},
   "outputs": [],
   "source": [
    "train_mask = (info_df['port_no'].isin(list(X_train_s))))\n",
    "\n",
    "info_train = info_df[train_mask]\n",
    "info_test = info_df[test_mask]\n",
    "\n",
    "sparse_matrix_train = sparse_matrix_ss[train_mask.values,:]\n",
    "sparse_matrix_test = sparse_matrix_ss[test_mask.values,:]"
   ]
  },
  {
   "cell_type": "markdown",
   "metadata": {},
   "source": [
    "### Packages"
   ]
  },
  {
   "cell_type": "code",
   "execution_count": 41,
   "metadata": {},
   "outputs": [],
   "source": [
    "test = load_data('TEST_DF')"
   ]
  },
  {
   "cell_type": "code",
   "execution_count": 40,
   "metadata": {},
   "outputs": [],
   "source": [
    "save_data(test,'TEST_DF')"
   ]
  },
  {
   "cell_type": "code",
   "execution_count": null,
   "metadata": {},
   "outputs": [],
   "source": [
    "path = '../data/final/info_train.feather'\n",
    "info_train = feather.read_dataframe(path)\n",
    "\n",
    "path = '../data/final/info_test.feather'\n",
    "info_test = feather.read_dataframe(path)\n",
    "\n",
    "path = '../data/final/sparse_matrix_train.npz'\n",
    "sparse_matrix_train = sparse.load_npz(path)\n",
    "\n",
    "path = '../data/final/sparse_matrix_test.npz'\n",
    "sparse_matrix_test = sparse.load_npz(path)\n",
    "\n",
    "X_train = sparse_matrix_train\n",
    "X_test = sparse_matrix_test"
   ]
  },
  {
   "cell_type": "code",
   "execution_count": 4,
   "metadata": {},
   "outputs": [
    {
     "name": "stdout",
     "output_type": "stream",
     "text": [
      "Rows training: \n",
      "33,976 rows info\n",
      "33,976 rows data\n",
      "\n",
      "Rows testing: \n",
      "15,993 rows info\n",
      "15,993 rows data\n",
      "\n",
      "Total rows: 49,969\n"
     ]
    }
   ],
   "source": [
    "y_train = list(info_train['s_crsp_obj_cd'])\n",
    "y_test = list(info_test['s_crsp_obj_cd'])\n",
    "\n",
    "data_train = np.array(X_train.sum(1)).flatten()\n",
    "data_test = np.array(X_test.sum(1)).flatten()\n",
    "\n",
    "TOL = 300\n",
    "\n",
    "index_train = np.abs(data_train) < TOL\n",
    "index_test = np.abs(data_test) < TOL\n",
    "\n",
    "X_train = X_train[index_train.T]\n",
    "X_test = X_test[index_test.T]\n",
    "\n",
    "y_train = list(d for d, s in zip(y_train, index_train) if s)\n",
    "y_test = list(d for d, s in zip(y_test, index_test) if s)\n",
    "\n",
    "info_train = info_train[index_train.T]\n",
    "info_test = info_test[index_test.T]\n",
    "\n",
    "X_total = sparse.vstack((X_train,X_test))\n",
    "y_total = y_train + y_test\n",
    "\n",
    "groups = info_train.groupby(['port_no']).ngroup()\n",
    "\n",
    "print('Rows training: \\n{:,} rows info\\n{:,} rows data'.format(len(y_train),X_train.shape[0]))\n",
    "print('')\n",
    "print('Rows testing: \\n{:,} rows info\\n{:,} rows data'.format(len(y_test),X_test.shape[0]))\n",
    "print('')\n",
    "print('Total rows: {:,}'.format(X_train.shape[0] + X_test.shape[0]))"
   ]
  },
  {
   "cell_type": "code",
   "execution_count": null,
   "metadata": {},
   "outputs": [],
   "source": []
  }
 ],
 "metadata": {
  "kernelspec": {
   "display_name": "Python 3",
   "language": "python",
   "name": "python3"
  },
  "language_info": {
   "codemirror_mode": {
    "name": "ipython",
    "version": 3
   },
   "file_extension": ".py",
   "mimetype": "text/x-python",
   "name": "python",
   "nbconvert_exporter": "python",
   "pygments_lexer": "ipython3",
   "version": "3.7.1"
  }
 },
 "nbformat": 4,
 "nbformat_minor": 2
}
